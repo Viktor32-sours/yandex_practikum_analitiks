{
 "cells": [
  {
   "cell_type": "markdown",
   "id": "3df2512c",
   "metadata": {},
   "source": [
    "# Описание проекта"
   ]
  },
  {
   "cell_type": "markdown",
   "id": "62fd8305",
   "metadata": {},
   "source": [
    "Клиентам компании «Мегалайн» предлагают два тарифных плана: «Смарт» и «Ультра». Чтобы скорректировать рекламный бюджет, коммерческий департамент хочет понять, какой тариф приносит больше денег.\n",
    "\n",
    "В исследовании предстоит сделать предварительный анализ тарифов на небольшой выборке клиентов. В нашем распоряжении данные 500 пользователей «Мегалайна»: кто они, откуда, каким тарифом пользуются, сколько звонков и сообщений каждый отправил за 2018 год. Нужно проанализировать поведение клиентов и сделать вывод — какой тариф лучше, т.е. приносит больше прибыли.\n",
    "\n",
    "**Описание тарифов**\n",
    "- Тариф «Смарт»\n",
    "  - Ежемесячная плата: 550 рублей\n",
    "  - Включено 500 минут разговора, 50 сообщений и 15 Гб интернет-трафика\n",
    "  - Стоимость услуг сверх тарифного пакета:\n",
    "  - минута разговора: 3 рубля\n",
    "  - сообщение: 3 рубля\n",
    "  - 1 Гб интернет-трафика: 200 рублей\n",
    "\n",
    "- Тариф «Ультра»\n",
    "  - Ежемесячная плата: 1950 рублей\n",
    "  - Включено 3000 минут разговора, 1000 сообщений и 30 Гб интернет-трафика\n",
    "  - Стоимость услуг сверх тарифного пакета:\n",
    "  - минута разговора: 1 рубль\n",
    "  - сообщение: 1 рубль\n",
    "  - 1 Гб интернет-трафика: 150 рублей\n",
    "\n",
    "**Примечание:**\n",
    "\n",
    "«Мегалайн» всегда округляет секунды до минут, а мегабайты — до гигабайт. Каждый звонок округляется отдельно: даже если он длился всего 1 секунду, будет засчитан как 1 минута.\n",
    "Для веб-трафика отдельные сессии не считаются. Вместо этого общая сумма за месяц округляется в бо́льшую сторону. Если абонент использует 1025 мегабайт в этом месяце, с него возьмут плату за 2 гигабайта."
   ]
  },
  {
   "cell_type": "markdown",
   "id": "2e1d11a2",
   "metadata": {},
   "source": [
    "## Загрузка файлов с данными и изучение общей информации"
   ]
  },
  {
   "cell_type": "markdown",
   "id": "e7361f2d",
   "metadata": {},
   "source": [
    "### Импорт необходимых библиотек"
   ]
  },
  {
   "cell_type": "code",
   "execution_count": 1,
   "id": "87ab0442",
   "metadata": {},
   "outputs": [],
   "source": [
    "import pandas as pd\n",
    "import numpy as np\n",
    "import matplotlib.pyplot as plt\n",
    "from scipy import stats as st\n",
    "import os\n",
    "from IPython.display import display"
   ]
  },
  {
   "cell_type": "markdown",
   "id": "b54ec8d9",
   "metadata": {},
   "source": [
    "### Загрузка данных"
   ]
  },
  {
   "cell_type": "code",
   "execution_count": 2,
   "id": "89dad8f1",
   "metadata": {},
   "outputs": [],
   "source": [
    "if os.path.exists('datasets/calls.csv'):\n",
    "    calls = pd.read_csv('datasets/calls.csv')\n",
    "    internet = pd.read_csv('datasets/internet.csv')\n",
    "    messages = pd.read_csv('datasets/messages.csv')\n",
    "    tariffs = pd.read_csv('datasets/tariffs.csv')\n",
    "    users = pd.read_csv('datasets/users.csv')\n",
    "\n",
    "else:\n",
    "    calls = pd.read_csv('/datasets/calls.csv')\n",
    "    internet = pd.read_csv('/datasets/internet.csv')\n",
    "    messages = pd.read_csv('/datasets/messages.csv')\n",
    "    tariffs = pd.read_csv('/datasets/tariffs.csv')\n",
    "    users = pd.read_csv('/datasets/users.csv')\n",
    "    "
   ]
  },
  {
   "cell_type": "markdown",
   "id": "9864b657",
   "metadata": {},
   "source": [
    "### Общая информация `calls`\n",
    "\n",
    "Таблица calls (информация о звонках):\n",
    "- id — уникальный номер звонка\n",
    "- call_date — дата звонка\n",
    "- duration — длительность звонка в минутах\n",
    "- user_id — идентификатор пользователя, сделавшего звонок"
   ]
  },
  {
   "cell_type": "markdown",
   "id": "6cfcd64f",
   "metadata": {},
   "source": [
    "Для упрощения вывода общей информации напишем функцию"
   ]
  },
  {
   "cell_type": "code",
   "execution_count": 3,
   "id": "704b5614",
   "metadata": {},
   "outputs": [],
   "source": [
    "def show_info(table):\n",
    "    display(table.head())\n",
    "    display(table.describe())\n",
    "    print(table.info())"
   ]
  },
  {
   "cell_type": "code",
   "execution_count": 4,
   "id": "c21c1049",
   "metadata": {},
   "outputs": [
    {
     "data": {
      "text/html": [
       "<div>\n",
       "<style scoped>\n",
       "    .dataframe tbody tr th:only-of-type {\n",
       "        vertical-align: middle;\n",
       "    }\n",
       "\n",
       "    .dataframe tbody tr th {\n",
       "        vertical-align: top;\n",
       "    }\n",
       "\n",
       "    .dataframe thead th {\n",
       "        text-align: right;\n",
       "    }\n",
       "</style>\n",
       "<table border=\"1\" class=\"dataframe\">\n",
       "  <thead>\n",
       "    <tr style=\"text-align: right;\">\n",
       "      <th></th>\n",
       "      <th>id</th>\n",
       "      <th>call_date</th>\n",
       "      <th>duration</th>\n",
       "      <th>user_id</th>\n",
       "    </tr>\n",
       "  </thead>\n",
       "  <tbody>\n",
       "    <tr>\n",
       "      <th>0</th>\n",
       "      <td>1000_0</td>\n",
       "      <td>2018-07-25</td>\n",
       "      <td>0.00</td>\n",
       "      <td>1000</td>\n",
       "    </tr>\n",
       "    <tr>\n",
       "      <th>1</th>\n",
       "      <td>1000_1</td>\n",
       "      <td>2018-08-17</td>\n",
       "      <td>0.00</td>\n",
       "      <td>1000</td>\n",
       "    </tr>\n",
       "    <tr>\n",
       "      <th>2</th>\n",
       "      <td>1000_2</td>\n",
       "      <td>2018-06-11</td>\n",
       "      <td>2.85</td>\n",
       "      <td>1000</td>\n",
       "    </tr>\n",
       "    <tr>\n",
       "      <th>3</th>\n",
       "      <td>1000_3</td>\n",
       "      <td>2018-09-21</td>\n",
       "      <td>13.80</td>\n",
       "      <td>1000</td>\n",
       "    </tr>\n",
       "    <tr>\n",
       "      <th>4</th>\n",
       "      <td>1000_4</td>\n",
       "      <td>2018-12-15</td>\n",
       "      <td>5.18</td>\n",
       "      <td>1000</td>\n",
       "    </tr>\n",
       "  </tbody>\n",
       "</table>\n",
       "</div>"
      ],
      "text/plain": [
       "       id   call_date  duration  user_id\n",
       "0  1000_0  2018-07-25      0.00     1000\n",
       "1  1000_1  2018-08-17      0.00     1000\n",
       "2  1000_2  2018-06-11      2.85     1000\n",
       "3  1000_3  2018-09-21     13.80     1000\n",
       "4  1000_4  2018-12-15      5.18     1000"
      ]
     },
     "metadata": {},
     "output_type": "display_data"
    },
    {
     "data": {
      "text/html": [
       "<div>\n",
       "<style scoped>\n",
       "    .dataframe tbody tr th:only-of-type {\n",
       "        vertical-align: middle;\n",
       "    }\n",
       "\n",
       "    .dataframe tbody tr th {\n",
       "        vertical-align: top;\n",
       "    }\n",
       "\n",
       "    .dataframe thead th {\n",
       "        text-align: right;\n",
       "    }\n",
       "</style>\n",
       "<table border=\"1\" class=\"dataframe\">\n",
       "  <thead>\n",
       "    <tr style=\"text-align: right;\">\n",
       "      <th></th>\n",
       "      <th>duration</th>\n",
       "      <th>user_id</th>\n",
       "    </tr>\n",
       "  </thead>\n",
       "  <tbody>\n",
       "    <tr>\n",
       "      <th>count</th>\n",
       "      <td>202607.000000</td>\n",
       "      <td>202607.000000</td>\n",
       "    </tr>\n",
       "    <tr>\n",
       "      <th>mean</th>\n",
       "      <td>6.755887</td>\n",
       "      <td>1253.940619</td>\n",
       "    </tr>\n",
       "    <tr>\n",
       "      <th>std</th>\n",
       "      <td>5.843365</td>\n",
       "      <td>144.722751</td>\n",
       "    </tr>\n",
       "    <tr>\n",
       "      <th>min</th>\n",
       "      <td>0.000000</td>\n",
       "      <td>1000.000000</td>\n",
       "    </tr>\n",
       "    <tr>\n",
       "      <th>25%</th>\n",
       "      <td>1.300000</td>\n",
       "      <td>1126.000000</td>\n",
       "    </tr>\n",
       "    <tr>\n",
       "      <th>50%</th>\n",
       "      <td>6.000000</td>\n",
       "      <td>1260.000000</td>\n",
       "    </tr>\n",
       "    <tr>\n",
       "      <th>75%</th>\n",
       "      <td>10.700000</td>\n",
       "      <td>1379.000000</td>\n",
       "    </tr>\n",
       "    <tr>\n",
       "      <th>max</th>\n",
       "      <td>38.000000</td>\n",
       "      <td>1499.000000</td>\n",
       "    </tr>\n",
       "  </tbody>\n",
       "</table>\n",
       "</div>"
      ],
      "text/plain": [
       "            duration        user_id\n",
       "count  202607.000000  202607.000000\n",
       "mean        6.755887    1253.940619\n",
       "std         5.843365     144.722751\n",
       "min         0.000000    1000.000000\n",
       "25%         1.300000    1126.000000\n",
       "50%         6.000000    1260.000000\n",
       "75%        10.700000    1379.000000\n",
       "max        38.000000    1499.000000"
      ]
     },
     "metadata": {},
     "output_type": "display_data"
    },
    {
     "name": "stdout",
     "output_type": "stream",
     "text": [
      "<class 'pandas.core.frame.DataFrame'>\n",
      "RangeIndex: 202607 entries, 0 to 202606\n",
      "Data columns (total 4 columns):\n",
      " #   Column     Non-Null Count   Dtype  \n",
      "---  ------     --------------   -----  \n",
      " 0   id         202607 non-null  object \n",
      " 1   call_date  202607 non-null  object \n",
      " 2   duration   202607 non-null  float64\n",
      " 3   user_id    202607 non-null  int64  \n",
      "dtypes: float64(1), int64(1), object(2)\n",
      "memory usage: 6.2+ MB\n",
      "None\n"
     ]
    }
   ],
   "source": [
    "show_info(calls)"
   ]
  },
  {
   "cell_type": "markdown",
   "id": "e1e792a5",
   "metadata": {},
   "source": [
    "Вывод: пропущенных данных нет, расброс значений `duration`(0...38) и `user_id`(1000...1499)  не выходит за рамки разумных, формат столбца `call_date` необходимо будет привести к *datatime*, столбец `id` переименовать в `calls_id`."
   ]
  },
  {
   "cell_type": "markdown",
   "id": "87aac2db",
   "metadata": {},
   "source": [
    "### Общая информация `internet`\n",
    "\n",
    "Таблица internet (информация об интернет-сессиях):\n",
    "- id — уникальный номер сессии\n",
    "- mb_used — объём потраченного за сессию интернет-трафика (в мегабайтах)\n",
    "- session_date — дата интернет-сессии\n",
    "- user_id — идентификатор пользователя"
   ]
  },
  {
   "cell_type": "code",
   "execution_count": 5,
   "id": "1c3682bb",
   "metadata": {},
   "outputs": [
    {
     "data": {
      "text/html": [
       "<div>\n",
       "<style scoped>\n",
       "    .dataframe tbody tr th:only-of-type {\n",
       "        vertical-align: middle;\n",
       "    }\n",
       "\n",
       "    .dataframe tbody tr th {\n",
       "        vertical-align: top;\n",
       "    }\n",
       "\n",
       "    .dataframe thead th {\n",
       "        text-align: right;\n",
       "    }\n",
       "</style>\n",
       "<table border=\"1\" class=\"dataframe\">\n",
       "  <thead>\n",
       "    <tr style=\"text-align: right;\">\n",
       "      <th></th>\n",
       "      <th>Unnamed: 0</th>\n",
       "      <th>id</th>\n",
       "      <th>mb_used</th>\n",
       "      <th>session_date</th>\n",
       "      <th>user_id</th>\n",
       "    </tr>\n",
       "  </thead>\n",
       "  <tbody>\n",
       "    <tr>\n",
       "      <th>0</th>\n",
       "      <td>0</td>\n",
       "      <td>1000_0</td>\n",
       "      <td>112.95</td>\n",
       "      <td>2018-11-25</td>\n",
       "      <td>1000</td>\n",
       "    </tr>\n",
       "    <tr>\n",
       "      <th>1</th>\n",
       "      <td>1</td>\n",
       "      <td>1000_1</td>\n",
       "      <td>1052.81</td>\n",
       "      <td>2018-09-07</td>\n",
       "      <td>1000</td>\n",
       "    </tr>\n",
       "    <tr>\n",
       "      <th>2</th>\n",
       "      <td>2</td>\n",
       "      <td>1000_2</td>\n",
       "      <td>1197.26</td>\n",
       "      <td>2018-06-25</td>\n",
       "      <td>1000</td>\n",
       "    </tr>\n",
       "    <tr>\n",
       "      <th>3</th>\n",
       "      <td>3</td>\n",
       "      <td>1000_3</td>\n",
       "      <td>550.27</td>\n",
       "      <td>2018-08-22</td>\n",
       "      <td>1000</td>\n",
       "    </tr>\n",
       "    <tr>\n",
       "      <th>4</th>\n",
       "      <td>4</td>\n",
       "      <td>1000_4</td>\n",
       "      <td>302.56</td>\n",
       "      <td>2018-09-24</td>\n",
       "      <td>1000</td>\n",
       "    </tr>\n",
       "  </tbody>\n",
       "</table>\n",
       "</div>"
      ],
      "text/plain": [
       "   Unnamed: 0      id  mb_used session_date  user_id\n",
       "0           0  1000_0   112.95   2018-11-25     1000\n",
       "1           1  1000_1  1052.81   2018-09-07     1000\n",
       "2           2  1000_2  1197.26   2018-06-25     1000\n",
       "3           3  1000_3   550.27   2018-08-22     1000\n",
       "4           4  1000_4   302.56   2018-09-24     1000"
      ]
     },
     "metadata": {},
     "output_type": "display_data"
    },
    {
     "data": {
      "text/html": [
       "<div>\n",
       "<style scoped>\n",
       "    .dataframe tbody tr th:only-of-type {\n",
       "        vertical-align: middle;\n",
       "    }\n",
       "\n",
       "    .dataframe tbody tr th {\n",
       "        vertical-align: top;\n",
       "    }\n",
       "\n",
       "    .dataframe thead th {\n",
       "        text-align: right;\n",
       "    }\n",
       "</style>\n",
       "<table border=\"1\" class=\"dataframe\">\n",
       "  <thead>\n",
       "    <tr style=\"text-align: right;\">\n",
       "      <th></th>\n",
       "      <th>Unnamed: 0</th>\n",
       "      <th>mb_used</th>\n",
       "      <th>user_id</th>\n",
       "    </tr>\n",
       "  </thead>\n",
       "  <tbody>\n",
       "    <tr>\n",
       "      <th>count</th>\n",
       "      <td>149396.000000</td>\n",
       "      <td>149396.000000</td>\n",
       "      <td>149396.000000</td>\n",
       "    </tr>\n",
       "    <tr>\n",
       "      <th>mean</th>\n",
       "      <td>74697.500000</td>\n",
       "      <td>370.192426</td>\n",
       "      <td>1252.099842</td>\n",
       "    </tr>\n",
       "    <tr>\n",
       "      <th>std</th>\n",
       "      <td>43127.054745</td>\n",
       "      <td>278.300951</td>\n",
       "      <td>144.050823</td>\n",
       "    </tr>\n",
       "    <tr>\n",
       "      <th>min</th>\n",
       "      <td>0.000000</td>\n",
       "      <td>0.000000</td>\n",
       "      <td>1000.000000</td>\n",
       "    </tr>\n",
       "    <tr>\n",
       "      <th>25%</th>\n",
       "      <td>37348.750000</td>\n",
       "      <td>138.187500</td>\n",
       "      <td>1130.000000</td>\n",
       "    </tr>\n",
       "    <tr>\n",
       "      <th>50%</th>\n",
       "      <td>74697.500000</td>\n",
       "      <td>348.015000</td>\n",
       "      <td>1251.000000</td>\n",
       "    </tr>\n",
       "    <tr>\n",
       "      <th>75%</th>\n",
       "      <td>112046.250000</td>\n",
       "      <td>559.552500</td>\n",
       "      <td>1380.000000</td>\n",
       "    </tr>\n",
       "    <tr>\n",
       "      <th>max</th>\n",
       "      <td>149395.000000</td>\n",
       "      <td>1724.830000</td>\n",
       "      <td>1499.000000</td>\n",
       "    </tr>\n",
       "  </tbody>\n",
       "</table>\n",
       "</div>"
      ],
      "text/plain": [
       "          Unnamed: 0        mb_used        user_id\n",
       "count  149396.000000  149396.000000  149396.000000\n",
       "mean    74697.500000     370.192426    1252.099842\n",
       "std     43127.054745     278.300951     144.050823\n",
       "min         0.000000       0.000000    1000.000000\n",
       "25%     37348.750000     138.187500    1130.000000\n",
       "50%     74697.500000     348.015000    1251.000000\n",
       "75%    112046.250000     559.552500    1380.000000\n",
       "max    149395.000000    1724.830000    1499.000000"
      ]
     },
     "metadata": {},
     "output_type": "display_data"
    },
    {
     "name": "stdout",
     "output_type": "stream",
     "text": [
      "<class 'pandas.core.frame.DataFrame'>\n",
      "RangeIndex: 149396 entries, 0 to 149395\n",
      "Data columns (total 5 columns):\n",
      " #   Column        Non-Null Count   Dtype  \n",
      "---  ------        --------------   -----  \n",
      " 0   Unnamed: 0    149396 non-null  int64  \n",
      " 1   id            149396 non-null  object \n",
      " 2   mb_used       149396 non-null  float64\n",
      " 3   session_date  149396 non-null  object \n",
      " 4   user_id       149396 non-null  int64  \n",
      "dtypes: float64(1), int64(2), object(2)\n",
      "memory usage: 5.7+ MB\n",
      "None\n"
     ]
    }
   ],
   "source": [
    "show_info(internet)"
   ]
  },
  {
   "cell_type": "markdown",
   "id": "78091fcb",
   "metadata": {},
   "source": [
    "Вывод: пропущенных данных нет, расброс значений `mb_used`(0...1724) и `user_id`(1000...1499)  не выходит за рамки разумных, формат столбца `session_date` необходимо будет привести к *datatime*, столбец `Unnamed: 0` нужно удалить, как неинформативный, столбец `id` переименовать в `internet_id`."
   ]
  },
  {
   "cell_type": "markdown",
   "id": "6e160cb3",
   "metadata": {},
   "source": [
    "### Общая информация `messages`\n",
    "\n",
    "Таблица messages (информация о сообщениях):\n",
    "- id — уникальный номер сообщения\n",
    "- message_date — дата сообщения\n",
    "- user_id — идентификатор пользователя, отправившего сообщение"
   ]
  },
  {
   "cell_type": "code",
   "execution_count": 6,
   "id": "f7b4ec82",
   "metadata": {},
   "outputs": [
    {
     "data": {
      "text/html": [
       "<div>\n",
       "<style scoped>\n",
       "    .dataframe tbody tr th:only-of-type {\n",
       "        vertical-align: middle;\n",
       "    }\n",
       "\n",
       "    .dataframe tbody tr th {\n",
       "        vertical-align: top;\n",
       "    }\n",
       "\n",
       "    .dataframe thead th {\n",
       "        text-align: right;\n",
       "    }\n",
       "</style>\n",
       "<table border=\"1\" class=\"dataframe\">\n",
       "  <thead>\n",
       "    <tr style=\"text-align: right;\">\n",
       "      <th></th>\n",
       "      <th>id</th>\n",
       "      <th>message_date</th>\n",
       "      <th>user_id</th>\n",
       "    </tr>\n",
       "  </thead>\n",
       "  <tbody>\n",
       "    <tr>\n",
       "      <th>0</th>\n",
       "      <td>1000_0</td>\n",
       "      <td>2018-06-27</td>\n",
       "      <td>1000</td>\n",
       "    </tr>\n",
       "    <tr>\n",
       "      <th>1</th>\n",
       "      <td>1000_1</td>\n",
       "      <td>2018-10-08</td>\n",
       "      <td>1000</td>\n",
       "    </tr>\n",
       "    <tr>\n",
       "      <th>2</th>\n",
       "      <td>1000_2</td>\n",
       "      <td>2018-08-04</td>\n",
       "      <td>1000</td>\n",
       "    </tr>\n",
       "    <tr>\n",
       "      <th>3</th>\n",
       "      <td>1000_3</td>\n",
       "      <td>2018-06-16</td>\n",
       "      <td>1000</td>\n",
       "    </tr>\n",
       "    <tr>\n",
       "      <th>4</th>\n",
       "      <td>1000_4</td>\n",
       "      <td>2018-12-05</td>\n",
       "      <td>1000</td>\n",
       "    </tr>\n",
       "  </tbody>\n",
       "</table>\n",
       "</div>"
      ],
      "text/plain": [
       "       id message_date  user_id\n",
       "0  1000_0   2018-06-27     1000\n",
       "1  1000_1   2018-10-08     1000\n",
       "2  1000_2   2018-08-04     1000\n",
       "3  1000_3   2018-06-16     1000\n",
       "4  1000_4   2018-12-05     1000"
      ]
     },
     "metadata": {},
     "output_type": "display_data"
    },
    {
     "data": {
      "text/html": [
       "<div>\n",
       "<style scoped>\n",
       "    .dataframe tbody tr th:only-of-type {\n",
       "        vertical-align: middle;\n",
       "    }\n",
       "\n",
       "    .dataframe tbody tr th {\n",
       "        vertical-align: top;\n",
       "    }\n",
       "\n",
       "    .dataframe thead th {\n",
       "        text-align: right;\n",
       "    }\n",
       "</style>\n",
       "<table border=\"1\" class=\"dataframe\">\n",
       "  <thead>\n",
       "    <tr style=\"text-align: right;\">\n",
       "      <th></th>\n",
       "      <th>user_id</th>\n",
       "    </tr>\n",
       "  </thead>\n",
       "  <tbody>\n",
       "    <tr>\n",
       "      <th>count</th>\n",
       "      <td>123036.000000</td>\n",
       "    </tr>\n",
       "    <tr>\n",
       "      <th>mean</th>\n",
       "      <td>1256.989410</td>\n",
       "    </tr>\n",
       "    <tr>\n",
       "      <th>std</th>\n",
       "      <td>143.523967</td>\n",
       "    </tr>\n",
       "    <tr>\n",
       "      <th>min</th>\n",
       "      <td>1000.000000</td>\n",
       "    </tr>\n",
       "    <tr>\n",
       "      <th>25%</th>\n",
       "      <td>1134.000000</td>\n",
       "    </tr>\n",
       "    <tr>\n",
       "      <th>50%</th>\n",
       "      <td>1271.000000</td>\n",
       "    </tr>\n",
       "    <tr>\n",
       "      <th>75%</th>\n",
       "      <td>1381.000000</td>\n",
       "    </tr>\n",
       "    <tr>\n",
       "      <th>max</th>\n",
       "      <td>1499.000000</td>\n",
       "    </tr>\n",
       "  </tbody>\n",
       "</table>\n",
       "</div>"
      ],
      "text/plain": [
       "             user_id\n",
       "count  123036.000000\n",
       "mean     1256.989410\n",
       "std       143.523967\n",
       "min      1000.000000\n",
       "25%      1134.000000\n",
       "50%      1271.000000\n",
       "75%      1381.000000\n",
       "max      1499.000000"
      ]
     },
     "metadata": {},
     "output_type": "display_data"
    },
    {
     "name": "stdout",
     "output_type": "stream",
     "text": [
      "<class 'pandas.core.frame.DataFrame'>\n",
      "RangeIndex: 123036 entries, 0 to 123035\n",
      "Data columns (total 3 columns):\n",
      " #   Column        Non-Null Count   Dtype \n",
      "---  ------        --------------   ----- \n",
      " 0   id            123036 non-null  object\n",
      " 1   message_date  123036 non-null  object\n",
      " 2   user_id       123036 non-null  int64 \n",
      "dtypes: int64(1), object(2)\n",
      "memory usage: 2.8+ MB\n",
      "None\n"
     ]
    }
   ],
   "source": [
    "show_info(messages)"
   ]
  },
  {
   "cell_type": "markdown",
   "id": "8e75542c",
   "metadata": {},
   "source": [
    "Вывод: пропусков не обнаружено, формат столбца `message_date` необходимо будет привести к *datatime*, столбец `id` переименовать в `message_id`."
   ]
  },
  {
   "cell_type": "markdown",
   "id": "e0eb2510",
   "metadata": {},
   "source": [
    "### Общая информация `tariffs`\n",
    "\n",
    "Таблица tariffs (информация о тарифах):\n",
    "- tariff_name — название тарифа\n",
    "- rub_monthly_fee — ежемесячная абонентская плата в рублях\n",
    "- minutes_included — количество минут разговора в месяц, включённых в абонентскую плату\n",
    "- messages_included — количество сообщений в месяц, включённых в абонентскую плату\n",
    "- mb_per_month_included — объём интернет-трафика, включённого в абонентскую плату (в мегабайтах)\n",
    "- rub_per_minute — стоимость минуты разговора сверх тарифного пакета (например, если в тарифе 100 минут разговора - в месяц, то со 101 минуты будет взиматься плата)\n",
    "- rub_per_message — стоимость отправки сообщения сверх тарифного пакета\n",
    "- rub_per_gb — стоимость дополнительного гигабайта интернет-трафика сверх тарифного пакета (1 гигабайт = 1024 мегабайта)"
   ]
  },
  {
   "cell_type": "code",
   "execution_count": 7,
   "id": "9dfa5867",
   "metadata": {},
   "outputs": [
    {
     "data": {
      "text/html": [
       "<div>\n",
       "<style scoped>\n",
       "    .dataframe tbody tr th:only-of-type {\n",
       "        vertical-align: middle;\n",
       "    }\n",
       "\n",
       "    .dataframe tbody tr th {\n",
       "        vertical-align: top;\n",
       "    }\n",
       "\n",
       "    .dataframe thead th {\n",
       "        text-align: right;\n",
       "    }\n",
       "</style>\n",
       "<table border=\"1\" class=\"dataframe\">\n",
       "  <thead>\n",
       "    <tr style=\"text-align: right;\">\n",
       "      <th></th>\n",
       "      <th>messages_included</th>\n",
       "      <th>mb_per_month_included</th>\n",
       "      <th>minutes_included</th>\n",
       "      <th>rub_monthly_fee</th>\n",
       "      <th>rub_per_gb</th>\n",
       "      <th>rub_per_message</th>\n",
       "      <th>rub_per_minute</th>\n",
       "      <th>tariff_name</th>\n",
       "    </tr>\n",
       "  </thead>\n",
       "  <tbody>\n",
       "    <tr>\n",
       "      <th>0</th>\n",
       "      <td>50</td>\n",
       "      <td>15360</td>\n",
       "      <td>500</td>\n",
       "      <td>550</td>\n",
       "      <td>200</td>\n",
       "      <td>3</td>\n",
       "      <td>3</td>\n",
       "      <td>smart</td>\n",
       "    </tr>\n",
       "    <tr>\n",
       "      <th>1</th>\n",
       "      <td>1000</td>\n",
       "      <td>30720</td>\n",
       "      <td>3000</td>\n",
       "      <td>1950</td>\n",
       "      <td>150</td>\n",
       "      <td>1</td>\n",
       "      <td>1</td>\n",
       "      <td>ultra</td>\n",
       "    </tr>\n",
       "  </tbody>\n",
       "</table>\n",
       "</div>"
      ],
      "text/plain": [
       "   messages_included  mb_per_month_included  minutes_included  \\\n",
       "0                 50                  15360               500   \n",
       "1               1000                  30720              3000   \n",
       "\n",
       "   rub_monthly_fee  rub_per_gb  rub_per_message  rub_per_minute tariff_name  \n",
       "0              550         200                3               3       smart  \n",
       "1             1950         150                1               1       ultra  "
      ]
     },
     "execution_count": 7,
     "metadata": {},
     "output_type": "execute_result"
    }
   ],
   "source": [
    "tariffs.head()"
   ]
  },
  {
   "cell_type": "markdown",
   "id": "213b2457",
   "metadata": {},
   "source": [
    "Вывод: таблица несет чисто информационный характер."
   ]
  },
  {
   "cell_type": "markdown",
   "id": "656dbe77",
   "metadata": {},
   "source": [
    "### Общая информация `users`\n",
    "\n",
    "Таблица users (информация о пользователях):\n",
    "- user_id — уникальный идентификатор пользователя\n",
    "- first_name — имя пользователя\n",
    "- last_name — фамилия пользователя\n",
    "- age — возраст пользователя (годы)\n",
    "- reg_date — дата подключения тарифа (день, месяц, год)\n",
    "- churn_date — дата прекращения пользования тарифом (если значение пропущено, то тариф ещё действовал на момент выгрузки данных)\n",
    "- city — город проживания пользователя\n",
    "- tariff — название тарифного плана"
   ]
  },
  {
   "cell_type": "code",
   "execution_count": 8,
   "id": "f88a2e28",
   "metadata": {
    "scrolled": false
   },
   "outputs": [
    {
     "data": {
      "text/html": [
       "<div>\n",
       "<style scoped>\n",
       "    .dataframe tbody tr th:only-of-type {\n",
       "        vertical-align: middle;\n",
       "    }\n",
       "\n",
       "    .dataframe tbody tr th {\n",
       "        vertical-align: top;\n",
       "    }\n",
       "\n",
       "    .dataframe thead th {\n",
       "        text-align: right;\n",
       "    }\n",
       "</style>\n",
       "<table border=\"1\" class=\"dataframe\">\n",
       "  <thead>\n",
       "    <tr style=\"text-align: right;\">\n",
       "      <th></th>\n",
       "      <th>user_id</th>\n",
       "      <th>age</th>\n",
       "      <th>churn_date</th>\n",
       "      <th>city</th>\n",
       "      <th>first_name</th>\n",
       "      <th>last_name</th>\n",
       "      <th>reg_date</th>\n",
       "      <th>tariff</th>\n",
       "    </tr>\n",
       "  </thead>\n",
       "  <tbody>\n",
       "    <tr>\n",
       "      <th>0</th>\n",
       "      <td>1000</td>\n",
       "      <td>52</td>\n",
       "      <td>NaN</td>\n",
       "      <td>Краснодар</td>\n",
       "      <td>Рафаил</td>\n",
       "      <td>Верещагин</td>\n",
       "      <td>2018-05-25</td>\n",
       "      <td>ultra</td>\n",
       "    </tr>\n",
       "    <tr>\n",
       "      <th>1</th>\n",
       "      <td>1001</td>\n",
       "      <td>41</td>\n",
       "      <td>NaN</td>\n",
       "      <td>Москва</td>\n",
       "      <td>Иван</td>\n",
       "      <td>Ежов</td>\n",
       "      <td>2018-11-01</td>\n",
       "      <td>smart</td>\n",
       "    </tr>\n",
       "    <tr>\n",
       "      <th>2</th>\n",
       "      <td>1002</td>\n",
       "      <td>59</td>\n",
       "      <td>NaN</td>\n",
       "      <td>Стерлитамак</td>\n",
       "      <td>Евгений</td>\n",
       "      <td>Абрамович</td>\n",
       "      <td>2018-06-17</td>\n",
       "      <td>smart</td>\n",
       "    </tr>\n",
       "    <tr>\n",
       "      <th>3</th>\n",
       "      <td>1003</td>\n",
       "      <td>23</td>\n",
       "      <td>NaN</td>\n",
       "      <td>Москва</td>\n",
       "      <td>Белла</td>\n",
       "      <td>Белякова</td>\n",
       "      <td>2018-08-17</td>\n",
       "      <td>ultra</td>\n",
       "    </tr>\n",
       "    <tr>\n",
       "      <th>4</th>\n",
       "      <td>1004</td>\n",
       "      <td>68</td>\n",
       "      <td>NaN</td>\n",
       "      <td>Новокузнецк</td>\n",
       "      <td>Татьяна</td>\n",
       "      <td>Авдеенко</td>\n",
       "      <td>2018-05-14</td>\n",
       "      <td>ultra</td>\n",
       "    </tr>\n",
       "  </tbody>\n",
       "</table>\n",
       "</div>"
      ],
      "text/plain": [
       "   user_id  age churn_date         city first_name  last_name    reg_date  \\\n",
       "0     1000   52        NaN    Краснодар     Рафаил  Верещагин  2018-05-25   \n",
       "1     1001   41        NaN       Москва       Иван       Ежов  2018-11-01   \n",
       "2     1002   59        NaN  Стерлитамак    Евгений  Абрамович  2018-06-17   \n",
       "3     1003   23        NaN       Москва      Белла   Белякова  2018-08-17   \n",
       "4     1004   68        NaN  Новокузнецк    Татьяна   Авдеенко  2018-05-14   \n",
       "\n",
       "  tariff  \n",
       "0  ultra  \n",
       "1  smart  \n",
       "2  smart  \n",
       "3  ultra  \n",
       "4  ultra  "
      ]
     },
     "metadata": {},
     "output_type": "display_data"
    },
    {
     "data": {
      "text/html": [
       "<div>\n",
       "<style scoped>\n",
       "    .dataframe tbody tr th:only-of-type {\n",
       "        vertical-align: middle;\n",
       "    }\n",
       "\n",
       "    .dataframe tbody tr th {\n",
       "        vertical-align: top;\n",
       "    }\n",
       "\n",
       "    .dataframe thead th {\n",
       "        text-align: right;\n",
       "    }\n",
       "</style>\n",
       "<table border=\"1\" class=\"dataframe\">\n",
       "  <thead>\n",
       "    <tr style=\"text-align: right;\">\n",
       "      <th></th>\n",
       "      <th>user_id</th>\n",
       "      <th>age</th>\n",
       "    </tr>\n",
       "  </thead>\n",
       "  <tbody>\n",
       "    <tr>\n",
       "      <th>count</th>\n",
       "      <td>500.000000</td>\n",
       "      <td>500.00000</td>\n",
       "    </tr>\n",
       "    <tr>\n",
       "      <th>mean</th>\n",
       "      <td>1249.500000</td>\n",
       "      <td>46.58800</td>\n",
       "    </tr>\n",
       "    <tr>\n",
       "      <th>std</th>\n",
       "      <td>144.481833</td>\n",
       "      <td>16.66763</td>\n",
       "    </tr>\n",
       "    <tr>\n",
       "      <th>min</th>\n",
       "      <td>1000.000000</td>\n",
       "      <td>18.00000</td>\n",
       "    </tr>\n",
       "    <tr>\n",
       "      <th>25%</th>\n",
       "      <td>1124.750000</td>\n",
       "      <td>32.00000</td>\n",
       "    </tr>\n",
       "    <tr>\n",
       "      <th>50%</th>\n",
       "      <td>1249.500000</td>\n",
       "      <td>46.00000</td>\n",
       "    </tr>\n",
       "    <tr>\n",
       "      <th>75%</th>\n",
       "      <td>1374.250000</td>\n",
       "      <td>62.00000</td>\n",
       "    </tr>\n",
       "    <tr>\n",
       "      <th>max</th>\n",
       "      <td>1499.000000</td>\n",
       "      <td>75.00000</td>\n",
       "    </tr>\n",
       "  </tbody>\n",
       "</table>\n",
       "</div>"
      ],
      "text/plain": [
       "           user_id        age\n",
       "count   500.000000  500.00000\n",
       "mean   1249.500000   46.58800\n",
       "std     144.481833   16.66763\n",
       "min    1000.000000   18.00000\n",
       "25%    1124.750000   32.00000\n",
       "50%    1249.500000   46.00000\n",
       "75%    1374.250000   62.00000\n",
       "max    1499.000000   75.00000"
      ]
     },
     "metadata": {},
     "output_type": "display_data"
    },
    {
     "name": "stdout",
     "output_type": "stream",
     "text": [
      "<class 'pandas.core.frame.DataFrame'>\n",
      "RangeIndex: 500 entries, 0 to 499\n",
      "Data columns (total 8 columns):\n",
      " #   Column      Non-Null Count  Dtype \n",
      "---  ------      --------------  ----- \n",
      " 0   user_id     500 non-null    int64 \n",
      " 1   age         500 non-null    int64 \n",
      " 2   churn_date  38 non-null     object\n",
      " 3   city        500 non-null    object\n",
      " 4   first_name  500 non-null    object\n",
      " 5   last_name   500 non-null    object\n",
      " 6   reg_date    500 non-null    object\n",
      " 7   tariff      500 non-null    object\n",
      "dtypes: int64(2), object(6)\n",
      "memory usage: 31.4+ KB\n",
      "None\n"
     ]
    }
   ],
   "source": [
    "show_info(users)"
   ]
  },
  {
   "cell_type": "markdown",
   "id": "423b0ef3",
   "metadata": {},
   "source": [
    "Вывод: пропуски имеются только в столбце `churn_date`,скорее всего они являются свидетельством активности тарифа(т.е. нет даты его закрытия), разброс значений возраста `age`(18...75) в пределах разумного, формат столбцов `reg_date` и `churn_date` необходимо будет привести к *datatime*, столбцы `first_name` и `last_name` удалить, как неинформативные."
   ]
  },
  {
   "cell_type": "markdown",
   "id": "b2e9cf28",
   "metadata": {},
   "source": [
    "### Вывод\n",
    "\n",
    "Данные успешно загружены, получена общая информация о данных, намечены необходимые преобразования для дальнейшей работы."
   ]
  },
  {
   "cell_type": "markdown",
   "id": "8cea0c8c",
   "metadata": {},
   "source": [
    "## Подготовка данных"
   ]
  },
  {
   "cell_type": "markdown",
   "id": "18546bc6",
   "metadata": {},
   "source": [
    "### Приведение данных к нужным типам"
   ]
  },
  {
   "cell_type": "code",
   "execution_count": 9,
   "id": "e6fda3fa",
   "metadata": {},
   "outputs": [],
   "source": [
    "# заменяем типы данных\n",
    "calls['call_date'] = pd.to_datetime(calls['call_date'])\n",
    "users['reg_date'] = pd.to_datetime(users['reg_date'])\n",
    "users['churn_date'] = pd.to_datetime(users['churn_date'])\n",
    "messages['message_date'] = pd.to_datetime(messages['message_date'])\n",
    "internet['session_date'] = pd.to_datetime(internet['session_date'])\n"
   ]
  },
  {
   "cell_type": "code",
   "execution_count": 10,
   "id": "9744ab91",
   "metadata": {
    "scrolled": false
   },
   "outputs": [
    {
     "name": "stdout",
     "output_type": "stream",
     "text": [
      "<class 'pandas.core.frame.DataFrame'>\n",
      "RangeIndex: 202607 entries, 0 to 202606\n",
      "Data columns (total 4 columns):\n",
      " #   Column     Non-Null Count   Dtype         \n",
      "---  ------     --------------   -----         \n",
      " 0   id         202607 non-null  object        \n",
      " 1   call_date  202607 non-null  datetime64[ns]\n",
      " 2   duration   202607 non-null  float64       \n",
      " 3   user_id    202607 non-null  int64         \n",
      "dtypes: datetime64[ns](1), float64(1), int64(1), object(1)\n",
      "memory usage: 6.2+ MB\n",
      "\n",
      "x-x-x-x-x-x-x-x-x-x-x-x-x-x-x-x-x-x-x-x-\n",
      "\n",
      "<class 'pandas.core.frame.DataFrame'>\n",
      "RangeIndex: 500 entries, 0 to 499\n",
      "Data columns (total 8 columns):\n",
      " #   Column      Non-Null Count  Dtype         \n",
      "---  ------      --------------  -----         \n",
      " 0   user_id     500 non-null    int64         \n",
      " 1   age         500 non-null    int64         \n",
      " 2   churn_date  38 non-null     datetime64[ns]\n",
      " 3   city        500 non-null    object        \n",
      " 4   first_name  500 non-null    object        \n",
      " 5   last_name   500 non-null    object        \n",
      " 6   reg_date    500 non-null    datetime64[ns]\n",
      " 7   tariff      500 non-null    object        \n",
      "dtypes: datetime64[ns](2), int64(2), object(4)\n",
      "memory usage: 31.4+ KB\n",
      "\n",
      "x-x-x-x-x-x-x-x-x-x-x-x-x-x-x-x-x-x-x-x-\n",
      "\n",
      "<class 'pandas.core.frame.DataFrame'>\n",
      "RangeIndex: 123036 entries, 0 to 123035\n",
      "Data columns (total 3 columns):\n",
      " #   Column        Non-Null Count   Dtype         \n",
      "---  ------        --------------   -----         \n",
      " 0   id            123036 non-null  object        \n",
      " 1   message_date  123036 non-null  datetime64[ns]\n",
      " 2   user_id       123036 non-null  int64         \n",
      "dtypes: datetime64[ns](1), int64(1), object(1)\n",
      "memory usage: 2.8+ MB\n",
      "\n",
      "x-x-x-x-x-x-x-x-x-x-x-x-x-x-x-x-x-x-x-x-\n",
      "\n",
      "<class 'pandas.core.frame.DataFrame'>\n",
      "RangeIndex: 149396 entries, 0 to 149395\n",
      "Data columns (total 5 columns):\n",
      " #   Column        Non-Null Count   Dtype         \n",
      "---  ------        --------------   -----         \n",
      " 0   Unnamed: 0    149396 non-null  int64         \n",
      " 1   id            149396 non-null  object        \n",
      " 2   mb_used       149396 non-null  float64       \n",
      " 3   session_date  149396 non-null  datetime64[ns]\n",
      " 4   user_id       149396 non-null  int64         \n",
      "dtypes: datetime64[ns](1), float64(1), int64(2), object(1)\n",
      "memory usage: 5.7+ MB\n",
      "\n",
      "x-x-x-x-x-x-x-x-x-x-x-x-x-x-x-x-x-x-x-x-\n",
      "\n"
     ]
    }
   ],
   "source": [
    "# проверим успешность замены типов\n",
    "for df in [calls, users, messages, internet]:\n",
    "    df.info()\n",
    "    print()\n",
    "    print('x-'*20)\n",
    "    print()"
   ]
  },
  {
   "cell_type": "markdown",
   "id": "3d14d3ef",
   "metadata": {},
   "source": [
    "### Удаление ненужных столбцов"
   ]
  },
  {
   "cell_type": "code",
   "execution_count": 11,
   "id": "ba71f4e0",
   "metadata": {},
   "outputs": [],
   "source": [
    "# удаляем столбец \"Unnamed: 0\" в internet\n",
    "internet = internet.drop(['Unnamed: 0'], axis=1)\n",
    "\n",
    "# удаляем столбцы \"first_name\" и \"last_name\" в users\n",
    "users = users.drop(['first_name', 'last_name'], axis=1)"
   ]
  },
  {
   "cell_type": "code",
   "execution_count": 12,
   "id": "f45f0ecd",
   "metadata": {},
   "outputs": [
    {
     "data": {
      "text/html": [
       "<div>\n",
       "<style scoped>\n",
       "    .dataframe tbody tr th:only-of-type {\n",
       "        vertical-align: middle;\n",
       "    }\n",
       "\n",
       "    .dataframe tbody tr th {\n",
       "        vertical-align: top;\n",
       "    }\n",
       "\n",
       "    .dataframe thead th {\n",
       "        text-align: right;\n",
       "    }\n",
       "</style>\n",
       "<table border=\"1\" class=\"dataframe\">\n",
       "  <thead>\n",
       "    <tr style=\"text-align: right;\">\n",
       "      <th></th>\n",
       "      <th>id</th>\n",
       "      <th>mb_used</th>\n",
       "      <th>session_date</th>\n",
       "      <th>user_id</th>\n",
       "    </tr>\n",
       "  </thead>\n",
       "  <tbody>\n",
       "    <tr>\n",
       "      <th>0</th>\n",
       "      <td>1000_0</td>\n",
       "      <td>112.95</td>\n",
       "      <td>2018-11-25</td>\n",
       "      <td>1000</td>\n",
       "    </tr>\n",
       "    <tr>\n",
       "      <th>1</th>\n",
       "      <td>1000_1</td>\n",
       "      <td>1052.81</td>\n",
       "      <td>2018-09-07</td>\n",
       "      <td>1000</td>\n",
       "    </tr>\n",
       "    <tr>\n",
       "      <th>2</th>\n",
       "      <td>1000_2</td>\n",
       "      <td>1197.26</td>\n",
       "      <td>2018-06-25</td>\n",
       "      <td>1000</td>\n",
       "    </tr>\n",
       "    <tr>\n",
       "      <th>3</th>\n",
       "      <td>1000_3</td>\n",
       "      <td>550.27</td>\n",
       "      <td>2018-08-22</td>\n",
       "      <td>1000</td>\n",
       "    </tr>\n",
       "    <tr>\n",
       "      <th>4</th>\n",
       "      <td>1000_4</td>\n",
       "      <td>302.56</td>\n",
       "      <td>2018-09-24</td>\n",
       "      <td>1000</td>\n",
       "    </tr>\n",
       "  </tbody>\n",
       "</table>\n",
       "</div>"
      ],
      "text/plain": [
       "       id  mb_used session_date  user_id\n",
       "0  1000_0   112.95   2018-11-25     1000\n",
       "1  1000_1  1052.81   2018-09-07     1000\n",
       "2  1000_2  1197.26   2018-06-25     1000\n",
       "3  1000_3   550.27   2018-08-22     1000\n",
       "4  1000_4   302.56   2018-09-24     1000"
      ]
     },
     "metadata": {},
     "output_type": "display_data"
    },
    {
     "data": {
      "text/html": [
       "<div>\n",
       "<style scoped>\n",
       "    .dataframe tbody tr th:only-of-type {\n",
       "        vertical-align: middle;\n",
       "    }\n",
       "\n",
       "    .dataframe tbody tr th {\n",
       "        vertical-align: top;\n",
       "    }\n",
       "\n",
       "    .dataframe thead th {\n",
       "        text-align: right;\n",
       "    }\n",
       "</style>\n",
       "<table border=\"1\" class=\"dataframe\">\n",
       "  <thead>\n",
       "    <tr style=\"text-align: right;\">\n",
       "      <th></th>\n",
       "      <th>user_id</th>\n",
       "      <th>age</th>\n",
       "      <th>churn_date</th>\n",
       "      <th>city</th>\n",
       "      <th>reg_date</th>\n",
       "      <th>tariff</th>\n",
       "    </tr>\n",
       "  </thead>\n",
       "  <tbody>\n",
       "    <tr>\n",
       "      <th>0</th>\n",
       "      <td>1000</td>\n",
       "      <td>52</td>\n",
       "      <td>NaT</td>\n",
       "      <td>Краснодар</td>\n",
       "      <td>2018-05-25</td>\n",
       "      <td>ultra</td>\n",
       "    </tr>\n",
       "    <tr>\n",
       "      <th>1</th>\n",
       "      <td>1001</td>\n",
       "      <td>41</td>\n",
       "      <td>NaT</td>\n",
       "      <td>Москва</td>\n",
       "      <td>2018-11-01</td>\n",
       "      <td>smart</td>\n",
       "    </tr>\n",
       "    <tr>\n",
       "      <th>2</th>\n",
       "      <td>1002</td>\n",
       "      <td>59</td>\n",
       "      <td>NaT</td>\n",
       "      <td>Стерлитамак</td>\n",
       "      <td>2018-06-17</td>\n",
       "      <td>smart</td>\n",
       "    </tr>\n",
       "    <tr>\n",
       "      <th>3</th>\n",
       "      <td>1003</td>\n",
       "      <td>23</td>\n",
       "      <td>NaT</td>\n",
       "      <td>Москва</td>\n",
       "      <td>2018-08-17</td>\n",
       "      <td>ultra</td>\n",
       "    </tr>\n",
       "    <tr>\n",
       "      <th>4</th>\n",
       "      <td>1004</td>\n",
       "      <td>68</td>\n",
       "      <td>NaT</td>\n",
       "      <td>Новокузнецк</td>\n",
       "      <td>2018-05-14</td>\n",
       "      <td>ultra</td>\n",
       "    </tr>\n",
       "  </tbody>\n",
       "</table>\n",
       "</div>"
      ],
      "text/plain": [
       "   user_id  age churn_date         city   reg_date tariff\n",
       "0     1000   52        NaT    Краснодар 2018-05-25  ultra\n",
       "1     1001   41        NaT       Москва 2018-11-01  smart\n",
       "2     1002   59        NaT  Стерлитамак 2018-06-17  smart\n",
       "3     1003   23        NaT       Москва 2018-08-17  ultra\n",
       "4     1004   68        NaT  Новокузнецк 2018-05-14  ultra"
      ]
     },
     "metadata": {},
     "output_type": "display_data"
    },
    {
     "data": {
      "text/plain": [
       "(None, None)"
      ]
     },
     "execution_count": 12,
     "metadata": {},
     "output_type": "execute_result"
    }
   ],
   "source": [
    "# проверяем результат удаления\n",
    "display(internet.head()), display(users.head())"
   ]
  },
  {
   "cell_type": "markdown",
   "id": "c828a679",
   "metadata": {},
   "source": [
    "Вывод: лишние столбцы удалены"
   ]
  },
  {
   "cell_type": "markdown",
   "id": "b0b426c1",
   "metadata": {},
   "source": [
    "### Поиск и устранение аномалий в данных"
   ]
  },
  {
   "cell_type": "markdown",
   "id": "db96680a",
   "metadata": {},
   "source": [
    "#### Таблица  `calls`"
   ]
  },
  {
   "cell_type": "code",
   "execution_count": 13,
   "id": "1c3c361d",
   "metadata": {
    "scrolled": true
   },
   "outputs": [
    {
     "data": {
      "text/html": [
       "<div>\n",
       "<style scoped>\n",
       "    .dataframe tbody tr th:only-of-type {\n",
       "        vertical-align: middle;\n",
       "    }\n",
       "\n",
       "    .dataframe tbody tr th {\n",
       "        vertical-align: top;\n",
       "    }\n",
       "\n",
       "    .dataframe thead th {\n",
       "        text-align: right;\n",
       "    }\n",
       "</style>\n",
       "<table border=\"1\" class=\"dataframe\">\n",
       "  <thead>\n",
       "    <tr style=\"text-align: right;\">\n",
       "      <th></th>\n",
       "      <th>count</th>\n",
       "      <th>unique</th>\n",
       "      <th>top</th>\n",
       "      <th>freq</th>\n",
       "      <th>mean</th>\n",
       "      <th>min</th>\n",
       "      <th>25%</th>\n",
       "      <th>50%</th>\n",
       "      <th>75%</th>\n",
       "      <th>max</th>\n",
       "      <th>std</th>\n",
       "    </tr>\n",
       "  </thead>\n",
       "  <tbody>\n",
       "    <tr>\n",
       "      <th>id</th>\n",
       "      <td>202607</td>\n",
       "      <td>202607</td>\n",
       "      <td>1056_280</td>\n",
       "      <td>1</td>\n",
       "      <td>NaN</td>\n",
       "      <td>NaN</td>\n",
       "      <td>NaN</td>\n",
       "      <td>NaN</td>\n",
       "      <td>NaN</td>\n",
       "      <td>NaN</td>\n",
       "      <td>NaN</td>\n",
       "    </tr>\n",
       "    <tr>\n",
       "      <th>call_date</th>\n",
       "      <td>202607</td>\n",
       "      <td>NaN</td>\n",
       "      <td>NaN</td>\n",
       "      <td>NaN</td>\n",
       "      <td>2018-09-02 20:01:37.583992832</td>\n",
       "      <td>2018-01-01 00:00:00</td>\n",
       "      <td>2018-07-05 00:00:00</td>\n",
       "      <td>2018-09-17 00:00:00</td>\n",
       "      <td>2018-11-14 00:00:00</td>\n",
       "      <td>2018-12-31 00:00:00</td>\n",
       "      <td>NaN</td>\n",
       "    </tr>\n",
       "    <tr>\n",
       "      <th>duration</th>\n",
       "      <td>202607.0</td>\n",
       "      <td>NaN</td>\n",
       "      <td>NaN</td>\n",
       "      <td>NaN</td>\n",
       "      <td>6.755887</td>\n",
       "      <td>0.0</td>\n",
       "      <td>1.3</td>\n",
       "      <td>6.0</td>\n",
       "      <td>10.7</td>\n",
       "      <td>38.0</td>\n",
       "      <td>5.843365</td>\n",
       "    </tr>\n",
       "    <tr>\n",
       "      <th>user_id</th>\n",
       "      <td>202607.0</td>\n",
       "      <td>NaN</td>\n",
       "      <td>NaN</td>\n",
       "      <td>NaN</td>\n",
       "      <td>1253.940619</td>\n",
       "      <td>1000.0</td>\n",
       "      <td>1126.0</td>\n",
       "      <td>1260.0</td>\n",
       "      <td>1379.0</td>\n",
       "      <td>1499.0</td>\n",
       "      <td>144.722751</td>\n",
       "    </tr>\n",
       "  </tbody>\n",
       "</table>\n",
       "</div>"
      ],
      "text/plain": [
       "              count  unique       top freq                           mean  \\\n",
       "id           202607  202607  1056_280    1                            NaN   \n",
       "call_date    202607     NaN       NaN  NaN  2018-09-02 20:01:37.583992832   \n",
       "duration   202607.0     NaN       NaN  NaN                       6.755887   \n",
       "user_id    202607.0     NaN       NaN  NaN                    1253.940619   \n",
       "\n",
       "                           min                  25%                  50%  \\\n",
       "id                         NaN                  NaN                  NaN   \n",
       "call_date  2018-01-01 00:00:00  2018-07-05 00:00:00  2018-09-17 00:00:00   \n",
       "duration                   0.0                  1.3                  6.0   \n",
       "user_id                 1000.0               1126.0               1260.0   \n",
       "\n",
       "                           75%                  max         std  \n",
       "id                         NaN                  NaN         NaN  \n",
       "call_date  2018-11-14 00:00:00  2018-12-31 00:00:00         NaN  \n",
       "duration                  10.7                 38.0    5.843365  \n",
       "user_id                 1379.0               1499.0  144.722751  "
      ]
     },
     "execution_count": 13,
     "metadata": {},
     "output_type": "execute_result"
    }
   ],
   "source": [
    "calls.describe(include='all', datetime_is_numeric=True).T"
   ]
  },
  {
   "cell_type": "markdown",
   "id": "31d13792",
   "metadata": {},
   "source": [
    "Количество id  совпадает с числом уникальных значений, значит дубликатов нет."
   ]
  },
  {
   "cell_type": "code",
   "execution_count": 14,
   "id": "434df126",
   "metadata": {},
   "outputs": [
    {
     "data": {
      "text/plain": [
       "365"
      ]
     },
     "execution_count": 14,
     "metadata": {},
     "output_type": "execute_result"
    }
   ],
   "source": [
    "# число уникальных дат\n",
    "len(calls.call_date.unique())"
   ]
  },
  {
   "cell_type": "markdown",
   "id": "38aff48c",
   "metadata": {},
   "source": [
    "Число уникальных дней совпадает с числом дней в году. "
   ]
  },
  {
   "cell_type": "code",
   "execution_count": 15,
   "id": "2b56ddcf",
   "metadata": {},
   "outputs": [
    {
     "data": {
      "text/plain": [
       "492"
      ]
     },
     "execution_count": 15,
     "metadata": {},
     "output_type": "execute_result"
    }
   ],
   "source": [
    "# число уникальных пользователей\n",
    "len(calls.user_id.unique())"
   ]
  },
  {
   "cell_type": "markdown",
   "id": "9fb05f79",
   "metadata": {},
   "source": [
    "То есть 8 человек (500 - 492) не совершали звонков. Взглянем на данные этих людей."
   ]
  },
  {
   "cell_type": "code",
   "execution_count": 16,
   "id": "5649cdd9",
   "metadata": {},
   "outputs": [
    {
     "data": {
      "text/plain": [
       "[1091, 1106, 1128, 1231, 1328, 1371, 1473, 1489]"
      ]
     },
     "execution_count": 16,
     "metadata": {},
     "output_type": "execute_result"
    }
   ],
   "source": [
    "# соберем id_user незвонящих клиентов в список not_calls_id  \n",
    "not_calls_id = []\n",
    "\n",
    "for i in range(1000, 1500):\n",
    "    if i not in calls.user_id.unique():\n",
    "        not_calls_id.append(i)\n",
    "not_calls_id"
   ]
  },
  {
   "cell_type": "code",
   "execution_count": 17,
   "id": "5a8f4152",
   "metadata": {
    "scrolled": false
   },
   "outputs": [
    {
     "data": {
      "text/html": [
       "<div>\n",
       "<style scoped>\n",
       "    .dataframe tbody tr th:only-of-type {\n",
       "        vertical-align: middle;\n",
       "    }\n",
       "\n",
       "    .dataframe tbody tr th {\n",
       "        vertical-align: top;\n",
       "    }\n",
       "\n",
       "    .dataframe thead th {\n",
       "        text-align: right;\n",
       "    }\n",
       "</style>\n",
       "<table border=\"1\" class=\"dataframe\">\n",
       "  <thead>\n",
       "    <tr style=\"text-align: right;\">\n",
       "      <th></th>\n",
       "      <th>user_id</th>\n",
       "      <th>age</th>\n",
       "      <th>churn_date</th>\n",
       "      <th>city</th>\n",
       "      <th>reg_date</th>\n",
       "      <th>tariff</th>\n",
       "    </tr>\n",
       "  </thead>\n",
       "  <tbody>\n",
       "    <tr>\n",
       "      <th>91</th>\n",
       "      <td>1091</td>\n",
       "      <td>36</td>\n",
       "      <td>NaT</td>\n",
       "      <td>Набережные Челны</td>\n",
       "      <td>2018-05-08</td>\n",
       "      <td>ultra</td>\n",
       "    </tr>\n",
       "    <tr>\n",
       "      <th>106</th>\n",
       "      <td>1106</td>\n",
       "      <td>67</td>\n",
       "      <td>NaT</td>\n",
       "      <td>Калуга</td>\n",
       "      <td>2018-04-26</td>\n",
       "      <td>ultra</td>\n",
       "    </tr>\n",
       "    <tr>\n",
       "      <th>128</th>\n",
       "      <td>1128</td>\n",
       "      <td>51</td>\n",
       "      <td>2018-12-23</td>\n",
       "      <td>Волжский</td>\n",
       "      <td>2018-12-15</td>\n",
       "      <td>ultra</td>\n",
       "    </tr>\n",
       "    <tr>\n",
       "      <th>231</th>\n",
       "      <td>1231</td>\n",
       "      <td>63</td>\n",
       "      <td>NaT</td>\n",
       "      <td>Чебоксары</td>\n",
       "      <td>2018-05-23</td>\n",
       "      <td>ultra</td>\n",
       "    </tr>\n",
       "    <tr>\n",
       "      <th>328</th>\n",
       "      <td>1328</td>\n",
       "      <td>44</td>\n",
       "      <td>NaT</td>\n",
       "      <td>Мурманск</td>\n",
       "      <td>2018-10-16</td>\n",
       "      <td>ultra</td>\n",
       "    </tr>\n",
       "    <tr>\n",
       "      <th>371</th>\n",
       "      <td>1371</td>\n",
       "      <td>50</td>\n",
       "      <td>2018-12-30</td>\n",
       "      <td>Омск</td>\n",
       "      <td>2018-12-25</td>\n",
       "      <td>smart</td>\n",
       "    </tr>\n",
       "    <tr>\n",
       "      <th>473</th>\n",
       "      <td>1473</td>\n",
       "      <td>18</td>\n",
       "      <td>NaT</td>\n",
       "      <td>Красноярск</td>\n",
       "      <td>2018-08-05</td>\n",
       "      <td>ultra</td>\n",
       "    </tr>\n",
       "    <tr>\n",
       "      <th>489</th>\n",
       "      <td>1489</td>\n",
       "      <td>35</td>\n",
       "      <td>NaT</td>\n",
       "      <td>Санкт-Петербург</td>\n",
       "      <td>2018-08-15</td>\n",
       "      <td>smart</td>\n",
       "    </tr>\n",
       "  </tbody>\n",
       "</table>\n",
       "</div>"
      ],
      "text/plain": [
       "     user_id  age churn_date              city   reg_date tariff\n",
       "91      1091   36        NaT  Набережные Челны 2018-05-08  ultra\n",
       "106     1106   67        NaT            Калуга 2018-04-26  ultra\n",
       "128     1128   51 2018-12-23          Волжский 2018-12-15  ultra\n",
       "231     1231   63        NaT         Чебоксары 2018-05-23  ultra\n",
       "328     1328   44        NaT          Мурманск 2018-10-16  ultra\n",
       "371     1371   50 2018-12-30              Омск 2018-12-25  smart\n",
       "473     1473   18        NaT        Красноярск 2018-08-05  ultra\n",
       "489     1489   35        NaT   Санкт-Петербург 2018-08-15  smart"
      ]
     },
     "execution_count": 17,
     "metadata": {},
     "output_type": "execute_result"
    }
   ],
   "source": [
    "# список незвонящих клиентов\n",
    "users.query('user_id in @not_calls_id')"
   ]
  },
  {
   "cell_type": "markdown",
   "id": "7060886e",
   "metadata": {},
   "source": [
    "Ничего необычного, кроме того, что клиенты с `user_id` 1128 и 1371 закрыли(сменили) тариф примерно через неделю после регистрации, так и не успев сделать ни одного звонка. Возможно, остальным сим-карта нужна только для доступа к интернет. Проверим."
   ]
  },
  {
   "cell_type": "code",
   "execution_count": 18,
   "id": "93c126fe",
   "metadata": {},
   "outputs": [
    {
     "data": {
      "text/plain": [
       "user_id\n",
       "1091    107404.96\n",
       "1106    156163.90\n",
       "1231    222528.37\n",
       "1328     97373.29\n",
       "1473     83975.96\n",
       "1489     82630.37\n",
       "Name: mb_used, dtype: float64"
      ]
     },
     "execution_count": 18,
     "metadata": {},
     "output_type": "execute_result"
    }
   ],
   "source": [
    "# узнаем годовой трафик этих клиентов\n",
    "internet.query('user_id in @not_calls_id').groupby('user_id').mb_used.sum()"
   ]
  },
  {
   "cell_type": "markdown",
   "id": "45981228",
   "metadata": {},
   "source": [
    "Так и есть, эти клиенты активные пользователь интернет."
   ]
  },
  {
   "cell_type": "markdown",
   "id": "9d776389",
   "metadata": {},
   "source": [
    "Столбец `call_date` все даты вкладываются в диапазон 01.01.2018...12.31.2018. \n",
    "\n",
    "Столбец `duration` рассмотрим подробнее."
   ]
  },
  {
   "cell_type": "code",
   "execution_count": 19,
   "id": "bf74bc21",
   "metadata": {},
   "outputs": [
    {
     "data": {
      "image/png": "[encoded data removed]",
      "text/plain": [
       "<Figure size 432x288 with 1 Axes>"
      ]
     },
     "metadata": {
      "needs_background": "light"
     },
     "output_type": "display_data"
    }
   ],
   "source": [
    "calls.duration.plot(kind='hist', bins=50, title='Распределение звонков по продолжительности, мин.')\n",
    "plt.show()"
   ]
  },
  {
   "cell_type": "markdown",
   "id": "12feb7fc",
   "metadata": {},
   "source": [
    "Звонки с нулевой длительностью - пропущенные звонки, они денег не приносят, но и удалять их не будем, посмотрим на распределение без них."
   ]
  },
  {
   "cell_type": "code",
   "execution_count": 20,
   "id": "b74e443c",
   "metadata": {},
   "outputs": [
    {
     "data": {
      "image/png": "[encoded data removed]",
      "text/plain": [
       "<Figure size 432x288 with 1 Axes>"
      ]
     },
     "metadata": {
      "needs_background": "light"
     },
     "output_type": "display_data"
    }
   ],
   "source": [
    "calls.query(\"duration > 0\").duration.plot(kind='hist', bins=50, title='Распределение звонков по продолжительности, мин.')\n",
    "plt.show()"
   ]
  },
  {
   "cell_type": "markdown",
   "id": "b0a9f5f8",
   "metadata": {},
   "source": [
    "Видим классическое распределение Пуассона, самые частые звонки около 7-8 минут, число звонков длительностью более 25 минут ничтожно мало."
   ]
  },
  {
   "cell_type": "code",
   "execution_count": 21,
   "id": "641e3fdc",
   "metadata": {},
   "outputs": [],
   "source": [
    "# переименование столбца\n",
    "calls.rename(columns={'id': 'calls_id'}, inplace=True)"
   ]
  },
  {
   "cell_type": "markdown",
   "id": "82416df0",
   "metadata": {},
   "source": [
    "**Вывод.** Данные в таблице `calls` корректны."
   ]
  },
  {
   "cell_type": "markdown",
   "id": "f8f65031",
   "metadata": {},
   "source": [
    "#### Таблица `internet`"
   ]
  },
  {
   "cell_type": "code",
   "execution_count": 22,
   "id": "18c4aedd",
   "metadata": {
    "scrolled": true
   },
   "outputs": [
    {
     "data": {
      "text/html": [
       "<div>\n",
       "<style scoped>\n",
       "    .dataframe tbody tr th:only-of-type {\n",
       "        vertical-align: middle;\n",
       "    }\n",
       "\n",
       "    .dataframe tbody tr th {\n",
       "        vertical-align: top;\n",
       "    }\n",
       "\n",
       "    .dataframe thead th {\n",
       "        text-align: right;\n",
       "    }\n",
       "</style>\n",
       "<table border=\"1\" class=\"dataframe\">\n",
       "  <thead>\n",
       "    <tr style=\"text-align: right;\">\n",
       "      <th></th>\n",
       "      <th>count</th>\n",
       "      <th>unique</th>\n",
       "      <th>top</th>\n",
       "      <th>freq</th>\n",
       "      <th>mean</th>\n",
       "      <th>min</th>\n",
       "      <th>25%</th>\n",
       "      <th>50%</th>\n",
       "      <th>75%</th>\n",
       "      <th>max</th>\n",
       "      <th>std</th>\n",
       "    </tr>\n",
       "  </thead>\n",
       "  <tbody>\n",
       "    <tr>\n",
       "      <th>id</th>\n",
       "      <td>149396</td>\n",
       "      <td>149396</td>\n",
       "      <td>1443_116</td>\n",
       "      <td>1</td>\n",
       "      <td>NaN</td>\n",
       "      <td>NaN</td>\n",
       "      <td>NaN</td>\n",
       "      <td>NaN</td>\n",
       "      <td>NaN</td>\n",
       "      <td>NaN</td>\n",
       "      <td>NaN</td>\n",
       "    </tr>\n",
       "    <tr>\n",
       "      <th>mb_used</th>\n",
       "      <td>149396.0</td>\n",
       "      <td>NaN</td>\n",
       "      <td>NaN</td>\n",
       "      <td>NaN</td>\n",
       "      <td>370.192426</td>\n",
       "      <td>0.0</td>\n",
       "      <td>138.1875</td>\n",
       "      <td>348.015</td>\n",
       "      <td>559.5525</td>\n",
       "      <td>1724.83</td>\n",
       "      <td>278.300951</td>\n",
       "    </tr>\n",
       "    <tr>\n",
       "      <th>session_date</th>\n",
       "      <td>149396</td>\n",
       "      <td>NaN</td>\n",
       "      <td>NaN</td>\n",
       "      <td>NaN</td>\n",
       "      <td>2018-09-02 12:55:35.221826560</td>\n",
       "      <td>2018-01-01 00:00:00</td>\n",
       "      <td>2018-07-05 00:00:00</td>\n",
       "      <td>2018-09-17 00:00:00</td>\n",
       "      <td>2018-11-14 00:00:00</td>\n",
       "      <td>2018-12-31 00:00:00</td>\n",
       "      <td>NaN</td>\n",
       "    </tr>\n",
       "    <tr>\n",
       "      <th>user_id</th>\n",
       "      <td>149396.0</td>\n",
       "      <td>NaN</td>\n",
       "      <td>NaN</td>\n",
       "      <td>NaN</td>\n",
       "      <td>1252.099842</td>\n",
       "      <td>1000.0</td>\n",
       "      <td>1130.0</td>\n",
       "      <td>1251.0</td>\n",
       "      <td>1380.0</td>\n",
       "      <td>1499.0</td>\n",
       "      <td>144.050823</td>\n",
       "    </tr>\n",
       "  </tbody>\n",
       "</table>\n",
       "</div>"
      ],
      "text/plain": [
       "                 count  unique       top freq                           mean  \\\n",
       "id              149396  149396  1443_116    1                            NaN   \n",
       "mb_used       149396.0     NaN       NaN  NaN                     370.192426   \n",
       "session_date    149396     NaN       NaN  NaN  2018-09-02 12:55:35.221826560   \n",
       "user_id       149396.0     NaN       NaN  NaN                    1252.099842   \n",
       "\n",
       "                              min                  25%                  50%  \\\n",
       "id                            NaN                  NaN                  NaN   \n",
       "mb_used                       0.0             138.1875              348.015   \n",
       "session_date  2018-01-01 00:00:00  2018-07-05 00:00:00  2018-09-17 00:00:00   \n",
       "user_id                    1000.0               1130.0               1251.0   \n",
       "\n",
       "                              75%                  max         std  \n",
       "id                            NaN                  NaN         NaN  \n",
       "mb_used                  559.5525              1724.83  278.300951  \n",
       "session_date  2018-11-14 00:00:00  2018-12-31 00:00:00         NaN  \n",
       "user_id                    1380.0               1499.0  144.050823  "
      ]
     },
     "execution_count": 22,
     "metadata": {},
     "output_type": "execute_result"
    }
   ],
   "source": [
    "internet.describe(include='all', datetime_is_numeric=True).T"
   ]
  },
  {
   "cell_type": "markdown",
   "id": "934cd782",
   "metadata": {},
   "source": [
    "Количество id  совпадает с числом уникальных значений, значит дубликатов нет."
   ]
  },
  {
   "cell_type": "code",
   "execution_count": 23,
   "id": "0d6a48bc",
   "metadata": {},
   "outputs": [
    {
     "data": {
      "text/plain": [
       "365"
      ]
     },
     "execution_count": 23,
     "metadata": {},
     "output_type": "execute_result"
    }
   ],
   "source": [
    "# число уникальных дат\n",
    "len(internet.session_date.unique())"
   ]
  },
  {
   "cell_type": "markdown",
   "id": "e86225ca",
   "metadata": {},
   "source": [
    "С датами все в порядке."
   ]
  },
  {
   "cell_type": "code",
   "execution_count": 24,
   "id": "48c6fb6c",
   "metadata": {},
   "outputs": [
    {
     "data": {
      "text/plain": [
       "497"
      ]
     },
     "execution_count": 24,
     "metadata": {},
     "output_type": "execute_result"
    }
   ],
   "source": [
    "# число уникальных пользователей\n",
    "len(internet.user_id.unique())"
   ]
  },
  {
   "cell_type": "markdown",
   "id": "1e1285b4",
   "metadata": {},
   "source": [
    "Три клиента не пользуются интернет. Посмотрим на них."
   ]
  },
  {
   "cell_type": "code",
   "execution_count": 25,
   "id": "f46f2d1c",
   "metadata": {},
   "outputs": [
    {
     "data": {
      "text/plain": [
       "[1128, 1273, 1371]"
      ]
     },
     "execution_count": 25,
     "metadata": {},
     "output_type": "execute_result"
    }
   ],
   "source": [
    "# соберем id_user клиентов без траффика в список not_internet_id  \n",
    "not_internet_id = []\n",
    "\n",
    "for i in range(1000, 1500):\n",
    "    if i not in internet.user_id.unique():\n",
    "        not_internet_id.append(i)\n",
    "not_internet_id"
   ]
  },
  {
   "cell_type": "code",
   "execution_count": 26,
   "id": "363e522c",
   "metadata": {},
   "outputs": [
    {
     "data": {
      "text/html": [
       "<div>\n",
       "<style scoped>\n",
       "    .dataframe tbody tr th:only-of-type {\n",
       "        vertical-align: middle;\n",
       "    }\n",
       "\n",
       "    .dataframe tbody tr th {\n",
       "        vertical-align: top;\n",
       "    }\n",
       "\n",
       "    .dataframe thead th {\n",
       "        text-align: right;\n",
       "    }\n",
       "</style>\n",
       "<table border=\"1\" class=\"dataframe\">\n",
       "  <thead>\n",
       "    <tr style=\"text-align: right;\">\n",
       "      <th></th>\n",
       "      <th>user_id</th>\n",
       "      <th>age</th>\n",
       "      <th>churn_date</th>\n",
       "      <th>city</th>\n",
       "      <th>reg_date</th>\n",
       "      <th>tariff</th>\n",
       "    </tr>\n",
       "  </thead>\n",
       "  <tbody>\n",
       "    <tr>\n",
       "      <th>128</th>\n",
       "      <td>1128</td>\n",
       "      <td>51</td>\n",
       "      <td>2018-12-23</td>\n",
       "      <td>Волжский</td>\n",
       "      <td>2018-12-15</td>\n",
       "      <td>ultra</td>\n",
       "    </tr>\n",
       "    <tr>\n",
       "      <th>273</th>\n",
       "      <td>1273</td>\n",
       "      <td>46</td>\n",
       "      <td>NaT</td>\n",
       "      <td>Курган</td>\n",
       "      <td>2018-05-15</td>\n",
       "      <td>ultra</td>\n",
       "    </tr>\n",
       "    <tr>\n",
       "      <th>371</th>\n",
       "      <td>1371</td>\n",
       "      <td>50</td>\n",
       "      <td>2018-12-30</td>\n",
       "      <td>Омск</td>\n",
       "      <td>2018-12-25</td>\n",
       "      <td>smart</td>\n",
       "    </tr>\n",
       "  </tbody>\n",
       "</table>\n",
       "</div>"
      ],
      "text/plain": [
       "     user_id  age churn_date      city   reg_date tariff\n",
       "128     1128   51 2018-12-23  Волжский 2018-12-15  ultra\n",
       "273     1273   46        NaT    Курган 2018-05-15  ultra\n",
       "371     1371   50 2018-12-30      Омск 2018-12-25  smart"
      ]
     },
     "execution_count": 26,
     "metadata": {},
     "output_type": "execute_result"
    }
   ],
   "source": [
    "# список  клиентов без траффика\n",
    "users.query('user_id in @not_internet_id')"
   ]
  },
  {
   "cell_type": "markdown",
   "id": "725ea023",
   "metadata": {},
   "source": [
    "Два клиента с id_user 1128 и 1371 сменили или закрыли тариф в течении недели. Посмотрим на активность клиента id_user 1273 по звонкам и сообщениям."
   ]
  },
  {
   "cell_type": "code",
   "execution_count": 27,
   "id": "7d855d02",
   "metadata": {},
   "outputs": [
    {
     "data": {
      "text/plain": [
       "272"
      ]
     },
     "execution_count": 27,
     "metadata": {},
     "output_type": "execute_result"
    }
   ],
   "source": [
    "# число сообщений в течении года\n",
    "messages.query('user_id == 1273').id.count()"
   ]
  },
  {
   "cell_type": "code",
   "execution_count": 28,
   "id": "2bd810c4",
   "metadata": {},
   "outputs": [
    {
     "data": {
      "text/plain": [
       "sum      1894.2\n",
       "count     320.0\n",
       "Name: duration, dtype: float64"
      ]
     },
     "execution_count": 28,
     "metadata": {},
     "output_type": "execute_result"
    }
   ],
   "source": [
    "# количество минут\n",
    "calls.query('user_id == 1273').duration.agg(['sum', 'count'])"
   ]
  },
  {
   "cell_type": "markdown",
   "id": "7d9ec7c4",
   "metadata": {},
   "source": [
    "Скорее всего у этого клиента не смартфон, он использует лишь звонки и смс."
   ]
  },
  {
   "cell_type": "code",
   "execution_count": 29,
   "id": "70395173",
   "metadata": {},
   "outputs": [],
   "source": [
    "# переименование столбца\n",
    "internet.rename(columns={'id': 'internet_id'}, inplace=True)\n"
   ]
  },
  {
   "cell_type": "markdown",
   "id": "fca2a54a",
   "metadata": {},
   "source": [
    "<font color='Blue'><b>Распределение данных в столбце `internet`</b></font><br>"
   ]
  },
  {
   "cell_type": "code",
   "execution_count": 30,
   "id": "ac56bffa",
   "metadata": {
    "scrolled": false
   },
   "outputs": [
    {
     "data": {
      "image/png": "[encoded data removed]",
      "text/plain": [
       "<Figure size 432x288 with 1 Axes>"
      ]
     },
     "metadata": {
      "needs_background": "light"
     },
     "output_type": "display_data"
    },
    {
     "data": {
      "image/png": "[encoded data removed]",
      "text/plain": [
       "<Figure size 432x288 with 1 Axes>"
      ]
     },
     "metadata": {
      "needs_background": "light"
     },
     "output_type": "display_data"
    },
    {
     "data": {
      "image/png": "[encoded data removed]",
      "text/plain": [
       "<Figure size 432x288 with 1 Axes>"
      ]
     },
     "metadata": {
      "needs_background": "light"
     },
     "output_type": "display_data"
    }
   ],
   "source": [
    "(internet.groupby('user_id')['mb_used'].mean()\n",
    "     .plot(kind='hist',\n",
    "           bins=100,\n",
    "           title='Распределение среднего потребленния трафика, Мб')\n",
    ")\n",
    "plt.show()\n",
    "(internet.groupby('internet_id')['mb_used'].sum()\n",
    "     .plot(kind='hist',\n",
    "           bins=100,\n",
    "           title='Распределение потребленного трафика за сессию, Мб')\n",
    ")\n",
    "plt.show()\n",
    "(internet.groupby('user_id')['mb_used'].sum()\n",
    "     .plot(kind='hist',\n",
    "           bins=100,\n",
    "           title='Распределение суммарно потребленного трафика за год, Мб')\n",
    ")\n",
    "plt.show()"
   ]
  },
  {
   "cell_type": "code",
   "execution_count": 31,
   "id": "28ddcb82",
   "metadata": {
    "scrolled": true
   },
   "outputs": [
    {
     "data": {
      "text/plain": [
       "19598"
      ]
     },
     "execution_count": 31,
     "metadata": {},
     "output_type": "execute_result"
    }
   ],
   "source": [
    "# количество записей с 0 трафиком\n",
    "internet.query('mb_used == 0')['mb_used'].count()"
   ]
  },
  {
   "cell_type": "markdown",
   "id": "ab92f573",
   "metadata": {},
   "source": [
    "Наблюдается бимодальное распределение по среднему потреблению трафика пользователем. Такое бывает. Еще мы видим большое число подключений с 0 трафиком (19598). Возможная причина - частые переподключения из-за сбоев в сети, и как следствие короткие сессии без трафика."
   ]
  },
  {
   "cell_type": "markdown",
   "id": "6e08ecc3",
   "metadata": {},
   "source": [
    "Чтобы уменьшить количество обрабатываемых записей без потери качества данных, можем удалить значения с 0 трафиком. Еще и ресурсы сэкономим."
   ]
  },
  {
   "cell_type": "code",
   "execution_count": 32,
   "id": "6c83a8f3",
   "metadata": {},
   "outputs": [
    {
     "data": {
      "image/png": "[encoded data removed]",
      "text/plain": [
       "<Figure size 432x288 with 1 Axes>"
      ]
     },
     "metadata": {
      "needs_background": "light"
     },
     "output_type": "display_data"
    }
   ],
   "source": [
    "internet = internet.query('mb_used > 0')\n",
    "(internet.groupby('internet_id')['mb_used'].sum()\n",
    "     .plot(kind='hist',\n",
    "           bins=100,\n",
    "           title='Распределение потребленного трафика за сессию, Мб')\n",
    ")\n",
    "plt.show()"
   ]
  },
  {
   "cell_type": "markdown",
   "id": "c7bb5424",
   "metadata": {},
   "source": [
    "Теперь мы наблюдаем классическое распределение Пуассона."
   ]
  },
  {
   "cell_type": "markdown",
   "id": "d6e166a2",
   "metadata": {},
   "source": [
    "**Вывод.** Данные в таблице `internet` корректны."
   ]
  },
  {
   "cell_type": "markdown",
   "id": "fd7e3fbb",
   "metadata": {},
   "source": [
    "####  Таблица `messages`"
   ]
  },
  {
   "cell_type": "code",
   "execution_count": 33,
   "id": "73fb0e96",
   "metadata": {},
   "outputs": [
    {
     "data": {
      "text/html": [
       "<div>\n",
       "<style scoped>\n",
       "    .dataframe tbody tr th:only-of-type {\n",
       "        vertical-align: middle;\n",
       "    }\n",
       "\n",
       "    .dataframe tbody tr th {\n",
       "        vertical-align: top;\n",
       "    }\n",
       "\n",
       "    .dataframe thead th {\n",
       "        text-align: right;\n",
       "    }\n",
       "</style>\n",
       "<table border=\"1\" class=\"dataframe\">\n",
       "  <thead>\n",
       "    <tr style=\"text-align: right;\">\n",
       "      <th></th>\n",
       "      <th>count</th>\n",
       "      <th>unique</th>\n",
       "      <th>top</th>\n",
       "      <th>freq</th>\n",
       "      <th>mean</th>\n",
       "      <th>min</th>\n",
       "      <th>25%</th>\n",
       "      <th>50%</th>\n",
       "      <th>75%</th>\n",
       "      <th>max</th>\n",
       "      <th>std</th>\n",
       "    </tr>\n",
       "  </thead>\n",
       "  <tbody>\n",
       "    <tr>\n",
       "      <th>id</th>\n",
       "      <td>123036</td>\n",
       "      <td>123036</td>\n",
       "      <td>1465_165</td>\n",
       "      <td>1</td>\n",
       "      <td>NaN</td>\n",
       "      <td>NaN</td>\n",
       "      <td>NaN</td>\n",
       "      <td>NaN</td>\n",
       "      <td>NaN</td>\n",
       "      <td>NaN</td>\n",
       "      <td>NaN</td>\n",
       "    </tr>\n",
       "    <tr>\n",
       "      <th>message_date</th>\n",
       "      <td>123036</td>\n",
       "      <td>NaN</td>\n",
       "      <td>NaN</td>\n",
       "      <td>NaN</td>\n",
       "      <td>2018-09-04 15:28:42.227640576</td>\n",
       "      <td>2018-01-02 00:00:00</td>\n",
       "      <td>2018-07-09 00:00:00</td>\n",
       "      <td>2018-09-20 00:00:00</td>\n",
       "      <td>2018-11-14 00:00:00</td>\n",
       "      <td>2018-12-31 00:00:00</td>\n",
       "      <td>NaN</td>\n",
       "    </tr>\n",
       "    <tr>\n",
       "      <th>user_id</th>\n",
       "      <td>123036.0</td>\n",
       "      <td>NaN</td>\n",
       "      <td>NaN</td>\n",
       "      <td>NaN</td>\n",
       "      <td>1256.98941</td>\n",
       "      <td>1000.0</td>\n",
       "      <td>1134.0</td>\n",
       "      <td>1271.0</td>\n",
       "      <td>1381.0</td>\n",
       "      <td>1499.0</td>\n",
       "      <td>143.523967</td>\n",
       "    </tr>\n",
       "  </tbody>\n",
       "</table>\n",
       "</div>"
      ],
      "text/plain": [
       "                 count  unique       top freq                           mean  \\\n",
       "id              123036  123036  1465_165    1                            NaN   \n",
       "message_date    123036     NaN       NaN  NaN  2018-09-04 15:28:42.227640576   \n",
       "user_id       123036.0     NaN       NaN  NaN                     1256.98941   \n",
       "\n",
       "                              min                  25%                  50%  \\\n",
       "id                            NaN                  NaN                  NaN   \n",
       "message_date  2018-01-02 00:00:00  2018-07-09 00:00:00  2018-09-20 00:00:00   \n",
       "user_id                    1000.0               1134.0               1271.0   \n",
       "\n",
       "                              75%                  max         std  \n",
       "id                            NaN                  NaN         NaN  \n",
       "message_date  2018-11-14 00:00:00  2018-12-31 00:00:00         NaN  \n",
       "user_id                    1381.0               1499.0  143.523967  "
      ]
     },
     "execution_count": 33,
     "metadata": {},
     "output_type": "execute_result"
    }
   ],
   "source": [
    "messages.describe(include='all', datetime_is_numeric=True).T"
   ]
  },
  {
   "cell_type": "markdown",
   "id": "7b515ff3",
   "metadata": {},
   "source": [
    "Количество id совпадает с числом уникальных значений, значит дубликатов нет."
   ]
  },
  {
   "cell_type": "code",
   "execution_count": 34,
   "id": "04829587",
   "metadata": {},
   "outputs": [
    {
     "data": {
      "text/plain": [
       "364"
      ]
     },
     "execution_count": 34,
     "metadata": {},
     "output_type": "execute_result"
    }
   ],
   "source": [
    "# число уникальных дат\n",
    "len(messages.message_date.unique())"
   ]
  },
  {
   "cell_type": "markdown",
   "id": "8c74c068",
   "metadata": {},
   "source": [
    "Сообщения начинают отправляться с 02.01.2018. Возможно сеть была перегружена 01.01 поздравлениями с Новым годом и сообщения не отправлялись."
   ]
  },
  {
   "cell_type": "code",
   "execution_count": 35,
   "id": "0ef7a6f5",
   "metadata": {},
   "outputs": [
    {
     "data": {
      "text/plain": [
       "426"
      ]
     },
     "execution_count": 35,
     "metadata": {},
     "output_type": "execute_result"
    }
   ],
   "source": [
    "# число уникальных пользователей\n",
    "len(messages.user_id.unique())"
   ]
  },
  {
   "cell_type": "markdown",
   "id": "565cb725",
   "metadata": {},
   "source": [
    "Не все пользователь отправляют сообщения. Кому что удобней."
   ]
  },
  {
   "cell_type": "code",
   "execution_count": 36,
   "id": "e26ade56",
   "metadata": {},
   "outputs": [],
   "source": [
    "# переименование столбца\n",
    "messages.rename(columns={'id': 'messages_id'}, inplace=True)"
   ]
  },
  {
   "cell_type": "markdown",
   "id": "cec11c82",
   "metadata": {},
   "source": [
    "**Вывод.** Данные в таблице `messages` корректны."
   ]
  },
  {
   "cell_type": "markdown",
   "id": "a518fb5d",
   "metadata": {},
   "source": [
    "####  Таблица `users`"
   ]
  },
  {
   "cell_type": "code",
   "execution_count": 37,
   "id": "b691c355",
   "metadata": {},
   "outputs": [
    {
     "data": {
      "text/html": [
       "<div>\n",
       "<style scoped>\n",
       "    .dataframe tbody tr th:only-of-type {\n",
       "        vertical-align: middle;\n",
       "    }\n",
       "\n",
       "    .dataframe tbody tr th {\n",
       "        vertical-align: top;\n",
       "    }\n",
       "\n",
       "    .dataframe thead th {\n",
       "        text-align: right;\n",
       "    }\n",
       "</style>\n",
       "<table border=\"1\" class=\"dataframe\">\n",
       "  <thead>\n",
       "    <tr style=\"text-align: right;\">\n",
       "      <th></th>\n",
       "      <th>count</th>\n",
       "      <th>unique</th>\n",
       "      <th>top</th>\n",
       "      <th>freq</th>\n",
       "      <th>mean</th>\n",
       "      <th>min</th>\n",
       "      <th>25%</th>\n",
       "      <th>50%</th>\n",
       "      <th>75%</th>\n",
       "      <th>max</th>\n",
       "      <th>std</th>\n",
       "    </tr>\n",
       "  </thead>\n",
       "  <tbody>\n",
       "    <tr>\n",
       "      <th>user_id</th>\n",
       "      <td>500.0</td>\n",
       "      <td>NaN</td>\n",
       "      <td>NaN</td>\n",
       "      <td>NaN</td>\n",
       "      <td>1249.5</td>\n",
       "      <td>1000.0</td>\n",
       "      <td>1124.75</td>\n",
       "      <td>1249.5</td>\n",
       "      <td>1374.25</td>\n",
       "      <td>1499.0</td>\n",
       "      <td>144.481833</td>\n",
       "    </tr>\n",
       "    <tr>\n",
       "      <th>age</th>\n",
       "      <td>500.0</td>\n",
       "      <td>NaN</td>\n",
       "      <td>NaN</td>\n",
       "      <td>NaN</td>\n",
       "      <td>46.588</td>\n",
       "      <td>18.0</td>\n",
       "      <td>32.0</td>\n",
       "      <td>46.0</td>\n",
       "      <td>62.0</td>\n",
       "      <td>75.0</td>\n",
       "      <td>16.66763</td>\n",
       "    </tr>\n",
       "    <tr>\n",
       "      <th>churn_date</th>\n",
       "      <td>38</td>\n",
       "      <td>NaN</td>\n",
       "      <td>NaN</td>\n",
       "      <td>NaN</td>\n",
       "      <td>2018-11-13 00:37:53.684210432</td>\n",
       "      <td>2018-08-17 00:00:00</td>\n",
       "      <td>2018-10-14 00:00:00</td>\n",
       "      <td>2018-11-24 00:00:00</td>\n",
       "      <td>2018-12-15 12:00:00</td>\n",
       "      <td>2018-12-30 00:00:00</td>\n",
       "      <td>NaN</td>\n",
       "    </tr>\n",
       "    <tr>\n",
       "      <th>city</th>\n",
       "      <td>500</td>\n",
       "      <td>76</td>\n",
       "      <td>Москва</td>\n",
       "      <td>99</td>\n",
       "      <td>NaN</td>\n",
       "      <td>NaN</td>\n",
       "      <td>NaN</td>\n",
       "      <td>NaN</td>\n",
       "      <td>NaN</td>\n",
       "      <td>NaN</td>\n",
       "      <td>NaN</td>\n",
       "    </tr>\n",
       "    <tr>\n",
       "      <th>reg_date</th>\n",
       "      <td>500</td>\n",
       "      <td>NaN</td>\n",
       "      <td>NaN</td>\n",
       "      <td>NaN</td>\n",
       "      <td>2018-06-30 18:57:35.999999744</td>\n",
       "      <td>2018-01-01 00:00:00</td>\n",
       "      <td>2018-04-07 12:00:00</td>\n",
       "      <td>2018-07-02 12:00:00</td>\n",
       "      <td>2018-09-29 00:00:00</td>\n",
       "      <td>2018-12-31 00:00:00</td>\n",
       "      <td>NaN</td>\n",
       "    </tr>\n",
       "    <tr>\n",
       "      <th>tariff</th>\n",
       "      <td>500</td>\n",
       "      <td>2</td>\n",
       "      <td>smart</td>\n",
       "      <td>351</td>\n",
       "      <td>NaN</td>\n",
       "      <td>NaN</td>\n",
       "      <td>NaN</td>\n",
       "      <td>NaN</td>\n",
       "      <td>NaN</td>\n",
       "      <td>NaN</td>\n",
       "      <td>NaN</td>\n",
       "    </tr>\n",
       "  </tbody>\n",
       "</table>\n",
       "</div>"
      ],
      "text/plain": [
       "            count unique     top freq                           mean  \\\n",
       "user_id     500.0    NaN     NaN  NaN                         1249.5   \n",
       "age         500.0    NaN     NaN  NaN                         46.588   \n",
       "churn_date     38    NaN     NaN  NaN  2018-11-13 00:37:53.684210432   \n",
       "city          500     76  Москва   99                            NaN   \n",
       "reg_date      500    NaN     NaN  NaN  2018-06-30 18:57:35.999999744   \n",
       "tariff        500      2   smart  351                            NaN   \n",
       "\n",
       "                            min                  25%                  50%  \\\n",
       "user_id                  1000.0              1124.75               1249.5   \n",
       "age                        18.0                 32.0                 46.0   \n",
       "churn_date  2018-08-17 00:00:00  2018-10-14 00:00:00  2018-11-24 00:00:00   \n",
       "city                        NaN                  NaN                  NaN   \n",
       "reg_date    2018-01-01 00:00:00  2018-04-07 12:00:00  2018-07-02 12:00:00   \n",
       "tariff                      NaN                  NaN                  NaN   \n",
       "\n",
       "                            75%                  max         std  \n",
       "user_id                 1374.25               1499.0  144.481833  \n",
       "age                        62.0                 75.0    16.66763  \n",
       "churn_date  2018-12-15 12:00:00  2018-12-30 00:00:00         NaN  \n",
       "city                        NaN                  NaN         NaN  \n",
       "reg_date    2018-09-29 00:00:00  2018-12-31 00:00:00         NaN  \n",
       "tariff                      NaN                  NaN         NaN  "
      ]
     },
     "execution_count": 37,
     "metadata": {},
     "output_type": "execute_result"
    }
   ],
   "source": [
    "users.describe(include='all', datetime_is_numeric=True).T"
   ]
  },
  {
   "cell_type": "code",
   "execution_count": 38,
   "id": "f4aa19aa",
   "metadata": {},
   "outputs": [
    {
     "data": {
      "text/plain": [
       "500"
      ]
     },
     "execution_count": 38,
     "metadata": {},
     "output_type": "execute_result"
    }
   ],
   "source": [
    "# число уникальных пользователей\n",
    "len(users.user_id.unique())"
   ]
  },
  {
   "cell_type": "code",
   "execution_count": 39,
   "id": "dc2798e3",
   "metadata": {},
   "outputs": [
    {
     "data": {
      "text/plain": [
       "smart    351\n",
       "ultra    149\n",
       "Name: tariff, dtype: int64"
      ]
     },
     "execution_count": 39,
     "metadata": {},
     "output_type": "execute_result"
    }
   ],
   "source": [
    "# посмотрим на распределение значения tariff\n",
    "users.tariff.value_counts()"
   ]
  },
  {
   "cell_type": "markdown",
   "id": "7a98f6f7",
   "metadata": {},
   "source": [
    "- Число уникальных пользователей `user_id` совпадает с их общим числом *count*, значит дубликатов нет. \n",
    "- Колонка `age` - заполнены все 500 значений, параметры возраста соответствуют действительным: от 18 до 75 лет.\n",
    "- Колонка `churn_date` - заполнены 38 значений из 500, это говорит о том, что только 38 клиентов закрыли тариф в исследуемом году, а остальные продолжают им пользоваться.\n",
    "- Колонка `city` заполнены все 500 значений, среди них уникальных - 76. *Москва* лидирует по количеству клиентов, их 99.\n",
    "- Колонка `tariff` имеет всего два уникальных значения, что логично, заполнены все 500 значений. Однако, **распределение клиентов неравномерно**, отличается более чем в 2 раза, что может сказаться на оценке суммарных показателей тарифов."
   ]
  },
  {
   "cell_type": "code",
   "execution_count": 40,
   "id": "f38a3483",
   "metadata": {},
   "outputs": [
    {
     "data": {
      "text/plain": [
       "array([52, 41, 59, 23, 68, 67, 21, 65, 63, 24, 26, 44, 38, 36, 64, 58, 73,\n",
       "       71, 61, 72, 42, 56, 32, 62, 20, 51, 28, 66, 31, 37, 47, 40, 69, 48,\n",
       "       33, 39, 43, 46, 45, 55, 53, 34, 49, 25, 18, 70, 50, 19, 54, 60, 29,\n",
       "       27, 74, 22, 30, 75, 57, 35])"
      ]
     },
     "execution_count": 40,
     "metadata": {},
     "output_type": "execute_result"
    }
   ],
   "source": [
    "# посмотрим на уникальные значения age\n",
    "users.age.unique()"
   ]
  },
  {
   "cell_type": "code",
   "execution_count": 41,
   "id": "33df6752",
   "metadata": {
    "scrolled": true
   },
   "outputs": [
    {
     "data": {
      "text/plain": [
       "['Архангельск',\n",
       " 'Астрахань',\n",
       " 'Балашиха',\n",
       " 'Барнаул',\n",
       " 'Белгород',\n",
       " 'Брянск',\n",
       " 'Владивосток',\n",
       " 'Владикавказ',\n",
       " 'Владимир',\n",
       " 'Волгоград',\n",
       " 'Волжский',\n",
       " 'Вологда',\n",
       " 'Воронеж',\n",
       " 'Грозный',\n",
       " 'Екатеринбург',\n",
       " 'Иваново',\n",
       " 'Ижевск',\n",
       " 'Иркутск',\n",
       " 'Казань',\n",
       " 'Калининград',\n",
       " 'Калуга',\n",
       " 'Кемерово',\n",
       " 'Киров',\n",
       " 'Кострома',\n",
       " 'Краснодар',\n",
       " 'Красноярск',\n",
       " 'Курган',\n",
       " 'Курск',\n",
       " 'Липецк',\n",
       " 'Магнитогорск',\n",
       " 'Махачкала',\n",
       " 'Москва',\n",
       " 'Мурманск',\n",
       " 'Набережные Челны',\n",
       " 'Нижневартовск',\n",
       " 'Нижний Новгород',\n",
       " 'Нижний Тагил',\n",
       " 'Новокузнецк',\n",
       " 'Новороссийск',\n",
       " 'Новосибирск',\n",
       " 'Омск',\n",
       " 'Оренбург',\n",
       " 'Орёл',\n",
       " 'Пенза',\n",
       " 'Пермь',\n",
       " 'Петрозаводск',\n",
       " 'Подольск',\n",
       " 'Ростов-на-Дону',\n",
       " 'Рязань',\n",
       " 'Самара',\n",
       " 'Санкт-Петербург',\n",
       " 'Саранск',\n",
       " 'Саратов',\n",
       " 'Севастополь',\n",
       " 'Смоленск',\n",
       " 'Сочи',\n",
       " 'Ставрополь',\n",
       " 'Стерлитамак',\n",
       " 'Сургут',\n",
       " 'Тамбов',\n",
       " 'Тверь',\n",
       " 'Тольятти',\n",
       " 'Томск',\n",
       " 'Тула',\n",
       " 'Тюмень',\n",
       " 'Улан-Удэ',\n",
       " 'Ульяновск',\n",
       " 'Уфа',\n",
       " 'Хабаровск',\n",
       " 'Химки',\n",
       " 'Чебоксары',\n",
       " 'Челябинск',\n",
       " 'Череповец',\n",
       " 'Чита',\n",
       " 'Якутск',\n",
       " 'Ярославль']"
      ]
     },
     "execution_count": 41,
     "metadata": {},
     "output_type": "execute_result"
    }
   ],
   "source": [
    "# посмотрим на уникальные значения city\n",
    "sorted(users.city.unique())"
   ]
  },
  {
   "cell_type": "markdown",
   "id": "c3661615",
   "metadata": {},
   "source": [
    "Неявных дубликатов и аномалий не выявлено.\n"
   ]
  },
  {
   "cell_type": "markdown",
   "id": "e906ff69",
   "metadata": {},
   "source": [
    "**Вывод.** Данные в таблице `users` корректны."
   ]
  },
  {
   "cell_type": "markdown",
   "id": "a305022d",
   "metadata": {},
   "source": [
    "#### Таблица `tariffs`"
   ]
  },
  {
   "cell_type": "code",
   "execution_count": 42,
   "id": "050459ec",
   "metadata": {},
   "outputs": [
    {
     "data": {
      "text/html": [
       "<div>\n",
       "<style scoped>\n",
       "    .dataframe tbody tr th:only-of-type {\n",
       "        vertical-align: middle;\n",
       "    }\n",
       "\n",
       "    .dataframe tbody tr th {\n",
       "        vertical-align: top;\n",
       "    }\n",
       "\n",
       "    .dataframe thead th {\n",
       "        text-align: right;\n",
       "    }\n",
       "</style>\n",
       "<table border=\"1\" class=\"dataframe\">\n",
       "  <thead>\n",
       "    <tr style=\"text-align: right;\">\n",
       "      <th></th>\n",
       "      <th>messages_included</th>\n",
       "      <th>mb_per_month_included</th>\n",
       "      <th>minutes_included</th>\n",
       "      <th>rub_monthly_fee</th>\n",
       "      <th>rub_per_gb</th>\n",
       "      <th>rub_per_message</th>\n",
       "      <th>rub_per_minute</th>\n",
       "      <th>tariff_name</th>\n",
       "    </tr>\n",
       "  </thead>\n",
       "  <tbody>\n",
       "    <tr>\n",
       "      <th>0</th>\n",
       "      <td>50</td>\n",
       "      <td>15360</td>\n",
       "      <td>500</td>\n",
       "      <td>550</td>\n",
       "      <td>200</td>\n",
       "      <td>3</td>\n",
       "      <td>3</td>\n",
       "      <td>smart</td>\n",
       "    </tr>\n",
       "    <tr>\n",
       "      <th>1</th>\n",
       "      <td>1000</td>\n",
       "      <td>30720</td>\n",
       "      <td>3000</td>\n",
       "      <td>1950</td>\n",
       "      <td>150</td>\n",
       "      <td>1</td>\n",
       "      <td>1</td>\n",
       "      <td>ultra</td>\n",
       "    </tr>\n",
       "  </tbody>\n",
       "</table>\n",
       "</div>"
      ],
      "text/plain": [
       "   messages_included  mb_per_month_included  minutes_included  \\\n",
       "0                 50                  15360               500   \n",
       "1               1000                  30720              3000   \n",
       "\n",
       "   rub_monthly_fee  rub_per_gb  rub_per_message  rub_per_minute tariff_name  \n",
       "0              550         200                3               3       smart  \n",
       "1             1950         150                1               1       ultra  "
      ]
     },
     "execution_count": 42,
     "metadata": {},
     "output_type": "execute_result"
    }
   ],
   "source": [
    "tariffs"
   ]
  },
  {
   "cell_type": "markdown",
   "id": "6e648082",
   "metadata": {},
   "source": [
    "Для удобства рассчетов переведем значение мегабайт в гигабайты."
   ]
  },
  {
   "cell_type": "code",
   "execution_count": 43,
   "id": "b8904a6c",
   "metadata": {},
   "outputs": [
    {
     "data": {
      "text/html": [
       "<div>\n",
       "<style scoped>\n",
       "    .dataframe tbody tr th:only-of-type {\n",
       "        vertical-align: middle;\n",
       "    }\n",
       "\n",
       "    .dataframe tbody tr th {\n",
       "        vertical-align: top;\n",
       "    }\n",
       "\n",
       "    .dataframe thead th {\n",
       "        text-align: right;\n",
       "    }\n",
       "</style>\n",
       "<table border=\"1\" class=\"dataframe\">\n",
       "  <thead>\n",
       "    <tr style=\"text-align: right;\">\n",
       "      <th></th>\n",
       "      <th>messages_included</th>\n",
       "      <th>gb_per_month_included</th>\n",
       "      <th>minutes_included</th>\n",
       "      <th>rub_monthly_fee</th>\n",
       "      <th>rub_per_gb</th>\n",
       "      <th>rub_per_message</th>\n",
       "      <th>rub_per_minute</th>\n",
       "      <th>tariff_name</th>\n",
       "    </tr>\n",
       "  </thead>\n",
       "  <tbody>\n",
       "    <tr>\n",
       "      <th>0</th>\n",
       "      <td>50</td>\n",
       "      <td>15.0</td>\n",
       "      <td>500</td>\n",
       "      <td>550</td>\n",
       "      <td>200</td>\n",
       "      <td>3</td>\n",
       "      <td>3</td>\n",
       "      <td>smart</td>\n",
       "    </tr>\n",
       "    <tr>\n",
       "      <th>1</th>\n",
       "      <td>1000</td>\n",
       "      <td>30.0</td>\n",
       "      <td>3000</td>\n",
       "      <td>1950</td>\n",
       "      <td>150</td>\n",
       "      <td>1</td>\n",
       "      <td>1</td>\n",
       "      <td>ultra</td>\n",
       "    </tr>\n",
       "  </tbody>\n",
       "</table>\n",
       "</div>"
      ],
      "text/plain": [
       "   messages_included  gb_per_month_included  minutes_included  \\\n",
       "0                 50                   15.0               500   \n",
       "1               1000                   30.0              3000   \n",
       "\n",
       "   rub_monthly_fee  rub_per_gb  rub_per_message  rub_per_minute tariff_name  \n",
       "0              550         200                3               3       smart  \n",
       "1             1950         150                1               1       ultra  "
      ]
     },
     "execution_count": 43,
     "metadata": {},
     "output_type": "execute_result"
    }
   ],
   "source": [
    "tariffs['mb_per_month_included'] = tariffs['mb_per_month_included']/1024\n",
    "tariffs = tariffs.rename(columns={'mb_per_month_included':'gb_per_month_included'})\n",
    "tariffs"
   ]
  },
  {
   "cell_type": "markdown",
   "id": "40f0c150",
   "metadata": {},
   "source": [
    "Вывод. Данные в таблице `tariffs` корректны."
   ]
  },
  {
   "cell_type": "markdown",
   "id": "d122e00e",
   "metadata": {},
   "source": [
    "#### Проверка дубликатов"
   ]
  },
  {
   "cell_type": "code",
   "execution_count": 44,
   "id": "767b652c",
   "metadata": {
    "scrolled": true
   },
   "outputs": [
    {
     "name": "stdout",
     "output_type": "stream",
     "text": [
      "Дубликатов в calls: 0\n",
      "Дубликатов в users: 0\n",
      "Дубликатов в messages: 0\n",
      "Дубликатов в internet: 0\n"
     ]
    }
   ],
   "source": [
    "# без аттрибута name не хотят выводить на печать название таблицы\n",
    "calls.name = 'calls'\n",
    "users.name = 'users'\n",
    "messages.name = 'messages'\n",
    "internet.name = 'internet'\n",
    "\n",
    "tables = [calls, users, messages, internet]\n",
    "for df in tables:\n",
    "    print(f'Дубликатов в {df.name}: {df.duplicated().sum()}')\n"
   ]
  },
  {
   "cell_type": "markdown",
   "id": "952acc7f",
   "metadata": {},
   "source": [
    "Вывод. Дубликатов в таблицах нет."
   ]
  },
  {
   "cell_type": "markdown",
   "id": "8ea3ce23",
   "metadata": {},
   "source": [
    "### Вывод. \n",
    "В процессе подготовки данные были проверены на наличие пропусков, аномальных значений, выбросов. Изъяны обнаружены не были, это говорит о хорошем качестве данных. Удалены лишние неинформативные столбцы. Удалены баластные данные по двум клиентам, которые фактически не пользовались тарифом. Столбцы, содержащие даты приведены к типу **datetime**"
   ]
  },
  {
   "cell_type": "markdown",
   "id": "697011e8",
   "metadata": {},
   "source": [
    "## Расчет показателей для каждого клиента."
   ]
  },
  {
   "cell_type": "markdown",
   "id": "ead2ffec",
   "metadata": {},
   "source": [
    "### Создание дополнительных столбцов."
   ]
  },
  {
   "cell_type": "markdown",
   "id": "ae09d7bd",
   "metadata": {},
   "source": [
    "Для группировки и подсчета помесячных показателей создадим дополнительные столбцы с указанием месяца для трех таблиц: `calls`, `messages` и `internet`."
   ]
  },
  {
   "cell_type": "code",
   "execution_count": 45,
   "id": "9c35e65e",
   "metadata": {},
   "outputs": [
    {
     "data": {
      "text/html": [
       "<div>\n",
       "<style scoped>\n",
       "    .dataframe tbody tr th:only-of-type {\n",
       "        vertical-align: middle;\n",
       "    }\n",
       "\n",
       "    .dataframe tbody tr th {\n",
       "        vertical-align: top;\n",
       "    }\n",
       "\n",
       "    .dataframe thead th {\n",
       "        text-align: right;\n",
       "    }\n",
       "</style>\n",
       "<table border=\"1\" class=\"dataframe\">\n",
       "  <thead>\n",
       "    <tr style=\"text-align: right;\">\n",
       "      <th></th>\n",
       "      <th>calls_id</th>\n",
       "      <th>call_date</th>\n",
       "      <th>duration</th>\n",
       "      <th>user_id</th>\n",
       "      <th>month</th>\n",
       "    </tr>\n",
       "  </thead>\n",
       "  <tbody>\n",
       "    <tr>\n",
       "      <th>0</th>\n",
       "      <td>1000_0</td>\n",
       "      <td>2018-07-25</td>\n",
       "      <td>0.00</td>\n",
       "      <td>1000</td>\n",
       "      <td>7</td>\n",
       "    </tr>\n",
       "    <tr>\n",
       "      <th>1</th>\n",
       "      <td>1000_1</td>\n",
       "      <td>2018-08-17</td>\n",
       "      <td>0.00</td>\n",
       "      <td>1000</td>\n",
       "      <td>8</td>\n",
       "    </tr>\n",
       "    <tr>\n",
       "      <th>2</th>\n",
       "      <td>1000_2</td>\n",
       "      <td>2018-06-11</td>\n",
       "      <td>2.85</td>\n",
       "      <td>1000</td>\n",
       "      <td>6</td>\n",
       "    </tr>\n",
       "  </tbody>\n",
       "</table>\n",
       "</div>"
      ],
      "text/plain": [
       "  calls_id  call_date  duration  user_id  month\n",
       "0   1000_0 2018-07-25      0.00     1000      7\n",
       "1   1000_1 2018-08-17      0.00     1000      8\n",
       "2   1000_2 2018-06-11      2.85     1000      6"
      ]
     },
     "metadata": {},
     "output_type": "display_data"
    },
    {
     "data": {
      "text/html": [
       "<div>\n",
       "<style scoped>\n",
       "    .dataframe tbody tr th:only-of-type {\n",
       "        vertical-align: middle;\n",
       "    }\n",
       "\n",
       "    .dataframe tbody tr th {\n",
       "        vertical-align: top;\n",
       "    }\n",
       "\n",
       "    .dataframe thead th {\n",
       "        text-align: right;\n",
       "    }\n",
       "</style>\n",
       "<table border=\"1\" class=\"dataframe\">\n",
       "  <thead>\n",
       "    <tr style=\"text-align: right;\">\n",
       "      <th></th>\n",
       "      <th>messages_id</th>\n",
       "      <th>message_date</th>\n",
       "      <th>user_id</th>\n",
       "      <th>month</th>\n",
       "    </tr>\n",
       "  </thead>\n",
       "  <tbody>\n",
       "    <tr>\n",
       "      <th>20691</th>\n",
       "      <td>1089_694</td>\n",
       "      <td>2018-10-01</td>\n",
       "      <td>1089</td>\n",
       "      <td>10</td>\n",
       "    </tr>\n",
       "    <tr>\n",
       "      <th>62460</th>\n",
       "      <td>1274_46</td>\n",
       "      <td>2018-07-06</td>\n",
       "      <td>1274</td>\n",
       "      <td>7</td>\n",
       "    </tr>\n",
       "    <tr>\n",
       "      <th>21093</th>\n",
       "      <td>1089_1096</td>\n",
       "      <td>2018-07-25</td>\n",
       "      <td>1089</td>\n",
       "      <td>7</td>\n",
       "    </tr>\n",
       "  </tbody>\n",
       "</table>\n",
       "</div>"
      ],
      "text/plain": [
       "      messages_id message_date  user_id  month\n",
       "20691    1089_694   2018-10-01     1089     10\n",
       "62460     1274_46   2018-07-06     1274      7\n",
       "21093   1089_1096   2018-07-25     1089      7"
      ]
     },
     "metadata": {},
     "output_type": "display_data"
    },
    {
     "data": {
      "text/html": [
       "<div>\n",
       "<style scoped>\n",
       "    .dataframe tbody tr th:only-of-type {\n",
       "        vertical-align: middle;\n",
       "    }\n",
       "\n",
       "    .dataframe tbody tr th {\n",
       "        vertical-align: top;\n",
       "    }\n",
       "\n",
       "    .dataframe thead th {\n",
       "        text-align: right;\n",
       "    }\n",
       "</style>\n",
       "<table border=\"1\" class=\"dataframe\">\n",
       "  <thead>\n",
       "    <tr style=\"text-align: right;\">\n",
       "      <th></th>\n",
       "      <th>internet_id</th>\n",
       "      <th>mb_used</th>\n",
       "      <th>session_date</th>\n",
       "      <th>user_id</th>\n",
       "      <th>month</th>\n",
       "    </tr>\n",
       "  </thead>\n",
       "  <tbody>\n",
       "    <tr>\n",
       "      <th>149392</th>\n",
       "      <td>1499_153</td>\n",
       "      <td>490.13</td>\n",
       "      <td>2018-12-14</td>\n",
       "      <td>1499</td>\n",
       "      <td>12</td>\n",
       "    </tr>\n",
       "    <tr>\n",
       "      <th>149394</th>\n",
       "      <td>1499_155</td>\n",
       "      <td>1246.32</td>\n",
       "      <td>2018-11-26</td>\n",
       "      <td>1499</td>\n",
       "      <td>11</td>\n",
       "    </tr>\n",
       "    <tr>\n",
       "      <th>149395</th>\n",
       "      <td>1499_156</td>\n",
       "      <td>544.37</td>\n",
       "      <td>2018-10-26</td>\n",
       "      <td>1499</td>\n",
       "      <td>10</td>\n",
       "    </tr>\n",
       "  </tbody>\n",
       "</table>\n",
       "</div>"
      ],
      "text/plain": [
       "       internet_id  mb_used session_date  user_id  month\n",
       "149392    1499_153   490.13   2018-12-14     1499     12\n",
       "149394    1499_155  1246.32   2018-11-26     1499     11\n",
       "149395    1499_156   544.37   2018-10-26     1499     10"
      ]
     },
     "metadata": {},
     "output_type": "display_data"
    }
   ],
   "source": [
    "calls['month'] = calls['call_date'].dt.month\n",
    "messages['month'] = messages['message_date'].dt.month\n",
    "internet['month'] = internet['session_date'].dt.month\n",
    "display(calls.head(3), messages.sample(3), internet.tail(3))"
   ]
  },
  {
   "cell_type": "markdown",
   "id": "0dd0d16e",
   "metadata": {},
   "source": [
    " #### Найдем количество сделанных клиентом звонков и израсходованных минут разговора по месяцам."
   ]
  },
  {
   "cell_type": "markdown",
   "id": "c8edccd0",
   "metadata": {},
   "source": [
    "Округлим значения *duration* в большую сторону, согласно правилам тарифа."
   ]
  },
  {
   "cell_type": "code",
   "execution_count": 46,
   "id": "a97475cd",
   "metadata": {},
   "outputs": [
    {
     "data": {
      "text/html": [
       "<div>\n",
       "<style scoped>\n",
       "    .dataframe tbody tr th:only-of-type {\n",
       "        vertical-align: middle;\n",
       "    }\n",
       "\n",
       "    .dataframe tbody tr th {\n",
       "        vertical-align: top;\n",
       "    }\n",
       "\n",
       "    .dataframe thead th {\n",
       "        text-align: right;\n",
       "    }\n",
       "</style>\n",
       "<table border=\"1\" class=\"dataframe\">\n",
       "  <thead>\n",
       "    <tr style=\"text-align: right;\">\n",
       "      <th></th>\n",
       "      <th>calls_id</th>\n",
       "      <th>call_date</th>\n",
       "      <th>duration</th>\n",
       "      <th>user_id</th>\n",
       "      <th>month</th>\n",
       "    </tr>\n",
       "  </thead>\n",
       "  <tbody>\n",
       "    <tr>\n",
       "      <th>8904</th>\n",
       "      <td>1023_112</td>\n",
       "      <td>2018-12-14</td>\n",
       "      <td>0.0</td>\n",
       "      <td>1023</td>\n",
       "      <td>12</td>\n",
       "    </tr>\n",
       "    <tr>\n",
       "      <th>189806</th>\n",
       "      <td>1467_73</td>\n",
       "      <td>2018-12-11</td>\n",
       "      <td>6.0</td>\n",
       "      <td>1467</td>\n",
       "      <td>12</td>\n",
       "    </tr>\n",
       "    <tr>\n",
       "      <th>89967</th>\n",
       "      <td>1225_227</td>\n",
       "      <td>2018-11-07</td>\n",
       "      <td>15.0</td>\n",
       "      <td>1225</td>\n",
       "      <td>11</td>\n",
       "    </tr>\n",
       "    <tr>\n",
       "      <th>25421</th>\n",
       "      <td>1064_30</td>\n",
       "      <td>2018-08-11</td>\n",
       "      <td>0.0</td>\n",
       "      <td>1064</td>\n",
       "      <td>8</td>\n",
       "    </tr>\n",
       "    <tr>\n",
       "      <th>190803</th>\n",
       "      <td>1469_422</td>\n",
       "      <td>2018-07-12</td>\n",
       "      <td>6.0</td>\n",
       "      <td>1469</td>\n",
       "      <td>7</td>\n",
       "    </tr>\n",
       "  </tbody>\n",
       "</table>\n",
       "</div>"
      ],
      "text/plain": [
       "        calls_id  call_date  duration  user_id  month\n",
       "8904    1023_112 2018-12-14       0.0     1023     12\n",
       "189806   1467_73 2018-12-11       6.0     1467     12\n",
       "89967   1225_227 2018-11-07      15.0     1225     11\n",
       "25421    1064_30 2018-08-11       0.0     1064      8\n",
       "190803  1469_422 2018-07-12       6.0     1469      7"
      ]
     },
     "execution_count": 46,
     "metadata": {},
     "output_type": "execute_result"
    }
   ],
   "source": [
    "calls['duration'] = np.ceil(calls['duration'])\n",
    "calls.sample(5)"
   ]
  },
  {
   "cell_type": "markdown",
   "id": "714b6ce7",
   "metadata": {},
   "source": [
    "Для группировки будем использовать только значения `duration` отличные от 0, поскольку пропущенные звонки не списываются с тарифа."
   ]
  },
  {
   "cell_type": "code",
   "execution_count": 47,
   "id": "e11f36fd",
   "metadata": {},
   "outputs": [
    {
     "data": {
      "text/html": [
       "<div>\n",
       "<style scoped>\n",
       "    .dataframe tbody tr th:only-of-type {\n",
       "        vertical-align: middle;\n",
       "    }\n",
       "\n",
       "    .dataframe tbody tr th {\n",
       "        vertical-align: top;\n",
       "    }\n",
       "\n",
       "    .dataframe thead th {\n",
       "        text-align: right;\n",
       "    }\n",
       "</style>\n",
       "<table border=\"1\" class=\"dataframe\">\n",
       "  <thead>\n",
       "    <tr style=\"text-align: right;\">\n",
       "      <th></th>\n",
       "      <th>user_id</th>\n",
       "      <th>month</th>\n",
       "      <th>calls</th>\n",
       "      <th>minutes</th>\n",
       "    </tr>\n",
       "  </thead>\n",
       "  <tbody>\n",
       "    <tr>\n",
       "      <th>0</th>\n",
       "      <td>1000</td>\n",
       "      <td>5</td>\n",
       "      <td>17</td>\n",
       "      <td>159.0</td>\n",
       "    </tr>\n",
       "    <tr>\n",
       "      <th>1</th>\n",
       "      <td>1000</td>\n",
       "      <td>6</td>\n",
       "      <td>28</td>\n",
       "      <td>172.0</td>\n",
       "    </tr>\n",
       "    <tr>\n",
       "      <th>2</th>\n",
       "      <td>1000</td>\n",
       "      <td>7</td>\n",
       "      <td>41</td>\n",
       "      <td>340.0</td>\n",
       "    </tr>\n",
       "    <tr>\n",
       "      <th>3</th>\n",
       "      <td>1000</td>\n",
       "      <td>8</td>\n",
       "      <td>42</td>\n",
       "      <td>408.0</td>\n",
       "    </tr>\n",
       "    <tr>\n",
       "      <th>4</th>\n",
       "      <td>1000</td>\n",
       "      <td>9</td>\n",
       "      <td>46</td>\n",
       "      <td>466.0</td>\n",
       "    </tr>\n",
       "  </tbody>\n",
       "</table>\n",
       "</div>"
      ],
      "text/plain": [
       "   user_id  month  calls  minutes\n",
       "0     1000      5     17    159.0\n",
       "1     1000      6     28    172.0\n",
       "2     1000      7     41    340.0\n",
       "3     1000      8     42    408.0\n",
       "4     1000      9     46    466.0"
      ]
     },
     "execution_count": 47,
     "metadata": {},
     "output_type": "execute_result"
    }
   ],
   "source": [
    "calls_month = calls.query('duration != 0').groupby(['user_id', 'month']).duration.agg(['count', 'sum']).reset_index()\n",
    "calls_month.columns = ['user_id', 'month', 'calls', 'minutes']\n",
    "calls_month.head()"
   ]
  },
  {
   "cell_type": "markdown",
   "id": "bdf143f0",
   "metadata": {},
   "source": [
    "#### Найдем количество отправленных сообщений по месяцам"
   ]
  },
  {
   "cell_type": "code",
   "execution_count": 48,
   "id": "e7ba7671",
   "metadata": {},
   "outputs": [
    {
     "data": {
      "text/html": [
       "<div>\n",
       "<style scoped>\n",
       "    .dataframe tbody tr th:only-of-type {\n",
       "        vertical-align: middle;\n",
       "    }\n",
       "\n",
       "    .dataframe tbody tr th {\n",
       "        vertical-align: top;\n",
       "    }\n",
       "\n",
       "    .dataframe thead th {\n",
       "        text-align: right;\n",
       "    }\n",
       "</style>\n",
       "<table border=\"1\" class=\"dataframe\">\n",
       "  <thead>\n",
       "    <tr style=\"text-align: right;\">\n",
       "      <th></th>\n",
       "      <th>user_id</th>\n",
       "      <th>month</th>\n",
       "      <th>messages</th>\n",
       "    </tr>\n",
       "  </thead>\n",
       "  <tbody>\n",
       "    <tr>\n",
       "      <th>0</th>\n",
       "      <td>1000</td>\n",
       "      <td>5</td>\n",
       "      <td>22</td>\n",
       "    </tr>\n",
       "    <tr>\n",
       "      <th>1</th>\n",
       "      <td>1000</td>\n",
       "      <td>6</td>\n",
       "      <td>60</td>\n",
       "    </tr>\n",
       "    <tr>\n",
       "      <th>2</th>\n",
       "      <td>1000</td>\n",
       "      <td>7</td>\n",
       "      <td>75</td>\n",
       "    </tr>\n",
       "    <tr>\n",
       "      <th>3</th>\n",
       "      <td>1000</td>\n",
       "      <td>8</td>\n",
       "      <td>81</td>\n",
       "    </tr>\n",
       "    <tr>\n",
       "      <th>4</th>\n",
       "      <td>1000</td>\n",
       "      <td>9</td>\n",
       "      <td>57</td>\n",
       "    </tr>\n",
       "  </tbody>\n",
       "</table>\n",
       "</div>"
      ],
      "text/plain": [
       "   user_id  month  messages\n",
       "0     1000      5        22\n",
       "1     1000      6        60\n",
       "2     1000      7        75\n",
       "3     1000      8        81\n",
       "4     1000      9        57"
      ]
     },
     "execution_count": 48,
     "metadata": {},
     "output_type": "execute_result"
    }
   ],
   "source": [
    "messages_month = messages.groupby(['user_id', 'month']).messages_id.agg('count').reset_index()\n",
    "messages_month.columns = ['user_id', 'month', 'messages']\n",
    "messages_month.head()"
   ]
  },
  {
   "cell_type": "markdown",
   "id": "ddb6437d",
   "metadata": {},
   "source": [
    "#### Найдем объем израсходованного интернет-трафика по месяцам."
   ]
  },
  {
   "cell_type": "code",
   "execution_count": 49,
   "id": "741b11ae",
   "metadata": {},
   "outputs": [],
   "source": [
    "internet_month = internet.groupby(['user_id', 'month']).mb_used.agg('sum').reset_index()\n",
    "internet_month.columns = ['user_id', 'month', 'm_b']\n",
    "internet_month['gigabites'] = internet_month['m_b']/1024"
   ]
  },
  {
   "cell_type": "markdown",
   "id": "5b259079",
   "metadata": {},
   "source": [
    "Округлим значения гигабайтов в большую сторону, согласно правила тарифа."
   ]
  },
  {
   "cell_type": "code",
   "execution_count": 50,
   "id": "10dc2b19",
   "metadata": {},
   "outputs": [],
   "source": [
    "internet_month['gigabites'] = np.ceil(internet_month['gigabites'])\n"
   ]
  },
  {
   "cell_type": "code",
   "execution_count": 51,
   "id": "cb658063",
   "metadata": {},
   "outputs": [
    {
     "data": {
      "text/html": [
       "<div>\n",
       "<style scoped>\n",
       "    .dataframe tbody tr th:only-of-type {\n",
       "        vertical-align: middle;\n",
       "    }\n",
       "\n",
       "    .dataframe tbody tr th {\n",
       "        vertical-align: top;\n",
       "    }\n",
       "\n",
       "    .dataframe thead th {\n",
       "        text-align: right;\n",
       "    }\n",
       "</style>\n",
       "<table border=\"1\" class=\"dataframe\">\n",
       "  <thead>\n",
       "    <tr style=\"text-align: right;\">\n",
       "      <th></th>\n",
       "      <th>user_id</th>\n",
       "      <th>month</th>\n",
       "      <th>gigabites</th>\n",
       "    </tr>\n",
       "  </thead>\n",
       "  <tbody>\n",
       "    <tr>\n",
       "      <th>0</th>\n",
       "      <td>1000</td>\n",
       "      <td>5</td>\n",
       "      <td>3.0</td>\n",
       "    </tr>\n",
       "    <tr>\n",
       "      <th>1</th>\n",
       "      <td>1000</td>\n",
       "      <td>6</td>\n",
       "      <td>23.0</td>\n",
       "    </tr>\n",
       "    <tr>\n",
       "      <th>2</th>\n",
       "      <td>1000</td>\n",
       "      <td>7</td>\n",
       "      <td>14.0</td>\n",
       "    </tr>\n",
       "    <tr>\n",
       "      <th>3</th>\n",
       "      <td>1000</td>\n",
       "      <td>8</td>\n",
       "      <td>14.0</td>\n",
       "    </tr>\n",
       "    <tr>\n",
       "      <th>4</th>\n",
       "      <td>1000</td>\n",
       "      <td>9</td>\n",
       "      <td>15.0</td>\n",
       "    </tr>\n",
       "  </tbody>\n",
       "</table>\n",
       "</div>"
      ],
      "text/plain": [
       "   user_id  month  gigabites\n",
       "0     1000      5        3.0\n",
       "1     1000      6       23.0\n",
       "2     1000      7       14.0\n",
       "3     1000      8       14.0\n",
       "4     1000      9       15.0"
      ]
     },
     "execution_count": 51,
     "metadata": {},
     "output_type": "execute_result"
    }
   ],
   "source": [
    "# удалим ненужный столбец m_b\n",
    "internet_month = internet_month.drop([ 'm_b'], axis=1)\n",
    "internet_month.head()"
   ]
  },
  {
   "cell_type": "markdown",
   "id": "b264746e",
   "metadata": {},
   "source": [
    "#### Найдем помесячную выручку с каждого пользователя."
   ]
  },
  {
   "cell_type": "markdown",
   "id": "68c76d32",
   "metadata": {},
   "source": [
    "Для этого вычтем бесплатный лимит из суммарного количества звонков, сообщений и интернет-трафика; остаток умножим на значение из тарифного плана; прибавим абонентскую плату, соответствующую тарифному плану."
   ]
  },
  {
   "cell_type": "markdown",
   "id": "ee5d1e5f",
   "metadata": {},
   "source": [
    "Для начала объединим в одну общую таблицу данные о потребляемых клиентами услугах: *calls_month*, *messages_month* и *internet_month* с данными о клиентах из таблицы *users*. Для этого воспользуемся методом *join*.\n"
   ]
  },
  {
   "cell_type": "markdown",
   "id": "d9f9244d",
   "metadata": {},
   "source": [
    "Отберем в таблицу *users_new* необходимые столбцы из таблицы *users* для дальнейшего объединения и исследования."
   ]
  },
  {
   "cell_type": "code",
   "execution_count": 52,
   "id": "88eddb38",
   "metadata": {},
   "outputs": [],
   "source": [
    "users_new = users.loc[:, ['user_id', 'city', 'tariff', 'age']]"
   ]
  },
  {
   "cell_type": "code",
   "execution_count": 53,
   "id": "f9e9cf22",
   "metadata": {},
   "outputs": [],
   "source": [
    "# присоединим последовательно все таблицы в одну общую \n",
    "union_table = calls_month.join(messages_month.set_index(['user_id','month']),\n",
    "                               on=['user_id','month'], how='outer')\n",
    "union_table = union_table.join(internet_month.set_index(['user_id','month']),\n",
    "                               on=['user_id','month'], how='outer')\n",
    "union_table = (union_table.join(users_new.set_index('user_id'),\n",
    "                                how='outer', on='user_id')).reset_index()"
   ]
  },
  {
   "cell_type": "code",
   "execution_count": 54,
   "id": "53a7251d",
   "metadata": {},
   "outputs": [
    {
     "data": {
      "text/html": [
       "<div>\n",
       "<style scoped>\n",
       "    .dataframe tbody tr th:only-of-type {\n",
       "        vertical-align: middle;\n",
       "    }\n",
       "\n",
       "    .dataframe tbody tr th {\n",
       "        vertical-align: top;\n",
       "    }\n",
       "\n",
       "    .dataframe thead th {\n",
       "        text-align: right;\n",
       "    }\n",
       "</style>\n",
       "<table border=\"1\" class=\"dataframe\">\n",
       "  <thead>\n",
       "    <tr style=\"text-align: right;\">\n",
       "      <th></th>\n",
       "      <th>index</th>\n",
       "      <th>user_id</th>\n",
       "      <th>month</th>\n",
       "      <th>calls</th>\n",
       "      <th>minutes</th>\n",
       "      <th>messages</th>\n",
       "      <th>gigabites</th>\n",
       "      <th>city</th>\n",
       "      <th>tariff</th>\n",
       "      <th>age</th>\n",
       "    </tr>\n",
       "  </thead>\n",
       "  <tbody>\n",
       "    <tr>\n",
       "      <th>3211</th>\n",
       "      <td>3167.0</td>\n",
       "      <td>1489</td>\n",
       "      <td>10.0</td>\n",
       "      <td>NaN</td>\n",
       "      <td>NaN</td>\n",
       "      <td>21.0</td>\n",
       "      <td>20.0</td>\n",
       "      <td>Санкт-Петербург</td>\n",
       "      <td>smart</td>\n",
       "      <td>35</td>\n",
       "    </tr>\n",
       "    <tr>\n",
       "      <th>3212</th>\n",
       "      <td>3167.0</td>\n",
       "      <td>1489</td>\n",
       "      <td>11.0</td>\n",
       "      <td>NaN</td>\n",
       "      <td>NaN</td>\n",
       "      <td>20.0</td>\n",
       "      <td>18.0</td>\n",
       "      <td>Санкт-Петербург</td>\n",
       "      <td>smart</td>\n",
       "      <td>35</td>\n",
       "    </tr>\n",
       "    <tr>\n",
       "      <th>3213</th>\n",
       "      <td>3167.0</td>\n",
       "      <td>1489</td>\n",
       "      <td>12.0</td>\n",
       "      <td>NaN</td>\n",
       "      <td>NaN</td>\n",
       "      <td>35.0</td>\n",
       "      <td>17.0</td>\n",
       "      <td>Санкт-Петербург</td>\n",
       "      <td>smart</td>\n",
       "      <td>35</td>\n",
       "    </tr>\n",
       "    <tr>\n",
       "      <th>3214</th>\n",
       "      <td>NaN</td>\n",
       "      <td>1128</td>\n",
       "      <td>NaN</td>\n",
       "      <td>NaN</td>\n",
       "      <td>NaN</td>\n",
       "      <td>NaN</td>\n",
       "      <td>NaN</td>\n",
       "      <td>Волжский</td>\n",
       "      <td>ultra</td>\n",
       "      <td>51</td>\n",
       "    </tr>\n",
       "    <tr>\n",
       "      <th>3215</th>\n",
       "      <td>NaN</td>\n",
       "      <td>1371</td>\n",
       "      <td>NaN</td>\n",
       "      <td>NaN</td>\n",
       "      <td>NaN</td>\n",
       "      <td>NaN</td>\n",
       "      <td>NaN</td>\n",
       "      <td>Омск</td>\n",
       "      <td>smart</td>\n",
       "      <td>50</td>\n",
       "    </tr>\n",
       "  </tbody>\n",
       "</table>\n",
       "</div>"
      ],
      "text/plain": [
       "       index  user_id  month  calls  minutes  messages  gigabites  \\\n",
       "3211  3167.0     1489   10.0    NaN      NaN      21.0       20.0   \n",
       "3212  3167.0     1489   11.0    NaN      NaN      20.0       18.0   \n",
       "3213  3167.0     1489   12.0    NaN      NaN      35.0       17.0   \n",
       "3214     NaN     1128    NaN    NaN      NaN       NaN        NaN   \n",
       "3215     NaN     1371    NaN    NaN      NaN       NaN        NaN   \n",
       "\n",
       "                 city tariff  age  \n",
       "3211  Санкт-Петербург  smart   35  \n",
       "3212  Санкт-Петербург  smart   35  \n",
       "3213  Санкт-Петербург  smart   35  \n",
       "3214         Волжский  ultra   51  \n",
       "3215             Омск  smart   50  "
      ]
     },
     "execution_count": 54,
     "metadata": {},
     "output_type": "execute_result"
    }
   ],
   "source": [
    "# посмотрим на результат\n",
    "union_table.tail()"
   ]
  },
  {
   "cell_type": "code",
   "execution_count": 55,
   "id": "e0e37ed1",
   "metadata": {},
   "outputs": [
    {
     "data": {
      "text/html": [
       "<div>\n",
       "<style scoped>\n",
       "    .dataframe tbody tr th:only-of-type {\n",
       "        vertical-align: middle;\n",
       "    }\n",
       "\n",
       "    .dataframe tbody tr th {\n",
       "        vertical-align: top;\n",
       "    }\n",
       "\n",
       "    .dataframe thead th {\n",
       "        text-align: right;\n",
       "    }\n",
       "</style>\n",
       "<table border=\"1\" class=\"dataframe\">\n",
       "  <thead>\n",
       "    <tr style=\"text-align: right;\">\n",
       "      <th></th>\n",
       "      <th>user_id</th>\n",
       "      <th>month</th>\n",
       "      <th>calls</th>\n",
       "      <th>minutes</th>\n",
       "      <th>messages</th>\n",
       "      <th>gigabites</th>\n",
       "      <th>city</th>\n",
       "      <th>tariff</th>\n",
       "      <th>age</th>\n",
       "    </tr>\n",
       "  </thead>\n",
       "  <tbody>\n",
       "    <tr>\n",
       "      <th>3211</th>\n",
       "      <td>1489</td>\n",
       "      <td>10.0</td>\n",
       "      <td>NaN</td>\n",
       "      <td>NaN</td>\n",
       "      <td>21.0</td>\n",
       "      <td>20.0</td>\n",
       "      <td>Санкт-Петербург</td>\n",
       "      <td>smart</td>\n",
       "      <td>35</td>\n",
       "    </tr>\n",
       "    <tr>\n",
       "      <th>3212</th>\n",
       "      <td>1489</td>\n",
       "      <td>11.0</td>\n",
       "      <td>NaN</td>\n",
       "      <td>NaN</td>\n",
       "      <td>20.0</td>\n",
       "      <td>18.0</td>\n",
       "      <td>Санкт-Петербург</td>\n",
       "      <td>smart</td>\n",
       "      <td>35</td>\n",
       "    </tr>\n",
       "    <tr>\n",
       "      <th>3213</th>\n",
       "      <td>1489</td>\n",
       "      <td>12.0</td>\n",
       "      <td>NaN</td>\n",
       "      <td>NaN</td>\n",
       "      <td>35.0</td>\n",
       "      <td>17.0</td>\n",
       "      <td>Санкт-Петербург</td>\n",
       "      <td>smart</td>\n",
       "      <td>35</td>\n",
       "    </tr>\n",
       "    <tr>\n",
       "      <th>3214</th>\n",
       "      <td>1128</td>\n",
       "      <td>NaN</td>\n",
       "      <td>NaN</td>\n",
       "      <td>NaN</td>\n",
       "      <td>NaN</td>\n",
       "      <td>NaN</td>\n",
       "      <td>Волжский</td>\n",
       "      <td>ultra</td>\n",
       "      <td>51</td>\n",
       "    </tr>\n",
       "    <tr>\n",
       "      <th>3215</th>\n",
       "      <td>1371</td>\n",
       "      <td>NaN</td>\n",
       "      <td>NaN</td>\n",
       "      <td>NaN</td>\n",
       "      <td>NaN</td>\n",
       "      <td>NaN</td>\n",
       "      <td>Омск</td>\n",
       "      <td>smart</td>\n",
       "      <td>50</td>\n",
       "    </tr>\n",
       "  </tbody>\n",
       "</table>\n",
       "</div>"
      ],
      "text/plain": [
       "      user_id  month  calls  minutes  messages  gigabites             city  \\\n",
       "3211     1489   10.0    NaN      NaN      21.0       20.0  Санкт-Петербург   \n",
       "3212     1489   11.0    NaN      NaN      20.0       18.0  Санкт-Петербург   \n",
       "3213     1489   12.0    NaN      NaN      35.0       17.0  Санкт-Петербург   \n",
       "3214     1128    NaN    NaN      NaN       NaN        NaN         Волжский   \n",
       "3215     1371    NaN    NaN      NaN       NaN        NaN             Омск   \n",
       "\n",
       "     tariff  age  \n",
       "3211  smart   35  \n",
       "3212  smart   35  \n",
       "3213  smart   35  \n",
       "3214  ultra   51  \n",
       "3215  smart   50  "
      ]
     },
     "execution_count": 55,
     "metadata": {},
     "output_type": "execute_result"
    }
   ],
   "source": [
    "# удалим лишний столбец Index\n",
    "union_table = union_table.drop(['index'], axis=1)\n",
    "union_table.tail()"
   ]
  },
  {
   "cell_type": "code",
   "execution_count": 56,
   "id": "78cde395",
   "metadata": {},
   "outputs": [
    {
     "data": {
      "text/plain": [
       "user_id        0\n",
       "month          2\n",
       "calls         48\n",
       "minutes       48\n",
       "messages     499\n",
       "gigabites     15\n",
       "city           0\n",
       "tariff         0\n",
       "age            0\n",
       "dtype: int64"
      ]
     },
     "execution_count": 56,
     "metadata": {},
     "output_type": "execute_result"
    }
   ],
   "source": [
    "# посмотрим на количество пропусков\n",
    "union_table.isna().sum()"
   ]
  },
  {
   "cell_type": "markdown",
   "id": "60d3e680",
   "metadata": {},
   "source": [
    "Пропущенные значения в столбце `month` появились из-за того, что два клиента с user_id 1128 и 1371, как было выше определено, подключились и отключились в конце декабря 2018 года. Однако, следует учесть, что при подключении тариф был оплачен на месяц, следовательно данные об оплате необходимо учесть в рассчетах. Значение месяца установим как *Декабрь*, т.е. 12.\n",
    "Остальные пропущенные значения следует заполнить нулями, поскольку нули будут означать нулевой расход услуг."
   ]
  },
  {
   "cell_type": "code",
   "execution_count": 57,
   "id": "76ce3ee2",
   "metadata": {},
   "outputs": [],
   "source": [
    "union_table['month'] = union_table['month'].fillna(12)\n",
    "union_table = union_table.fillna(0)"
   ]
  },
  {
   "cell_type": "code",
   "execution_count": 58,
   "id": "210a2197",
   "metadata": {},
   "outputs": [
    {
     "data": {
      "text/plain": [
       "user_id      0\n",
       "month        0\n",
       "calls        0\n",
       "minutes      0\n",
       "messages     0\n",
       "gigabites    0\n",
       "city         0\n",
       "tariff       0\n",
       "age          0\n",
       "dtype: int64"
      ]
     },
     "execution_count": 58,
     "metadata": {},
     "output_type": "execute_result"
    }
   ],
   "source": [
    "# проверим наличие пропусков\n",
    "union_table.isna().sum()"
   ]
  },
  {
   "cell_type": "markdown",
   "id": "55700072",
   "metadata": {},
   "source": [
    "Теперь посчитаем выручку. Для этого напишем функцию"
   ]
  },
  {
   "cell_type": "code",
   "execution_count": 59,
   "id": "71fdaba0",
   "metadata": {},
   "outputs": [],
   "source": [
    "# для удобства использования функции составим 2 словаря\n",
    "smart = tariffs.loc[0,:].to_dict()\n",
    "ultra = tariffs.loc[1,:].to_dict()\n"
   ]
  },
  {
   "cell_type": "code",
   "execution_count": 60,
   "id": "917fb286",
   "metadata": {},
   "outputs": [],
   "source": [
    "def profit(row):\n",
    "    \"\"\"\n",
    "    Функция возвращает помесячную выручку с каждого пользователя \n",
    "    (вычитает бесплатный лимит из суммарного количества звонков,\n",
    "    сообщений и интернет-трафика; остаток умножает на значение из тарифного плана;\n",
    "    прибавляет абонентскую плату, соответствующую тарифному плану).\n",
    "    \"\"\"\n",
    "    try:\n",
    "\n",
    "        if row['tariff'] == 'smart':\n",
    "\n",
    "            # изначально прибыль равна абонентской плате\n",
    "            res = smart['rub_monthly_fee']\n",
    "\n",
    "            # прибыль от превышения траффика\n",
    "            traf_diff = row['gigabites'] - smart['gb_per_month_included']\n",
    "            traf_profit = 0 if traf_diff < 0 else traf_diff * smart['rub_per_gb']\n",
    "\n",
    "            # прибыль от превышения минут звонков\n",
    "            call_diff = row['minutes'] - smart['minutes_included']\n",
    "            call_profit = 0 if call_diff < 0 else call_diff * smart['rub_per_minute']\n",
    "\n",
    "            # прибыль от превышения сообщений\n",
    "            mess_diff = row['messages'] - smart['messages_included']\n",
    "            mess_profit = 0 if mess_diff < 0 else mess_diff * smart['rub_per_message']\n",
    "\n",
    "        if row['tariff'] == 'ultra':\n",
    "\n",
    "            # изначально прибыль равна абонентской плате\n",
    "            res = ultra['rub_monthly_fee']\n",
    "\n",
    "            # прибыль от превышения траффика\n",
    "            traf_diff = row['gigabites'] - ultra['gb_per_month_included']\n",
    "            traf_profit = 0 if traf_diff < 0 else traf_diff * ultra['rub_per_gb']\n",
    "\n",
    "            # прибыль от превышения минут звонков\n",
    "            call_diff = row['minutes'] - ultra['minutes_included']\n",
    "            call_profit = 0 if call_diff < 0 else call_diff * ultra['rub_per_minute']\n",
    "\n",
    "            # прибыль от превышения сообщений\n",
    "            mess_diff = row['messages'] - ultra['messages_included']\n",
    "            mess_profit = 0 if mess_diff < 0 else mess_diff * ultra['rub_per_message']\n",
    "\n",
    "        return res + traf_profit + call_profit + mess_profit\n",
    "    except:\n",
    "        return None\n",
    "\n"
   ]
  },
  {
   "cell_type": "code",
   "execution_count": 61,
   "id": "21f1c581",
   "metadata": {},
   "outputs": [],
   "source": [
    "# добавляем рассчитаный столбец к общей таблице\n",
    "union_table['profit'] = union_table.apply(profit, axis=1)"
   ]
  },
  {
   "cell_type": "code",
   "execution_count": 62,
   "id": "82332545",
   "metadata": {},
   "outputs": [
    {
     "data": {
      "text/html": [
       "<div>\n",
       "<style scoped>\n",
       "    .dataframe tbody tr th:only-of-type {\n",
       "        vertical-align: middle;\n",
       "    }\n",
       "\n",
       "    .dataframe tbody tr th {\n",
       "        vertical-align: top;\n",
       "    }\n",
       "\n",
       "    .dataframe thead th {\n",
       "        text-align: right;\n",
       "    }\n",
       "</style>\n",
       "<table border=\"1\" class=\"dataframe\">\n",
       "  <thead>\n",
       "    <tr style=\"text-align: right;\">\n",
       "      <th></th>\n",
       "      <th>user_id</th>\n",
       "      <th>month</th>\n",
       "      <th>calls</th>\n",
       "      <th>minutes</th>\n",
       "      <th>messages</th>\n",
       "      <th>gigabites</th>\n",
       "      <th>city</th>\n",
       "      <th>tariff</th>\n",
       "      <th>age</th>\n",
       "      <th>profit</th>\n",
       "    </tr>\n",
       "  </thead>\n",
       "  <tbody>\n",
       "    <tr>\n",
       "      <th>1170</th>\n",
       "      <td>1185</td>\n",
       "      <td>9.0</td>\n",
       "      <td>93.0</td>\n",
       "      <td>832.0</td>\n",
       "      <td>0.0</td>\n",
       "      <td>42.0</td>\n",
       "      <td>Санкт-Петербург</td>\n",
       "      <td>ultra</td>\n",
       "      <td>26</td>\n",
       "      <td>3750.0</td>\n",
       "    </tr>\n",
       "    <tr>\n",
       "      <th>1176</th>\n",
       "      <td>1186</td>\n",
       "      <td>4.0</td>\n",
       "      <td>62.0</td>\n",
       "      <td>501.0</td>\n",
       "      <td>61.0</td>\n",
       "      <td>7.0</td>\n",
       "      <td>Самара</td>\n",
       "      <td>smart</td>\n",
       "      <td>21</td>\n",
       "      <td>586.0</td>\n",
       "    </tr>\n",
       "    <tr>\n",
       "      <th>2541</th>\n",
       "      <td>1401</td>\n",
       "      <td>6.0</td>\n",
       "      <td>53.0</td>\n",
       "      <td>463.0</td>\n",
       "      <td>32.0</td>\n",
       "      <td>10.0</td>\n",
       "      <td>Москва</td>\n",
       "      <td>smart</td>\n",
       "      <td>42</td>\n",
       "      <td>550.0</td>\n",
       "    </tr>\n",
       "    <tr>\n",
       "      <th>1616</th>\n",
       "      <td>1260</td>\n",
       "      <td>9.0</td>\n",
       "      <td>87.0</td>\n",
       "      <td>716.0</td>\n",
       "      <td>0.0</td>\n",
       "      <td>16.0</td>\n",
       "      <td>Москва</td>\n",
       "      <td>smart</td>\n",
       "      <td>56</td>\n",
       "      <td>1398.0</td>\n",
       "    </tr>\n",
       "    <tr>\n",
       "      <th>2762</th>\n",
       "      <td>1432</td>\n",
       "      <td>12.0</td>\n",
       "      <td>76.0</td>\n",
       "      <td>619.0</td>\n",
       "      <td>63.0</td>\n",
       "      <td>21.0</td>\n",
       "      <td>Улан-Удэ</td>\n",
       "      <td>smart</td>\n",
       "      <td>48</td>\n",
       "      <td>2146.0</td>\n",
       "    </tr>\n",
       "    <tr>\n",
       "      <th>952</th>\n",
       "      <td>1152</td>\n",
       "      <td>12.0</td>\n",
       "      <td>47.0</td>\n",
       "      <td>415.0</td>\n",
       "      <td>0.0</td>\n",
       "      <td>29.0</td>\n",
       "      <td>Мурманск</td>\n",
       "      <td>ultra</td>\n",
       "      <td>44</td>\n",
       "      <td>1950.0</td>\n",
       "    </tr>\n",
       "    <tr>\n",
       "      <th>2896</th>\n",
       "      <td>1456</td>\n",
       "      <td>8.0</td>\n",
       "      <td>20.0</td>\n",
       "      <td>152.0</td>\n",
       "      <td>0.0</td>\n",
       "      <td>7.0</td>\n",
       "      <td>Санкт-Петербург</td>\n",
       "      <td>smart</td>\n",
       "      <td>40</td>\n",
       "      <td>550.0</td>\n",
       "    </tr>\n",
       "    <tr>\n",
       "      <th>1276</th>\n",
       "      <td>1202</td>\n",
       "      <td>11.0</td>\n",
       "      <td>43.0</td>\n",
       "      <td>378.0</td>\n",
       "      <td>36.0</td>\n",
       "      <td>16.0</td>\n",
       "      <td>Владивосток</td>\n",
       "      <td>smart</td>\n",
       "      <td>22</td>\n",
       "      <td>750.0</td>\n",
       "    </tr>\n",
       "    <tr>\n",
       "      <th>1863</th>\n",
       "      <td>1298</td>\n",
       "      <td>8.0</td>\n",
       "      <td>62.0</td>\n",
       "      <td>494.0</td>\n",
       "      <td>33.0</td>\n",
       "      <td>21.0</td>\n",
       "      <td>Новосибирск</td>\n",
       "      <td>smart</td>\n",
       "      <td>29</td>\n",
       "      <td>1750.0</td>\n",
       "    </tr>\n",
       "    <tr>\n",
       "      <th>1630</th>\n",
       "      <td>1262</td>\n",
       "      <td>10.0</td>\n",
       "      <td>33.0</td>\n",
       "      <td>309.0</td>\n",
       "      <td>41.0</td>\n",
       "      <td>19.0</td>\n",
       "      <td>Ульяновск</td>\n",
       "      <td>smart</td>\n",
       "      <td>21</td>\n",
       "      <td>1350.0</td>\n",
       "    </tr>\n",
       "  </tbody>\n",
       "</table>\n",
       "</div>"
      ],
      "text/plain": [
       "      user_id  month  calls  minutes  messages  gigabites             city  \\\n",
       "1170     1185    9.0   93.0    832.0       0.0       42.0  Санкт-Петербург   \n",
       "1176     1186    4.0   62.0    501.0      61.0        7.0           Самара   \n",
       "2541     1401    6.0   53.0    463.0      32.0       10.0           Москва   \n",
       "1616     1260    9.0   87.0    716.0       0.0       16.0           Москва   \n",
       "2762     1432   12.0   76.0    619.0      63.0       21.0         Улан-Удэ   \n",
       "952      1152   12.0   47.0    415.0       0.0       29.0         Мурманск   \n",
       "2896     1456    8.0   20.0    152.0       0.0        7.0  Санкт-Петербург   \n",
       "1276     1202   11.0   43.0    378.0      36.0       16.0      Владивосток   \n",
       "1863     1298    8.0   62.0    494.0      33.0       21.0      Новосибирск   \n",
       "1630     1262   10.0   33.0    309.0      41.0       19.0        Ульяновск   \n",
       "\n",
       "     tariff  age  profit  \n",
       "1170  ultra   26  3750.0  \n",
       "1176  smart   21   586.0  \n",
       "2541  smart   42   550.0  \n",
       "1616  smart   56  1398.0  \n",
       "2762  smart   48  2146.0  \n",
       "952   ultra   44  1950.0  \n",
       "2896  smart   40   550.0  \n",
       "1276  smart   22   750.0  \n",
       "1863  smart   29  1750.0  \n",
       "1630  smart   21  1350.0  "
      ]
     },
     "execution_count": 62,
     "metadata": {},
     "output_type": "execute_result"
    }
   ],
   "source": [
    "union_table.sample(10)"
   ]
  },
  {
   "cell_type": "code",
   "execution_count": 63,
   "id": "9fc7aa83",
   "metadata": {},
   "outputs": [
    {
     "data": {
      "text/plain": [
       "0"
      ]
     },
     "execution_count": 63,
     "metadata": {},
     "output_type": "execute_result"
    }
   ],
   "source": [
    "# проверим, как отработала функция, все ли заполнились значения\n",
    "union_table.profit.isna().sum()"
   ]
  },
  {
   "cell_type": "code",
   "execution_count": 64,
   "id": "8fb10440",
   "metadata": {},
   "outputs": [
    {
     "name": "stdout",
     "output_type": "stream",
     "text": [
      "<class 'pandas.core.frame.DataFrame'>\n",
      "RangeIndex: 3216 entries, 0 to 3215\n",
      "Data columns (total 10 columns):\n",
      " #   Column     Non-Null Count  Dtype  \n",
      "---  ------     --------------  -----  \n",
      " 0   user_id    3216 non-null   int64  \n",
      " 1   month      3216 non-null   float64\n",
      " 2   calls      3216 non-null   float64\n",
      " 3   minutes    3216 non-null   float64\n",
      " 4   messages   3216 non-null   float64\n",
      " 5   gigabites  3216 non-null   float64\n",
      " 6   city       3216 non-null   object \n",
      " 7   tariff     3216 non-null   object \n",
      " 8   age        3216 non-null   int64  \n",
      " 9   profit     3216 non-null   float64\n",
      "dtypes: float64(6), int64(2), object(2)\n",
      "memory usage: 251.4+ KB\n"
     ]
    }
   ],
   "source": [
    "union_table.info()"
   ]
  },
  {
   "cell_type": "code",
   "execution_count": 65,
   "id": "2656afa4",
   "metadata": {},
   "outputs": [],
   "source": [
    "# изменим все типы данных в колонках с числами на int\n",
    "columns = ['user_id', 'month', 'calls', 'minutes', 'messages', 'gigabites', 'profit']\n",
    "for column in columns:\n",
    "    union_table[column] = union_table[column].astype(int)"
   ]
  },
  {
   "cell_type": "code",
   "execution_count": 66,
   "id": "541bc4c6",
   "metadata": {},
   "outputs": [
    {
     "name": "stdout",
     "output_type": "stream",
     "text": [
      "<class 'pandas.core.frame.DataFrame'>\n",
      "RangeIndex: 3216 entries, 0 to 3215\n",
      "Data columns (total 10 columns):\n",
      " #   Column     Non-Null Count  Dtype \n",
      "---  ------     --------------  ----- \n",
      " 0   user_id    3216 non-null   int64 \n",
      " 1   month      3216 non-null   int64 \n",
      " 2   calls      3216 non-null   int64 \n",
      " 3   minutes    3216 non-null   int64 \n",
      " 4   messages   3216 non-null   int64 \n",
      " 5   gigabites  3216 non-null   int64 \n",
      " 6   city       3216 non-null   object\n",
      " 7   tariff     3216 non-null   object\n",
      " 8   age        3216 non-null   int64 \n",
      " 9   profit     3216 non-null   int64 \n",
      "dtypes: int64(8), object(2)\n",
      "memory usage: 251.4+ KB\n"
     ]
    }
   ],
   "source": [
    "union_table.info()"
   ]
  },
  {
   "cell_type": "code",
   "execution_count": 67,
   "id": "a2401856",
   "metadata": {},
   "outputs": [
    {
     "data": {
      "text/html": [
       "<div>\n",
       "<style scoped>\n",
       "    .dataframe tbody tr th:only-of-type {\n",
       "        vertical-align: middle;\n",
       "    }\n",
       "\n",
       "    .dataframe tbody tr th {\n",
       "        vertical-align: top;\n",
       "    }\n",
       "\n",
       "    .dataframe thead th {\n",
       "        text-align: right;\n",
       "    }\n",
       "</style>\n",
       "<table border=\"1\" class=\"dataframe\">\n",
       "  <thead>\n",
       "    <tr style=\"text-align: right;\">\n",
       "      <th></th>\n",
       "      <th>user_id</th>\n",
       "      <th>month</th>\n",
       "      <th>calls</th>\n",
       "      <th>minutes</th>\n",
       "      <th>messages</th>\n",
       "      <th>gigabites</th>\n",
       "      <th>city</th>\n",
       "      <th>tariff</th>\n",
       "      <th>age</th>\n",
       "      <th>profit</th>\n",
       "    </tr>\n",
       "  </thead>\n",
       "  <tbody>\n",
       "    <tr>\n",
       "      <th>3211</th>\n",
       "      <td>1489</td>\n",
       "      <td>10</td>\n",
       "      <td>0</td>\n",
       "      <td>0</td>\n",
       "      <td>21</td>\n",
       "      <td>20</td>\n",
       "      <td>Санкт-Петербург</td>\n",
       "      <td>smart</td>\n",
       "      <td>35</td>\n",
       "      <td>1550</td>\n",
       "    </tr>\n",
       "    <tr>\n",
       "      <th>3212</th>\n",
       "      <td>1489</td>\n",
       "      <td>11</td>\n",
       "      <td>0</td>\n",
       "      <td>0</td>\n",
       "      <td>20</td>\n",
       "      <td>18</td>\n",
       "      <td>Санкт-Петербург</td>\n",
       "      <td>smart</td>\n",
       "      <td>35</td>\n",
       "      <td>1150</td>\n",
       "    </tr>\n",
       "    <tr>\n",
       "      <th>3213</th>\n",
       "      <td>1489</td>\n",
       "      <td>12</td>\n",
       "      <td>0</td>\n",
       "      <td>0</td>\n",
       "      <td>35</td>\n",
       "      <td>17</td>\n",
       "      <td>Санкт-Петербург</td>\n",
       "      <td>smart</td>\n",
       "      <td>35</td>\n",
       "      <td>950</td>\n",
       "    </tr>\n",
       "    <tr>\n",
       "      <th>3214</th>\n",
       "      <td>1128</td>\n",
       "      <td>12</td>\n",
       "      <td>0</td>\n",
       "      <td>0</td>\n",
       "      <td>0</td>\n",
       "      <td>0</td>\n",
       "      <td>Волжский</td>\n",
       "      <td>ultra</td>\n",
       "      <td>51</td>\n",
       "      <td>1950</td>\n",
       "    </tr>\n",
       "    <tr>\n",
       "      <th>3215</th>\n",
       "      <td>1371</td>\n",
       "      <td>12</td>\n",
       "      <td>0</td>\n",
       "      <td>0</td>\n",
       "      <td>0</td>\n",
       "      <td>0</td>\n",
       "      <td>Омск</td>\n",
       "      <td>smart</td>\n",
       "      <td>50</td>\n",
       "      <td>550</td>\n",
       "    </tr>\n",
       "  </tbody>\n",
       "</table>\n",
       "</div>"
      ],
      "text/plain": [
       "      user_id  month  calls  minutes  messages  gigabites             city  \\\n",
       "3211     1489     10      0        0        21         20  Санкт-Петербург   \n",
       "3212     1489     11      0        0        20         18  Санкт-Петербург   \n",
       "3213     1489     12      0        0        35         17  Санкт-Петербург   \n",
       "3214     1128     12      0        0         0          0         Волжский   \n",
       "3215     1371     12      0        0         0          0             Омск   \n",
       "\n",
       "     tariff  age  profit  \n",
       "3211  smart   35    1550  \n",
       "3212  smart   35    1150  \n",
       "3213  smart   35     950  \n",
       "3214  ultra   51    1950  \n",
       "3215  smart   50     550  "
      ]
     },
     "execution_count": 67,
     "metadata": {},
     "output_type": "execute_result"
    }
   ],
   "source": [
    "union_table.tail()"
   ]
  },
  {
   "cell_type": "markdown",
   "id": "1c5335b7",
   "metadata": {},
   "source": [
    "### Вывод\n",
    "\n",
    "Ключевые показатели для каждого клиента были успешно добавлены, создана объединенная таблица для дальнейшего анализа.\n"
   ]
  },
  {
   "cell_type": "markdown",
   "id": "7d83d9bf",
   "metadata": {},
   "source": [
    "## Анализ данных"
   ]
  },
  {
   "cell_type": "markdown",
   "id": "12d6cff5",
   "metadata": {},
   "source": [
    "Здесь мы проанализируем и опишем поведение клиентов оператора, исходя из выборки. Сколько минут разговора, сколько сообщений и какой объём интернет-трафика требуется пользователям каждого тарифа в месяц? Посчитаем среднее количество, дисперсию и стандартное отклонение. Построем гистограммы и  опишем распределения."
   ]
  },
  {
   "cell_type": "markdown",
   "id": "80521cf5",
   "metadata": {},
   "source": [
    "#### Суммарные показатели использования услуг тарифов по месяцам"
   ]
  },
  {
   "cell_type": "markdown",
   "id": "a3fc58a7",
   "metadata": {},
   "source": [
    "Проанализируем количество расходуемых минут разговора, количества сообщений и потребляемого трафика клиентами с разными тарифами. \n",
    "Создаем обобщенную таблицу с суммарными показателями."
   ]
  },
  {
   "cell_type": "code",
   "execution_count": 68,
   "id": "24190342",
   "metadata": {},
   "outputs": [],
   "source": [
    "params = ['calls', 'minutes', 'messages', 'gigabites', 'profit']\n",
    "union_table_sum = union_table.groupby(['tariff', 'month'])[params].sum().reset_index()"
   ]
  },
  {
   "cell_type": "markdown",
   "id": "a3ca70b9",
   "metadata": {},
   "source": [
    "Для уменьшения количества кода напишем функция, которая будет нам строить barplot."
   ]
  },
  {
   "cell_type": "code",
   "execution_count": 69,
   "id": "fcf1d5b8",
   "metadata": {},
   "outputs": [],
   "source": [
    "def show_bar(df, ttl='Суммарное', params=params):\n",
    "    \"\"\"\n",
    "    Функция принимает подготовленый датафрейм, делит его на выборки по тарифу (smart, ultra)\n",
    "    и отрисовывает диаграммы для всех параметров в params = [...]\n",
    "    Критерий ttl только для подписи диаграмм.\n",
    "    \"\"\"\n",
    "    df_smart = df.query('tariff == \"smart\"')\n",
    "    df_ultra = df.query('tariff == \"ultra\"')\n",
    "    \n",
    "    for param in params:\n",
    "        plt.figure(figsize=(12, 5),facecolor='w')\n",
    "        plt.bar(df_ultra['month'], df_ultra[param], label='ultra', color='y', alpha=0.5)\n",
    "        plt.bar(df_smart['month'], df_smart[param], label='smart', color='b', alpha=0.5, width=0.5)\n",
    "        \n",
    "        plt.grid()\n",
    "        plt.xlabel('month')\n",
    "        plt.ylabel(param)\n",
    "        plt.xticks(range(1,13))\n",
    "        plt.title(f'{ttl} кол-во {param} всех клиентов по месяцам для 2 тарифов')\n",
    "        plt.legend()\n",
    "        plt.show()"
   ]
  },
  {
   "cell_type": "code",
   "execution_count": 70,
   "id": "dbb34f1e",
   "metadata": {},
   "outputs": [
    {
     "data": {
      "image/png": "[encoded data removed]",
      "text/plain": [
       "<Figure size 864x360 with 1 Axes>"
      ]
     },
     "metadata": {},
     "output_type": "display_data"
    },
    {
     "data": {
      "image/png": "[encoded data removed]",
      "text/plain": [
       "<Figure size 864x360 with 1 Axes>"
      ]
     },
     "metadata": {},
     "output_type": "display_data"
    },
    {
     "data": {
      "image/png": "[encoded data removed]",
      "text/plain": [
       "<Figure size 864x360 with 1 Axes>"
      ]
     },
     "metadata": {},
     "output_type": "display_data"
    },
    {
     "data": {
      "image/png": "[encoded data removed]",
      "text/plain": [
       "<Figure size 864x360 with 1 Axes>"
      ]
     },
     "metadata": {},
     "output_type": "display_data"
    },
    {
     "data": {
      "image/png": "[encoded data removed]",
      "text/plain": [
       "<Figure size 864x360 with 1 Axes>"
      ]
     },
     "metadata": {},
     "output_type": "display_data"
    }
   ],
   "source": [
    "show_bar(union_table_sum)"
   ]
  },
  {
   "cell_type": "code",
   "execution_count": 71,
   "id": "95fd9920",
   "metadata": {},
   "outputs": [
    {
     "data": {
      "text/plain": [
       "smart    351\n",
       "ultra    149\n",
       "Name: tariff, dtype: int64"
      ]
     },
     "execution_count": 71,
     "metadata": {},
     "output_type": "execute_result"
    }
   ],
   "source": [
    "# число уникальных пользователей\n",
    "users.tariff.value_counts()"
   ]
  },
  {
   "cell_type": "markdown",
   "id": "9207cf34",
   "metadata": {},
   "source": [
    "Суммарные значения по всем показателям в тарифе `smart` превышают значения тарифа  `ultra`. Скорее всего это связано с тем, что количество клиентов `smart` более чем в 2 раза превышает количество клиентов `ultra`. Наблюдается стабильный прирост показателей по каждому тарифу обусловленый приростом числа клиентов."
   ]
  },
  {
   "cell_type": "markdown",
   "id": "2bc48599",
   "metadata": {},
   "source": [
    "#### Средние показатели использования услуг тарифов по месяцам"
   ]
  },
  {
   "cell_type": "markdown",
   "id": "6db340b7",
   "metadata": {},
   "source": [
    "Создадим обобщенную таблицу со средними ключевыми показателями\n"
   ]
  },
  {
   "cell_type": "code",
   "execution_count": 72,
   "id": "0c1611a9",
   "metadata": {},
   "outputs": [],
   "source": [
    "union_table_mean = union_table.groupby(['tariff', 'month'])[params].mean().reset_index()"
   ]
  },
  {
   "cell_type": "markdown",
   "id": "4e3718ce",
   "metadata": {},
   "source": [
    "В функцию построения графиков добавим отрисовку границы услуг, входящих в абонентскую плату."
   ]
  },
  {
   "cell_type": "code",
   "execution_count": 73,
   "id": "f99143b8",
   "metadata": {},
   "outputs": [],
   "source": [
    "def show_bar(df, ttl='Суммарное', params=params, smart=smart, ultra=ultra):\n",
    "    \"\"\"\n",
    "    Функция принимает подготовленый датафрейм, делит его на выборки по тарифу (smart, ultra)\n",
    "    и отрисовывает диаграммы для всех параметров в params = [...]\n",
    "    Критерий ttl только для подписи диаграмм.\n",
    "    Значения порога берется из словарей smart и ultra соответственно, по ключу из словаря limits.\n",
    "    \"\"\"\n",
    "    df_smart = df.query('tariff == \"smart\"')\n",
    "    df_ultra = df.query('tariff == \"ultra\"')\n",
    "\n",
    "    limits = {'minutes': 'minutes_included',\n",
    "              'messages': 'messages_included',\n",
    "              'gigabites': 'gb_per_month_included',\n",
    "              'profit': 'rub_monthly_fee'}\n",
    "\n",
    "    for param in params:\n",
    "        plt.figure(figsize=(12, 5),facecolor='w')\n",
    "        plt.bar(df_ultra['month'], df_ultra[param], label='ultra', color='y', alpha=0.5)\n",
    "        plt.bar(df_smart['month'], df_smart[param], label='smart', color='b', alpha=0.5, width=0.5)\n",
    "        \n",
    "        # строим пороговое значение\n",
    "        if param in limits:\n",
    "            plt.axhline(y=smart[limits[param]], label='Порог для smart', color='red')\n",
    "#             plt.axhline(y=ultra[limits[param]], label='Порог для ultra', color='green')\n",
    "        plt.grid()\n",
    "#         plt.yscale('log')\n",
    "        plt.xlabel('month')\n",
    "        plt.ylabel(param)\n",
    "        plt.xticks(range(1,13))\n",
    "        plt.title(f'{ttl} кол-во {param} всех клиентов по месяцам для 2 тарифов')\n",
    "        plt.legend()\n",
    "        plt.show();"
   ]
  },
  {
   "cell_type": "code",
   "execution_count": 74,
   "id": "f03fc24a",
   "metadata": {},
   "outputs": [
    {
     "data": {
      "image/png": "[encoded data removed]",
      "text/plain": [
       "<Figure size 864x360 with 1 Axes>"
      ]
     },
     "metadata": {},
     "output_type": "display_data"
    },
    {
     "data": {
      "image/png": "[encoded data removed]",
      "text/plain": [
       "<Figure size 864x360 with 1 Axes>"
      ]
     },
     "metadata": {},
     "output_type": "display_data"
    },
    {
     "data": {
      "image/png": "[encoded data removed]",
      "text/plain": [
       "<Figure size 864x360 with 1 Axes>"
      ]
     },
     "metadata": {},
     "output_type": "display_data"
    },
    {
     "data": {
      "image/png": "[encoded data removed]",
      "text/plain": [
       "<Figure size 864x360 with 1 Axes>"
      ]
     },
     "metadata": {},
     "output_type": "display_data"
    },
    {
     "data": {
      "image/png": "[encoded data removed]",
      "text/plain": [
       "<Figure size 864x360 with 1 Axes>"
      ]
     },
     "metadata": {},
     "output_type": "display_data"
    }
   ],
   "source": [
    "show_bar(union_table_mean, ttl='Среднее')"
   ]
  },
  {
   "cell_type": "code",
   "execution_count": 75,
   "id": "a308e957",
   "metadata": {},
   "outputs": [],
   "source": [
    "union_table_smart = union_table_mean.query('tariff == \"smart\"')\n",
    "union_table_ultra = union_table_mean.query('tariff == \"ultra\"')"
   ]
  },
  {
   "cell_type": "code",
   "execution_count": 76,
   "id": "b95cd078",
   "metadata": {},
   "outputs": [
    {
     "name": "stdout",
     "output_type": "stream",
     "text": [
      "Средние значения потребленных услуг и выручка за месяц в течение 2018 года\n",
      "Кол-во calls: smart = 45 / ultra = 58\n",
      "Кол-во minutes: smart = 402 / ultra = 511\n",
      "Кол-во messages: smart = 34 / ultra = 45\n",
      "Кол-во gigabites: smart = 16 / ultra = 19\n",
      "Кол-во profit: smart = 1214 / ultra = 2049\n"
     ]
    }
   ],
   "source": [
    "print('Средние значения потребленных услуг и выручка за месяц в течение 2018 года')\n",
    "for param in params:\n",
    "    print(f'Кол-во {param}: smart = {round(union_table_smart[param].median())} / ultra = {round(union_table_ultra[param].median())}')"
   ]
  },
  {
   "cell_type": "markdown",
   "id": "66861198",
   "metadata": {},
   "source": [
    "По средним показателям наблюдается прямо противоположная картина. По всем показателям лидирует тариф `ultra`.\n",
    "Среднее количество потраченых минут не превышает 500 для тарифа `smart` и 600 для `ultra`.\n",
    "Среднее количество сообщений в месяц не превышает 35 для `smart`, и 50 для `ultra`.\n",
    "И что характерно, среднее число сообщений в месяц на тарифе `smart` достигло 35 и не растет с мая. \n",
    "Так же следует отметить, что средняя выручка на тарифе `ultra` имеет незначительные колебания в течении года, тогда как на тарифе `smart` наблюдается стабильный прирост с 750 в январе до боле чем 1600 к декабрю и более чем двухкратное увеличение минут разговора в течении года. Но, не смотря на стабильный рост количества потребляемых услуг, порог превышен лишь в тарифе `smart` по использованым гигабайтам. По числу сообщений и минут разговоров клиенты не выходят за рамки тарифа. Что касается тарифа `ultra`, то там имеется значительный запас непотраченых минут (предел 3000), сообщений (предел 1000) и трафика (предел 30)."
   ]
  },
  {
   "cell_type": "markdown",
   "id": "c8073eea",
   "metadata": {},
   "source": [
    "#### Нахождение значений среднего,  дисперсии и стандартного отклонения."
   ]
  },
  {
   "cell_type": "markdown",
   "id": "88960c7f",
   "metadata": {},
   "source": [
    "Для нахождения дисперсии и стандартного отклонения параметров будем использовать формулу для оценки дисперсии, учитывая, что имеем дело не с генеральной савокупностью, а выборкой. Для расчета среднего будем использовать стандартную функцию *mean*, а для дисперсии и стандартного отклонения измененные для выборки функции *var* и *std*."
   ]
  },
  {
   "cell_type": "code",
   "execution_count": 77,
   "id": "5c632d01",
   "metadata": {},
   "outputs": [],
   "source": [
    "def st_var(df):\n",
    "    # вводим поправку для выборки\n",
    "    return df.var(ddof=1)\n",
    "\n",
    "def st_std(df):\n",
    "    # вводим поправку для выборки\n",
    "    return df.std(ddof=1)"
   ]
  },
  {
   "cell_type": "markdown",
   "id": "32fb6629",
   "metadata": {},
   "source": [
    "Рассчитаем статзначения для тарифа `smart`"
   ]
  },
  {
   "cell_type": "code",
   "execution_count": 78,
   "id": "674844d9",
   "metadata": {},
   "outputs": [
    {
     "data": {
      "text/html": [
       "<div>\n",
       "<style scoped>\n",
       "    .dataframe tbody tr th:only-of-type {\n",
       "        vertical-align: middle;\n",
       "    }\n",
       "\n",
       "    .dataframe tbody tr th {\n",
       "        vertical-align: top;\n",
       "    }\n",
       "\n",
       "    .dataframe thead th {\n",
       "        text-align: right;\n",
       "    }\n",
       "</style>\n",
       "<table border=\"1\" class=\"dataframe\">\n",
       "  <thead>\n",
       "    <tr style=\"text-align: right;\">\n",
       "      <th></th>\n",
       "      <th>mean</th>\n",
       "      <th>st_var</th>\n",
       "      <th>st_std</th>\n",
       "    </tr>\n",
       "  </thead>\n",
       "  <tbody>\n",
       "    <tr>\n",
       "      <th>minutes</th>\n",
       "      <td>386.6</td>\n",
       "      <td>5198.3</td>\n",
       "      <td>72.1</td>\n",
       "    </tr>\n",
       "    <tr>\n",
       "      <th>messages</th>\n",
       "      <td>31.4</td>\n",
       "      <td>26.0</td>\n",
       "      <td>5.1</td>\n",
       "    </tr>\n",
       "    <tr>\n",
       "      <th>gigabites</th>\n",
       "      <td>15.2</td>\n",
       "      <td>6.9</td>\n",
       "      <td>2.6</td>\n",
       "    </tr>\n",
       "    <tr>\n",
       "      <th>profit</th>\n",
       "      <td>1179.7</td>\n",
       "      <td>56954.0</td>\n",
       "      <td>238.7</td>\n",
       "    </tr>\n",
       "  </tbody>\n",
       "</table>\n",
       "</div>"
      ],
      "text/plain": [
       "             mean   st_var  st_std\n",
       "minutes     386.6   5198.3    72.1\n",
       "messages     31.4     26.0     5.1\n",
       "gigabites    15.2      6.9     2.6\n",
       "profit     1179.7  56954.0   238.7"
      ]
     },
     "execution_count": 78,
     "metadata": {},
     "output_type": "execute_result"
    }
   ],
   "source": [
    "stat_table_smart = union_table.query('tariff == \"smart\"').\\\n",
    "groupby(['month'])[['minutes', 'messages', 'gigabites','profit']]\\\n",
    ".mean().agg(['mean', st_var, st_std]).round(1)\n",
    "stat_table_smart.T"
   ]
  },
  {
   "cell_type": "code",
   "execution_count": 79,
   "id": "31ecaf4b",
   "metadata": {},
   "outputs": [
    {
     "data": {
      "text/plain": [
       "{'minutes': {'mean': 386.6, 'st_var': 5198.3, 'st_std': 72.1},\n",
       " 'messages': {'mean': 31.4, 'st_var': 26.0, 'st_std': 5.1},\n",
       " 'gigabites': {'mean': 15.2, 'st_var': 6.9, 'st_std': 2.6},\n",
       " 'profit': {'mean': 1179.7, 'st_var': 56954.0, 'st_std': 238.7}}"
      ]
     },
     "execution_count": 79,
     "metadata": {},
     "output_type": "execute_result"
    }
   ],
   "source": [
    "# поместим статзначения в словарь\n",
    "stat_table_smart_dic = stat_table_smart.to_dict()\n",
    "stat_table_smart_dic"
   ]
  },
  {
   "cell_type": "markdown",
   "id": "5db20572",
   "metadata": {},
   "source": [
    "Повторим рассчет для тарифа `ultra`"
   ]
  },
  {
   "cell_type": "code",
   "execution_count": 80,
   "id": "f8f95306",
   "metadata": {},
   "outputs": [
    {
     "data": {
      "text/html": [
       "<div>\n",
       "<style scoped>\n",
       "    .dataframe tbody tr th:only-of-type {\n",
       "        vertical-align: middle;\n",
       "    }\n",
       "\n",
       "    .dataframe tbody tr th {\n",
       "        vertical-align: top;\n",
       "    }\n",
       "\n",
       "    .dataframe thead th {\n",
       "        text-align: right;\n",
       "    }\n",
       "</style>\n",
       "<table border=\"1\" class=\"dataframe\">\n",
       "  <thead>\n",
       "    <tr style=\"text-align: right;\">\n",
       "      <th></th>\n",
       "      <th>mean</th>\n",
       "      <th>st_var</th>\n",
       "      <th>st_std</th>\n",
       "    </tr>\n",
       "  </thead>\n",
       "  <tbody>\n",
       "    <tr>\n",
       "      <th>minutes</th>\n",
       "      <td>495.6</td>\n",
       "      <td>5925.4</td>\n",
       "      <td>77.0</td>\n",
       "    </tr>\n",
       "    <tr>\n",
       "      <th>messages</th>\n",
       "      <td>43.7</td>\n",
       "      <td>150.5</td>\n",
       "      <td>12.3</td>\n",
       "    </tr>\n",
       "    <tr>\n",
       "      <th>gigabites</th>\n",
       "      <td>18.2</td>\n",
       "      <td>8.4</td>\n",
       "      <td>2.9</td>\n",
       "    </tr>\n",
       "    <tr>\n",
       "      <th>profit</th>\n",
       "      <td>2046.8</td>\n",
       "      <td>3214.1</td>\n",
       "      <td>56.7</td>\n",
       "    </tr>\n",
       "  </tbody>\n",
       "</table>\n",
       "</div>"
      ],
      "text/plain": [
       "             mean  st_var  st_std\n",
       "minutes     495.6  5925.4    77.0\n",
       "messages     43.7   150.5    12.3\n",
       "gigabites    18.2     8.4     2.9\n",
       "profit     2046.8  3214.1    56.7"
      ]
     },
     "execution_count": 80,
     "metadata": {},
     "output_type": "execute_result"
    }
   ],
   "source": [
    "stat_table_ultra = union_table.query('tariff == \"ultra\"').\\\n",
    "groupby(['month'])[['minutes', 'messages', 'gigabites', 'profit']]\\\n",
    ".mean().agg(['mean', st_var, st_std]).round(1)\n",
    "stat_table_ultra.T"
   ]
  },
  {
   "cell_type": "code",
   "execution_count": 81,
   "id": "f2f8633f",
   "metadata": {},
   "outputs": [
    {
     "data": {
      "text/plain": [
       "{'minutes': {'mean': 495.6, 'st_var': 5925.4, 'st_std': 77.0},\n",
       " 'messages': {'mean': 43.7, 'st_var': 150.5, 'st_std': 12.3},\n",
       " 'gigabites': {'mean': 18.2, 'st_var': 8.4, 'st_std': 2.9},\n",
       " 'profit': {'mean': 2046.8, 'st_var': 3214.1, 'st_std': 56.7}}"
      ]
     },
     "execution_count": 81,
     "metadata": {},
     "output_type": "execute_result"
    }
   ],
   "source": [
    "# поместим статзначения в словарь\n",
    "stat_table_ultra_dic = stat_table_ultra.to_dict()\n",
    "stat_table_ultra_dic"
   ]
  },
  {
   "cell_type": "markdown",
   "id": "30039bc3",
   "metadata": {},
   "source": [
    "Полученые значения будем использовать при построении гистограмм."
   ]
  },
  {
   "cell_type": "markdown",
   "id": "4316e9f1",
   "metadata": {},
   "source": [
    "#### Гистограммы распределения услуг тарифов по месяцам"
   ]
  },
  {
   "cell_type": "code",
   "execution_count": 82,
   "id": "2641e646",
   "metadata": {},
   "outputs": [],
   "source": [
    "#  определим показатели для построения гистограмм\n",
    "params = [ 'minutes', 'messages', 'gigabites', 'profit']\n"
   ]
  },
  {
   "cell_type": "code",
   "execution_count": 83,
   "id": "e9125a71",
   "metadata": {
    "scrolled": false
   },
   "outputs": [
    {
     "data": {
      "image/png": "[encoded data removed]",
      "text/plain": [
       "<Figure size 864x288 with 1 Axes>"
      ]
     },
     "metadata": {
      "needs_background": "light"
     },
     "output_type": "display_data"
    },
    {
     "name": "stdout",
     "output_type": "stream",
     "text": [
      "Значения для minutes\n"
     ]
    },
    {
     "data": {
      "text/html": [
       "<div>\n",
       "<style scoped>\n",
       "    .dataframe tbody tr th:only-of-type {\n",
       "        vertical-align: middle;\n",
       "    }\n",
       "\n",
       "    .dataframe tbody tr th {\n",
       "        vertical-align: top;\n",
       "    }\n",
       "\n",
       "    .dataframe thead th {\n",
       "        text-align: right;\n",
       "    }\n",
       "</style>\n",
       "<table border=\"1\" class=\"dataframe\">\n",
       "  <thead>\n",
       "    <tr style=\"text-align: right;\">\n",
       "      <th></th>\n",
       "      <th>count</th>\n",
       "      <th>mean</th>\n",
       "      <th>std</th>\n",
       "      <th>min</th>\n",
       "      <th>25%</th>\n",
       "      <th>50%</th>\n",
       "      <th>75%</th>\n",
       "      <th>max</th>\n",
       "    </tr>\n",
       "    <tr>\n",
       "      <th>tariff</th>\n",
       "      <th></th>\n",
       "      <th></th>\n",
       "      <th></th>\n",
       "      <th></th>\n",
       "      <th></th>\n",
       "      <th></th>\n",
       "      <th></th>\n",
       "      <th></th>\n",
       "    </tr>\n",
       "  </thead>\n",
       "  <tbody>\n",
       "    <tr>\n",
       "      <th>smart</th>\n",
       "      <td>2230.0</td>\n",
       "      <td>417.747534</td>\n",
       "      <td>190.476754</td>\n",
       "      <td>0.0</td>\n",
       "      <td>282.0</td>\n",
       "      <td>421.5</td>\n",
       "      <td>545.00</td>\n",
       "      <td>1435.0</td>\n",
       "    </tr>\n",
       "    <tr>\n",
       "      <th>ultra</th>\n",
       "      <td>986.0</td>\n",
       "      <td>526.089249</td>\n",
       "      <td>317.887549</td>\n",
       "      <td>0.0</td>\n",
       "      <td>282.5</td>\n",
       "      <td>518.0</td>\n",
       "      <td>751.75</td>\n",
       "      <td>1673.0</td>\n",
       "    </tr>\n",
       "  </tbody>\n",
       "</table>\n",
       "</div>"
      ],
      "text/plain": [
       "         count        mean         std  min    25%    50%     75%     max\n",
       "tariff                                                                   \n",
       "smart   2230.0  417.747534  190.476754  0.0  282.0  421.5  545.00  1435.0\n",
       "ultra    986.0  526.089249  317.887549  0.0  282.5  518.0  751.75  1673.0"
      ]
     },
     "metadata": {},
     "output_type": "display_data"
    },
    {
     "data": {
      "image/png": "[encoded data removed]",
      "text/plain": [
       "<Figure size 864x288 with 1 Axes>"
      ]
     },
     "metadata": {
      "needs_background": "light"
     },
     "output_type": "display_data"
    },
    {
     "name": "stdout",
     "output_type": "stream",
     "text": [
      "Значения для messages\n"
     ]
    },
    {
     "data": {
      "text/html": [
       "<div>\n",
       "<style scoped>\n",
       "    .dataframe tbody tr th:only-of-type {\n",
       "        vertical-align: middle;\n",
       "    }\n",
       "\n",
       "    .dataframe tbody tr th {\n",
       "        vertical-align: top;\n",
       "    }\n",
       "\n",
       "    .dataframe thead th {\n",
       "        text-align: right;\n",
       "    }\n",
       "</style>\n",
       "<table border=\"1\" class=\"dataframe\">\n",
       "  <thead>\n",
       "    <tr style=\"text-align: right;\">\n",
       "      <th></th>\n",
       "      <th>count</th>\n",
       "      <th>mean</th>\n",
       "      <th>std</th>\n",
       "      <th>min</th>\n",
       "      <th>25%</th>\n",
       "      <th>50%</th>\n",
       "      <th>75%</th>\n",
       "      <th>max</th>\n",
       "    </tr>\n",
       "    <tr>\n",
       "      <th>tariff</th>\n",
       "      <th></th>\n",
       "      <th></th>\n",
       "      <th></th>\n",
       "      <th></th>\n",
       "      <th></th>\n",
       "      <th></th>\n",
       "      <th></th>\n",
       "      <th></th>\n",
       "    </tr>\n",
       "  </thead>\n",
       "  <tbody>\n",
       "    <tr>\n",
       "      <th>smart</th>\n",
       "      <td>2230.0</td>\n",
       "      <td>33.369058</td>\n",
       "      <td>28.230396</td>\n",
       "      <td>0.0</td>\n",
       "      <td>10.0</td>\n",
       "      <td>28.0</td>\n",
       "      <td>51.00</td>\n",
       "      <td>143.0</td>\n",
       "    </tr>\n",
       "    <tr>\n",
       "      <th>ultra</th>\n",
       "      <td>986.0</td>\n",
       "      <td>49.313387</td>\n",
       "      <td>47.806040</td>\n",
       "      <td>0.0</td>\n",
       "      <td>6.0</td>\n",
       "      <td>38.0</td>\n",
       "      <td>78.75</td>\n",
       "      <td>224.0</td>\n",
       "    </tr>\n",
       "  </tbody>\n",
       "</table>\n",
       "</div>"
      ],
      "text/plain": [
       "         count       mean        std  min   25%   50%    75%    max\n",
       "tariff                                                             \n",
       "smart   2230.0  33.369058  28.230396  0.0  10.0  28.0  51.00  143.0\n",
       "ultra    986.0  49.313387  47.806040  0.0   6.0  38.0  78.75  224.0"
      ]
     },
     "metadata": {},
     "output_type": "display_data"
    },
    {
     "data": {
      "image/png": "[encoded data removed]",
      "text/plain": [
       "<Figure size 864x288 with 1 Axes>"
      ]
     },
     "metadata": {
      "needs_background": "light"
     },
     "output_type": "display_data"
    },
    {
     "name": "stdout",
     "output_type": "stream",
     "text": [
      "Значения для gigabites\n"
     ]
    },
    {
     "data": {
      "text/html": [
       "<div>\n",
       "<style scoped>\n",
       "    .dataframe tbody tr th:only-of-type {\n",
       "        vertical-align: middle;\n",
       "    }\n",
       "\n",
       "    .dataframe tbody tr th {\n",
       "        vertical-align: top;\n",
       "    }\n",
       "\n",
       "    .dataframe thead th {\n",
       "        text-align: right;\n",
       "    }\n",
       "</style>\n",
       "<table border=\"1\" class=\"dataframe\">\n",
       "  <thead>\n",
       "    <tr style=\"text-align: right;\">\n",
       "      <th></th>\n",
       "      <th>count</th>\n",
       "      <th>mean</th>\n",
       "      <th>std</th>\n",
       "      <th>min</th>\n",
       "      <th>25%</th>\n",
       "      <th>50%</th>\n",
       "      <th>75%</th>\n",
       "      <th>max</th>\n",
       "    </tr>\n",
       "    <tr>\n",
       "      <th>tariff</th>\n",
       "      <th></th>\n",
       "      <th></th>\n",
       "      <th></th>\n",
       "      <th></th>\n",
       "      <th></th>\n",
       "      <th></th>\n",
       "      <th></th>\n",
       "      <th></th>\n",
       "    </tr>\n",
       "  </thead>\n",
       "  <tbody>\n",
       "    <tr>\n",
       "      <th>smart</th>\n",
       "      <td>2230.0</td>\n",
       "      <td>16.321525</td>\n",
       "      <td>5.756167</td>\n",
       "      <td>0.0</td>\n",
       "      <td>13.0</td>\n",
       "      <td>17.0</td>\n",
       "      <td>20.0</td>\n",
       "      <td>38.0</td>\n",
       "    </tr>\n",
       "    <tr>\n",
       "      <th>ultra</th>\n",
       "      <td>986.0</td>\n",
       "      <td>19.474645</td>\n",
       "      <td>9.868057</td>\n",
       "      <td>0.0</td>\n",
       "      <td>12.0</td>\n",
       "      <td>19.0</td>\n",
       "      <td>27.0</td>\n",
       "      <td>49.0</td>\n",
       "    </tr>\n",
       "  </tbody>\n",
       "</table>\n",
       "</div>"
      ],
      "text/plain": [
       "         count       mean       std  min   25%   50%   75%   max\n",
       "tariff                                                          \n",
       "smart   2230.0  16.321525  5.756167  0.0  13.0  17.0  20.0  38.0\n",
       "ultra    986.0  19.474645  9.868057  0.0  12.0  19.0  27.0  49.0"
      ]
     },
     "metadata": {},
     "output_type": "display_data"
    },
    {
     "data": {
      "image/png": "[encoded data removed]",
      "text/plain": [
       "<Figure size 864x288 with 1 Axes>"
      ]
     },
     "metadata": {
      "needs_background": "light"
     },
     "output_type": "display_data"
    },
    {
     "name": "stdout",
     "output_type": "stream",
     "text": [
      "Значения для profit\n"
     ]
    },
    {
     "data": {
      "text/html": [
       "<div>\n",
       "<style scoped>\n",
       "    .dataframe tbody tr th:only-of-type {\n",
       "        vertical-align: middle;\n",
       "    }\n",
       "\n",
       "    .dataframe tbody tr th {\n",
       "        vertical-align: top;\n",
       "    }\n",
       "\n",
       "    .dataframe thead th {\n",
       "        text-align: right;\n",
       "    }\n",
       "</style>\n",
       "<table border=\"1\" class=\"dataframe\">\n",
       "  <thead>\n",
       "    <tr style=\"text-align: right;\">\n",
       "      <th></th>\n",
       "      <th>count</th>\n",
       "      <th>mean</th>\n",
       "      <th>std</th>\n",
       "      <th>min</th>\n",
       "      <th>25%</th>\n",
       "      <th>50%</th>\n",
       "      <th>75%</th>\n",
       "      <th>max</th>\n",
       "    </tr>\n",
       "    <tr>\n",
       "      <th>tariff</th>\n",
       "      <th></th>\n",
       "      <th></th>\n",
       "      <th></th>\n",
       "      <th></th>\n",
       "      <th></th>\n",
       "      <th></th>\n",
       "      <th></th>\n",
       "      <th></th>\n",
       "    </tr>\n",
       "  </thead>\n",
       "  <tbody>\n",
       "    <tr>\n",
       "      <th>smart</th>\n",
       "      <td>2230.0</td>\n",
       "      <td>1289.641704</td>\n",
       "      <td>818.370799</td>\n",
       "      <td>550.0</td>\n",
       "      <td>550.0</td>\n",
       "      <td>1021.0</td>\n",
       "      <td>1750.0</td>\n",
       "      <td>6770.0</td>\n",
       "    </tr>\n",
       "    <tr>\n",
       "      <th>ultra</th>\n",
       "      <td>986.0</td>\n",
       "      <td>2070.030426</td>\n",
       "      <td>376.015578</td>\n",
       "      <td>1950.0</td>\n",
       "      <td>1950.0</td>\n",
       "      <td>1950.0</td>\n",
       "      <td>1950.0</td>\n",
       "      <td>4800.0</td>\n",
       "    </tr>\n",
       "  </tbody>\n",
       "</table>\n",
       "</div>"
      ],
      "text/plain": [
       "         count         mean         std     min     25%     50%     75%  \\\n",
       "tariff                                                                    \n",
       "smart   2230.0  1289.641704  818.370799   550.0   550.0  1021.0  1750.0   \n",
       "ultra    986.0  2070.030426  376.015578  1950.0  1950.0  1950.0  1950.0   \n",
       "\n",
       "           max  \n",
       "tariff          \n",
       "smart   6770.0  \n",
       "ultra   4800.0  "
      ]
     },
     "metadata": {},
     "output_type": "display_data"
    }
   ],
   "source": [
    "# строим гистограммы\n",
    "for param in params:\n",
    "    bins = 30\n",
    "    plt.figure(figsize=(12, 4))\n",
    "    \n",
    "    plt.hist(union_table.loc[union_table['tariff'] == \"smart\",  param], histtype='bar', \n",
    "             linewidth=3, label='smart / '+param, color='b', alpha=0.3, bins=bins)\n",
    "    \n",
    "    plt.hist(union_table.loc[union_table['tariff'] == \"ultra\", param], histtype='step', \n",
    "             linewidth=3, label='ultra / '+param, color='r', alpha=0.3, bins=bins)\n",
    "    \n",
    "    # строим пороговые значение\n",
    "    if param in params:\n",
    "        \n",
    "        # определяем границы для ultra\n",
    "        beg_ultra = stat_table_ultra_dic[param]['mean'] - 3*stat_table_ultra_dic[param]['st_std']\n",
    "        end_ultra = stat_table_ultra_dic[param]['mean'] + 3*stat_table_ultra_dic[param]['st_std']\n",
    "        mn_ultra = stat_table_ultra_dic[param]['mean']\n",
    "        \n",
    "        # строим пороговые линии для ultra\n",
    "        plt.axvline(x=beg_ultra, label='-3*std/ultra', color='r', ls='--')\n",
    "        plt.axvline(x=mn_ultra, label='mean/ultra', color='r', ls=':')\n",
    "        plt.axvline(x=end_ultra, label='+3*std/ultra', color='r', ls='-.')\n",
    "        \n",
    "          # определяем границы для smart\n",
    "        beg_smart = stat_table_smart_dic[param]['mean'] - 3*stat_table_smart_dic[param]['st_std']\n",
    "        end_smart = stat_table_smart_dic[param]['mean'] + 3*stat_table_smart_dic[param]['st_std']\n",
    "        mn_smart = stat_table_smart_dic[param]['mean']\n",
    "        \n",
    "        # строим пороговые линии для smart\n",
    "        plt.axvline(x=beg_smart, label='-3*std/smart', color='b', ls='--')\n",
    "        plt.axvline(x=mn_smart, label='mean/smart', color='b', ls=':')\n",
    "        plt.axvline(x=end_smart, label='+3*std/smart', color='b', ls='-.')\n",
    "        \n",
    "    plt.ylabel('ЧАСТОТА')\n",
    "    plt.xlabel(f'Количество {param} в месяц')\n",
    "    plt.grid()\n",
    "    plt.title(f'Распределение {param} за месяц для обоих тарифов')\n",
    "    plt.legend()\n",
    "    plt.show()\n",
    "    \n",
    "    # выводим сводные значения\n",
    "    print(f'Значения для {param}')\n",
    "    display(union_table.groupby('tariff')[param].describe())"
   ]
  },
  {
   "cell_type": "markdown",
   "id": "565ea986",
   "metadata": {},
   "source": [
    "#### Распределение клиентов по городам <a class='var'></a>"
   ]
  },
  {
   "cell_type": "markdown",
   "id": "21e001f9",
   "metadata": {},
   "source": [
    "Изучим распределение потребления услуг по городам. Сгруппируем обообщенную таблицу по городам и тарифам, и посмотрим ТОП-10 городов по потреблению услуг."
   ]
  },
  {
   "cell_type": "code",
   "execution_count": 84,
   "id": "4f54f656",
   "metadata": {},
   "outputs": [],
   "source": [
    "params = ['age','calls', 'minutes', 'messages', 'gigabites', 'profit']"
   ]
  },
  {
   "cell_type": "code",
   "execution_count": 85,
   "id": "b50d2121",
   "metadata": {
    "scrolled": false
   },
   "outputs": [
    {
     "data": {
      "text/html": [
       "<div>\n",
       "<style scoped>\n",
       "    .dataframe tbody tr th:only-of-type {\n",
       "        vertical-align: middle;\n",
       "    }\n",
       "\n",
       "    .dataframe tbody tr th {\n",
       "        vertical-align: top;\n",
       "    }\n",
       "\n",
       "    .dataframe thead th {\n",
       "        text-align: right;\n",
       "    }\n",
       "</style>\n",
       "<table border=\"1\" class=\"dataframe\">\n",
       "  <thead>\n",
       "    <tr style=\"text-align: right;\">\n",
       "      <th></th>\n",
       "      <th></th>\n",
       "      <th>age</th>\n",
       "      <th>calls</th>\n",
       "      <th>minutes</th>\n",
       "      <th>messages</th>\n",
       "      <th>gigabites</th>\n",
       "      <th>profit</th>\n",
       "    </tr>\n",
       "    <tr>\n",
       "      <th>city</th>\n",
       "      <th>tariff</th>\n",
       "      <th></th>\n",
       "      <th></th>\n",
       "      <th></th>\n",
       "      <th></th>\n",
       "      <th></th>\n",
       "      <th></th>\n",
       "    </tr>\n",
       "  </thead>\n",
       "  <tbody>\n",
       "    <tr>\n",
       "      <th>Тула</th>\n",
       "      <th>smart</th>\n",
       "      <td>72.0</td>\n",
       "      <td>49.8</td>\n",
       "      <td>455.0</td>\n",
       "      <td>33.0</td>\n",
       "      <td>18.2</td>\n",
       "      <td>1532.4</td>\n",
       "    </tr>\n",
       "    <tr>\n",
       "      <th>Подольск</th>\n",
       "      <th>smart</th>\n",
       "      <td>71.0</td>\n",
       "      <td>60.0</td>\n",
       "      <td>540.7</td>\n",
       "      <td>91.0</td>\n",
       "      <td>14.3</td>\n",
       "      <td>963.8</td>\n",
       "    </tr>\n",
       "    <tr>\n",
       "      <th>Оренбург</th>\n",
       "      <th>ultra</th>\n",
       "      <td>71.0</td>\n",
       "      <td>60.7</td>\n",
       "      <td>548.6</td>\n",
       "      <td>0.0</td>\n",
       "      <td>19.1</td>\n",
       "      <td>1950.0</td>\n",
       "    </tr>\n",
       "    <tr>\n",
       "      <th>Новокузнецк</th>\n",
       "      <th>ultra</th>\n",
       "      <td>69.9</td>\n",
       "      <td>37.9</td>\n",
       "      <td>325.7</td>\n",
       "      <td>122.1</td>\n",
       "      <td>14.7</td>\n",
       "      <td>1950.0</td>\n",
       "    </tr>\n",
       "    <tr>\n",
       "      <th>Саратов</th>\n",
       "      <th>ultra</th>\n",
       "      <td>69.0</td>\n",
       "      <td>102.5</td>\n",
       "      <td>867.5</td>\n",
       "      <td>49.0</td>\n",
       "      <td>4.5</td>\n",
       "      <td>1950.0</td>\n",
       "    </tr>\n",
       "    <tr>\n",
       "      <th>Пермь</th>\n",
       "      <th>ultra</th>\n",
       "      <td>68.6</td>\n",
       "      <td>55.4</td>\n",
       "      <td>503.5</td>\n",
       "      <td>20.5</td>\n",
       "      <td>20.0</td>\n",
       "      <td>1955.8</td>\n",
       "    </tr>\n",
       "    <tr>\n",
       "      <th>Владимир</th>\n",
       "      <th>ultra</th>\n",
       "      <td>68.0</td>\n",
       "      <td>54.5</td>\n",
       "      <td>471.5</td>\n",
       "      <td>76.0</td>\n",
       "      <td>38.5</td>\n",
       "      <td>3225.0</td>\n",
       "    </tr>\n",
       "    <tr>\n",
       "      <th>Ижевск</th>\n",
       "      <th>smart</th>\n",
       "      <td>67.9</td>\n",
       "      <td>60.8</td>\n",
       "      <td>522.4</td>\n",
       "      <td>50.2</td>\n",
       "      <td>17.4</td>\n",
       "      <td>1525.4</td>\n",
       "    </tr>\n",
       "    <tr>\n",
       "      <th>Севастополь</th>\n",
       "      <th>ultra</th>\n",
       "      <td>67.0</td>\n",
       "      <td>98.0</td>\n",
       "      <td>882.0</td>\n",
       "      <td>75.0</td>\n",
       "      <td>27.0</td>\n",
       "      <td>1950.0</td>\n",
       "    </tr>\n",
       "    <tr>\n",
       "      <th>Волгоград</th>\n",
       "      <th>ultra</th>\n",
       "      <td>66.5</td>\n",
       "      <td>97.2</td>\n",
       "      <td>857.1</td>\n",
       "      <td>24.5</td>\n",
       "      <td>28.3</td>\n",
       "      <td>2335.7</td>\n",
       "    </tr>\n",
       "  </tbody>\n",
       "</table>\n",
       "</div>"
      ],
      "text/plain": [
       "                     age  calls  minutes  messages  gigabites  profit\n",
       "city        tariff                                                   \n",
       "Тула        smart   72.0   49.8    455.0      33.0       18.2  1532.4\n",
       "Подольск    smart   71.0   60.0    540.7      91.0       14.3   963.8\n",
       "Оренбург    ultra   71.0   60.7    548.6       0.0       19.1  1950.0\n",
       "Новокузнецк ultra   69.9   37.9    325.7     122.1       14.7  1950.0\n",
       "Саратов     ultra   69.0  102.5    867.5      49.0        4.5  1950.0\n",
       "Пермь       ultra   68.6   55.4    503.5      20.5       20.0  1955.8\n",
       "Владимир    ultra   68.0   54.5    471.5      76.0       38.5  3225.0\n",
       "Ижевск      smart   67.9   60.8    522.4      50.2       17.4  1525.4\n",
       "Севастополь ultra   67.0   98.0    882.0      75.0       27.0  1950.0\n",
       "Волгоград   ultra   66.5   97.2    857.1      24.5       28.3  2335.7"
      ]
     },
     "metadata": {},
     "output_type": "display_data"
    },
    {
     "data": {
      "text/html": [
       "<div>\n",
       "<style scoped>\n",
       "    .dataframe tbody tr th:only-of-type {\n",
       "        vertical-align: middle;\n",
       "    }\n",
       "\n",
       "    .dataframe tbody tr th {\n",
       "        vertical-align: top;\n",
       "    }\n",
       "\n",
       "    .dataframe thead th {\n",
       "        text-align: right;\n",
       "    }\n",
       "</style>\n",
       "<table border=\"1\" class=\"dataframe\">\n",
       "  <thead>\n",
       "    <tr style=\"text-align: right;\">\n",
       "      <th></th>\n",
       "      <th></th>\n",
       "      <th>age</th>\n",
       "      <th>calls</th>\n",
       "      <th>minutes</th>\n",
       "      <th>messages</th>\n",
       "      <th>gigabites</th>\n",
       "      <th>profit</th>\n",
       "    </tr>\n",
       "    <tr>\n",
       "      <th>city</th>\n",
       "      <th>tariff</th>\n",
       "      <th></th>\n",
       "      <th></th>\n",
       "      <th></th>\n",
       "      <th></th>\n",
       "      <th></th>\n",
       "      <th></th>\n",
       "    </tr>\n",
       "  </thead>\n",
       "  <tbody>\n",
       "    <tr>\n",
       "      <th>Саратов</th>\n",
       "      <th>ultra</th>\n",
       "      <td>69.0</td>\n",
       "      <td>102.5</td>\n",
       "      <td>867.5</td>\n",
       "      <td>49.0</td>\n",
       "      <td>4.5</td>\n",
       "      <td>1950.0</td>\n",
       "    </tr>\n",
       "    <tr>\n",
       "      <th>Махачкала</th>\n",
       "      <th>ultra</th>\n",
       "      <td>54.0</td>\n",
       "      <td>101.5</td>\n",
       "      <td>916.8</td>\n",
       "      <td>92.0</td>\n",
       "      <td>33.2</td>\n",
       "      <td>3225.0</td>\n",
       "    </tr>\n",
       "    <tr>\n",
       "      <th>Кострома</th>\n",
       "      <th>ultra</th>\n",
       "      <td>28.4</td>\n",
       "      <td>101.1</td>\n",
       "      <td>896.4</td>\n",
       "      <td>45.5</td>\n",
       "      <td>23.1</td>\n",
       "      <td>2080.0</td>\n",
       "    </tr>\n",
       "    <tr>\n",
       "      <th>Киров</th>\n",
       "      <th>ultra</th>\n",
       "      <td>55.3</td>\n",
       "      <td>100.0</td>\n",
       "      <td>859.0</td>\n",
       "      <td>69.7</td>\n",
       "      <td>12.0</td>\n",
       "      <td>1950.0</td>\n",
       "    </tr>\n",
       "    <tr>\n",
       "      <th>Севастополь</th>\n",
       "      <th>ultra</th>\n",
       "      <td>67.0</td>\n",
       "      <td>98.0</td>\n",
       "      <td>882.0</td>\n",
       "      <td>75.0</td>\n",
       "      <td>27.0</td>\n",
       "      <td>1950.0</td>\n",
       "    </tr>\n",
       "    <tr>\n",
       "      <th>Волгоград</th>\n",
       "      <th>ultra</th>\n",
       "      <td>66.5</td>\n",
       "      <td>97.2</td>\n",
       "      <td>857.1</td>\n",
       "      <td>24.5</td>\n",
       "      <td>28.3</td>\n",
       "      <td>2335.7</td>\n",
       "    </tr>\n",
       "    <tr>\n",
       "      <th>Магнитогорск</th>\n",
       "      <th>ultra</th>\n",
       "      <td>54.0</td>\n",
       "      <td>92.0</td>\n",
       "      <td>842.0</td>\n",
       "      <td>91.0</td>\n",
       "      <td>28.0</td>\n",
       "      <td>1950.0</td>\n",
       "    </tr>\n",
       "    <tr>\n",
       "      <th>Сочи</th>\n",
       "      <th>ultra</th>\n",
       "      <td>41.0</td>\n",
       "      <td>88.7</td>\n",
       "      <td>778.8</td>\n",
       "      <td>0.0</td>\n",
       "      <td>30.8</td>\n",
       "      <td>2300.0</td>\n",
       "    </tr>\n",
       "    <tr>\n",
       "      <th>Барнаул</th>\n",
       "      <th>ultra</th>\n",
       "      <td>36.0</td>\n",
       "      <td>85.5</td>\n",
       "      <td>741.9</td>\n",
       "      <td>3.0</td>\n",
       "      <td>13.9</td>\n",
       "      <td>1950.0</td>\n",
       "    </tr>\n",
       "    <tr>\n",
       "      <th>Рязань</th>\n",
       "      <th>ultra</th>\n",
       "      <td>53.0</td>\n",
       "      <td>85.2</td>\n",
       "      <td>751.8</td>\n",
       "      <td>8.0</td>\n",
       "      <td>16.8</td>\n",
       "      <td>1950.0</td>\n",
       "    </tr>\n",
       "  </tbody>\n",
       "</table>\n",
       "</div>"
      ],
      "text/plain": [
       "                      age  calls  minutes  messages  gigabites  profit\n",
       "city         tariff                                                   \n",
       "Саратов      ultra   69.0  102.5    867.5      49.0        4.5  1950.0\n",
       "Махачкала    ultra   54.0  101.5    916.8      92.0       33.2  3225.0\n",
       "Кострома     ultra   28.4  101.1    896.4      45.5       23.1  2080.0\n",
       "Киров        ultra   55.3  100.0    859.0      69.7       12.0  1950.0\n",
       "Севастополь  ultra   67.0   98.0    882.0      75.0       27.0  1950.0\n",
       "Волгоград    ultra   66.5   97.2    857.1      24.5       28.3  2335.7\n",
       "Магнитогорск ultra   54.0   92.0    842.0      91.0       28.0  1950.0\n",
       "Сочи         ultra   41.0   88.7    778.8       0.0       30.8  2300.0\n",
       "Барнаул      ultra   36.0   85.5    741.9       3.0       13.9  1950.0\n",
       "Рязань       ultra   53.0   85.2    751.8       8.0       16.8  1950.0"
      ]
     },
     "metadata": {},
     "output_type": "display_data"
    },
    {
     "data": {
      "text/html": [
       "<div>\n",
       "<style scoped>\n",
       "    .dataframe tbody tr th:only-of-type {\n",
       "        vertical-align: middle;\n",
       "    }\n",
       "\n",
       "    .dataframe tbody tr th {\n",
       "        vertical-align: top;\n",
       "    }\n",
       "\n",
       "    .dataframe thead th {\n",
       "        text-align: right;\n",
       "    }\n",
       "</style>\n",
       "<table border=\"1\" class=\"dataframe\">\n",
       "  <thead>\n",
       "    <tr style=\"text-align: right;\">\n",
       "      <th></th>\n",
       "      <th></th>\n",
       "      <th>age</th>\n",
       "      <th>calls</th>\n",
       "      <th>minutes</th>\n",
       "      <th>messages</th>\n",
       "      <th>gigabites</th>\n",
       "      <th>profit</th>\n",
       "    </tr>\n",
       "    <tr>\n",
       "      <th>city</th>\n",
       "      <th>tariff</th>\n",
       "      <th></th>\n",
       "      <th></th>\n",
       "      <th></th>\n",
       "      <th></th>\n",
       "      <th></th>\n",
       "      <th></th>\n",
       "    </tr>\n",
       "  </thead>\n",
       "  <tbody>\n",
       "    <tr>\n",
       "      <th>Махачкала</th>\n",
       "      <th>ultra</th>\n",
       "      <td>54.0</td>\n",
       "      <td>101.5</td>\n",
       "      <td>916.8</td>\n",
       "      <td>92.0</td>\n",
       "      <td>33.2</td>\n",
       "      <td>3225.0</td>\n",
       "    </tr>\n",
       "    <tr>\n",
       "      <th>Кострома</th>\n",
       "      <th>ultra</th>\n",
       "      <td>28.4</td>\n",
       "      <td>101.1</td>\n",
       "      <td>896.4</td>\n",
       "      <td>45.5</td>\n",
       "      <td>23.1</td>\n",
       "      <td>2080.0</td>\n",
       "    </tr>\n",
       "    <tr>\n",
       "      <th>Севастополь</th>\n",
       "      <th>ultra</th>\n",
       "      <td>67.0</td>\n",
       "      <td>98.0</td>\n",
       "      <td>882.0</td>\n",
       "      <td>75.0</td>\n",
       "      <td>27.0</td>\n",
       "      <td>1950.0</td>\n",
       "    </tr>\n",
       "    <tr>\n",
       "      <th>Саратов</th>\n",
       "      <th>ultra</th>\n",
       "      <td>69.0</td>\n",
       "      <td>102.5</td>\n",
       "      <td>867.5</td>\n",
       "      <td>49.0</td>\n",
       "      <td>4.5</td>\n",
       "      <td>1950.0</td>\n",
       "    </tr>\n",
       "    <tr>\n",
       "      <th>Киров</th>\n",
       "      <th>ultra</th>\n",
       "      <td>55.3</td>\n",
       "      <td>100.0</td>\n",
       "      <td>859.0</td>\n",
       "      <td>69.7</td>\n",
       "      <td>12.0</td>\n",
       "      <td>1950.0</td>\n",
       "    </tr>\n",
       "    <tr>\n",
       "      <th>Волгоград</th>\n",
       "      <th>ultra</th>\n",
       "      <td>66.5</td>\n",
       "      <td>97.2</td>\n",
       "      <td>857.1</td>\n",
       "      <td>24.5</td>\n",
       "      <td>28.3</td>\n",
       "      <td>2335.7</td>\n",
       "    </tr>\n",
       "    <tr>\n",
       "      <th>Магнитогорск</th>\n",
       "      <th>ultra</th>\n",
       "      <td>54.0</td>\n",
       "      <td>92.0</td>\n",
       "      <td>842.0</td>\n",
       "      <td>91.0</td>\n",
       "      <td>28.0</td>\n",
       "      <td>1950.0</td>\n",
       "    </tr>\n",
       "    <tr>\n",
       "      <th>Сочи</th>\n",
       "      <th>ultra</th>\n",
       "      <td>41.0</td>\n",
       "      <td>88.7</td>\n",
       "      <td>778.8</td>\n",
       "      <td>0.0</td>\n",
       "      <td>30.8</td>\n",
       "      <td>2300.0</td>\n",
       "    </tr>\n",
       "    <tr>\n",
       "      <th>Стерлитамак</th>\n",
       "      <th>ultra</th>\n",
       "      <td>47.0</td>\n",
       "      <td>81.9</td>\n",
       "      <td>753.1</td>\n",
       "      <td>3.0</td>\n",
       "      <td>24.0</td>\n",
       "      <td>2043.8</td>\n",
       "    </tr>\n",
       "    <tr>\n",
       "      <th>Рязань</th>\n",
       "      <th>ultra</th>\n",
       "      <td>53.0</td>\n",
       "      <td>85.2</td>\n",
       "      <td>751.8</td>\n",
       "      <td>8.0</td>\n",
       "      <td>16.8</td>\n",
       "      <td>1950.0</td>\n",
       "    </tr>\n",
       "  </tbody>\n",
       "</table>\n",
       "</div>"
      ],
      "text/plain": [
       "                      age  calls  minutes  messages  gigabites  profit\n",
       "city         tariff                                                   \n",
       "Махачкала    ultra   54.0  101.5    916.8      92.0       33.2  3225.0\n",
       "Кострома     ultra   28.4  101.1    896.4      45.5       23.1  2080.0\n",
       "Севастополь  ultra   67.0   98.0    882.0      75.0       27.0  1950.0\n",
       "Саратов      ultra   69.0  102.5    867.5      49.0        4.5  1950.0\n",
       "Киров        ultra   55.3  100.0    859.0      69.7       12.0  1950.0\n",
       "Волгоград    ultra   66.5   97.2    857.1      24.5       28.3  2335.7\n",
       "Магнитогорск ultra   54.0   92.0    842.0      91.0       28.0  1950.0\n",
       "Сочи         ultra   41.0   88.7    778.8       0.0       30.8  2300.0\n",
       "Стерлитамак  ultra   47.0   81.9    753.1       3.0       24.0  2043.8\n",
       "Рязань       ultra   53.0   85.2    751.8       8.0       16.8  1950.0"
      ]
     },
     "metadata": {},
     "output_type": "display_data"
    },
    {
     "data": {
      "text/html": [
       "<div>\n",
       "<style scoped>\n",
       "    .dataframe tbody tr th:only-of-type {\n",
       "        vertical-align: middle;\n",
       "    }\n",
       "\n",
       "    .dataframe tbody tr th {\n",
       "        vertical-align: top;\n",
       "    }\n",
       "\n",
       "    .dataframe thead th {\n",
       "        text-align: right;\n",
       "    }\n",
       "</style>\n",
       "<table border=\"1\" class=\"dataframe\">\n",
       "  <thead>\n",
       "    <tr style=\"text-align: right;\">\n",
       "      <th></th>\n",
       "      <th></th>\n",
       "      <th>age</th>\n",
       "      <th>calls</th>\n",
       "      <th>minutes</th>\n",
       "      <th>messages</th>\n",
       "      <th>gigabites</th>\n",
       "      <th>profit</th>\n",
       "    </tr>\n",
       "    <tr>\n",
       "      <th>city</th>\n",
       "      <th>tariff</th>\n",
       "      <th></th>\n",
       "      <th></th>\n",
       "      <th></th>\n",
       "      <th></th>\n",
       "      <th></th>\n",
       "      <th></th>\n",
       "    </tr>\n",
       "  </thead>\n",
       "  <tbody>\n",
       "    <tr>\n",
       "      <th>Чебоксары</th>\n",
       "      <th>ultra</th>\n",
       "      <td>63.0</td>\n",
       "      <td>0.0</td>\n",
       "      <td>0.0</td>\n",
       "      <td>173.0</td>\n",
       "      <td>27.8</td>\n",
       "      <td>2100.0</td>\n",
       "    </tr>\n",
       "    <tr>\n",
       "      <th>Кемерово</th>\n",
       "      <th>ultra</th>\n",
       "      <td>30.0</td>\n",
       "      <td>59.8</td>\n",
       "      <td>547.5</td>\n",
       "      <td>132.0</td>\n",
       "      <td>15.8</td>\n",
       "      <td>1950.0</td>\n",
       "    </tr>\n",
       "    <tr>\n",
       "      <th>Новокузнецк</th>\n",
       "      <th>ultra</th>\n",
       "      <td>69.9</td>\n",
       "      <td>37.9</td>\n",
       "      <td>325.7</td>\n",
       "      <td>122.1</td>\n",
       "      <td>14.7</td>\n",
       "      <td>1950.0</td>\n",
       "    </tr>\n",
       "    <tr>\n",
       "      <th>Ярославль</th>\n",
       "      <th>ultra</th>\n",
       "      <td>40.0</td>\n",
       "      <td>53.3</td>\n",
       "      <td>463.7</td>\n",
       "      <td>119.0</td>\n",
       "      <td>20.6</td>\n",
       "      <td>1950.0</td>\n",
       "    </tr>\n",
       "    <tr>\n",
       "      <th>Сургут</th>\n",
       "      <th>ultra</th>\n",
       "      <td>55.2</td>\n",
       "      <td>58.0</td>\n",
       "      <td>551.3</td>\n",
       "      <td>110.8</td>\n",
       "      <td>15.7</td>\n",
       "      <td>1950.0</td>\n",
       "    </tr>\n",
       "    <tr>\n",
       "      <th>Иркутск</th>\n",
       "      <th>ultra</th>\n",
       "      <td>33.4</td>\n",
       "      <td>62.6</td>\n",
       "      <td>544.7</td>\n",
       "      <td>109.2</td>\n",
       "      <td>18.6</td>\n",
       "      <td>2062.5</td>\n",
       "    </tr>\n",
       "    <tr>\n",
       "      <th>Самара</th>\n",
       "      <th>ultra</th>\n",
       "      <td>36.7</td>\n",
       "      <td>59.8</td>\n",
       "      <td>529.5</td>\n",
       "      <td>95.2</td>\n",
       "      <td>14.7</td>\n",
       "      <td>2111.5</td>\n",
       "    </tr>\n",
       "    <tr>\n",
       "      <th>Махачкала</th>\n",
       "      <th>ultra</th>\n",
       "      <td>54.0</td>\n",
       "      <td>101.5</td>\n",
       "      <td>916.8</td>\n",
       "      <td>92.0</td>\n",
       "      <td>33.2</td>\n",
       "      <td>3225.0</td>\n",
       "    </tr>\n",
       "    <tr>\n",
       "      <th>Череповец</th>\n",
       "      <th>smart</th>\n",
       "      <td>38.1</td>\n",
       "      <td>64.5</td>\n",
       "      <td>571.7</td>\n",
       "      <td>91.3</td>\n",
       "      <td>18.2</td>\n",
       "      <td>2162.5</td>\n",
       "    </tr>\n",
       "    <tr>\n",
       "      <th>Магнитогорск</th>\n",
       "      <th>ultra</th>\n",
       "      <td>54.0</td>\n",
       "      <td>92.0</td>\n",
       "      <td>842.0</td>\n",
       "      <td>91.0</td>\n",
       "      <td>28.0</td>\n",
       "      <td>1950.0</td>\n",
       "    </tr>\n",
       "  </tbody>\n",
       "</table>\n",
       "</div>"
      ],
      "text/plain": [
       "                      age  calls  minutes  messages  gigabites  profit\n",
       "city         tariff                                                   \n",
       "Чебоксары    ultra   63.0    0.0      0.0     173.0       27.8  2100.0\n",
       "Кемерово     ultra   30.0   59.8    547.5     132.0       15.8  1950.0\n",
       "Новокузнецк  ultra   69.9   37.9    325.7     122.1       14.7  1950.0\n",
       "Ярославль    ultra   40.0   53.3    463.7     119.0       20.6  1950.0\n",
       "Сургут       ultra   55.2   58.0    551.3     110.8       15.7  1950.0\n",
       "Иркутск      ultra   33.4   62.6    544.7     109.2       18.6  2062.5\n",
       "Самара       ultra   36.7   59.8    529.5      95.2       14.7  2111.5\n",
       "Махачкала    ultra   54.0  101.5    916.8      92.0       33.2  3225.0\n",
       "Череповец    smart   38.1   64.5    571.7      91.3       18.2  2162.5\n",
       "Магнитогорск ultra   54.0   92.0    842.0      91.0       28.0  1950.0"
      ]
     },
     "metadata": {},
     "output_type": "display_data"
    },
    {
     "data": {
      "text/html": [
       "<div>\n",
       "<style scoped>\n",
       "    .dataframe tbody tr th:only-of-type {\n",
       "        vertical-align: middle;\n",
       "    }\n",
       "\n",
       "    .dataframe tbody tr th {\n",
       "        vertical-align: top;\n",
       "    }\n",
       "\n",
       "    .dataframe thead th {\n",
       "        text-align: right;\n",
       "    }\n",
       "</style>\n",
       "<table border=\"1\" class=\"dataframe\">\n",
       "  <thead>\n",
       "    <tr style=\"text-align: right;\">\n",
       "      <th></th>\n",
       "      <th></th>\n",
       "      <th>age</th>\n",
       "      <th>calls</th>\n",
       "      <th>minutes</th>\n",
       "      <th>messages</th>\n",
       "      <th>gigabites</th>\n",
       "      <th>profit</th>\n",
       "    </tr>\n",
       "    <tr>\n",
       "      <th>city</th>\n",
       "      <th>tariff</th>\n",
       "      <th></th>\n",
       "      <th></th>\n",
       "      <th></th>\n",
       "      <th></th>\n",
       "      <th></th>\n",
       "      <th></th>\n",
       "    </tr>\n",
       "  </thead>\n",
       "  <tbody>\n",
       "    <tr>\n",
       "      <th>Владимир</th>\n",
       "      <th>ultra</th>\n",
       "      <td>68.0</td>\n",
       "      <td>54.5</td>\n",
       "      <td>471.5</td>\n",
       "      <td>76.0</td>\n",
       "      <td>38.5</td>\n",
       "      <td>3225.0</td>\n",
       "    </tr>\n",
       "    <tr>\n",
       "      <th>Махачкала</th>\n",
       "      <th>ultra</th>\n",
       "      <td>54.0</td>\n",
       "      <td>101.5</td>\n",
       "      <td>916.8</td>\n",
       "      <td>92.0</td>\n",
       "      <td>33.2</td>\n",
       "      <td>3225.0</td>\n",
       "    </tr>\n",
       "    <tr>\n",
       "      <th>Саранск</th>\n",
       "      <th>ultra</th>\n",
       "      <td>40.8</td>\n",
       "      <td>26.7</td>\n",
       "      <td>236.2</td>\n",
       "      <td>10.9</td>\n",
       "      <td>31.0</td>\n",
       "      <td>2833.3</td>\n",
       "    </tr>\n",
       "    <tr>\n",
       "      <th>Сочи</th>\n",
       "      <th>ultra</th>\n",
       "      <td>41.0</td>\n",
       "      <td>88.7</td>\n",
       "      <td>778.8</td>\n",
       "      <td>0.0</td>\n",
       "      <td>30.8</td>\n",
       "      <td>2300.0</td>\n",
       "    </tr>\n",
       "    <tr>\n",
       "      <th>Волгоград</th>\n",
       "      <th>ultra</th>\n",
       "      <td>66.5</td>\n",
       "      <td>97.2</td>\n",
       "      <td>857.1</td>\n",
       "      <td>24.5</td>\n",
       "      <td>28.3</td>\n",
       "      <td>2335.7</td>\n",
       "    </tr>\n",
       "    <tr>\n",
       "      <th>Магнитогорск</th>\n",
       "      <th>ultra</th>\n",
       "      <td>54.0</td>\n",
       "      <td>92.0</td>\n",
       "      <td>842.0</td>\n",
       "      <td>91.0</td>\n",
       "      <td>28.0</td>\n",
       "      <td>1950.0</td>\n",
       "    </tr>\n",
       "    <tr>\n",
       "      <th>Ростов-на-Дону</th>\n",
       "      <th>ultra</th>\n",
       "      <td>51.3</td>\n",
       "      <td>70.9</td>\n",
       "      <td>640.7</td>\n",
       "      <td>17.3</td>\n",
       "      <td>27.9</td>\n",
       "      <td>2512.5</td>\n",
       "    </tr>\n",
       "    <tr>\n",
       "      <th>Чебоксары</th>\n",
       "      <th>ultra</th>\n",
       "      <td>63.0</td>\n",
       "      <td>0.0</td>\n",
       "      <td>0.0</td>\n",
       "      <td>173.0</td>\n",
       "      <td>27.8</td>\n",
       "      <td>2100.0</td>\n",
       "    </tr>\n",
       "    <tr>\n",
       "      <th>Севастополь</th>\n",
       "      <th>ultra</th>\n",
       "      <td>67.0</td>\n",
       "      <td>98.0</td>\n",
       "      <td>882.0</td>\n",
       "      <td>75.0</td>\n",
       "      <td>27.0</td>\n",
       "      <td>1950.0</td>\n",
       "    </tr>\n",
       "    <tr>\n",
       "      <th>Ульяновск</th>\n",
       "      <th>ultra</th>\n",
       "      <td>48.0</td>\n",
       "      <td>11.5</td>\n",
       "      <td>96.0</td>\n",
       "      <td>0.0</td>\n",
       "      <td>27.0</td>\n",
       "      <td>2625.0</td>\n",
       "    </tr>\n",
       "  </tbody>\n",
       "</table>\n",
       "</div>"
      ],
      "text/plain": [
       "                        age  calls  minutes  messages  gigabites  profit\n",
       "city           tariff                                                   \n",
       "Владимир       ultra   68.0   54.5    471.5      76.0       38.5  3225.0\n",
       "Махачкала      ultra   54.0  101.5    916.8      92.0       33.2  3225.0\n",
       "Саранск        ultra   40.8   26.7    236.2      10.9       31.0  2833.3\n",
       "Сочи           ultra   41.0   88.7    778.8       0.0       30.8  2300.0\n",
       "Волгоград      ultra   66.5   97.2    857.1      24.5       28.3  2335.7\n",
       "Магнитогорск   ultra   54.0   92.0    842.0      91.0       28.0  1950.0\n",
       "Ростов-на-Дону ultra   51.3   70.9    640.7      17.3       27.9  2512.5\n",
       "Чебоксары      ultra   63.0    0.0      0.0     173.0       27.8  2100.0\n",
       "Севастополь    ultra   67.0   98.0    882.0      75.0       27.0  1950.0\n",
       "Ульяновск      ultra   48.0   11.5     96.0       0.0       27.0  2625.0"
      ]
     },
     "metadata": {},
     "output_type": "display_data"
    },
    {
     "data": {
      "text/html": [
       "<div>\n",
       "<style scoped>\n",
       "    .dataframe tbody tr th:only-of-type {\n",
       "        vertical-align: middle;\n",
       "    }\n",
       "\n",
       "    .dataframe tbody tr th {\n",
       "        vertical-align: top;\n",
       "    }\n",
       "\n",
       "    .dataframe thead th {\n",
       "        text-align: right;\n",
       "    }\n",
       "</style>\n",
       "<table border=\"1\" class=\"dataframe\">\n",
       "  <thead>\n",
       "    <tr style=\"text-align: right;\">\n",
       "      <th></th>\n",
       "      <th></th>\n",
       "      <th>age</th>\n",
       "      <th>calls</th>\n",
       "      <th>minutes</th>\n",
       "      <th>messages</th>\n",
       "      <th>gigabites</th>\n",
       "      <th>profit</th>\n",
       "    </tr>\n",
       "    <tr>\n",
       "      <th>city</th>\n",
       "      <th>tariff</th>\n",
       "      <th></th>\n",
       "      <th></th>\n",
       "      <th></th>\n",
       "      <th></th>\n",
       "      <th></th>\n",
       "      <th></th>\n",
       "    </tr>\n",
       "  </thead>\n",
       "  <tbody>\n",
       "    <tr>\n",
       "      <th>Махачкала</th>\n",
       "      <th>ultra</th>\n",
       "      <td>54.0</td>\n",
       "      <td>101.5</td>\n",
       "      <td>916.8</td>\n",
       "      <td>92.0</td>\n",
       "      <td>33.2</td>\n",
       "      <td>3225.0</td>\n",
       "    </tr>\n",
       "    <tr>\n",
       "      <th>Владимир</th>\n",
       "      <th>ultra</th>\n",
       "      <td>68.0</td>\n",
       "      <td>54.5</td>\n",
       "      <td>471.5</td>\n",
       "      <td>76.0</td>\n",
       "      <td>38.5</td>\n",
       "      <td>3225.0</td>\n",
       "    </tr>\n",
       "    <tr>\n",
       "      <th>Саранск</th>\n",
       "      <th>ultra</th>\n",
       "      <td>40.8</td>\n",
       "      <td>26.7</td>\n",
       "      <td>236.2</td>\n",
       "      <td>10.9</td>\n",
       "      <td>31.0</td>\n",
       "      <td>2833.3</td>\n",
       "    </tr>\n",
       "    <tr>\n",
       "      <th>Ульяновск</th>\n",
       "      <th>ultra</th>\n",
       "      <td>48.0</td>\n",
       "      <td>11.5</td>\n",
       "      <td>96.0</td>\n",
       "      <td>0.0</td>\n",
       "      <td>27.0</td>\n",
       "      <td>2625.0</td>\n",
       "    </tr>\n",
       "    <tr>\n",
       "      <th>Ростов-на-Дону</th>\n",
       "      <th>ultra</th>\n",
       "      <td>51.3</td>\n",
       "      <td>70.9</td>\n",
       "      <td>640.7</td>\n",
       "      <td>17.3</td>\n",
       "      <td>27.9</td>\n",
       "      <td>2512.5</td>\n",
       "    </tr>\n",
       "    <tr>\n",
       "      <th>Волгоград</th>\n",
       "      <th>ultra</th>\n",
       "      <td>66.5</td>\n",
       "      <td>97.2</td>\n",
       "      <td>857.1</td>\n",
       "      <td>24.5</td>\n",
       "      <td>28.3</td>\n",
       "      <td>2335.7</td>\n",
       "    </tr>\n",
       "    <tr>\n",
       "      <th>Красноярск</th>\n",
       "      <th>ultra</th>\n",
       "      <td>51.4</td>\n",
       "      <td>20.2</td>\n",
       "      <td>183.4</td>\n",
       "      <td>10.2</td>\n",
       "      <td>26.2</td>\n",
       "      <td>2325.0</td>\n",
       "    </tr>\n",
       "    <tr>\n",
       "      <th>Воронеж</th>\n",
       "      <th>ultra</th>\n",
       "      <td>39.9</td>\n",
       "      <td>76.7</td>\n",
       "      <td>691.1</td>\n",
       "      <td>78.9</td>\n",
       "      <td>25.9</td>\n",
       "      <td>2317.7</td>\n",
       "    </tr>\n",
       "    <tr>\n",
       "      <th>Оренбург</th>\n",
       "      <th>smart</th>\n",
       "      <td>56.0</td>\n",
       "      <td>56.8</td>\n",
       "      <td>545.2</td>\n",
       "      <td>64.0</td>\n",
       "      <td>22.8</td>\n",
       "      <td>2304.8</td>\n",
       "    </tr>\n",
       "    <tr>\n",
       "      <th>Сочи</th>\n",
       "      <th>ultra</th>\n",
       "      <td>41.0</td>\n",
       "      <td>88.7</td>\n",
       "      <td>778.8</td>\n",
       "      <td>0.0</td>\n",
       "      <td>30.8</td>\n",
       "      <td>2300.0</td>\n",
       "    </tr>\n",
       "  </tbody>\n",
       "</table>\n",
       "</div>"
      ],
      "text/plain": [
       "                        age  calls  minutes  messages  gigabites  profit\n",
       "city           tariff                                                   \n",
       "Махачкала      ultra   54.0  101.5    916.8      92.0       33.2  3225.0\n",
       "Владимир       ultra   68.0   54.5    471.5      76.0       38.5  3225.0\n",
       "Саранск        ultra   40.8   26.7    236.2      10.9       31.0  2833.3\n",
       "Ульяновск      ultra   48.0   11.5     96.0       0.0       27.0  2625.0\n",
       "Ростов-на-Дону ultra   51.3   70.9    640.7      17.3       27.9  2512.5\n",
       "Волгоград      ultra   66.5   97.2    857.1      24.5       28.3  2335.7\n",
       "Красноярск     ultra   51.4   20.2    183.4      10.2       26.2  2325.0\n",
       "Воронеж        ultra   39.9   76.7    691.1      78.9       25.9  2317.7\n",
       "Оренбург       smart   56.0   56.8    545.2      64.0       22.8  2304.8\n",
       "Сочи           ultra   41.0   88.7    778.8       0.0       30.8  2300.0"
      ]
     },
     "metadata": {},
     "output_type": "display_data"
    }
   ],
   "source": [
    "for param in params:\n",
    "    df = union_table.groupby(['city','tariff'])[params].agg('mean').round(1)\n",
    "    display(df.sort_values((param),ascending=False).head(10))\n"
   ]
  },
  {
   "cell_type": "markdown",
   "id": "e1556d00",
   "metadata": {},
   "source": [
    "### Вывод\n",
    "\n",
    "\n",
    "Количество совершенных в среднем звонков значительно возросло: на тарифе `smart` с 22 в январе до 54 в декабре - более чем в 2 раза, и с 46 до 66 на тарифе `ultra`. У тарифа `ultra` по всем параметрам наблюдается проседание показателей в феврале. Интересно будет узнать, что могло в компании на это повлиять.\n",
    "\n",
    "Количество минут разговора имеет близкое к  нормальному распределению тариф `smart`, среднее 417 и медианное 421 значения очень близки, большая часть клиентов вкладывается в 500 тариффных минут. У тарифа `ultra` среднее значение 526 при медиане 518 наблюдается равномерное распределение от 0 до  900 минут, и длинный хвост почти до 1700. 3000 тарифных минут чрезвычайно избыточны.\n",
    "\n",
    "Сообщения отправляются редко, подавляющее большинство, приходящееся на 3 квартиля, а это 75% клиентов, составляет 51 для `smart` и 78 для `ultra`, при медианных значения 28 и 38 соответственно. Средние значения тарифа `smart` не превышает 34. Лимит тарифа `ultra` также избыточен (1000 смс).\n",
    "\n",
    "Потребление траффика - распределение похоже на нормальное, со средними значениями 16 `smart`и 19 `ultra`. Больше половины пользователей тарифа `smart` выходят за рамки лимита (15Гб) и переплачивают. В тарифе `ultra` большая часть вкладывается в лимит (30Гб).\n",
    "\n",
    "Что касается оплаты, то очевидно, что средняя стоимость тарифа `smart` обходится клиентам почти в 2.5 раза (1289 /550)дороже абоненской платы. В тарифе `ultra` наблюдается, лишь незначительная доплата(2070/1950) к абоненской плате, при том что подавляющее большинство не выходит за ее рамки.\n",
    "\n",
    "Любители поговорить проживают в Саратове, Махачкале и Костроме - в среднем более 100 звонков в месяц.\n",
    "По числу минут лидируют Махачкала (916) и Кострома (896)  минут в среднем.\n",
    "Больше 120 сообщений за месяц в Новокузнецк, Кемерово и лидирует Чебоксары (173).\n",
    "В потреблении траффика лидеры Саранск, Махачкала и Владимир. Здесь имеется даже превышение лимита в 30Гб.\n",
    "На эти же города приходится и максимальная оплата в месяц: Саранск -2833, Махачкала и Владимир по 3225 рублей."
   ]
  },
  {
   "cell_type": "markdown",
   "id": "342880f2",
   "metadata": {},
   "source": [
    "## Проверка гипотез"
   ]
  },
  {
   "cell_type": "markdown",
   "id": "02500ad5",
   "metadata": {},
   "source": [
    "По заданию в проекте нам необходимо, используя статистические методы проверить две гипотезы:\n",
    "* средняя выручка пользователей тарифов «Ультра» и «Смарт» различается;\n",
    "* средняя выручка пользователей из Москвы отличается от выручки пользователей из других регионов;"
   ]
  },
  {
   "cell_type": "markdown",
   "id": "c3db570c",
   "metadata": {},
   "source": [
    "#### Гипотеза 1: средняя выручка пользователей тарифов «Ультра» и «Смарт» различается."
   ]
  },
  {
   "cell_type": "markdown",
   "id": "4bbdbbc2",
   "metadata": {},
   "source": [
    "Сформулируем нулевую и альтернативные гипотезы:\n",
    "- $H_0$: средняя выручка пользователей тарифов «Ультра» и «Смарт» равны;\n",
    "- $H_1$: средняя выручка пользователей тарифов «Ультра» и «Смарт» не равны;\n",
    "\n",
    "Составим множества со значениями оплатами для тарифов `ultra` и `smart`."
   ]
  },
  {
   "cell_type": "code",
   "execution_count": 86,
   "id": "508fbb75",
   "metadata": {
    "scrolled": true
   },
   "outputs": [],
   "source": [
    "ultra_profit = union_table.query('tariff ==\"ultra\"')['profit'].values\n",
    "smart_profit = union_table.query('tariff ==\"smart\"')['profit'].values"
   ]
  },
  {
   "cell_type": "markdown",
   "id": "becc8f71",
   "metadata": {},
   "source": [
    "Сравним значения дисперсии для массивов."
   ]
  },
  {
   "cell_type": "code",
   "execution_count": 87,
   "id": "b1746e1a",
   "metadata": {},
   "outputs": [
    {
     "name": "stdout",
     "output_type": "stream",
     "text": [
      "Дисперсия для ultra_profit: 141387.7148093615\n",
      "Дисперсия для smart_profit: 669730.763894807\n"
     ]
    }
   ],
   "source": [
    "print(f'Дисперсия для ultra_profit: {np.var(ultra_profit, ddof=1)}')\n",
    "print(f'Дисперсия для smart_profit: {np.var(smart_profit, ddof=1)}')"
   ]
  },
  {
   "cell_type": "code",
   "execution_count": 88,
   "id": "d84acb70",
   "metadata": {},
   "outputs": [
    {
     "name": "stdout",
     "output_type": "stream",
     "text": [
      "p-значение: 1.927011394420941e-250\n",
      "Отвергаем нулевую гипотезу\n"
     ]
    }
   ],
   "source": [
    "# критический уровень статистической значимости\n",
    "alpha = 0.05 \n",
    "\n",
    "# дисперсии отличаются более чем в 4 раза, принимаем поправку в формуле equal_var=False\n",
    "results = st.ttest_ind(ultra_profit, smart_profit, equal_var=False)\n",
    "\n",
    "print('p-значение:', results.pvalue)\n",
    "\n",
    "if (results.pvalue < alpha):\n",
    "    print(\"Отвергаем нулевую гипотезу\")\n",
    "else:\n",
    "    print(\"Не получилось отвергнуть нулевую гипотезу\")"
   ]
  },
  {
   "cell_type": "markdown",
   "id": "3fa4139f",
   "metadata": {},
   "source": [
    "**Средняя выручка по тарифам**"
   ]
  },
  {
   "cell_type": "code",
   "execution_count": 89,
   "id": "d3b1992a",
   "metadata": {},
   "outputs": [
    {
     "name": "stdout",
     "output_type": "stream",
     "text": [
      "Средняя выручка тарифа Smart:  1289.6\n",
      "Средняя выручка тарифа Ultra:  2070.0\n"
     ]
    }
   ],
   "source": [
    "# для наглядности средние выручки по тарифам Smart и Ultra\n",
    "print('Средняя выручка тарифа Smart: ',smart_profit.mean().round(1))\n",
    "print('Средняя выручка тарифа Ultra: ',ultra_profit.mean().round(1))\n"
   ]
  },
  {
   "cell_type": "markdown",
   "id": "b87819be",
   "metadata": {},
   "source": [
    "Нулевую гипотезу отвергаем, т.е. вероятность получить среднее одной выборки в допустимй близости от среднего второй выборки, ничтожна мала. Причем, она на столько мала, что практически стремится к нулю. Значит делаем вывод: **Гипотеза 1 подтвердилась: средняя выручка пользователей тарифов «Ультра» и «Смарт» различается.**."
   ]
  },
  {
   "cell_type": "markdown",
   "id": "edc5f0d1",
   "metadata": {},
   "source": [
    "#### Гипотеза 2: средняя выручка пользователей из Москвы отличается от выручки пользователей из других регионов."
   ]
  },
  {
   "cell_type": "markdown",
   "id": "2e49ce33",
   "metadata": {},
   "source": [
    "Сформулируем нулевую и альтернативные гипотезы:\n",
    "- $H_0$: средняя выручка пользователей города Москва и других городов равны;\n",
    "- $H_1$: средняя выручка пользователей города Москва и других городов не равны;\n",
    "Составим множества для Москвы и остальных городов"
   ]
  },
  {
   "cell_type": "code",
   "execution_count": 90,
   "id": "29e9d08b",
   "metadata": {},
   "outputs": [],
   "source": [
    "moscow_profit = union_table.query('city ==\"Москва\"')['profit'].values\n",
    "other_city_profit = union_table.query('city !=\"Москва\"')['profit'].values"
   ]
  },
  {
   "cell_type": "markdown",
   "id": "dec09526",
   "metadata": {},
   "source": [
    "Сравниваем дисперсии"
   ]
  },
  {
   "cell_type": "code",
   "execution_count": 91,
   "id": "4435880b",
   "metadata": {},
   "outputs": [
    {
     "name": "stdout",
     "output_type": "stream",
     "text": [
      "Дисперсия для moscow_profit: 565636.467011886\n",
      "Дисперсия для other_city_profit: 654069.5749627769\n",
      "Дисперсия отличаются на: 13.520443594387284 %\n"
     ]
    }
   ],
   "source": [
    "print(f'Дисперсия для moscow_profit: {np.var(moscow_profit, ddof=1)}')\n",
    "print(f'Дисперсия для other_city_profit: {np.var(other_city_profit, ddof=1)}')\n",
    "(print(f'Дисперсия отличаются на: \\\n",
    "{(np.var(other_city_profit, ddof=1) - np.var(moscow_profit, ddof=1))/np.var(other_city_profit, ddof=1)*100} %'))"
   ]
  },
  {
   "cell_type": "code",
   "execution_count": 92,
   "id": "62758b85",
   "metadata": {},
   "outputs": [
    {
     "name": "stdout",
     "output_type": "stream",
     "text": [
      "p-значение: 0.5400751614511182\n",
      "Не получилось отвергнуть нулевую гипотезу\n"
     ]
    }
   ],
   "source": [
    "# критический уровень статистической значимости\n",
    "alpha = 0.05 \n",
    "\n",
    "# дисперсии получились одного порядка, отличаются не более чем на 14%\n",
    "# принимаем поправку в формуле equal_var=True\n",
    "results = st.ttest_ind(moscow_profit, other_city_profit, equal_var=True)\n",
    "\n",
    "print('p-значение:', results.pvalue)\n",
    "\n",
    "if (results.pvalue < alpha):\n",
    "    print(\"Отвергаем нулевую гипотезу\")\n",
    "else:\n",
    "    print(\"Не получилось отвергнуть нулевую гипотезу\")"
   ]
  },
  {
   "cell_type": "markdown",
   "id": "da498cf3",
   "metadata": {},
   "source": [
    "Это означает, что мы не можем отвергнуть $H_0$ гипотезу, т.е. делаем вывод: **Гипотеза 2 не подтвердилась: средние выручки Москвы и других городов не отличаются.**."
   ]
  },
  {
   "cell_type": "markdown",
   "id": "fa79477e",
   "metadata": {},
   "source": [
    "**Средняя выручка по Москве и другим городам**"
   ]
  },
  {
   "cell_type": "code",
   "execution_count": 93,
   "id": "c651e414",
   "metadata": {},
   "outputs": [
    {
     "name": "stdout",
     "output_type": "stream",
     "text": [
      "Средняя выручка по Москве:  1546.7\n",
      "Средняя выручка по другим городам:  1524.7\n"
     ]
    }
   ],
   "source": [
    "# для наглядности средние выручки по Москве и другим городам\n",
    "print('Средняя выручка по Москве: ',moscow_profit.mean().round(1))\n",
    "print('Средняя выручка по другим городам: ',other_city_profit.mean().round(1))\n"
   ]
  },
  {
   "cell_type": "markdown",
   "id": "0cd06d42",
   "metadata": {},
   "source": [
    "### Вывод\n",
    "Мы проверили две гипотезы и пришли к заключению:\n",
    "- средняя выручка пользователей тарифов «Ультра» и «Смарт» различается;\n",
    "- средняя выручка пользователей из Москвы не отличается от выручки пользователей из других регионов;"
   ]
  },
  {
   "cell_type": "markdown",
   "id": "555d3f32",
   "metadata": {},
   "source": [
    "## Общий вывод"
   ]
  },
  {
   "cell_type": "markdown",
   "id": "ca3c42eb",
   "metadata": {},
   "source": [
    "В ходе проведенного исследования были получены и проанализированны исходные данные. Изучив общую информацию пришли к выводу о том, что данные поступили в корректном состоянии, не содержали критических ошибок и пропусков. Поэтому подготовка свелась к удалению незначащих столбцов, изменению типов данных.\n",
    "\n",
    "Были расчитаны дополнительные показатели по количеству и длительности звонков, количеству отправленых сообщений, использованному траффику и выручки по месяцам на каждого клиента. Необходимые для анализа данные были собраны в общуж таблицу `union_table`.\n",
    "\n",
    "В процессе анализа было установлено:\n",
    "- среднее количество звонков выросло в течении года с 22 до 54 на тарифе `smart`, и с 46 до 66, с проседанием до 34, на тарифе `ultra`.\n",
    "- средние показатели по использованым минутам также показывают стабильный рост с 200 до 480 минут на `smart`, и с 420 до 590 для `ultra`. Проседание в феврале наблюдается и здесь, и по остальным услугам. Причина? Можно уточнить у продуктовых медеджеров, какие компании, проводившиеся в это время могли на это повлиять. Лимит по минутам (500) по средним показателям не был достигнут на `smart` и тем более на `ultra` (3000), при этом более 25% пользователей `smart` попадают в диапозон 545...1435 минут. Для `ultra` этот диапозон 751...1673 минут.\n",
    "- среднее количество сообщений на `smart` росло с 18 в январе до 34 в мае, и до конца года оставалось стабильным, можно предположить, что для этого тарифа это близко к  пределу, хотя 25% попадают в диапазон 51...143 сообщения. \n",
    "На `ultra` происходит стабильный рост за год с 34 до 60. Максимальное значение 224, что очень даалеко от лимита (1000).\n",
    "Спрос на эту услугу невелик, четверть пользователей `smart` отправляют не более 10 сообщений в месяц, для `ultra` не более 6.\n",
    "- потребление интернет-траффика на `smart`довольно интенсивно, со стабильным превышением лимита в 15Гб, начиная уже с марта и до конца года. К декабрю превышение составляет в среднем около 3Гб. Половина пользователей в диапазоне 17...28Гб. Даже среднее значение 16,3Гб превышает лимит 15Гб.\n",
    "На тарифе `ultra` средние значения по месяцам 19.5Гб лимита (30Гб) не достигают.\n",
    "- выручка на тарифе `ultra` в 75% состоит исключительно из абоненской платы,поскольку и по минутам и сообщениям лимит практически не расходуется. то доплаты приходит только за счет дополнительного траффика. В среднем каждый клиент потребляет срерх тариффа на 2070 - 1950 = 120 рублей(6.2%). \n",
    "Переплата каждого клиента в среднем состоит не только из траффика, но и из дополнительных минут и сообщений, и составляет 1290 - 550 = **740! рублей (135%)**.\n",
    "\n",
    "По изложеным выше пунктам, становится ясно, что каждый пользователь тарифа `smart` в среднем приносит дополнительно 135% выручки, к тому же выручка с начала года выросла более чем в 2 раза (с 750 в январе до более 1500 в декабре. Поэтому этот тариф можно рекомендовать как основной для разработки рекламной кампании."
   ]
  }
 ],
 "metadata": {
  "ExecuteTimeLog": [
   {
    "duration": 1446,
    "start_time": "2022-04-02T15:48:17.366Z"
   },
   {
    "duration": 547,
    "start_time": "2022-04-02T15:48:18.815Z"
   },
   {
    "duration": 4,
    "start_time": "2022-04-02T15:48:19.364Z"
   },
   {
    "duration": 103,
    "start_time": "2022-04-02T15:48:19.370Z"
   },
   {
    "duration": 71,
    "start_time": "2022-04-02T15:48:19.476Z"
   },
   {
    "duration": 56,
    "start_time": "2022-04-02T15:48:19.575Z"
   },
   {
    "duration": 51,
    "start_time": "2022-04-02T15:48:19.633Z"
   },
   {
    "duration": 50,
    "start_time": "2022-04-02T15:48:19.687Z"
   },
   {
    "duration": 162,
    "start_time": "2022-04-02T15:48:19.739Z"
   },
   {
    "duration": 105,
    "start_time": "2022-04-02T15:48:19.904Z"
   },
   {
    "duration": 13,
    "start_time": "2022-04-02T15:48:20.011Z"
   },
   {
    "duration": 58,
    "start_time": "2022-04-02T15:48:20.026Z"
   },
   {
    "duration": 372,
    "start_time": "2022-04-02T15:48:20.087Z"
   },
   {
    "duration": 19,
    "start_time": "2022-04-02T15:48:20.462Z"
   },
   {
    "duration": 16,
    "start_time": "2022-04-02T15:48:20.485Z"
   },
   {
    "duration": 844,
    "start_time": "2022-04-02T15:48:20.504Z"
   },
   {
    "duration": 27,
    "start_time": "2022-04-02T15:48:21.350Z"
   },
   {
    "duration": 35,
    "start_time": "2022-04-02T15:48:21.380Z"
   },
   {
    "duration": 372,
    "start_time": "2022-04-02T15:48:21.417Z"
   },
   {
    "duration": 349,
    "start_time": "2022-04-02T15:48:21.792Z"
   },
   {
    "duration": 4,
    "start_time": "2022-04-02T15:48:22.143Z"
   },
   {
    "duration": 229,
    "start_time": "2022-04-02T15:48:22.149Z"
   },
   {
    "duration": 7,
    "start_time": "2022-04-02T15:48:22.380Z"
   },
   {
    "duration": 13,
    "start_time": "2022-04-02T15:48:22.389Z"
   },
   {
    "duration": 708,
    "start_time": "2022-04-02T15:48:22.404Z"
   },
   {
    "duration": 16,
    "start_time": "2022-04-02T15:48:23.114Z"
   },
   {
    "duration": 12,
    "start_time": "2022-04-02T15:48:23.132Z"
   },
   {
    "duration": 16,
    "start_time": "2022-04-02T15:48:23.186Z"
   },
   {
    "duration": 4,
    "start_time": "2022-04-02T15:48:23.204Z"
   },
   {
    "duration": 189,
    "start_time": "2022-04-02T15:48:23.211Z"
   },
   {
    "duration": 7,
    "start_time": "2022-04-02T15:48:23.402Z"
   },
   {
    "duration": 13,
    "start_time": "2022-04-02T15:48:23.411Z"
   },
   {
    "duration": 11,
    "start_time": "2022-04-02T15:48:23.426Z"
   },
   {
    "duration": 63,
    "start_time": "2022-04-02T15:48:23.485Z"
   },
   {
    "duration": 6,
    "start_time": "2022-04-02T15:48:23.550Z"
   },
   {
    "duration": 25,
    "start_time": "2022-04-02T15:48:23.573Z"
   },
   {
    "duration": 8,
    "start_time": "2022-04-02T15:48:23.601Z"
   },
   {
    "duration": 11,
    "start_time": "2022-04-02T15:48:23.612Z"
   },
   {
    "duration": 61,
    "start_time": "2022-04-02T15:48:23.626Z"
   },
   {
    "duration": 20,
    "start_time": "2022-04-02T15:48:23.689Z"
   },
   {
    "duration": 134,
    "start_time": "2022-04-02T15:48:23.711Z"
   },
   {
    "duration": 625,
    "start_time": "2022-04-02T15:48:23.847Z"
   },
   {
    "duration": 0,
    "start_time": "2022-04-02T15:48:24.475Z"
   },
   {
    "duration": 0,
    "start_time": "2022-04-02T15:48:24.477Z"
   },
   {
    "duration": 0,
    "start_time": "2022-04-02T15:48:24.479Z"
   },
   {
    "duration": 0,
    "start_time": "2022-04-02T15:48:24.482Z"
   },
   {
    "duration": 0,
    "start_time": "2022-04-02T15:48:24.484Z"
   },
   {
    "duration": 0,
    "start_time": "2022-04-02T15:48:24.486Z"
   },
   {
    "duration": 0,
    "start_time": "2022-04-02T15:48:24.489Z"
   },
   {
    "duration": 0,
    "start_time": "2022-04-02T15:48:24.490Z"
   },
   {
    "duration": 0,
    "start_time": "2022-04-02T15:48:24.492Z"
   },
   {
    "duration": 0,
    "start_time": "2022-04-02T15:48:24.494Z"
   },
   {
    "duration": 0,
    "start_time": "2022-04-02T15:48:24.495Z"
   },
   {
    "duration": 0,
    "start_time": "2022-04-02T15:48:24.497Z"
   },
   {
    "duration": 0,
    "start_time": "2022-04-02T15:48:24.499Z"
   },
   {
    "duration": 0,
    "start_time": "2022-04-02T15:48:24.501Z"
   },
   {
    "duration": 0,
    "start_time": "2022-04-02T15:48:24.502Z"
   },
   {
    "duration": 0,
    "start_time": "2022-04-02T15:48:24.503Z"
   },
   {
    "duration": 0,
    "start_time": "2022-04-02T15:48:24.505Z"
   },
   {
    "duration": 0,
    "start_time": "2022-04-02T15:48:24.506Z"
   },
   {
    "duration": 0,
    "start_time": "2022-04-02T15:48:24.508Z"
   },
   {
    "duration": 0,
    "start_time": "2022-04-02T15:48:24.510Z"
   },
   {
    "duration": 0,
    "start_time": "2022-04-02T15:48:24.511Z"
   },
   {
    "duration": 0,
    "start_time": "2022-04-02T15:48:24.514Z"
   },
   {
    "duration": 0,
    "start_time": "2022-04-02T15:48:24.574Z"
   },
   {
    "duration": 0,
    "start_time": "2022-04-02T15:48:24.575Z"
   },
   {
    "duration": 0,
    "start_time": "2022-04-02T15:48:24.576Z"
   },
   {
    "duration": 0,
    "start_time": "2022-04-02T15:48:24.584Z"
   },
   {
    "duration": 0,
    "start_time": "2022-04-02T15:48:24.590Z"
   },
   {
    "duration": 0,
    "start_time": "2022-04-02T15:48:24.591Z"
   },
   {
    "duration": 0,
    "start_time": "2022-04-02T15:48:24.593Z"
   },
   {
    "duration": 0,
    "start_time": "2022-04-02T15:48:24.595Z"
   },
   {
    "duration": 0,
    "start_time": "2022-04-02T15:48:24.596Z"
   },
   {
    "duration": 0,
    "start_time": "2022-04-02T15:48:24.597Z"
   },
   {
    "duration": 0,
    "start_time": "2022-04-02T15:48:24.599Z"
   },
   {
    "duration": 0,
    "start_time": "2022-04-02T15:48:24.600Z"
   },
   {
    "duration": 0,
    "start_time": "2022-04-02T15:48:24.602Z"
   },
   {
    "duration": 0,
    "start_time": "2022-04-02T15:48:24.604Z"
   },
   {
    "duration": 0,
    "start_time": "2022-04-02T15:48:24.606Z"
   },
   {
    "duration": 0,
    "start_time": "2022-04-02T15:48:24.608Z"
   },
   {
    "duration": 0,
    "start_time": "2022-04-02T15:48:24.610Z"
   },
   {
    "duration": 0,
    "start_time": "2022-04-02T15:48:24.612Z"
   },
   {
    "duration": 0,
    "start_time": "2022-04-02T15:48:24.614Z"
   },
   {
    "duration": 0,
    "start_time": "2022-04-02T15:48:24.616Z"
   },
   {
    "duration": 0,
    "start_time": "2022-04-02T15:48:24.618Z"
   },
   {
    "duration": 0,
    "start_time": "2022-04-02T15:48:24.681Z"
   },
   {
    "duration": 443,
    "start_time": "2022-04-02T15:51:50.607Z"
   },
   {
    "duration": 30,
    "start_time": "2022-04-02T15:52:13.260Z"
   },
   {
    "duration": 23,
    "start_time": "2022-04-02T15:52:40.459Z"
   },
   {
    "duration": 105,
    "start_time": "2022-04-02T15:52:40.486Z"
   },
   {
    "duration": 29,
    "start_time": "2022-04-02T15:52:40.594Z"
   },
   {
    "duration": 64,
    "start_time": "2022-04-02T15:52:40.626Z"
   },
   {
    "duration": 421,
    "start_time": "2022-04-02T15:52:40.692Z"
   },
   {
    "duration": 0,
    "start_time": "2022-04-02T15:52:41.117Z"
   },
   {
    "duration": 0,
    "start_time": "2022-04-02T15:52:41.119Z"
   },
   {
    "duration": 0,
    "start_time": "2022-04-02T15:52:41.120Z"
   },
   {
    "duration": 0,
    "start_time": "2022-04-02T15:52:41.122Z"
   },
   {
    "duration": 0,
    "start_time": "2022-04-02T15:52:41.123Z"
   },
   {
    "duration": 0,
    "start_time": "2022-04-02T15:52:41.124Z"
   },
   {
    "duration": 0,
    "start_time": "2022-04-02T15:52:41.126Z"
   },
   {
    "duration": 0,
    "start_time": "2022-04-02T15:52:41.127Z"
   },
   {
    "duration": 1,
    "start_time": "2022-04-02T15:52:41.129Z"
   },
   {
    "duration": 0,
    "start_time": "2022-04-02T15:52:41.131Z"
   },
   {
    "duration": 0,
    "start_time": "2022-04-02T15:52:41.133Z"
   },
   {
    "duration": 0,
    "start_time": "2022-04-02T15:52:41.134Z"
   },
   {
    "duration": 0,
    "start_time": "2022-04-02T15:52:41.135Z"
   },
   {
    "duration": 0,
    "start_time": "2022-04-02T15:52:41.136Z"
   },
   {
    "duration": 1,
    "start_time": "2022-04-02T15:52:41.137Z"
   },
   {
    "duration": 0,
    "start_time": "2022-04-02T15:52:41.139Z"
   },
   {
    "duration": 0,
    "start_time": "2022-04-02T15:52:41.140Z"
   },
   {
    "duration": 0,
    "start_time": "2022-04-02T15:52:41.142Z"
   },
   {
    "duration": 0,
    "start_time": "2022-04-02T15:52:41.143Z"
   },
   {
    "duration": 0,
    "start_time": "2022-04-02T15:52:41.145Z"
   },
   {
    "duration": 0,
    "start_time": "2022-04-02T15:52:41.146Z"
   },
   {
    "duration": 0,
    "start_time": "2022-04-02T15:52:41.147Z"
   },
   {
    "duration": 0,
    "start_time": "2022-04-02T15:52:41.149Z"
   },
   {
    "duration": 0,
    "start_time": "2022-04-02T15:52:41.150Z"
   },
   {
    "duration": 0,
    "start_time": "2022-04-02T15:52:41.151Z"
   },
   {
    "duration": 0,
    "start_time": "2022-04-02T15:52:41.176Z"
   },
   {
    "duration": 0,
    "start_time": "2022-04-02T15:52:41.178Z"
   },
   {
    "duration": 0,
    "start_time": "2022-04-02T15:52:41.181Z"
   },
   {
    "duration": 0,
    "start_time": "2022-04-02T15:52:41.183Z"
   },
   {
    "duration": 0,
    "start_time": "2022-04-02T15:52:41.188Z"
   },
   {
    "duration": 0,
    "start_time": "2022-04-02T15:52:41.189Z"
   },
   {
    "duration": 0,
    "start_time": "2022-04-02T15:52:41.191Z"
   },
   {
    "duration": 0,
    "start_time": "2022-04-02T15:52:41.193Z"
   },
   {
    "duration": 0,
    "start_time": "2022-04-02T15:52:41.194Z"
   },
   {
    "duration": 0,
    "start_time": "2022-04-02T15:52:41.196Z"
   },
   {
    "duration": 0,
    "start_time": "2022-04-02T15:52:41.197Z"
   },
   {
    "duration": 0,
    "start_time": "2022-04-02T15:52:41.199Z"
   },
   {
    "duration": 0,
    "start_time": "2022-04-02T15:52:41.201Z"
   },
   {
    "duration": 0,
    "start_time": "2022-04-02T15:52:41.202Z"
   },
   {
    "duration": 0,
    "start_time": "2022-04-02T15:52:41.204Z"
   },
   {
    "duration": 405,
    "start_time": "2022-04-02T15:53:16.072Z"
   },
   {
    "duration": 363,
    "start_time": "2022-04-02T15:53:24.825Z"
   },
   {
    "duration": 376,
    "start_time": "2022-04-02T15:53:45.487Z"
   },
   {
    "duration": 14,
    "start_time": "2022-04-02T15:55:24.203Z"
   },
   {
    "duration": 5,
    "start_time": "2022-04-02T15:55:37.140Z"
   },
   {
    "duration": 31,
    "start_time": "2022-04-02T15:55:37.881Z"
   },
   {
    "duration": 18,
    "start_time": "2022-04-02T15:55:40.907Z"
   },
   {
    "duration": 20,
    "start_time": "2022-04-02T15:55:54.156Z"
   },
   {
    "duration": 29,
    "start_time": "2022-04-02T15:55:54.184Z"
   },
   {
    "duration": 9,
    "start_time": "2022-04-02T15:55:54.215Z"
   },
   {
    "duration": 52,
    "start_time": "2022-04-02T15:55:54.227Z"
   },
   {
    "duration": 23,
    "start_time": "2022-04-02T15:55:54.282Z"
   },
   {
    "duration": 8,
    "start_time": "2022-04-02T15:55:54.307Z"
   },
   {
    "duration": 11,
    "start_time": "2022-04-02T15:55:54.317Z"
   },
   {
    "duration": 196,
    "start_time": "2022-04-02T15:55:54.330Z"
   },
   {
    "duration": 24,
    "start_time": "2022-04-02T15:55:54.529Z"
   },
   {
    "duration": 26,
    "start_time": "2022-04-02T15:55:54.557Z"
   },
   {
    "duration": 36,
    "start_time": "2022-04-02T15:55:54.587Z"
   },
   {
    "duration": 9,
    "start_time": "2022-04-02T15:55:54.625Z"
   },
   {
    "duration": 49,
    "start_time": "2022-04-02T15:55:54.636Z"
   },
   {
    "duration": 24,
    "start_time": "2022-04-02T15:55:54.688Z"
   },
   {
    "duration": 15,
    "start_time": "2022-04-02T15:55:54.715Z"
   },
   {
    "duration": 49,
    "start_time": "2022-04-02T15:55:54.732Z"
   },
   {
    "duration": 2216,
    "start_time": "2022-04-02T15:55:54.784Z"
   },
   {
    "duration": 10,
    "start_time": "2022-04-02T15:55:57.003Z"
   },
   {
    "duration": 19,
    "start_time": "2022-04-02T15:55:57.015Z"
   },
   {
    "duration": 11,
    "start_time": "2022-04-02T15:55:57.074Z"
   },
   {
    "duration": 2324,
    "start_time": "2022-04-02T15:55:57.088Z"
   },
   {
    "duration": 9,
    "start_time": "2022-04-02T15:55:59.414Z"
   },
   {
    "duration": 15,
    "start_time": "2022-04-02T15:55:59.425Z"
   },
   {
    "duration": 11,
    "start_time": "2022-04-02T15:55:59.475Z"
   },
   {
    "duration": 39,
    "start_time": "2022-04-02T15:55:59.489Z"
   },
   {
    "duration": 8,
    "start_time": "2022-04-02T15:55:59.531Z"
   },
   {
    "duration": 34,
    "start_time": "2022-04-02T15:55:59.580Z"
   },
   {
    "duration": 7,
    "start_time": "2022-04-02T15:55:59.619Z"
   },
   {
    "duration": 5,
    "start_time": "2022-04-02T15:55:59.628Z"
   },
   {
    "duration": 2379,
    "start_time": "2022-04-02T15:55:59.675Z"
   },
   {
    "duration": 22,
    "start_time": "2022-04-02T15:56:02.057Z"
   },
   {
    "duration": 212,
    "start_time": "2022-04-02T15:56:02.083Z"
   },
   {
    "duration": 11,
    "start_time": "2022-04-02T15:56:02.297Z"
   },
   {
    "duration": 11,
    "start_time": "2022-04-02T15:56:02.310Z"
   },
   {
    "duration": 54,
    "start_time": "2022-04-02T15:56:02.323Z"
   },
   {
    "duration": 23,
    "start_time": "2022-04-02T15:56:02.380Z"
   },
   {
    "duration": 7,
    "start_time": "2022-04-02T15:56:02.405Z"
   },
   {
    "duration": 6,
    "start_time": "2022-04-02T15:56:02.415Z"
   },
   {
    "duration": 1497,
    "start_time": "2022-04-02T15:59:12.440Z"
   },
   {
    "duration": 552,
    "start_time": "2022-04-02T15:59:13.939Z"
   },
   {
    "duration": 5,
    "start_time": "2022-04-02T15:59:14.493Z"
   },
   {
    "duration": 98,
    "start_time": "2022-04-02T15:59:14.501Z"
   },
   {
    "duration": 104,
    "start_time": "2022-04-02T15:59:14.601Z"
   },
   {
    "duration": 75,
    "start_time": "2022-04-02T15:59:14.708Z"
   },
   {
    "duration": 13,
    "start_time": "2022-04-02T15:59:14.785Z"
   },
   {
    "duration": 89,
    "start_time": "2022-04-02T15:59:14.800Z"
   },
   {
    "duration": 144,
    "start_time": "2022-04-02T15:59:14.892Z"
   },
   {
    "duration": 92,
    "start_time": "2022-04-02T15:59:15.040Z"
   },
   {
    "duration": 14,
    "start_time": "2022-04-02T15:59:15.134Z"
   },
   {
    "duration": 30,
    "start_time": "2022-04-02T15:59:15.173Z"
   },
   {
    "duration": 363,
    "start_time": "2022-04-02T15:59:15.206Z"
   },
   {
    "duration": 14,
    "start_time": "2022-04-02T15:59:15.573Z"
   },
   {
    "duration": 25,
    "start_time": "2022-04-02T15:59:15.596Z"
   },
   {
    "duration": 876,
    "start_time": "2022-04-02T15:59:15.624Z"
   },
   {
    "duration": 17,
    "start_time": "2022-04-02T15:59:16.502Z"
   },
   {
    "duration": 19,
    "start_time": "2022-04-02T15:59:16.521Z"
   },
   {
    "duration": 375,
    "start_time": "2022-04-02T15:59:16.574Z"
   },
   {
    "duration": 349,
    "start_time": "2022-04-02T15:59:16.951Z"
   },
   {
    "duration": 4,
    "start_time": "2022-04-02T15:59:17.303Z"
   },
   {
    "duration": 212,
    "start_time": "2022-04-02T15:59:17.309Z"
   },
   {
    "duration": 7,
    "start_time": "2022-04-02T15:59:17.523Z"
   },
   {
    "duration": 7,
    "start_time": "2022-04-02T15:59:17.532Z"
   },
   {
    "duration": 674,
    "start_time": "2022-04-02T15:59:17.574Z"
   },
   {
    "duration": 28,
    "start_time": "2022-04-02T15:59:18.250Z"
   },
   {
    "duration": 13,
    "start_time": "2022-04-02T15:59:18.280Z"
   },
   {
    "duration": 13,
    "start_time": "2022-04-02T15:59:18.301Z"
   },
   {
    "duration": 57,
    "start_time": "2022-04-02T15:59:18.317Z"
   },
   {
    "duration": 149,
    "start_time": "2022-04-02T15:59:18.377Z"
   },
   {
    "duration": 6,
    "start_time": "2022-04-02T15:59:18.528Z"
   },
   {
    "duration": 6,
    "start_time": "2022-04-02T15:59:18.536Z"
   },
   {
    "duration": 50,
    "start_time": "2022-04-02T15:59:18.545Z"
   },
   {
    "duration": 46,
    "start_time": "2022-04-02T15:59:18.598Z"
   },
   {
    "duration": 32,
    "start_time": "2022-04-02T15:59:18.647Z"
   },
   {
    "duration": 29,
    "start_time": "2022-04-02T15:59:18.681Z"
   },
   {
    "duration": 10,
    "start_time": "2022-04-02T15:59:18.712Z"
   },
   {
    "duration": 9,
    "start_time": "2022-04-02T15:59:18.724Z"
   },
   {
    "duration": 49,
    "start_time": "2022-04-02T15:59:18.735Z"
   },
   {
    "duration": 23,
    "start_time": "2022-04-02T15:59:18.786Z"
   },
   {
    "duration": 137,
    "start_time": "2022-04-02T15:59:18.811Z"
   },
   {
    "duration": 46,
    "start_time": "2022-04-02T15:59:18.951Z"
   },
   {
    "duration": 88,
    "start_time": "2022-04-02T15:59:18.999Z"
   },
   {
    "duration": 26,
    "start_time": "2022-04-02T15:59:19.090Z"
   },
   {
    "duration": 17,
    "start_time": "2022-04-02T15:59:19.118Z"
   },
   {
    "duration": 51,
    "start_time": "2022-04-02T15:59:19.137Z"
   },
   {
    "duration": 8,
    "start_time": "2022-04-02T15:59:19.190Z"
   },
   {
    "duration": 33,
    "start_time": "2022-04-02T15:59:19.200Z"
   },
   {
    "duration": 58,
    "start_time": "2022-04-02T15:59:19.235Z"
   },
   {
    "duration": 21,
    "start_time": "2022-04-02T15:59:19.296Z"
   },
   {
    "duration": 9,
    "start_time": "2022-04-02T15:59:19.319Z"
   },
   {
    "duration": 14,
    "start_time": "2022-04-02T15:59:19.375Z"
   },
   {
    "duration": 16,
    "start_time": "2022-04-02T15:59:19.391Z"
   },
   {
    "duration": 6,
    "start_time": "2022-04-02T15:59:19.410Z"
   },
   {
    "duration": 9,
    "start_time": "2022-04-02T15:59:19.418Z"
   },
   {
    "duration": 211,
    "start_time": "2022-04-02T15:59:19.429Z"
   },
   {
    "duration": 36,
    "start_time": "2022-04-02T15:59:19.642Z"
   },
   {
    "duration": 18,
    "start_time": "2022-04-02T15:59:19.682Z"
   },
   {
    "duration": 20,
    "start_time": "2022-04-02T15:59:19.702Z"
   },
   {
    "duration": 9,
    "start_time": "2022-04-02T15:59:19.724Z"
   },
   {
    "duration": 54,
    "start_time": "2022-04-02T15:59:19.735Z"
   },
   {
    "duration": 14,
    "start_time": "2022-04-02T15:59:19.792Z"
   },
   {
    "duration": 19,
    "start_time": "2022-04-02T15:59:19.808Z"
   },
   {
    "duration": 48,
    "start_time": "2022-04-02T15:59:19.829Z"
   },
   {
    "duration": 1872,
    "start_time": "2022-04-02T15:59:19.880Z"
   },
   {
    "duration": 20,
    "start_time": "2022-04-02T15:59:21.754Z"
   },
   {
    "duration": 26,
    "start_time": "2022-04-02T15:59:21.778Z"
   },
   {
    "duration": 10,
    "start_time": "2022-04-02T15:59:21.807Z"
   },
   {
    "duration": 2443,
    "start_time": "2022-04-02T15:59:21.819Z"
   },
   {
    "duration": 21,
    "start_time": "2022-04-02T15:59:24.264Z"
   },
   {
    "duration": 31,
    "start_time": "2022-04-02T15:59:24.290Z"
   },
   {
    "duration": 33,
    "start_time": "2022-04-02T15:59:24.324Z"
   },
   {
    "duration": 61,
    "start_time": "2022-04-02T15:59:24.360Z"
   },
   {
    "duration": 23,
    "start_time": "2022-04-02T15:59:24.424Z"
   },
   {
    "duration": 42,
    "start_time": "2022-04-02T15:59:24.450Z"
   },
   {
    "duration": 6,
    "start_time": "2022-04-02T15:59:24.495Z"
   },
   {
    "duration": 22,
    "start_time": "2022-04-02T15:59:24.503Z"
   },
   {
    "duration": 2401,
    "start_time": "2022-04-02T15:59:24.528Z"
   },
   {
    "duration": 4,
    "start_time": "2022-04-02T15:59:26.931Z"
   },
   {
    "duration": 212,
    "start_time": "2022-04-02T15:59:26.937Z"
   },
   {
    "duration": 25,
    "start_time": "2022-04-02T15:59:27.151Z"
   },
   {
    "duration": 17,
    "start_time": "2022-04-02T15:59:27.190Z"
   },
   {
    "duration": 33,
    "start_time": "2022-04-02T15:59:27.209Z"
   },
   {
    "duration": 34,
    "start_time": "2022-04-02T15:59:27.244Z"
   },
   {
    "duration": 19,
    "start_time": "2022-04-02T15:59:27.281Z"
   },
   {
    "duration": 8,
    "start_time": "2022-04-02T15:59:27.303Z"
   },
   {
    "duration": 1423,
    "start_time": "2022-04-02T16:41:17.200Z"
   },
   {
    "duration": 554,
    "start_time": "2022-04-02T16:41:18.626Z"
   },
   {
    "duration": 5,
    "start_time": "2022-04-02T16:41:19.182Z"
   },
   {
    "duration": 105,
    "start_time": "2022-04-02T16:41:19.190Z"
   },
   {
    "duration": 106,
    "start_time": "2022-04-02T16:41:19.298Z"
   },
   {
    "duration": 46,
    "start_time": "2022-04-02T16:41:19.407Z"
   },
   {
    "duration": 30,
    "start_time": "2022-04-02T16:41:19.455Z"
   },
   {
    "duration": 65,
    "start_time": "2022-04-02T16:41:19.488Z"
   },
   {
    "duration": 134,
    "start_time": "2022-04-02T16:41:19.555Z"
   },
   {
    "duration": 94,
    "start_time": "2022-04-02T16:41:19.694Z"
   },
   {
    "duration": 13,
    "start_time": "2022-04-02T16:41:19.791Z"
   },
   {
    "duration": 31,
    "start_time": "2022-04-02T16:41:19.806Z"
   },
   {
    "duration": 428,
    "start_time": "2022-04-02T16:41:19.839Z"
   },
   {
    "duration": 9,
    "start_time": "2022-04-02T16:41:20.273Z"
   },
   {
    "duration": 29,
    "start_time": "2022-04-02T16:41:20.286Z"
   },
   {
    "duration": 846,
    "start_time": "2022-04-02T16:41:20.317Z"
   },
   {
    "duration": 28,
    "start_time": "2022-04-02T16:41:21.165Z"
   },
   {
    "duration": 23,
    "start_time": "2022-04-02T16:41:21.195Z"
   },
   {
    "duration": 377,
    "start_time": "2022-04-02T16:41:21.220Z"
   },
   {
    "duration": 431,
    "start_time": "2022-04-02T16:41:21.600Z"
   },
   {
    "duration": 5,
    "start_time": "2022-04-02T16:41:22.034Z"
   },
   {
    "duration": 211,
    "start_time": "2022-04-02T16:41:22.042Z"
   },
   {
    "duration": 6,
    "start_time": "2022-04-02T16:41:22.255Z"
   },
   {
    "duration": 7,
    "start_time": "2022-04-02T16:41:22.275Z"
   },
   {
    "duration": 656,
    "start_time": "2022-04-02T16:41:22.284Z"
   },
   {
    "duration": 16,
    "start_time": "2022-04-02T16:41:22.942Z"
   },
   {
    "duration": 18,
    "start_time": "2022-04-02T16:41:22.960Z"
   },
   {
    "duration": 13,
    "start_time": "2022-04-02T16:41:22.990Z"
   },
   {
    "duration": 4,
    "start_time": "2022-04-02T16:41:23.006Z"
   },
   {
    "duration": 188,
    "start_time": "2022-04-02T16:41:23.012Z"
   },
   {
    "duration": 7,
    "start_time": "2022-04-02T16:41:23.203Z"
   },
   {
    "duration": 6,
    "start_time": "2022-04-02T16:41:23.213Z"
   },
   {
    "duration": 8,
    "start_time": "2022-04-02T16:41:23.221Z"
   },
   {
    "duration": 75,
    "start_time": "2022-04-02T16:41:23.231Z"
   },
   {
    "duration": 5,
    "start_time": "2022-04-02T16:41:23.308Z"
   },
   {
    "duration": 8,
    "start_time": "2022-04-02T16:41:23.316Z"
   },
   {
    "duration": 7,
    "start_time": "2022-04-02T16:41:23.326Z"
   },
   {
    "duration": 48,
    "start_time": "2022-04-02T16:41:23.335Z"
   },
   {
    "duration": 16,
    "start_time": "2022-04-02T16:41:23.386Z"
   },
   {
    "duration": 16,
    "start_time": "2022-04-02T16:41:23.404Z"
   },
   {
    "duration": 138,
    "start_time": "2022-04-02T16:41:23.422Z"
   },
   {
    "duration": 553,
    "start_time": "2022-04-02T16:41:23.562Z"
   },
   {
    "duration": 0,
    "start_time": "2022-04-02T16:41:24.117Z"
   },
   {
    "duration": 0,
    "start_time": "2022-04-02T16:41:24.120Z"
   },
   {
    "duration": 0,
    "start_time": "2022-04-02T16:41:24.121Z"
   },
   {
    "duration": 0,
    "start_time": "2022-04-02T16:41:24.123Z"
   },
   {
    "duration": 0,
    "start_time": "2022-04-02T16:41:24.124Z"
   },
   {
    "duration": 0,
    "start_time": "2022-04-02T16:41:24.125Z"
   },
   {
    "duration": 0,
    "start_time": "2022-04-02T16:41:24.126Z"
   },
   {
    "duration": 0,
    "start_time": "2022-04-02T16:41:24.128Z"
   },
   {
    "duration": 0,
    "start_time": "2022-04-02T16:41:24.129Z"
   },
   {
    "duration": 0,
    "start_time": "2022-04-02T16:41:24.131Z"
   },
   {
    "duration": 0,
    "start_time": "2022-04-02T16:41:24.132Z"
   },
   {
    "duration": 0,
    "start_time": "2022-04-02T16:41:24.133Z"
   },
   {
    "duration": 0,
    "start_time": "2022-04-02T16:41:24.134Z"
   },
   {
    "duration": 0,
    "start_time": "2022-04-02T16:41:24.136Z"
   },
   {
    "duration": 0,
    "start_time": "2022-04-02T16:41:24.137Z"
   },
   {
    "duration": 0,
    "start_time": "2022-04-02T16:41:24.139Z"
   },
   {
    "duration": 0,
    "start_time": "2022-04-02T16:41:24.140Z"
   },
   {
    "duration": 0,
    "start_time": "2022-04-02T16:41:24.142Z"
   },
   {
    "duration": 0,
    "start_time": "2022-04-02T16:41:24.143Z"
   },
   {
    "duration": 0,
    "start_time": "2022-04-02T16:41:24.145Z"
   },
   {
    "duration": 0,
    "start_time": "2022-04-02T16:41:24.146Z"
   },
   {
    "duration": 0,
    "start_time": "2022-04-02T16:41:24.147Z"
   },
   {
    "duration": 0,
    "start_time": "2022-04-02T16:41:24.149Z"
   },
   {
    "duration": 0,
    "start_time": "2022-04-02T16:41:24.150Z"
   },
   {
    "duration": 0,
    "start_time": "2022-04-02T16:41:24.151Z"
   },
   {
    "duration": 0,
    "start_time": "2022-04-02T16:41:24.152Z"
   },
   {
    "duration": 0,
    "start_time": "2022-04-02T16:41:24.174Z"
   },
   {
    "duration": 0,
    "start_time": "2022-04-02T16:41:24.175Z"
   },
   {
    "duration": 0,
    "start_time": "2022-04-02T16:41:24.177Z"
   },
   {
    "duration": 0,
    "start_time": "2022-04-02T16:41:24.178Z"
   },
   {
    "duration": 0,
    "start_time": "2022-04-02T16:41:24.179Z"
   },
   {
    "duration": 0,
    "start_time": "2022-04-02T16:41:24.186Z"
   },
   {
    "duration": 1,
    "start_time": "2022-04-02T16:41:24.189Z"
   },
   {
    "duration": 0,
    "start_time": "2022-04-02T16:41:24.192Z"
   },
   {
    "duration": 0,
    "start_time": "2022-04-02T16:41:24.194Z"
   },
   {
    "duration": 0,
    "start_time": "2022-04-02T16:41:24.196Z"
   },
   {
    "duration": 0,
    "start_time": "2022-04-02T16:41:24.197Z"
   },
   {
    "duration": 0,
    "start_time": "2022-04-02T16:41:24.198Z"
   },
   {
    "duration": 0,
    "start_time": "2022-04-02T16:41:24.200Z"
   },
   {
    "duration": 0,
    "start_time": "2022-04-02T16:41:24.201Z"
   },
   {
    "duration": 0,
    "start_time": "2022-04-02T16:41:24.203Z"
   },
   {
    "duration": 0,
    "start_time": "2022-04-02T16:41:24.204Z"
   },
   {
    "duration": 0,
    "start_time": "2022-04-02T16:41:24.206Z"
   },
   {
    "duration": 0,
    "start_time": "2022-04-02T16:41:24.207Z"
   },
   {
    "duration": 0,
    "start_time": "2022-04-02T16:41:24.210Z"
   },
   {
    "duration": 1504,
    "start_time": "2022-04-02T16:42:14.641Z"
   },
   {
    "duration": 651,
    "start_time": "2022-04-02T16:42:16.148Z"
   },
   {
    "duration": 5,
    "start_time": "2022-04-02T16:42:16.802Z"
   },
   {
    "duration": 106,
    "start_time": "2022-04-02T16:42:16.811Z"
   },
   {
    "duration": 91,
    "start_time": "2022-04-02T16:42:16.919Z"
   },
   {
    "duration": 70,
    "start_time": "2022-04-02T16:42:17.013Z"
   },
   {
    "duration": 16,
    "start_time": "2022-04-02T16:42:17.086Z"
   },
   {
    "duration": 71,
    "start_time": "2022-04-02T16:42:17.104Z"
   },
   {
    "duration": 136,
    "start_time": "2022-04-02T16:42:17.178Z"
   },
   {
    "duration": 96,
    "start_time": "2022-04-02T16:42:17.318Z"
   },
   {
    "duration": 14,
    "start_time": "2022-04-02T16:42:17.416Z"
   },
   {
    "duration": 47,
    "start_time": "2022-04-02T16:42:17.432Z"
   },
   {
    "duration": 442,
    "start_time": "2022-04-02T16:42:17.482Z"
   },
   {
    "duration": 8,
    "start_time": "2022-04-02T16:42:17.927Z"
   },
   {
    "duration": 9,
    "start_time": "2022-04-02T16:42:17.938Z"
   },
   {
    "duration": 1004,
    "start_time": "2022-04-02T16:42:17.979Z"
   },
   {
    "duration": 18,
    "start_time": "2022-04-02T16:42:18.985Z"
   },
   {
    "duration": 18,
    "start_time": "2022-04-02T16:42:19.005Z"
   },
   {
    "duration": 361,
    "start_time": "2022-04-02T16:42:19.025Z"
   },
   {
    "duration": 353,
    "start_time": "2022-04-02T16:42:19.390Z"
   },
   {
    "duration": 4,
    "start_time": "2022-04-02T16:42:19.745Z"
   },
   {
    "duration": 192,
    "start_time": "2022-04-02T16:42:19.751Z"
   },
   {
    "duration": 7,
    "start_time": "2022-04-02T16:42:19.946Z"
   },
   {
    "duration": 9,
    "start_time": "2022-04-02T16:42:19.974Z"
   },
   {
    "duration": 655,
    "start_time": "2022-04-02T16:42:19.986Z"
   },
   {
    "duration": 16,
    "start_time": "2022-04-02T16:42:20.643Z"
   },
   {
    "duration": 14,
    "start_time": "2022-04-02T16:42:20.679Z"
   },
   {
    "duration": 13,
    "start_time": "2022-04-02T16:42:20.701Z"
   },
   {
    "duration": 6,
    "start_time": "2022-04-02T16:42:20.716Z"
   },
   {
    "duration": 177,
    "start_time": "2022-04-02T16:42:20.725Z"
   },
   {
    "duration": 7,
    "start_time": "2022-04-02T16:42:20.905Z"
   },
   {
    "duration": 8,
    "start_time": "2022-04-02T16:42:20.915Z"
   },
   {
    "duration": 5,
    "start_time": "2022-04-02T16:42:20.925Z"
   },
   {
    "duration": 76,
    "start_time": "2022-04-02T16:42:20.933Z"
   },
   {
    "duration": 7,
    "start_time": "2022-04-02T16:42:21.012Z"
   },
   {
    "duration": 9,
    "start_time": "2022-04-02T16:42:21.021Z"
   },
   {
    "duration": 46,
    "start_time": "2022-04-02T16:42:21.032Z"
   },
   {
    "duration": 13,
    "start_time": "2022-04-02T16:42:21.083Z"
   },
   {
    "duration": 19,
    "start_time": "2022-04-02T16:42:21.098Z"
   },
   {
    "duration": 16,
    "start_time": "2022-04-02T16:42:21.119Z"
   },
   {
    "duration": 139,
    "start_time": "2022-04-02T16:42:21.138Z"
   },
   {
    "duration": 623,
    "start_time": "2022-04-02T16:42:21.279Z"
   },
   {
    "duration": 0,
    "start_time": "2022-04-02T16:42:21.904Z"
   },
   {
    "duration": 0,
    "start_time": "2022-04-02T16:42:21.906Z"
   },
   {
    "duration": 0,
    "start_time": "2022-04-02T16:42:21.908Z"
   },
   {
    "duration": 0,
    "start_time": "2022-04-02T16:42:21.910Z"
   },
   {
    "duration": 0,
    "start_time": "2022-04-02T16:42:21.912Z"
   },
   {
    "duration": 0,
    "start_time": "2022-04-02T16:42:21.913Z"
   },
   {
    "duration": 0,
    "start_time": "2022-04-02T16:42:21.915Z"
   },
   {
    "duration": 0,
    "start_time": "2022-04-02T16:42:21.917Z"
   },
   {
    "duration": 0,
    "start_time": "2022-04-02T16:42:21.919Z"
   },
   {
    "duration": 0,
    "start_time": "2022-04-02T16:42:21.920Z"
   },
   {
    "duration": 0,
    "start_time": "2022-04-02T16:42:21.922Z"
   },
   {
    "duration": 0,
    "start_time": "2022-04-02T16:42:21.923Z"
   },
   {
    "duration": 0,
    "start_time": "2022-04-02T16:42:21.925Z"
   },
   {
    "duration": 0,
    "start_time": "2022-04-02T16:42:21.927Z"
   },
   {
    "duration": 0,
    "start_time": "2022-04-02T16:42:21.928Z"
   },
   {
    "duration": 0,
    "start_time": "2022-04-02T16:42:21.930Z"
   },
   {
    "duration": 0,
    "start_time": "2022-04-02T16:42:21.931Z"
   },
   {
    "duration": 0,
    "start_time": "2022-04-02T16:42:21.933Z"
   },
   {
    "duration": 0,
    "start_time": "2022-04-02T16:42:21.935Z"
   },
   {
    "duration": 0,
    "start_time": "2022-04-02T16:42:21.936Z"
   },
   {
    "duration": 0,
    "start_time": "2022-04-02T16:42:21.938Z"
   },
   {
    "duration": 0,
    "start_time": "2022-04-02T16:42:21.939Z"
   },
   {
    "duration": 0,
    "start_time": "2022-04-02T16:42:21.941Z"
   },
   {
    "duration": 0,
    "start_time": "2022-04-02T16:42:21.975Z"
   },
   {
    "duration": 0,
    "start_time": "2022-04-02T16:42:21.982Z"
   },
   {
    "duration": 0,
    "start_time": "2022-04-02T16:42:21.985Z"
   },
   {
    "duration": 0,
    "start_time": "2022-04-02T16:42:21.986Z"
   },
   {
    "duration": 0,
    "start_time": "2022-04-02T16:42:21.988Z"
   },
   {
    "duration": 0,
    "start_time": "2022-04-02T16:42:21.990Z"
   },
   {
    "duration": 0,
    "start_time": "2022-04-02T16:42:21.992Z"
   },
   {
    "duration": 0,
    "start_time": "2022-04-02T16:42:21.993Z"
   },
   {
    "duration": 0,
    "start_time": "2022-04-02T16:42:21.995Z"
   },
   {
    "duration": 0,
    "start_time": "2022-04-02T16:42:21.996Z"
   },
   {
    "duration": 0,
    "start_time": "2022-04-02T16:42:21.997Z"
   },
   {
    "duration": 0,
    "start_time": "2022-04-02T16:42:21.999Z"
   },
   {
    "duration": 1,
    "start_time": "2022-04-02T16:42:22.000Z"
   },
   {
    "duration": 0,
    "start_time": "2022-04-02T16:42:22.002Z"
   },
   {
    "duration": 0,
    "start_time": "2022-04-02T16:42:22.003Z"
   },
   {
    "duration": 0,
    "start_time": "2022-04-02T16:42:22.005Z"
   },
   {
    "duration": 0,
    "start_time": "2022-04-02T16:42:22.006Z"
   },
   {
    "duration": 0,
    "start_time": "2022-04-02T16:42:22.008Z"
   },
   {
    "duration": 0,
    "start_time": "2022-04-02T16:42:22.009Z"
   },
   {
    "duration": 0,
    "start_time": "2022-04-02T16:42:22.010Z"
   },
   {
    "duration": 0,
    "start_time": "2022-04-02T16:42:22.012Z"
   },
   {
    "duration": 26,
    "start_time": "2022-04-02T16:42:36.596Z"
   },
   {
    "duration": 64,
    "start_time": "2022-04-02T16:42:42.973Z"
   },
   {
    "duration": 55,
    "start_time": "2022-04-02T16:42:43.040Z"
   },
   {
    "duration": 18,
    "start_time": "2022-04-02T16:42:43.097Z"
   },
   {
    "duration": 394,
    "start_time": "2022-04-02T16:42:43.117Z"
   },
   {
    "duration": 0,
    "start_time": "2022-04-02T16:42:43.514Z"
   },
   {
    "duration": 0,
    "start_time": "2022-04-02T16:42:43.516Z"
   },
   {
    "duration": 0,
    "start_time": "2022-04-02T16:42:43.517Z"
   },
   {
    "duration": 0,
    "start_time": "2022-04-02T16:42:43.519Z"
   },
   {
    "duration": 0,
    "start_time": "2022-04-02T16:42:43.521Z"
   },
   {
    "duration": 0,
    "start_time": "2022-04-02T16:42:43.522Z"
   },
   {
    "duration": 0,
    "start_time": "2022-04-02T16:42:43.524Z"
   },
   {
    "duration": 0,
    "start_time": "2022-04-02T16:42:43.525Z"
   },
   {
    "duration": 0,
    "start_time": "2022-04-02T16:42:43.527Z"
   },
   {
    "duration": 0,
    "start_time": "2022-04-02T16:42:43.528Z"
   },
   {
    "duration": 0,
    "start_time": "2022-04-02T16:42:43.529Z"
   },
   {
    "duration": 0,
    "start_time": "2022-04-02T16:42:43.531Z"
   },
   {
    "duration": 0,
    "start_time": "2022-04-02T16:42:43.532Z"
   },
   {
    "duration": 0,
    "start_time": "2022-04-02T16:42:43.533Z"
   },
   {
    "duration": 0,
    "start_time": "2022-04-02T16:42:43.534Z"
   },
   {
    "duration": 0,
    "start_time": "2022-04-02T16:42:43.536Z"
   },
   {
    "duration": 1,
    "start_time": "2022-04-02T16:42:43.537Z"
   },
   {
    "duration": 0,
    "start_time": "2022-04-02T16:42:43.539Z"
   },
   {
    "duration": 0,
    "start_time": "2022-04-02T16:42:43.540Z"
   },
   {
    "duration": 0,
    "start_time": "2022-04-02T16:42:43.542Z"
   },
   {
    "duration": 0,
    "start_time": "2022-04-02T16:42:43.543Z"
   },
   {
    "duration": 0,
    "start_time": "2022-04-02T16:42:43.545Z"
   },
   {
    "duration": 0,
    "start_time": "2022-04-02T16:42:43.546Z"
   },
   {
    "duration": 0,
    "start_time": "2022-04-02T16:42:43.547Z"
   },
   {
    "duration": 0,
    "start_time": "2022-04-02T16:42:43.548Z"
   },
   {
    "duration": 0,
    "start_time": "2022-04-02T16:42:43.574Z"
   },
   {
    "duration": 0,
    "start_time": "2022-04-02T16:42:43.575Z"
   },
   {
    "duration": 0,
    "start_time": "2022-04-02T16:42:43.576Z"
   },
   {
    "duration": 0,
    "start_time": "2022-04-02T16:42:43.577Z"
   },
   {
    "duration": 0,
    "start_time": "2022-04-02T16:42:43.578Z"
   },
   {
    "duration": 0,
    "start_time": "2022-04-02T16:42:43.579Z"
   },
   {
    "duration": 0,
    "start_time": "2022-04-02T16:42:43.584Z"
   },
   {
    "duration": 0,
    "start_time": "2022-04-02T16:42:43.586Z"
   },
   {
    "duration": 0,
    "start_time": "2022-04-02T16:42:43.587Z"
   },
   {
    "duration": 0,
    "start_time": "2022-04-02T16:42:43.589Z"
   },
   {
    "duration": 0,
    "start_time": "2022-04-02T16:42:43.591Z"
   },
   {
    "duration": 0,
    "start_time": "2022-04-02T16:42:43.593Z"
   },
   {
    "duration": 0,
    "start_time": "2022-04-02T16:42:43.594Z"
   },
   {
    "duration": 0,
    "start_time": "2022-04-02T16:42:43.596Z"
   },
   {
    "duration": 0,
    "start_time": "2022-04-02T16:42:43.598Z"
   },
   {
    "duration": 21,
    "start_time": "2022-04-02T16:42:59.562Z"
   },
   {
    "duration": 6,
    "start_time": "2022-04-02T16:43:04.043Z"
   },
   {
    "duration": 29,
    "start_time": "2022-04-02T16:43:04.051Z"
   },
   {
    "duration": 19,
    "start_time": "2022-04-02T16:43:04.087Z"
   },
   {
    "duration": 28,
    "start_time": "2022-04-02T16:43:04.108Z"
   },
   {
    "duration": 38,
    "start_time": "2022-04-02T16:43:04.139Z"
   },
   {
    "duration": 8,
    "start_time": "2022-04-02T16:43:04.186Z"
   },
   {
    "duration": 14,
    "start_time": "2022-04-02T16:43:04.196Z"
   },
   {
    "duration": 8,
    "start_time": "2022-04-02T16:43:04.212Z"
   },
   {
    "duration": 13,
    "start_time": "2022-04-02T16:43:04.222Z"
   },
   {
    "duration": 190,
    "start_time": "2022-04-02T16:43:04.238Z"
   },
   {
    "duration": 23,
    "start_time": "2022-04-02T16:43:04.432Z"
   },
   {
    "duration": 16,
    "start_time": "2022-04-02T16:43:04.474Z"
   },
   {
    "duration": 22,
    "start_time": "2022-04-02T16:43:04.492Z"
   },
   {
    "duration": 21,
    "start_time": "2022-04-02T16:43:04.516Z"
   },
   {
    "duration": 16,
    "start_time": "2022-04-02T16:43:04.540Z"
   },
   {
    "duration": 20,
    "start_time": "2022-04-02T16:43:04.558Z"
   },
   {
    "duration": 20,
    "start_time": "2022-04-02T16:43:04.580Z"
   },
   {
    "duration": 8,
    "start_time": "2022-04-02T16:43:04.602Z"
   },
   {
    "duration": 1842,
    "start_time": "2022-04-02T16:43:04.612Z"
   },
   {
    "duration": 20,
    "start_time": "2022-04-02T16:43:06.456Z"
   },
   {
    "duration": 14,
    "start_time": "2022-04-02T16:43:06.478Z"
   },
   {
    "duration": 10,
    "start_time": "2022-04-02T16:43:06.495Z"
   },
   {
    "duration": 2487,
    "start_time": "2022-04-02T16:43:06.507Z"
   },
   {
    "duration": 9,
    "start_time": "2022-04-02T16:43:08.997Z"
   },
   {
    "duration": 14,
    "start_time": "2022-04-02T16:43:09.008Z"
   },
   {
    "duration": 5,
    "start_time": "2022-04-02T16:43:09.024Z"
   },
   {
    "duration": 65,
    "start_time": "2022-04-02T16:43:09.031Z"
   },
   {
    "duration": 7,
    "start_time": "2022-04-02T16:43:09.098Z"
   },
   {
    "duration": 32,
    "start_time": "2022-04-02T16:43:09.109Z"
   },
   {
    "duration": 36,
    "start_time": "2022-04-02T16:43:09.143Z"
   },
   {
    "duration": 6,
    "start_time": "2022-04-02T16:43:09.185Z"
   },
   {
    "duration": 2440,
    "start_time": "2022-04-02T16:43:09.193Z"
   },
   {
    "duration": 4,
    "start_time": "2022-04-02T16:43:11.636Z"
   },
   {
    "duration": 192,
    "start_time": "2022-04-02T16:43:11.641Z"
   },
   {
    "duration": 10,
    "start_time": "2022-04-02T16:43:11.835Z"
   },
   {
    "duration": 31,
    "start_time": "2022-04-02T16:43:11.848Z"
   },
   {
    "duration": 18,
    "start_time": "2022-04-02T16:43:11.881Z"
   },
   {
    "duration": 11,
    "start_time": "2022-04-02T16:43:11.901Z"
   },
   {
    "duration": 7,
    "start_time": "2022-04-02T16:43:11.914Z"
   },
   {
    "duration": 7,
    "start_time": "2022-04-02T16:43:11.923Z"
   },
   {
    "duration": 1265,
    "start_time": "2022-04-13T11:55:14.045Z"
   },
   {
    "duration": 547,
    "start_time": "2022-04-13T11:55:15.312Z"
   },
   {
    "duration": 3,
    "start_time": "2022-04-13T11:55:15.862Z"
   },
   {
    "duration": 93,
    "start_time": "2022-04-13T11:55:15.867Z"
   },
   {
    "duration": 83,
    "start_time": "2022-04-13T11:55:15.963Z"
   },
   {
    "duration": 46,
    "start_time": "2022-04-13T11:55:16.048Z"
   },
   {
    "duration": 9,
    "start_time": "2022-04-13T11:55:16.096Z"
   },
   {
    "duration": 55,
    "start_time": "2022-04-13T11:55:16.107Z"
   },
   {
    "duration": 117,
    "start_time": "2022-04-13T11:55:16.164Z"
   },
   {
    "duration": 69,
    "start_time": "2022-04-13T11:55:16.283Z"
   },
   {
    "duration": 10,
    "start_time": "2022-04-13T11:55:16.354Z"
   },
   {
    "duration": 21,
    "start_time": "2022-04-13T11:55:16.365Z"
   },
   {
    "duration": 296,
    "start_time": "2022-04-13T11:55:16.388Z"
   },
   {
    "duration": 6,
    "start_time": "2022-04-13T11:55:16.688Z"
   },
   {
    "duration": 12,
    "start_time": "2022-04-13T11:55:16.696Z"
   },
   {
    "duration": 666,
    "start_time": "2022-04-13T11:55:16.710Z"
   },
   {
    "duration": 17,
    "start_time": "2022-04-13T11:55:17.379Z"
   },
   {
    "duration": 15,
    "start_time": "2022-04-13T11:55:17.399Z"
   },
   {
    "duration": 269,
    "start_time": "2022-04-13T11:55:17.416Z"
   },
   {
    "duration": 239,
    "start_time": "2022-04-13T11:55:17.687Z"
   },
   {
    "duration": 6,
    "start_time": "2022-04-13T11:55:17.928Z"
   },
   {
    "duration": 160,
    "start_time": "2022-04-13T11:55:17.937Z"
   },
   {
    "duration": 5,
    "start_time": "2022-04-13T11:55:18.099Z"
   },
   {
    "duration": 11,
    "start_time": "2022-04-13T11:55:18.106Z"
   },
   {
    "duration": 465,
    "start_time": "2022-04-13T11:55:18.134Z"
   },
   {
    "duration": 12,
    "start_time": "2022-04-13T11:55:18.602Z"
   },
   {
    "duration": 28,
    "start_time": "2022-04-13T11:55:18.616Z"
   },
   {
    "duration": 10,
    "start_time": "2022-04-13T11:55:18.646Z"
   },
   {
    "duration": 3,
    "start_time": "2022-04-13T11:55:18.658Z"
   },
   {
    "duration": 180,
    "start_time": "2022-04-13T11:55:18.663Z"
   },
   {
    "duration": 5,
    "start_time": "2022-04-13T11:55:18.845Z"
   },
   {
    "duration": 7,
    "start_time": "2022-04-13T11:55:18.851Z"
   },
   {
    "duration": 5,
    "start_time": "2022-04-13T11:55:18.860Z"
   },
   {
    "duration": 28,
    "start_time": "2022-04-13T11:55:18.867Z"
   },
   {
    "duration": 39,
    "start_time": "2022-04-13T11:55:18.897Z"
   },
   {
    "duration": 7,
    "start_time": "2022-04-13T11:55:18.938Z"
   },
   {
    "duration": 6,
    "start_time": "2022-04-13T11:55:18.948Z"
   },
   {
    "duration": 9,
    "start_time": "2022-04-13T11:55:18.956Z"
   },
   {
    "duration": 11,
    "start_time": "2022-04-13T11:55:18.967Z"
   },
   {
    "duration": 15,
    "start_time": "2022-04-13T11:55:18.979Z"
   },
   {
    "duration": 74,
    "start_time": "2022-04-13T11:55:19.036Z"
   },
   {
    "duration": 39,
    "start_time": "2022-04-13T11:55:19.111Z"
   },
   {
    "duration": 43,
    "start_time": "2022-04-13T11:55:19.152Z"
   },
   {
    "duration": 61,
    "start_time": "2022-04-13T11:55:19.197Z"
   },
   {
    "duration": 17,
    "start_time": "2022-04-13T11:55:19.260Z"
   },
   {
    "duration": 11,
    "start_time": "2022-04-13T11:55:19.279Z"
   },
   {
    "duration": 7,
    "start_time": "2022-04-13T11:55:19.292Z"
   },
   {
    "duration": 52,
    "start_time": "2022-04-13T11:55:19.301Z"
   },
   {
    "duration": 14,
    "start_time": "2022-04-13T11:55:19.354Z"
   },
   {
    "duration": 17,
    "start_time": "2022-04-13T11:55:19.370Z"
   },
   {
    "duration": 7,
    "start_time": "2022-04-13T11:55:19.388Z"
   },
   {
    "duration": 7,
    "start_time": "2022-04-13T11:55:19.434Z"
   },
   {
    "duration": 13,
    "start_time": "2022-04-13T11:55:19.443Z"
   },
   {
    "duration": 4,
    "start_time": "2022-04-13T11:55:19.459Z"
   },
   {
    "duration": 10,
    "start_time": "2022-04-13T11:55:19.466Z"
   },
   {
    "duration": 145,
    "start_time": "2022-04-13T11:55:19.478Z"
   },
   {
    "duration": 21,
    "start_time": "2022-04-13T11:55:19.626Z"
   },
   {
    "duration": 6,
    "start_time": "2022-04-13T11:55:19.649Z"
   },
   {
    "duration": 20,
    "start_time": "2022-04-13T11:55:19.657Z"
   },
   {
    "duration": 8,
    "start_time": "2022-04-13T11:55:19.680Z"
   },
   {
    "duration": 46,
    "start_time": "2022-04-13T11:55:19.689Z"
   },
   {
    "duration": 11,
    "start_time": "2022-04-13T11:55:19.737Z"
   },
   {
    "duration": 17,
    "start_time": "2022-04-13T11:55:19.750Z"
   },
   {
    "duration": 8,
    "start_time": "2022-04-13T11:55:19.769Z"
   },
   {
    "duration": 1316,
    "start_time": "2022-04-13T11:55:19.779Z"
   },
   {
    "duration": 5,
    "start_time": "2022-04-13T11:55:21.097Z"
   },
   {
    "duration": 11,
    "start_time": "2022-04-13T11:55:21.104Z"
   },
   {
    "duration": 7,
    "start_time": "2022-04-13T11:55:21.134Z"
   },
   {
    "duration": 1903,
    "start_time": "2022-04-13T11:55:21.143Z"
   },
   {
    "duration": 6,
    "start_time": "2022-04-13T11:55:23.048Z"
   },
   {
    "duration": 14,
    "start_time": "2022-04-13T11:55:23.056Z"
   },
   {
    "duration": 6,
    "start_time": "2022-04-13T11:55:23.072Z"
   },
   {
    "duration": 35,
    "start_time": "2022-04-13T11:55:23.080Z"
   },
   {
    "duration": 5,
    "start_time": "2022-04-13T11:55:23.117Z"
   },
   {
    "duration": 28,
    "start_time": "2022-04-13T11:55:23.124Z"
   },
   {
    "duration": 5,
    "start_time": "2022-04-13T11:55:23.154Z"
   },
   {
    "duration": 7,
    "start_time": "2022-04-13T11:55:23.161Z"
   },
   {
    "duration": 1910,
    "start_time": "2022-04-13T11:55:23.170Z"
   },
   {
    "duration": 3,
    "start_time": "2022-04-13T11:55:25.082Z"
   },
   {
    "duration": 148,
    "start_time": "2022-04-13T11:55:25.087Z"
   },
   {
    "duration": 10,
    "start_time": "2022-04-13T11:55:25.236Z"
   },
   {
    "duration": 6,
    "start_time": "2022-04-13T11:55:25.249Z"
   },
   {
    "duration": 10,
    "start_time": "2022-04-13T11:55:25.257Z"
   },
   {
    "duration": 9,
    "start_time": "2022-04-13T11:55:25.270Z"
   },
   {
    "duration": 10,
    "start_time": "2022-04-13T11:55:25.281Z"
   },
   {
    "duration": 6,
    "start_time": "2022-04-13T11:55:25.293Z"
   },
   {
    "duration": 40,
    "start_time": "2022-04-13T13:20:24.760Z"
   },
   {
    "duration": 1296,
    "start_time": "2022-04-13T13:22:08.150Z"
   },
   {
    "duration": 405,
    "start_time": "2022-04-13T13:22:09.449Z"
   },
   {
    "duration": 3,
    "start_time": "2022-04-13T13:22:09.855Z"
   },
   {
    "duration": 55,
    "start_time": "2022-04-13T13:22:09.859Z"
   },
   {
    "duration": 45,
    "start_time": "2022-04-13T13:22:09.916Z"
   },
   {
    "duration": 27,
    "start_time": "2022-04-13T13:22:09.963Z"
   },
   {
    "duration": 7,
    "start_time": "2022-04-13T13:22:09.991Z"
   },
   {
    "duration": 42,
    "start_time": "2022-04-13T13:22:09.999Z"
   },
   {
    "duration": 80,
    "start_time": "2022-04-13T13:22:10.043Z"
   },
   {
    "duration": 47,
    "start_time": "2022-04-13T13:22:10.127Z"
   },
   {
    "duration": 9,
    "start_time": "2022-04-13T13:22:10.175Z"
   },
   {
    "duration": 16,
    "start_time": "2022-04-13T13:22:10.186Z"
   },
   {
    "duration": 224,
    "start_time": "2022-04-13T13:22:10.224Z"
   },
   {
    "duration": 5,
    "start_time": "2022-04-13T13:22:10.449Z"
   },
   {
    "duration": 5,
    "start_time": "2022-04-13T13:22:10.456Z"
   },
   {
    "duration": 520,
    "start_time": "2022-04-13T13:22:10.463Z"
   },
   {
    "duration": 12,
    "start_time": "2022-04-13T13:22:10.984Z"
   },
   {
    "duration": 10,
    "start_time": "2022-04-13T13:22:10.998Z"
   },
   {
    "duration": 190,
    "start_time": "2022-04-13T13:22:11.023Z"
   },
   {
    "duration": 187,
    "start_time": "2022-04-13T13:22:11.214Z"
   },
   {
    "duration": 3,
    "start_time": "2022-04-13T13:22:11.403Z"
   },
   {
    "duration": 118,
    "start_time": "2022-04-13T13:22:11.407Z"
   },
   {
    "duration": 5,
    "start_time": "2022-04-13T13:22:11.527Z"
   },
   {
    "duration": 13,
    "start_time": "2022-04-13T13:22:11.533Z"
   },
   {
    "duration": 396,
    "start_time": "2022-04-13T13:22:11.548Z"
   },
   {
    "duration": 10,
    "start_time": "2022-04-13T13:22:11.946Z"
   },
   {
    "duration": 7,
    "start_time": "2022-04-13T13:22:11.958Z"
   },
   {
    "duration": 8,
    "start_time": "2022-04-13T13:22:11.969Z"
   },
   {
    "duration": 3,
    "start_time": "2022-04-13T13:22:11.978Z"
   },
   {
    "duration": 116,
    "start_time": "2022-04-13T13:22:11.982Z"
   },
   {
    "duration": 5,
    "start_time": "2022-04-13T13:22:12.099Z"
   },
   {
    "duration": 20,
    "start_time": "2022-04-13T13:22:12.105Z"
   },
   {
    "duration": 13,
    "start_time": "2022-04-13T13:22:12.127Z"
   },
   {
    "duration": 25,
    "start_time": "2022-04-13T13:22:12.142Z"
   },
   {
    "duration": 3,
    "start_time": "2022-04-13T13:22:12.169Z"
   },
   {
    "duration": 7,
    "start_time": "2022-04-13T13:22:12.174Z"
   },
   {
    "duration": 5,
    "start_time": "2022-04-13T13:22:12.183Z"
   },
   {
    "duration": 13,
    "start_time": "2022-04-13T13:22:12.189Z"
   },
   {
    "duration": 22,
    "start_time": "2022-04-13T13:22:12.203Z"
   },
   {
    "duration": 24,
    "start_time": "2022-04-13T13:22:12.227Z"
   },
   {
    "duration": 65,
    "start_time": "2022-04-13T13:22:12.253Z"
   },
   {
    "duration": 23,
    "start_time": "2022-04-13T13:22:12.319Z"
   },
   {
    "duration": 37,
    "start_time": "2022-04-13T13:22:12.343Z"
   },
   {
    "duration": 16,
    "start_time": "2022-04-13T13:22:12.381Z"
   },
   {
    "duration": 33,
    "start_time": "2022-04-13T13:22:12.398Z"
   },
   {
    "duration": 14,
    "start_time": "2022-04-13T13:22:12.433Z"
   },
   {
    "duration": 6,
    "start_time": "2022-04-13T13:22:12.448Z"
   },
   {
    "duration": 19,
    "start_time": "2022-04-13T13:22:12.455Z"
   },
   {
    "duration": 10,
    "start_time": "2022-04-13T13:22:12.476Z"
   },
   {
    "duration": 13,
    "start_time": "2022-04-13T13:22:12.487Z"
   },
   {
    "duration": 24,
    "start_time": "2022-04-13T13:22:12.501Z"
   },
   {
    "duration": 20,
    "start_time": "2022-04-13T13:22:12.526Z"
   },
   {
    "duration": 7,
    "start_time": "2022-04-13T13:22:12.548Z"
   },
   {
    "duration": 5,
    "start_time": "2022-04-13T13:22:12.556Z"
   },
   {
    "duration": 7,
    "start_time": "2022-04-13T13:22:12.562Z"
   },
   {
    "duration": 90,
    "start_time": "2022-04-13T13:22:12.570Z"
   },
   {
    "duration": 14,
    "start_time": "2022-04-13T13:22:12.662Z"
   },
   {
    "duration": 4,
    "start_time": "2022-04-13T13:22:12.677Z"
   },
   {
    "duration": 15,
    "start_time": "2022-04-13T13:22:12.682Z"
   },
   {
    "duration": 5,
    "start_time": "2022-04-13T13:22:12.698Z"
   },
   {
    "duration": 13,
    "start_time": "2022-04-13T13:22:12.723Z"
   },
   {
    "duration": 10,
    "start_time": "2022-04-13T13:22:12.738Z"
   },
   {
    "duration": 9,
    "start_time": "2022-04-13T13:22:12.750Z"
   },
   {
    "duration": 5,
    "start_time": "2022-04-13T13:22:12.760Z"
   },
   {
    "duration": 982,
    "start_time": "2022-04-13T13:22:12.767Z"
   },
   {
    "duration": 5,
    "start_time": "2022-04-13T13:22:13.751Z"
   },
   {
    "duration": 9,
    "start_time": "2022-04-13T13:22:13.758Z"
   },
   {
    "duration": 6,
    "start_time": "2022-04-13T13:22:13.768Z"
   },
   {
    "duration": 1588,
    "start_time": "2022-04-13T13:22:13.775Z"
   },
   {
    "duration": 6,
    "start_time": "2022-04-13T13:22:15.365Z"
   },
   {
    "duration": 11,
    "start_time": "2022-04-13T13:22:15.372Z"
   },
   {
    "duration": 4,
    "start_time": "2022-04-13T13:22:15.384Z"
   },
   {
    "duration": 23,
    "start_time": "2022-04-13T13:22:15.389Z"
   },
   {
    "duration": 15,
    "start_time": "2022-04-13T13:22:15.413Z"
   },
   {
    "duration": 25,
    "start_time": "2022-04-13T13:22:15.429Z"
   },
   {
    "duration": 4,
    "start_time": "2022-04-13T13:22:15.456Z"
   },
   {
    "duration": 4,
    "start_time": "2022-04-13T13:22:15.462Z"
   },
   {
    "duration": 1511,
    "start_time": "2022-04-13T13:22:15.467Z"
   },
   {
    "duration": 3,
    "start_time": "2022-04-13T13:22:16.979Z"
   },
   {
    "duration": 102,
    "start_time": "2022-04-13T13:22:16.983Z"
   },
   {
    "duration": 6,
    "start_time": "2022-04-13T13:22:17.087Z"
   },
   {
    "duration": 4,
    "start_time": "2022-04-13T13:22:17.097Z"
   },
   {
    "duration": 23,
    "start_time": "2022-04-13T13:22:17.102Z"
   },
   {
    "duration": 36,
    "start_time": "2022-04-13T13:22:17.126Z"
   },
   {
    "duration": 12,
    "start_time": "2022-04-13T13:22:17.164Z"
   },
   {
    "duration": 6,
    "start_time": "2022-04-13T13:22:17.178Z"
   },
   {
    "duration": 4,
    "start_time": "2022-04-13T13:22:31.340Z"
   },
   {
    "duration": 4,
    "start_time": "2022-04-13T13:23:13.637Z"
   },
   {
    "duration": 4,
    "start_time": "2022-04-13T13:26:40.619Z"
   },
   {
    "duration": 10,
    "start_time": "2022-04-13T13:32:43.931Z"
   },
   {
    "duration": 145,
    "start_time": "2022-04-13T13:34:35.785Z"
   },
   {
    "duration": 1312,
    "start_time": "2022-04-13T13:35:41.951Z"
   },
   {
    "duration": 402,
    "start_time": "2022-04-13T13:35:43.266Z"
   },
   {
    "duration": 3,
    "start_time": "2022-04-13T13:35:43.669Z"
   },
   {
    "duration": 53,
    "start_time": "2022-04-13T13:35:43.674Z"
   },
   {
    "duration": 46,
    "start_time": "2022-04-13T13:35:43.728Z"
   },
   {
    "duration": 29,
    "start_time": "2022-04-13T13:35:43.775Z"
   },
   {
    "duration": 24,
    "start_time": "2022-04-13T13:35:43.805Z"
   },
   {
    "duration": 37,
    "start_time": "2022-04-13T13:35:43.831Z"
   },
   {
    "duration": 96,
    "start_time": "2022-04-13T13:35:43.870Z"
   },
   {
    "duration": 43,
    "start_time": "2022-04-13T13:35:43.969Z"
   },
   {
    "duration": 8,
    "start_time": "2022-04-13T13:35:44.024Z"
   },
   {
    "duration": 19,
    "start_time": "2022-04-13T13:35:44.034Z"
   },
   {
    "duration": 223,
    "start_time": "2022-04-13T13:35:44.054Z"
   },
   {
    "duration": 4,
    "start_time": "2022-04-13T13:35:44.278Z"
   },
   {
    "duration": 7,
    "start_time": "2022-04-13T13:35:44.284Z"
   },
   {
    "duration": 489,
    "start_time": "2022-04-13T13:35:44.292Z"
   },
   {
    "duration": 12,
    "start_time": "2022-04-13T13:35:44.783Z"
   },
   {
    "duration": 11,
    "start_time": "2022-04-13T13:35:44.796Z"
   },
   {
    "duration": 208,
    "start_time": "2022-04-13T13:35:44.808Z"
   },
   {
    "duration": 186,
    "start_time": "2022-04-13T13:35:45.017Z"
   },
   {
    "duration": 3,
    "start_time": "2022-04-13T13:35:45.204Z"
   },
   {
    "duration": 141,
    "start_time": "2022-04-13T13:35:45.209Z"
   },
   {
    "duration": 4,
    "start_time": "2022-04-13T13:35:45.352Z"
   },
   {
    "duration": 5,
    "start_time": "2022-04-13T13:35:45.358Z"
   },
   {
    "duration": 385,
    "start_time": "2022-04-13T13:35:45.365Z"
   },
   {
    "duration": 10,
    "start_time": "2022-04-13T13:35:45.752Z"
   },
   {
    "duration": 8,
    "start_time": "2022-04-13T13:35:45.764Z"
   },
   {
    "duration": 8,
    "start_time": "2022-04-13T13:35:45.775Z"
   },
   {
    "duration": 3,
    "start_time": "2022-04-13T13:35:45.785Z"
   },
   {
    "duration": 8,
    "start_time": "2022-04-13T13:35:50.279Z"
   },
   {
    "duration": 800,
    "start_time": "2022-04-13T13:36:49.212Z"
   },
   {
    "duration": 166,
    "start_time": "2022-04-13T13:46:43.869Z"
   },
   {
    "duration": 164,
    "start_time": "2022-04-13T13:48:12.246Z"
   },
   {
    "duration": 1038,
    "start_time": "2022-04-13T13:48:35.807Z"
   },
   {
    "duration": 382,
    "start_time": "2022-04-13T13:48:36.847Z"
   },
   {
    "duration": 3,
    "start_time": "2022-04-13T13:48:37.230Z"
   },
   {
    "duration": 51,
    "start_time": "2022-04-13T13:48:37.235Z"
   },
   {
    "duration": 55,
    "start_time": "2022-04-13T13:48:37.287Z"
   },
   {
    "duration": 28,
    "start_time": "2022-04-13T13:48:37.344Z"
   },
   {
    "duration": 7,
    "start_time": "2022-04-13T13:48:37.374Z"
   },
   {
    "duration": 49,
    "start_time": "2022-04-13T13:48:37.383Z"
   },
   {
    "duration": 67,
    "start_time": "2022-04-13T13:48:37.434Z"
   },
   {
    "duration": 56,
    "start_time": "2022-04-13T13:48:37.503Z"
   },
   {
    "duration": 8,
    "start_time": "2022-04-13T13:48:37.561Z"
   },
   {
    "duration": 19,
    "start_time": "2022-04-13T13:48:37.570Z"
   },
   {
    "duration": 216,
    "start_time": "2022-04-13T13:48:37.591Z"
   },
   {
    "duration": 4,
    "start_time": "2022-04-13T13:48:37.809Z"
   },
   {
    "duration": 8,
    "start_time": "2022-04-13T13:48:37.823Z"
   },
   {
    "duration": 487,
    "start_time": "2022-04-13T13:48:37.832Z"
   },
   {
    "duration": 11,
    "start_time": "2022-04-13T13:48:38.324Z"
   },
   {
    "duration": 11,
    "start_time": "2022-04-13T13:48:38.337Z"
   },
   {
    "duration": 198,
    "start_time": "2022-04-13T13:48:38.350Z"
   },
   {
    "duration": 192,
    "start_time": "2022-04-13T13:48:38.550Z"
   },
   {
    "duration": 3,
    "start_time": "2022-04-13T13:48:38.743Z"
   },
   {
    "duration": 121,
    "start_time": "2022-04-13T13:48:38.748Z"
   },
   {
    "duration": 4,
    "start_time": "2022-04-13T13:48:38.870Z"
   },
   {
    "duration": 11,
    "start_time": "2022-04-13T13:48:38.876Z"
   },
   {
    "duration": 373,
    "start_time": "2022-04-13T13:48:38.888Z"
   },
   {
    "duration": 11,
    "start_time": "2022-04-13T13:48:39.262Z"
   },
   {
    "duration": 9,
    "start_time": "2022-04-13T13:48:39.274Z"
   },
   {
    "duration": 8,
    "start_time": "2022-04-13T13:48:39.286Z"
   },
   {
    "duration": 3,
    "start_time": "2022-04-13T13:48:39.295Z"
   },
   {
    "duration": 29,
    "start_time": "2022-04-13T13:48:39.299Z"
   },
   {
    "duration": 196,
    "start_time": "2022-04-13T13:48:39.330Z"
   },
   {
    "duration": 769,
    "start_time": "2022-04-13T13:48:39.528Z"
   },
   {
    "duration": 0,
    "start_time": "2022-04-13T13:48:40.299Z"
   },
   {
    "duration": 0,
    "start_time": "2022-04-13T13:48:40.301Z"
   },
   {
    "duration": 0,
    "start_time": "2022-04-13T13:48:40.302Z"
   },
   {
    "duration": 0,
    "start_time": "2022-04-13T13:48:40.303Z"
   },
   {
    "duration": 0,
    "start_time": "2022-04-13T13:48:40.304Z"
   },
   {
    "duration": 0,
    "start_time": "2022-04-13T13:48:40.306Z"
   },
   {
    "duration": 0,
    "start_time": "2022-04-13T13:48:40.307Z"
   },
   {
    "duration": 0,
    "start_time": "2022-04-13T13:48:40.308Z"
   },
   {
    "duration": 0,
    "start_time": "2022-04-13T13:48:40.309Z"
   },
   {
    "duration": 1,
    "start_time": "2022-04-13T13:48:40.310Z"
   },
   {
    "duration": 0,
    "start_time": "2022-04-13T13:48:40.312Z"
   },
   {
    "duration": 3,
    "start_time": "2022-04-13T13:49:07.276Z"
   },
   {
    "duration": 385,
    "start_time": "2022-04-13T13:49:07.282Z"
   },
   {
    "duration": 3,
    "start_time": "2022-04-13T13:49:07.669Z"
   },
   {
    "duration": 48,
    "start_time": "2022-04-13T13:49:07.673Z"
   },
   {
    "duration": 42,
    "start_time": "2022-04-13T13:49:07.723Z"
   },
   {
    "duration": 28,
    "start_time": "2022-04-13T13:49:07.766Z"
   },
   {
    "duration": 30,
    "start_time": "2022-04-13T13:49:07.795Z"
   },
   {
    "duration": 26,
    "start_time": "2022-04-13T13:49:07.826Z"
   },
   {
    "duration": 83,
    "start_time": "2022-04-13T13:49:07.853Z"
   },
   {
    "duration": 44,
    "start_time": "2022-04-13T13:49:07.938Z"
   },
   {
    "duration": 7,
    "start_time": "2022-04-13T13:49:07.985Z"
   },
   {
    "duration": 33,
    "start_time": "2022-04-13T13:49:07.994Z"
   },
   {
    "duration": 177,
    "start_time": "2022-04-13T13:49:08.029Z"
   },
   {
    "duration": 5,
    "start_time": "2022-04-13T13:49:08.207Z"
   },
   {
    "duration": 5,
    "start_time": "2022-04-13T13:49:08.223Z"
   },
   {
    "duration": 484,
    "start_time": "2022-04-13T13:49:08.230Z"
   },
   {
    "duration": 17,
    "start_time": "2022-04-13T13:49:08.716Z"
   },
   {
    "duration": 10,
    "start_time": "2022-04-13T13:49:08.735Z"
   },
   {
    "duration": 179,
    "start_time": "2022-04-13T13:49:08.746Z"
   },
   {
    "duration": 178,
    "start_time": "2022-04-13T13:49:08.928Z"
   },
   {
    "duration": 3,
    "start_time": "2022-04-13T13:49:09.108Z"
   },
   {
    "duration": 123,
    "start_time": "2022-04-13T13:49:09.112Z"
   },
   {
    "duration": 4,
    "start_time": "2022-04-13T13:49:09.236Z"
   },
   {
    "duration": 7,
    "start_time": "2022-04-13T13:49:09.242Z"
   },
   {
    "duration": 374,
    "start_time": "2022-04-13T13:49:09.250Z"
   },
   {
    "duration": 9,
    "start_time": "2022-04-13T13:49:09.626Z"
   },
   {
    "duration": 7,
    "start_time": "2022-04-13T13:49:09.637Z"
   },
   {
    "duration": 9,
    "start_time": "2022-04-13T13:49:09.646Z"
   },
   {
    "duration": 2,
    "start_time": "2022-04-13T13:49:09.658Z"
   },
   {
    "duration": 9,
    "start_time": "2022-04-13T13:49:09.662Z"
   },
   {
    "duration": 195,
    "start_time": "2022-04-13T13:49:09.672Z"
   },
   {
    "duration": 85,
    "start_time": "2022-04-13T13:49:09.868Z"
   },
   {
    "duration": 4,
    "start_time": "2022-04-13T13:49:09.954Z"
   },
   {
    "duration": 5,
    "start_time": "2022-04-13T13:49:09.960Z"
   },
   {
    "duration": 4,
    "start_time": "2022-04-13T13:49:09.967Z"
   },
   {
    "duration": 24,
    "start_time": "2022-04-13T13:49:09.972Z"
   },
   {
    "duration": 28,
    "start_time": "2022-04-13T13:49:09.998Z"
   },
   {
    "duration": 7,
    "start_time": "2022-04-13T13:49:10.028Z"
   },
   {
    "duration": 7,
    "start_time": "2022-04-13T13:49:10.037Z"
   },
   {
    "duration": 8,
    "start_time": "2022-04-13T13:49:10.046Z"
   },
   {
    "duration": 16,
    "start_time": "2022-04-13T13:49:10.055Z"
   },
   {
    "duration": 11,
    "start_time": "2022-04-13T13:49:10.072Z"
   },
   {
    "duration": 165,
    "start_time": "2022-04-13T13:49:46.303Z"
   },
   {
    "duration": 160,
    "start_time": "2022-04-13T13:50:34.756Z"
   },
   {
    "duration": 17,
    "start_time": "2022-04-13T13:50:42.544Z"
   },
   {
    "duration": 11,
    "start_time": "2022-04-13T13:51:42.098Z"
   },
   {
    "duration": 10,
    "start_time": "2022-04-13T13:51:47.333Z"
   },
   {
    "duration": 10,
    "start_time": "2022-04-13T13:58:59.549Z"
   },
   {
    "duration": 9,
    "start_time": "2022-04-13T13:59:05.260Z"
   },
   {
    "duration": 10,
    "start_time": "2022-04-13T13:59:31.748Z"
   },
   {
    "duration": 8,
    "start_time": "2022-04-13T14:00:07.754Z"
   },
   {
    "duration": 9,
    "start_time": "2022-04-13T14:00:46.597Z"
   },
   {
    "duration": 9,
    "start_time": "2022-04-13T14:02:13.485Z"
   },
   {
    "duration": 9,
    "start_time": "2022-04-13T14:06:59.959Z"
   },
   {
    "duration": 18,
    "start_time": "2022-04-13T14:07:51.137Z"
   },
   {
    "duration": 10,
    "start_time": "2022-04-13T14:08:05.683Z"
   },
   {
    "duration": 21,
    "start_time": "2022-04-13T14:08:53.803Z"
   },
   {
    "duration": 371,
    "start_time": "2022-04-13T14:15:25.156Z"
   },
   {
    "duration": 4,
    "start_time": "2022-04-13T14:16:00.196Z"
   },
   {
    "duration": 176,
    "start_time": "2022-04-13T14:17:01.034Z"
   },
   {
    "duration": 171,
    "start_time": "2022-04-13T14:17:33.154Z"
   },
   {
    "duration": 408,
    "start_time": "2022-04-13T14:21:28.448Z"
   },
   {
    "duration": 194,
    "start_time": "2022-04-13T14:21:41.063Z"
   },
   {
    "duration": 10,
    "start_time": "2022-04-13T14:25:38.062Z"
   },
   {
    "duration": 128,
    "start_time": "2022-04-13T14:25:57.489Z"
   },
   {
    "duration": 151,
    "start_time": "2022-04-13T14:26:19.093Z"
   },
   {
    "duration": 129,
    "start_time": "2022-04-13T14:28:39.190Z"
   },
   {
    "duration": 161,
    "start_time": "2022-04-13T14:28:46.519Z"
   },
   {
    "duration": 136,
    "start_time": "2022-04-13T14:28:59.676Z"
   },
   {
    "duration": 130,
    "start_time": "2022-04-13T14:29:08.007Z"
   },
   {
    "duration": 127,
    "start_time": "2022-04-13T14:29:10.992Z"
   },
   {
    "duration": 151,
    "start_time": "2022-04-13T14:29:33.861Z"
   },
   {
    "duration": 166,
    "start_time": "2022-04-13T14:30:14.678Z"
   },
   {
    "duration": 157,
    "start_time": "2022-04-13T14:30:22.838Z"
   },
   {
    "duration": 167,
    "start_time": "2022-04-13T14:30:28.018Z"
   },
   {
    "duration": 160,
    "start_time": "2022-04-13T14:30:34.420Z"
   },
   {
    "duration": 367,
    "start_time": "2022-04-13T14:30:48.401Z"
   },
   {
    "duration": 8,
    "start_time": "2022-04-13T14:32:04.434Z"
   },
   {
    "duration": 9,
    "start_time": "2022-04-13T14:32:28.862Z"
   },
   {
    "duration": 22,
    "start_time": "2022-04-13T14:33:42.708Z"
   },
   {
    "duration": 225,
    "start_time": "2022-04-13T14:34:31.294Z"
   },
   {
    "duration": 154,
    "start_time": "2022-04-13T14:34:40.490Z"
   },
   {
    "duration": 417,
    "start_time": "2022-04-13T14:35:12.381Z"
   },
   {
    "duration": 173,
    "start_time": "2022-04-13T14:36:10.077Z"
   },
   {
    "duration": 139,
    "start_time": "2022-04-13T14:37:49.785Z"
   },
   {
    "duration": 205,
    "start_time": "2022-04-13T14:37:56.255Z"
   },
   {
    "duration": 9,
    "start_time": "2022-04-13T14:40:44.485Z"
   },
   {
    "duration": 308,
    "start_time": "2022-04-13T14:44:51.949Z"
   },
   {
    "duration": 415,
    "start_time": "2022-04-13T14:45:08.811Z"
   },
   {
    "duration": 881,
    "start_time": "2022-04-13T14:50:52.923Z"
   },
   {
    "duration": 632,
    "start_time": "2022-04-13T14:51:18.454Z"
   },
   {
    "duration": 1046,
    "start_time": "2022-04-13T14:52:02.364Z"
   },
   {
    "duration": 1005,
    "start_time": "2022-04-13T14:52:18.406Z"
   },
   {
    "duration": 809,
    "start_time": "2022-04-13T14:52:25.288Z"
   },
   {
    "duration": 325,
    "start_time": "2022-04-13T14:54:24.699Z"
   },
   {
    "duration": 717,
    "start_time": "2022-04-13T14:56:28.344Z"
   },
   {
    "duration": 1000,
    "start_time": "2022-04-13T14:58:56.503Z"
   },
   {
    "duration": 299,
    "start_time": "2022-04-13T14:58:59.627Z"
   },
   {
    "duration": 17,
    "start_time": "2022-04-13T14:59:59.297Z"
   },
   {
    "duration": 17,
    "start_time": "2022-04-13T15:00:10.473Z"
   },
   {
    "duration": 12,
    "start_time": "2022-04-13T15:09:22.536Z"
   },
   {
    "duration": 12,
    "start_time": "2022-04-13T15:09:59.444Z"
   },
   {
    "duration": 12,
    "start_time": "2022-04-13T15:10:20.136Z"
   },
   {
    "duration": 18,
    "start_time": "2022-04-13T15:11:12.010Z"
   },
   {
    "duration": 18,
    "start_time": "2022-04-13T15:11:37.646Z"
   },
   {
    "duration": 13,
    "start_time": "2022-04-13T15:11:57.272Z"
   },
   {
    "duration": 26,
    "start_time": "2022-04-13T15:12:16.190Z"
   },
   {
    "duration": 13,
    "start_time": "2022-04-13T15:12:39.616Z"
   },
   {
    "duration": 14,
    "start_time": "2022-04-13T15:13:28.794Z"
   },
   {
    "duration": 14,
    "start_time": "2022-04-13T15:13:42.547Z"
   },
   {
    "duration": 18,
    "start_time": "2022-04-13T15:13:45.931Z"
   },
   {
    "duration": 17,
    "start_time": "2022-04-13T15:14:14.766Z"
   },
   {
    "duration": 17,
    "start_time": "2022-04-13T15:14:43.283Z"
   },
   {
    "duration": 18,
    "start_time": "2022-04-13T15:14:52.876Z"
   },
   {
    "duration": 14,
    "start_time": "2022-04-13T15:15:25.677Z"
   },
   {
    "duration": 14,
    "start_time": "2022-04-13T15:15:53.152Z"
   },
   {
    "duration": 14,
    "start_time": "2022-04-13T15:23:56.567Z"
   },
   {
    "duration": 221,
    "start_time": "2022-04-13T15:25:43.664Z"
   },
   {
    "duration": 708,
    "start_time": "2022-04-13T15:25:55.099Z"
   },
   {
    "duration": 716,
    "start_time": "2022-04-13T15:29:25.091Z"
   },
   {
    "duration": 23,
    "start_time": "2022-04-13T15:33:47.242Z"
   },
   {
    "duration": 10,
    "start_time": "2022-04-13T15:34:19.849Z"
   },
   {
    "duration": 675,
    "start_time": "2022-04-13T15:38:28.995Z"
   },
   {
    "duration": 998,
    "start_time": "2022-04-13T15:40:55.541Z"
   },
   {
    "duration": 375,
    "start_time": "2022-04-13T15:40:56.540Z"
   },
   {
    "duration": 3,
    "start_time": "2022-04-13T15:40:56.916Z"
   },
   {
    "duration": 52,
    "start_time": "2022-04-13T15:40:56.921Z"
   },
   {
    "duration": 57,
    "start_time": "2022-04-13T15:40:56.974Z"
   },
   {
    "duration": 27,
    "start_time": "2022-04-13T15:40:57.032Z"
   },
   {
    "duration": 7,
    "start_time": "2022-04-13T15:40:57.060Z"
   },
   {
    "duration": 29,
    "start_time": "2022-04-13T15:40:57.068Z"
   },
   {
    "duration": 88,
    "start_time": "2022-04-13T15:40:57.098Z"
   },
   {
    "duration": 48,
    "start_time": "2022-04-13T15:40:57.189Z"
   },
   {
    "duration": 8,
    "start_time": "2022-04-13T15:40:57.239Z"
   },
   {
    "duration": 17,
    "start_time": "2022-04-13T15:40:57.248Z"
   },
   {
    "duration": 220,
    "start_time": "2022-04-13T15:40:57.266Z"
   },
   {
    "duration": 5,
    "start_time": "2022-04-13T15:40:57.487Z"
   },
   {
    "duration": 6,
    "start_time": "2022-04-13T15:40:57.493Z"
   },
   {
    "duration": 483,
    "start_time": "2022-04-13T15:40:57.500Z"
   },
   {
    "duration": 11,
    "start_time": "2022-04-13T15:40:57.985Z"
   },
   {
    "duration": 11,
    "start_time": "2022-04-13T15:40:57.997Z"
   },
   {
    "duration": 194,
    "start_time": "2022-04-13T15:40:58.010Z"
   },
   {
    "duration": 203,
    "start_time": "2022-04-13T15:40:58.205Z"
   },
   {
    "duration": 3,
    "start_time": "2022-04-13T15:40:58.409Z"
   },
   {
    "duration": 115,
    "start_time": "2022-04-13T15:40:58.413Z"
   },
   {
    "duration": 4,
    "start_time": "2022-04-13T15:40:58.529Z"
   },
   {
    "duration": 5,
    "start_time": "2022-04-13T15:40:58.535Z"
   },
   {
    "duration": 382,
    "start_time": "2022-04-13T15:40:58.542Z"
   },
   {
    "duration": 10,
    "start_time": "2022-04-13T15:40:58.926Z"
   },
   {
    "duration": 9,
    "start_time": "2022-04-13T15:40:58.937Z"
   },
   {
    "duration": 9,
    "start_time": "2022-04-13T15:40:58.949Z"
   },
   {
    "duration": 3,
    "start_time": "2022-04-13T15:40:58.959Z"
   },
   {
    "duration": 314,
    "start_time": "2022-04-13T15:41:03.093Z"
   },
   {
    "duration": 791,
    "start_time": "2022-04-13T15:41:25.907Z"
   },
   {
    "duration": 9,
    "start_time": "2022-04-13T15:41:40.335Z"
   },
   {
    "duration": 17,
    "start_time": "2022-04-13T15:41:40.346Z"
   },
   {
    "duration": 0,
    "start_time": "2022-04-13T15:41:40.365Z"
   },
   {
    "duration": 0,
    "start_time": "2022-04-13T15:41:40.366Z"
   },
   {
    "duration": 0,
    "start_time": "2022-04-13T15:41:40.367Z"
   },
   {
    "duration": 3,
    "start_time": "2022-04-13T15:41:40.372Z"
   },
   {
    "duration": 23,
    "start_time": "2022-04-13T15:41:40.379Z"
   },
   {
    "duration": 4,
    "start_time": "2022-04-13T15:41:40.423Z"
   },
   {
    "duration": 6,
    "start_time": "2022-04-13T15:41:40.428Z"
   },
   {
    "duration": 6,
    "start_time": "2022-04-13T15:41:40.436Z"
   },
   {
    "duration": 5,
    "start_time": "2022-04-13T15:41:40.444Z"
   },
   {
    "duration": 8,
    "start_time": "2022-04-13T15:41:40.450Z"
   },
   {
    "duration": 10,
    "start_time": "2022-04-13T15:41:40.460Z"
   },
   {
    "duration": 131,
    "start_time": "2022-04-13T15:41:40.471Z"
   },
   {
    "duration": 0,
    "start_time": "2022-04-13T15:41:40.604Z"
   },
   {
    "duration": 1,
    "start_time": "2022-04-13T15:41:40.605Z"
   },
   {
    "duration": 0,
    "start_time": "2022-04-13T15:41:40.606Z"
   },
   {
    "duration": 0,
    "start_time": "2022-04-13T15:41:40.607Z"
   },
   {
    "duration": 0,
    "start_time": "2022-04-13T15:41:40.623Z"
   },
   {
    "duration": 0,
    "start_time": "2022-04-13T15:41:40.624Z"
   },
   {
    "duration": 0,
    "start_time": "2022-04-13T15:41:40.626Z"
   },
   {
    "duration": 0,
    "start_time": "2022-04-13T15:41:40.627Z"
   },
   {
    "duration": 0,
    "start_time": "2022-04-13T15:41:40.629Z"
   },
   {
    "duration": 0,
    "start_time": "2022-04-13T15:41:40.630Z"
   },
   {
    "duration": 0,
    "start_time": "2022-04-13T15:41:40.631Z"
   },
   {
    "duration": 0,
    "start_time": "2022-04-13T15:41:40.632Z"
   },
   {
    "duration": 0,
    "start_time": "2022-04-13T15:41:40.634Z"
   },
   {
    "duration": 0,
    "start_time": "2022-04-13T15:41:40.635Z"
   },
   {
    "duration": 0,
    "start_time": "2022-04-13T15:41:40.636Z"
   },
   {
    "duration": 0,
    "start_time": "2022-04-13T15:41:40.638Z"
   },
   {
    "duration": 0,
    "start_time": "2022-04-13T15:41:40.639Z"
   },
   {
    "duration": 0,
    "start_time": "2022-04-13T15:41:40.640Z"
   },
   {
    "duration": 0,
    "start_time": "2022-04-13T15:41:40.641Z"
   },
   {
    "duration": 0,
    "start_time": "2022-04-13T15:41:40.642Z"
   },
   {
    "duration": 0,
    "start_time": "2022-04-13T15:41:40.643Z"
   },
   {
    "duration": 0,
    "start_time": "2022-04-13T15:41:40.644Z"
   },
   {
    "duration": 0,
    "start_time": "2022-04-13T15:41:40.645Z"
   },
   {
    "duration": 0,
    "start_time": "2022-04-13T15:41:40.646Z"
   },
   {
    "duration": 0,
    "start_time": "2022-04-13T15:41:40.647Z"
   },
   {
    "duration": 0,
    "start_time": "2022-04-13T15:41:40.648Z"
   },
   {
    "duration": 8,
    "start_time": "2022-04-13T15:41:40.652Z"
   },
   {
    "duration": 0,
    "start_time": "2022-04-13T15:41:40.661Z"
   },
   {
    "duration": 0,
    "start_time": "2022-04-13T15:41:40.662Z"
   },
   {
    "duration": 0,
    "start_time": "2022-04-13T15:41:40.723Z"
   },
   {
    "duration": 0,
    "start_time": "2022-04-13T15:41:40.724Z"
   },
   {
    "duration": 0,
    "start_time": "2022-04-13T15:41:40.725Z"
   },
   {
    "duration": 0,
    "start_time": "2022-04-13T15:41:40.726Z"
   },
   {
    "duration": 0,
    "start_time": "2022-04-13T15:41:40.727Z"
   },
   {
    "duration": 9,
    "start_time": "2022-04-13T15:41:40.729Z"
   },
   {
    "duration": 0,
    "start_time": "2022-04-13T15:41:40.739Z"
   },
   {
    "duration": 0,
    "start_time": "2022-04-13T15:41:40.741Z"
   },
   {
    "duration": 0,
    "start_time": "2022-04-13T15:41:40.742Z"
   },
   {
    "duration": 0,
    "start_time": "2022-04-13T15:41:40.743Z"
   },
   {
    "duration": 0,
    "start_time": "2022-04-13T15:41:40.743Z"
   },
   {
    "duration": 0,
    "start_time": "2022-04-13T15:41:40.744Z"
   },
   {
    "duration": 0,
    "start_time": "2022-04-13T15:41:40.745Z"
   },
   {
    "duration": 0,
    "start_time": "2022-04-13T15:41:40.746Z"
   },
   {
    "duration": 0,
    "start_time": "2022-04-13T15:41:40.747Z"
   },
   {
    "duration": 8,
    "start_time": "2022-04-13T15:41:40.748Z"
   },
   {
    "duration": 0,
    "start_time": "2022-04-13T15:41:40.757Z"
   },
   {
    "duration": 0,
    "start_time": "2022-04-13T15:41:40.758Z"
   },
   {
    "duration": 64,
    "start_time": "2022-04-13T15:41:40.763Z"
   },
   {
    "duration": 1096,
    "start_time": "2022-04-13T15:43:34.300Z"
   },
   {
    "duration": 389,
    "start_time": "2022-04-13T15:43:35.398Z"
   },
   {
    "duration": 3,
    "start_time": "2022-04-13T15:43:35.789Z"
   },
   {
    "duration": 53,
    "start_time": "2022-04-13T15:43:35.794Z"
   },
   {
    "duration": 46,
    "start_time": "2022-04-13T15:43:35.848Z"
   },
   {
    "duration": 49,
    "start_time": "2022-04-13T15:43:35.896Z"
   },
   {
    "duration": 7,
    "start_time": "2022-04-13T15:43:35.947Z"
   },
   {
    "duration": 29,
    "start_time": "2022-04-13T15:43:35.956Z"
   },
   {
    "duration": 98,
    "start_time": "2022-04-13T15:43:35.987Z"
   },
   {
    "duration": 44,
    "start_time": "2022-04-13T15:43:36.088Z"
   },
   {
    "duration": 9,
    "start_time": "2022-04-13T15:43:36.133Z"
   },
   {
    "duration": 18,
    "start_time": "2022-04-13T15:43:36.143Z"
   },
   {
    "duration": 243,
    "start_time": "2022-04-13T15:43:36.162Z"
   },
   {
    "duration": 5,
    "start_time": "2022-04-13T15:43:36.406Z"
   },
   {
    "duration": 12,
    "start_time": "2022-04-13T15:43:36.412Z"
   },
   {
    "duration": 479,
    "start_time": "2022-04-13T15:43:36.426Z"
   },
   {
    "duration": 18,
    "start_time": "2022-04-13T15:43:36.907Z"
   },
   {
    "duration": 10,
    "start_time": "2022-04-13T15:43:36.926Z"
   },
   {
    "duration": 202,
    "start_time": "2022-04-13T15:43:36.937Z"
   },
   {
    "duration": 185,
    "start_time": "2022-04-13T15:43:37.141Z"
   },
   {
    "duration": 4,
    "start_time": "2022-04-13T15:43:37.329Z"
   },
   {
    "duration": 122,
    "start_time": "2022-04-13T15:43:37.335Z"
   },
   {
    "duration": 5,
    "start_time": "2022-04-13T15:43:37.459Z"
   },
   {
    "duration": 6,
    "start_time": "2022-04-13T15:43:37.466Z"
   },
   {
    "duration": 386,
    "start_time": "2022-04-13T15:43:37.473Z"
   },
   {
    "duration": 11,
    "start_time": "2022-04-13T15:43:37.861Z"
   },
   {
    "duration": 8,
    "start_time": "2022-04-13T15:43:37.874Z"
   },
   {
    "duration": 8,
    "start_time": "2022-04-13T15:43:37.887Z"
   },
   {
    "duration": 3,
    "start_time": "2022-04-13T15:43:37.897Z"
   },
   {
    "duration": 716,
    "start_time": "2022-04-13T15:43:37.923Z"
   },
   {
    "duration": 10,
    "start_time": "2022-04-13T15:43:38.641Z"
   },
   {
    "duration": 109,
    "start_time": "2022-04-13T15:43:38.653Z"
   },
   {
    "duration": 0,
    "start_time": "2022-04-13T15:43:38.764Z"
   },
   {
    "duration": 0,
    "start_time": "2022-04-13T15:43:38.765Z"
   },
   {
    "duration": 0,
    "start_time": "2022-04-13T15:43:38.766Z"
   },
   {
    "duration": 0,
    "start_time": "2022-04-13T15:43:38.768Z"
   },
   {
    "duration": 0,
    "start_time": "2022-04-13T15:43:38.769Z"
   },
   {
    "duration": 0,
    "start_time": "2022-04-13T15:43:38.770Z"
   },
   {
    "duration": 0,
    "start_time": "2022-04-13T15:43:38.771Z"
   },
   {
    "duration": 0,
    "start_time": "2022-04-13T15:43:38.773Z"
   },
   {
    "duration": 0,
    "start_time": "2022-04-13T15:43:38.774Z"
   },
   {
    "duration": 0,
    "start_time": "2022-04-13T15:43:38.775Z"
   },
   {
    "duration": 0,
    "start_time": "2022-04-13T15:43:38.776Z"
   },
   {
    "duration": 0,
    "start_time": "2022-04-13T15:43:38.778Z"
   },
   {
    "duration": 0,
    "start_time": "2022-04-13T15:43:38.779Z"
   },
   {
    "duration": 0,
    "start_time": "2022-04-13T15:43:38.780Z"
   },
   {
    "duration": 0,
    "start_time": "2022-04-13T15:43:38.782Z"
   },
   {
    "duration": 0,
    "start_time": "2022-04-13T15:43:38.783Z"
   },
   {
    "duration": 0,
    "start_time": "2022-04-13T15:43:38.785Z"
   },
   {
    "duration": 0,
    "start_time": "2022-04-13T15:43:38.786Z"
   },
   {
    "duration": 0,
    "start_time": "2022-04-13T15:43:38.787Z"
   },
   {
    "duration": 0,
    "start_time": "2022-04-13T15:43:38.824Z"
   },
   {
    "duration": 0,
    "start_time": "2022-04-13T15:43:38.825Z"
   },
   {
    "duration": 0,
    "start_time": "2022-04-13T15:43:38.826Z"
   },
   {
    "duration": 0,
    "start_time": "2022-04-13T15:43:38.828Z"
   },
   {
    "duration": 0,
    "start_time": "2022-04-13T15:43:38.829Z"
   },
   {
    "duration": 0,
    "start_time": "2022-04-13T15:43:38.830Z"
   },
   {
    "duration": 0,
    "start_time": "2022-04-13T15:43:38.831Z"
   },
   {
    "duration": 0,
    "start_time": "2022-04-13T15:43:38.833Z"
   },
   {
    "duration": 0,
    "start_time": "2022-04-13T15:43:38.834Z"
   },
   {
    "duration": 0,
    "start_time": "2022-04-13T15:43:38.835Z"
   },
   {
    "duration": 0,
    "start_time": "2022-04-13T15:43:38.837Z"
   },
   {
    "duration": 0,
    "start_time": "2022-04-13T15:43:38.838Z"
   },
   {
    "duration": 0,
    "start_time": "2022-04-13T15:43:38.839Z"
   },
   {
    "duration": 0,
    "start_time": "2022-04-13T15:43:38.840Z"
   },
   {
    "duration": 0,
    "start_time": "2022-04-13T15:43:38.841Z"
   },
   {
    "duration": 0,
    "start_time": "2022-04-13T15:43:38.842Z"
   },
   {
    "duration": 0,
    "start_time": "2022-04-13T15:43:38.843Z"
   },
   {
    "duration": 0,
    "start_time": "2022-04-13T15:43:38.844Z"
   },
   {
    "duration": 0,
    "start_time": "2022-04-13T15:43:38.846Z"
   },
   {
    "duration": 0,
    "start_time": "2022-04-13T15:43:38.846Z"
   },
   {
    "duration": 0,
    "start_time": "2022-04-13T15:43:38.848Z"
   },
   {
    "duration": 0,
    "start_time": "2022-04-13T15:43:38.849Z"
   },
   {
    "duration": 0,
    "start_time": "2022-04-13T15:43:38.849Z"
   },
   {
    "duration": 0,
    "start_time": "2022-04-13T15:43:38.850Z"
   },
   {
    "duration": 0,
    "start_time": "2022-04-13T15:43:38.851Z"
   },
   {
    "duration": 0,
    "start_time": "2022-04-13T15:43:38.852Z"
   },
   {
    "duration": 0,
    "start_time": "2022-04-13T15:43:38.853Z"
   },
   {
    "duration": 0,
    "start_time": "2022-04-13T15:43:38.854Z"
   },
   {
    "duration": 0,
    "start_time": "2022-04-13T15:43:38.855Z"
   },
   {
    "duration": 0,
    "start_time": "2022-04-13T15:43:38.856Z"
   },
   {
    "duration": 1,
    "start_time": "2022-04-13T15:43:38.857Z"
   },
   {
    "duration": 0,
    "start_time": "2022-04-13T15:43:38.858Z"
   },
   {
    "duration": 0,
    "start_time": "2022-04-13T15:43:38.859Z"
   },
   {
    "duration": 0,
    "start_time": "2022-04-13T15:43:38.860Z"
   },
   {
    "duration": 0,
    "start_time": "2022-04-13T15:43:38.861Z"
   },
   {
    "duration": 0,
    "start_time": "2022-04-13T15:43:38.924Z"
   },
   {
    "duration": 0,
    "start_time": "2022-04-13T15:43:38.925Z"
   },
   {
    "duration": 0,
    "start_time": "2022-04-13T15:43:38.926Z"
   },
   {
    "duration": 0,
    "start_time": "2022-04-13T15:43:38.927Z"
   },
   {
    "duration": 0,
    "start_time": "2022-04-13T15:43:38.928Z"
   },
   {
    "duration": 0,
    "start_time": "2022-04-13T15:43:38.929Z"
   },
   {
    "duration": 463,
    "start_time": "2022-04-13T15:44:14.610Z"
   },
   {
    "duration": 337,
    "start_time": "2022-04-13T15:44:21.094Z"
   },
   {
    "duration": 98,
    "start_time": "2022-04-13T15:44:21.433Z"
   },
   {
    "duration": 4,
    "start_time": "2022-04-13T15:44:21.533Z"
   },
   {
    "duration": 4,
    "start_time": "2022-04-13T15:44:21.539Z"
   },
   {
    "duration": 3,
    "start_time": "2022-04-13T15:44:21.544Z"
   },
   {
    "duration": 24,
    "start_time": "2022-04-13T15:44:21.548Z"
   },
   {
    "duration": 3,
    "start_time": "2022-04-13T15:44:21.574Z"
   },
   {
    "duration": 8,
    "start_time": "2022-04-13T15:44:21.579Z"
   },
   {
    "duration": 5,
    "start_time": "2022-04-13T15:44:21.588Z"
   },
   {
    "duration": 4,
    "start_time": "2022-04-13T15:44:21.625Z"
   },
   {
    "duration": 9,
    "start_time": "2022-04-13T15:44:21.631Z"
   },
   {
    "duration": 10,
    "start_time": "2022-04-13T15:44:21.641Z"
   },
   {
    "duration": 109,
    "start_time": "2022-04-13T15:44:21.652Z"
   },
   {
    "duration": 0,
    "start_time": "2022-04-13T15:44:21.764Z"
   },
   {
    "duration": 0,
    "start_time": "2022-04-13T15:44:21.765Z"
   },
   {
    "duration": 0,
    "start_time": "2022-04-13T15:44:21.767Z"
   },
   {
    "duration": 0,
    "start_time": "2022-04-13T15:44:21.768Z"
   },
   {
    "duration": 0,
    "start_time": "2022-04-13T15:44:21.770Z"
   },
   {
    "duration": 0,
    "start_time": "2022-04-13T15:44:21.771Z"
   },
   {
    "duration": 0,
    "start_time": "2022-04-13T15:44:21.772Z"
   },
   {
    "duration": 0,
    "start_time": "2022-04-13T15:44:21.773Z"
   },
   {
    "duration": 0,
    "start_time": "2022-04-13T15:44:21.775Z"
   },
   {
    "duration": 0,
    "start_time": "2022-04-13T15:44:21.776Z"
   },
   {
    "duration": 0,
    "start_time": "2022-04-13T15:44:21.777Z"
   },
   {
    "duration": 0,
    "start_time": "2022-04-13T15:44:21.779Z"
   },
   {
    "duration": 0,
    "start_time": "2022-04-13T15:44:21.780Z"
   },
   {
    "duration": 0,
    "start_time": "2022-04-13T15:44:21.781Z"
   },
   {
    "duration": 0,
    "start_time": "2022-04-13T15:44:21.783Z"
   },
   {
    "duration": 0,
    "start_time": "2022-04-13T15:44:21.784Z"
   },
   {
    "duration": 0,
    "start_time": "2022-04-13T15:44:21.785Z"
   },
   {
    "duration": 0,
    "start_time": "2022-04-13T15:44:21.823Z"
   },
   {
    "duration": 0,
    "start_time": "2022-04-13T15:44:21.824Z"
   },
   {
    "duration": 0,
    "start_time": "2022-04-13T15:44:21.825Z"
   },
   {
    "duration": 1,
    "start_time": "2022-04-13T15:44:21.826Z"
   },
   {
    "duration": 0,
    "start_time": "2022-04-13T15:44:21.828Z"
   },
   {
    "duration": 0,
    "start_time": "2022-04-13T15:44:21.829Z"
   },
   {
    "duration": 0,
    "start_time": "2022-04-13T15:44:21.830Z"
   },
   {
    "duration": 0,
    "start_time": "2022-04-13T15:44:21.831Z"
   },
   {
    "duration": 0,
    "start_time": "2022-04-13T15:44:21.832Z"
   },
   {
    "duration": 0,
    "start_time": "2022-04-13T15:44:21.833Z"
   },
   {
    "duration": 0,
    "start_time": "2022-04-13T15:44:21.834Z"
   },
   {
    "duration": 0,
    "start_time": "2022-04-13T15:44:21.835Z"
   },
   {
    "duration": 0,
    "start_time": "2022-04-13T15:44:21.836Z"
   },
   {
    "duration": 0,
    "start_time": "2022-04-13T15:44:21.837Z"
   },
   {
    "duration": 0,
    "start_time": "2022-04-13T15:44:21.838Z"
   },
   {
    "duration": 0,
    "start_time": "2022-04-13T15:44:21.839Z"
   },
   {
    "duration": 0,
    "start_time": "2022-04-13T15:44:21.840Z"
   },
   {
    "duration": 0,
    "start_time": "2022-04-13T15:44:21.841Z"
   },
   {
    "duration": 0,
    "start_time": "2022-04-13T15:44:21.842Z"
   },
   {
    "duration": 0,
    "start_time": "2022-04-13T15:44:21.842Z"
   },
   {
    "duration": 0,
    "start_time": "2022-04-13T15:44:21.844Z"
   },
   {
    "duration": 0,
    "start_time": "2022-04-13T15:44:21.845Z"
   },
   {
    "duration": 0,
    "start_time": "2022-04-13T15:44:21.845Z"
   },
   {
    "duration": 0,
    "start_time": "2022-04-13T15:44:21.846Z"
   },
   {
    "duration": 0,
    "start_time": "2022-04-13T15:44:21.847Z"
   },
   {
    "duration": 0,
    "start_time": "2022-04-13T15:44:21.848Z"
   },
   {
    "duration": 0,
    "start_time": "2022-04-13T15:44:21.849Z"
   },
   {
    "duration": 0,
    "start_time": "2022-04-13T15:44:21.850Z"
   },
   {
    "duration": 0,
    "start_time": "2022-04-13T15:44:21.851Z"
   },
   {
    "duration": 0,
    "start_time": "2022-04-13T15:44:21.851Z"
   },
   {
    "duration": 0,
    "start_time": "2022-04-13T15:44:21.852Z"
   },
   {
    "duration": 380,
    "start_time": "2022-04-13T15:45:32.115Z"
   },
   {
    "duration": 166,
    "start_time": "2022-04-13T15:45:37.932Z"
   },
   {
    "duration": 1042,
    "start_time": "2022-04-13T15:50:06.315Z"
   },
   {
    "duration": 370,
    "start_time": "2022-04-13T15:50:07.359Z"
   },
   {
    "duration": 3,
    "start_time": "2022-04-13T15:50:07.730Z"
   },
   {
    "duration": 52,
    "start_time": "2022-04-13T15:50:07.735Z"
   },
   {
    "duration": 56,
    "start_time": "2022-04-13T15:50:07.789Z"
   },
   {
    "duration": 27,
    "start_time": "2022-04-13T15:50:07.847Z"
   },
   {
    "duration": 7,
    "start_time": "2022-04-13T15:50:07.876Z"
   },
   {
    "duration": 50,
    "start_time": "2022-04-13T15:50:07.884Z"
   },
   {
    "duration": 69,
    "start_time": "2022-04-13T15:50:07.936Z"
   },
   {
    "duration": 49,
    "start_time": "2022-04-13T15:50:08.008Z"
   },
   {
    "duration": 8,
    "start_time": "2022-04-13T15:50:08.058Z"
   },
   {
    "duration": 16,
    "start_time": "2022-04-13T15:50:08.067Z"
   },
   {
    "duration": 222,
    "start_time": "2022-04-13T15:50:08.085Z"
   },
   {
    "duration": 4,
    "start_time": "2022-04-13T15:50:08.309Z"
   },
   {
    "duration": 11,
    "start_time": "2022-04-13T15:50:08.315Z"
   },
   {
    "duration": 490,
    "start_time": "2022-04-13T15:50:08.328Z"
   },
   {
    "duration": 11,
    "start_time": "2022-04-13T15:50:08.820Z"
   },
   {
    "duration": 9,
    "start_time": "2022-04-13T15:50:08.832Z"
   },
   {
    "duration": 196,
    "start_time": "2022-04-13T15:50:08.843Z"
   },
   {
    "duration": 182,
    "start_time": "2022-04-13T15:50:09.041Z"
   },
   {
    "duration": 3,
    "start_time": "2022-04-13T15:50:09.225Z"
   },
   {
    "duration": 117,
    "start_time": "2022-04-13T15:50:09.230Z"
   },
   {
    "duration": 4,
    "start_time": "2022-04-13T15:50:09.349Z"
   },
   {
    "duration": 5,
    "start_time": "2022-04-13T15:50:09.354Z"
   },
   {
    "duration": 366,
    "start_time": "2022-04-13T15:50:09.361Z"
   },
   {
    "duration": 10,
    "start_time": "2022-04-13T15:50:09.728Z"
   },
   {
    "duration": 9,
    "start_time": "2022-04-13T15:50:09.739Z"
   },
   {
    "duration": 8,
    "start_time": "2022-04-13T15:50:09.752Z"
   },
   {
    "duration": 24,
    "start_time": "2022-04-13T15:50:09.762Z"
   },
   {
    "duration": 290,
    "start_time": "2022-04-13T15:50:09.788Z"
   },
   {
    "duration": 0,
    "start_time": "2022-04-13T15:50:10.080Z"
   },
   {
    "duration": 0,
    "start_time": "2022-04-13T15:50:10.081Z"
   },
   {
    "duration": 0,
    "start_time": "2022-04-13T15:50:10.082Z"
   },
   {
    "duration": 0,
    "start_time": "2022-04-13T15:50:10.083Z"
   },
   {
    "duration": 0,
    "start_time": "2022-04-13T15:50:10.084Z"
   },
   {
    "duration": 0,
    "start_time": "2022-04-13T15:50:10.085Z"
   },
   {
    "duration": 0,
    "start_time": "2022-04-13T15:50:10.086Z"
   },
   {
    "duration": 0,
    "start_time": "2022-04-13T15:50:10.087Z"
   },
   {
    "duration": 0,
    "start_time": "2022-04-13T15:50:10.087Z"
   },
   {
    "duration": 0,
    "start_time": "2022-04-13T15:50:10.089Z"
   },
   {
    "duration": 0,
    "start_time": "2022-04-13T15:50:10.089Z"
   },
   {
    "duration": 0,
    "start_time": "2022-04-13T15:50:10.090Z"
   },
   {
    "duration": 0,
    "start_time": "2022-04-13T15:50:10.091Z"
   },
   {
    "duration": 0,
    "start_time": "2022-04-13T15:50:10.092Z"
   },
   {
    "duration": 0,
    "start_time": "2022-04-13T15:50:10.093Z"
   },
   {
    "duration": 0,
    "start_time": "2022-04-13T15:50:10.094Z"
   },
   {
    "duration": 0,
    "start_time": "2022-04-13T15:50:10.095Z"
   },
   {
    "duration": 0,
    "start_time": "2022-04-13T15:50:10.096Z"
   },
   {
    "duration": 0,
    "start_time": "2022-04-13T15:50:10.097Z"
   },
   {
    "duration": 0,
    "start_time": "2022-04-13T15:50:10.123Z"
   },
   {
    "duration": 0,
    "start_time": "2022-04-13T15:50:10.125Z"
   },
   {
    "duration": 0,
    "start_time": "2022-04-13T15:50:10.126Z"
   },
   {
    "duration": 0,
    "start_time": "2022-04-13T15:50:10.127Z"
   },
   {
    "duration": 0,
    "start_time": "2022-04-13T15:50:10.128Z"
   },
   {
    "duration": 0,
    "start_time": "2022-04-13T15:50:10.129Z"
   },
   {
    "duration": 0,
    "start_time": "2022-04-13T15:50:10.130Z"
   },
   {
    "duration": 0,
    "start_time": "2022-04-13T15:50:10.131Z"
   },
   {
    "duration": 0,
    "start_time": "2022-04-13T15:50:10.132Z"
   },
   {
    "duration": 0,
    "start_time": "2022-04-13T15:50:10.133Z"
   },
   {
    "duration": 0,
    "start_time": "2022-04-13T15:50:10.134Z"
   },
   {
    "duration": 0,
    "start_time": "2022-04-13T15:50:10.135Z"
   },
   {
    "duration": 0,
    "start_time": "2022-04-13T15:50:10.136Z"
   },
   {
    "duration": 0,
    "start_time": "2022-04-13T15:50:10.137Z"
   },
   {
    "duration": 0,
    "start_time": "2022-04-13T15:50:10.138Z"
   },
   {
    "duration": 0,
    "start_time": "2022-04-13T15:50:10.138Z"
   },
   {
    "duration": 0,
    "start_time": "2022-04-13T15:50:10.139Z"
   },
   {
    "duration": 0,
    "start_time": "2022-04-13T15:50:10.140Z"
   },
   {
    "duration": 0,
    "start_time": "2022-04-13T15:50:10.141Z"
   },
   {
    "duration": 0,
    "start_time": "2022-04-13T15:50:10.142Z"
   },
   {
    "duration": 0,
    "start_time": "2022-04-13T15:50:10.143Z"
   },
   {
    "duration": 0,
    "start_time": "2022-04-13T15:50:10.144Z"
   },
   {
    "duration": 0,
    "start_time": "2022-04-13T15:50:10.145Z"
   },
   {
    "duration": 0,
    "start_time": "2022-04-13T15:50:10.146Z"
   },
   {
    "duration": 0,
    "start_time": "2022-04-13T15:50:10.147Z"
   },
   {
    "duration": 0,
    "start_time": "2022-04-13T15:50:10.148Z"
   },
   {
    "duration": 0,
    "start_time": "2022-04-13T15:50:10.149Z"
   },
   {
    "duration": 0,
    "start_time": "2022-04-13T15:50:10.150Z"
   },
   {
    "duration": 0,
    "start_time": "2022-04-13T15:50:10.151Z"
   },
   {
    "duration": 0,
    "start_time": "2022-04-13T15:50:10.152Z"
   },
   {
    "duration": 0,
    "start_time": "2022-04-13T15:50:10.152Z"
   },
   {
    "duration": 0,
    "start_time": "2022-04-13T15:50:10.153Z"
   },
   {
    "duration": 0,
    "start_time": "2022-04-13T15:50:10.154Z"
   },
   {
    "duration": 0,
    "start_time": "2022-04-13T15:50:10.155Z"
   },
   {
    "duration": 0,
    "start_time": "2022-04-13T15:50:10.156Z"
   },
   {
    "duration": 0,
    "start_time": "2022-04-13T15:50:10.157Z"
   },
   {
    "duration": 0,
    "start_time": "2022-04-13T15:50:10.158Z"
   },
   {
    "duration": 0,
    "start_time": "2022-04-13T15:50:10.159Z"
   },
   {
    "duration": 0,
    "start_time": "2022-04-13T15:50:10.159Z"
   },
   {
    "duration": 0,
    "start_time": "2022-04-13T15:50:10.160Z"
   },
   {
    "duration": 0,
    "start_time": "2022-04-13T15:50:10.161Z"
   },
   {
    "duration": 0,
    "start_time": "2022-04-13T15:50:10.162Z"
   },
   {
    "duration": 0,
    "start_time": "2022-04-13T15:50:10.163Z"
   },
   {
    "duration": 791,
    "start_time": "2022-04-13T15:50:42.575Z"
   },
   {
    "duration": 785,
    "start_time": "2022-04-13T15:50:50.548Z"
   },
   {
    "duration": 10,
    "start_time": "2022-04-13T15:50:51.335Z"
   },
   {
    "duration": 469,
    "start_time": "2022-04-13T15:50:51.347Z"
   },
   {
    "duration": 186,
    "start_time": "2022-04-13T15:50:51.824Z"
   },
   {
    "duration": 5,
    "start_time": "2022-04-13T15:50:52.012Z"
   },
   {
    "duration": 4,
    "start_time": "2022-04-13T15:50:52.023Z"
   },
   {
    "duration": 4,
    "start_time": "2022-04-13T15:50:52.029Z"
   },
   {
    "duration": 25,
    "start_time": "2022-04-13T15:50:52.034Z"
   },
   {
    "duration": 4,
    "start_time": "2022-04-13T15:50:52.061Z"
   },
   {
    "duration": 6,
    "start_time": "2022-04-13T15:50:52.068Z"
   },
   {
    "duration": 5,
    "start_time": "2022-04-13T15:50:52.076Z"
   },
   {
    "duration": 42,
    "start_time": "2022-04-13T15:50:52.083Z"
   },
   {
    "duration": 8,
    "start_time": "2022-04-13T15:50:52.127Z"
   },
   {
    "duration": 10,
    "start_time": "2022-04-13T15:50:52.137Z"
   },
   {
    "duration": 18,
    "start_time": "2022-04-13T15:50:52.148Z"
   },
   {
    "duration": 0,
    "start_time": "2022-04-13T15:50:52.168Z"
   },
   {
    "duration": 0,
    "start_time": "2022-04-13T15:50:52.170Z"
   },
   {
    "duration": 0,
    "start_time": "2022-04-13T15:50:52.171Z"
   },
   {
    "duration": 0,
    "start_time": "2022-04-13T15:50:52.172Z"
   },
   {
    "duration": 0,
    "start_time": "2022-04-13T15:50:52.173Z"
   },
   {
    "duration": 0,
    "start_time": "2022-04-13T15:50:52.174Z"
   },
   {
    "duration": 0,
    "start_time": "2022-04-13T15:50:52.176Z"
   },
   {
    "duration": 0,
    "start_time": "2022-04-13T15:50:52.177Z"
   },
   {
    "duration": 0,
    "start_time": "2022-04-13T15:50:52.178Z"
   },
   {
    "duration": 0,
    "start_time": "2022-04-13T15:50:52.179Z"
   },
   {
    "duration": 0,
    "start_time": "2022-04-13T15:50:52.180Z"
   },
   {
    "duration": 0,
    "start_time": "2022-04-13T15:50:52.181Z"
   },
   {
    "duration": 0,
    "start_time": "2022-04-13T15:50:52.182Z"
   },
   {
    "duration": 0,
    "start_time": "2022-04-13T15:50:52.183Z"
   },
   {
    "duration": 0,
    "start_time": "2022-04-13T15:50:52.184Z"
   },
   {
    "duration": 0,
    "start_time": "2022-04-13T15:50:52.185Z"
   },
   {
    "duration": 0,
    "start_time": "2022-04-13T15:50:52.224Z"
   },
   {
    "duration": 0,
    "start_time": "2022-04-13T15:50:52.225Z"
   },
   {
    "duration": 0,
    "start_time": "2022-04-13T15:50:52.226Z"
   },
   {
    "duration": 0,
    "start_time": "2022-04-13T15:50:52.227Z"
   },
   {
    "duration": 0,
    "start_time": "2022-04-13T15:50:52.228Z"
   },
   {
    "duration": 0,
    "start_time": "2022-04-13T15:50:52.229Z"
   },
   {
    "duration": 0,
    "start_time": "2022-04-13T15:50:52.230Z"
   },
   {
    "duration": 0,
    "start_time": "2022-04-13T15:50:52.231Z"
   },
   {
    "duration": 0,
    "start_time": "2022-04-13T15:50:52.232Z"
   },
   {
    "duration": 0,
    "start_time": "2022-04-13T15:50:52.234Z"
   },
   {
    "duration": 0,
    "start_time": "2022-04-13T15:50:52.235Z"
   },
   {
    "duration": 0,
    "start_time": "2022-04-13T15:50:52.236Z"
   },
   {
    "duration": 0,
    "start_time": "2022-04-13T15:50:52.237Z"
   },
   {
    "duration": 0,
    "start_time": "2022-04-13T15:50:52.238Z"
   },
   {
    "duration": 0,
    "start_time": "2022-04-13T15:50:52.240Z"
   },
   {
    "duration": 0,
    "start_time": "2022-04-13T15:50:52.241Z"
   },
   {
    "duration": 0,
    "start_time": "2022-04-13T15:50:52.242Z"
   },
   {
    "duration": 0,
    "start_time": "2022-04-13T15:50:52.243Z"
   },
   {
    "duration": 0,
    "start_time": "2022-04-13T15:50:52.244Z"
   },
   {
    "duration": 0,
    "start_time": "2022-04-13T15:50:52.245Z"
   },
   {
    "duration": 0,
    "start_time": "2022-04-13T15:50:52.246Z"
   },
   {
    "duration": 0,
    "start_time": "2022-04-13T15:50:52.247Z"
   },
   {
    "duration": 0,
    "start_time": "2022-04-13T15:50:52.249Z"
   },
   {
    "duration": 0,
    "start_time": "2022-04-13T15:50:52.250Z"
   },
   {
    "duration": 0,
    "start_time": "2022-04-13T15:50:52.251Z"
   },
   {
    "duration": 0,
    "start_time": "2022-04-13T15:50:52.252Z"
   },
   {
    "duration": 0,
    "start_time": "2022-04-13T15:50:52.253Z"
   },
   {
    "duration": 0,
    "start_time": "2022-04-13T15:50:52.254Z"
   },
   {
    "duration": 0,
    "start_time": "2022-04-13T15:50:52.256Z"
   },
   {
    "duration": 0,
    "start_time": "2022-04-13T15:50:52.256Z"
   },
   {
    "duration": 0,
    "start_time": "2022-04-13T15:50:52.258Z"
   },
   {
    "duration": 0,
    "start_time": "2022-04-13T15:50:52.259Z"
   },
   {
    "duration": 219,
    "start_time": "2022-04-13T15:52:07.505Z"
   },
   {
    "duration": 1111,
    "start_time": "2022-04-13T15:53:02.834Z"
   },
   {
    "duration": 411,
    "start_time": "2022-04-13T15:53:03.947Z"
   },
   {
    "duration": 3,
    "start_time": "2022-04-13T15:53:04.359Z"
   },
   {
    "duration": 53,
    "start_time": "2022-04-13T15:53:04.364Z"
   },
   {
    "duration": 45,
    "start_time": "2022-04-13T15:53:04.419Z"
   },
   {
    "duration": 29,
    "start_time": "2022-04-13T15:53:04.466Z"
   },
   {
    "duration": 7,
    "start_time": "2022-04-13T15:53:04.497Z"
   },
   {
    "duration": 25,
    "start_time": "2022-04-13T15:53:04.523Z"
   },
   {
    "duration": 87,
    "start_time": "2022-04-13T15:53:04.549Z"
   },
   {
    "duration": 42,
    "start_time": "2022-04-13T15:53:04.638Z"
   },
   {
    "duration": 9,
    "start_time": "2022-04-13T15:53:04.681Z"
   },
   {
    "duration": 34,
    "start_time": "2022-04-13T15:53:04.691Z"
   },
   {
    "duration": 227,
    "start_time": "2022-04-13T15:53:04.727Z"
   },
   {
    "duration": 4,
    "start_time": "2022-04-13T15:53:04.956Z"
   },
   {
    "duration": 6,
    "start_time": "2022-04-13T15:53:04.961Z"
   },
   {
    "duration": 488,
    "start_time": "2022-04-13T15:53:04.968Z"
   },
   {
    "duration": 10,
    "start_time": "2022-04-13T15:53:05.458Z"
   },
   {
    "duration": 10,
    "start_time": "2022-04-13T15:53:05.470Z"
   },
   {
    "duration": 200,
    "start_time": "2022-04-13T15:53:05.482Z"
   },
   {
    "duration": 197,
    "start_time": "2022-04-13T15:53:05.683Z"
   },
   {
    "duration": 3,
    "start_time": "2022-04-13T15:53:05.881Z"
   },
   {
    "duration": 138,
    "start_time": "2022-04-13T15:53:05.886Z"
   },
   {
    "duration": 5,
    "start_time": "2022-04-13T15:53:06.026Z"
   },
   {
    "duration": 5,
    "start_time": "2022-04-13T15:53:06.033Z"
   },
   {
    "duration": 377,
    "start_time": "2022-04-13T15:53:06.040Z"
   },
   {
    "duration": 11,
    "start_time": "2022-04-13T15:53:06.423Z"
   },
   {
    "duration": 8,
    "start_time": "2022-04-13T15:53:06.436Z"
   },
   {
    "duration": 9,
    "start_time": "2022-04-13T15:53:06.449Z"
   },
   {
    "duration": 5,
    "start_time": "2022-04-13T15:53:06.460Z"
   },
   {
    "duration": 782,
    "start_time": "2022-04-13T15:53:06.466Z"
   },
   {
    "duration": 10,
    "start_time": "2022-04-13T15:53:07.251Z"
   },
   {
    "duration": 417,
    "start_time": "2022-04-13T15:53:07.263Z"
   },
   {
    "duration": 102,
    "start_time": "2022-04-13T15:53:07.682Z"
   },
   {
    "duration": 5,
    "start_time": "2022-04-13T15:53:07.785Z"
   },
   {
    "duration": 7,
    "start_time": "2022-04-13T15:53:07.792Z"
   },
   {
    "duration": 22,
    "start_time": "2022-04-13T15:53:07.801Z"
   },
   {
    "duration": 24,
    "start_time": "2022-04-13T15:53:07.826Z"
   },
   {
    "duration": 4,
    "start_time": "2022-04-13T15:53:07.852Z"
   },
   {
    "duration": 6,
    "start_time": "2022-04-13T15:53:07.858Z"
   },
   {
    "duration": 6,
    "start_time": "2022-04-13T15:53:07.865Z"
   },
   {
    "duration": 5,
    "start_time": "2022-04-13T15:53:07.872Z"
   },
   {
    "duration": 47,
    "start_time": "2022-04-13T15:53:07.878Z"
   },
   {
    "duration": 11,
    "start_time": "2022-04-13T15:53:07.926Z"
   },
   {
    "duration": 175,
    "start_time": "2022-04-13T15:53:07.938Z"
   },
   {
    "duration": 0,
    "start_time": "2022-04-13T15:53:08.114Z"
   },
   {
    "duration": 0,
    "start_time": "2022-04-13T15:53:08.115Z"
   },
   {
    "duration": 0,
    "start_time": "2022-04-13T15:53:08.116Z"
   },
   {
    "duration": 0,
    "start_time": "2022-04-13T15:53:08.117Z"
   },
   {
    "duration": 0,
    "start_time": "2022-04-13T15:53:08.123Z"
   },
   {
    "duration": 0,
    "start_time": "2022-04-13T15:53:08.124Z"
   },
   {
    "duration": 0,
    "start_time": "2022-04-13T15:53:08.125Z"
   },
   {
    "duration": 0,
    "start_time": "2022-04-13T15:53:08.126Z"
   },
   {
    "duration": 0,
    "start_time": "2022-04-13T15:53:08.127Z"
   },
   {
    "duration": 0,
    "start_time": "2022-04-13T15:53:08.128Z"
   },
   {
    "duration": 0,
    "start_time": "2022-04-13T15:53:08.129Z"
   },
   {
    "duration": 0,
    "start_time": "2022-04-13T15:53:08.130Z"
   },
   {
    "duration": 0,
    "start_time": "2022-04-13T15:53:08.131Z"
   },
   {
    "duration": 0,
    "start_time": "2022-04-13T15:53:08.131Z"
   },
   {
    "duration": 1,
    "start_time": "2022-04-13T15:53:08.132Z"
   },
   {
    "duration": 0,
    "start_time": "2022-04-13T15:53:08.133Z"
   },
   {
    "duration": 0,
    "start_time": "2022-04-13T15:53:08.134Z"
   },
   {
    "duration": 0,
    "start_time": "2022-04-13T15:53:08.135Z"
   },
   {
    "duration": 0,
    "start_time": "2022-04-13T15:53:08.136Z"
   },
   {
    "duration": 0,
    "start_time": "2022-04-13T15:53:08.136Z"
   },
   {
    "duration": 1,
    "start_time": "2022-04-13T15:53:08.137Z"
   },
   {
    "duration": 0,
    "start_time": "2022-04-13T15:53:08.139Z"
   },
   {
    "duration": 0,
    "start_time": "2022-04-13T15:53:08.140Z"
   },
   {
    "duration": 0,
    "start_time": "2022-04-13T15:53:08.141Z"
   },
   {
    "duration": 0,
    "start_time": "2022-04-13T15:53:08.141Z"
   },
   {
    "duration": 0,
    "start_time": "2022-04-13T15:53:08.142Z"
   },
   {
    "duration": 0,
    "start_time": "2022-04-13T15:53:08.143Z"
   },
   {
    "duration": 0,
    "start_time": "2022-04-13T15:53:08.144Z"
   },
   {
    "duration": 0,
    "start_time": "2022-04-13T15:53:08.145Z"
   },
   {
    "duration": 0,
    "start_time": "2022-04-13T15:53:08.146Z"
   },
   {
    "duration": 0,
    "start_time": "2022-04-13T15:53:08.147Z"
   },
   {
    "duration": 0,
    "start_time": "2022-04-13T15:53:08.147Z"
   },
   {
    "duration": 0,
    "start_time": "2022-04-13T15:53:08.148Z"
   },
   {
    "duration": 0,
    "start_time": "2022-04-13T15:53:08.149Z"
   },
   {
    "duration": 0,
    "start_time": "2022-04-13T15:53:08.150Z"
   },
   {
    "duration": 0,
    "start_time": "2022-04-13T15:53:08.151Z"
   },
   {
    "duration": 0,
    "start_time": "2022-04-13T15:53:08.152Z"
   },
   {
    "duration": 0,
    "start_time": "2022-04-13T15:53:08.152Z"
   },
   {
    "duration": 0,
    "start_time": "2022-04-13T15:53:08.153Z"
   },
   {
    "duration": 0,
    "start_time": "2022-04-13T15:53:08.154Z"
   },
   {
    "duration": 0,
    "start_time": "2022-04-13T15:53:08.155Z"
   },
   {
    "duration": 0,
    "start_time": "2022-04-13T15:53:08.156Z"
   },
   {
    "duration": 0,
    "start_time": "2022-04-13T15:53:08.157Z"
   },
   {
    "duration": 0,
    "start_time": "2022-04-13T15:53:08.158Z"
   },
   {
    "duration": 0,
    "start_time": "2022-04-13T15:53:08.158Z"
   },
   {
    "duration": 0,
    "start_time": "2022-04-13T15:53:08.159Z"
   },
   {
    "duration": 0,
    "start_time": "2022-04-13T15:53:08.160Z"
   },
   {
    "duration": 0,
    "start_time": "2022-04-13T15:53:08.161Z"
   },
   {
    "duration": 1104,
    "start_time": "2022-04-13T15:57:12.640Z"
   },
   {
    "duration": 386,
    "start_time": "2022-04-13T15:57:13.745Z"
   },
   {
    "duration": 2,
    "start_time": "2022-04-13T15:57:14.133Z"
   },
   {
    "duration": 53,
    "start_time": "2022-04-13T15:57:14.138Z"
   },
   {
    "duration": 58,
    "start_time": "2022-04-13T15:57:14.193Z"
   },
   {
    "duration": 28,
    "start_time": "2022-04-13T15:57:14.252Z"
   },
   {
    "duration": 6,
    "start_time": "2022-04-13T15:57:14.282Z"
   },
   {
    "duration": 49,
    "start_time": "2022-04-13T15:57:14.290Z"
   },
   {
    "duration": 82,
    "start_time": "2022-04-13T15:57:14.341Z"
   },
   {
    "duration": 43,
    "start_time": "2022-04-13T15:57:14.427Z"
   },
   {
    "duration": 10,
    "start_time": "2022-04-13T15:57:14.472Z"
   },
   {
    "duration": 17,
    "start_time": "2022-04-13T15:57:14.484Z"
   },
   {
    "duration": 206,
    "start_time": "2022-04-13T15:57:14.524Z"
   },
   {
    "duration": 4,
    "start_time": "2022-04-13T15:57:14.732Z"
   },
   {
    "duration": 7,
    "start_time": "2022-04-13T15:57:14.737Z"
   },
   {
    "duration": 479,
    "start_time": "2022-04-13T15:57:14.745Z"
   },
   {
    "duration": 11,
    "start_time": "2022-04-13T15:57:15.225Z"
   },
   {
    "duration": 11,
    "start_time": "2022-04-13T15:57:15.237Z"
   },
   {
    "duration": 193,
    "start_time": "2022-04-13T15:57:15.250Z"
   },
   {
    "duration": 180,
    "start_time": "2022-04-13T15:57:15.444Z"
   },
   {
    "duration": 3,
    "start_time": "2022-04-13T15:57:15.626Z"
   },
   {
    "duration": 115,
    "start_time": "2022-04-13T15:57:15.631Z"
   },
   {
    "duration": 4,
    "start_time": "2022-04-13T15:57:15.747Z"
   },
   {
    "duration": 5,
    "start_time": "2022-04-13T15:57:15.753Z"
   },
   {
    "duration": 375,
    "start_time": "2022-04-13T15:57:15.759Z"
   },
   {
    "duration": 9,
    "start_time": "2022-04-13T15:57:16.136Z"
   },
   {
    "duration": 10,
    "start_time": "2022-04-13T15:57:16.147Z"
   },
   {
    "duration": 7,
    "start_time": "2022-04-13T15:57:16.161Z"
   },
   {
    "duration": 3,
    "start_time": "2022-04-13T15:57:16.169Z"
   },
   {
    "duration": 725,
    "start_time": "2022-04-13T15:57:16.173Z"
   },
   {
    "duration": 9,
    "start_time": "2022-04-13T15:57:16.900Z"
   },
   {
    "duration": 393,
    "start_time": "2022-04-13T15:57:16.923Z"
   },
   {
    "duration": 108,
    "start_time": "2022-04-13T15:57:17.318Z"
   },
   {
    "duration": 4,
    "start_time": "2022-04-13T15:57:17.428Z"
   },
   {
    "duration": 6,
    "start_time": "2022-04-13T15:57:17.434Z"
   },
   {
    "duration": 5,
    "start_time": "2022-04-13T15:57:17.441Z"
   },
   {
    "duration": 30,
    "start_time": "2022-04-13T15:57:17.448Z"
   },
   {
    "duration": 10,
    "start_time": "2022-04-13T15:57:17.480Z"
   },
   {
    "duration": 10,
    "start_time": "2022-04-13T15:57:17.491Z"
   },
   {
    "duration": 21,
    "start_time": "2022-04-13T15:57:17.502Z"
   },
   {
    "duration": 5,
    "start_time": "2022-04-13T15:57:17.525Z"
   },
   {
    "duration": 9,
    "start_time": "2022-04-13T15:57:17.532Z"
   },
   {
    "duration": 12,
    "start_time": "2022-04-13T15:57:17.542Z"
   },
   {
    "duration": 183,
    "start_time": "2022-04-13T15:57:17.556Z"
   },
   {
    "duration": 61,
    "start_time": "2022-04-13T15:57:17.741Z"
   },
   {
    "duration": 35,
    "start_time": "2022-04-13T15:57:17.803Z"
   },
   {
    "duration": 38,
    "start_time": "2022-04-13T15:57:17.840Z"
   },
   {
    "duration": 15,
    "start_time": "2022-04-13T15:57:17.880Z"
   },
   {
    "duration": 31,
    "start_time": "2022-04-13T15:57:17.897Z"
   },
   {
    "duration": 10,
    "start_time": "2022-04-13T15:57:17.929Z"
   },
   {
    "duration": 4,
    "start_time": "2022-04-13T15:57:17.941Z"
   },
   {
    "duration": 20,
    "start_time": "2022-04-13T15:57:17.946Z"
   },
   {
    "duration": 10,
    "start_time": "2022-04-13T15:57:17.967Z"
   },
   {
    "duration": 11,
    "start_time": "2022-04-13T15:57:17.979Z"
   },
   {
    "duration": 34,
    "start_time": "2022-04-13T15:57:17.992Z"
   },
   {
    "duration": 8,
    "start_time": "2022-04-13T15:57:18.027Z"
   },
   {
    "duration": 9,
    "start_time": "2022-04-13T15:57:18.036Z"
   },
   {
    "duration": 5,
    "start_time": "2022-04-13T15:57:18.046Z"
   },
   {
    "duration": 7,
    "start_time": "2022-04-13T15:57:18.053Z"
   },
   {
    "duration": 95,
    "start_time": "2022-04-13T15:57:18.061Z"
   },
   {
    "duration": 14,
    "start_time": "2022-04-13T15:57:18.158Z"
   },
   {
    "duration": 7,
    "start_time": "2022-04-13T15:57:18.174Z"
   },
   {
    "duration": 10,
    "start_time": "2022-04-13T15:57:18.182Z"
   },
   {
    "duration": 6,
    "start_time": "2022-04-13T15:57:18.193Z"
   },
   {
    "duration": 31,
    "start_time": "2022-04-13T15:57:18.200Z"
   },
   {
    "duration": 12,
    "start_time": "2022-04-13T15:57:18.232Z"
   },
   {
    "duration": 9,
    "start_time": "2022-04-13T15:57:18.246Z"
   },
   {
    "duration": 5,
    "start_time": "2022-04-13T15:57:18.256Z"
   },
   {
    "duration": 942,
    "start_time": "2022-04-13T15:57:18.263Z"
   },
   {
    "duration": 6,
    "start_time": "2022-04-13T15:57:19.206Z"
   },
   {
    "duration": 15,
    "start_time": "2022-04-13T15:57:19.214Z"
   },
   {
    "duration": 5,
    "start_time": "2022-04-13T15:57:19.231Z"
   },
   {
    "duration": 1499,
    "start_time": "2022-04-13T15:57:19.238Z"
   },
   {
    "duration": 6,
    "start_time": "2022-04-13T15:57:20.739Z"
   },
   {
    "duration": 12,
    "start_time": "2022-04-13T15:57:20.746Z"
   },
   {
    "duration": 12,
    "start_time": "2022-04-13T15:57:20.760Z"
   },
   {
    "duration": 20,
    "start_time": "2022-04-13T15:57:20.773Z"
   },
   {
    "duration": 4,
    "start_time": "2022-04-13T15:57:20.794Z"
   },
   {
    "duration": 28,
    "start_time": "2022-04-13T15:57:20.799Z"
   },
   {
    "duration": 4,
    "start_time": "2022-04-13T15:57:20.828Z"
   },
   {
    "duration": 12,
    "start_time": "2022-04-13T15:57:20.833Z"
   },
   {
    "duration": 1483,
    "start_time": "2022-04-13T15:57:20.850Z"
   },
   {
    "duration": 2,
    "start_time": "2022-04-13T15:57:22.335Z"
   },
   {
    "duration": 106,
    "start_time": "2022-04-13T15:57:22.339Z"
   },
   {
    "duration": 7,
    "start_time": "2022-04-13T15:57:22.446Z"
   },
   {
    "duration": 8,
    "start_time": "2022-04-13T15:57:22.454Z"
   },
   {
    "duration": 11,
    "start_time": "2022-04-13T15:57:22.463Z"
   },
   {
    "duration": 7,
    "start_time": "2022-04-13T15:57:22.475Z"
   },
   {
    "duration": 10,
    "start_time": "2022-04-13T15:57:22.483Z"
   },
   {
    "duration": 4,
    "start_time": "2022-04-13T15:57:22.495Z"
   },
   {
    "duration": 6,
    "start_time": "2022-04-13T15:57:22.500Z"
   },
   {
    "duration": 9,
    "start_time": "2022-04-13T15:57:22.523Z"
   },
   {
    "duration": 1049,
    "start_time": "2022-04-13T15:59:26.901Z"
   },
   {
    "duration": 415,
    "start_time": "2022-04-13T15:59:27.952Z"
   },
   {
    "duration": 2,
    "start_time": "2022-04-13T15:59:28.369Z"
   },
   {
    "duration": 55,
    "start_time": "2022-04-13T15:59:28.373Z"
   },
   {
    "duration": 49,
    "start_time": "2022-04-13T15:59:28.429Z"
   },
   {
    "duration": 51,
    "start_time": "2022-04-13T15:59:28.480Z"
   },
   {
    "duration": 8,
    "start_time": "2022-04-13T15:59:28.533Z"
   },
   {
    "duration": 26,
    "start_time": "2022-04-13T15:59:28.543Z"
   },
   {
    "duration": 101,
    "start_time": "2022-04-13T15:59:28.570Z"
   },
   {
    "duration": 39,
    "start_time": "2022-04-13T15:59:28.674Z"
   },
   {
    "duration": 9,
    "start_time": "2022-04-13T15:59:28.724Z"
   },
   {
    "duration": 18,
    "start_time": "2022-04-13T15:59:28.735Z"
   },
   {
    "duration": 241,
    "start_time": "2022-04-13T15:59:28.754Z"
   },
   {
    "duration": 4,
    "start_time": "2022-04-13T15:59:28.997Z"
   },
   {
    "duration": 5,
    "start_time": "2022-04-13T15:59:29.003Z"
   },
   {
    "duration": 488,
    "start_time": "2022-04-13T15:59:29.010Z"
   },
   {
    "duration": 11,
    "start_time": "2022-04-13T15:59:29.499Z"
   },
   {
    "duration": 10,
    "start_time": "2022-04-13T15:59:29.524Z"
   },
   {
    "duration": 194,
    "start_time": "2022-04-13T15:59:29.536Z"
   },
   {
    "duration": 187,
    "start_time": "2022-04-13T15:59:29.732Z"
   },
   {
    "duration": 5,
    "start_time": "2022-04-13T15:59:29.921Z"
   },
   {
    "duration": 125,
    "start_time": "2022-04-13T15:59:29.927Z"
   },
   {
    "duration": 5,
    "start_time": "2022-04-13T15:59:30.054Z"
   },
   {
    "duration": 8,
    "start_time": "2022-04-13T15:59:30.061Z"
   },
   {
    "duration": 385,
    "start_time": "2022-04-13T15:59:30.071Z"
   },
   {
    "duration": 11,
    "start_time": "2022-04-13T15:59:30.458Z"
   },
   {
    "duration": 17,
    "start_time": "2022-04-13T15:59:30.471Z"
   },
   {
    "duration": 9,
    "start_time": "2022-04-13T15:59:30.493Z"
   },
   {
    "duration": 20,
    "start_time": "2022-04-13T15:59:30.504Z"
   },
   {
    "duration": 744,
    "start_time": "2022-04-13T15:59:30.526Z"
   },
   {
    "duration": 10,
    "start_time": "2022-04-13T15:59:31.272Z"
   },
   {
    "duration": 406,
    "start_time": "2022-04-13T15:59:31.284Z"
   },
   {
    "duration": 90,
    "start_time": "2022-04-13T15:59:31.692Z"
   },
   {
    "duration": 5,
    "start_time": "2022-04-13T15:59:31.784Z"
   },
   {
    "duration": 5,
    "start_time": "2022-04-13T15:59:31.790Z"
   },
   {
    "duration": 26,
    "start_time": "2022-04-13T15:59:31.797Z"
   },
   {
    "duration": 25,
    "start_time": "2022-04-13T15:59:31.825Z"
   },
   {
    "duration": 4,
    "start_time": "2022-04-13T15:59:31.852Z"
   },
   {
    "duration": 5,
    "start_time": "2022-04-13T15:59:31.858Z"
   },
   {
    "duration": 7,
    "start_time": "2022-04-13T15:59:31.865Z"
   },
   {
    "duration": 10,
    "start_time": "2022-04-13T15:59:31.874Z"
   },
   {
    "duration": 11,
    "start_time": "2022-04-13T15:59:31.885Z"
   },
   {
    "duration": 34,
    "start_time": "2022-04-13T15:59:31.898Z"
   },
   {
    "duration": 158,
    "start_time": "2022-04-13T15:59:31.934Z"
   },
   {
    "duration": 69,
    "start_time": "2022-04-13T15:59:32.094Z"
   },
   {
    "duration": 16,
    "start_time": "2022-04-13T15:59:32.165Z"
   },
   {
    "duration": 57,
    "start_time": "2022-04-13T15:59:32.183Z"
   },
   {
    "duration": 17,
    "start_time": "2022-04-13T15:59:32.242Z"
   },
   {
    "duration": 10,
    "start_time": "2022-04-13T15:59:32.261Z"
   },
   {
    "duration": 8,
    "start_time": "2022-04-13T15:59:32.273Z"
   },
   {
    "duration": 5,
    "start_time": "2022-04-13T15:59:32.282Z"
   },
   {
    "duration": 40,
    "start_time": "2022-04-13T15:59:32.288Z"
   },
   {
    "duration": 10,
    "start_time": "2022-04-13T15:59:32.330Z"
   },
   {
    "duration": 13,
    "start_time": "2022-04-13T15:59:32.342Z"
   },
   {
    "duration": 5,
    "start_time": "2022-04-13T15:59:32.356Z"
   },
   {
    "duration": 4,
    "start_time": "2022-04-13T15:59:32.363Z"
   },
   {
    "duration": 7,
    "start_time": "2022-04-13T15:59:32.368Z"
   },
   {
    "duration": 6,
    "start_time": "2022-04-13T15:59:32.376Z"
   },
   {
    "duration": 7,
    "start_time": "2022-04-13T15:59:32.384Z"
   },
   {
    "duration": 74,
    "start_time": "2022-04-13T15:59:32.423Z"
   },
   {
    "duration": 28,
    "start_time": "2022-04-13T15:59:32.499Z"
   },
   {
    "duration": 5,
    "start_time": "2022-04-13T15:59:32.528Z"
   },
   {
    "duration": 12,
    "start_time": "2022-04-13T15:59:32.534Z"
   },
   {
    "duration": 14,
    "start_time": "2022-04-13T15:59:32.548Z"
   },
   {
    "duration": 10,
    "start_time": "2022-04-13T15:59:32.564Z"
   },
   {
    "duration": 8,
    "start_time": "2022-04-13T15:59:32.576Z"
   },
   {
    "duration": 8,
    "start_time": "2022-04-13T15:59:32.586Z"
   },
   {
    "duration": 30,
    "start_time": "2022-04-13T15:59:32.595Z"
   },
   {
    "duration": 944,
    "start_time": "2022-04-13T15:59:32.627Z"
   },
   {
    "duration": 6,
    "start_time": "2022-04-13T15:59:33.573Z"
   },
   {
    "duration": 7,
    "start_time": "2022-04-13T15:59:33.581Z"
   },
   {
    "duration": 7,
    "start_time": "2022-04-13T15:59:33.590Z"
   },
   {
    "duration": 1535,
    "start_time": "2022-04-13T15:59:33.599Z"
   },
   {
    "duration": 5,
    "start_time": "2022-04-13T15:59:35.136Z"
   },
   {
    "duration": 8,
    "start_time": "2022-04-13T15:59:35.143Z"
   },
   {
    "duration": 4,
    "start_time": "2022-04-13T15:59:35.153Z"
   },
   {
    "duration": 23,
    "start_time": "2022-04-13T15:59:35.158Z"
   },
   {
    "duration": 4,
    "start_time": "2022-04-13T15:59:35.183Z"
   },
   {
    "duration": 42,
    "start_time": "2022-04-13T15:59:35.189Z"
   },
   {
    "duration": 4,
    "start_time": "2022-04-13T15:59:35.233Z"
   },
   {
    "duration": 3,
    "start_time": "2022-04-13T15:59:35.239Z"
   },
   {
    "duration": 1399,
    "start_time": "2022-04-13T15:59:35.247Z"
   },
   {
    "duration": 3,
    "start_time": "2022-04-13T15:59:36.648Z"
   },
   {
    "duration": 113,
    "start_time": "2022-04-13T15:59:36.653Z"
   },
   {
    "duration": 8,
    "start_time": "2022-04-13T15:59:36.767Z"
   },
   {
    "duration": 7,
    "start_time": "2022-04-13T15:59:36.777Z"
   },
   {
    "duration": 6,
    "start_time": "2022-04-13T15:59:36.786Z"
   },
   {
    "duration": 11,
    "start_time": "2022-04-13T15:59:36.794Z"
   },
   {
    "duration": 11,
    "start_time": "2022-04-13T15:59:36.823Z"
   },
   {
    "duration": 8,
    "start_time": "2022-04-13T15:59:36.836Z"
   },
   {
    "duration": 6,
    "start_time": "2022-04-13T15:59:36.845Z"
   },
   {
    "duration": 10,
    "start_time": "2022-04-13T15:59:36.853Z"
   },
   {
    "duration": 92,
    "start_time": "2022-04-13T16:02:35.877Z"
   },
   {
    "duration": 9,
    "start_time": "2022-04-13T16:02:55.379Z"
   },
   {
    "duration": 13,
    "start_time": "2022-04-13T16:03:18.643Z"
   },
   {
    "duration": 9,
    "start_time": "2022-04-13T16:04:37.900Z"
   },
   {
    "duration": 1105,
    "start_time": "2022-04-13T16:04:56.386Z"
   },
   {
    "duration": 379,
    "start_time": "2022-04-13T16:04:57.492Z"
   },
   {
    "duration": 2,
    "start_time": "2022-04-13T16:04:57.873Z"
   },
   {
    "duration": 53,
    "start_time": "2022-04-13T16:04:57.877Z"
   },
   {
    "duration": 44,
    "start_time": "2022-04-13T16:04:57.932Z"
   },
   {
    "duration": 52,
    "start_time": "2022-04-13T16:04:57.977Z"
   },
   {
    "duration": 7,
    "start_time": "2022-04-13T16:04:58.031Z"
   },
   {
    "duration": 29,
    "start_time": "2022-04-13T16:04:58.039Z"
   },
   {
    "duration": 87,
    "start_time": "2022-04-13T16:04:58.070Z"
   },
   {
    "duration": 43,
    "start_time": "2022-04-13T16:04:58.159Z"
   },
   {
    "duration": 21,
    "start_time": "2022-04-13T16:04:58.204Z"
   },
   {
    "duration": 18,
    "start_time": "2022-04-13T16:04:58.227Z"
   },
   {
    "duration": 229,
    "start_time": "2022-04-13T16:04:58.247Z"
   },
   {
    "duration": 5,
    "start_time": "2022-04-13T16:04:58.477Z"
   },
   {
    "duration": 6,
    "start_time": "2022-04-13T16:04:58.483Z"
   },
   {
    "duration": 479,
    "start_time": "2022-04-13T16:04:58.490Z"
   },
   {
    "duration": 11,
    "start_time": "2022-04-13T16:04:58.970Z"
   },
   {
    "duration": 12,
    "start_time": "2022-04-13T16:04:58.982Z"
   },
   {
    "duration": 200,
    "start_time": "2022-04-13T16:04:58.995Z"
   },
   {
    "duration": 175,
    "start_time": "2022-04-13T16:04:59.197Z"
   },
   {
    "duration": 3,
    "start_time": "2022-04-13T16:04:59.374Z"
   },
   {
    "duration": 126,
    "start_time": "2022-04-13T16:04:59.378Z"
   },
   {
    "duration": 4,
    "start_time": "2022-04-13T16:04:59.506Z"
   },
   {
    "duration": 13,
    "start_time": "2022-04-13T16:04:59.511Z"
   },
   {
    "duration": 358,
    "start_time": "2022-04-13T16:04:59.530Z"
   },
   {
    "duration": 11,
    "start_time": "2022-04-13T16:04:59.889Z"
   },
   {
    "duration": 22,
    "start_time": "2022-04-13T16:04:59.902Z"
   },
   {
    "duration": 8,
    "start_time": "2022-04-13T16:04:59.928Z"
   },
   {
    "duration": 4,
    "start_time": "2022-04-13T16:04:59.937Z"
   },
   {
    "duration": 756,
    "start_time": "2022-04-13T16:04:59.942Z"
   },
   {
    "duration": 10,
    "start_time": "2022-04-13T16:05:00.700Z"
   },
   {
    "duration": 430,
    "start_time": "2022-04-13T16:05:00.712Z"
   },
   {
    "duration": 120,
    "start_time": "2022-04-13T16:05:01.144Z"
   },
   {
    "duration": 4,
    "start_time": "2022-04-13T16:05:01.265Z"
   },
   {
    "duration": 23,
    "start_time": "2022-04-13T16:05:01.271Z"
   },
   {
    "duration": 8,
    "start_time": "2022-04-13T16:05:01.295Z"
   },
   {
    "duration": 32,
    "start_time": "2022-04-13T16:05:01.305Z"
   },
   {
    "duration": 4,
    "start_time": "2022-04-13T16:05:01.339Z"
   },
   {
    "duration": 16,
    "start_time": "2022-04-13T16:05:01.345Z"
   },
   {
    "duration": 7,
    "start_time": "2022-04-13T16:05:01.362Z"
   },
   {
    "duration": 9,
    "start_time": "2022-04-13T16:05:01.370Z"
   },
   {
    "duration": 19,
    "start_time": "2022-04-13T16:05:01.380Z"
   },
   {
    "duration": 24,
    "start_time": "2022-04-13T16:05:01.401Z"
   },
   {
    "duration": 206,
    "start_time": "2022-04-13T16:05:01.427Z"
   },
   {
    "duration": 67,
    "start_time": "2022-04-13T16:05:01.635Z"
   },
   {
    "duration": 31,
    "start_time": "2022-04-13T16:05:01.704Z"
   },
   {
    "duration": 46,
    "start_time": "2022-04-13T16:05:01.737Z"
   },
   {
    "duration": 24,
    "start_time": "2022-04-13T16:05:01.785Z"
   },
   {
    "duration": 12,
    "start_time": "2022-04-13T16:05:10.110Z"
   },
   {
    "duration": 87,
    "start_time": "2022-04-13T16:05:13.548Z"
   },
   {
    "duration": 3,
    "start_time": "2022-04-13T16:05:30.756Z"
   },
   {
    "duration": 9,
    "start_time": "2022-04-13T16:05:34.836Z"
   },
   {
    "duration": 14,
    "start_time": "2022-04-13T16:06:24.057Z"
   },
   {
    "duration": 975,
    "start_time": "2022-04-13T16:14:15.272Z"
   },
   {
    "duration": 378,
    "start_time": "2022-04-13T16:14:16.249Z"
   },
   {
    "duration": 3,
    "start_time": "2022-04-13T16:14:16.628Z"
   },
   {
    "duration": 53,
    "start_time": "2022-04-13T16:14:16.633Z"
   },
   {
    "duration": 55,
    "start_time": "2022-04-13T16:14:16.688Z"
   },
   {
    "duration": 26,
    "start_time": "2022-04-13T16:14:16.744Z"
   },
   {
    "duration": 6,
    "start_time": "2022-04-13T16:14:16.772Z"
   },
   {
    "duration": 49,
    "start_time": "2022-04-13T16:14:16.780Z"
   },
   {
    "duration": 69,
    "start_time": "2022-04-13T16:14:16.830Z"
   },
   {
    "duration": 53,
    "start_time": "2022-04-13T16:14:16.901Z"
   },
   {
    "duration": 9,
    "start_time": "2022-04-13T16:14:16.956Z"
   },
   {
    "duration": 17,
    "start_time": "2022-04-13T16:14:16.966Z"
   },
   {
    "duration": 222,
    "start_time": "2022-04-13T16:14:16.985Z"
   },
   {
    "duration": 16,
    "start_time": "2022-04-13T16:14:17.208Z"
   },
   {
    "duration": 5,
    "start_time": "2022-04-13T16:14:17.225Z"
   },
   {
    "duration": 475,
    "start_time": "2022-04-13T16:14:17.231Z"
   },
   {
    "duration": 17,
    "start_time": "2022-04-13T16:14:17.707Z"
   },
   {
    "duration": 11,
    "start_time": "2022-04-13T16:14:17.725Z"
   },
   {
    "duration": 189,
    "start_time": "2022-04-13T16:14:17.738Z"
   },
   {
    "duration": 175,
    "start_time": "2022-04-13T16:14:17.928Z"
   },
   {
    "duration": 3,
    "start_time": "2022-04-13T16:14:18.104Z"
   },
   {
    "duration": 123,
    "start_time": "2022-04-13T16:14:18.109Z"
   },
   {
    "duration": 4,
    "start_time": "2022-04-13T16:14:18.234Z"
   },
   {
    "duration": 5,
    "start_time": "2022-04-13T16:14:18.240Z"
   },
   {
    "duration": 396,
    "start_time": "2022-04-13T16:14:18.247Z"
   },
   {
    "duration": 10,
    "start_time": "2022-04-13T16:14:18.645Z"
   },
   {
    "duration": 8,
    "start_time": "2022-04-13T16:14:18.656Z"
   },
   {
    "duration": 7,
    "start_time": "2022-04-13T16:14:18.668Z"
   },
   {
    "duration": 3,
    "start_time": "2022-04-13T16:14:18.676Z"
   },
   {
    "duration": 728,
    "start_time": "2022-04-13T16:14:18.681Z"
   },
   {
    "duration": 16,
    "start_time": "2022-04-13T16:14:19.411Z"
   },
   {
    "duration": 371,
    "start_time": "2022-04-13T16:14:19.429Z"
   },
   {
    "duration": 107,
    "start_time": "2022-04-13T16:14:19.802Z"
   },
   {
    "duration": 3,
    "start_time": "2022-04-13T16:14:19.911Z"
   },
   {
    "duration": 8,
    "start_time": "2022-04-13T16:14:19.916Z"
   },
   {
    "duration": 3,
    "start_time": "2022-04-13T16:14:19.925Z"
   },
   {
    "duration": 24,
    "start_time": "2022-04-13T16:14:19.929Z"
   },
   {
    "duration": 3,
    "start_time": "2022-04-13T16:14:19.955Z"
   },
   {
    "duration": 6,
    "start_time": "2022-04-13T16:14:19.959Z"
   },
   {
    "duration": 5,
    "start_time": "2022-04-13T16:14:19.966Z"
   },
   {
    "duration": 6,
    "start_time": "2022-04-13T16:14:19.972Z"
   },
   {
    "duration": 8,
    "start_time": "2022-04-13T16:14:19.979Z"
   },
   {
    "duration": 37,
    "start_time": "2022-04-13T16:14:19.988Z"
   },
   {
    "duration": 171,
    "start_time": "2022-04-13T16:14:20.026Z"
   },
   {
    "duration": 69,
    "start_time": "2022-04-13T16:14:20.199Z"
   },
   {
    "duration": 17,
    "start_time": "2022-04-13T16:14:20.270Z"
   },
   {
    "duration": 59,
    "start_time": "2022-04-13T16:14:20.289Z"
   },
   {
    "duration": 17,
    "start_time": "2022-04-13T16:14:20.350Z"
   },
   {
    "duration": 11,
    "start_time": "2022-04-13T16:14:20.369Z"
   },
   {
    "duration": 3,
    "start_time": "2022-04-13T16:14:20.381Z"
   },
   {
    "duration": 14,
    "start_time": "2022-04-13T16:14:20.385Z"
   },
   {
    "duration": 22,
    "start_time": "2022-04-13T16:14:20.401Z"
   },
   {
    "duration": 21,
    "start_time": "2022-04-13T16:14:20.425Z"
   },
   {
    "duration": 11,
    "start_time": "2022-04-13T16:14:20.448Z"
   },
   {
    "duration": 14,
    "start_time": "2022-04-13T16:14:20.460Z"
   },
   {
    "duration": 14,
    "start_time": "2022-04-13T16:14:20.475Z"
   },
   {
    "duration": 7,
    "start_time": "2022-04-13T16:14:20.490Z"
   },
   {
    "duration": 8,
    "start_time": "2022-04-13T16:14:20.499Z"
   },
   {
    "duration": 16,
    "start_time": "2022-04-13T16:14:20.508Z"
   },
   {
    "duration": 6,
    "start_time": "2022-04-13T16:14:20.525Z"
   },
   {
    "duration": 81,
    "start_time": "2022-04-13T16:14:20.533Z"
   },
   {
    "duration": 14,
    "start_time": "2022-04-13T16:14:20.623Z"
   },
   {
    "duration": 8,
    "start_time": "2022-04-13T16:14:20.639Z"
   },
   {
    "duration": 15,
    "start_time": "2022-04-13T16:14:20.649Z"
   },
   {
    "duration": 6,
    "start_time": "2022-04-13T16:14:20.665Z"
   },
   {
    "duration": 13,
    "start_time": "2022-04-13T16:14:20.673Z"
   },
   {
    "duration": 8,
    "start_time": "2022-04-13T16:14:20.688Z"
   },
   {
    "duration": 30,
    "start_time": "2022-04-13T16:14:20.698Z"
   },
   {
    "duration": 4,
    "start_time": "2022-04-13T16:14:20.730Z"
   },
   {
    "duration": 930,
    "start_time": "2022-04-13T16:14:20.736Z"
   },
   {
    "duration": 5,
    "start_time": "2022-04-13T16:14:21.668Z"
   },
   {
    "duration": 9,
    "start_time": "2022-04-13T16:14:21.675Z"
   },
   {
    "duration": 6,
    "start_time": "2022-04-13T16:14:21.685Z"
   },
   {
    "duration": 1564,
    "start_time": "2022-04-13T16:14:21.692Z"
   },
   {
    "duration": 6,
    "start_time": "2022-04-13T16:14:23.258Z"
   },
   {
    "duration": 9,
    "start_time": "2022-04-13T16:14:23.266Z"
   },
   {
    "duration": 3,
    "start_time": "2022-04-13T16:14:23.277Z"
   },
   {
    "duration": 22,
    "start_time": "2022-04-13T16:14:23.282Z"
   },
   {
    "duration": 20,
    "start_time": "2022-04-13T16:14:23.305Z"
   },
   {
    "duration": 19,
    "start_time": "2022-04-13T16:14:23.327Z"
   },
   {
    "duration": 4,
    "start_time": "2022-04-13T16:14:23.347Z"
   },
   {
    "duration": 2,
    "start_time": "2022-04-13T16:14:23.356Z"
   },
   {
    "duration": 1455,
    "start_time": "2022-04-13T16:14:23.360Z"
   },
   {
    "duration": 2,
    "start_time": "2022-04-13T16:14:24.824Z"
   },
   {
    "duration": 103,
    "start_time": "2022-04-13T16:14:24.828Z"
   },
   {
    "duration": 7,
    "start_time": "2022-04-13T16:14:24.933Z"
   },
   {
    "duration": 9,
    "start_time": "2022-04-13T16:14:24.941Z"
   },
   {
    "duration": 14,
    "start_time": "2022-04-13T16:14:24.951Z"
   },
   {
    "duration": 5,
    "start_time": "2022-04-13T16:14:24.967Z"
   },
   {
    "duration": 9,
    "start_time": "2022-04-13T16:14:24.974Z"
   },
   {
    "duration": 6,
    "start_time": "2022-04-13T16:14:24.985Z"
   },
   {
    "duration": 6,
    "start_time": "2022-04-13T16:14:24.992Z"
   },
   {
    "duration": 25,
    "start_time": "2022-04-13T16:14:24.999Z"
   },
   {
    "duration": 179,
    "start_time": "2022-04-13T16:18:30.716Z"
   },
   {
    "duration": 1092,
    "start_time": "2022-04-13T16:18:41.042Z"
   },
   {
    "duration": 410,
    "start_time": "2022-04-13T16:18:42.136Z"
   },
   {
    "duration": 4,
    "start_time": "2022-04-13T16:18:42.547Z"
   },
   {
    "duration": 54,
    "start_time": "2022-04-13T16:18:42.554Z"
   },
   {
    "duration": 50,
    "start_time": "2022-04-13T16:18:42.610Z"
   },
   {
    "duration": 29,
    "start_time": "2022-04-13T16:18:42.662Z"
   },
   {
    "duration": 8,
    "start_time": "2022-04-13T16:18:42.692Z"
   },
   {
    "duration": 33,
    "start_time": "2022-04-13T16:18:42.724Z"
   },
   {
    "duration": 88,
    "start_time": "2022-04-13T16:18:42.758Z"
   },
   {
    "duration": 44,
    "start_time": "2022-04-13T16:18:42.849Z"
   },
   {
    "duration": 8,
    "start_time": "2022-04-13T16:18:42.895Z"
   },
   {
    "duration": 31,
    "start_time": "2022-04-13T16:18:42.905Z"
   },
   {
    "duration": 249,
    "start_time": "2022-04-13T16:18:42.938Z"
   },
   {
    "duration": 6,
    "start_time": "2022-04-13T16:18:43.188Z"
   },
   {
    "duration": 7,
    "start_time": "2022-04-13T16:18:43.196Z"
   },
   {
    "duration": 712,
    "start_time": "2022-04-13T16:18:43.205Z"
   },
   {
    "duration": 12,
    "start_time": "2022-04-13T16:18:43.918Z"
   },
   {
    "duration": 11,
    "start_time": "2022-04-13T16:18:43.931Z"
   },
   {
    "duration": 207,
    "start_time": "2022-04-13T16:18:43.944Z"
   },
   {
    "duration": 190,
    "start_time": "2022-04-13T16:18:44.153Z"
   },
   {
    "duration": 3,
    "start_time": "2022-04-13T16:18:44.345Z"
   },
   {
    "duration": 118,
    "start_time": "2022-04-13T16:18:44.350Z"
   },
   {
    "duration": 4,
    "start_time": "2022-04-13T16:18:44.470Z"
   },
   {
    "duration": 4,
    "start_time": "2022-04-13T16:18:44.476Z"
   },
   {
    "duration": 381,
    "start_time": "2022-04-13T16:18:44.482Z"
   },
   {
    "duration": 10,
    "start_time": "2022-04-13T16:18:44.865Z"
   },
   {
    "duration": 7,
    "start_time": "2022-04-13T16:18:44.877Z"
   },
   {
    "duration": 7,
    "start_time": "2022-04-13T16:18:44.888Z"
   },
   {
    "duration": 27,
    "start_time": "2022-04-13T16:18:44.897Z"
   },
   {
    "duration": 755,
    "start_time": "2022-04-13T16:18:44.926Z"
   },
   {
    "duration": 9,
    "start_time": "2022-04-13T16:18:45.682Z"
   },
   {
    "duration": 423,
    "start_time": "2022-04-13T16:18:45.692Z"
   },
   {
    "duration": 94,
    "start_time": "2022-04-13T16:18:46.116Z"
   },
   {
    "duration": 15,
    "start_time": "2022-04-13T16:18:46.211Z"
   },
   {
    "duration": 6,
    "start_time": "2022-04-13T16:18:46.228Z"
   },
   {
    "duration": 3,
    "start_time": "2022-04-13T16:18:46.236Z"
   },
   {
    "duration": 26,
    "start_time": "2022-04-13T16:18:46.240Z"
   },
   {
    "duration": 4,
    "start_time": "2022-04-13T16:18:46.267Z"
   },
   {
    "duration": 6,
    "start_time": "2022-04-13T16:18:46.272Z"
   },
   {
    "duration": 5,
    "start_time": "2022-04-13T16:18:46.279Z"
   },
   {
    "duration": 40,
    "start_time": "2022-04-13T16:18:46.286Z"
   },
   {
    "duration": 7,
    "start_time": "2022-04-13T16:18:46.327Z"
   },
   {
    "duration": 10,
    "start_time": "2022-04-13T16:18:46.336Z"
   },
   {
    "duration": 180,
    "start_time": "2022-04-13T16:18:46.347Z"
   },
   {
    "duration": 59,
    "start_time": "2022-04-13T16:18:46.529Z"
   },
   {
    "duration": 35,
    "start_time": "2022-04-13T16:18:46.589Z"
   },
   {
    "duration": 36,
    "start_time": "2022-04-13T16:18:46.626Z"
   },
   {
    "duration": 16,
    "start_time": "2022-04-13T16:18:46.664Z"
   },
   {
    "duration": 11,
    "start_time": "2022-04-13T16:18:46.681Z"
   },
   {
    "duration": 4,
    "start_time": "2022-04-13T16:18:46.693Z"
   },
   {
    "duration": 35,
    "start_time": "2022-04-13T16:18:46.698Z"
   },
   {
    "duration": 3,
    "start_time": "2022-04-13T16:18:46.735Z"
   },
   {
    "duration": 18,
    "start_time": "2022-04-13T16:18:46.740Z"
   },
   {
    "duration": 10,
    "start_time": "2022-04-13T16:18:46.760Z"
   },
   {
    "duration": 13,
    "start_time": "2022-04-13T16:18:46.772Z"
   },
   {
    "duration": 5,
    "start_time": "2022-04-13T16:18:46.787Z"
   },
   {
    "duration": 31,
    "start_time": "2022-04-13T16:18:46.793Z"
   },
   {
    "duration": 7,
    "start_time": "2022-04-13T16:18:46.825Z"
   },
   {
    "duration": 5,
    "start_time": "2022-04-13T16:18:46.834Z"
   },
   {
    "duration": 9,
    "start_time": "2022-04-13T16:18:46.840Z"
   },
   {
    "duration": 102,
    "start_time": "2022-04-13T16:18:46.850Z"
   },
   {
    "duration": 14,
    "start_time": "2022-04-13T16:18:46.954Z"
   },
   {
    "duration": 6,
    "start_time": "2022-04-13T16:18:46.969Z"
   },
   {
    "duration": 19,
    "start_time": "2022-04-13T16:18:46.976Z"
   },
   {
    "duration": 8,
    "start_time": "2022-04-13T16:18:46.996Z"
   },
   {
    "duration": 26,
    "start_time": "2022-04-13T16:18:47.005Z"
   },
   {
    "duration": 11,
    "start_time": "2022-04-13T16:18:47.033Z"
   },
   {
    "duration": 8,
    "start_time": "2022-04-13T16:18:47.045Z"
   },
   {
    "duration": 4,
    "start_time": "2022-04-13T16:18:47.055Z"
   },
   {
    "duration": 983,
    "start_time": "2022-04-13T16:18:47.060Z"
   },
   {
    "duration": 5,
    "start_time": "2022-04-13T16:18:48.045Z"
   },
   {
    "duration": 8,
    "start_time": "2022-04-13T16:18:48.052Z"
   },
   {
    "duration": 6,
    "start_time": "2022-04-13T16:18:48.061Z"
   },
   {
    "duration": 1481,
    "start_time": "2022-04-13T16:18:48.069Z"
   },
   {
    "duration": 6,
    "start_time": "2022-04-13T16:18:49.551Z"
   },
   {
    "duration": 9,
    "start_time": "2022-04-13T16:18:49.559Z"
   },
   {
    "duration": 8,
    "start_time": "2022-04-13T16:18:49.569Z"
   },
   {
    "duration": 19,
    "start_time": "2022-04-13T16:18:49.579Z"
   },
   {
    "duration": 4,
    "start_time": "2022-04-13T16:18:49.600Z"
   },
   {
    "duration": 34,
    "start_time": "2022-04-13T16:18:49.605Z"
   },
   {
    "duration": 4,
    "start_time": "2022-04-13T16:18:49.640Z"
   },
   {
    "duration": 3,
    "start_time": "2022-04-13T16:18:49.649Z"
   },
   {
    "duration": 1440,
    "start_time": "2022-04-13T16:18:49.653Z"
   },
   {
    "duration": 3,
    "start_time": "2022-04-13T16:18:51.094Z"
   },
   {
    "duration": 103,
    "start_time": "2022-04-13T16:18:51.098Z"
   },
   {
    "duration": 23,
    "start_time": "2022-04-13T16:18:51.202Z"
   },
   {
    "duration": 7,
    "start_time": "2022-04-13T16:18:51.226Z"
   },
   {
    "duration": 9,
    "start_time": "2022-04-13T16:18:51.235Z"
   },
   {
    "duration": 8,
    "start_time": "2022-04-13T16:18:51.246Z"
   },
   {
    "duration": 10,
    "start_time": "2022-04-13T16:18:51.256Z"
   },
   {
    "duration": 6,
    "start_time": "2022-04-13T16:18:51.268Z"
   },
   {
    "duration": 7,
    "start_time": "2022-04-13T16:18:51.276Z"
   },
   {
    "duration": 9,
    "start_time": "2022-04-13T16:18:51.284Z"
   },
   {
    "duration": 1106,
    "start_time": "2022-04-13T16:25:01.937Z"
   },
   {
    "duration": 415,
    "start_time": "2022-04-13T16:25:03.045Z"
   },
   {
    "duration": 3,
    "start_time": "2022-04-13T16:25:03.462Z"
   },
   {
    "duration": 57,
    "start_time": "2022-04-13T16:25:03.467Z"
   },
   {
    "duration": 48,
    "start_time": "2022-04-13T16:25:03.525Z"
   },
   {
    "duration": 49,
    "start_time": "2022-04-13T16:25:03.574Z"
   },
   {
    "duration": 9,
    "start_time": "2022-04-13T16:25:03.625Z"
   },
   {
    "duration": 32,
    "start_time": "2022-04-13T16:25:03.636Z"
   },
   {
    "duration": 88,
    "start_time": "2022-04-13T16:25:03.670Z"
   },
   {
    "duration": 42,
    "start_time": "2022-04-13T16:25:03.760Z"
   },
   {
    "duration": 21,
    "start_time": "2022-04-13T16:25:03.804Z"
   },
   {
    "duration": 17,
    "start_time": "2022-04-13T16:25:03.827Z"
   },
   {
    "duration": 216,
    "start_time": "2022-04-13T16:25:03.845Z"
   },
   {
    "duration": 5,
    "start_time": "2022-04-13T16:25:04.063Z"
   },
   {
    "duration": 5,
    "start_time": "2022-04-13T16:25:04.069Z"
   },
   {
    "duration": 494,
    "start_time": "2022-04-13T16:25:04.076Z"
   },
   {
    "duration": 12,
    "start_time": "2022-04-13T16:25:04.571Z"
   },
   {
    "duration": 11,
    "start_time": "2022-04-13T16:25:04.584Z"
   },
   {
    "duration": 201,
    "start_time": "2022-04-13T16:25:04.596Z"
   },
   {
    "duration": 178,
    "start_time": "2022-04-13T16:25:04.799Z"
   },
   {
    "duration": 3,
    "start_time": "2022-04-13T16:25:04.979Z"
   },
   {
    "duration": 135,
    "start_time": "2022-04-13T16:25:04.983Z"
   },
   {
    "duration": 5,
    "start_time": "2022-04-13T16:25:05.119Z"
   },
   {
    "duration": 6,
    "start_time": "2022-04-13T16:25:05.126Z"
   },
   {
    "duration": 373,
    "start_time": "2022-04-13T16:25:05.133Z"
   },
   {
    "duration": 20,
    "start_time": "2022-04-13T16:25:05.508Z"
   },
   {
    "duration": 7,
    "start_time": "2022-04-13T16:25:05.530Z"
   },
   {
    "duration": 8,
    "start_time": "2022-04-13T16:25:05.542Z"
   },
   {
    "duration": 3,
    "start_time": "2022-04-13T16:25:05.552Z"
   },
   {
    "duration": 746,
    "start_time": "2022-04-13T16:25:05.557Z"
   },
   {
    "duration": 23,
    "start_time": "2022-04-13T16:25:06.305Z"
   },
   {
    "duration": 396,
    "start_time": "2022-04-13T16:25:06.329Z"
   },
   {
    "duration": 85,
    "start_time": "2022-04-13T16:25:06.727Z"
   },
   {
    "duration": 4,
    "start_time": "2022-04-13T16:25:06.824Z"
   },
   {
    "duration": 3,
    "start_time": "2022-04-13T16:25:06.830Z"
   },
   {
    "duration": 2,
    "start_time": "2022-04-13T16:25:06.835Z"
   },
   {
    "duration": 23,
    "start_time": "2022-04-13T16:25:06.839Z"
   },
   {
    "duration": 3,
    "start_time": "2022-04-13T16:25:06.863Z"
   },
   {
    "duration": 6,
    "start_time": "2022-04-13T16:25:06.868Z"
   },
   {
    "duration": 5,
    "start_time": "2022-04-13T16:25:06.875Z"
   },
   {
    "duration": 42,
    "start_time": "2022-04-13T16:25:06.882Z"
   },
   {
    "duration": 7,
    "start_time": "2022-04-13T16:25:06.925Z"
   },
   {
    "duration": 10,
    "start_time": "2022-04-13T16:25:06.934Z"
   },
   {
    "duration": 165,
    "start_time": "2022-04-13T16:25:06.945Z"
   },
   {
    "duration": 67,
    "start_time": "2022-04-13T16:25:07.112Z"
   },
   {
    "duration": 16,
    "start_time": "2022-04-13T16:25:07.181Z"
   },
   {
    "duration": 53,
    "start_time": "2022-04-13T16:25:07.199Z"
   },
   {
    "duration": 15,
    "start_time": "2022-04-13T16:25:07.253Z"
   },
   {
    "duration": 10,
    "start_time": "2022-04-13T16:25:07.270Z"
   },
   {
    "duration": 3,
    "start_time": "2022-04-13T16:25:07.281Z"
   },
   {
    "duration": 9,
    "start_time": "2022-04-13T16:25:07.286Z"
   },
   {
    "duration": 26,
    "start_time": "2022-04-13T16:25:07.297Z"
   },
   {
    "duration": 17,
    "start_time": "2022-04-13T16:25:07.325Z"
   },
   {
    "duration": 11,
    "start_time": "2022-04-13T16:25:07.344Z"
   },
   {
    "duration": 12,
    "start_time": "2022-04-13T16:25:07.356Z"
   },
   {
    "duration": 5,
    "start_time": "2022-04-13T16:25:07.370Z"
   },
   {
    "duration": 5,
    "start_time": "2022-04-13T16:25:07.376Z"
   },
   {
    "duration": 7,
    "start_time": "2022-04-13T16:25:07.382Z"
   },
   {
    "duration": 3,
    "start_time": "2022-04-13T16:25:07.390Z"
   },
   {
    "duration": 5,
    "start_time": "2022-04-13T16:25:07.423Z"
   },
   {
    "duration": 77,
    "start_time": "2022-04-13T16:25:07.430Z"
   },
   {
    "duration": 18,
    "start_time": "2022-04-13T16:25:07.509Z"
   },
   {
    "duration": 5,
    "start_time": "2022-04-13T16:25:07.529Z"
   },
   {
    "duration": 12,
    "start_time": "2022-04-13T16:25:07.535Z"
   },
   {
    "duration": 6,
    "start_time": "2022-04-13T16:25:07.549Z"
   },
   {
    "duration": 10,
    "start_time": "2022-04-13T16:25:07.557Z"
   },
   {
    "duration": 10,
    "start_time": "2022-04-13T16:25:07.569Z"
   },
   {
    "duration": 47,
    "start_time": "2022-04-13T16:25:07.581Z"
   },
   {
    "duration": 5,
    "start_time": "2022-04-13T16:25:07.630Z"
   },
   {
    "duration": 889,
    "start_time": "2022-04-13T16:25:07.637Z"
   },
   {
    "duration": 5,
    "start_time": "2022-04-13T16:25:08.528Z"
   },
   {
    "duration": 9,
    "start_time": "2022-04-13T16:25:08.534Z"
   },
   {
    "duration": 6,
    "start_time": "2022-04-13T16:25:08.544Z"
   },
   {
    "duration": 1502,
    "start_time": "2022-04-13T16:25:08.551Z"
   },
   {
    "duration": 6,
    "start_time": "2022-04-13T16:25:10.055Z"
   },
   {
    "duration": 10,
    "start_time": "2022-04-13T16:25:10.062Z"
   },
   {
    "duration": 3,
    "start_time": "2022-04-13T16:25:10.073Z"
   },
   {
    "duration": 20,
    "start_time": "2022-04-13T16:25:10.078Z"
   },
   {
    "duration": 25,
    "start_time": "2022-04-13T16:25:10.099Z"
   },
   {
    "duration": 18,
    "start_time": "2022-04-13T16:25:10.126Z"
   },
   {
    "duration": 4,
    "start_time": "2022-04-13T16:25:10.145Z"
   },
   {
    "duration": 7,
    "start_time": "2022-04-13T16:25:10.154Z"
   },
   {
    "duration": 1427,
    "start_time": "2022-04-13T16:25:10.163Z"
   },
   {
    "duration": 3,
    "start_time": "2022-04-13T16:25:11.591Z"
   },
   {
    "duration": 96,
    "start_time": "2022-04-13T16:25:11.595Z"
   },
   {
    "duration": 7,
    "start_time": "2022-04-13T16:25:11.693Z"
   },
   {
    "duration": 23,
    "start_time": "2022-04-13T16:25:11.701Z"
   },
   {
    "duration": 5,
    "start_time": "2022-04-13T16:25:11.725Z"
   },
   {
    "duration": 6,
    "start_time": "2022-04-13T16:25:11.731Z"
   },
   {
    "duration": 8,
    "start_time": "2022-04-13T16:25:11.738Z"
   },
   {
    "duration": 4,
    "start_time": "2022-04-13T16:25:11.747Z"
   },
   {
    "duration": 4,
    "start_time": "2022-04-13T16:25:11.753Z"
   },
   {
    "duration": 7,
    "start_time": "2022-04-13T16:25:11.759Z"
   }
  ],
  "kernelspec": {
   "display_name": "Python 3 (ipykernel)",
   "language": "python",
   "name": "python3"
  },
  "language_info": {
   "codemirror_mode": {
    "name": "ipython",
    "version": 3
   },
   "file_extension": ".py",
   "mimetype": "text/x-python",
   "name": "python",
   "nbconvert_exporter": "python",
   "pygments_lexer": "ipython3",
   "version": "3.9.6"
  },
  "toc": {
   "base_numbering": 1,
   "nav_menu": {},
   "number_sections": true,
   "sideBar": true,
   "skip_h1_title": true,
   "title_cell": "Table of Contents",
   "title_sidebar": "Contents",
   "toc_cell": false,
   "toc_position": {},
   "toc_section_display": true,
   "toc_window_display": true
  }
 },
 "nbformat": 4,
 "nbformat_minor": 5
}
