{
 "cells": [
  {
   "cell_type": "markdown",
   "id": "3b60aff3",
   "metadata": {},
   "source": [
    "# Условия и решения задач 6-го стрима по SQL"
   ]
  },
  {
   "cell_type": "markdown",
   "id": "f19fe5fb",
   "metadata": {},
   "source": [
    "## Описание таблиц"
   ]
  },
  {
   "cell_type": "markdown",
   "id": "0a50de2d",
   "metadata": {},
   "source": [
    "**acquisition**\n",
    "Содержит информацию о покупках одних компаний другими.\n",
    "\n",
    "Таблица включает такие поля:\n",
    "\n",
    "первичный ключ\n",
    "` id `— идентификатор или уникальный номер покупки;\n",
    "\n",
    "внешний ключ \n",
    "`acquiring_company_id` — ссылается на таблицу company — идентификатор компании-покупателя, то есть той, что покупает другую компанию;\n",
    "\n",
    "внешний ключ \n",
    "\n",
    "`acquired_company_id` — ссылается на таблицу company — идентификатор компании, которую покупают;\n",
    "\n",
    "`term_code` — способ оплаты сделки:\n",
    "\n",
    "- `cash` — наличными;\n",
    "- `stock` — акциями компании;\n",
    "- `cash_and_stock` — смешанный тип оплаты: наличные и акции.\n",
    "\n",
    "`price_amount` — сумма покупки в долларах;\n",
    "\n",
    "`acquired_at` — дата совершения сделки;\n",
    "\n",
    "`created_at` — дата и время создания записи в таблице;\n",
    "\n",
    "`updated_at` — дата и время обновления записи в таблице.\n",
    "\n",
    "**company**\n",
    "\n",
    "Содержит информацию о компаниях-стартапах.\n",
    "\n",
    "первичный ключ \n",
    "\n",
    "`id` — идентификатор, или уникальный номер компании;\n",
    "\n",
    "`name` — название компании;\n",
    "\n",
    "`category_code` — категория деятельности компании, например:\n",
    "\n",
    "- `news` — специализируется на работе с новостями;\n",
    "- `social` — специализируется на социальной работе.\n",
    "- `status` — статус компании:\n",
    "- `acquired` — приобретена;\n",
    "- `operating` — действует;\n",
    "- `ipo` — вышла на IPO;\n",
    "- `closed` — перестала существовать.\n",
    "\n",
    "`founded_at` — дата основания компании;\n",
    "\n",
    "`closed_at` — дата закрытия компании, которую указывают в том случае, если компании больше не существует;\n",
    "\n",
    "`domain` — домен сайта компании;\n",
    "\n",
    "`twitter_username` — название профиля компании в твиттере;\n",
    "\n",
    "`country_code` — код страны, например, USA для США, GBR для Великобритании;\n",
    "\n",
    "`investment_rounds` — число раундов, в которых компания участвовала как инвестор;\n",
    "\n",
    "`funding_rounds` — число раундов, в которых компания привлекала инвестиции;\n",
    "\n",
    "`funding_total` — сумма привлечённых инвестиций в долларах;\n",
    "\n",
    "`milestones` — количество важных этапов в истории компании;\n",
    "\n",
    "`created_at` — дата и время создания записи в таблице;\n",
    "\n",
    "`updated_at` — дата и время обновления записи в таблице.\n",
    "\n",
    "**education**\n",
    "\n",
    "Хранит информацию об уровне образования сотрудников компаний.\n",
    "\n",
    "первичный ключ \n",
    "`id` — уникальный номер записи с информацией об образовании;\n",
    "внешний ключ\n",
    "\n",
    "`person_id` — ссылается на таблицу people — идентификатор человека, информация о котором представлена в записи;\n",
    "\n",
    "`degree_type` — учебная степень, например:\n",
    "\n",
    "- BA — Bachelor of Arts — бакалавр гуманитарных наук;\n",
    "- MS — Master of Science — магистр естественных наук.\n",
    "\n",
    "`instituition `— учебное заведение, название университета;\n",
    "\n",
    "`graduated_at` — дата завершения обучения, выпуска;\n",
    "\n",
    "`created_at` — дата и время создания записи в таблице;\n",
    "\n",
    "`updated_at` — дата и время обновления записи в таблице.\n",
    "\n",
    "**fund**\n",
    "\n",
    "Хранит информацию о венчурных фондах.\n",
    "\n",
    "первичный ключ `id `— уникальный номер венчурного фонда;\n",
    "\n",
    "`name` — название венчурного фонда;\n",
    "\n",
    "`founded_at` — дата основания фонда;\n",
    "\n",
    "`domain` — домен сайта фонда;\n",
    "\n",
    "`twitter_username` — профиль фонда в твиттере;\n",
    "\n",
    "`country_code` — код страны фонда;\n",
    "\n",
    "`investment_rounds` — число инвестиционных раундов, в которых фонд принимал участие;\n",
    "\n",
    "`invested_companies` — число компаний, в которые инвестировал фонд;\n",
    "\n",
    "`milestones` — количество важных этапов в истории фонда;\n",
    "\n",
    "`created_at` — дата и время создания записи в таблице;\n",
    "\n",
    "`updated_at` — дата и время обновления записи в таблице.\n",
    "\n",
    "**funding_round**\n",
    "\n",
    "Содержит информацию о раундах инвестиций.\n",
    "\n",
    "первичный ключ `id` — уникальный номер инвестиционного раунда;\n",
    "\n",
    "внешний ключ `company_id `— ссылается на таблицу company — уникальный номер компании, участвовавшей в инвестиционном раунде;\n",
    "\n",
    "`funded_at` — дата проведения раунда;\n",
    "\n",
    "`funding_round_type` — тип инвестиционного раунда, например:\n",
    "\n",
    "- venture — венчурный раунд;\n",
    "- angel — ангельский раунд;\n",
    "- series_a — раунд А.\n",
    "`raised_amount` — сумма инвестиций, которую привлекла компания в этом раунде в долларах;\n",
    "\n",
    "`pre_money_valuation` — предварительная, проведённая до инвестиций оценка стоимости компании в долларах;\n",
    "\n",
    "`participants `— количество участников инвестиционного раунда;\n",
    "\n",
    "`is_first_round` — является ли этот раунд первым для компании;\n",
    "\n",
    "`is_last_round` — является ли этот раунд последним для компании;\n",
    "\n",
    "`created_at` — дата и время создания записи в таблице;\n",
    "\n",
    "`updated_at` — дата и время обновления записи в таблице.\n",
    "\n",
    "**investment**\n",
    "\n",
    "Содержит информацию об инвестициях венчурных фондов в компании-стартапы.\n",
    "\n",
    "первичный ключ `id `— уникальный номер инвестиции;\n",
    "\n",
    "внешний ключ `funding_round_id` — ссылается на таблицу funding_round — уникальный номер раунда инвестиции;\n",
    "\n",
    "внешний ключ `company_id` — ссылается на таблицу company — уникальный номер компании-стартапа, в которую инвестируют;\n",
    "\n",
    "внешний ключ `fund_id `— ссылается на таблицу fund — уникальный номер фонда, инвестирующего в компанию-стартап;\n",
    "\n",
    "`created_at `— дата и время создания записи в таблице;\n",
    "\n",
    "`updated_at` — дата и время обновления записи в таблице.\n",
    "\n",
    "**people**\n",
    "\n",
    "Содержит информацию о сотрудниках компаний-стартапов.\n",
    "\n",
    "первичный ключ `id` — уникальный номер сотрудника;\n",
    "\n",
    "`first_name` — имя сотрудника;\n",
    "\n",
    "`last_name` — фамилия сотрудника;\n",
    "\n",
    "внешний ключ` company_id` — ссылается на таблицу company — уникальный номер компании-стартапа;\n",
    "\n",
    "`twitter_username `— профиль сотрудника в твиттере;\n",
    "\n",
    "`created_at` — дата и время создания записи в таблице;\n",
    "\n",
    "`updated_at` — дата и время обновления записи в таблице.\n"
   ]
  },
  {
   "cell_type": "markdown",
   "id": "73fb1457",
   "metadata": {},
   "source": [
    "## Задача 1.\n",
    "Посчитайте, сколько компаний закрылось."
   ]
  },
  {
   "cell_type": "raw",
   "id": "d86c8360",
   "metadata": {},
   "source": [
    "SELECT COUNT(status)\n",
    "FROM company\n",
    "WHERE status LIKE '%close%';"
   ]
  },
  {
   "cell_type": "markdown",
   "id": "4db049e7",
   "metadata": {},
   "source": [
    "## Задача 2.\n",
    "Отобразите количество привлечённых средств для новостных компаний США. Используйте данные из таблицы company. Отсортируйте таблицу по убыванию значений в поле funding_total ."
   ]
  },
  {
   "cell_type": "raw",
   "id": "82e8d60f",
   "metadata": {},
   "source": [
    "SELECT funding_total\n",
    "FROM company\n",
    "WHERE country_code = 'USA'\n",
    "AND category_code = 'news'\n",
    "ORDER BY 1 DESC;"
   ]
  },
  {
   "cell_type": "markdown",
   "id": "d8059f85",
   "metadata": {},
   "source": [
    "## Задача 3.\n",
    "Найдите общую сумму сделок по покупке одних компаний другими в долларах. Отберите сделки, которые осуществлялись только за наличные с 2011 по 2013 год включительно."
   ]
  },
  {
   "cell_type": "raw",
   "id": "638a02db",
   "metadata": {},
   "source": [
    "SELECT SUM(price_amount)\n",
    "FROM acquisition\n",
    "WHERE term_code = 'cash'\n",
    "AND EXTRACT(YEAR FROM acquired_at::DATE) IN (2011, 2012, 2013);"
   ]
  },
  {
   "cell_type": "markdown",
   "id": "85bf2606",
   "metadata": {},
   "source": [
    "## Задача 4.\n",
    "Отобразите имя, фамилию и названия аккаунтов людей в твиттере, у которых названия аккаунтов начинаются на 'Silver'."
   ]
  },
  {
   "cell_type": "raw",
   "id": "e5ec2ce1",
   "metadata": {},
   "source": [
    "SELECT first_name,\n",
    "        last_name,\n",
    "        twitter_username\n",
    "FROM people\n",
    "WHERE twitter_username LIKE 'Silver%'\n",
    "LIMIT 10;"
   ]
  },
  {
   "cell_type": "markdown",
   "id": "b98d71a4",
   "metadata": {},
   "source": [
    "## Задача 5.\n",
    "Выведите на экран всю информацию о людях, у которых названия аккаунтов в твиттере содержат подстроку 'money', а фамилия начинается на 'K'."
   ]
  },
  {
   "cell_type": "raw",
   "id": "121ed713",
   "metadata": {},
   "source": [
    "SELECT *\n",
    "FROM people\n",
    "WHERE twitter_username LIKE '%money%'\n",
    "AND last_name LIKE 'K%'\n",
    "LIMIT 10;"
   ]
  },
  {
   "cell_type": "markdown",
   "id": "7f3c20ea",
   "metadata": {},
   "source": [
    "## Задача 6.\n",
    "Для каждой страны отобразите общую сумму привлечённых инвестиций, которые получили компании, зарегистрированные в этой стране. Страну, в которой зарегистрирована компания, можно определить по коду страны. Отсортируйте данные по убыванию суммы."
   ]
  },
  {
   "cell_type": "raw",
   "id": "665aed03",
   "metadata": {},
   "source": [
    "SELECT country_code,\n",
    "SUM(funding_total)\n",
    "FROM company\n",
    "GROUP BY 1\n",
    "ORDER BY 2 DESC\n",
    ";"
   ]
  },
  {
   "cell_type": "markdown",
   "id": "67e1fa87",
   "metadata": {},
   "source": [
    "## Задача 7.\n",
    "Составьте таблицу, в которую войдёт дата проведения раунда, а также минимальное и максимальное значения суммы инвестиций, привлечённых в эту дату.\n",
    "Оставьте в итоговой таблице только те записи, в которых минимальное значение суммы инвестиций не равно нулю и не равно максимальному значению."
   ]
  },
  {
   "cell_type": "raw",
   "id": "5cdad9b3",
   "metadata": {},
   "source": [
    "SELECT DISTINCT funded_at,\n",
    "MIN(raised_amount),\n",
    "MAX(raised_amount)\n",
    "FROM funding_round\n",
    "GROUP BY 1\n",
    "HAVING MIN(raised_amount) <> MAX(raised_amount)\n",
    "        AND MIN(raised_amount) <> 0\n",
    ";"
   ]
  },
  {
   "cell_type": "markdown",
   "id": "8e9d1ab5",
   "metadata": {},
   "source": [
    "## Задача 8.\n",
    "Создайте поле с категориями:\n",
    "Для фондов, которые инвестируют в 100 и более компаний, назначьте категорию high_activity.\n",
    "Для фондов, которые инвестируют в 20 и более компаний до 100, назначьте категорию middle_activity.\n",
    "Если количество инвестируемых компаний фонда не достигает 20, назначьте категорию low_activity.\n",
    "Отобразите все поля таблицы fund и новое поле с категориями."
   ]
  },
  {
   "cell_type": "raw",
   "id": "e015dc9f",
   "metadata": {},
   "source": [
    "SELECT *,\n",
    "    CASE\n",
    "        WHEN invested_companies < 20 THEN 'low_activity'\n",
    "        WHEN invested_companies < 100 THEN 'middle_activity'\n",
    "        ELSE 'high_activity'\n",
    "     END\n",
    "FROM fund;"
   ]
  },
  {
   "cell_type": "markdown",
   "id": "a2e04bf3",
   "metadata": {},
   "source": [
    "## Задача 9.\n",
    "Для каждой из категорий, назначенных в предыдущем задании, посчитайте округлённое до ближайшего целого числа среднее количество инвестиционных раундов, в которых фонд принимал участие. Выведите на экран категории и среднее число инвестиционных раундов. Отсортируйте таблицу по возрастанию среднего."
   ]
  },
  {
   "cell_type": "raw",
   "id": "5a8dec63",
   "metadata": {},
   "source": [
    "SELECT activity, \n",
    "        ROUND(AVG(investment_rounds)) AS avg_round\n",
    "FROM (\n",
    "    SELECT *,\n",
    "       CASE\n",
    "           WHEN invested_companies>=100 THEN 'high_activity'\n",
    "           WHEN invested_companies>=20 THEN 'middle_activity'\n",
    "           ELSE 'low_activity'\n",
    "       END AS activity\n",
    "FROM fund) a\n",
    "GROUP BY 1\n",
    "ORDER BY avg_round;"
   ]
  },
  {
   "cell_type": "markdown",
   "id": "4b3e15f6",
   "metadata": {},
   "source": [
    "## Задача10.\n",
    "Выгрузите таблицу с десятью самыми активными инвестирующими странами. Активность страны определите по среднему количеству компаний, в которые инвестируют фонды этой страны.\n",
    "Для каждой страны посчитайте минимальное, максимальное и среднее число компаний, в которые инвестировали фонды, основанные с 2010 по 2012 год включительно.\n",
    "Исключите из таблицы страны с фондами, у которых минимальное число компаний, получивших инвестиции, равно нулю. Отсортируйте таблицу по среднему количеству компаний от большего к меньшему.\n",
    "Для фильтрации диапазона по годам используйте оператор BETWEEN."
   ]
  },
  {
   "cell_type": "raw",
   "id": "0e7c9d68",
   "metadata": {},
   "source": [
    "SELECT country_code,\n",
    "        MIN(invested_companies),\n",
    "        MAX(invested_companies),\n",
    "        AVG(invested_companies)\n",
    "FROM fund\n",
    "WHERE EXTRACT(YEAR FROM founded_at::DATE) BETWEEN 2010 AND 2012\n",
    "GROUP BY 1\n",
    "HAVING MIN(invested_companies) <> 0\n",
    "ORDER BY 4 DESC\n",
    "LIMIT 10\n",
    ";"
   ]
  },
  {
   "cell_type": "markdown",
   "id": "7c68d6e6",
   "metadata": {},
   "source": [
    "## Задача 11.\n",
    "Отобразите имя и фамилию всех сотрудников стартапов. Добавьте поле с названием учебного заведения, которое окончил сотрудник, если эта информация известна."
   ]
  },
  {
   "cell_type": "raw",
   "id": "fa4414a5",
   "metadata": {},
   "source": [
    "SELECT p.first_name,\n",
    "        p.last_name,\n",
    "        e.instituition\n",
    "FROM people p\n",
    "LEFT JOIN education e ON p.id = e.person_id\n",
    ";"
   ]
  },
  {
   "cell_type": "markdown",
   "id": "a26ed608",
   "metadata": {},
   "source": [
    "## Задача 12.\n",
    "Для каждой компании найдите количество учебных заведений, которые окончили её сотрудники. Выведите название компании и число уникальных названий учебных заведений. Составьте топ-5 компаний по количеству университетов."
   ]
  },
  {
   "cell_type": "raw",
   "id": "96dd88af",
   "metadata": {},
   "source": [
    "SELECT c.NAME,\n",
    "        COUNT( DISTINCT e.instituition)\n",
    "FROM company c\n",
    "INNER JOIN people p ON c.id = p.company_id\n",
    "INNER JOIN education e ON p.id = e.person_id\n",
    "GROUP BY 1\n",
    "ORDER BY 2 DESC\n",
    "LIMIT 5;"
   ]
  },
  {
   "cell_type": "markdown",
   "id": "4866e20c",
   "metadata": {},
   "source": [
    "## Задача 13.\n",
    "Составьте список с уникальными названиями закрытых компаний, для которых первый раунд финансирования оказался последним."
   ]
  },
  {
   "cell_type": "raw",
   "id": "3537d940",
   "metadata": {},
   "source": [
    "SELECT  DISTINCT NAME\n",
    "FROM company\n",
    "WHERE status = 'closed'\n",
    "AND id IN (SELECT company_id\n",
    "    FROM funding_round\n",
    "    WHERE is_first_round = 1\n",
    "    AND is_last_round = 1)\n",
    ";"
   ]
  },
  {
   "cell_type": "markdown",
   "id": "afa8bffb",
   "metadata": {},
   "source": [
    "## Задача 14.\n",
    "Составьте список уникальных номеров сотрудников, которые работают в компаниях, отобранных в предыдущем задании."
   ]
  },
  {
   "cell_type": "raw",
   "id": "a810b3c6",
   "metadata": {},
   "source": [
    "SELECT DISTINCT id\n",
    "FROM people\n",
    "WHERE company_id IN (SELECT  DISTINCT id\n",
    "        FROM company\n",
    "        WHERE status = 'closed'\n",
    "        AND id IN (SELECT company_id\n",
    "            FROM funding_round\n",
    "            WHERE is_first_round = 1\n",
    "            AND is_last_round = 1))\n",
    ";"
   ]
  },
  {
   "cell_type": "markdown",
   "id": "62bdffd5",
   "metadata": {},
   "source": [
    "## Задача 15.\n",
    "Составьте таблицу, куда войдут уникальные пары с номерами сотрудников из предыдущей задачи и учебным заведением, которое окончил сотрудник."
   ]
  },
  {
   "cell_type": "raw",
   "id": "8e6a8a63",
   "metadata": {},
   "source": [
    "SELECT DISTINCT person_id,\n",
    "    instituition\n",
    "FROM education\n",
    "WHERE person_id IN (SELECT DISTINCT id\n",
    "        \n",
    "FROM people\n",
    "WHERE company_id IN (SELECT  DISTINCT id\n",
    "        FROM company\n",
    "        WHERE status = 'closed'\n",
    "        AND id IN (SELECT company_id\n",
    "            FROM funding_round\n",
    "            WHERE is_first_round = 1\n",
    "            AND is_last_round = 1)))\n",
    ";"
   ]
  },
  {
   "cell_type": "markdown",
   "id": "e64e644e",
   "metadata": {},
   "source": [
    "## Задача 16.\n",
    "Посчитайте количество учебных заведений для каждого сотрудника из предыдущего задания."
   ]
  },
  {
   "cell_type": "raw",
   "id": "5fbe7e1b",
   "metadata": {},
   "source": [
    "SELECT DISTINCT person_id,\n",
    "    COUNT(instituition)\n",
    "FROM education\n",
    "WHERE person_id IN (SELECT DISTINCT id\n",
    "        \n",
    "FROM people\n",
    "WHERE company_id IN (SELECT  DISTINCT id\n",
    "        FROM company\n",
    "        WHERE status = 'closed'\n",
    "        AND id IN (SELECT company_id\n",
    "            FROM funding_round\n",
    "            WHERE is_first_round = 1\n",
    "            AND is_last_round = 1)))           \n",
    "GROUP BY 1\n",
    ";"
   ]
  },
  {
   "cell_type": "markdown",
   "id": "6cee47b3",
   "metadata": {},
   "source": [
    "## Задача 17.\n",
    "Дополните предыдущий запрос и выведите среднее число учебных заведений, которые окончили сотрудники разных компаний. Нужно вывести только одну запись, группировка здесь не понадобится."
   ]
  },
  {
   "cell_type": "raw",
   "id": "8759c63d",
   "metadata": {},
   "source": [
    "SELECT AVG(count)\n",
    "FROM (\n",
    " \n",
    "SELECT DISTINCT person_id,\n",
    "    COUNT(instituition)\n",
    "FROM education\n",
    "WHERE person_id IN (SELECT DISTINCT id\n",
    "        \n",
    "FROM people\n",
    "WHERE company_id IN (SELECT  DISTINCT id\n",
    "        FROM company\n",
    "        WHERE status = 'closed'\n",
    "        AND id IN (SELECT company_id\n",
    "            FROM funding_round\n",
    "            WHERE is_first_round = 1\n",
    "            AND is_last_round = 1)))           \n",
    "GROUP BY 1\n",
    ") a;"
   ]
  },
  {
   "cell_type": "markdown",
   "id": "d2a10d71",
   "metadata": {},
   "source": [
    "## Задача 18.\n",
    "Напишите похожий запрос: выведите среднее число учебных заведений, которые окончили сотрудники компании Facebook."
   ]
  },
  {
   "cell_type": "raw",
   "id": "e04bfd0b",
   "metadata": {},
   "source": [
    "SELECT AVG(count)\n",
    "FROM (\n",
    "SELECT DISTINCT person_id,\n",
    "    COUNT(instituition)\n",
    "FROM education\n",
    "WHERE person_id IN (SELECT DISTINCT id\n",
    "        \n",
    "FROM people\n",
    "WHERE company_id IN (SELECT  DISTINCT id\n",
    "        FROM company\n",
    "        WHERE NAME = 'Facebook'\n",
    "        ))           \n",
    "GROUP BY 1\n",
    ") a;"
   ]
  },
  {
   "cell_type": "markdown",
   "id": "13bf8a80",
   "metadata": {},
   "source": [
    "## Задача 19.\n",
    "Составьте таблицу из полей:\n",
    "name_of_fund — название фонда;\n",
    "name_of_company — название компании;\n",
    "amount — сумма инвестиций, которую привлекла компания в раунде.\n",
    "В таблицу войдут данные о компаниях, в истории которых было больше шести важных этапов, а раунды финансирования проходили с 2012 по 2013 год включительно."
   ]
  },
  {
   "cell_type": "raw",
   "id": "682ba705",
   "metadata": {},
   "source": [
    "SELECT f.NAME AS name_of_fund,\n",
    "        c.NAME AS name_of_company,\n",
    "        fr.raised_amount AS amount\n",
    "FROM investment i\n",
    "LEFT JOIN company c ON i.company_id = c.id\n",
    "LEFT JOIN fund f ON f.id = i.fund_id\n",
    "INNER JOIN funding_round fr ON fr.id = i.funding_round_id\n",
    "WHERE c.milestones > 6\n",
    "AND EXTRACT(YEAR FROM fr.funded_at::DATE) BETWEEN 2012 AND 2013\n",
    ";"
   ]
  },
  {
   "cell_type": "markdown",
   "id": "2e4d1ae9",
   "metadata": {},
   "source": [
    "## Задача 20.\n",
    "Выгрузите таблицу, в которой будут такие поля:\n",
    "название компании-покупателя;\n",
    "сумма сделки;\n",
    "название компании, которую купили;\n",
    "сумма инвестиций, вложенных в купленную компанию;\n",
    "доля, которая отображает, во сколько раз сумма покупки превысила сумму вложенных в компанию инвестиций, округлённая до ближайшего целого числа.\n",
    "\n",
    "Не учитывайте те сделки, в которых сумма покупки равна нулю. Если сумма инвестиций в компанию равна нулю, исключите такую компанию из таблицы.\n",
    "Отсортируйте таблицу по сумме сделки от большей к меньшей, а затем по названию купленной компании в алфавитном порядке. Ограничьте таблицу первыми десятью записями."
   ]
  },
  {
   "cell_type": "raw",
   "id": "02833d18",
   "metadata": {},
   "source": [
    "WITH\n",
    "pk AS (SELECT\n",
    "    a.id,\n",
    "    c.NAME AS pokupatel,\n",
    "    a.acquiring_company_id,\n",
    "    a.price_amount\n",
    "FROM acquisition a INNER JOIN company c ON a.acquiring_company_id = c.id\n",
    "WHERE price_amount <> 0),\n",
    " \n",
    "pr AS (SELECT\n",
    "    a.id,\n",
    "    c.NAME AS prodavec,\n",
    "    a.acquired_company_id,\n",
    "    c.funding_total\n",
    "FROM acquisition a INNER JOIN company c ON c.id = a.acquired_company_id\n",
    "WHERE funding_total <> 0)\n",
    " \n",
    "SELECT\n",
    "    pokupatel,\n",
    "    price_amount,\n",
    "    prodavec,\n",
    "    funding_total,\n",
    "    ROUND(price_amount/funding_total)\n",
    "FROM pk INNER JOIN pr using(id)\n",
    "ORDER BY 2 DESC, 3\n",
    "LIMIT 10  \n",
    ";"
   ]
  },
  {
   "cell_type": "markdown",
   "id": "7152f41e",
   "metadata": {},
   "source": [
    "## Задача 21.\n",
    "Выгрузите таблицу, в которую войдут названия компаний из категории social, получившие финансирование с 2010 по 2013 год. Выведите также номер месяца, в котором проходил раунд финансирования."
   ]
  },
  {
   "cell_type": "raw",
   "id": "2fc0fa19",
   "metadata": {},
   "source": [
    "SELECT\n",
    "    c.NAME,\n",
    "    EXTRACT(MONTH FROM funded_at::DATE) AS mon\n",
    "FROM company c\n",
    "INNER JOIN funding_round fr ON c.id = fr.company_id\n",
    "WHERE category_code = 'social'\n",
    "AND EXTRACT(YEAR FROM funded_at::DATE) BETWEEN 2010 AND 2013\n",
    ";"
   ]
  },
  {
   "cell_type": "markdown",
   "id": "e0afa260",
   "metadata": {},
   "source": [
    "## Задача 22.\n",
    "Отберите данные по месяцам с 2010 по 2013 год, когда проходили инвестиционные раунды. Сгруппируйте данные по номеру месяца и получите таблицу, в которой будут поля:\n",
    "- номер месяца, в котором проходили раунды;\n",
    "- количество уникальных названий фондов из США, которые инвестировали в этом месяце;\n",
    "- количество компаний, купленных за этот месяц;\n",
    "- общая сумма сделок по покупкам в этом месяце."
   ]
  },
  {
   "cell_type": "raw",
   "id": "d2ecf2b5",
   "metadata": {},
   "source": [
    "WITH\n",
    "    f AS (SELECT\n",
    "              EXTRACT(MONTH FROM funded_at) AS mon,\n",
    "              COUNT(DISTINCT NAME) AS funds\n",
    "         FROM fund f \n",
    "              INNER JOIN investment i ON f.id = i.fund_id\n",
    "              INNER JOIN funding_round fr ON i.funding_round_id = fr.id\n",
    "         WHERE EXTRACT(YEAR FROM funded_at) BETWEEN 2010 AND 2013\n",
    "             AND country_code = 'USA'\n",
    "         GROUP BY 1 ),\n",
    "         \n",
    "    a AS (SELECT \n",
    "              EXTRACT(MONTH FROM acquired_at) AS mon,\n",
    "              COUNT(acquired_company_id) AS com,\n",
    "              SUM(price_amount) AS summ\n",
    "        FROM acquisition\n",
    "        WHERE EXTRACT(YEAR FROM acquired_at) BETWEEN 2010 AND 2013\n",
    "        GROUP BY 1)\n",
    "    \n",
    "SELECT f.mon,\n",
    "        funds,\n",
    "        com,\n",
    "        summ\n",
    "FROM f INNER JOIN a ON f.mon = a.mon\n",
    " \n",
    "GROUP BY 1,2,3,4\n",
    ";"
   ]
  },
  {
   "cell_type": "markdown",
   "id": "bac5dc27",
   "metadata": {},
   "source": [
    "## Задача 23.\n",
    "Составьте сводную таблицу и выведите среднюю сумму инвестиций для стран, в которых есть стартапы, зарегистрированные в 2011, 2012 и 2013 годах. Данные за каждый год должны быть в отдельном поле. Отсортируйте таблицу по среднему значению инвестиций за 2011 год от большего к меньшему."
   ]
  },
  {
   "cell_type": "raw",
   "id": "91992eb5",
   "metadata": {},
   "source": [
    "    \n",
    "WITH\n",
    "s1 AS \n",
    " \n",
    "    (SELECT \n",
    "        country_code,\n",
    "        AVG(funding_total) AS s_2011\n",
    "    FROM company\n",
    "    WHERE EXTRACT(YEAR FROM founded_at) = 2011\n",
    "    GROUP BY 1),\n",
    " \n",
    "s2 AS \n",
    "    (SELECT \n",
    "        country_code,\n",
    "        AVG(funding_total) AS s_2012\n",
    "    FROM company\n",
    "    WHERE EXTRACT(YEAR FROM founded_at) = 2012\n",
    "    GROUP BY 1),\n",
    "    \n",
    "s3 AS \n",
    "    (SELECT \n",
    "        country_code,\n",
    "        AVG(funding_total) AS s_2013\n",
    "    FROM company\n",
    "    WHERE EXTRACT(YEAR FROM founded_at) = 2013\n",
    "    GROUP BY 1)\n",
    "    \n",
    "SELECT\n",
    "    country_code,\n",
    "    AVG(s_2011) AS avg_2011,\n",
    "    AVG(s_2012) AS avg_2012,\n",
    "    AVG(s_2013) AS avg_2013\n",
    "FROM s1\n",
    "FULL JOIN s2 using(country_code)\n",
    "FULL JOIN s3 using(country_code)\n",
    " \n",
    "WHERE country_code IN (\n",
    "            SELECT DISTINCT country_code\n",
    "            FROM company\n",
    "            WHERE EXTRACT(YEAR FROM founded_at ) BETWEEN 2011 AND 2013\n",
    "            )\n",
    " \n",
    "GROUP BY 1\n",
    "HAVING  AVG(s_2011) IS NOT NULL\n",
    "AND AVG(s_2012) IS NOT NULL\n",
    "AND AVG(s_2013) IS NOT NULL\n",
    " \n",
    "ORDER BY 2 DESC\n",
    " \n",
    ";"
   ]
  }
 ],
 "metadata": {
  "kernelspec": {
   "display_name": "Python 3.10.0 64-bit",
   "language": "python",
   "name": "python3"
  },
  "language_info": {
   "codemirror_mode": {
    "name": "ipython",
    "version": 3
   },
   "file_extension": ".py",
   "mimetype": "text/x-python",
   "name": "python",
   "nbconvert_exporter": "python",
   "pygments_lexer": "ipython3",
   "version": "3.10.0"
  },
  "toc": {
   "base_numbering": "0",
   "nav_menu": {},
   "number_sections": true,
   "sideBar": true,
   "skip_h1_title": true,
   "title_cell": "Table of Contents",
   "title_sidebar": "Contents",
   "toc_cell": false,
   "toc_position": {
    "height": "calc(100% - 180px)",
    "left": "10px",
    "top": "150px",
    "width": "332.4px"
   },
   "toc_section_display": true,
   "toc_window_display": false
  },
  "vscode": {
   "interpreter": {
    "hash": "b63e4dcd76b53c155ef467f71992817cbdca13e9b8ec3f87f3eed17c9b18e69f"
   }
  }
 },
 "nbformat": 4,
 "nbformat_minor": 5
}
