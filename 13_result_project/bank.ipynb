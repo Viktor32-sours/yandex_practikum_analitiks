{
 "cells": [
  {
   "cell_type": "markdown",
   "id": "f5d4705e",
   "metadata": {
    "toc": true
   },
   "source": [
    "<h1>Содержание<span class=\"tocSkip\"></span></h1>\n",
    "<div class=\"toc\"><ul class=\"toc-item\"><li><span><a href=\"#Описание-проекта\" data-toc-modified-id=\"Описание-проекта-1\"><span class=\"toc-item-num\">1&nbsp;&nbsp;</span>Описание проекта</a></span><ul class=\"toc-item\"><li><span><a href=\"#Цель-проекта\" data-toc-modified-id=\"Цель-проекта-1.1\"><span class=\"toc-item-num\">1.1&nbsp;&nbsp;</span>Цель проекта</a></span></li><li><span><a href=\"#Описание-данных\" data-toc-modified-id=\"Описание-данных-1.2\"><span class=\"toc-item-num\">1.2&nbsp;&nbsp;</span>Описание данных</a></span></li></ul></li><li><span><a href=\"#Загрузка-и-предобработка-данных\" data-toc-modified-id=\"Загрузка-и-предобработка-данных-2\"><span class=\"toc-item-num\">2&nbsp;&nbsp;</span>Загрузка и предобработка данных</a></span><ul class=\"toc-item\"><li><span><a href=\"#Импорт-необходимых-модулей\" data-toc-modified-id=\"Импорт-необходимых-модулей-2.1\"><span class=\"toc-item-num\">2.1&nbsp;&nbsp;</span>Импорт необходимых модулей</a></span></li><li><span><a href=\"#Загрузка-данных\" data-toc-modified-id=\"Загрузка-данных-2.2\"><span class=\"toc-item-num\">2.2&nbsp;&nbsp;</span>Загрузка данных</a></span></li><li><span><a href=\"#Предобработка-данных\" data-toc-modified-id=\"Предобработка-данных-2.3\"><span class=\"toc-item-num\">2.3&nbsp;&nbsp;</span>Предобработка данных</a></span><ul class=\"toc-item\"><li><span><a href=\"#Переименовать-при-необходимости-колонки\" data-toc-modified-id=\"Переименовать-при-необходимости-колонки-2.3.1\"><span class=\"toc-item-num\">2.3.1&nbsp;&nbsp;</span>Переименовать при необходимости колонки</a></span></li><li><span><a href=\"#Исследовать-и-заполнить-пропуски\" data-toc-modified-id=\"Исследовать-и-заполнить-пропуски-2.3.2\"><span class=\"toc-item-num\">2.3.2&nbsp;&nbsp;</span>Исследовать и заполнить пропуски</a></span></li><li><span><a href=\"#Исследовать-и-заменить-типы-данных\" data-toc-modified-id=\"Исследовать-и-заменить-типы-данных-2.3.3\"><span class=\"toc-item-num\">2.3.3&nbsp;&nbsp;</span>Исследовать и заменить типы данных</a></span></li><li><span><a href=\"#Исследовать-и-удалить-дубликаты\" data-toc-modified-id=\"Исследовать-и-удалить-дубликаты-2.3.4\"><span class=\"toc-item-num\">2.3.4&nbsp;&nbsp;</span>Исследовать и удалить дубликаты</a></span></li></ul></li></ul></li><li><span><a href=\"#Исследовательский-анализ\" data-toc-modified-id=\"Исследовательский-анализ-3\"><span class=\"toc-item-num\">3&nbsp;&nbsp;</span>Исследовательский анализ</a></span><ul class=\"toc-item\"><li><span><a href=\"#Выясним-какие-факторы-имеют-наибольшее-влияние-на-отток-клиентов\" data-toc-modified-id=\"Выясним-какие-факторы-имеют-наибольшее-влияние-на-отток-клиентов-3.1\"><span class=\"toc-item-num\">3.1&nbsp;&nbsp;</span>Выясним какие факторы имеют наибольшее влияние на отток клиентов</a></span><ul class=\"toc-item\"><li><span><a href=\"#Используем-только-датафрейм,-имеющий-заполненные-значения-balance\" data-toc-modified-id=\"Используем-только-датафрейм,-имеющий-заполненные-значения-balance-3.1.1\"><span class=\"toc-item-num\">3.1.1&nbsp;&nbsp;</span>Используем только датафрейм, имеющий заполненные значения <code>balance</code></a></span></li><li><span><a href=\"#Используем-весь-датафрейм,-пропуски-balance-заполним-нулями\" data-toc-modified-id=\"Используем-весь-датафрейм,-пропуски-balance-заполним-нулями-3.1.2\"><span class=\"toc-item-num\">3.1.2&nbsp;&nbsp;</span>Используем весь датафрейм, пропуски <code>balance</code> заполним нулями</a></span></li></ul></li><li><span><a href=\"#Влияние-количества-продуктов,-используемых-клиентом-на-отток\" data-toc-modified-id=\"Влияние-количества-продуктов,-используемых-клиентом-на-отток-3.2\"><span class=\"toc-item-num\">3.2&nbsp;&nbsp;</span>Влияние количества продуктов, используемых клиентом на отток</a></span></li><li><span><a href=\"#Влияние-возраста-клиентов-на-отток\" data-toc-modified-id=\"Влияние-возраста-клиентов-на-отток-3.3\"><span class=\"toc-item-num\">3.3&nbsp;&nbsp;</span>Влияние возраста клиентов на отток</a></span></li><li><span><a href=\"#Влияние-города-проживания-на-отток\" data-toc-modified-id=\"Влияние-города-проживания-на-отток-3.4\"><span class=\"toc-item-num\">3.4&nbsp;&nbsp;</span>Влияние города проживания на отток</a></span></li><li><span><a href=\"#Влияние-баланса-на-счете-на-отток\" data-toc-modified-id=\"Влияние-баланса-на-счете-на-отток-3.5\"><span class=\"toc-item-num\">3.5&nbsp;&nbsp;</span>Влияние баланса на счете на отток</a></span></li><li><span><a href=\"#Влияние-дохода-клиента-на-отток\" data-toc-modified-id=\"Влияние-дохода-клиента-на-отток-3.6\"><span class=\"toc-item-num\">3.6&nbsp;&nbsp;</span>Влияние дохода клиента на отток</a></span></li><li><span><a href=\"#Сегментирование-пользователей-на-основе-данных-о-количестве-потребляемых-продуктов\" data-toc-modified-id=\"Сегментирование-пользователей-на-основе-данных-о-количестве-потребляемых-продуктов-3.7\"><span class=\"toc-item-num\">3.7&nbsp;&nbsp;</span>Сегментирование пользователей на основе данных о количестве потребляемых продуктов</a></span></li><li><span><a href=\"#Вывод\" data-toc-modified-id=\"Вывод-3.8\"><span class=\"toc-item-num\">3.8&nbsp;&nbsp;</span><strong>Вывод</strong></a></span></li></ul></li><li><span><a href=\"#Проверка-гипотез\" data-toc-modified-id=\"Проверка-гипотез-4\"><span class=\"toc-item-num\">4&nbsp;&nbsp;</span>Проверка гипотез</a></span><ul class=\"toc-item\"><li><span><a href=\"#Формулировка-и-проверка-статистической-гипотезы-1\" data-toc-modified-id=\"Формулировка-и-проверка-статистической-гипотезы-1-4.1\"><span class=\"toc-item-num\">4.1&nbsp;&nbsp;</span>Формулировка и проверка статистической гипотезы 1</a></span></li><li><span><a href=\"#Формулировка-и-проверка-статистической-гипотезы-2\" data-toc-modified-id=\"Формулировка-и-проверка-статистической-гипотезы-2-4.2\"><span class=\"toc-item-num\">4.2&nbsp;&nbsp;</span>Формулировка и проверка статистической гипотезы 2</a></span></li></ul></li><li><span><a href=\"#Выводы-и-рекомендации\" data-toc-modified-id=\"Выводы-и-рекомендации-5\"><span class=\"toc-item-num\">5&nbsp;&nbsp;</span>Выводы и рекомендации</a></span></li></ul></div>"
   ]
  },
  {
   "cell_type": "markdown",
   "id": "908a5563",
   "metadata": {},
   "source": [
    "# Банки — Сегментация пользователей по потреблению"
   ]
  },
  {
   "cell_type": "markdown",
   "id": "f835593e",
   "metadata": {},
   "source": [
    "Материалы\n",
    "\n",
    "[Презентация](https://disk.yandex.ru/i/1h_cFtBtc2aZMQ)\n",
    "\n",
    "[Tableau](https://public.tableau.com/app/profile/vik8632/viz/Bank_16601363230890/Bank?publish=yes)"
   ]
  },
  {
   "cell_type": "markdown",
   "id": "dab9872f",
   "metadata": {},
   "source": [
    "## Описание проекта\n",
    "### Цель проекта\n",
    "\n",
    "В проекте попытаемся сегментировать клиентов на классы, с целью выявления групп клиентов, подверженых наибольшему риску оттока. Зная сегменты риска, руководство банка, по рекомендациям исследования, сможет разработать предложения по удержанию клиентов."
   ]
  },
  {
   "cell_type": "markdown",
   "id": "344f43ac",
   "metadata": {},
   "source": [
    "- Проведение исследовательского анализа данных,\n",
    "- Сегментирование пользователей на основе данных о количестве потребляемых продуктов,\n",
    "- Формулировка и проверка статистических гипотез.\n",
    "    \n",
    "    *Проверьте гипотезу различия дохода между теми клиентами, которые пользуются двумя продуктами банка, и теми, которые пользуются одним.*\n",
    "    \n",
    "    *Сформулируйте и проверьте статистическую гипотезу относительно представленных данных.*"
   ]
  },
  {
   "cell_type": "markdown",
   "id": "32c72be5",
   "metadata": {},
   "source": [
    "### Описание данных\n",
    "Датасет содержит данные о клиентах банка «Метанпром». Банк располагается в Ярославле и областных городах: Ростов Великий и Рыбинск.\n",
    "\n",
    "Колонки:\n",
    "\n",
    "- `userid` — идентификатор пользователя,\n",
    "- `score` — баллы кредитного скоринга,\n",
    "- `City` — город,\n",
    "- `Gender` — пол,\n",
    "- `Age` — возраст,\n",
    "- `Objects` — количество объектов в собственности,\n",
    "- `Balance` — баланс на счёте,\n",
    "- `Products` — количество продуктов, которыми пользуется клиент,\n",
    "- `CreditCard` — есть ли кредитная карта,\n",
    "- `Loyalty` — активный клиент,\n",
    "- `estimated_salary` — заработная плата клиента,\n",
    "- `Churn` — ушёл или нет.\n",
    "\n",
    "[Данные](https://disk.yandex.ru/d/JVAJ9uxtV1uydQ)\n"
   ]
  },
  {
   "cell_type": "markdown",
   "id": "8245635c",
   "metadata": {},
   "source": [
    "## Загрузка и предобработка данных\n",
    "### Импорт необходимых модулей"
   ]
  },
  {
   "cell_type": "code",
   "execution_count": 15,
   "id": "166155f6",
   "metadata": {
    "ExecuteTime": {
     "end_time": "2022-08-09T08:53:12.346965Z",
     "start_time": "2022-08-09T08:53:09.986078Z"
    }
   },
   "outputs": [],
   "source": [
    "import pandas as pd\n",
    "import numpy as np\n",
    "import matplotlib.pyplot as plt\n",
    "import seaborn as sns\n",
    "sns.set(rc={'figure.figsize':(10, 6)})\n",
    "\n",
    "import os\n",
    "import requests\n",
    "from urllib.parse import urlencode\n",
    "import warnings\n",
    "warnings.simplefilter(action='ignore', category=FutureWarning)     \n",
    "warnings.simplefilter(action='ignore', category=UserWarning)     \n",
    "pd.options.mode.chained_assignment = None  # default='warn'\n",
    "\n",
    "from scipy.stats import shapiro as sps\n",
    "from scipy.stats import mannwhitneyu as mnw\n",
    "from scipy.stats import ttest_ind as tti"
   ]
  },
  {
   "cell_type": "markdown",
   "id": "29311d15",
   "metadata": {},
   "source": [
    "### Загрузка данных"
   ]
  },
  {
   "cell_type": "code",
   "execution_count": 16,
   "id": "e81ff52c",
   "metadata": {
    "ExecuteTime": {
     "end_time": "2022-08-09T08:53:12.456075Z",
     "start_time": "2022-08-09T08:53:12.348910Z"
    },
    "scrolled": true
   },
   "outputs": [
    {
     "data": {
      "text/html": [
       "<div>\n",
       "<style scoped>\n",
       "    .dataframe tbody tr th:only-of-type {\n",
       "        vertical-align: middle;\n",
       "    }\n",
       "\n",
       "    .dataframe tbody tr th {\n",
       "        vertical-align: top;\n",
       "    }\n",
       "\n",
       "    .dataframe thead th {\n",
       "        text-align: right;\n",
       "    }\n",
       "</style>\n",
       "<table border=\"1\" class=\"dataframe\">\n",
       "  <thead>\n",
       "    <tr style=\"text-align: right;\">\n",
       "      <th></th>\n",
       "      <th>userid</th>\n",
       "      <th>score</th>\n",
       "      <th>City</th>\n",
       "      <th>Gender</th>\n",
       "      <th>Age</th>\n",
       "      <th>Objects</th>\n",
       "      <th>Balance</th>\n",
       "      <th>Products</th>\n",
       "      <th>CreditCard</th>\n",
       "      <th>Loyalty</th>\n",
       "      <th>estimated_salary</th>\n",
       "      <th>Churn</th>\n",
       "    </tr>\n",
       "  </thead>\n",
       "  <tbody>\n",
       "    <tr>\n",
       "      <th>0</th>\n",
       "      <td>15677338</td>\n",
       "      <td>619</td>\n",
       "      <td>Ярославль</td>\n",
       "      <td>Ж</td>\n",
       "      <td>42</td>\n",
       "      <td>2</td>\n",
       "      <td>NaN</td>\n",
       "      <td>1</td>\n",
       "      <td>1</td>\n",
       "      <td>1</td>\n",
       "      <td>101348.88</td>\n",
       "      <td>1</td>\n",
       "    </tr>\n",
       "    <tr>\n",
       "      <th>1</th>\n",
       "      <td>15690047</td>\n",
       "      <td>608</td>\n",
       "      <td>Рыбинск</td>\n",
       "      <td>Ж</td>\n",
       "      <td>41</td>\n",
       "      <td>1</td>\n",
       "      <td>83807.86</td>\n",
       "      <td>1</td>\n",
       "      <td>0</td>\n",
       "      <td>1</td>\n",
       "      <td>112542.58</td>\n",
       "      <td>0</td>\n",
       "    </tr>\n",
       "    <tr>\n",
       "      <th>2</th>\n",
       "      <td>15662040</td>\n",
       "      <td>502</td>\n",
       "      <td>Ярославль</td>\n",
       "      <td>Ж</td>\n",
       "      <td>42</td>\n",
       "      <td>8</td>\n",
       "      <td>159660.80</td>\n",
       "      <td>3</td>\n",
       "      <td>1</td>\n",
       "      <td>0</td>\n",
       "      <td>113931.57</td>\n",
       "      <td>1</td>\n",
       "    </tr>\n",
       "    <tr>\n",
       "      <th>3</th>\n",
       "      <td>15744090</td>\n",
       "      <td>699</td>\n",
       "      <td>Ярославль</td>\n",
       "      <td>Ж</td>\n",
       "      <td>39</td>\n",
       "      <td>1</td>\n",
       "      <td>NaN</td>\n",
       "      <td>2</td>\n",
       "      <td>0</td>\n",
       "      <td>0</td>\n",
       "      <td>93826.63</td>\n",
       "      <td>0</td>\n",
       "    </tr>\n",
       "    <tr>\n",
       "      <th>4</th>\n",
       "      <td>15780624</td>\n",
       "      <td>850</td>\n",
       "      <td>Рыбинск</td>\n",
       "      <td>Ж</td>\n",
       "      <td>43</td>\n",
       "      <td>2</td>\n",
       "      <td>125510.82</td>\n",
       "      <td>1</td>\n",
       "      <td>1</td>\n",
       "      <td>1</td>\n",
       "      <td>79084.10</td>\n",
       "      <td>0</td>\n",
       "    </tr>\n",
       "  </tbody>\n",
       "</table>\n",
       "</div>"
      ],
      "text/plain": [
       "     userid  score       City Gender  Age  Objects    Balance  Products  \\\n",
       "0  15677338    619  Ярославль      Ж   42        2        NaN         1   \n",
       "1  15690047    608    Рыбинск      Ж   41        1   83807.86         1   \n",
       "2  15662040    502  Ярославль      Ж   42        8  159660.80         3   \n",
       "3  15744090    699  Ярославль      Ж   39        1        NaN         2   \n",
       "4  15780624    850    Рыбинск      Ж   43        2  125510.82         1   \n",
       "\n",
       "   CreditCard  Loyalty  estimated_salary  Churn  \n",
       "0           1        1         101348.88      1  \n",
       "1           0        1         112542.58      0  \n",
       "2           1        0         113931.57      1  \n",
       "3           0        0          93826.63      0  \n",
       "4           1        1          79084.10      0  "
      ]
     },
     "execution_count": 16,
     "metadata": {},
     "output_type": "execute_result"
    }
   ],
   "source": [
    "# загружаем с яндекс-диска файл по предоставленой ссылке\n",
    "\n",
    "base_url = 'https://cloud-api.yandex.net/v1/disk/public/resources/download?'\n",
    "public_key = 'https://disk.yandex.ru/d/JVAJ9uxtV1uydQ'  # Предоставленная ссылка\n",
    "\n",
    "if os.path.exists('bank_dataset.csv'):\n",
    "    bank = pd.read_csv('bank_dataset.csv')\n",
    "\n",
    "else:\n",
    "    # Получаем загрузочную ссылку\n",
    "    final_url = base_url + urlencode(dict(public_key=public_key))\n",
    "    response = requests.get(final_url)\n",
    "    download_url = response.json()['href']\n",
    "    \n",
    "    # Загружаем файл и сохраняем его\n",
    "    download_response = requests.get(download_url)\n",
    "    with open('datasets/bank_dataset.csv', 'wb') as f:   # Здесь укажем нужный путь к файлу\n",
    "        f.write(download_response.content)\n",
    "    \n",
    "    bank = pd.read_csv('datasets/bank_dataset.csv')\n",
    "    \n",
    "bank.head()"
   ]
  },
  {
   "cell_type": "markdown",
   "id": "3fb45a3b",
   "metadata": {},
   "source": [
    "Данные загружены, изучим общую информацию и проведеи предобработку."
   ]
  },
  {
   "cell_type": "markdown",
   "id": "816a27d6",
   "metadata": {},
   "source": [
    "### Предобработка данных"
   ]
  },
  {
   "cell_type": "markdown",
   "id": "deb3b7c3",
   "metadata": {},
   "source": [
    "#### Переименовать при необходимости колонки"
   ]
  },
  {
   "cell_type": "markdown",
   "id": "a737e727",
   "metadata": {},
   "source": [
    "Изучим общую информацию датасета"
   ]
  },
  {
   "cell_type": "code",
   "execution_count": 17,
   "id": "ed3fba18",
   "metadata": {
    "ExecuteTime": {
     "end_time": "2022-08-09T08:53:12.502761Z",
     "start_time": "2022-08-09T08:53:12.462063Z"
    }
   },
   "outputs": [
    {
     "name": "stdout",
     "output_type": "stream",
     "text": [
      "<class 'pandas.core.frame.DataFrame'>\n",
      "RangeIndex: 10000 entries, 0 to 9999\n",
      "Data columns (total 12 columns):\n",
      " #   Column            Non-Null Count  Dtype  \n",
      "---  ------            --------------  -----  \n",
      " 0   userid            10000 non-null  int64  \n",
      " 1   score             10000 non-null  int64  \n",
      " 2   City              10000 non-null  object \n",
      " 3   Gender            10000 non-null  object \n",
      " 4   Age               10000 non-null  int64  \n",
      " 5   Objects           10000 non-null  int64  \n",
      " 6   Balance           6383 non-null   float64\n",
      " 7   Products          10000 non-null  int64  \n",
      " 8   CreditCard        10000 non-null  int64  \n",
      " 9   Loyalty           10000 non-null  int64  \n",
      " 10  estimated_salary  10000 non-null  float64\n",
      " 11  Churn             10000 non-null  int64  \n",
      "dtypes: float64(2), int64(8), object(2)\n",
      "memory usage: 937.6+ KB\n"
     ]
    }
   ],
   "source": [
    "# общая информация\n",
    "bank.info()"
   ]
  },
  {
   "cell_type": "code",
   "execution_count": 18,
   "id": "fa9ef575",
   "metadata": {
    "ExecuteTime": {
     "end_time": "2022-08-09T08:53:12.659856Z",
     "start_time": "2022-08-09T08:53:12.505752Z"
    },
    "scrolled": false
   },
   "outputs": [
    {
     "data": {
      "text/html": [
       "<div>\n",
       "<style scoped>\n",
       "    .dataframe tbody tr th:only-of-type {\n",
       "        vertical-align: middle;\n",
       "    }\n",
       "\n",
       "    .dataframe tbody tr th {\n",
       "        vertical-align: top;\n",
       "    }\n",
       "\n",
       "    .dataframe thead th {\n",
       "        text-align: right;\n",
       "    }\n",
       "</style>\n",
       "<table border=\"1\" class=\"dataframe\">\n",
       "  <thead>\n",
       "    <tr style=\"text-align: right;\">\n",
       "      <th></th>\n",
       "      <th>count</th>\n",
       "      <th>unique</th>\n",
       "      <th>top</th>\n",
       "      <th>freq</th>\n",
       "      <th>mean</th>\n",
       "      <th>std</th>\n",
       "      <th>min</th>\n",
       "      <th>25%</th>\n",
       "      <th>50%</th>\n",
       "      <th>75%</th>\n",
       "      <th>max</th>\n",
       "    </tr>\n",
       "  </thead>\n",
       "  <tbody>\n",
       "    <tr>\n",
       "      <th>userid</th>\n",
       "      <td>10000.0</td>\n",
       "      <td>NaN</td>\n",
       "      <td>NaN</td>\n",
       "      <td>NaN</td>\n",
       "      <td>15733676.5694</td>\n",
       "      <td>71936.186123</td>\n",
       "      <td>15608437.0</td>\n",
       "      <td>15671264.25</td>\n",
       "      <td>15733474.0</td>\n",
       "      <td>15795969.75</td>\n",
       "      <td>15858426.0</td>\n",
       "    </tr>\n",
       "    <tr>\n",
       "      <th>score</th>\n",
       "      <td>10000.0</td>\n",
       "      <td>NaN</td>\n",
       "      <td>NaN</td>\n",
       "      <td>NaN</td>\n",
       "      <td>650.5288</td>\n",
       "      <td>96.653299</td>\n",
       "      <td>350.0</td>\n",
       "      <td>584.0</td>\n",
       "      <td>652.0</td>\n",
       "      <td>718.0</td>\n",
       "      <td>850.0</td>\n",
       "    </tr>\n",
       "    <tr>\n",
       "      <th>City</th>\n",
       "      <td>10000</td>\n",
       "      <td>3</td>\n",
       "      <td>Ярославль</td>\n",
       "      <td>5014</td>\n",
       "      <td>NaN</td>\n",
       "      <td>NaN</td>\n",
       "      <td>NaN</td>\n",
       "      <td>NaN</td>\n",
       "      <td>NaN</td>\n",
       "      <td>NaN</td>\n",
       "      <td>NaN</td>\n",
       "    </tr>\n",
       "    <tr>\n",
       "      <th>Gender</th>\n",
       "      <td>10000</td>\n",
       "      <td>2</td>\n",
       "      <td>М</td>\n",
       "      <td>5457</td>\n",
       "      <td>NaN</td>\n",
       "      <td>NaN</td>\n",
       "      <td>NaN</td>\n",
       "      <td>NaN</td>\n",
       "      <td>NaN</td>\n",
       "      <td>NaN</td>\n",
       "      <td>NaN</td>\n",
       "    </tr>\n",
       "    <tr>\n",
       "      <th>Age</th>\n",
       "      <td>10000.0</td>\n",
       "      <td>NaN</td>\n",
       "      <td>NaN</td>\n",
       "      <td>NaN</td>\n",
       "      <td>38.9218</td>\n",
       "      <td>10.487806</td>\n",
       "      <td>18.0</td>\n",
       "      <td>32.0</td>\n",
       "      <td>37.0</td>\n",
       "      <td>44.0</td>\n",
       "      <td>92.0</td>\n",
       "    </tr>\n",
       "    <tr>\n",
       "      <th>Objects</th>\n",
       "      <td>10000.0</td>\n",
       "      <td>NaN</td>\n",
       "      <td>NaN</td>\n",
       "      <td>NaN</td>\n",
       "      <td>5.0128</td>\n",
       "      <td>2.892174</td>\n",
       "      <td>0.0</td>\n",
       "      <td>3.0</td>\n",
       "      <td>5.0</td>\n",
       "      <td>7.0</td>\n",
       "      <td>10.0</td>\n",
       "    </tr>\n",
       "    <tr>\n",
       "      <th>Balance</th>\n",
       "      <td>6383.0</td>\n",
       "      <td>NaN</td>\n",
       "      <td>NaN</td>\n",
       "      <td>NaN</td>\n",
       "      <td>119827.493793</td>\n",
       "      <td>30095.056462</td>\n",
       "      <td>3768.69</td>\n",
       "      <td>100181.975</td>\n",
       "      <td>119839.69</td>\n",
       "      <td>139512.29</td>\n",
       "      <td>250898.09</td>\n",
       "    </tr>\n",
       "    <tr>\n",
       "      <th>Products</th>\n",
       "      <td>10000.0</td>\n",
       "      <td>NaN</td>\n",
       "      <td>NaN</td>\n",
       "      <td>NaN</td>\n",
       "      <td>1.5302</td>\n",
       "      <td>0.581654</td>\n",
       "      <td>1.0</td>\n",
       "      <td>1.0</td>\n",
       "      <td>1.0</td>\n",
       "      <td>2.0</td>\n",
       "      <td>4.0</td>\n",
       "    </tr>\n",
       "    <tr>\n",
       "      <th>CreditCard</th>\n",
       "      <td>10000.0</td>\n",
       "      <td>NaN</td>\n",
       "      <td>NaN</td>\n",
       "      <td>NaN</td>\n",
       "      <td>0.7055</td>\n",
       "      <td>0.45584</td>\n",
       "      <td>0.0</td>\n",
       "      <td>0.0</td>\n",
       "      <td>1.0</td>\n",
       "      <td>1.0</td>\n",
       "      <td>1.0</td>\n",
       "    </tr>\n",
       "    <tr>\n",
       "      <th>Loyalty</th>\n",
       "      <td>10000.0</td>\n",
       "      <td>NaN</td>\n",
       "      <td>NaN</td>\n",
       "      <td>NaN</td>\n",
       "      <td>0.5151</td>\n",
       "      <td>0.499797</td>\n",
       "      <td>0.0</td>\n",
       "      <td>0.0</td>\n",
       "      <td>1.0</td>\n",
       "      <td>1.0</td>\n",
       "      <td>1.0</td>\n",
       "    </tr>\n",
       "    <tr>\n",
       "      <th>estimated_salary</th>\n",
       "      <td>10000.0</td>\n",
       "      <td>NaN</td>\n",
       "      <td>NaN</td>\n",
       "      <td>NaN</td>\n",
       "      <td>100090.239881</td>\n",
       "      <td>57510.492818</td>\n",
       "      <td>11.58</td>\n",
       "      <td>51002.11</td>\n",
       "      <td>100193.915</td>\n",
       "      <td>149388.2475</td>\n",
       "      <td>199992.48</td>\n",
       "    </tr>\n",
       "    <tr>\n",
       "      <th>Churn</th>\n",
       "      <td>10000.0</td>\n",
       "      <td>NaN</td>\n",
       "      <td>NaN</td>\n",
       "      <td>NaN</td>\n",
       "      <td>0.2037</td>\n",
       "      <td>0.402769</td>\n",
       "      <td>0.0</td>\n",
       "      <td>0.0</td>\n",
       "      <td>0.0</td>\n",
       "      <td>0.0</td>\n",
       "      <td>1.0</td>\n",
       "    </tr>\n",
       "  </tbody>\n",
       "</table>\n",
       "</div>"
      ],
      "text/plain": [
       "                    count unique        top  freq           mean  \\\n",
       "userid            10000.0    NaN        NaN   NaN  15733676.5694   \n",
       "score             10000.0    NaN        NaN   NaN       650.5288   \n",
       "City                10000      3  Ярославль  5014            NaN   \n",
       "Gender              10000      2          М  5457            NaN   \n",
       "Age               10000.0    NaN        NaN   NaN        38.9218   \n",
       "Objects           10000.0    NaN        NaN   NaN         5.0128   \n",
       "Balance            6383.0    NaN        NaN   NaN  119827.493793   \n",
       "Products          10000.0    NaN        NaN   NaN         1.5302   \n",
       "CreditCard        10000.0    NaN        NaN   NaN         0.7055   \n",
       "Loyalty           10000.0    NaN        NaN   NaN         0.5151   \n",
       "estimated_salary  10000.0    NaN        NaN   NaN  100090.239881   \n",
       "Churn             10000.0    NaN        NaN   NaN         0.2037   \n",
       "\n",
       "                           std         min          25%         50%  \\\n",
       "userid            71936.186123  15608437.0  15671264.25  15733474.0   \n",
       "score                96.653299       350.0        584.0       652.0   \n",
       "City                       NaN         NaN          NaN         NaN   \n",
       "Gender                     NaN         NaN          NaN         NaN   \n",
       "Age                  10.487806        18.0         32.0        37.0   \n",
       "Objects               2.892174         0.0          3.0         5.0   \n",
       "Balance           30095.056462     3768.69   100181.975   119839.69   \n",
       "Products              0.581654         1.0          1.0         1.0   \n",
       "CreditCard             0.45584         0.0          0.0         1.0   \n",
       "Loyalty               0.499797         0.0          0.0         1.0   \n",
       "estimated_salary  57510.492818       11.58     51002.11  100193.915   \n",
       "Churn                 0.402769         0.0          0.0         0.0   \n",
       "\n",
       "                          75%         max  \n",
       "userid            15795969.75  15858426.0  \n",
       "score                   718.0       850.0  \n",
       "City                      NaN         NaN  \n",
       "Gender                    NaN         NaN  \n",
       "Age                      44.0        92.0  \n",
       "Objects                   7.0        10.0  \n",
       "Balance             139512.29   250898.09  \n",
       "Products                  2.0         4.0  \n",
       "CreditCard                1.0         1.0  \n",
       "Loyalty                   1.0         1.0  \n",
       "estimated_salary  149388.2475   199992.48  \n",
       "Churn                     0.0         1.0  "
      ]
     },
     "execution_count": 18,
     "metadata": {},
     "output_type": "execute_result"
    }
   ],
   "source": [
    "# подробное описание\n",
    "bank.describe(include='all').T"
   ]
  },
  {
   "cell_type": "markdown",
   "id": "973b0491",
   "metadata": {},
   "source": [
    "Сперва, для удобства, приведем названия колонок к нижнему регистру."
   ]
  },
  {
   "cell_type": "code",
   "execution_count": 19,
   "id": "92a1832e",
   "metadata": {
    "ExecuteTime": {
     "end_time": "2022-08-09T08:53:12.691375Z",
     "start_time": "2022-08-09T08:53:12.663777Z"
    }
   },
   "outputs": [
    {
     "data": {
      "text/html": [
       "<div>\n",
       "<style scoped>\n",
       "    .dataframe tbody tr th:only-of-type {\n",
       "        vertical-align: middle;\n",
       "    }\n",
       "\n",
       "    .dataframe tbody tr th {\n",
       "        vertical-align: top;\n",
       "    }\n",
       "\n",
       "    .dataframe thead th {\n",
       "        text-align: right;\n",
       "    }\n",
       "</style>\n",
       "<table border=\"1\" class=\"dataframe\">\n",
       "  <thead>\n",
       "    <tr style=\"text-align: right;\">\n",
       "      <th></th>\n",
       "      <th>userid</th>\n",
       "      <th>score</th>\n",
       "      <th>city</th>\n",
       "      <th>gender</th>\n",
       "      <th>age</th>\n",
       "      <th>objects</th>\n",
       "      <th>balance</th>\n",
       "      <th>products</th>\n",
       "      <th>creditcard</th>\n",
       "      <th>loyalty</th>\n",
       "      <th>estimated_salary</th>\n",
       "      <th>churn</th>\n",
       "    </tr>\n",
       "  </thead>\n",
       "  <tbody>\n",
       "    <tr>\n",
       "      <th>0</th>\n",
       "      <td>15677338</td>\n",
       "      <td>619</td>\n",
       "      <td>Ярославль</td>\n",
       "      <td>Ж</td>\n",
       "      <td>42</td>\n",
       "      <td>2</td>\n",
       "      <td>NaN</td>\n",
       "      <td>1</td>\n",
       "      <td>1</td>\n",
       "      <td>1</td>\n",
       "      <td>101348.88</td>\n",
       "      <td>1</td>\n",
       "    </tr>\n",
       "    <tr>\n",
       "      <th>1</th>\n",
       "      <td>15690047</td>\n",
       "      <td>608</td>\n",
       "      <td>Рыбинск</td>\n",
       "      <td>Ж</td>\n",
       "      <td>41</td>\n",
       "      <td>1</td>\n",
       "      <td>83807.86</td>\n",
       "      <td>1</td>\n",
       "      <td>0</td>\n",
       "      <td>1</td>\n",
       "      <td>112542.58</td>\n",
       "      <td>0</td>\n",
       "    </tr>\n",
       "    <tr>\n",
       "      <th>2</th>\n",
       "      <td>15662040</td>\n",
       "      <td>502</td>\n",
       "      <td>Ярославль</td>\n",
       "      <td>Ж</td>\n",
       "      <td>42</td>\n",
       "      <td>8</td>\n",
       "      <td>159660.80</td>\n",
       "      <td>3</td>\n",
       "      <td>1</td>\n",
       "      <td>0</td>\n",
       "      <td>113931.57</td>\n",
       "      <td>1</td>\n",
       "    </tr>\n",
       "  </tbody>\n",
       "</table>\n",
       "</div>"
      ],
      "text/plain": [
       "     userid  score       city gender  age  objects    balance  products  \\\n",
       "0  15677338    619  Ярославль      Ж   42        2        NaN         1   \n",
       "1  15690047    608    Рыбинск      Ж   41        1   83807.86         1   \n",
       "2  15662040    502  Ярославль      Ж   42        8  159660.80         3   \n",
       "\n",
       "   creditcard  loyalty  estimated_salary  churn  \n",
       "0           1        1         101348.88      1  \n",
       "1           0        1         112542.58      0  \n",
       "2           1        0         113931.57      1  "
      ]
     },
     "execution_count": 19,
     "metadata": {},
     "output_type": "execute_result"
    }
   ],
   "source": [
    "bank.columns = bank.columns.str.lower()\n",
    "bank.head(3)"
   ]
  },
  {
   "cell_type": "markdown",
   "id": "abbdcaf8",
   "metadata": {},
   "source": [
    "#### Исследовать и заполнить пропуски"
   ]
  },
  {
   "cell_type": "markdown",
   "id": "875e808a",
   "metadata": {},
   "source": [
    "Исследуем пропуски в колонке `balance`."
   ]
  },
  {
   "cell_type": "code",
   "execution_count": 20,
   "id": "df2530e2",
   "metadata": {
    "ExecuteTime": {
     "end_time": "2022-08-09T08:53:12.723414Z",
     "start_time": "2022-08-09T08:53:12.694123Z"
    }
   },
   "outputs": [],
   "source": [
    "no_balance = bank.query('balance.isna()').drop(['userid', 'balance'], axis=1)\n",
    "balance = bank.query('~balance.isna()').drop(['userid', 'balance'], axis=1)\n",
    "# columns = balance.columns.to_list()\n",
    "columns_discret = ['city', 'gender', 'objects',  'products',  'creditcard',  'loyalty']"
   ]
  },
  {
   "cell_type": "code",
   "execution_count": 21,
   "id": "813e01d1",
   "metadata": {
    "ExecuteTime": {
     "end_time": "2022-08-09T08:53:13.533023Z",
     "start_time": "2022-08-09T08:53:12.726871Z"
    },
    "scrolled": false
   },
   "outputs": [
    {
     "name": "stdout",
     "output_type": "stream",
     "text": [
      "Имеется баланс\n"
     ]
    },
    {
     "data": {
      "text/html": [
       "<div>\n",
       "<style scoped>\n",
       "    .dataframe tbody tr th:only-of-type {\n",
       "        vertical-align: middle;\n",
       "    }\n",
       "\n",
       "    .dataframe tbody tr th {\n",
       "        vertical-align: top;\n",
       "    }\n",
       "\n",
       "    .dataframe thead tr th {\n",
       "        text-align: left;\n",
       "    }\n",
       "\n",
       "    .dataframe thead tr:last-of-type th {\n",
       "        text-align: right;\n",
       "    }\n",
       "</style>\n",
       "<table border=\"1\" class=\"dataframe\">\n",
       "  <thead>\n",
       "    <tr>\n",
       "      <th></th>\n",
       "      <th colspan=\"2\" halign=\"left\">score</th>\n",
       "      <th colspan=\"2\" halign=\"left\">age</th>\n",
       "      <th colspan=\"2\" halign=\"left\">objects</th>\n",
       "      <th colspan=\"2\" halign=\"left\">products</th>\n",
       "      <th colspan=\"2\" halign=\"left\">creditcard</th>\n",
       "      <th colspan=\"2\" halign=\"left\">loyalty</th>\n",
       "      <th colspan=\"2\" halign=\"left\">estimated_salary</th>\n",
       "      <th colspan=\"2\" halign=\"left\">churn</th>\n",
       "    </tr>\n",
       "    <tr>\n",
       "      <th></th>\n",
       "      <th>count</th>\n",
       "      <th>mean</th>\n",
       "      <th>count</th>\n",
       "      <th>mean</th>\n",
       "      <th>count</th>\n",
       "      <th>mean</th>\n",
       "      <th>count</th>\n",
       "      <th>mean</th>\n",
       "      <th>count</th>\n",
       "      <th>mean</th>\n",
       "      <th>count</th>\n",
       "      <th>mean</th>\n",
       "      <th>count</th>\n",
       "      <th>mean</th>\n",
       "      <th>count</th>\n",
       "      <th>mean</th>\n",
       "    </tr>\n",
       "    <tr>\n",
       "      <th>city</th>\n",
       "      <th></th>\n",
       "      <th></th>\n",
       "      <th></th>\n",
       "      <th></th>\n",
       "      <th></th>\n",
       "      <th></th>\n",
       "      <th></th>\n",
       "      <th></th>\n",
       "      <th></th>\n",
       "      <th></th>\n",
       "      <th></th>\n",
       "      <th></th>\n",
       "      <th></th>\n",
       "      <th></th>\n",
       "      <th></th>\n",
       "      <th></th>\n",
       "    </tr>\n",
       "  </thead>\n",
       "  <tbody>\n",
       "    <tr>\n",
       "      <th>Ростов Великий</th>\n",
       "      <td>2509</td>\n",
       "      <td>651.453567</td>\n",
       "      <td>2509</td>\n",
       "      <td>39.771622</td>\n",
       "      <td>2509</td>\n",
       "      <td>5.009964</td>\n",
       "      <td>2509</td>\n",
       "      <td>1.519729</td>\n",
       "      <td>2509</td>\n",
       "      <td>0.713830</td>\n",
       "      <td>2509</td>\n",
       "      <td>0.497409</td>\n",
       "      <td>2509</td>\n",
       "      <td>101113.435102</td>\n",
       "      <td>2509</td>\n",
       "      <td>0.324432</td>\n",
       "    </tr>\n",
       "    <tr>\n",
       "      <th>Рыбинск</th>\n",
       "      <td>1278</td>\n",
       "      <td>651.003912</td>\n",
       "      <td>1278</td>\n",
       "      <td>39.261346</td>\n",
       "      <td>1278</td>\n",
       "      <td>4.982786</td>\n",
       "      <td>1278</td>\n",
       "      <td>1.302817</td>\n",
       "      <td>1278</td>\n",
       "      <td>0.679969</td>\n",
       "      <td>1278</td>\n",
       "      <td>0.546948</td>\n",
       "      <td>1278</td>\n",
       "      <td>100127.281135</td>\n",
       "      <td>1278</td>\n",
       "      <td>0.195618</td>\n",
       "    </tr>\n",
       "    <tr>\n",
       "      <th>Ярославль</th>\n",
       "      <td>2596</td>\n",
       "      <td>650.900231</td>\n",
       "      <td>2596</td>\n",
       "      <td>38.611710</td>\n",
       "      <td>2596</td>\n",
       "      <td>4.948767</td>\n",
       "      <td>2596</td>\n",
       "      <td>1.297766</td>\n",
       "      <td>2596</td>\n",
       "      <td>0.694530</td>\n",
       "      <td>2596</td>\n",
       "      <td>0.512712</td>\n",
       "      <td>2596</td>\n",
       "      <td>100625.034653</td>\n",
       "      <td>2596</td>\n",
       "      <td>0.182203</td>\n",
       "    </tr>\n",
       "  </tbody>\n",
       "</table>\n",
       "</div>"
      ],
      "text/plain": [
       "               score               age            objects           products  \\\n",
       "               count        mean count       mean   count      mean    count   \n",
       "city                                                                           \n",
       "Ростов Великий  2509  651.453567  2509  39.771622    2509  5.009964     2509   \n",
       "Рыбинск         1278  651.003912  1278  39.261346    1278  4.982786     1278   \n",
       "Ярославль       2596  650.900231  2596  38.611710    2596  4.948767     2596   \n",
       "\n",
       "                         creditcard           loyalty            \\\n",
       "                    mean      count      mean   count      mean   \n",
       "city                                                              \n",
       "Ростов Великий  1.519729       2509  0.713830    2509  0.497409   \n",
       "Рыбинск         1.302817       1278  0.679969    1278  0.546948   \n",
       "Ярославль       1.297766       2596  0.694530    2596  0.512712   \n",
       "\n",
       "               estimated_salary                churn            \n",
       "                          count           mean count      mean  \n",
       "city                                                            \n",
       "Ростов Великий             2509  101113.435102  2509  0.324432  \n",
       "Рыбинск                    1278  100127.281135  1278  0.195618  \n",
       "Ярославль                  2596  100625.034653  2596  0.182203  "
      ]
     },
     "metadata": {},
     "output_type": "display_data"
    },
    {
     "name": "stdout",
     "output_type": "stream",
     "text": [
      "\n",
      "Баланс отсутствует\n"
     ]
    },
    {
     "data": {
      "text/html": [
       "<div>\n",
       "<style scoped>\n",
       "    .dataframe tbody tr th:only-of-type {\n",
       "        vertical-align: middle;\n",
       "    }\n",
       "\n",
       "    .dataframe tbody tr th {\n",
       "        vertical-align: top;\n",
       "    }\n",
       "\n",
       "    .dataframe thead tr th {\n",
       "        text-align: left;\n",
       "    }\n",
       "\n",
       "    .dataframe thead tr:last-of-type th {\n",
       "        text-align: right;\n",
       "    }\n",
       "</style>\n",
       "<table border=\"1\" class=\"dataframe\">\n",
       "  <thead>\n",
       "    <tr>\n",
       "      <th></th>\n",
       "      <th colspan=\"2\" halign=\"left\">score</th>\n",
       "      <th colspan=\"2\" halign=\"left\">age</th>\n",
       "      <th colspan=\"2\" halign=\"left\">objects</th>\n",
       "      <th colspan=\"2\" halign=\"left\">products</th>\n",
       "      <th colspan=\"2\" halign=\"left\">creditcard</th>\n",
       "      <th colspan=\"2\" halign=\"left\">loyalty</th>\n",
       "      <th colspan=\"2\" halign=\"left\">estimated_salary</th>\n",
       "      <th colspan=\"2\" halign=\"left\">churn</th>\n",
       "    </tr>\n",
       "    <tr>\n",
       "      <th></th>\n",
       "      <th>count</th>\n",
       "      <th>mean</th>\n",
       "      <th>count</th>\n",
       "      <th>mean</th>\n",
       "      <th>count</th>\n",
       "      <th>mean</th>\n",
       "      <th>count</th>\n",
       "      <th>mean</th>\n",
       "      <th>count</th>\n",
       "      <th>mean</th>\n",
       "      <th>count</th>\n",
       "      <th>mean</th>\n",
       "      <th>count</th>\n",
       "      <th>mean</th>\n",
       "      <th>count</th>\n",
       "      <th>mean</th>\n",
       "    </tr>\n",
       "    <tr>\n",
       "      <th>city</th>\n",
       "      <th></th>\n",
       "      <th></th>\n",
       "      <th></th>\n",
       "      <th></th>\n",
       "      <th></th>\n",
       "      <th></th>\n",
       "      <th></th>\n",
       "      <th></th>\n",
       "      <th></th>\n",
       "      <th></th>\n",
       "      <th></th>\n",
       "      <th></th>\n",
       "      <th></th>\n",
       "      <th></th>\n",
       "      <th></th>\n",
       "      <th></th>\n",
       "    </tr>\n",
       "  </thead>\n",
       "  <tbody>\n",
       "    <tr>\n",
       "      <th>Рыбинск</th>\n",
       "      <td>1199</td>\n",
       "      <td>651.685571</td>\n",
       "      <td>1199</td>\n",
       "      <td>38.496247</td>\n",
       "      <td>1199</td>\n",
       "      <td>5.085071</td>\n",
       "      <td>1199</td>\n",
       "      <td>1.791493</td>\n",
       "      <td>1199</td>\n",
       "      <td>0.710592</td>\n",
       "      <td>1199</td>\n",
       "      <td>0.511259</td>\n",
       "      <td>1199</td>\n",
       "      <td>98708.617389</td>\n",
       "      <td>1199</td>\n",
       "      <td>0.135947</td>\n",
       "    </tr>\n",
       "    <tr>\n",
       "      <th>Ярославль</th>\n",
       "      <td>2418</td>\n",
       "      <td>648.345740</td>\n",
       "      <td>2418</td>\n",
       "      <td>38.404467</td>\n",
       "      <td>2418</td>\n",
       "      <td>5.064516</td>\n",
       "      <td>2418</td>\n",
       "      <td>1.781224</td>\n",
       "      <td>2418</td>\n",
       "      <td>0.719603</td>\n",
       "      <td>2418</td>\n",
       "      <td>0.521092</td>\n",
       "      <td>2418</td>\n",
       "      <td>99119.893565</td>\n",
       "      <td>2418</td>\n",
       "      <td>0.139371</td>\n",
       "    </tr>\n",
       "  </tbody>\n",
       "</table>\n",
       "</div>"
      ],
      "text/plain": [
       "          score               age            objects           products  \\\n",
       "          count        mean count       mean   count      mean    count   \n",
       "city                                                                      \n",
       "Рыбинск    1199  651.685571  1199  38.496247    1199  5.085071     1199   \n",
       "Ярославль  2418  648.345740  2418  38.404467    2418  5.064516     2418   \n",
       "\n",
       "                    creditcard           loyalty           estimated_salary  \\\n",
       "               mean      count      mean   count      mean            count   \n",
       "city                                                                          \n",
       "Рыбинск    1.791493       1199  0.710592    1199  0.511259             1199   \n",
       "Ярославль  1.781224       2418  0.719603    2418  0.521092             2418   \n",
       "\n",
       "                        churn            \n",
       "                   mean count      mean  \n",
       "city                                     \n",
       "Рыбинск    98708.617389  1199  0.135947  \n",
       "Ярославль  99119.893565  2418  0.139371  "
      ]
     },
     "metadata": {},
     "output_type": "display_data"
    },
    {
     "name": "stdout",
     "output_type": "stream",
     "text": [
      "========================================================================================================================\n",
      "\n",
      "Имеется баланс\n"
     ]
    },
    {
     "data": {
      "text/html": [
       "<div>\n",
       "<style scoped>\n",
       "    .dataframe tbody tr th:only-of-type {\n",
       "        vertical-align: middle;\n",
       "    }\n",
       "\n",
       "    .dataframe tbody tr th {\n",
       "        vertical-align: top;\n",
       "    }\n",
       "\n",
       "    .dataframe thead tr th {\n",
       "        text-align: left;\n",
       "    }\n",
       "\n",
       "    .dataframe thead tr:last-of-type th {\n",
       "        text-align: right;\n",
       "    }\n",
       "</style>\n",
       "<table border=\"1\" class=\"dataframe\">\n",
       "  <thead>\n",
       "    <tr>\n",
       "      <th></th>\n",
       "      <th colspan=\"2\" halign=\"left\">score</th>\n",
       "      <th colspan=\"2\" halign=\"left\">age</th>\n",
       "      <th colspan=\"2\" halign=\"left\">objects</th>\n",
       "      <th colspan=\"2\" halign=\"left\">products</th>\n",
       "      <th colspan=\"2\" halign=\"left\">creditcard</th>\n",
       "      <th colspan=\"2\" halign=\"left\">loyalty</th>\n",
       "      <th colspan=\"2\" halign=\"left\">estimated_salary</th>\n",
       "      <th colspan=\"2\" halign=\"left\">churn</th>\n",
       "    </tr>\n",
       "    <tr>\n",
       "      <th></th>\n",
       "      <th>count</th>\n",
       "      <th>mean</th>\n",
       "      <th>count</th>\n",
       "      <th>mean</th>\n",
       "      <th>count</th>\n",
       "      <th>mean</th>\n",
       "      <th>count</th>\n",
       "      <th>mean</th>\n",
       "      <th>count</th>\n",
       "      <th>mean</th>\n",
       "      <th>count</th>\n",
       "      <th>mean</th>\n",
       "      <th>count</th>\n",
       "      <th>mean</th>\n",
       "      <th>count</th>\n",
       "      <th>mean</th>\n",
       "    </tr>\n",
       "    <tr>\n",
       "      <th>gender</th>\n",
       "      <th></th>\n",
       "      <th></th>\n",
       "      <th></th>\n",
       "      <th></th>\n",
       "      <th></th>\n",
       "      <th></th>\n",
       "      <th></th>\n",
       "      <th></th>\n",
       "      <th></th>\n",
       "      <th></th>\n",
       "      <th></th>\n",
       "      <th></th>\n",
       "      <th></th>\n",
       "      <th></th>\n",
       "      <th></th>\n",
       "      <th></th>\n",
       "    </tr>\n",
       "  </thead>\n",
       "  <tbody>\n",
       "    <tr>\n",
       "      <th>Ж</th>\n",
       "      <td>2889</td>\n",
       "      <td>651.409484</td>\n",
       "      <td>2889</td>\n",
       "      <td>39.455175</td>\n",
       "      <td>2889</td>\n",
       "      <td>4.931118</td>\n",
       "      <td>2889</td>\n",
       "      <td>1.408792</td>\n",
       "      <td>2889</td>\n",
       "      <td>0.695396</td>\n",
       "      <td>2889</td>\n",
       "      <td>0.496712</td>\n",
       "      <td>2889</td>\n",
       "      <td>101207.418429</td>\n",
       "      <td>2889</td>\n",
       "      <td>0.293873</td>\n",
       "    </tr>\n",
       "    <tr>\n",
       "      <th>М</th>\n",
       "      <td>3494</td>\n",
       "      <td>650.914425</td>\n",
       "      <td>3494</td>\n",
       "      <td>38.984831</td>\n",
       "      <td>3494</td>\n",
       "      <td>5.019748</td>\n",
       "      <td>3494</td>\n",
       "      <td>1.367201</td>\n",
       "      <td>3494</td>\n",
       "      <td>0.702347</td>\n",
       "      <td>3494</td>\n",
       "      <td>0.527476</td>\n",
       "      <td>3494</td>\n",
       "      <td>100312.144270</td>\n",
       "      <td>3494</td>\n",
       "      <td>0.196909</td>\n",
       "    </tr>\n",
       "  </tbody>\n",
       "</table>\n",
       "</div>"
      ],
      "text/plain": [
       "       score               age            objects           products  \\\n",
       "       count        mean count       mean   count      mean    count   \n",
       "gender                                                                 \n",
       "Ж       2889  651.409484  2889  39.455175    2889  4.931118     2889   \n",
       "М       3494  650.914425  3494  38.984831    3494  5.019748     3494   \n",
       "\n",
       "                 creditcard           loyalty           estimated_salary  \\\n",
       "            mean      count      mean   count      mean            count   \n",
       "gender                                                                     \n",
       "Ж       1.408792       2889  0.695396    2889  0.496712             2889   \n",
       "М       1.367201       3494  0.702347    3494  0.527476             3494   \n",
       "\n",
       "                      churn            \n",
       "                 mean count      mean  \n",
       "gender                                 \n",
       "Ж       101207.418429  2889  0.293873  \n",
       "М       100312.144270  3494  0.196909  "
      ]
     },
     "metadata": {},
     "output_type": "display_data"
    },
    {
     "name": "stdout",
     "output_type": "stream",
     "text": [
      "\n",
      "Баланс отсутствует\n"
     ]
    },
    {
     "data": {
      "text/html": [
       "<div>\n",
       "<style scoped>\n",
       "    .dataframe tbody tr th:only-of-type {\n",
       "        vertical-align: middle;\n",
       "    }\n",
       "\n",
       "    .dataframe tbody tr th {\n",
       "        vertical-align: top;\n",
       "    }\n",
       "\n",
       "    .dataframe thead tr th {\n",
       "        text-align: left;\n",
       "    }\n",
       "\n",
       "    .dataframe thead tr:last-of-type th {\n",
       "        text-align: right;\n",
       "    }\n",
       "</style>\n",
       "<table border=\"1\" class=\"dataframe\">\n",
       "  <thead>\n",
       "    <tr>\n",
       "      <th></th>\n",
       "      <th colspan=\"2\" halign=\"left\">score</th>\n",
       "      <th colspan=\"2\" halign=\"left\">age</th>\n",
       "      <th colspan=\"2\" halign=\"left\">objects</th>\n",
       "      <th colspan=\"2\" halign=\"left\">products</th>\n",
       "      <th colspan=\"2\" halign=\"left\">creditcard</th>\n",
       "      <th colspan=\"2\" halign=\"left\">loyalty</th>\n",
       "      <th colspan=\"2\" halign=\"left\">estimated_salary</th>\n",
       "      <th colspan=\"2\" halign=\"left\">churn</th>\n",
       "    </tr>\n",
       "    <tr>\n",
       "      <th></th>\n",
       "      <th>count</th>\n",
       "      <th>mean</th>\n",
       "      <th>count</th>\n",
       "      <th>mean</th>\n",
       "      <th>count</th>\n",
       "      <th>mean</th>\n",
       "      <th>count</th>\n",
       "      <th>mean</th>\n",
       "      <th>count</th>\n",
       "      <th>mean</th>\n",
       "      <th>count</th>\n",
       "      <th>mean</th>\n",
       "      <th>count</th>\n",
       "      <th>mean</th>\n",
       "      <th>count</th>\n",
       "      <th>mean</th>\n",
       "    </tr>\n",
       "    <tr>\n",
       "      <th>gender</th>\n",
       "      <th></th>\n",
       "      <th></th>\n",
       "      <th></th>\n",
       "      <th></th>\n",
       "      <th></th>\n",
       "      <th></th>\n",
       "      <th></th>\n",
       "      <th></th>\n",
       "      <th></th>\n",
       "      <th></th>\n",
       "      <th></th>\n",
       "      <th></th>\n",
       "      <th></th>\n",
       "      <th></th>\n",
       "      <th></th>\n",
       "      <th></th>\n",
       "    </tr>\n",
       "  </thead>\n",
       "  <tbody>\n",
       "    <tr>\n",
       "      <th>Ж</th>\n",
       "      <td>1654</td>\n",
       "      <td>649.821644</td>\n",
       "      <td>1654</td>\n",
       "      <td>38.859734</td>\n",
       "      <td>1654</td>\n",
       "      <td>5.027207</td>\n",
       "      <td>1654</td>\n",
       "      <td>1.780532</td>\n",
       "      <td>1654</td>\n",
       "      <td>0.715236</td>\n",
       "      <td>1654</td>\n",
       "      <td>0.513301</td>\n",
       "      <td>1654</td>\n",
       "      <td>99543.271258</td>\n",
       "      <td>1654</td>\n",
       "      <td>0.175333</td>\n",
       "    </tr>\n",
       "    <tr>\n",
       "      <th>М</th>\n",
       "      <td>1963</td>\n",
       "      <td>649.142129</td>\n",
       "      <td>1963</td>\n",
       "      <td>38.076923</td>\n",
       "      <td>1963</td>\n",
       "      <td>5.108507</td>\n",
       "      <td>1963</td>\n",
       "      <td>1.788079</td>\n",
       "      <td>1963</td>\n",
       "      <td>0.717779</td>\n",
       "      <td>1963</td>\n",
       "      <td>0.521651</td>\n",
       "      <td>1963</td>\n",
       "      <td>98511.953250</td>\n",
       "      <td>1963</td>\n",
       "      <td>0.106979</td>\n",
       "    </tr>\n",
       "  </tbody>\n",
       "</table>\n",
       "</div>"
      ],
      "text/plain": [
       "       score               age            objects           products  \\\n",
       "       count        mean count       mean   count      mean    count   \n",
       "gender                                                                 \n",
       "Ж       1654  649.821644  1654  38.859734    1654  5.027207     1654   \n",
       "М       1963  649.142129  1963  38.076923    1963  5.108507     1963   \n",
       "\n",
       "                 creditcard           loyalty           estimated_salary  \\\n",
       "            mean      count      mean   count      mean            count   \n",
       "gender                                                                     \n",
       "Ж       1.780532       1654  0.715236    1654  0.513301             1654   \n",
       "М       1.788079       1963  0.717779    1963  0.521651             1963   \n",
       "\n",
       "                     churn            \n",
       "                mean count      mean  \n",
       "gender                                \n",
       "Ж       99543.271258  1654  0.175333  \n",
       "М       98511.953250  1963  0.106979  "
      ]
     },
     "metadata": {},
     "output_type": "display_data"
    },
    {
     "name": "stdout",
     "output_type": "stream",
     "text": [
      "========================================================================================================================\n",
      "\n",
      "Имеется баланс\n"
     ]
    },
    {
     "data": {
      "text/html": [
       "<div>\n",
       "<style scoped>\n",
       "    .dataframe tbody tr th:only-of-type {\n",
       "        vertical-align: middle;\n",
       "    }\n",
       "\n",
       "    .dataframe tbody tr th {\n",
       "        vertical-align: top;\n",
       "    }\n",
       "\n",
       "    .dataframe thead tr th {\n",
       "        text-align: left;\n",
       "    }\n",
       "\n",
       "    .dataframe thead tr:last-of-type th {\n",
       "        text-align: right;\n",
       "    }\n",
       "</style>\n",
       "<table border=\"1\" class=\"dataframe\">\n",
       "  <thead>\n",
       "    <tr>\n",
       "      <th></th>\n",
       "      <th colspan=\"2\" halign=\"left\">score</th>\n",
       "      <th colspan=\"2\" halign=\"left\">age</th>\n",
       "      <th colspan=\"2\" halign=\"left\">products</th>\n",
       "      <th colspan=\"2\" halign=\"left\">creditcard</th>\n",
       "      <th colspan=\"2\" halign=\"left\">loyalty</th>\n",
       "      <th colspan=\"2\" halign=\"left\">estimated_salary</th>\n",
       "      <th colspan=\"2\" halign=\"left\">churn</th>\n",
       "    </tr>\n",
       "    <tr>\n",
       "      <th></th>\n",
       "      <th>count</th>\n",
       "      <th>mean</th>\n",
       "      <th>count</th>\n",
       "      <th>mean</th>\n",
       "      <th>count</th>\n",
       "      <th>mean</th>\n",
       "      <th>count</th>\n",
       "      <th>mean</th>\n",
       "      <th>count</th>\n",
       "      <th>mean</th>\n",
       "      <th>count</th>\n",
       "      <th>mean</th>\n",
       "      <th>count</th>\n",
       "      <th>mean</th>\n",
       "    </tr>\n",
       "    <tr>\n",
       "      <th>objects</th>\n",
       "      <th></th>\n",
       "      <th></th>\n",
       "      <th></th>\n",
       "      <th></th>\n",
       "      <th></th>\n",
       "      <th></th>\n",
       "      <th></th>\n",
       "      <th></th>\n",
       "      <th></th>\n",
       "      <th></th>\n",
       "      <th></th>\n",
       "      <th></th>\n",
       "      <th></th>\n",
       "      <th></th>\n",
       "    </tr>\n",
       "  </thead>\n",
       "  <tbody>\n",
       "    <tr>\n",
       "      <th>0</th>\n",
       "      <td>276</td>\n",
       "      <td>646.380435</td>\n",
       "      <td>276</td>\n",
       "      <td>39.275362</td>\n",
       "      <td>276</td>\n",
       "      <td>1.318841</td>\n",
       "      <td>276</td>\n",
       "      <td>0.655797</td>\n",
       "      <td>276</td>\n",
       "      <td>0.561594</td>\n",
       "      <td>276</td>\n",
       "      <td>103612.984203</td>\n",
       "      <td>276</td>\n",
       "      <td>0.271739</td>\n",
       "    </tr>\n",
       "    <tr>\n",
       "      <th>1</th>\n",
       "      <td>686</td>\n",
       "      <td>649.813411</td>\n",
       "      <td>686</td>\n",
       "      <td>39.562682</td>\n",
       "      <td>686</td>\n",
       "      <td>1.342566</td>\n",
       "      <td>686</td>\n",
       "      <td>0.670554</td>\n",
       "      <td>686</td>\n",
       "      <td>0.562682</td>\n",
       "      <td>686</td>\n",
       "      <td>102875.412274</td>\n",
       "      <td>686</td>\n",
       "      <td>0.252187</td>\n",
       "    </tr>\n",
       "    <tr>\n",
       "      <th>2</th>\n",
       "      <td>666</td>\n",
       "      <td>654.262763</td>\n",
       "      <td>666</td>\n",
       "      <td>39.009009</td>\n",
       "      <td>666</td>\n",
       "      <td>1.462462</td>\n",
       "      <td>666</td>\n",
       "      <td>0.701201</td>\n",
       "      <td>666</td>\n",
       "      <td>0.530030</td>\n",
       "      <td>666</td>\n",
       "      <td>98279.788859</td>\n",
       "      <td>666</td>\n",
       "      <td>0.205706</td>\n",
       "    </tr>\n",
       "    <tr>\n",
       "      <th>3</th>\n",
       "      <td>657</td>\n",
       "      <td>652.054795</td>\n",
       "      <td>657</td>\n",
       "      <td>38.987823</td>\n",
       "      <td>657</td>\n",
       "      <td>1.395738</td>\n",
       "      <td>657</td>\n",
       "      <td>0.695586</td>\n",
       "      <td>657</td>\n",
       "      <td>0.503805</td>\n",
       "      <td>657</td>\n",
       "      <td>96699.358767</td>\n",
       "      <td>657</td>\n",
       "      <td>0.252664</td>\n",
       "    </tr>\n",
       "    <tr>\n",
       "      <th>4</th>\n",
       "      <td>620</td>\n",
       "      <td>652.353226</td>\n",
       "      <td>620</td>\n",
       "      <td>38.230645</td>\n",
       "      <td>620</td>\n",
       "      <td>1.364516</td>\n",
       "      <td>620</td>\n",
       "      <td>0.711290</td>\n",
       "      <td>620</td>\n",
       "      <td>0.514516</td>\n",
       "      <td>620</td>\n",
       "      <td>97949.645952</td>\n",
       "      <td>620</td>\n",
       "      <td>0.240323</td>\n",
       "    </tr>\n",
       "    <tr>\n",
       "      <th>5</th>\n",
       "      <td>638</td>\n",
       "      <td>651.286834</td>\n",
       "      <td>638</td>\n",
       "      <td>39.595611</td>\n",
       "      <td>638</td>\n",
       "      <td>1.405956</td>\n",
       "      <td>638</td>\n",
       "      <td>0.689655</td>\n",
       "      <td>638</td>\n",
       "      <td>0.512539</td>\n",
       "      <td>638</td>\n",
       "      <td>101985.118103</td>\n",
       "      <td>638</td>\n",
       "      <td>0.252351</td>\n",
       "    </tr>\n",
       "    <tr>\n",
       "      <th>6</th>\n",
       "      <td>600</td>\n",
       "      <td>649.393333</td>\n",
       "      <td>600</td>\n",
       "      <td>39.636667</td>\n",
       "      <td>600</td>\n",
       "      <td>1.380000</td>\n",
       "      <td>600</td>\n",
       "      <td>0.706667</td>\n",
       "      <td>600</td>\n",
       "      <td>0.493333</td>\n",
       "      <td>600</td>\n",
       "      <td>98649.080750</td>\n",
       "      <td>600</td>\n",
       "      <td>0.241667</td>\n",
       "    </tr>\n",
       "    <tr>\n",
       "      <th>7</th>\n",
       "      <td>642</td>\n",
       "      <td>651.401869</td>\n",
       "      <td>642</td>\n",
       "      <td>38.412773</td>\n",
       "      <td>642</td>\n",
       "      <td>1.367601</td>\n",
       "      <td>642</td>\n",
       "      <td>0.705607</td>\n",
       "      <td>642</td>\n",
       "      <td>0.515576</td>\n",
       "      <td>642</td>\n",
       "      <td>103879.533941</td>\n",
       "      <td>642</td>\n",
       "      <td>0.202492</td>\n",
       "    </tr>\n",
       "    <tr>\n",
       "      <th>8</th>\n",
       "      <td>662</td>\n",
       "      <td>646.081571</td>\n",
       "      <td>662</td>\n",
       "      <td>39.145015</td>\n",
       "      <td>662</td>\n",
       "      <td>1.379154</td>\n",
       "      <td>662</td>\n",
       "      <td>0.723565</td>\n",
       "      <td>662</td>\n",
       "      <td>0.500000</td>\n",
       "      <td>662</td>\n",
       "      <td>100529.521616</td>\n",
       "      <td>662</td>\n",
       "      <td>0.244713</td>\n",
       "    </tr>\n",
       "    <tr>\n",
       "      <th>9</th>\n",
       "      <td>624</td>\n",
       "      <td>652.174679</td>\n",
       "      <td>624</td>\n",
       "      <td>40.104167</td>\n",
       "      <td>624</td>\n",
       "      <td>1.399038</td>\n",
       "      <td>624</td>\n",
       "      <td>0.706731</td>\n",
       "      <td>624</td>\n",
       "      <td>0.475962</td>\n",
       "      <td>624</td>\n",
       "      <td>104066.049343</td>\n",
       "      <td>624</td>\n",
       "      <td>0.269231</td>\n",
       "    </tr>\n",
       "    <tr>\n",
       "      <th>10</th>\n",
       "      <td>312</td>\n",
       "      <td>658.416667</td>\n",
       "      <td>312</td>\n",
       "      <td>39.349359</td>\n",
       "      <td>312</td>\n",
       "      <td>1.397436</td>\n",
       "      <td>312</td>\n",
       "      <td>0.705128</td>\n",
       "      <td>312</td>\n",
       "      <td>0.487179</td>\n",
       "      <td>312</td>\n",
       "      <td>101154.410865</td>\n",
       "      <td>312</td>\n",
       "      <td>0.227564</td>\n",
       "    </tr>\n",
       "  </tbody>\n",
       "</table>\n",
       "</div>"
      ],
      "text/plain": [
       "        score               age            products           creditcard  \\\n",
       "        count        mean count       mean    count      mean      count   \n",
       "objects                                                                    \n",
       "0         276  646.380435   276  39.275362      276  1.318841        276   \n",
       "1         686  649.813411   686  39.562682      686  1.342566        686   \n",
       "2         666  654.262763   666  39.009009      666  1.462462        666   \n",
       "3         657  652.054795   657  38.987823      657  1.395738        657   \n",
       "4         620  652.353226   620  38.230645      620  1.364516        620   \n",
       "5         638  651.286834   638  39.595611      638  1.405956        638   \n",
       "6         600  649.393333   600  39.636667      600  1.380000        600   \n",
       "7         642  651.401869   642  38.412773      642  1.367601        642   \n",
       "8         662  646.081571   662  39.145015      662  1.379154        662   \n",
       "9         624  652.174679   624  40.104167      624  1.399038        624   \n",
       "10        312  658.416667   312  39.349359      312  1.397436        312   \n",
       "\n",
       "                  loyalty           estimated_salary                churn  \\\n",
       "             mean   count      mean            count           mean count   \n",
       "objects                                                                     \n",
       "0        0.655797     276  0.561594              276  103612.984203   276   \n",
       "1        0.670554     686  0.562682              686  102875.412274   686   \n",
       "2        0.701201     666  0.530030              666   98279.788859   666   \n",
       "3        0.695586     657  0.503805              657   96699.358767   657   \n",
       "4        0.711290     620  0.514516              620   97949.645952   620   \n",
       "5        0.689655     638  0.512539              638  101985.118103   638   \n",
       "6        0.706667     600  0.493333              600   98649.080750   600   \n",
       "7        0.705607     642  0.515576              642  103879.533941   642   \n",
       "8        0.723565     662  0.500000              662  100529.521616   662   \n",
       "9        0.706731     624  0.475962              624  104066.049343   624   \n",
       "10       0.705128     312  0.487179              312  101154.410865   312   \n",
       "\n",
       "                   \n",
       "             mean  \n",
       "objects            \n",
       "0        0.271739  \n",
       "1        0.252187  \n",
       "2        0.205706  \n",
       "3        0.252664  \n",
       "4        0.240323  \n",
       "5        0.252351  \n",
       "6        0.241667  \n",
       "7        0.202492  \n",
       "8        0.244713  \n",
       "9        0.269231  \n",
       "10       0.227564  "
      ]
     },
     "metadata": {},
     "output_type": "display_data"
    },
    {
     "name": "stdout",
     "output_type": "stream",
     "text": [
      "\n",
      "Баланс отсутствует\n"
     ]
    },
    {
     "data": {
      "text/html": [
       "<div>\n",
       "<style scoped>\n",
       "    .dataframe tbody tr th:only-of-type {\n",
       "        vertical-align: middle;\n",
       "    }\n",
       "\n",
       "    .dataframe tbody tr th {\n",
       "        vertical-align: top;\n",
       "    }\n",
       "\n",
       "    .dataframe thead tr th {\n",
       "        text-align: left;\n",
       "    }\n",
       "\n",
       "    .dataframe thead tr:last-of-type th {\n",
       "        text-align: right;\n",
       "    }\n",
       "</style>\n",
       "<table border=\"1\" class=\"dataframe\">\n",
       "  <thead>\n",
       "    <tr>\n",
       "      <th></th>\n",
       "      <th colspan=\"2\" halign=\"left\">score</th>\n",
       "      <th colspan=\"2\" halign=\"left\">age</th>\n",
       "      <th colspan=\"2\" halign=\"left\">products</th>\n",
       "      <th colspan=\"2\" halign=\"left\">creditcard</th>\n",
       "      <th colspan=\"2\" halign=\"left\">loyalty</th>\n",
       "      <th colspan=\"2\" halign=\"left\">estimated_salary</th>\n",
       "      <th colspan=\"2\" halign=\"left\">churn</th>\n",
       "    </tr>\n",
       "    <tr>\n",
       "      <th></th>\n",
       "      <th>count</th>\n",
       "      <th>mean</th>\n",
       "      <th>count</th>\n",
       "      <th>mean</th>\n",
       "      <th>count</th>\n",
       "      <th>mean</th>\n",
       "      <th>count</th>\n",
       "      <th>mean</th>\n",
       "      <th>count</th>\n",
       "      <th>mean</th>\n",
       "      <th>count</th>\n",
       "      <th>mean</th>\n",
       "      <th>count</th>\n",
       "      <th>mean</th>\n",
       "    </tr>\n",
       "    <tr>\n",
       "      <th>objects</th>\n",
       "      <th></th>\n",
       "      <th></th>\n",
       "      <th></th>\n",
       "      <th></th>\n",
       "      <th></th>\n",
       "      <th></th>\n",
       "      <th></th>\n",
       "      <th></th>\n",
       "      <th></th>\n",
       "      <th></th>\n",
       "      <th></th>\n",
       "      <th></th>\n",
       "      <th></th>\n",
       "      <th></th>\n",
       "    </tr>\n",
       "  </thead>\n",
       "  <tbody>\n",
       "    <tr>\n",
       "      <th>0</th>\n",
       "      <td>137</td>\n",
       "      <td>663.452555</td>\n",
       "      <td>137</td>\n",
       "      <td>39.007299</td>\n",
       "      <td>137</td>\n",
       "      <td>1.693431</td>\n",
       "      <td>137</td>\n",
       "      <td>0.635036</td>\n",
       "      <td>137</td>\n",
       "      <td>0.467153</td>\n",
       "      <td>137</td>\n",
       "      <td>99879.690073</td>\n",
       "      <td>137</td>\n",
       "      <td>0.145985</td>\n",
       "    </tr>\n",
       "    <tr>\n",
       "      <th>1</th>\n",
       "      <td>349</td>\n",
       "      <td>646.828080</td>\n",
       "      <td>349</td>\n",
       "      <td>39.166189</td>\n",
       "      <td>349</td>\n",
       "      <td>1.779370</td>\n",
       "      <td>349</td>\n",
       "      <td>0.690544</td>\n",
       "      <td>349</td>\n",
       "      <td>0.524355</td>\n",
       "      <td>349</td>\n",
       "      <td>95737.787393</td>\n",
       "      <td>349</td>\n",
       "      <td>0.169054</td>\n",
       "    </tr>\n",
       "    <tr>\n",
       "      <th>2</th>\n",
       "      <td>382</td>\n",
       "      <td>650.337696</td>\n",
       "      <td>382</td>\n",
       "      <td>39.143979</td>\n",
       "      <td>382</td>\n",
       "      <td>1.811518</td>\n",
       "      <td>382</td>\n",
       "      <td>0.709424</td>\n",
       "      <td>382</td>\n",
       "      <td>0.541885</td>\n",
       "      <td>382</td>\n",
       "      <td>98369.145942</td>\n",
       "      <td>382</td>\n",
       "      <td>0.167539</td>\n",
       "    </tr>\n",
       "    <tr>\n",
       "      <th>3</th>\n",
       "      <td>352</td>\n",
       "      <td>647.684659</td>\n",
       "      <td>352</td>\n",
       "      <td>39.105114</td>\n",
       "      <td>352</td>\n",
       "      <td>1.789773</td>\n",
       "      <td>352</td>\n",
       "      <td>0.775568</td>\n",
       "      <td>352</td>\n",
       "      <td>0.548295</td>\n",
       "      <td>352</td>\n",
       "      <td>99473.643011</td>\n",
       "      <td>352</td>\n",
       "      <td>0.133523</td>\n",
       "    </tr>\n",
       "    <tr>\n",
       "      <th>4</th>\n",
       "      <td>369</td>\n",
       "      <td>650.073171</td>\n",
       "      <td>369</td>\n",
       "      <td>38.254743</td>\n",
       "      <td>369</td>\n",
       "      <td>1.772358</td>\n",
       "      <td>369</td>\n",
       "      <td>0.726287</td>\n",
       "      <td>369</td>\n",
       "      <td>0.490515</td>\n",
       "      <td>369</td>\n",
       "      <td>103090.655230</td>\n",
       "      <td>369</td>\n",
       "      <td>0.146341</td>\n",
       "    </tr>\n",
       "    <tr>\n",
       "      <th>5</th>\n",
       "      <td>374</td>\n",
       "      <td>649.232620</td>\n",
       "      <td>374</td>\n",
       "      <td>38.762032</td>\n",
       "      <td>374</td>\n",
       "      <td>1.807487</td>\n",
       "      <td>374</td>\n",
       "      <td>0.695187</td>\n",
       "      <td>374</td>\n",
       "      <td>0.478610</td>\n",
       "      <td>374</td>\n",
       "      <td>100093.412861</td>\n",
       "      <td>374</td>\n",
       "      <td>0.128342</td>\n",
       "    </tr>\n",
       "    <tr>\n",
       "      <th>6</th>\n",
       "      <td>367</td>\n",
       "      <td>644.089918</td>\n",
       "      <td>367</td>\n",
       "      <td>37.596730</td>\n",
       "      <td>367</td>\n",
       "      <td>1.746594</td>\n",
       "      <td>367</td>\n",
       "      <td>0.735695</td>\n",
       "      <td>367</td>\n",
       "      <td>0.553134</td>\n",
       "      <td>367</td>\n",
       "      <td>100018.301117</td>\n",
       "      <td>367</td>\n",
       "      <td>0.138965</td>\n",
       "    </tr>\n",
       "    <tr>\n",
       "      <th>7</th>\n",
       "      <td>386</td>\n",
       "      <td>646.619171</td>\n",
       "      <td>386</td>\n",
       "      <td>38.292746</td>\n",
       "      <td>386</td>\n",
       "      <td>1.800518</td>\n",
       "      <td>386</td>\n",
       "      <td>0.707254</td>\n",
       "      <td>386</td>\n",
       "      <td>0.528497</td>\n",
       "      <td>386</td>\n",
       "      <td>96895.809093</td>\n",
       "      <td>386</td>\n",
       "      <td>0.121762</td>\n",
       "    </tr>\n",
       "    <tr>\n",
       "      <th>8</th>\n",
       "      <td>363</td>\n",
       "      <td>650.790634</td>\n",
       "      <td>363</td>\n",
       "      <td>37.184573</td>\n",
       "      <td>363</td>\n",
       "      <td>1.785124</td>\n",
       "      <td>363</td>\n",
       "      <td>0.724518</td>\n",
       "      <td>363</td>\n",
       "      <td>0.517906</td>\n",
       "      <td>363</td>\n",
       "      <td>102061.603857</td>\n",
       "      <td>363</td>\n",
       "      <td>0.096419</td>\n",
       "    </tr>\n",
       "    <tr>\n",
       "      <th>9</th>\n",
       "      <td>360</td>\n",
       "      <td>656.175000</td>\n",
       "      <td>360</td>\n",
       "      <td>38.030556</td>\n",
       "      <td>360</td>\n",
       "      <td>1.772222</td>\n",
       "      <td>360</td>\n",
       "      <td>0.697222</td>\n",
       "      <td>360</td>\n",
       "      <td>0.483333</td>\n",
       "      <td>360</td>\n",
       "      <td>91357.847000</td>\n",
       "      <td>360</td>\n",
       "      <td>0.125000</td>\n",
       "    </tr>\n",
       "    <tr>\n",
       "      <th>10</th>\n",
       "      <td>178</td>\n",
       "      <td>645.477528</td>\n",
       "      <td>178</td>\n",
       "      <td>38.803371</td>\n",
       "      <td>178</td>\n",
       "      <td>1.842697</td>\n",
       "      <td>178</td>\n",
       "      <td>0.758427</td>\n",
       "      <td>178</td>\n",
       "      <td>0.544944</td>\n",
       "      <td>178</td>\n",
       "      <td>105700.670393</td>\n",
       "      <td>178</td>\n",
       "      <td>0.168539</td>\n",
       "    </tr>\n",
       "  </tbody>\n",
       "</table>\n",
       "</div>"
      ],
      "text/plain": [
       "        score               age            products           creditcard  \\\n",
       "        count        mean count       mean    count      mean      count   \n",
       "objects                                                                    \n",
       "0         137  663.452555   137  39.007299      137  1.693431        137   \n",
       "1         349  646.828080   349  39.166189      349  1.779370        349   \n",
       "2         382  650.337696   382  39.143979      382  1.811518        382   \n",
       "3         352  647.684659   352  39.105114      352  1.789773        352   \n",
       "4         369  650.073171   369  38.254743      369  1.772358        369   \n",
       "5         374  649.232620   374  38.762032      374  1.807487        374   \n",
       "6         367  644.089918   367  37.596730      367  1.746594        367   \n",
       "7         386  646.619171   386  38.292746      386  1.800518        386   \n",
       "8         363  650.790634   363  37.184573      363  1.785124        363   \n",
       "9         360  656.175000   360  38.030556      360  1.772222        360   \n",
       "10        178  645.477528   178  38.803371      178  1.842697        178   \n",
       "\n",
       "                  loyalty           estimated_salary                churn  \\\n",
       "             mean   count      mean            count           mean count   \n",
       "objects                                                                     \n",
       "0        0.635036     137  0.467153              137   99879.690073   137   \n",
       "1        0.690544     349  0.524355              349   95737.787393   349   \n",
       "2        0.709424     382  0.541885              382   98369.145942   382   \n",
       "3        0.775568     352  0.548295              352   99473.643011   352   \n",
       "4        0.726287     369  0.490515              369  103090.655230   369   \n",
       "5        0.695187     374  0.478610              374  100093.412861   374   \n",
       "6        0.735695     367  0.553134              367  100018.301117   367   \n",
       "7        0.707254     386  0.528497              386   96895.809093   386   \n",
       "8        0.724518     363  0.517906              363  102061.603857   363   \n",
       "9        0.697222     360  0.483333              360   91357.847000   360   \n",
       "10       0.758427     178  0.544944              178  105700.670393   178   \n",
       "\n",
       "                   \n",
       "             mean  \n",
       "objects            \n",
       "0        0.145985  \n",
       "1        0.169054  \n",
       "2        0.167539  \n",
       "3        0.133523  \n",
       "4        0.146341  \n",
       "5        0.128342  \n",
       "6        0.138965  \n",
       "7        0.121762  \n",
       "8        0.096419  \n",
       "9        0.125000  \n",
       "10       0.168539  "
      ]
     },
     "metadata": {},
     "output_type": "display_data"
    },
    {
     "name": "stdout",
     "output_type": "stream",
     "text": [
      "========================================================================================================================\n",
      "\n",
      "Имеется баланс\n"
     ]
    },
    {
     "data": {
      "text/html": [
       "<div>\n",
       "<style scoped>\n",
       "    .dataframe tbody tr th:only-of-type {\n",
       "        vertical-align: middle;\n",
       "    }\n",
       "\n",
       "    .dataframe tbody tr th {\n",
       "        vertical-align: top;\n",
       "    }\n",
       "\n",
       "    .dataframe thead tr th {\n",
       "        text-align: left;\n",
       "    }\n",
       "\n",
       "    .dataframe thead tr:last-of-type th {\n",
       "        text-align: right;\n",
       "    }\n",
       "</style>\n",
       "<table border=\"1\" class=\"dataframe\">\n",
       "  <thead>\n",
       "    <tr>\n",
       "      <th></th>\n",
       "      <th colspan=\"2\" halign=\"left\">score</th>\n",
       "      <th colspan=\"2\" halign=\"left\">age</th>\n",
       "      <th colspan=\"2\" halign=\"left\">objects</th>\n",
       "      <th colspan=\"2\" halign=\"left\">creditcard</th>\n",
       "      <th colspan=\"2\" halign=\"left\">loyalty</th>\n",
       "      <th colspan=\"2\" halign=\"left\">estimated_salary</th>\n",
       "      <th colspan=\"2\" halign=\"left\">churn</th>\n",
       "    </tr>\n",
       "    <tr>\n",
       "      <th></th>\n",
       "      <th>count</th>\n",
       "      <th>mean</th>\n",
       "      <th>count</th>\n",
       "      <th>mean</th>\n",
       "      <th>count</th>\n",
       "      <th>mean</th>\n",
       "      <th>count</th>\n",
       "      <th>mean</th>\n",
       "      <th>count</th>\n",
       "      <th>mean</th>\n",
       "      <th>count</th>\n",
       "      <th>mean</th>\n",
       "      <th>count</th>\n",
       "      <th>mean</th>\n",
       "    </tr>\n",
       "    <tr>\n",
       "      <th>products</th>\n",
       "      <th></th>\n",
       "      <th></th>\n",
       "      <th></th>\n",
       "      <th></th>\n",
       "      <th></th>\n",
       "      <th></th>\n",
       "      <th></th>\n",
       "      <th></th>\n",
       "      <th></th>\n",
       "      <th></th>\n",
       "      <th></th>\n",
       "      <th></th>\n",
       "      <th></th>\n",
       "      <th></th>\n",
       "    </tr>\n",
       "  </thead>\n",
       "  <tbody>\n",
       "    <tr>\n",
       "      <th>1</th>\n",
       "      <td>4179</td>\n",
       "      <td>650.324240</td>\n",
       "      <td>4179</td>\n",
       "      <td>39.447715</td>\n",
       "      <td>4179</td>\n",
       "      <td>4.977267</td>\n",
       "      <td>4179</td>\n",
       "      <td>0.698971</td>\n",
       "      <td>4179</td>\n",
       "      <td>0.509931</td>\n",
       "      <td>4179</td>\n",
       "      <td>99696.005544</td>\n",
       "      <td>4179</td>\n",
       "      <td>0.256281</td>\n",
       "    </tr>\n",
       "    <tr>\n",
       "      <th>2</th>\n",
       "      <td>1990</td>\n",
       "      <td>653.145226</td>\n",
       "      <td>1990</td>\n",
       "      <td>38.135678</td>\n",
       "      <td>1990</td>\n",
       "      <td>4.962814</td>\n",
       "      <td>1990</td>\n",
       "      <td>0.697487</td>\n",
       "      <td>1990</td>\n",
       "      <td>0.533166</td>\n",
       "      <td>1990</td>\n",
       "      <td>102288.648186</td>\n",
       "      <td>1990</td>\n",
       "      <td>0.131658</td>\n",
       "    </tr>\n",
       "    <tr>\n",
       "      <th>3</th>\n",
       "      <td>168</td>\n",
       "      <td>645.464286</td>\n",
       "      <td>168</td>\n",
       "      <td>43.964286</td>\n",
       "      <td>168</td>\n",
       "      <td>5.142857</td>\n",
       "      <td>168</td>\n",
       "      <td>0.726190</td>\n",
       "      <td>168</td>\n",
       "      <td>0.386905</td>\n",
       "      <td>168</td>\n",
       "      <td>107300.088393</td>\n",
       "      <td>168</td>\n",
       "      <td>0.940476</td>\n",
       "    </tr>\n",
       "    <tr>\n",
       "      <th>4</th>\n",
       "      <td>46</td>\n",
       "      <td>659.021739</td>\n",
       "      <td>46</td>\n",
       "      <td>45.021739</td>\n",
       "      <td>46</td>\n",
       "      <td>5.326087</td>\n",
       "      <td>46</td>\n",
       "      <td>0.695652</td>\n",
       "      <td>46</td>\n",
       "      <td>0.456522</td>\n",
       "      <td>46</td>\n",
       "      <td>101487.652391</td>\n",
       "      <td>46</td>\n",
       "      <td>1.000000</td>\n",
       "    </tr>\n",
       "  </tbody>\n",
       "</table>\n",
       "</div>"
      ],
      "text/plain": [
       "         score               age            objects           creditcard  \\\n",
       "         count        mean count       mean   count      mean      count   \n",
       "products                                                                   \n",
       "1         4179  650.324240  4179  39.447715    4179  4.977267       4179   \n",
       "2         1990  653.145226  1990  38.135678    1990  4.962814       1990   \n",
       "3          168  645.464286   168  43.964286     168  5.142857        168   \n",
       "4           46  659.021739    46  45.021739      46  5.326087         46   \n",
       "\n",
       "                   loyalty           estimated_salary                churn  \\\n",
       "              mean   count      mean            count           mean count   \n",
       "products                                                                     \n",
       "1         0.698971    4179  0.509931             4179   99696.005544  4179   \n",
       "2         0.697487    1990  0.533166             1990  102288.648186  1990   \n",
       "3         0.726190     168  0.386905              168  107300.088393   168   \n",
       "4         0.695652      46  0.456522               46  101487.652391    46   \n",
       "\n",
       "                    \n",
       "              mean  \n",
       "products            \n",
       "1         0.256281  \n",
       "2         0.131658  \n",
       "3         0.940476  \n",
       "4         1.000000  "
      ]
     },
     "metadata": {},
     "output_type": "display_data"
    },
    {
     "name": "stdout",
     "output_type": "stream",
     "text": [
      "\n",
      "Баланс отсутствует\n"
     ]
    },
    {
     "data": {
      "text/html": [
       "<div>\n",
       "<style scoped>\n",
       "    .dataframe tbody tr th:only-of-type {\n",
       "        vertical-align: middle;\n",
       "    }\n",
       "\n",
       "    .dataframe tbody tr th {\n",
       "        vertical-align: top;\n",
       "    }\n",
       "\n",
       "    .dataframe thead tr th {\n",
       "        text-align: left;\n",
       "    }\n",
       "\n",
       "    .dataframe thead tr:last-of-type th {\n",
       "        text-align: right;\n",
       "    }\n",
       "</style>\n",
       "<table border=\"1\" class=\"dataframe\">\n",
       "  <thead>\n",
       "    <tr>\n",
       "      <th></th>\n",
       "      <th colspan=\"2\" halign=\"left\">score</th>\n",
       "      <th colspan=\"2\" halign=\"left\">age</th>\n",
       "      <th colspan=\"2\" halign=\"left\">objects</th>\n",
       "      <th colspan=\"2\" halign=\"left\">creditcard</th>\n",
       "      <th colspan=\"2\" halign=\"left\">loyalty</th>\n",
       "      <th colspan=\"2\" halign=\"left\">estimated_salary</th>\n",
       "      <th colspan=\"2\" halign=\"left\">churn</th>\n",
       "    </tr>\n",
       "    <tr>\n",
       "      <th></th>\n",
       "      <th>count</th>\n",
       "      <th>mean</th>\n",
       "      <th>count</th>\n",
       "      <th>mean</th>\n",
       "      <th>count</th>\n",
       "      <th>mean</th>\n",
       "      <th>count</th>\n",
       "      <th>mean</th>\n",
       "      <th>count</th>\n",
       "      <th>mean</th>\n",
       "      <th>count</th>\n",
       "      <th>mean</th>\n",
       "      <th>count</th>\n",
       "      <th>mean</th>\n",
       "    </tr>\n",
       "    <tr>\n",
       "      <th>products</th>\n",
       "      <th></th>\n",
       "      <th></th>\n",
       "      <th></th>\n",
       "      <th></th>\n",
       "      <th></th>\n",
       "      <th></th>\n",
       "      <th></th>\n",
       "      <th></th>\n",
       "      <th></th>\n",
       "      <th></th>\n",
       "      <th></th>\n",
       "      <th></th>\n",
       "      <th></th>\n",
       "      <th></th>\n",
       "    </tr>\n",
       "  </thead>\n",
       "  <tbody>\n",
       "    <tr>\n",
       "      <th>1</th>\n",
       "      <td>905</td>\n",
       "      <td>643.564641</td>\n",
       "      <td>905</td>\n",
       "      <td>40.713812</td>\n",
       "      <td>905</td>\n",
       "      <td>4.962431</td>\n",
       "      <td>905</td>\n",
       "      <td>0.725967</td>\n",
       "      <td>905</td>\n",
       "      <td>0.477348</td>\n",
       "      <td>905</td>\n",
       "      <td>98523.322276</td>\n",
       "      <td>905</td>\n",
       "      <td>0.373481</td>\n",
       "    </tr>\n",
       "    <tr>\n",
       "      <th>2</th>\n",
       "      <td>2600</td>\n",
       "      <td>651.456538</td>\n",
       "      <td>2600</td>\n",
       "      <td>37.461154</td>\n",
       "      <td>2600</td>\n",
       "      <td>5.120000</td>\n",
       "      <td>2600</td>\n",
       "      <td>0.714615</td>\n",
       "      <td>2600</td>\n",
       "      <td>0.532692</td>\n",
       "      <td>2600</td>\n",
       "      <td>99046.280369</td>\n",
       "      <td>2600</td>\n",
       "      <td>0.033077</td>\n",
       "    </tr>\n",
       "    <tr>\n",
       "      <th>3</th>\n",
       "      <td>98</td>\n",
       "      <td>652.632653</td>\n",
       "      <td>98</td>\n",
       "      <td>41.877551</td>\n",
       "      <td>98</td>\n",
       "      <td>4.765306</td>\n",
       "      <td>98</td>\n",
       "      <td>0.693878</td>\n",
       "      <td>98</td>\n",
       "      <td>0.489796</td>\n",
       "      <td>98</td>\n",
       "      <td>99206.202857</td>\n",
       "      <td>98</td>\n",
       "      <td>0.632653</td>\n",
       "    </tr>\n",
       "    <tr>\n",
       "      <th>4</th>\n",
       "      <td>14</td>\n",
       "      <td>635.714286</td>\n",
       "      <td>14</td>\n",
       "      <td>47.857143</td>\n",
       "      <td>14</td>\n",
       "      <td>5.214286</td>\n",
       "      <td>14</td>\n",
       "      <td>0.642857</td>\n",
       "      <td>14</td>\n",
       "      <td>0.571429</td>\n",
       "      <td>14</td>\n",
       "      <td>115527.956429</td>\n",
       "      <td>14</td>\n",
       "      <td>1.000000</td>\n",
       "    </tr>\n",
       "  </tbody>\n",
       "</table>\n",
       "</div>"
      ],
      "text/plain": [
       "         score               age            objects           creditcard  \\\n",
       "         count        mean count       mean   count      mean      count   \n",
       "products                                                                   \n",
       "1          905  643.564641   905  40.713812     905  4.962431        905   \n",
       "2         2600  651.456538  2600  37.461154    2600  5.120000       2600   \n",
       "3           98  652.632653    98  41.877551      98  4.765306         98   \n",
       "4           14  635.714286    14  47.857143      14  5.214286         14   \n",
       "\n",
       "                   loyalty           estimated_salary                churn  \\\n",
       "              mean   count      mean            count           mean count   \n",
       "products                                                                     \n",
       "1         0.725967     905  0.477348              905   98523.322276   905   \n",
       "2         0.714615    2600  0.532692             2600   99046.280369  2600   \n",
       "3         0.693878      98  0.489796               98   99206.202857    98   \n",
       "4         0.642857      14  0.571429               14  115527.956429    14   \n",
       "\n",
       "                    \n",
       "              mean  \n",
       "products            \n",
       "1         0.373481  \n",
       "2         0.033077  \n",
       "3         0.632653  \n",
       "4         1.000000  "
      ]
     },
     "metadata": {},
     "output_type": "display_data"
    },
    {
     "name": "stdout",
     "output_type": "stream",
     "text": [
      "========================================================================================================================\n",
      "\n",
      "Имеется баланс\n"
     ]
    },
    {
     "data": {
      "text/html": [
       "<div>\n",
       "<style scoped>\n",
       "    .dataframe tbody tr th:only-of-type {\n",
       "        vertical-align: middle;\n",
       "    }\n",
       "\n",
       "    .dataframe tbody tr th {\n",
       "        vertical-align: top;\n",
       "    }\n",
       "\n",
       "    .dataframe thead tr th {\n",
       "        text-align: left;\n",
       "    }\n",
       "\n",
       "    .dataframe thead tr:last-of-type th {\n",
       "        text-align: right;\n",
       "    }\n",
       "</style>\n",
       "<table border=\"1\" class=\"dataframe\">\n",
       "  <thead>\n",
       "    <tr>\n",
       "      <th></th>\n",
       "      <th colspan=\"2\" halign=\"left\">score</th>\n",
       "      <th colspan=\"2\" halign=\"left\">age</th>\n",
       "      <th colspan=\"2\" halign=\"left\">objects</th>\n",
       "      <th colspan=\"2\" halign=\"left\">products</th>\n",
       "      <th colspan=\"2\" halign=\"left\">loyalty</th>\n",
       "      <th colspan=\"2\" halign=\"left\">estimated_salary</th>\n",
       "      <th colspan=\"2\" halign=\"left\">churn</th>\n",
       "    </tr>\n",
       "    <tr>\n",
       "      <th></th>\n",
       "      <th>count</th>\n",
       "      <th>mean</th>\n",
       "      <th>count</th>\n",
       "      <th>mean</th>\n",
       "      <th>count</th>\n",
       "      <th>mean</th>\n",
       "      <th>count</th>\n",
       "      <th>mean</th>\n",
       "      <th>count</th>\n",
       "      <th>mean</th>\n",
       "      <th>count</th>\n",
       "      <th>mean</th>\n",
       "      <th>count</th>\n",
       "      <th>mean</th>\n",
       "    </tr>\n",
       "    <tr>\n",
       "      <th>creditcard</th>\n",
       "      <th></th>\n",
       "      <th></th>\n",
       "      <th></th>\n",
       "      <th></th>\n",
       "      <th></th>\n",
       "      <th></th>\n",
       "      <th></th>\n",
       "      <th></th>\n",
       "      <th></th>\n",
       "      <th></th>\n",
       "      <th></th>\n",
       "      <th></th>\n",
       "      <th></th>\n",
       "      <th></th>\n",
       "    </tr>\n",
       "  </thead>\n",
       "  <tbody>\n",
       "    <tr>\n",
       "      <th>0</th>\n",
       "      <td>1920</td>\n",
       "      <td>653.364063</td>\n",
       "      <td>1920</td>\n",
       "      <td>39.524479</td>\n",
       "      <td>1920</td>\n",
       "      <td>4.864583</td>\n",
       "      <td>1920</td>\n",
       "      <td>1.383333</td>\n",
       "      <td>1920</td>\n",
       "      <td>0.527604</td>\n",
       "      <td>1920</td>\n",
       "      <td>101101.214437</td>\n",
       "      <td>1920</td>\n",
       "      <td>0.242188</td>\n",
       "    </tr>\n",
       "    <tr>\n",
       "      <th>1</th>\n",
       "      <td>4463</td>\n",
       "      <td>650.181044</td>\n",
       "      <td>4463</td>\n",
       "      <td>39.057136</td>\n",
       "      <td>4463</td>\n",
       "      <td>5.029128</td>\n",
       "      <td>4463</td>\n",
       "      <td>1.387184</td>\n",
       "      <td>4463</td>\n",
       "      <td>0.507506</td>\n",
       "      <td>4463</td>\n",
       "      <td>100552.214251</td>\n",
       "      <td>4463</td>\n",
       "      <td>0.240197</td>\n",
       "    </tr>\n",
       "  </tbody>\n",
       "</table>\n",
       "</div>"
      ],
      "text/plain": [
       "           score               age            objects           products  \\\n",
       "           count        mean count       mean   count      mean    count   \n",
       "creditcard                                                                 \n",
       "0           1920  653.364063  1920  39.524479    1920  4.864583     1920   \n",
       "1           4463  650.181044  4463  39.057136    4463  5.029128     4463   \n",
       "\n",
       "                     loyalty           estimated_salary                churn  \\\n",
       "                mean   count      mean            count           mean count   \n",
       "creditcard                                                                     \n",
       "0           1.383333    1920  0.527604             1920  101101.214437  1920   \n",
       "1           1.387184    4463  0.507506             4463  100552.214251  4463   \n",
       "\n",
       "                      \n",
       "                mean  \n",
       "creditcard            \n",
       "0           0.242188  \n",
       "1           0.240197  "
      ]
     },
     "metadata": {},
     "output_type": "display_data"
    },
    {
     "name": "stdout",
     "output_type": "stream",
     "text": [
      "\n",
      "Баланс отсутствует\n"
     ]
    },
    {
     "data": {
      "text/html": [
       "<div>\n",
       "<style scoped>\n",
       "    .dataframe tbody tr th:only-of-type {\n",
       "        vertical-align: middle;\n",
       "    }\n",
       "\n",
       "    .dataframe tbody tr th {\n",
       "        vertical-align: top;\n",
       "    }\n",
       "\n",
       "    .dataframe thead tr th {\n",
       "        text-align: left;\n",
       "    }\n",
       "\n",
       "    .dataframe thead tr:last-of-type th {\n",
       "        text-align: right;\n",
       "    }\n",
       "</style>\n",
       "<table border=\"1\" class=\"dataframe\">\n",
       "  <thead>\n",
       "    <tr>\n",
       "      <th></th>\n",
       "      <th colspan=\"2\" halign=\"left\">score</th>\n",
       "      <th colspan=\"2\" halign=\"left\">age</th>\n",
       "      <th colspan=\"2\" halign=\"left\">objects</th>\n",
       "      <th colspan=\"2\" halign=\"left\">products</th>\n",
       "      <th colspan=\"2\" halign=\"left\">loyalty</th>\n",
       "      <th colspan=\"2\" halign=\"left\">estimated_salary</th>\n",
       "      <th colspan=\"2\" halign=\"left\">churn</th>\n",
       "    </tr>\n",
       "    <tr>\n",
       "      <th></th>\n",
       "      <th>count</th>\n",
       "      <th>mean</th>\n",
       "      <th>count</th>\n",
       "      <th>mean</th>\n",
       "      <th>count</th>\n",
       "      <th>mean</th>\n",
       "      <th>count</th>\n",
       "      <th>mean</th>\n",
       "      <th>count</th>\n",
       "      <th>mean</th>\n",
       "      <th>count</th>\n",
       "      <th>mean</th>\n",
       "      <th>count</th>\n",
       "      <th>mean</th>\n",
       "    </tr>\n",
       "    <tr>\n",
       "      <th>creditcard</th>\n",
       "      <th></th>\n",
       "      <th></th>\n",
       "      <th></th>\n",
       "      <th></th>\n",
       "      <th></th>\n",
       "      <th></th>\n",
       "      <th></th>\n",
       "      <th></th>\n",
       "      <th></th>\n",
       "      <th></th>\n",
       "      <th></th>\n",
       "      <th></th>\n",
       "      <th></th>\n",
       "      <th></th>\n",
       "    </tr>\n",
       "  </thead>\n",
       "  <tbody>\n",
       "    <tr>\n",
       "      <th>0</th>\n",
       "      <td>1025</td>\n",
       "      <td>647.563902</td>\n",
       "      <td>1025</td>\n",
       "      <td>38.339512</td>\n",
       "      <td>1025</td>\n",
       "      <td>5.000000</td>\n",
       "      <td>1025</td>\n",
       "      <td>1.797073</td>\n",
       "      <td>1025</td>\n",
       "      <td>0.518049</td>\n",
       "      <td>1025</td>\n",
       "      <td>100736.848332</td>\n",
       "      <td>1025</td>\n",
       "      <td>0.144390</td>\n",
       "    </tr>\n",
       "    <tr>\n",
       "      <th>1</th>\n",
       "      <td>2592</td>\n",
       "      <td>650.199846</td>\n",
       "      <td>2592</td>\n",
       "      <td>38.472608</td>\n",
       "      <td>2592</td>\n",
       "      <td>5.099537</td>\n",
       "      <td>2592</td>\n",
       "      <td>1.779707</td>\n",
       "      <td>2592</td>\n",
       "      <td>0.517747</td>\n",
       "      <td>2592</td>\n",
       "      <td>98290.225829</td>\n",
       "      <td>2592</td>\n",
       "      <td>0.135802</td>\n",
       "    </tr>\n",
       "  </tbody>\n",
       "</table>\n",
       "</div>"
      ],
      "text/plain": [
       "           score               age            objects           products  \\\n",
       "           count        mean count       mean   count      mean    count   \n",
       "creditcard                                                                 \n",
       "0           1025  647.563902  1025  38.339512    1025  5.000000     1025   \n",
       "1           2592  650.199846  2592  38.472608    2592  5.099537     2592   \n",
       "\n",
       "                     loyalty           estimated_salary                churn  \\\n",
       "                mean   count      mean            count           mean count   \n",
       "creditcard                                                                     \n",
       "0           1.797073    1025  0.518049             1025  100736.848332  1025   \n",
       "1           1.779707    2592  0.517747             2592   98290.225829  2592   \n",
       "\n",
       "                      \n",
       "                mean  \n",
       "creditcard            \n",
       "0           0.144390  \n",
       "1           0.135802  "
      ]
     },
     "metadata": {},
     "output_type": "display_data"
    },
    {
     "name": "stdout",
     "output_type": "stream",
     "text": [
      "========================================================================================================================\n",
      "\n",
      "Имеется баланс\n"
     ]
    },
    {
     "data": {
      "text/html": [
       "<div>\n",
       "<style scoped>\n",
       "    .dataframe tbody tr th:only-of-type {\n",
       "        vertical-align: middle;\n",
       "    }\n",
       "\n",
       "    .dataframe tbody tr th {\n",
       "        vertical-align: top;\n",
       "    }\n",
       "\n",
       "    .dataframe thead tr th {\n",
       "        text-align: left;\n",
       "    }\n",
       "\n",
       "    .dataframe thead tr:last-of-type th {\n",
       "        text-align: right;\n",
       "    }\n",
       "</style>\n",
       "<table border=\"1\" class=\"dataframe\">\n",
       "  <thead>\n",
       "    <tr>\n",
       "      <th></th>\n",
       "      <th colspan=\"2\" halign=\"left\">score</th>\n",
       "      <th colspan=\"2\" halign=\"left\">age</th>\n",
       "      <th colspan=\"2\" halign=\"left\">objects</th>\n",
       "      <th colspan=\"2\" halign=\"left\">products</th>\n",
       "      <th colspan=\"2\" halign=\"left\">creditcard</th>\n",
       "      <th colspan=\"2\" halign=\"left\">estimated_salary</th>\n",
       "      <th colspan=\"2\" halign=\"left\">churn</th>\n",
       "    </tr>\n",
       "    <tr>\n",
       "      <th></th>\n",
       "      <th>count</th>\n",
       "      <th>mean</th>\n",
       "      <th>count</th>\n",
       "      <th>mean</th>\n",
       "      <th>count</th>\n",
       "      <th>mean</th>\n",
       "      <th>count</th>\n",
       "      <th>mean</th>\n",
       "      <th>count</th>\n",
       "      <th>mean</th>\n",
       "      <th>count</th>\n",
       "      <th>mean</th>\n",
       "      <th>count</th>\n",
       "      <th>mean</th>\n",
       "    </tr>\n",
       "    <tr>\n",
       "      <th>loyalty</th>\n",
       "      <th></th>\n",
       "      <th></th>\n",
       "      <th></th>\n",
       "      <th></th>\n",
       "      <th></th>\n",
       "      <th></th>\n",
       "      <th></th>\n",
       "      <th></th>\n",
       "      <th></th>\n",
       "      <th></th>\n",
       "      <th></th>\n",
       "      <th></th>\n",
       "      <th></th>\n",
       "      <th></th>\n",
       "    </tr>\n",
       "  </thead>\n",
       "  <tbody>\n",
       "    <tr>\n",
       "      <th>0</th>\n",
       "      <td>3105</td>\n",
       "      <td>648.056683</td>\n",
       "      <td>3105</td>\n",
       "      <td>38.518196</td>\n",
       "      <td>3105</td>\n",
       "      <td>5.106280</td>\n",
       "      <td>3105</td>\n",
       "      <td>1.389694</td>\n",
       "      <td>3105</td>\n",
       "      <td>0.70789</td>\n",
       "      <td>3105</td>\n",
       "      <td>101520.864564</td>\n",
       "      <td>3105</td>\n",
       "      <td>0.316264</td>\n",
       "    </tr>\n",
       "    <tr>\n",
       "      <th>1</th>\n",
       "      <td>3278</td>\n",
       "      <td>654.057657</td>\n",
       "      <td>3278</td>\n",
       "      <td>39.841367</td>\n",
       "      <td>3278</td>\n",
       "      <td>4.859671</td>\n",
       "      <td>3278</td>\n",
       "      <td>1.382550</td>\n",
       "      <td>3278</td>\n",
       "      <td>0.69097</td>\n",
       "      <td>3278</td>\n",
       "      <td>99956.247544</td>\n",
       "      <td>3278</td>\n",
       "      <td>0.169311</td>\n",
       "    </tr>\n",
       "  </tbody>\n",
       "</table>\n",
       "</div>"
      ],
      "text/plain": [
       "        score               age            objects           products  \\\n",
       "        count        mean count       mean   count      mean    count   \n",
       "loyalty                                                                 \n",
       "0        3105  648.056683  3105  38.518196    3105  5.106280     3105   \n",
       "1        3278  654.057657  3278  39.841367    3278  4.859671     3278   \n",
       "\n",
       "                  creditcard          estimated_salary                churn  \\\n",
       "             mean      count     mean            count           mean count   \n",
       "loyalty                                                                       \n",
       "0        1.389694       3105  0.70789             3105  101520.864564  3105   \n",
       "1        1.382550       3278  0.69097             3278   99956.247544  3278   \n",
       "\n",
       "                   \n",
       "             mean  \n",
       "loyalty            \n",
       "0        0.316264  \n",
       "1        0.169311  "
      ]
     },
     "metadata": {},
     "output_type": "display_data"
    },
    {
     "name": "stdout",
     "output_type": "stream",
     "text": [
      "\n",
      "Баланс отсутствует\n"
     ]
    },
    {
     "data": {
      "text/html": [
       "<div>\n",
       "<style scoped>\n",
       "    .dataframe tbody tr th:only-of-type {\n",
       "        vertical-align: middle;\n",
       "    }\n",
       "\n",
       "    .dataframe tbody tr th {\n",
       "        vertical-align: top;\n",
       "    }\n",
       "\n",
       "    .dataframe thead tr th {\n",
       "        text-align: left;\n",
       "    }\n",
       "\n",
       "    .dataframe thead tr:last-of-type th {\n",
       "        text-align: right;\n",
       "    }\n",
       "</style>\n",
       "<table border=\"1\" class=\"dataframe\">\n",
       "  <thead>\n",
       "    <tr>\n",
       "      <th></th>\n",
       "      <th colspan=\"2\" halign=\"left\">score</th>\n",
       "      <th colspan=\"2\" halign=\"left\">age</th>\n",
       "      <th colspan=\"2\" halign=\"left\">objects</th>\n",
       "      <th colspan=\"2\" halign=\"left\">products</th>\n",
       "      <th colspan=\"2\" halign=\"left\">creditcard</th>\n",
       "      <th colspan=\"2\" halign=\"left\">estimated_salary</th>\n",
       "      <th colspan=\"2\" halign=\"left\">churn</th>\n",
       "    </tr>\n",
       "    <tr>\n",
       "      <th></th>\n",
       "      <th>count</th>\n",
       "      <th>mean</th>\n",
       "      <th>count</th>\n",
       "      <th>mean</th>\n",
       "      <th>count</th>\n",
       "      <th>mean</th>\n",
       "      <th>count</th>\n",
       "      <th>mean</th>\n",
       "      <th>count</th>\n",
       "      <th>mean</th>\n",
       "      <th>count</th>\n",
       "      <th>mean</th>\n",
       "      <th>count</th>\n",
       "      <th>mean</th>\n",
       "    </tr>\n",
       "    <tr>\n",
       "      <th>loyalty</th>\n",
       "      <th></th>\n",
       "      <th></th>\n",
       "      <th></th>\n",
       "      <th></th>\n",
       "      <th></th>\n",
       "      <th></th>\n",
       "      <th></th>\n",
       "      <th></th>\n",
       "      <th></th>\n",
       "      <th></th>\n",
       "      <th></th>\n",
       "      <th></th>\n",
       "      <th></th>\n",
       "      <th></th>\n",
       "    </tr>\n",
       "  </thead>\n",
       "  <tbody>\n",
       "    <tr>\n",
       "      <th>0</th>\n",
       "      <td>1744</td>\n",
       "      <td>647.825688</td>\n",
       "      <td>1744</td>\n",
       "      <td>37.071674</td>\n",
       "      <td>1744</td>\n",
       "      <td>5.081422</td>\n",
       "      <td>1744</td>\n",
       "      <td>1.764335</td>\n",
       "      <td>1744</td>\n",
       "      <td>0.716743</td>\n",
       "      <td>1744</td>\n",
       "      <td>99425.393933</td>\n",
       "      <td>1744</td>\n",
       "      <td>0.183486</td>\n",
       "    </tr>\n",
       "    <tr>\n",
       "      <th>1</th>\n",
       "      <td>1873</td>\n",
       "      <td>650.967966</td>\n",
       "      <td>1873</td>\n",
       "      <td>39.704218</td>\n",
       "      <td>1873</td>\n",
       "      <td>5.061933</td>\n",
       "      <td>1873</td>\n",
       "      <td>1.803524</td>\n",
       "      <td>1873</td>\n",
       "      <td>0.716498</td>\n",
       "      <td>1873</td>\n",
       "      <td>98572.155830</td>\n",
       "      <td>1873</td>\n",
       "      <td>0.096103</td>\n",
       "    </tr>\n",
       "  </tbody>\n",
       "</table>\n",
       "</div>"
      ],
      "text/plain": [
       "        score               age            objects           products  \\\n",
       "        count        mean count       mean   count      mean    count   \n",
       "loyalty                                                                 \n",
       "0        1744  647.825688  1744  37.071674    1744  5.081422     1744   \n",
       "1        1873  650.967966  1873  39.704218    1873  5.061933     1873   \n",
       "\n",
       "                  creditcard           estimated_salary               churn  \\\n",
       "             mean      count      mean            count          mean count   \n",
       "loyalty                                                                       \n",
       "0        1.764335       1744  0.716743             1744  99425.393933  1744   \n",
       "1        1.803524       1873  0.716498             1873  98572.155830  1873   \n",
       "\n",
       "                   \n",
       "             mean  \n",
       "loyalty            \n",
       "0        0.183486  \n",
       "1        0.096103  "
      ]
     },
     "metadata": {},
     "output_type": "display_data"
    },
    {
     "name": "stdout",
     "output_type": "stream",
     "text": [
      "========================================================================================================================\n",
      "\n"
     ]
    }
   ],
   "source": [
    "for column in columns_discret:\n",
    "    print('Имеется баланс')\n",
    "    display(balance.groupby(column).agg(['count', 'mean']))\n",
    "    print()\n",
    "    print('Баланс отсутствует')\n",
    "    display(no_balance.groupby(column).agg(['count', 'mean']))\n",
    "    print('='*120)\n",
    "    print()\n"
   ]
  },
  {
   "cell_type": "markdown",
   "id": "eb6a0138",
   "metadata": {},
   "source": [
    "Можем отметить некоторую особенность: отсутсвие данных по балансу имеется в городах Ярославль и Рыбинск. С технической стороны такой эфект мог проявиться при соединении к таблице данных по городу Ростов великий, данных по городам Рыбинск и Ярославль. Еще стоит отметить, что у клиентов с отсутствующим балансом максимальна доля пользующихся 2-мя продуктами банка, у клиентов с балансом на счету, максимальна доля пользующихся 1 продуктом. Оставим пропуски как есть, поскольку на корректную оценку они не повлияют."
   ]
  },
  {
   "cell_type": "markdown",
   "id": "c65bbeed",
   "metadata": {},
   "source": [
    "#### Исследовать и заменить типы данных"
   ]
  },
  {
   "cell_type": "markdown",
   "id": "e52d50ae",
   "metadata": {},
   "source": [
    "В целом данные имеют правильные типы, единственно, что можно преобразовать, так это колонку \"gender\" привести к целочисленному типу. Зададим значение 1 - мужскому, 0 - женскому полу."
   ]
  },
  {
   "cell_type": "code",
   "execution_count": 22,
   "id": "5e910585",
   "metadata": {
    "ExecuteTime": {
     "end_time": "2022-08-09T08:53:13.549080Z",
     "start_time": "2022-08-09T08:53:13.536097Z"
    }
   },
   "outputs": [
    {
     "data": {
      "text/plain": [
       "М    5457\n",
       "Ж    4543\n",
       "Name: gender, dtype: int64"
      ]
     },
     "execution_count": 22,
     "metadata": {},
     "output_type": "execute_result"
    }
   ],
   "source": [
    "# до преобразования\n",
    "bank.gender.value_counts()"
   ]
  },
  {
   "cell_type": "code",
   "execution_count": 23,
   "id": "851f9d08",
   "metadata": {
    "ExecuteTime": {
     "end_time": "2022-08-09T08:53:13.580108Z",
     "start_time": "2022-08-09T08:53:13.556870Z"
    }
   },
   "outputs": [
    {
     "data": {
      "text/plain": [
       "1    5457\n",
       "0    4543\n",
       "Name: gender, dtype: int64"
      ]
     },
     "execution_count": 23,
     "metadata": {},
     "output_type": "execute_result"
    }
   ],
   "source": [
    "bank.gender = np.where(bank['gender'] == 'М', 1, 0)\n",
    "\n",
    "# после преобразования\n",
    "bank.gender.value_counts()"
   ]
  },
  {
   "cell_type": "markdown",
   "id": "3b8d849c",
   "metadata": {},
   "source": [
    "Преобразование прошло успешно, соотношение полов осталось прежним."
   ]
  },
  {
   "cell_type": "markdown",
   "id": "63b87f84",
   "metadata": {},
   "source": [
    "#### Исследовать и удалить дубликаты"
   ]
  },
  {
   "cell_type": "code",
   "execution_count": 24,
   "id": "37296fd1",
   "metadata": {
    "ExecuteTime": {
     "end_time": "2022-08-09T08:53:26.421766Z",
     "start_time": "2022-08-09T08:53:26.387481Z"
    }
   },
   "outputs": [
    {
     "name": "stdout",
     "output_type": "stream",
     "text": [
      "Количество дубликатов: 0\n"
     ]
    }
   ],
   "source": [
    "print('Количество дубликатов:',bank.drop('userid', axis=1).duplicated().sum())"
   ]
  },
  {
   "cell_type": "markdown",
   "id": "6185fdcf",
   "metadata": {},
   "source": [
    "**Вывод**\n",
    "На этом будем считать предобработку завершенной."
   ]
  },
  {
   "cell_type": "markdown",
   "id": "e9f1c04c",
   "metadata": {},
   "source": [
    "## Исследовательский анализ"
   ]
  },
  {
   "cell_type": "markdown",
   "id": "f548b17f",
   "metadata": {},
   "source": [
    "### Выясним какие факторы имеют наибольшее влияние на отток клиентов"
   ]
  },
  {
   "cell_type": "code",
   "execution_count": 25,
   "id": "49556612",
   "metadata": {
    "ExecuteTime": {
     "end_time": "2022-08-09T08:53:29.946865Z",
     "start_time": "2022-08-09T08:53:29.282979Z"
    }
   },
   "outputs": [],
   "source": [
    "#! pip install catboost\n",
    "from sklearn.model_selection import train_test_split\n",
    "from catboost import CatBoostClassifier"
   ]
  },
  {
   "cell_type": "code",
   "execution_count": 26,
   "id": "22e71aff",
   "metadata": {
    "ExecuteTime": {
     "end_time": "2022-08-09T08:53:35.114200Z",
     "start_time": "2022-08-09T08:53:35.108217Z"
    },
    "scrolled": true
   },
   "outputs": [],
   "source": [
    "model = CatBoostClassifier(verbose=100)"
   ]
  },
  {
   "cell_type": "markdown",
   "id": "98301462",
   "metadata": {},
   "source": [
    "#### Используем только датафрейм, имеющий заполненные значения `balance`"
   ]
  },
  {
   "cell_type": "code",
   "execution_count": 27,
   "id": "4fd70846",
   "metadata": {
    "ExecuteTime": {
     "end_time": "2022-08-09T08:53:51.513950Z",
     "start_time": "2022-08-09T08:53:51.481155Z"
    }
   },
   "outputs": [
    {
     "data": {
      "text/html": [
       "<div>\n",
       "<style scoped>\n",
       "    .dataframe tbody tr th:only-of-type {\n",
       "        vertical-align: middle;\n",
       "    }\n",
       "\n",
       "    .dataframe tbody tr th {\n",
       "        vertical-align: top;\n",
       "    }\n",
       "\n",
       "    .dataframe thead th {\n",
       "        text-align: right;\n",
       "    }\n",
       "</style>\n",
       "<table border=\"1\" class=\"dataframe\">\n",
       "  <thead>\n",
       "    <tr style=\"text-align: right;\">\n",
       "      <th></th>\n",
       "      <th>userid</th>\n",
       "      <th>score</th>\n",
       "      <th>city</th>\n",
       "      <th>gender</th>\n",
       "      <th>age</th>\n",
       "      <th>objects</th>\n",
       "      <th>balance</th>\n",
       "      <th>products</th>\n",
       "      <th>creditcard</th>\n",
       "      <th>loyalty</th>\n",
       "      <th>estimated_salary</th>\n",
       "      <th>churn</th>\n",
       "    </tr>\n",
       "  </thead>\n",
       "  <tbody>\n",
       "    <tr>\n",
       "      <th>1</th>\n",
       "      <td>15690047</td>\n",
       "      <td>608</td>\n",
       "      <td>Рыбинск</td>\n",
       "      <td>0</td>\n",
       "      <td>41</td>\n",
       "      <td>1</td>\n",
       "      <td>83807.86</td>\n",
       "      <td>1</td>\n",
       "      <td>0</td>\n",
       "      <td>1</td>\n",
       "      <td>112542.58</td>\n",
       "      <td>0</td>\n",
       "    </tr>\n",
       "    <tr>\n",
       "      <th>2</th>\n",
       "      <td>15662040</td>\n",
       "      <td>502</td>\n",
       "      <td>Ярославль</td>\n",
       "      <td>0</td>\n",
       "      <td>42</td>\n",
       "      <td>8</td>\n",
       "      <td>159660.80</td>\n",
       "      <td>3</td>\n",
       "      <td>1</td>\n",
       "      <td>0</td>\n",
       "      <td>113931.57</td>\n",
       "      <td>1</td>\n",
       "    </tr>\n",
       "    <tr>\n",
       "      <th>4</th>\n",
       "      <td>15780624</td>\n",
       "      <td>850</td>\n",
       "      <td>Рыбинск</td>\n",
       "      <td>0</td>\n",
       "      <td>43</td>\n",
       "      <td>2</td>\n",
       "      <td>125510.82</td>\n",
       "      <td>1</td>\n",
       "      <td>1</td>\n",
       "      <td>1</td>\n",
       "      <td>79084.10</td>\n",
       "      <td>0</td>\n",
       "    </tr>\n",
       "    <tr>\n",
       "      <th>5</th>\n",
       "      <td>15616748</td>\n",
       "      <td>645</td>\n",
       "      <td>Рыбинск</td>\n",
       "      <td>1</td>\n",
       "      <td>44</td>\n",
       "      <td>8</td>\n",
       "      <td>113755.78</td>\n",
       "      <td>2</td>\n",
       "      <td>1</td>\n",
       "      <td>0</td>\n",
       "      <td>149756.71</td>\n",
       "      <td>1</td>\n",
       "    </tr>\n",
       "    <tr>\n",
       "      <th>7</th>\n",
       "      <td>15698884</td>\n",
       "      <td>376</td>\n",
       "      <td>Ростов Великий</td>\n",
       "      <td>0</td>\n",
       "      <td>29</td>\n",
       "      <td>4</td>\n",
       "      <td>115046.74</td>\n",
       "      <td>4</td>\n",
       "      <td>1</td>\n",
       "      <td>0</td>\n",
       "      <td>119346.88</td>\n",
       "      <td>1</td>\n",
       "    </tr>\n",
       "  </tbody>\n",
       "</table>\n",
       "</div>"
      ],
      "text/plain": [
       "     userid  score            city  gender  age  objects    balance  products  \\\n",
       "1  15690047    608         Рыбинск       0   41        1   83807.86         1   \n",
       "2  15662040    502       Ярославль       0   42        8  159660.80         3   \n",
       "4  15780624    850         Рыбинск       0   43        2  125510.82         1   \n",
       "5  15616748    645         Рыбинск       1   44        8  113755.78         2   \n",
       "7  15698884    376  Ростов Великий       0   29        4  115046.74         4   \n",
       "\n",
       "   creditcard  loyalty  estimated_salary  churn  \n",
       "1           0        1         112542.58      0  \n",
       "2           1        0         113931.57      1  \n",
       "4           1        1          79084.10      0  \n",
       "5           1        0         149756.71      1  \n",
       "7           1        0         119346.88      1  "
      ]
     },
     "execution_count": 27,
     "metadata": {},
     "output_type": "execute_result"
    }
   ],
   "source": [
    "user_with_balance = bank.query('balance.notna()')\n",
    "user_with_balance.head()"
   ]
  },
  {
   "cell_type": "code",
   "execution_count": 28,
   "id": "f99658d8",
   "metadata": {
    "ExecuteTime": {
     "end_time": "2022-08-09T08:54:14.314288Z",
     "start_time": "2022-08-09T08:54:14.300628Z"
    }
   },
   "outputs": [],
   "source": [
    "X_train, X_test, y_train, y_test = train_test_split(user_with_balance.drop(['userid','churn'], axis=1), user_with_balance['churn'], test_size=0.2, random_state=7)\n",
    "cat_features = ['city']"
   ]
  },
  {
   "cell_type": "code",
   "execution_count": 29,
   "id": "f46ab398",
   "metadata": {
    "ExecuteTime": {
     "end_time": "2022-08-09T08:54:47.212819Z",
     "start_time": "2022-08-09T08:54:19.405352Z"
    },
    "scrolled": true
   },
   "outputs": [
    {
     "name": "stdout",
     "output_type": "stream",
     "text": [
      "Learning rate set to 0.047403\n",
      "0:\tlearn: 0.6671323\ttest: 0.6679143\tbest: 0.6679143 (0)\ttotal: 66.3ms\tremaining: 1m 6s\n",
      "100:\tlearn: 0.3588623\ttest: 0.3876652\tbest: 0.3876652 (100)\ttotal: 460ms\tremaining: 4.1s\n",
      "200:\tlearn: 0.3296228\ttest: 0.3845514\tbest: 0.3839727 (152)\ttotal: 891ms\tremaining: 3.54s\n",
      "300:\tlearn: 0.3033723\ttest: 0.3864469\tbest: 0.3839727 (152)\ttotal: 1.31s\tremaining: 3.04s\n",
      "400:\tlearn: 0.2770658\ttest: 0.3910299\tbest: 0.3839727 (152)\ttotal: 1.76s\tremaining: 2.63s\n",
      "500:\tlearn: 0.2570742\ttest: 0.3928734\tbest: 0.3839727 (152)\ttotal: 2.19s\tremaining: 2.18s\n",
      "600:\tlearn: 0.2384472\ttest: 0.3946627\tbest: 0.3839727 (152)\ttotal: 2.62s\tremaining: 1.74s\n",
      "700:\tlearn: 0.2219735\ttest: 0.3965132\tbest: 0.3839727 (152)\ttotal: 3.04s\tremaining: 1.3s\n",
      "800:\tlearn: 0.2070295\ttest: 0.4017491\tbest: 0.3839727 (152)\ttotal: 3.46s\tremaining: 860ms\n",
      "900:\tlearn: 0.1940678\ttest: 0.4051151\tbest: 0.3839727 (152)\ttotal: 3.89s\tremaining: 427ms\n",
      "999:\tlearn: 0.1826835\ttest: 0.4087414\tbest: 0.3839727 (152)\ttotal: 4.31s\tremaining: 0us\n",
      "\n",
      "bestTest = 0.3839727073\n",
      "bestIteration = 152\n",
      "\n",
      "Shrink model to first 153 iterations.\n"
     ]
    },
    {
     "data": {
      "text/plain": [
       "<catboost.core.CatBoostClassifier at 0x7f45b31b26a0>"
      ]
     },
     "execution_count": 29,
     "metadata": {},
     "output_type": "execute_result"
    }
   ],
   "source": [
    "model.fit(X_train, y_train, eval_set=(X_test,y_test),cat_features=cat_features)\n"
   ]
  },
  {
   "cell_type": "code",
   "execution_count": 30,
   "id": "4640dccf",
   "metadata": {
    "ExecuteTime": {
     "end_time": "2022-08-09T08:55:46.850512Z",
     "start_time": "2022-08-09T08:55:46.830769Z"
    }
   },
   "outputs": [
    {
     "name": "stdout",
     "output_type": "stream",
     "text": [
      "Список наиболее влияющих на отток признаков\n"
     ]
    },
    {
     "data": {
      "text/html": [
       "<div>\n",
       "<style scoped>\n",
       "    .dataframe tbody tr th:only-of-type {\n",
       "        vertical-align: middle;\n",
       "    }\n",
       "\n",
       "    .dataframe tbody tr th {\n",
       "        vertical-align: top;\n",
       "    }\n",
       "\n",
       "    .dataframe thead th {\n",
       "        text-align: right;\n",
       "    }\n",
       "</style>\n",
       "<table border=\"1\" class=\"dataframe\">\n",
       "  <thead>\n",
       "    <tr style=\"text-align: right;\">\n",
       "      <th></th>\n",
       "      <th>w</th>\n",
       "      <th>name</th>\n",
       "    </tr>\n",
       "  </thead>\n",
       "  <tbody>\n",
       "    <tr>\n",
       "      <th>3</th>\n",
       "      <td>25.639592</td>\n",
       "      <td>age</td>\n",
       "    </tr>\n",
       "    <tr>\n",
       "      <th>6</th>\n",
       "      <td>24.851248</td>\n",
       "      <td>products</td>\n",
       "    </tr>\n",
       "    <tr>\n",
       "      <th>1</th>\n",
       "      <td>14.202476</td>\n",
       "      <td>city</td>\n",
       "    </tr>\n",
       "    <tr>\n",
       "      <th>5</th>\n",
       "      <td>10.085203</td>\n",
       "      <td>balance</td>\n",
       "    </tr>\n",
       "    <tr>\n",
       "      <th>8</th>\n",
       "      <td>9.572902</td>\n",
       "      <td>loyalty</td>\n",
       "    </tr>\n",
       "    <tr>\n",
       "      <th>2</th>\n",
       "      <td>4.079632</td>\n",
       "      <td>gender</td>\n",
       "    </tr>\n",
       "    <tr>\n",
       "      <th>4</th>\n",
       "      <td>3.914062</td>\n",
       "      <td>objects</td>\n",
       "    </tr>\n",
       "    <tr>\n",
       "      <th>9</th>\n",
       "      <td>3.532073</td>\n",
       "      <td>estimated_salary</td>\n",
       "    </tr>\n",
       "    <tr>\n",
       "      <th>0</th>\n",
       "      <td>3.140302</td>\n",
       "      <td>score</td>\n",
       "    </tr>\n",
       "    <tr>\n",
       "      <th>7</th>\n",
       "      <td>0.982509</td>\n",
       "      <td>creditcard</td>\n",
       "    </tr>\n",
       "  </tbody>\n",
       "</table>\n",
       "</div>"
      ],
      "text/plain": [
       "           w              name\n",
       "3  25.639592               age\n",
       "6  24.851248          products\n",
       "1  14.202476              city\n",
       "5  10.085203           balance\n",
       "8   9.572902           loyalty\n",
       "2   4.079632            gender\n",
       "4   3.914062           objects\n",
       "9   3.532073  estimated_salary\n",
       "0   3.140302             score\n",
       "7   0.982509        creditcard"
      ]
     },
     "execution_count": 30,
     "metadata": {},
     "output_type": "execute_result"
    }
   ],
   "source": [
    "X_col = ['score', 'city', 'gender', 'age', 'objects', 'balance',\n",
    "       'products', 'creditcard', 'loyalty', 'estimated_salary']\n",
    "fi = pd.DataFrame({'w':model.feature_importances_,'name':X_col})\n",
    "fi.sort_values('w',ascending=False,inplace=True)\n",
    "print('Список наиболее влияющих на отток признаков')\n",
    "fi"
   ]
  },
  {
   "cell_type": "markdown",
   "id": "03d2b29f",
   "metadata": {},
   "source": [
    "#### Используем весь датафрейм, пропуски `balance` заполним нулями"
   ]
  },
  {
   "cell_type": "code",
   "execution_count": 31,
   "id": "949bc322",
   "metadata": {
    "ExecuteTime": {
     "end_time": "2022-08-09T08:56:42.308366Z",
     "start_time": "2022-08-09T08:56:42.295313Z"
    }
   },
   "outputs": [],
   "source": [
    "bank_clf = bank.copy()\n",
    "bank_clf['balance'] = np.where(bank_clf['balance'].isna(),0, bank_clf['balance'])"
   ]
  },
  {
   "cell_type": "code",
   "execution_count": 32,
   "id": "29b3cec5",
   "metadata": {
    "ExecuteTime": {
     "end_time": "2022-08-09T08:56:56.439537Z",
     "start_time": "2022-08-09T08:56:56.412146Z"
    }
   },
   "outputs": [],
   "source": [
    "X_train, X_test, y_train, y_test = train_test_split(bank_clf.drop(['userid','churn'], axis=1), bank_clf['churn'], test_size=0.2, random_state=7)"
   ]
  },
  {
   "cell_type": "code",
   "execution_count": 33,
   "id": "23508b59",
   "metadata": {
    "ExecuteTime": {
     "end_time": "2022-08-09T08:57:27.958328Z",
     "start_time": "2022-08-09T08:56:57.650204Z"
    },
    "scrolled": true
   },
   "outputs": [
    {
     "name": "stdout",
     "output_type": "stream",
     "text": [
      "Learning rate set to 0.052963\n",
      "0:\tlearn: 0.6514203\ttest: 0.6516727\tbest: 0.6516727 (0)\ttotal: 6.86ms\tremaining: 6.85s\n",
      "100:\tlearn: 0.3143973\ttest: 0.3262905\tbest: 0.3262905 (100)\ttotal: 650ms\tremaining: 5.79s\n",
      "200:\tlearn: 0.2929782\ttest: 0.3226305\tbest: 0.3224235 (192)\ttotal: 1.32s\tremaining: 5.24s\n",
      "300:\tlearn: 0.2716698\ttest: 0.3232396\tbest: 0.3224235 (192)\ttotal: 1.92s\tremaining: 4.47s\n",
      "400:\tlearn: 0.2533684\ttest: 0.3233425\tbest: 0.3224235 (192)\ttotal: 2.53s\tremaining: 3.78s\n",
      "500:\tlearn: 0.2372508\ttest: 0.3245973\tbest: 0.3224235 (192)\ttotal: 3.14s\tremaining: 3.13s\n",
      "600:\tlearn: 0.2227440\ttest: 0.3265611\tbest: 0.3224235 (192)\ttotal: 3.74s\tremaining: 2.48s\n",
      "700:\tlearn: 0.2099017\ttest: 0.3285445\tbest: 0.3224235 (192)\ttotal: 4.37s\tremaining: 1.86s\n",
      "800:\tlearn: 0.1991971\ttest: 0.3309631\tbest: 0.3224235 (192)\ttotal: 4.99s\tremaining: 1.24s\n",
      "900:\tlearn: 0.1884898\ttest: 0.3333756\tbest: 0.3224235 (192)\ttotal: 5.61s\tremaining: 616ms\n",
      "999:\tlearn: 0.1793005\ttest: 0.3345351\tbest: 0.3224235 (192)\ttotal: 6.22s\tremaining: 0us\n",
      "\n",
      "bestTest = 0.3224235081\n",
      "bestIteration = 192\n",
      "\n",
      "Shrink model to first 193 iterations.\n"
     ]
    },
    {
     "data": {
      "text/plain": [
       "<catboost.core.CatBoostClassifier at 0x7f45b31b26a0>"
      ]
     },
     "execution_count": 33,
     "metadata": {},
     "output_type": "execute_result"
    }
   ],
   "source": [
    "model_clf = CatBoostClassifier(verbose=100)\n",
    "model.fit(X_train, y_train, eval_set=(X_test,y_test),cat_features=cat_features)"
   ]
  },
  {
   "cell_type": "code",
   "execution_count": 34,
   "id": "0f8a6529",
   "metadata": {
    "ExecuteTime": {
     "end_time": "2022-08-09T08:57:32.027588Z",
     "start_time": "2022-08-09T08:57:31.999556Z"
    }
   },
   "outputs": [
    {
     "data": {
      "text/html": [
       "<div>\n",
       "<style scoped>\n",
       "    .dataframe tbody tr th:only-of-type {\n",
       "        vertical-align: middle;\n",
       "    }\n",
       "\n",
       "    .dataframe tbody tr th {\n",
       "        vertical-align: top;\n",
       "    }\n",
       "\n",
       "    .dataframe thead th {\n",
       "        text-align: right;\n",
       "    }\n",
       "</style>\n",
       "<table border=\"1\" class=\"dataframe\">\n",
       "  <thead>\n",
       "    <tr style=\"text-align: right;\">\n",
       "      <th></th>\n",
       "      <th>w</th>\n",
       "      <th>name</th>\n",
       "    </tr>\n",
       "  </thead>\n",
       "  <tbody>\n",
       "    <tr>\n",
       "      <th>6</th>\n",
       "      <td>31.520919</td>\n",
       "      <td>products</td>\n",
       "    </tr>\n",
       "    <tr>\n",
       "      <th>3</th>\n",
       "      <td>23.763121</td>\n",
       "      <td>age</td>\n",
       "    </tr>\n",
       "    <tr>\n",
       "      <th>5</th>\n",
       "      <td>11.860564</td>\n",
       "      <td>balance</td>\n",
       "    </tr>\n",
       "    <tr>\n",
       "      <th>1</th>\n",
       "      <td>9.915279</td>\n",
       "      <td>city</td>\n",
       "    </tr>\n",
       "    <tr>\n",
       "      <th>8</th>\n",
       "      <td>7.042767</td>\n",
       "      <td>loyalty</td>\n",
       "    </tr>\n",
       "    <tr>\n",
       "      <th>9</th>\n",
       "      <td>4.386083</td>\n",
       "      <td>estimated_salary</td>\n",
       "    </tr>\n",
       "    <tr>\n",
       "      <th>0</th>\n",
       "      <td>3.906754</td>\n",
       "      <td>score</td>\n",
       "    </tr>\n",
       "    <tr>\n",
       "      <th>4</th>\n",
       "      <td>3.388521</td>\n",
       "      <td>objects</td>\n",
       "    </tr>\n",
       "    <tr>\n",
       "      <th>2</th>\n",
       "      <td>3.235185</td>\n",
       "      <td>gender</td>\n",
       "    </tr>\n",
       "    <tr>\n",
       "      <th>7</th>\n",
       "      <td>0.980807</td>\n",
       "      <td>creditcard</td>\n",
       "    </tr>\n",
       "  </tbody>\n",
       "</table>\n",
       "</div>"
      ],
      "text/plain": [
       "           w              name\n",
       "6  31.520919          products\n",
       "3  23.763121               age\n",
       "5  11.860564           balance\n",
       "1   9.915279              city\n",
       "8   7.042767           loyalty\n",
       "9   4.386083  estimated_salary\n",
       "0   3.906754             score\n",
       "4   3.388521           objects\n",
       "2   3.235185            gender\n",
       "7   0.980807        creditcard"
      ]
     },
     "execution_count": 34,
     "metadata": {},
     "output_type": "execute_result"
    }
   ],
   "source": [
    "fi = pd.DataFrame({'w':model.feature_importances_,'name':X_col})\n",
    "fi.sort_values('w',ascending=False,inplace=True)\n",
    "fi"
   ]
  },
  {
   "cell_type": "markdown",
   "id": "811ed15f",
   "metadata": {},
   "source": [
    "**Вывод**\n",
    "\n",
    "Для датафрейма, исключающего пропуски тройка лидеров:\n",
    "- age;\n",
    "- products;\n",
    "- city;\n",
    "\n",
    "Для полного датафрейма тройка лидеров:\n",
    "- products;\n",
    "- age;\n",
    "- balance;\n"
   ]
  },
  {
   "cell_type": "markdown",
   "id": "39addd07",
   "metadata": {},
   "source": [
    "### Влияние количества продуктов, используемых клиентом на отток"
   ]
  },
  {
   "cell_type": "code",
   "execution_count": 35,
   "id": "4968ba1c",
   "metadata": {
    "ExecuteTime": {
     "end_time": "2022-08-09T09:00:56.772280Z",
     "start_time": "2022-08-09T09:00:56.745025Z"
    }
   },
   "outputs": [
    {
     "data": {
      "text/html": [
       "<div>\n",
       "<style scoped>\n",
       "    .dataframe tbody tr th:only-of-type {\n",
       "        vertical-align: middle;\n",
       "    }\n",
       "\n",
       "    .dataframe tbody tr th {\n",
       "        vertical-align: top;\n",
       "    }\n",
       "\n",
       "    .dataframe thead th {\n",
       "        text-align: right;\n",
       "    }\n",
       "</style>\n",
       "<table border=\"1\" class=\"dataframe\">\n",
       "  <thead>\n",
       "    <tr style=\"text-align: right;\">\n",
       "      <th></th>\n",
       "      <th>count</th>\n",
       "      <th>sum</th>\n",
       "      <th>mean</th>\n",
       "    </tr>\n",
       "    <tr>\n",
       "      <th>products</th>\n",
       "      <th></th>\n",
       "      <th></th>\n",
       "      <th></th>\n",
       "    </tr>\n",
       "  </thead>\n",
       "  <tbody>\n",
       "    <tr>\n",
       "      <th>1</th>\n",
       "      <td>5084</td>\n",
       "      <td>1409</td>\n",
       "      <td>0.277144</td>\n",
       "    </tr>\n",
       "    <tr>\n",
       "      <th>2</th>\n",
       "      <td>4590</td>\n",
       "      <td>348</td>\n",
       "      <td>0.075817</td>\n",
       "    </tr>\n",
       "    <tr>\n",
       "      <th>3</th>\n",
       "      <td>266</td>\n",
       "      <td>220</td>\n",
       "      <td>0.827068</td>\n",
       "    </tr>\n",
       "    <tr>\n",
       "      <th>4</th>\n",
       "      <td>60</td>\n",
       "      <td>60</td>\n",
       "      <td>1.000000</td>\n",
       "    </tr>\n",
       "  </tbody>\n",
       "</table>\n",
       "</div>"
      ],
      "text/plain": [
       "          count   sum      mean\n",
       "products                       \n",
       "1          5084  1409  0.277144\n",
       "2          4590   348  0.075817\n",
       "3           266   220  0.827068\n",
       "4            60    60  1.000000"
      ]
     },
     "execution_count": 35,
     "metadata": {},
     "output_type": "execute_result"
    }
   ],
   "source": [
    "bank.groupby('products')['churn'].agg(['count','sum', 'mean'])"
   ]
  },
  {
   "cell_type": "markdown",
   "id": "d51ca8f9",
   "metadata": {},
   "source": [
    "Доля клиентов использующих 2 продукта в 4 раза меньше подвержена оттоку(7% против 27%), чем использующие 1 продукт, при сопоставимом количестве клиентов в этих категориях. Категории с 3 и 4 продуктами, хотя и имеют, почти 100% отток, малочислены, и скорее являются \"шумом\", чем значащами данными."
   ]
  },
  {
   "cell_type": "markdown",
   "id": "e1f8ee2b",
   "metadata": {},
   "source": [
    "### Влияние возраста клиентов на отток"
   ]
  },
  {
   "cell_type": "markdown",
   "id": "c7dcb1a1",
   "metadata": {},
   "source": [
    "Клиентов  разобъем на 5 групп по возрасту."
   ]
  },
  {
   "cell_type": "code",
   "execution_count": 36,
   "id": "bbc7acda",
   "metadata": {
    "ExecuteTime": {
     "end_time": "2022-08-09T09:01:14.638983Z",
     "start_time": "2022-08-09T09:01:14.609506Z"
    }
   },
   "outputs": [
    {
     "data": {
      "text/html": [
       "<div>\n",
       "<style scoped>\n",
       "    .dataframe tbody tr th:only-of-type {\n",
       "        vertical-align: middle;\n",
       "    }\n",
       "\n",
       "    .dataframe tbody tr th {\n",
       "        vertical-align: top;\n",
       "    }\n",
       "\n",
       "    .dataframe thead th {\n",
       "        text-align: right;\n",
       "    }\n",
       "</style>\n",
       "<table border=\"1\" class=\"dataframe\">\n",
       "  <thead>\n",
       "    <tr style=\"text-align: right;\">\n",
       "      <th></th>\n",
       "      <th>age</th>\n",
       "      <th>churn</th>\n",
       "      <th>group_age</th>\n",
       "    </tr>\n",
       "  </thead>\n",
       "  <tbody>\n",
       "    <tr>\n",
       "      <th>0</th>\n",
       "      <td>42</td>\n",
       "      <td>1</td>\n",
       "      <td>(40.0, 46.0]</td>\n",
       "    </tr>\n",
       "    <tr>\n",
       "      <th>1</th>\n",
       "      <td>41</td>\n",
       "      <td>0</td>\n",
       "      <td>(40.0, 46.0]</td>\n",
       "    </tr>\n",
       "    <tr>\n",
       "      <th>2</th>\n",
       "      <td>42</td>\n",
       "      <td>1</td>\n",
       "      <td>(40.0, 46.0]</td>\n",
       "    </tr>\n",
       "    <tr>\n",
       "      <th>3</th>\n",
       "      <td>39</td>\n",
       "      <td>0</td>\n",
       "      <td>(35.0, 40.0]</td>\n",
       "    </tr>\n",
       "    <tr>\n",
       "      <th>4</th>\n",
       "      <td>43</td>\n",
       "      <td>0</td>\n",
       "      <td>(40.0, 46.0]</td>\n",
       "    </tr>\n",
       "  </tbody>\n",
       "</table>\n",
       "</div>"
      ],
      "text/plain": [
       "   age  churn     group_age\n",
       "0   42      1  (40.0, 46.0]\n",
       "1   41      0  (40.0, 46.0]\n",
       "2   42      1  (40.0, 46.0]\n",
       "3   39      0  (35.0, 40.0]\n",
       "4   43      0  (40.0, 46.0]"
      ]
     },
     "execution_count": 36,
     "metadata": {},
     "output_type": "execute_result"
    }
   ],
   "source": [
    "ages = bank[['age','churn']]\n",
    "ages['group_age'] = pd.qcut(ages['age'], 5)\n",
    "ages.head()"
   ]
  },
  {
   "cell_type": "code",
   "execution_count": 37,
   "id": "775067e3",
   "metadata": {
    "ExecuteTime": {
     "end_time": "2022-08-09T09:01:29.514506Z",
     "start_time": "2022-08-09T09:01:29.482667Z"
    }
   },
   "outputs": [
    {
     "data": {
      "text/html": [
       "<div>\n",
       "<style scoped>\n",
       "    .dataframe tbody tr th:only-of-type {\n",
       "        vertical-align: middle;\n",
       "    }\n",
       "\n",
       "    .dataframe tbody tr th {\n",
       "        vertical-align: top;\n",
       "    }\n",
       "\n",
       "    .dataframe thead th {\n",
       "        text-align: right;\n",
       "    }\n",
       "</style>\n",
       "<table border=\"1\" class=\"dataframe\">\n",
       "  <thead>\n",
       "    <tr style=\"text-align: right;\">\n",
       "      <th></th>\n",
       "      <th>count</th>\n",
       "      <th>sum</th>\n",
       "      <th>mean</th>\n",
       "    </tr>\n",
       "    <tr>\n",
       "      <th>group_age</th>\n",
       "      <th></th>\n",
       "      <th></th>\n",
       "      <th></th>\n",
       "    </tr>\n",
       "  </thead>\n",
       "  <tbody>\n",
       "    <tr>\n",
       "      <th>(17.999, 31.0]</th>\n",
       "      <td>2372</td>\n",
       "      <td>181</td>\n",
       "      <td>0.076307</td>\n",
       "    </tr>\n",
       "    <tr>\n",
       "      <th>(31.0, 35.0]</th>\n",
       "      <td>1781</td>\n",
       "      <td>166</td>\n",
       "      <td>0.093206</td>\n",
       "    </tr>\n",
       "    <tr>\n",
       "      <th>(35.0, 40.0]</th>\n",
       "      <td>2266</td>\n",
       "      <td>339</td>\n",
       "      <td>0.149603</td>\n",
       "    </tr>\n",
       "    <tr>\n",
       "      <th>(40.0, 46.0]</th>\n",
       "      <td>1696</td>\n",
       "      <td>485</td>\n",
       "      <td>0.285967</td>\n",
       "    </tr>\n",
       "    <tr>\n",
       "      <th>(46.0, 92.0]</th>\n",
       "      <td>1885</td>\n",
       "      <td>866</td>\n",
       "      <td>0.459416</td>\n",
       "    </tr>\n",
       "  </tbody>\n",
       "</table>\n",
       "</div>"
      ],
      "text/plain": [
       "                count  sum      mean\n",
       "group_age                           \n",
       "(17.999, 31.0]   2372  181  0.076307\n",
       "(31.0, 35.0]     1781  166  0.093206\n",
       "(35.0, 40.0]     2266  339  0.149603\n",
       "(40.0, 46.0]     1696  485  0.285967\n",
       "(46.0, 92.0]     1885  866  0.459416"
      ]
     },
     "execution_count": 37,
     "metadata": {},
     "output_type": "execute_result"
    }
   ],
   "source": [
    "ages.groupby('group_age')['churn'].agg(['count','sum', 'mean'])"
   ]
  },
  {
   "cell_type": "markdown",
   "id": "2f1d6e5f",
   "metadata": {},
   "source": [
    "С повышением возраста, растет доля ушедших клиентов. В возрасте до 31 отток 7%, а в группе 40...46 уже 28%. После 46 отток почти половина 45%."
   ]
  },
  {
   "cell_type": "markdown",
   "id": "63dafc6b",
   "metadata": {},
   "source": [
    "### Влияние города проживания на отток"
   ]
  },
  {
   "cell_type": "code",
   "execution_count": 38,
   "id": "562453b4",
   "metadata": {
    "ExecuteTime": {
     "end_time": "2022-08-09T09:02:12.722788Z",
     "start_time": "2022-08-09T09:02:12.701024Z"
    }
   },
   "outputs": [
    {
     "data": {
      "text/html": [
       "<div>\n",
       "<style scoped>\n",
       "    .dataframe tbody tr th:only-of-type {\n",
       "        vertical-align: middle;\n",
       "    }\n",
       "\n",
       "    .dataframe tbody tr th {\n",
       "        vertical-align: top;\n",
       "    }\n",
       "\n",
       "    .dataframe thead th {\n",
       "        text-align: right;\n",
       "    }\n",
       "</style>\n",
       "<table border=\"1\" class=\"dataframe\">\n",
       "  <thead>\n",
       "    <tr style=\"text-align: right;\">\n",
       "      <th></th>\n",
       "      <th>count</th>\n",
       "      <th>sum</th>\n",
       "      <th>mean</th>\n",
       "    </tr>\n",
       "    <tr>\n",
       "      <th>city</th>\n",
       "      <th></th>\n",
       "      <th></th>\n",
       "      <th></th>\n",
       "    </tr>\n",
       "  </thead>\n",
       "  <tbody>\n",
       "    <tr>\n",
       "      <th>Ростов Великий</th>\n",
       "      <td>2509</td>\n",
       "      <td>814</td>\n",
       "      <td>0.324432</td>\n",
       "    </tr>\n",
       "    <tr>\n",
       "      <th>Рыбинск</th>\n",
       "      <td>2477</td>\n",
       "      <td>413</td>\n",
       "      <td>0.166734</td>\n",
       "    </tr>\n",
       "    <tr>\n",
       "      <th>Ярославль</th>\n",
       "      <td>5014</td>\n",
       "      <td>810</td>\n",
       "      <td>0.161548</td>\n",
       "    </tr>\n",
       "  </tbody>\n",
       "</table>\n",
       "</div>"
      ],
      "text/plain": [
       "                count  sum      mean\n",
       "city                                \n",
       "Ростов Великий   2509  814  0.324432\n",
       "Рыбинск          2477  413  0.166734\n",
       "Ярославль        5014  810  0.161548"
      ]
     },
     "execution_count": 38,
     "metadata": {},
     "output_type": "execute_result"
    }
   ],
   "source": [
    "bank.groupby('city')['churn'].agg(['count','sum', 'mean'])"
   ]
  },
  {
   "cell_type": "markdown",
   "id": "19a478c4",
   "metadata": {},
   "source": [
    "Доля ушедших клиентов в Ростове Великом, в 2 раза (32% против 16%) выше чем в Рыбинске и Ярославле. Возможно, для этого города принят неверный критерий оценки ушедших клиентов."
   ]
  },
  {
   "cell_type": "markdown",
   "id": "15c0d642",
   "metadata": {},
   "source": [
    "### Влияние баланса на счете на отток"
   ]
  },
  {
   "cell_type": "markdown",
   "id": "05cf27b0",
   "metadata": {},
   "source": [
    "Клиентов с балансом разобъем на 5 групп по размеру баланса."
   ]
  },
  {
   "cell_type": "code",
   "execution_count": 39,
   "id": "5b5c3651",
   "metadata": {
    "ExecuteTime": {
     "end_time": "2022-08-09T09:04:23.819623Z",
     "start_time": "2022-08-09T09:04:23.802243Z"
    }
   },
   "outputs": [],
   "source": [
    "bank_balance = bank.query('balance.notna()')[['balance','churn']]"
   ]
  },
  {
   "cell_type": "code",
   "execution_count": 40,
   "id": "797e39cd",
   "metadata": {
    "ExecuteTime": {
     "end_time": "2022-08-09T09:04:24.176727Z",
     "start_time": "2022-08-09T09:04:24.149521Z"
    },
    "scrolled": true
   },
   "outputs": [
    {
     "data": {
      "text/html": [
       "<div>\n",
       "<style scoped>\n",
       "    .dataframe tbody tr th:only-of-type {\n",
       "        vertical-align: middle;\n",
       "    }\n",
       "\n",
       "    .dataframe tbody tr th {\n",
       "        vertical-align: top;\n",
       "    }\n",
       "\n",
       "    .dataframe thead th {\n",
       "        text-align: right;\n",
       "    }\n",
       "</style>\n",
       "<table border=\"1\" class=\"dataframe\">\n",
       "  <thead>\n",
       "    <tr style=\"text-align: right;\">\n",
       "      <th></th>\n",
       "      <th>balance</th>\n",
       "      <th>churn</th>\n",
       "      <th>groupe_balance</th>\n",
       "    </tr>\n",
       "  </thead>\n",
       "  <tbody>\n",
       "    <tr>\n",
       "      <th>1</th>\n",
       "      <td>83807.86</td>\n",
       "      <td>0</td>\n",
       "      <td>(3768.689, 95677.088]</td>\n",
       "    </tr>\n",
       "    <tr>\n",
       "      <th>2</th>\n",
       "      <td>159660.80</td>\n",
       "      <td>1</td>\n",
       "      <td>(144570.576, 250898.09]</td>\n",
       "    </tr>\n",
       "    <tr>\n",
       "      <th>4</th>\n",
       "      <td>125510.82</td>\n",
       "      <td>0</td>\n",
       "      <td>(112288.516, 127148.172]</td>\n",
       "    </tr>\n",
       "    <tr>\n",
       "      <th>5</th>\n",
       "      <td>113755.78</td>\n",
       "      <td>1</td>\n",
       "      <td>(112288.516, 127148.172]</td>\n",
       "    </tr>\n",
       "    <tr>\n",
       "      <th>7</th>\n",
       "      <td>115046.74</td>\n",
       "      <td>1</td>\n",
       "      <td>(112288.516, 127148.172]</td>\n",
       "    </tr>\n",
       "  </tbody>\n",
       "</table>\n",
       "</div>"
      ],
      "text/plain": [
       "     balance  churn            groupe_balance\n",
       "1   83807.86      0     (3768.689, 95677.088]\n",
       "2  159660.80      1   (144570.576, 250898.09]\n",
       "4  125510.82      0  (112288.516, 127148.172]\n",
       "5  113755.78      1  (112288.516, 127148.172]\n",
       "7  115046.74      1  (112288.516, 127148.172]"
      ]
     },
     "execution_count": 40,
     "metadata": {},
     "output_type": "execute_result"
    }
   ],
   "source": [
    "bank_balance['groupe_balance'] = pd.qcut(bank_balance['balance'], 5)\n",
    "bank_balance.head()"
   ]
  },
  {
   "cell_type": "code",
   "execution_count": 41,
   "id": "4dd2725e",
   "metadata": {
    "ExecuteTime": {
     "end_time": "2022-08-09T09:04:35.290795Z",
     "start_time": "2022-08-09T09:04:35.268574Z"
    },
    "scrolled": true
   },
   "outputs": [
    {
     "data": {
      "text/html": [
       "<div>\n",
       "<style scoped>\n",
       "    .dataframe tbody tr th:only-of-type {\n",
       "        vertical-align: middle;\n",
       "    }\n",
       "\n",
       "    .dataframe tbody tr th {\n",
       "        vertical-align: top;\n",
       "    }\n",
       "\n",
       "    .dataframe thead th {\n",
       "        text-align: right;\n",
       "    }\n",
       "</style>\n",
       "<table border=\"1\" class=\"dataframe\">\n",
       "  <thead>\n",
       "    <tr style=\"text-align: right;\">\n",
       "      <th></th>\n",
       "      <th>count</th>\n",
       "      <th>sum</th>\n",
       "      <th>mean</th>\n",
       "    </tr>\n",
       "    <tr>\n",
       "      <th>groupe_balance</th>\n",
       "      <th></th>\n",
       "      <th></th>\n",
       "      <th></th>\n",
       "    </tr>\n",
       "  </thead>\n",
       "  <tbody>\n",
       "    <tr>\n",
       "      <th>(3768.689, 95677.088]</th>\n",
       "      <td>1277</td>\n",
       "      <td>265</td>\n",
       "      <td>0.207518</td>\n",
       "    </tr>\n",
       "    <tr>\n",
       "      <th>(95677.088, 112288.516]</th>\n",
       "      <td>1276</td>\n",
       "      <td>321</td>\n",
       "      <td>0.251567</td>\n",
       "    </tr>\n",
       "    <tr>\n",
       "      <th>(112288.516, 127148.172]</th>\n",
       "      <td>1277</td>\n",
       "      <td>342</td>\n",
       "      <td>0.267815</td>\n",
       "    </tr>\n",
       "    <tr>\n",
       "      <th>(127148.172, 144570.576]</th>\n",
       "      <td>1276</td>\n",
       "      <td>316</td>\n",
       "      <td>0.247649</td>\n",
       "    </tr>\n",
       "    <tr>\n",
       "      <th>(144570.576, 250898.09]</th>\n",
       "      <td>1277</td>\n",
       "      <td>293</td>\n",
       "      <td>0.229444</td>\n",
       "    </tr>\n",
       "  </tbody>\n",
       "</table>\n",
       "</div>"
      ],
      "text/plain": [
       "                          count  sum      mean\n",
       "groupe_balance                                \n",
       "(3768.689, 95677.088]      1277  265  0.207518\n",
       "(95677.088, 112288.516]    1276  321  0.251567\n",
       "(112288.516, 127148.172]   1277  342  0.267815\n",
       "(127148.172, 144570.576]   1276  316  0.247649\n",
       "(144570.576, 250898.09]    1277  293  0.229444"
      ]
     },
     "execution_count": 41,
     "metadata": {},
     "output_type": "execute_result"
    }
   ],
   "source": [
    "bank_balance.groupby('groupe_balance')['churn'].agg(['count','sum', 'mean'])"
   ]
  },
  {
   "cell_type": "markdown",
   "id": "97422c90",
   "metadata": {},
   "source": [
    "В группе клиентов с балансом наблюдается увеличение доли ушедших с 20% до 26% при увеличении значения баланса на счете с 3768 до 127000, затем снижение доли до 22%, при увеличении баланса до 250000. Однако, доля ушедших клиентов не имеющих баланса в 2 раза меньше - 13%."
   ]
  },
  {
   "cell_type": "markdown",
   "id": "c2eeef38",
   "metadata": {},
   "source": [
    "### Влияние дохода клиента на отток"
   ]
  },
  {
   "cell_type": "code",
   "execution_count": 42,
   "id": "02f7edbc",
   "metadata": {
    "ExecuteTime": {
     "end_time": "2022-08-09T09:06:24.808334Z",
     "start_time": "2022-08-09T09:06:24.773787Z"
    }
   },
   "outputs": [
    {
     "data": {
      "text/html": [
       "<div>\n",
       "<style scoped>\n",
       "    .dataframe tbody tr th:only-of-type {\n",
       "        vertical-align: middle;\n",
       "    }\n",
       "\n",
       "    .dataframe tbody tr th {\n",
       "        vertical-align: top;\n",
       "    }\n",
       "\n",
       "    .dataframe thead th {\n",
       "        text-align: right;\n",
       "    }\n",
       "</style>\n",
       "<table border=\"1\" class=\"dataframe\">\n",
       "  <thead>\n",
       "    <tr style=\"text-align: right;\">\n",
       "      <th></th>\n",
       "      <th>count</th>\n",
       "      <th>sum</th>\n",
       "      <th>mean</th>\n",
       "    </tr>\n",
       "    <tr>\n",
       "      <th>groupe_salary</th>\n",
       "      <th></th>\n",
       "      <th></th>\n",
       "      <th></th>\n",
       "    </tr>\n",
       "  </thead>\n",
       "  <tbody>\n",
       "    <tr>\n",
       "      <th>(11.579, 41050.736]</th>\n",
       "      <td>2000</td>\n",
       "      <td>399</td>\n",
       "      <td>0.1995</td>\n",
       "    </tr>\n",
       "    <tr>\n",
       "      <th>(41050.736, 80238.34]</th>\n",
       "      <td>2000</td>\n",
       "      <td>399</td>\n",
       "      <td>0.1995</td>\n",
       "    </tr>\n",
       "    <tr>\n",
       "      <th>(80238.34, 119710.038]</th>\n",
       "      <td>2000</td>\n",
       "      <td>404</td>\n",
       "      <td>0.2020</td>\n",
       "    </tr>\n",
       "    <tr>\n",
       "      <th>(119710.038, 159836.726]</th>\n",
       "      <td>2000</td>\n",
       "      <td>404</td>\n",
       "      <td>0.2020</td>\n",
       "    </tr>\n",
       "    <tr>\n",
       "      <th>(159836.726, 199992.48]</th>\n",
       "      <td>2000</td>\n",
       "      <td>431</td>\n",
       "      <td>0.2155</td>\n",
       "    </tr>\n",
       "  </tbody>\n",
       "</table>\n",
       "</div>"
      ],
      "text/plain": [
       "                          count  sum    mean\n",
       "groupe_salary                               \n",
       "(11.579, 41050.736]        2000  399  0.1995\n",
       "(41050.736, 80238.34]      2000  399  0.1995\n",
       "(80238.34, 119710.038]     2000  404  0.2020\n",
       "(119710.038, 159836.726]   2000  404  0.2020\n",
       "(159836.726, 199992.48]    2000  431  0.2155"
      ]
     },
     "execution_count": 42,
     "metadata": {},
     "output_type": "execute_result"
    }
   ],
   "source": [
    "salary = bank[['estimated_salary', 'churn']]\n",
    "salary['groupe_salary'] = pd.qcut(salary['estimated_salary'], 5)\n",
    "salary.groupby('groupe_salary')['churn'].agg(['count','sum', 'mean'])"
   ]
  },
  {
   "cell_type": "markdown",
   "id": "0a3e58a0",
   "metadata": {},
   "source": [
    "Влияние дохода клиентов на отток не выявило явных отличий в группах."
   ]
  },
  {
   "cell_type": "markdown",
   "id": "99579c2c",
   "metadata": {},
   "source": [
    "### Сегментирование пользователей на основе данных о количестве потребляемых продуктов"
   ]
  },
  {
   "cell_type": "code",
   "execution_count": 43,
   "id": "9e8f7a20",
   "metadata": {
    "ExecuteTime": {
     "end_time": "2022-08-09T09:07:05.587735Z",
     "start_time": "2022-08-09T09:07:05.551492Z"
    }
   },
   "outputs": [
    {
     "data": {
      "text/html": [
       "<div>\n",
       "<style scoped>\n",
       "    .dataframe tbody tr th:only-of-type {\n",
       "        vertical-align: middle;\n",
       "    }\n",
       "\n",
       "    .dataframe tbody tr th {\n",
       "        vertical-align: top;\n",
       "    }\n",
       "\n",
       "    .dataframe thead th {\n",
       "        text-align: right;\n",
       "    }\n",
       "</style>\n",
       "<table border=\"1\" class=\"dataframe\">\n",
       "  <thead>\n",
       "    <tr style=\"text-align: right;\">\n",
       "      <th></th>\n",
       "      <th>score</th>\n",
       "      <th>gender</th>\n",
       "      <th>age</th>\n",
       "      <th>objects</th>\n",
       "      <th>balance</th>\n",
       "      <th>creditcard</th>\n",
       "      <th>loyalty</th>\n",
       "      <th>estimated_salary</th>\n",
       "      <th>churn</th>\n",
       "    </tr>\n",
       "    <tr>\n",
       "      <th>products</th>\n",
       "      <th></th>\n",
       "      <th></th>\n",
       "      <th></th>\n",
       "      <th></th>\n",
       "      <th></th>\n",
       "      <th></th>\n",
       "      <th></th>\n",
       "      <th></th>\n",
       "      <th></th>\n",
       "    </tr>\n",
       "  </thead>\n",
       "  <tbody>\n",
       "    <tr>\n",
       "      <th>1</th>\n",
       "      <td>649.120968</td>\n",
       "      <td>0.548387</td>\n",
       "      <td>39.673092</td>\n",
       "      <td>4.974626</td>\n",
       "      <td>119894.163723</td>\n",
       "      <td>0.703777</td>\n",
       "      <td>0.504131</td>\n",
       "      <td>99487.256851</td>\n",
       "      <td>0.277144</td>\n",
       "    </tr>\n",
       "    <tr>\n",
       "      <th>2</th>\n",
       "      <td>652.188671</td>\n",
       "      <td>0.551198</td>\n",
       "      <td>37.753595</td>\n",
       "      <td>5.051852</td>\n",
       "      <td>119660.944362</td>\n",
       "      <td>0.707190</td>\n",
       "      <td>0.532898</td>\n",
       "      <td>100452.012821</td>\n",
       "      <td>0.075817</td>\n",
       "    </tr>\n",
       "    <tr>\n",
       "      <th>3</th>\n",
       "      <td>648.105263</td>\n",
       "      <td>0.439850</td>\n",
       "      <td>43.195489</td>\n",
       "      <td>5.003759</td>\n",
       "      <td>119475.686310</td>\n",
       "      <td>0.714286</td>\n",
       "      <td>0.424812</td>\n",
       "      <td>104318.130564</td>\n",
       "      <td>0.827068</td>\n",
       "    </tr>\n",
       "    <tr>\n",
       "      <th>4</th>\n",
       "      <td>653.583333</td>\n",
       "      <td>0.366667</td>\n",
       "      <td>45.683333</td>\n",
       "      <td>5.300000</td>\n",
       "      <td>122260.610870</td>\n",
       "      <td>0.683333</td>\n",
       "      <td>0.483333</td>\n",
       "      <td>104763.723333</td>\n",
       "      <td>1.000000</td>\n",
       "    </tr>\n",
       "  </tbody>\n",
       "</table>\n",
       "</div>"
      ],
      "text/plain": [
       "               score    gender        age   objects        balance  \\\n",
       "products                                                             \n",
       "1         649.120968  0.548387  39.673092  4.974626  119894.163723   \n",
       "2         652.188671  0.551198  37.753595  5.051852  119660.944362   \n",
       "3         648.105263  0.439850  43.195489  5.003759  119475.686310   \n",
       "4         653.583333  0.366667  45.683333  5.300000  122260.610870   \n",
       "\n",
       "          creditcard   loyalty  estimated_salary     churn  \n",
       "products                                                    \n",
       "1           0.703777  0.504131      99487.256851  0.277144  \n",
       "2           0.707190  0.532898     100452.012821  0.075817  \n",
       "3           0.714286  0.424812     104318.130564  0.827068  \n",
       "4           0.683333  0.483333     104763.723333  1.000000  "
      ]
     },
     "execution_count": 43,
     "metadata": {},
     "output_type": "execute_result"
    }
   ],
   "source": [
    "segment_users = bank.drop('userid', axis=1).groupby('products').agg('mean')\n",
    "segment_users"
   ]
  },
  {
   "cell_type": "code",
   "execution_count": 44,
   "id": "5cf3095d",
   "metadata": {
    "ExecuteTime": {
     "end_time": "2022-08-09T09:40:23.083489Z",
     "start_time": "2022-08-09T09:40:22.715303Z"
    },
    "scrolled": false
   },
   "outputs": [
    {
     "data": {
      "image/png": "[encoded data removed]",
      "text/plain": [
       "<Figure size 720x432 with 2 Axes>"
      ]
     },
     "metadata": {},
     "output_type": "display_data"
    }
   ],
   "source": [
    "bank_pivot = bank.pivot_table(\n",
    "    index='products', columns='city', values='churn', aggfunc='mean')\n",
    "\n",
    "sns.set(style='white')\n",
    "# plt.figure(figsize=(13, 9))\n",
    "plt.title('% оттока клиентов в зависимости от города и кол-ва продуктов')\n",
    "sns.heatmap(bank_pivot, annot=True, fmt='.2%', linewidths=1, linecolor='gray')\n",
    "plt.xlabel('Город') \n",
    "plt.ylabel('Количество продуктов');  "
   ]
  },
  {
   "cell_type": "markdown",
   "id": "1e760b15",
   "metadata": {},
   "source": [
    "Наименьший отток клиентов в Ярославле, использующих 2 продукта. Наибольший отток при использовании более 2 продуктов, и это мало зависит от города."
   ]
  },
  {
   "cell_type": "code",
   "execution_count": 45,
   "id": "8ed4915d",
   "metadata": {
    "ExecuteTime": {
     "end_time": "2022-08-09T12:17:07.321641Z",
     "start_time": "2022-08-09T12:17:06.892562Z"
    }
   },
   "outputs": [
    {
     "data": {
      "image/png": "[encoded data removed]",
      "text/plain": [
       "<Figure size 720x432 with 2 Axes>"
      ]
     },
     "metadata": {},
     "output_type": "display_data"
    }
   ],
   "source": [
    "bank['age_group'] = pd.qcut(bank['age'],5)\n",
    "bank_pivot = bank.pivot_table(\n",
    "    index='products', columns='age_group', values='churn', aggfunc='mean')\n",
    "\n",
    "sns.set(style='white')\n",
    "# plt.figure(figsize=(13, 9))\n",
    "plt.title('% оттока клиентов в зависимости от возраста и кол-ва продуктов')\n",
    "sns.heatmap(bank_pivot, annot=True, fmt='.2%', linewidths=1, linecolor='gray', )\n",
    "plt.xlabel('Возраст') \n",
    "plt.ylabel('Количество продуктов');  "
   ]
  },
  {
   "cell_type": "markdown",
   "id": "9fdace73",
   "metadata": {},
   "source": [
    "Наименее подвержены оттоку клиенты до 46 лет, использующие 2 продукта. С увеличением возраста растет процент ушедших."
   ]
  },
  {
   "cell_type": "code",
   "execution_count": 46,
   "id": "86b74a60",
   "metadata": {
    "ExecuteTime": {
     "end_time": "2022-08-09T12:28:34.658597Z",
     "start_time": "2022-08-09T12:28:34.189015Z"
    },
    "scrolled": false
   },
   "outputs": [
    {
     "data": {
      "image/png": "[encoded data removed]",
      "text/plain": [
       "<Figure size 720x432 with 2 Axes>"
      ]
     },
     "metadata": {},
     "output_type": "display_data"
    }
   ],
   "source": [
    "bank['balance_group'] = pd.qcut(bank['balance'],5)\n",
    "bank_pivot = bank.pivot_table(\n",
    "    index='products', columns='balance_group', values='churn', aggfunc='mean')\n",
    "\n",
    "sns.set(style='white')\n",
    "# plt.figure(figsize=(13, 9))\n",
    "plt.title('% оттока клиентов в зависимости от баланса и кол-ва продуктов')\n",
    "sns.heatmap(bank_pivot, annot=True, fmt='.2%', linewidths=1, linecolor='gray')\n",
    "plt.xlabel('Баланс') \n",
    "plt.xticks(rotation=60)\n",
    "\n",
    "plt.ylabel('Количество продуктов');  "
   ]
  },
  {
   "cell_type": "markdown",
   "id": "12cbef1d",
   "metadata": {},
   "source": [
    "С увеличением баланса до значений в диапазоне 112000...127000, растет процент оттока клиентов. До этого диапазона и после, процент оттока снижается. Минимальные значения у группы потребляющих 2 продукта."
   ]
  },
  {
   "cell_type": "markdown",
   "id": "ec7bca59",
   "metadata": {},
   "source": [
    "### **Вывод**\n",
    "Самыми влияющими на отток критериями являются:\n",
    "- возраст;\n",
    "- количество продуктов;\n",
    "- город;\n",
    "- баланс;\n",
    "\n",
    "С увеличением возраста процент ушедших растет:\n",
    "– в группе до 31 года – 7%;\n",
    "– в группе 46+ – 45%\n",
    "\n",
    "По количеству продуктов минимальный отток при 2 – 7%, 1 – 27%.\n",
    "Группы с 3 и 4 продуктами почти на 100% уходят.\n",
    "Среди городов наибольший отток в Ростове Великом – 32%, в двух других 16%;\n",
    "\n",
    "С точки зрения баланса критическим является порог 112000...127000.\n",
    "До этого порога (с 20% до 26%) и после него (с 26% до 22%), процент оттока снижается.\n",
    "\n",
    "\n"
   ]
  },
  {
   "cell_type": "markdown",
   "id": "027e4d6b",
   "metadata": {},
   "source": [
    "## Проверка гипотез"
   ]
  },
  {
   "cell_type": "markdown",
   "id": "4f78a713",
   "metadata": {},
   "source": [
    "### Формулировка и проверка статистической гипотезы 1\n"
   ]
  },
  {
   "cell_type": "markdown",
   "id": "af4ec2c7",
   "metadata": {},
   "source": [
    "- H_0: Средний доход между теми клиентами, которые пользуются двумя продуктами банка, и теми, которые пользуются одним одинаковы;\n",
    "- H_1: Средний доход между теми клиентами, которые пользуются двумя продуктами банка, и теми, которые пользуются одним разные;"
   ]
  },
  {
   "cell_type": "markdown",
   "id": "f1086e6c",
   "metadata": {},
   "source": [
    "Посмотрим на распределение запрлат клиентов потребляющих 1 и 2 продукта."
   ]
  },
  {
   "cell_type": "code",
   "execution_count": 47,
   "id": "baa62489",
   "metadata": {
    "ExecuteTime": {
     "end_time": "2022-08-09T10:17:40.978256Z",
     "start_time": "2022-08-09T10:17:40.356897Z"
    }
   },
   "outputs": [
    {
     "data": {
      "image/png": "[encoded data removed]",
      "text/plain": [
       "<Figure size 720x432 with 1 Axes>"
      ]
     },
     "metadata": {},
     "output_type": "display_data"
    }
   ],
   "source": [
    "\n",
    "sns.histplot(bank.query('products == 1')['estimated_salary'], bins=100)\n",
    "plt.title('Распределение запрлат клиентов потребляющих 1 продукт', fontsize=18)\n",
    "plt.xlabel('Размер зарплаты')\n",
    "plt.ylabel('Частота')\n",
    "plt.show()"
   ]
  },
  {
   "cell_type": "code",
   "execution_count": 48,
   "id": "017f8e0e",
   "metadata": {
    "ExecuteTime": {
     "end_time": "2022-08-09T10:17:50.287428Z",
     "start_time": "2022-08-09T10:17:49.702468Z"
    }
   },
   "outputs": [
    {
     "data": {
      "image/png": "[encoded data removed]",
      "text/plain": [
       "<Figure size 720x432 with 1 Axes>"
      ]
     },
     "metadata": {},
     "output_type": "display_data"
    }
   ],
   "source": [
    "sns.histplot(bank.query('products == 2')['estimated_salary'], bins=100)\n",
    "plt.title('Распределение запрлат клиентов потребляющих 2 продукта', fontsize=18)\n",
    "plt.xlabel('Размер зарплаты')\n",
    "plt.ylabel('Частота')\n",
    "plt.show()"
   ]
  },
  {
   "cell_type": "markdown",
   "id": "120e5339",
   "metadata": {},
   "source": [
    "На графиках распределение больше похоже на равномерное. \n",
    "Для выбора оценки средней зарплаты оценим нормальность распределения методом Шапиро-Уилка"
   ]
  },
  {
   "cell_type": "code",
   "execution_count": 49,
   "id": "2e3ceef7",
   "metadata": {
    "ExecuteTime": {
     "end_time": "2022-08-09T10:17:53.220465Z",
     "start_time": "2022-08-09T10:17:53.193266Z"
    }
   },
   "outputs": [
    {
     "name": "stdout",
     "output_type": "stream",
     "text": [
      "Оценка распределения для клиентов потребляющих 1 продукт\n",
      "p-значение:  3.017243029368968e-36\n",
      "Отвергаем нулевую гипотезу: распределение не нормально\n"
     ]
    }
   ],
   "source": [
    "alpha = 0.05  \n",
    "\n",
    "results = sps(bank.query('products == 1')['estimated_salary'])\n",
    "p_value = results[1] \n",
    "print('Оценка распределения для клиентов потребляющих 1 продукт')\n",
    "print('p-значение: ', p_value)\n",
    "\n",
    "if p_value < alpha:\n",
    "    print('Отвергаем нулевую гипотезу: распределение не нормально')\n",
    "else:\n",
    "    print('Не получилось отвергнуть нулевую гипотезу, всё нормально') \n"
   ]
  },
  {
   "cell_type": "code",
   "execution_count": 50,
   "id": "5aa5c78f",
   "metadata": {
    "ExecuteTime": {
     "end_time": "2022-08-09T10:17:55.168527Z",
     "start_time": "2022-08-09T10:17:55.149287Z"
    }
   },
   "outputs": [
    {
     "name": "stdout",
     "output_type": "stream",
     "text": [
      "Оценка распределения для клиентов потребляющих 2 продукта\n",
      "p-значение:  2.1702207154579243e-35\n",
      "Отвергаем нулевую гипотезу: распределение не нормально\n"
     ]
    }
   ],
   "source": [
    "alpha = 0.05  \n",
    "\n",
    "results = sps(bank.query('products == 2')['estimated_salary'])\n",
    "p_value = results[1] \n",
    "print('Оценка распределения для клиентов потребляющих 2 продукта')\n",
    "print('p-значение: ', p_value)\n",
    "\n",
    "if p_value < alpha:\n",
    "    print('Отвергаем нулевую гипотезу: распределение не нормально')\n",
    "else:\n",
    "    print('Не получилось отвергнуть нулевую гипотезу, всё нормально') \n"
   ]
  },
  {
   "cell_type": "code",
   "execution_count": 51,
   "id": "b3ad19ab",
   "metadata": {
    "ExecuteTime": {
     "end_time": "2022-08-09T10:17:56.289722Z",
     "start_time": "2022-08-09T10:17:56.262643Z"
    }
   },
   "outputs": [
    {
     "name": "stdout",
     "output_type": "stream",
     "text": [
      "Размер массива клиентов использующих 1 продукт 5084\n",
      "Размер массива клиентов использующих 2 продукта 4590\n"
     ]
    }
   ],
   "source": [
    "print('Размер массива клиентов использующих 1 продукт', bank.query('products == 1')['estimated_salary'].count())\n",
    "print('Размер массива клиентов использующих 2 продукта', bank.query('products == 2')['estimated_salary'].count())"
   ]
  },
  {
   "cell_type": "markdown",
   "id": "7ba39180",
   "metadata": {},
   "source": [
    "Поскольку распределение ненормально, надо бы использовать непараметрический тест Манна-Уитни. Однако он не предназначен для оценки равенства средних значений, поэтому для проверки гипотез будем использовать t-тест. Ограничение на нормальность распределения нивелируется большим размером выборок (несколько тысяч)."
   ]
  },
  {
   "cell_type": "markdown",
   "id": "becc8f71",
   "metadata": {},
   "source": [
    "Сравним значения дисперсии для массивов."
   ]
  },
  {
   "cell_type": "code",
   "execution_count": 52,
   "id": "11e370b1",
   "metadata": {
    "ExecuteTime": {
     "end_time": "2022-08-09T10:17:59.713461Z",
     "start_time": "2022-08-09T10:17:59.687477Z"
    }
   },
   "outputs": [
    {
     "name": "stdout",
     "output_type": "stream",
     "text": [
      "Дисперсия для one_product: 3290585635.088143\n",
      "Дисперсия для two_product: 3339776562.810999\n",
      "Отношение дисперсий: 0.014728807989913368\n"
     ]
    }
   ],
   "source": [
    "one_product = bank.query('products == 1')['estimated_salary']\n",
    "two_product = bank.query('products == 2')['estimated_salary']\n",
    "\n",
    "print(f'Дисперсия для one_product: {np.var(one_product, ddof=1)}')\n",
    "print(f'Дисперсия для two_product: {np.var(two_product, ddof=1)}')\n",
    "print(f'Отношение дисперсий: {np.abs(np.var(one_product, ddof=1) - np.var(two_product, ddof=1))/np.var(two_product, ddof=1)}')"
   ]
  },
  {
   "cell_type": "markdown",
   "id": "599e3993",
   "metadata": {},
   "source": [
    "Дисперсии можно считать равными, однако размеры массивов различны, поэтому в формуле рассчета принимаем поправку equal_var=False"
   ]
  },
  {
   "cell_type": "code",
   "execution_count": 53,
   "id": "473f0495",
   "metadata": {
    "ExecuteTime": {
     "end_time": "2022-08-09T10:18:05.335089Z",
     "start_time": "2022-08-09T10:18:05.313724Z"
    }
   },
   "outputs": [
    {
     "name": "stdout",
     "output_type": "stream",
     "text": [
      "p-значение: 0.4106493940071987\n",
      "Не получилось отвергнуть нулевую гипотезу\n"
     ]
    }
   ],
   "source": [
    "# критический уровень статистической значимости\n",
    "alpha = 0.05 \n",
    "\n",
    "results = tti(one_product, two_product, equal_var=False)\n",
    "\n",
    "print('p-значение:', results.pvalue)\n",
    "\n",
    "if (results.pvalue < alpha):\n",
    "    print(\"Отвергаем нулевую гипотезу\")\n",
    "else:\n",
    "    print(\"Не получилось отвергнуть нулевую гипотезу\")"
   ]
  },
  {
   "cell_type": "code",
   "execution_count": 54,
   "id": "6287bf03",
   "metadata": {
    "ExecuteTime": {
     "end_time": "2022-08-09T10:18:07.446518Z",
     "start_time": "2022-08-09T10:18:07.426167Z"
    }
   },
   "outputs": [
    {
     "name": "stdout",
     "output_type": "stream",
     "text": [
      "Средняя зарплата для клиентов потребляющих 1 продукт 99487.25685090481\n",
      "Средняя зарплата для клиентов потребляющих 2 продукта 100452.01282135077\n"
     ]
    }
   ],
   "source": [
    "print('Средняя зарплата для клиентов потребляющих 1 продукт', bank.query('products == 1')['estimated_salary'].mean())\n",
    "print('Средняя зарплата для клиентов потребляющих 2 продукта', bank.query('products == 2')['estimated_salary'].mean())"
   ]
  },
  {
   "cell_type": "markdown",
   "id": "0c723f0a",
   "metadata": {},
   "source": [
    "### Формулировка и проверка статистической гипотезы 2"
   ]
  },
  {
   "cell_type": "markdown",
   "id": "bcec7a66",
   "metadata": {},
   "source": [
    "- H_0: Распределение объектов недвижимости между клиентами из Ростова Великого и Рыбинска одинаково;\n",
    "- H_1: Распределение объектов недвижимости между клиентами из Ростова Великого и Рыбинска различно;"
   ]
  },
  {
   "cell_type": "code",
   "execution_count": 55,
   "id": "a83314ff",
   "metadata": {
    "ExecuteTime": {
     "end_time": "2022-08-09T10:18:15.414382Z",
     "start_time": "2022-08-09T10:18:15.383740Z"
    }
   },
   "outputs": [
    {
     "name": "stdout",
     "output_type": "stream",
     "text": [
      "Размер выборки \"клиенты из Ростова Великого\" 2509\n",
      "Размер выборки \"клиенты из Рыбинска\" 2477\n"
     ]
    }
   ],
   "source": [
    "print('Размер выборки \"клиенты из Ростова Великого\"',bank.query('city == \"Ростов Великий\"')['objects'].count())\n",
    "print('Размер выборки \"клиенты из Рыбинска\"',bank.query('city == \"Рыбинск\"')['objects'].count())"
   ]
  },
  {
   "cell_type": "code",
   "execution_count": 56,
   "id": "df54e5d0",
   "metadata": {
    "ExecuteTime": {
     "end_time": "2022-08-09T10:18:16.930468Z",
     "start_time": "2022-08-09T10:18:16.307773Z"
    }
   },
   "outputs": [
    {
     "data": {
      "image/png": "[encoded data removed]",
      "text/plain": [
       "<Figure size 720x432 with 1 Axes>"
      ]
     },
     "metadata": {},
     "output_type": "display_data"
    },
    {
     "data": {
      "image/png": "[encoded data removed]",
      "text/plain": [
       "<Figure size 720x432 with 1 Axes>"
      ]
     },
     "metadata": {},
     "output_type": "display_data"
    }
   ],
   "source": [
    "sns.histplot(bank.query('city == \"Ростов Великий\"')['objects'], bins=10)\n",
    "plt.title('Распределение объектов недвижимости клиентов из Ростова Великого', fontsize=18)\n",
    "plt.xlabel('Кол-во объектов')\n",
    "plt.ylabel('Частота')\n",
    "plt.show()\n",
    "\n",
    "sns.histplot(bank.query('city == \"Рыбинск\"')['objects'], bins=10)\n",
    "plt.title('Распределение объектов недвижимости клиентов из Рыбинска', fontsize=18)\n",
    "plt.xlabel('Кол-во объектов')\n",
    "plt.ylabel('Частота')\n",
    "plt.show()"
   ]
  },
  {
   "cell_type": "markdown",
   "id": "8ffa1421",
   "metadata": {},
   "source": [
    "На графиках распределение не похоже на нормальное. \n",
    "Для выбора оценки средней зарплаты оценим нормальность распределения методом Шапиро-Уилка"
   ]
  },
  {
   "cell_type": "code",
   "execution_count": 57,
   "id": "89a32ee0",
   "metadata": {
    "ExecuteTime": {
     "end_time": "2022-08-09T10:18:19.617779Z",
     "start_time": "2022-08-09T10:18:19.602811Z"
    }
   },
   "outputs": [
    {
     "name": "stdout",
     "output_type": "stream",
     "text": [
      "Распределение объектов недвижимости клиентов из Ростова Великого\n",
      "p-значение:  8.646989106795664e-30\n",
      "Отвергаем нулевую гипотезу: распределение не нормально\n"
     ]
    }
   ],
   "source": [
    "alpha = 0.05  \n",
    "\n",
    "results = sps(bank.query('city == \"Ростов Великий\"')['objects'])\n",
    "p_value = results[1] \n",
    "print('Распределение объектов недвижимости клиентов из Ростова Великого')\n",
    "print('p-значение: ', p_value)\n",
    "\n",
    "if p_value < alpha:\n",
    "    print('Отвергаем нулевую гипотезу: распределение не нормально')\n",
    "else:\n",
    "    print('Не получилось отвергнуть нулевую гипотезу, всё нормально') "
   ]
  },
  {
   "cell_type": "code",
   "execution_count": 58,
   "id": "d9f28be2",
   "metadata": {
    "ExecuteTime": {
     "end_time": "2022-08-09T10:18:20.475016Z",
     "start_time": "2022-08-09T10:18:20.452910Z"
    }
   },
   "outputs": [
    {
     "name": "stdout",
     "output_type": "stream",
     "text": [
      "Распределение объектов недвижимости клиентов из Рыбинска\n",
      "p-значение:  6.560751133480575e-28\n",
      "Отвергаем нулевую гипотезу: распределение не нормально\n"
     ]
    }
   ],
   "source": [
    "alpha = 0.05  \n",
    "\n",
    "results = sps(bank.query('city == \"Рыбинск\"')['objects'],)\n",
    "p_value = results[1] \n",
    "print('Распределение объектов недвижимости клиентов из Рыбинска')\n",
    "print('p-значение: ', p_value)\n",
    "\n",
    "if p_value < alpha:\n",
    "    print('Отвергаем нулевую гипотезу: распределение не нормально')\n",
    "else:\n",
    "    print('Не получилось отвергнуть нулевую гипотезу, всё нормально') "
   ]
  },
  {
   "cell_type": "markdown",
   "id": "2b6c2fc7",
   "metadata": {},
   "source": [
    "Поскольку распределение ненормально, для оценки статистической значимости будем использовать метод Манна-Уитни."
   ]
  },
  {
   "cell_type": "code",
   "execution_count": 59,
   "id": "e411e87d",
   "metadata": {
    "ExecuteTime": {
     "end_time": "2022-08-09T10:18:24.690694Z",
     "start_time": "2022-08-09T10:18:24.659586Z"
    }
   },
   "outputs": [
    {
     "name": "stdout",
     "output_type": "stream",
     "text": [
      "p-значение:  0.7819541896869516\n",
      "Не получилось отвергнуть нулевую гипотезу, вывод о различии сделать нельзя\n"
     ]
    }
   ],
   "source": [
    "alpha = 0.05  \n",
    "\n",
    "results = mnw(bank.query('city == \"Ростов Великий\"')['objects'], bank.query('city == \"Рыбинск\"')['objects'])\n",
    "\n",
    "print('p-значение: ', results.pvalue)\n",
    "\n",
    "if results.pvalue < alpha:\n",
    "    print('Отвергаем нулевую гипотезу: разница статистически значима')\n",
    "else:\n",
    "    print('Не получилось отвергнуть нулевую гипотезу, вывод о различии сделать нельзя') "
   ]
  },
  {
   "cell_type": "code",
   "execution_count": 60,
   "id": "310eb156",
   "metadata": {
    "ExecuteTime": {
     "end_time": "2022-08-09T10:18:28.861488Z",
     "start_time": "2022-08-09T10:18:28.840261Z"
    }
   },
   "outputs": [
    {
     "name": "stdout",
     "output_type": "stream",
     "text": [
      "Среднее кол-во недвижимости клиентов из Ростова Великого 5.009964129135113\n",
      "Среднее кол-во недвижимости клиентов из Рыбинска 5.03229713362939\n"
     ]
    }
   ],
   "source": [
    "print('Среднее кол-во недвижимости клиентов из Ростова Великого',bank.query('city == \"Ростов Великий\"')['objects'].mean())\n",
    "print('Среднее кол-во недвижимости клиентов из Рыбинска',bank.query('city == \"Рыбинск\"')['objects'].mean())"
   ]
  },
  {
   "cell_type": "markdown",
   "id": "4fc31ae7",
   "metadata": {},
   "source": [
    "**Вывод**\n",
    "\n",
    "Результаты проверки отличия между зарплатами клиентов с одним продуктом и двумя показал, что статистически значимой разницы нет.\n",
    "\n",
    "Распределение количества объектов недвижимости клиентов из Ростова Великого и Рыбинска одинаково."
   ]
  },
  {
   "cell_type": "markdown",
   "id": "c800ae0b",
   "metadata": {},
   "source": [
    "## Выводы и рекомендации\n",
    "\n",
    "Самыми влияющими на отток критериями являются:\n",
    "- возраст;\n",
    "- количество продуктов;\n",
    "- город;\n",
    "- баланс.\n",
    "\n",
    "Гипотеза о раличных средних зарплатах клиентов, потребляющих 1 и 2 продукта не подтвердилась.\n",
    "\n",
    "Гипотеза о различном распределении объектов недвижимости клиентов Ростова Великого и Рыбинска не подтвердилась.\n",
    " \n",
    "С увеличением возраста процент ушедших растет:\n",
    "- в группе до 31 года – 7%;\n",
    "- в группе 46+ – 45%.\n",
    "\n",
    "**Рекомендация**\n",
    "Для группы пенсионного возраста, включая возраст от 46, специальной группе по разработке и внедрению новых продуктов, необходимо разработать и внедрить продукт интересный данной возрастной категории. \n",
    "\n",
    "По количеству продуктов минимальный отток при 2 – 7%, 1 – 27%. Группы с 3 и 4 продуктами почти на 100% уходят.\n",
    "\n",
    "**Рекомендация**\n",
    "Клиетам имеющим 1 продукт необходимо \"продать\" еще один, а клиентам имеющим 3 и более продукта, подыскать альтернативный продукт, который сможет заменить 2 или 3 имеющихся. При отсутствии альтернативных - разработать и внедрить.\n",
    "\n",
    "Среди городов наибольший отток в Ростове Великом – 32%,  в двух других 16%.\n",
    "\n",
    "**Рекомендация**\n",
    "Во-первых: изучить конкурентные предложения в Ростове Великом с целью выявления наиболее привлекательных для клиентов.\n",
    "Во-вторых: обратить внимание на качество обслуживания и активность менеджеров банка в Ростове Великом.\n",
    "\n",
    "С точки зрения баланса критическим является порог 112000...127000.\n",
    "До этого порога (с 20% до 26%) и после него (с 26% до 22%), процент оттока снижается.\n",
    "\n",
    "**Рекомендация**\n",
    "При достяжении баланса клиента до критической отметки 112000, предложить условия для пополнения баланса, сверх критического порога (более 127000)."
   ]
  },
  {
   "cell_type": "code",
   "execution_count": null,
   "id": "27466075",
   "metadata": {},
   "outputs": [],
   "source": []
  }
 ],
 "metadata": {
  "ExecuteTimeLog": [
   {
    "duration": 1202,
    "start_time": "2022-08-10T06:10:58.553Z"
   },
   {
    "duration": 683,
    "start_time": "2022-08-10T06:11:00.934Z"
   },
   {
    "duration": 8,
    "start_time": "2022-08-10T06:11:01.966Z"
   },
   {
    "duration": 8,
    "start_time": "2022-08-10T06:11:02.043Z"
   },
   {
    "duration": 9,
    "start_time": "2022-08-10T06:11:02.212Z"
   },
   {
    "duration": 10,
    "start_time": "2022-08-10T06:11:02.481Z"
   },
   {
    "duration": 9,
    "start_time": "2022-08-10T06:11:02.553Z"
   },
   {
    "duration": 5,
    "start_time": "2022-08-10T06:11:08.079Z"
   },
   {
    "duration": 506,
    "start_time": "2022-08-10T06:11:08.892Z"
   },
   {
    "duration": 106,
    "start_time": "2022-08-10T06:11:19.832Z"
   },
   {
    "duration": 533,
    "start_time": "2022-08-10T06:11:27.509Z"
   },
   {
    "duration": 512,
    "start_time": "2022-08-10T06:11:31.399Z"
   },
   {
    "duration": 592,
    "start_time": "2022-08-10T06:11:33.822Z"
   },
   {
    "duration": 135,
    "start_time": "2022-08-10T06:11:40.420Z"
   },
   {
    "duration": 6,
    "start_time": "2022-08-10T06:11:42.982Z"
   },
   {
    "duration": 73,
    "start_time": "2022-08-10T06:11:43.565Z"
   },
   {
    "duration": 13,
    "start_time": "2022-08-10T06:11:44.982Z"
   },
   {
    "duration": 38,
    "start_time": "2022-08-10T06:11:45.180Z"
   },
   {
    "duration": 10,
    "start_time": "2022-08-10T06:11:45.522Z"
   },
   {
    "duration": 12,
    "start_time": "2022-08-10T06:11:46.083Z"
   },
   {
    "duration": 317,
    "start_time": "2022-08-10T06:11:46.272Z"
   },
   {
    "duration": 5,
    "start_time": "2022-08-10T06:11:47.074Z"
   },
   {
    "duration": 8,
    "start_time": "2022-08-10T06:11:47.282Z"
   },
   {
    "duration": 11,
    "start_time": "2022-08-10T06:11:48.061Z"
   },
   {
    "duration": 1272,
    "start_time": "2022-08-10T06:11:48.429Z"
   },
   {
    "duration": 3,
    "start_time": "2022-08-10T06:11:49.703Z"
   },
   {
    "duration": 19,
    "start_time": "2022-08-10T06:11:49.707Z"
   },
   {
    "duration": 7,
    "start_time": "2022-08-10T06:11:49.728Z"
   },
   {
    "duration": 5842,
    "start_time": "2022-08-10T06:11:49.737Z"
   },
   {
    "duration": 10,
    "start_time": "2022-08-10T06:11:55.581Z"
   },
   {
    "duration": 9,
    "start_time": "2022-08-10T06:11:55.593Z"
   },
   {
    "duration": 20,
    "start_time": "2022-08-10T06:11:55.604Z"
   },
   {
    "duration": 7642,
    "start_time": "2022-08-10T06:11:55.625Z"
   },
   {
    "duration": 9,
    "start_time": "2022-08-10T06:12:03.270Z"
   },
   {
    "duration": 11,
    "start_time": "2022-08-10T06:12:03.280Z"
   },
   {
    "duration": 11,
    "start_time": "2022-08-10T06:12:03.292Z"
   },
   {
    "duration": 9,
    "start_time": "2022-08-10T06:12:03.304Z"
   },
   {
    "duration": 9,
    "start_time": "2022-08-10T06:12:03.314Z"
   },
   {
    "duration": 6,
    "start_time": "2022-08-10T06:12:03.324Z"
   },
   {
    "duration": 31,
    "start_time": "2022-08-10T06:12:03.331Z"
   },
   {
    "duration": 15,
    "start_time": "2022-08-10T06:12:03.364Z"
   },
   {
    "duration": 17,
    "start_time": "2022-08-10T06:12:03.382Z"
   },
   {
    "duration": 15,
    "start_time": "2022-08-10T06:12:03.400Z"
   },
   {
    "duration": 379,
    "start_time": "2022-08-10T06:12:03.416Z"
   },
   {
    "duration": 361,
    "start_time": "2022-08-10T06:12:03.796Z"
   },
   {
    "duration": 378,
    "start_time": "2022-08-10T06:12:04.159Z"
   },
   {
    "duration": 362,
    "start_time": "2022-08-10T06:12:04.538Z"
   },
   {
    "duration": 321,
    "start_time": "2022-08-10T06:12:04.902Z"
   },
   {
    "duration": 8,
    "start_time": "2022-08-10T06:12:05.224Z"
   },
   {
    "duration": 8,
    "start_time": "2022-08-10T06:12:05.233Z"
   },
   {
    "duration": 21,
    "start_time": "2022-08-10T06:12:05.242Z"
   },
   {
    "duration": 10,
    "start_time": "2022-08-10T06:12:05.266Z"
   },
   {
    "duration": 5,
    "start_time": "2022-08-10T06:12:05.277Z"
   },
   {
    "duration": 10,
    "start_time": "2022-08-10T06:12:05.283Z"
   },
   {
    "duration": 12,
    "start_time": "2022-08-10T06:12:05.294Z"
   },
   {
    "duration": 374,
    "start_time": "2022-08-10T06:12:05.307Z"
   },
   {
    "duration": 8,
    "start_time": "2022-08-10T06:12:05.683Z"
   },
   {
    "duration": 10,
    "start_time": "2022-08-10T06:12:05.693Z"
   },
   {
    "duration": 18,
    "start_time": "2022-08-10T06:12:05.705Z"
   },
   {
    "duration": 35,
    "start_time": "2022-08-10T06:12:05.724Z"
   },
   {
    "duration": 92,
    "start_time": "2022-08-10T06:38:13.879Z"
   },
   {
    "duration": 129,
    "start_time": "2022-08-10T06:38:36.061Z"
   }
  ],
  "kernelspec": {
   "display_name": "Python 3 (ipykernel)",
   "language": "python",
   "name": "python3"
  },
  "language_info": {
   "codemirror_mode": {
    "name": "ipython",
    "version": 3
   },
   "file_extension": ".py",
   "mimetype": "text/x-python",
   "name": "python",
   "nbconvert_exporter": "python",
   "pygments_lexer": "ipython3",
   "version": "3.8.10"
  },
  "toc": {
   "base_numbering": 1,
   "nav_menu": {},
   "number_sections": true,
   "sideBar": true,
   "skip_h1_title": true,
   "title_cell": "Содержание",
   "title_sidebar": "Contents",
   "toc_cell": true,
   "toc_position": {
    "height": "calc(100% - 180px)",
    "left": "10px",
    "top": "150px",
    "width": "261.667px"
   },
   "toc_section_display": true,
   "toc_window_display": true
  }
 },
 "nbformat": 4,
 "nbformat_minor": 5
}
