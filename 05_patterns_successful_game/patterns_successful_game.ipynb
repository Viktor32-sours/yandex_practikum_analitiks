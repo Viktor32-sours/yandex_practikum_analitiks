{
 "cells": [
  {
   "cell_type": "markdown",
   "id": "7225f0cd",
   "metadata": {
    "toc": true
   },
   "source": [
    "<h1>Содержание<span class=\"tocSkip\"></span></h1>\n",
    "<div class=\"toc\"><ul class=\"toc-item\"><li><span><a href=\"#Описание-проекта\" data-toc-modified-id=\"Описание-проекта-1\"><span class=\"toc-item-num\">1&nbsp;&nbsp;</span>Описание проекта</a></span><ul class=\"toc-item\"><li><span><a href=\"#Описание-данных\" data-toc-modified-id=\"Описание-данных-1.1\"><span class=\"toc-item-num\">1.1&nbsp;&nbsp;</span>Описание данных</a></span></li><li><span><a href=\"#Задачи-проекта\" data-toc-modified-id=\"Задачи-проекта-1.2\"><span class=\"toc-item-num\">1.2&nbsp;&nbsp;</span>Задачи проекта</a></span></li></ul></li><li><span><a href=\"#Изучение-общей-информации-данных.\" data-toc-modified-id=\"Изучение-общей-информации-данных.-2\"><span class=\"toc-item-num\">2&nbsp;&nbsp;</span>Изучение общей информации данных.</a></span><ul class=\"toc-item\"><li><span><a href=\"#Загрузка-данных\" data-toc-modified-id=\"Загрузка-данных-2.1\"><span class=\"toc-item-num\">2.1&nbsp;&nbsp;</span>Загрузка данных</a></span></li><li><span><a href=\"#Общая-информация\" data-toc-modified-id=\"Общая-информация-2.2\"><span class=\"toc-item-num\">2.2&nbsp;&nbsp;</span>Общая информация</a></span></li><li><span><a href=\"#Вывод.\" data-toc-modified-id=\"Вывод.-2.3\"><span class=\"toc-item-num\">2.3&nbsp;&nbsp;</span>Вывод.</a></span></li></ul></li><li><span><a href=\"#Подготовка-данных.\" data-toc-modified-id=\"Подготовка-данных.-3\"><span class=\"toc-item-num\">3&nbsp;&nbsp;</span>Подготовка данных.</a></span><ul class=\"toc-item\"><li><span><a href=\"#Переименование-столбцов\" data-toc-modified-id=\"Переименование-столбцов-3.1\"><span class=\"toc-item-num\">3.1&nbsp;&nbsp;</span>Переименование столбцов</a></span></li><li><span><a href=\"#Столбец-name\" data-toc-modified-id=\"Столбец-name-3.2\"><span class=\"toc-item-num\">3.2&nbsp;&nbsp;</span>Столбец <code>name</code></a></span></li><li><span><a href=\"#Столбец-platform\" data-toc-modified-id=\"Столбец-platform-3.3\"><span class=\"toc-item-num\">3.3&nbsp;&nbsp;</span>Столбец <code>platform</code></a></span></li><li><span><a href=\"#Столбец-year_of_release\" data-toc-modified-id=\"Столбец-year_of_release-3.4\"><span class=\"toc-item-num\">3.4&nbsp;&nbsp;</span>Столбец <code>year_of_release</code></a></span></li><li><span><a href=\"#Столбец-genre\" data-toc-modified-id=\"Столбец-genre-3.5\"><span class=\"toc-item-num\">3.5&nbsp;&nbsp;</span>Столбец <code>genre</code></a></span></li><li><span><a href=\"#Столбец-na_sales\" data-toc-modified-id=\"Столбец-na_sales-3.6\"><span class=\"toc-item-num\">3.6&nbsp;&nbsp;</span>Столбец <code>na_sales</code></a></span></li><li><span><a href=\"#Столбец-eu_sales\" data-toc-modified-id=\"Столбец-eu_sales-3.7\"><span class=\"toc-item-num\">3.7&nbsp;&nbsp;</span>Столбец <code>eu_sales</code></a></span></li><li><span><a href=\"#Столбец-other_sales\" data-toc-modified-id=\"Столбец-other_sales-3.8\"><span class=\"toc-item-num\">3.8&nbsp;&nbsp;</span>Столбец <code>other_sales</code></a></span></li><li><span><a href=\"#Столбец-critic_score\" data-toc-modified-id=\"Столбец-critic_score-3.9\"><span class=\"toc-item-num\">3.9&nbsp;&nbsp;</span>Столбец <code>critic_score</code></a></span></li><li><span><a href=\"#Столбец-user_score\" data-toc-modified-id=\"Столбец-user_score-3.10\"><span class=\"toc-item-num\">3.10&nbsp;&nbsp;</span>Столбец <code>user_score</code></a></span></li><li><span><a href=\"#Столбец-rating\" data-toc-modified-id=\"Столбец-rating-3.11\"><span class=\"toc-item-num\">3.11&nbsp;&nbsp;</span>Столбец <code>rating</code></a></span></li><li><span><a href=\"#Проверка-на-дубликаты\" data-toc-modified-id=\"Проверка-на-дубликаты-3.12\"><span class=\"toc-item-num\">3.12&nbsp;&nbsp;</span>Проверка на дубликаты</a></span></li><li><span><a href=\"#Расчет-суммарной-продажи-по-регионам\" data-toc-modified-id=\"Расчет-суммарной-продажи-по-регионам-3.13\"><span class=\"toc-item-num\">3.13&nbsp;&nbsp;</span>Расчет суммарной продажи по регионам</a></span></li></ul></li><li><span><a href=\"#Исследовательский-анализ-данных\" data-toc-modified-id=\"Исследовательский-анализ-данных-4\"><span class=\"toc-item-num\">4&nbsp;&nbsp;</span>Исследовательский анализ данных</a></span><ul class=\"toc-item\"><li><span><a href=\"#Количество-игр-по-годам\" data-toc-modified-id=\"Количество-игр-по-годам-4.1\"><span class=\"toc-item-num\">4.1&nbsp;&nbsp;</span>Количество игр по годам</a></span></li><li><span><a href=\"#Продажи-игр-на-разных-платформах\" data-toc-modified-id=\"Продажи-игр-на-разных-платформах-4.2\"><span class=\"toc-item-num\">4.2&nbsp;&nbsp;</span>Продажи игр на разных платформах</a></span></li><li><span><a href=\"#Определение-актуального-периода-для-прогноза\" data-toc-modified-id=\"Определение-актуального-периода-для-прогноза-4.3\"><span class=\"toc-item-num\">4.3&nbsp;&nbsp;</span>Определение актуального периода для прогноза</a></span></li><li><span><a href=\"#Прогноз-продаж-на-2017-год\" data-toc-modified-id=\"Прогноз-продаж-на-2017-год-4.4\"><span class=\"toc-item-num\">4.4&nbsp;&nbsp;</span>Прогноз продаж на 2017 год</a></span></li><li><span><a href=\"#Построение-графиков-по-глобальным-продажам\" data-toc-modified-id=\"Построение-графиков-по-глобальным-продажам-4.5\"><span class=\"toc-item-num\">4.5&nbsp;&nbsp;</span>Построение графиков по глобальным продажам</a></span></li><li><span><a href=\"#Оценка-корреляции-между-отзывами-и-продажами\" data-toc-modified-id=\"Оценка-корреляции-между-отзывами-и-продажами-4.6\"><span class=\"toc-item-num\">4.6&nbsp;&nbsp;</span>Оценка корреляции между отзывами и продажами</a></span></li><li><span><a href=\"#Оценка-распределения-игр-по-жанрам\" data-toc-modified-id=\"Оценка-распределения-игр-по-жанрам-4.7\"><span class=\"toc-item-num\">4.7&nbsp;&nbsp;</span>Оценка распределения игр по жанрам</a></span></li><li><span><a href=\"#Составим-портрет-пользователя-каждого-региона\" data-toc-modified-id=\"Составим-портрет-пользователя-каждого-региона-4.8\"><span class=\"toc-item-num\">4.8&nbsp;&nbsp;</span>Составим портрет пользователя каждого региона</a></span></li></ul></li><li><span><a href=\"#Проверка-гипотез\" data-toc-modified-id=\"Проверка-гипотез-5\"><span class=\"toc-item-num\">5&nbsp;&nbsp;</span>Проверка гипотез</a></span><ul class=\"toc-item\"><li><span><a href=\"#Гипотеза-1.\" data-toc-modified-id=\"Гипотеза-1.-5.1\"><span class=\"toc-item-num\">5.1&nbsp;&nbsp;</span>Гипотеза 1.</a></span></li><li><span><a href=\"#Гипотеза-2.\" data-toc-modified-id=\"Гипотеза-2.-5.2\"><span class=\"toc-item-num\">5.2&nbsp;&nbsp;</span>Гипотеза 2.</a></span></li></ul></li><li><span><a href=\"#Общий-вывод\" data-toc-modified-id=\"Общий-вывод-6\"><span class=\"toc-item-num\">6&nbsp;&nbsp;</span>Общий вывод</a></span></li></ul></div>"
   ]
  },
  {
   "cell_type": "markdown",
   "id": "326a5686",
   "metadata": {},
   "source": [
    "# Определение закономеростей влияющих на успешность игры."
   ]
  },
  {
   "cell_type": "markdown",
   "id": "3bfef84f",
   "metadata": {},
   "source": [
    "## Описание проекта"
   ]
  },
  {
   "cell_type": "markdown",
   "id": "5e245be9",
   "metadata": {},
   "source": [
    "### Описание данных\n",
    "Из открытых источников доступны исторические данные о продажах игр, оценки пользователей и экспертов, жанры и платформы (например, Xbox или PlayStation).\n",
    "\n",
    "- `Name` — название игры\n",
    "- `Platform` — платформа\n",
    "- `Year_of_Release` — год выпуска\n",
    "- `Genre` — жанр игры\n",
    "- `NA_sales` — продажи в Северной Америке (миллионы проданных копий)\n",
    "- `EU_sales` — продажи в Европе (миллионы проданных копий)\n",
    "- `JP_sales` — продажи в Японии (миллионы проданных копий)\n",
    "- `Other_sales` — продажи в других странах (миллионы проданных копий)\n",
    "- `Critic_Score` — оценка критиков (максимум 100)\n",
    "- `User_Score` — оценка пользователей (максимум 10)\n",
    "- `Rating` — рейтинг от организации ESRB (англ. Entertainment Software RatingBoard). Эта ассоциация определяет рейтинг компьютерных игр и присваивает им подходящую возрастную категорию, например, «Для взрослых», «Для детей младшего возраста» или «Для подростков».\n",
    "\n",
    "Данные за 2016 год могут быть неполными.\n"
   ]
  },
  {
   "cell_type": "markdown",
   "id": "7040691d",
   "metadata": {},
   "source": [
    "### Задачи проекта\n",
    "По предоставленым данным до 2016 года необходимо выявить закономерности, влияющие на успешность игры. Это позволит сделать ставку на потенциально популярный продукт и спланировать рекламные кампании.\n",
    "\n",
    "Затем необходимо проверить две гипотезы:\n",
    "\n",
    "- Средние пользовательские рейтинги платформ Xbox One и PC одинаковые;\n",
    "- Средние пользовательские рейтинги жанров Action (англ. «действие»,экшен-игры) и Sports (англ. «спортивные соревнования») разные."
   ]
  },
  {
   "cell_type": "markdown",
   "id": "950900e5",
   "metadata": {},
   "source": [
    "##  Изучение общей информации данных."
   ]
  },
  {
   "cell_type": "code",
   "execution_count": 1,
   "id": "acf93b1e",
   "metadata": {},
   "outputs": [],
   "source": [
    "# импорт модулей\n",
    "import pandas as pd\n",
    "import numpy as np\n",
    "import matplotlib.pyplot as plt\n",
    "from IPython.display import display\n",
    "import os\n",
    "from scipy import stats as st\n",
    "import seaborn as sns"
   ]
  },
  {
   "cell_type": "markdown",
   "id": "15754375",
   "metadata": {},
   "source": [
    "### Загрузка данных"
   ]
  },
  {
   "cell_type": "code",
   "execution_count": 2,
   "id": "f0f603ca",
   "metadata": {},
   "outputs": [],
   "source": [
    "if os.path.exists('/datasets/games.csv'):\n",
    "    data = pd.read_csv('/datasets/games.csv')\n",
    "else:\n",
    "    data = pd.read_csv('datasets/games.csv')"
   ]
  },
  {
   "cell_type": "markdown",
   "id": "780d88f6",
   "metadata": {},
   "source": [
    "### Общая информация"
   ]
  },
  {
   "cell_type": "code",
   "execution_count": 3,
   "id": "e43feb33",
   "metadata": {},
   "outputs": [
    {
     "data": {
      "text/html": [
       "<div>\n",
       "<style scoped>\n",
       "    .dataframe tbody tr th:only-of-type {\n",
       "        vertical-align: middle;\n",
       "    }\n",
       "\n",
       "    .dataframe tbody tr th {\n",
       "        vertical-align: top;\n",
       "    }\n",
       "\n",
       "    .dataframe thead th {\n",
       "        text-align: right;\n",
       "    }\n",
       "</style>\n",
       "<table border=\"1\" class=\"dataframe\">\n",
       "  <thead>\n",
       "    <tr style=\"text-align: right;\">\n",
       "      <th></th>\n",
       "      <th>Name</th>\n",
       "      <th>Platform</th>\n",
       "      <th>Year_of_Release</th>\n",
       "      <th>Genre</th>\n",
       "      <th>NA_sales</th>\n",
       "      <th>EU_sales</th>\n",
       "      <th>JP_sales</th>\n",
       "      <th>Other_sales</th>\n",
       "      <th>Critic_Score</th>\n",
       "      <th>User_Score</th>\n",
       "      <th>Rating</th>\n",
       "    </tr>\n",
       "  </thead>\n",
       "  <tbody>\n",
       "    <tr>\n",
       "      <th>0</th>\n",
       "      <td>Wii Sports</td>\n",
       "      <td>Wii</td>\n",
       "      <td>2006.0</td>\n",
       "      <td>Sports</td>\n",
       "      <td>41.36</td>\n",
       "      <td>28.96</td>\n",
       "      <td>3.77</td>\n",
       "      <td>8.45</td>\n",
       "      <td>76.0</td>\n",
       "      <td>8</td>\n",
       "      <td>E</td>\n",
       "    </tr>\n",
       "    <tr>\n",
       "      <th>1</th>\n",
       "      <td>Super Mario Bros.</td>\n",
       "      <td>NES</td>\n",
       "      <td>1985.0</td>\n",
       "      <td>Platform</td>\n",
       "      <td>29.08</td>\n",
       "      <td>3.58</td>\n",
       "      <td>6.81</td>\n",
       "      <td>0.77</td>\n",
       "      <td>NaN</td>\n",
       "      <td>NaN</td>\n",
       "      <td>NaN</td>\n",
       "    </tr>\n",
       "    <tr>\n",
       "      <th>2</th>\n",
       "      <td>Mario Kart Wii</td>\n",
       "      <td>Wii</td>\n",
       "      <td>2008.0</td>\n",
       "      <td>Racing</td>\n",
       "      <td>15.68</td>\n",
       "      <td>12.76</td>\n",
       "      <td>3.79</td>\n",
       "      <td>3.29</td>\n",
       "      <td>82.0</td>\n",
       "      <td>8.3</td>\n",
       "      <td>E</td>\n",
       "    </tr>\n",
       "    <tr>\n",
       "      <th>3</th>\n",
       "      <td>Wii Sports Resort</td>\n",
       "      <td>Wii</td>\n",
       "      <td>2009.0</td>\n",
       "      <td>Sports</td>\n",
       "      <td>15.61</td>\n",
       "      <td>10.93</td>\n",
       "      <td>3.28</td>\n",
       "      <td>2.95</td>\n",
       "      <td>80.0</td>\n",
       "      <td>8</td>\n",
       "      <td>E</td>\n",
       "    </tr>\n",
       "    <tr>\n",
       "      <th>4</th>\n",
       "      <td>Pokemon Red/Pokemon Blue</td>\n",
       "      <td>GB</td>\n",
       "      <td>1996.0</td>\n",
       "      <td>Role-Playing</td>\n",
       "      <td>11.27</td>\n",
       "      <td>8.89</td>\n",
       "      <td>10.22</td>\n",
       "      <td>1.00</td>\n",
       "      <td>NaN</td>\n",
       "      <td>NaN</td>\n",
       "      <td>NaN</td>\n",
       "    </tr>\n",
       "    <tr>\n",
       "      <th>5</th>\n",
       "      <td>Tetris</td>\n",
       "      <td>GB</td>\n",
       "      <td>1989.0</td>\n",
       "      <td>Puzzle</td>\n",
       "      <td>23.20</td>\n",
       "      <td>2.26</td>\n",
       "      <td>4.22</td>\n",
       "      <td>0.58</td>\n",
       "      <td>NaN</td>\n",
       "      <td>NaN</td>\n",
       "      <td>NaN</td>\n",
       "    </tr>\n",
       "    <tr>\n",
       "      <th>6</th>\n",
       "      <td>New Super Mario Bros.</td>\n",
       "      <td>DS</td>\n",
       "      <td>2006.0</td>\n",
       "      <td>Platform</td>\n",
       "      <td>11.28</td>\n",
       "      <td>9.14</td>\n",
       "      <td>6.50</td>\n",
       "      <td>2.88</td>\n",
       "      <td>89.0</td>\n",
       "      <td>8.5</td>\n",
       "      <td>E</td>\n",
       "    </tr>\n",
       "    <tr>\n",
       "      <th>7</th>\n",
       "      <td>Wii Play</td>\n",
       "      <td>Wii</td>\n",
       "      <td>2006.0</td>\n",
       "      <td>Misc</td>\n",
       "      <td>13.96</td>\n",
       "      <td>9.18</td>\n",
       "      <td>2.93</td>\n",
       "      <td>2.84</td>\n",
       "      <td>58.0</td>\n",
       "      <td>6.6</td>\n",
       "      <td>E</td>\n",
       "    </tr>\n",
       "    <tr>\n",
       "      <th>8</th>\n",
       "      <td>New Super Mario Bros. Wii</td>\n",
       "      <td>Wii</td>\n",
       "      <td>2009.0</td>\n",
       "      <td>Platform</td>\n",
       "      <td>14.44</td>\n",
       "      <td>6.94</td>\n",
       "      <td>4.70</td>\n",
       "      <td>2.24</td>\n",
       "      <td>87.0</td>\n",
       "      <td>8.4</td>\n",
       "      <td>E</td>\n",
       "    </tr>\n",
       "    <tr>\n",
       "      <th>9</th>\n",
       "      <td>Duck Hunt</td>\n",
       "      <td>NES</td>\n",
       "      <td>1984.0</td>\n",
       "      <td>Shooter</td>\n",
       "      <td>26.93</td>\n",
       "      <td>0.63</td>\n",
       "      <td>0.28</td>\n",
       "      <td>0.47</td>\n",
       "      <td>NaN</td>\n",
       "      <td>NaN</td>\n",
       "      <td>NaN</td>\n",
       "    </tr>\n",
       "  </tbody>\n",
       "</table>\n",
       "</div>"
      ],
      "text/plain": [
       "                        Name Platform  Year_of_Release         Genre  \\\n",
       "0                 Wii Sports      Wii           2006.0        Sports   \n",
       "1          Super Mario Bros.      NES           1985.0      Platform   \n",
       "2             Mario Kart Wii      Wii           2008.0        Racing   \n",
       "3          Wii Sports Resort      Wii           2009.0        Sports   \n",
       "4   Pokemon Red/Pokemon Blue       GB           1996.0  Role-Playing   \n",
       "5                     Tetris       GB           1989.0        Puzzle   \n",
       "6      New Super Mario Bros.       DS           2006.0      Platform   \n",
       "7                   Wii Play      Wii           2006.0          Misc   \n",
       "8  New Super Mario Bros. Wii      Wii           2009.0      Platform   \n",
       "9                  Duck Hunt      NES           1984.0       Shooter   \n",
       "\n",
       "   NA_sales  EU_sales  JP_sales  Other_sales  Critic_Score User_Score Rating  \n",
       "0     41.36     28.96      3.77         8.45          76.0          8      E  \n",
       "1     29.08      3.58      6.81         0.77           NaN        NaN    NaN  \n",
       "2     15.68     12.76      3.79         3.29          82.0        8.3      E  \n",
       "3     15.61     10.93      3.28         2.95          80.0          8      E  \n",
       "4     11.27      8.89     10.22         1.00           NaN        NaN    NaN  \n",
       "5     23.20      2.26      4.22         0.58           NaN        NaN    NaN  \n",
       "6     11.28      9.14      6.50         2.88          89.0        8.5      E  \n",
       "7     13.96      9.18      2.93         2.84          58.0        6.6      E  \n",
       "8     14.44      6.94      4.70         2.24          87.0        8.4      E  \n",
       "9     26.93      0.63      0.28         0.47           NaN        NaN    NaN  "
      ]
     },
     "metadata": {},
     "output_type": "display_data"
    },
    {
     "name": "stdout",
     "output_type": "stream",
     "text": [
      "\n",
      "Число пропусков по столбцам\n"
     ]
    },
    {
     "data": {
      "text/plain": [
       "Name                  2\n",
       "Platform              0\n",
       "Year_of_Release     269\n",
       "Genre                 2\n",
       "NA_sales              0\n",
       "EU_sales              0\n",
       "JP_sales              0\n",
       "Other_sales           0\n",
       "Critic_Score       8578\n",
       "User_Score         6701\n",
       "Rating             6766\n",
       "dtype: int64"
      ]
     },
     "metadata": {},
     "output_type": "display_data"
    },
    {
     "name": "stdout",
     "output_type": "stream",
     "text": [
      "\n",
      "Общая информация о данных\n",
      "<class 'pandas.core.frame.DataFrame'>\n",
      "RangeIndex: 16715 entries, 0 to 16714\n",
      "Data columns (total 11 columns):\n",
      " #   Column           Non-Null Count  Dtype  \n",
      "---  ------           --------------  -----  \n",
      " 0   Name             16713 non-null  object \n",
      " 1   Platform         16715 non-null  object \n",
      " 2   Year_of_Release  16446 non-null  float64\n",
      " 3   Genre            16713 non-null  object \n",
      " 4   NA_sales         16715 non-null  float64\n",
      " 5   EU_sales         16715 non-null  float64\n",
      " 6   JP_sales         16715 non-null  float64\n",
      " 7   Other_sales      16715 non-null  float64\n",
      " 8   Critic_Score     8137 non-null   float64\n",
      " 9   User_Score       10014 non-null  object \n",
      " 10  Rating           9949 non-null   object \n",
      "dtypes: float64(6), object(5)\n",
      "memory usage: 1.4+ MB\n"
     ]
    }
   ],
   "source": [
    "display(data.head(10))\n",
    "print()\n",
    "print('Число пропусков по столбцам')\n",
    "display(data.isnull().sum())\n",
    "print()\n",
    "print('Общая информация о данных')\n",
    "data.info()"
   ]
  },
  {
   "cell_type": "markdown",
   "id": "f1522ad3",
   "metadata": {},
   "source": [
    "Данные представлены таблицей из 16715 строк и 11 столбцов.\n",
    "\n",
    "Предварительные осмотр выявил следующие недостатки в данных:\n",
    "- заголовки столбцов содержат заглавные буквы (необходимо привести к строковому формату)\n",
    "- по два пропущенных значения в столбцах `Name` и `Genre`;\n",
    "- более 50% пропущеных значений в столбце `Critic_Score`  и почти по 40% в `Rating` и `User_Score`;\n",
    "- 269 пропусков в `Year_of_Release`;\n",
    "- тип данных `Year_of_Release` - *float64* (приведем к типу *int*);\n",
    "- тип данных `User_Score` - *object* (необходимо привести к типу *float64*);\n"
   ]
  },
  {
   "cell_type": "markdown",
   "id": "c79fa65d",
   "metadata": {},
   "source": [
    "### Вывод. \n",
    "Данные успешно загружены, получена общая информация, определены проблемы в данных, намечены методы исправления ошибок и корректировки.\n",
    "\n"
   ]
  },
  {
   "cell_type": "markdown",
   "id": "4b9520f2",
   "metadata": {},
   "source": [
    "## Подготовка данных.\n",
    "Исправим выявленные недостатки и более подробно изучим содержимое столбцов."
   ]
  },
  {
   "cell_type": "markdown",
   "id": "0e0d5a3b",
   "metadata": {},
   "source": [
    "### Переименование столбцов"
   ]
  },
  {
   "cell_type": "code",
   "execution_count": 4,
   "id": "8528cc9e",
   "metadata": {},
   "outputs": [
    {
     "data": {
      "text/html": [
       "<div>\n",
       "<style scoped>\n",
       "    .dataframe tbody tr th:only-of-type {\n",
       "        vertical-align: middle;\n",
       "    }\n",
       "\n",
       "    .dataframe tbody tr th {\n",
       "        vertical-align: top;\n",
       "    }\n",
       "\n",
       "    .dataframe thead th {\n",
       "        text-align: right;\n",
       "    }\n",
       "</style>\n",
       "<table border=\"1\" class=\"dataframe\">\n",
       "  <thead>\n",
       "    <tr style=\"text-align: right;\">\n",
       "      <th></th>\n",
       "      <th>name</th>\n",
       "      <th>platform</th>\n",
       "      <th>year_of_release</th>\n",
       "      <th>genre</th>\n",
       "      <th>na_sales</th>\n",
       "      <th>eu_sales</th>\n",
       "      <th>jp_sales</th>\n",
       "      <th>other_sales</th>\n",
       "      <th>critic_score</th>\n",
       "      <th>user_score</th>\n",
       "      <th>rating</th>\n",
       "    </tr>\n",
       "  </thead>\n",
       "  <tbody>\n",
       "    <tr>\n",
       "      <th>0</th>\n",
       "      <td>Wii Sports</td>\n",
       "      <td>Wii</td>\n",
       "      <td>2006.0</td>\n",
       "      <td>Sports</td>\n",
       "      <td>41.36</td>\n",
       "      <td>28.96</td>\n",
       "      <td>3.77</td>\n",
       "      <td>8.45</td>\n",
       "      <td>76.0</td>\n",
       "      <td>8</td>\n",
       "      <td>E</td>\n",
       "    </tr>\n",
       "    <tr>\n",
       "      <th>1</th>\n",
       "      <td>Super Mario Bros.</td>\n",
       "      <td>NES</td>\n",
       "      <td>1985.0</td>\n",
       "      <td>Platform</td>\n",
       "      <td>29.08</td>\n",
       "      <td>3.58</td>\n",
       "      <td>6.81</td>\n",
       "      <td>0.77</td>\n",
       "      <td>NaN</td>\n",
       "      <td>NaN</td>\n",
       "      <td>NaN</td>\n",
       "    </tr>\n",
       "    <tr>\n",
       "      <th>2</th>\n",
       "      <td>Mario Kart Wii</td>\n",
       "      <td>Wii</td>\n",
       "      <td>2008.0</td>\n",
       "      <td>Racing</td>\n",
       "      <td>15.68</td>\n",
       "      <td>12.76</td>\n",
       "      <td>3.79</td>\n",
       "      <td>3.29</td>\n",
       "      <td>82.0</td>\n",
       "      <td>8.3</td>\n",
       "      <td>E</td>\n",
       "    </tr>\n",
       "    <tr>\n",
       "      <th>3</th>\n",
       "      <td>Wii Sports Resort</td>\n",
       "      <td>Wii</td>\n",
       "      <td>2009.0</td>\n",
       "      <td>Sports</td>\n",
       "      <td>15.61</td>\n",
       "      <td>10.93</td>\n",
       "      <td>3.28</td>\n",
       "      <td>2.95</td>\n",
       "      <td>80.0</td>\n",
       "      <td>8</td>\n",
       "      <td>E</td>\n",
       "    </tr>\n",
       "    <tr>\n",
       "      <th>4</th>\n",
       "      <td>Pokemon Red/Pokemon Blue</td>\n",
       "      <td>GB</td>\n",
       "      <td>1996.0</td>\n",
       "      <td>Role-Playing</td>\n",
       "      <td>11.27</td>\n",
       "      <td>8.89</td>\n",
       "      <td>10.22</td>\n",
       "      <td>1.00</td>\n",
       "      <td>NaN</td>\n",
       "      <td>NaN</td>\n",
       "      <td>NaN</td>\n",
       "    </tr>\n",
       "  </tbody>\n",
       "</table>\n",
       "</div>"
      ],
      "text/plain": [
       "                       name platform  year_of_release         genre  na_sales  \\\n",
       "0                Wii Sports      Wii           2006.0        Sports     41.36   \n",
       "1         Super Mario Bros.      NES           1985.0      Platform     29.08   \n",
       "2            Mario Kart Wii      Wii           2008.0        Racing     15.68   \n",
       "3         Wii Sports Resort      Wii           2009.0        Sports     15.61   \n",
       "4  Pokemon Red/Pokemon Blue       GB           1996.0  Role-Playing     11.27   \n",
       "\n",
       "   eu_sales  jp_sales  other_sales  critic_score user_score rating  \n",
       "0     28.96      3.77         8.45          76.0          8      E  \n",
       "1      3.58      6.81         0.77           NaN        NaN    NaN  \n",
       "2     12.76      3.79         3.29          82.0        8.3      E  \n",
       "3     10.93      3.28         2.95          80.0          8      E  \n",
       "4      8.89     10.22         1.00           NaN        NaN    NaN  "
      ]
     },
     "execution_count": 4,
     "metadata": {},
     "output_type": "execute_result"
    }
   ],
   "source": [
    "# приведем названия столбцов к строковому типу\n",
    "data.columns = data.columns.str.lower()\n",
    "data.head()"
   ]
  },
  {
   "cell_type": "markdown",
   "id": "605830ce",
   "metadata": {},
   "source": [
    "### Столбец `name`"
   ]
  },
  {
   "cell_type": "code",
   "execution_count": 5,
   "id": "fd41151b",
   "metadata": {},
   "outputs": [
    {
     "data": {
      "text/html": [
       "<div>\n",
       "<style scoped>\n",
       "    .dataframe tbody tr th:only-of-type {\n",
       "        vertical-align: middle;\n",
       "    }\n",
       "\n",
       "    .dataframe tbody tr th {\n",
       "        vertical-align: top;\n",
       "    }\n",
       "\n",
       "    .dataframe thead th {\n",
       "        text-align: right;\n",
       "    }\n",
       "</style>\n",
       "<table border=\"1\" class=\"dataframe\">\n",
       "  <thead>\n",
       "    <tr style=\"text-align: right;\">\n",
       "      <th></th>\n",
       "      <th>name</th>\n",
       "      <th>platform</th>\n",
       "      <th>year_of_release</th>\n",
       "      <th>genre</th>\n",
       "      <th>na_sales</th>\n",
       "      <th>eu_sales</th>\n",
       "      <th>jp_sales</th>\n",
       "      <th>other_sales</th>\n",
       "      <th>critic_score</th>\n",
       "      <th>user_score</th>\n",
       "      <th>rating</th>\n",
       "    </tr>\n",
       "  </thead>\n",
       "  <tbody>\n",
       "    <tr>\n",
       "      <th>659</th>\n",
       "      <td>NaN</td>\n",
       "      <td>GEN</td>\n",
       "      <td>1993.0</td>\n",
       "      <td>NaN</td>\n",
       "      <td>1.78</td>\n",
       "      <td>0.53</td>\n",
       "      <td>0.00</td>\n",
       "      <td>0.08</td>\n",
       "      <td>NaN</td>\n",
       "      <td>NaN</td>\n",
       "      <td>NaN</td>\n",
       "    </tr>\n",
       "    <tr>\n",
       "      <th>14244</th>\n",
       "      <td>NaN</td>\n",
       "      <td>GEN</td>\n",
       "      <td>1993.0</td>\n",
       "      <td>NaN</td>\n",
       "      <td>0.00</td>\n",
       "      <td>0.00</td>\n",
       "      <td>0.03</td>\n",
       "      <td>0.00</td>\n",
       "      <td>NaN</td>\n",
       "      <td>NaN</td>\n",
       "      <td>NaN</td>\n",
       "    </tr>\n",
       "  </tbody>\n",
       "</table>\n",
       "</div>"
      ],
      "text/plain": [
       "      name platform  year_of_release genre  na_sales  eu_sales  jp_sales  \\\n",
       "659    NaN      GEN           1993.0   NaN      1.78      0.53      0.00   \n",
       "14244  NaN      GEN           1993.0   NaN      0.00      0.00      0.03   \n",
       "\n",
       "       other_sales  critic_score user_score rating  \n",
       "659           0.08           NaN        NaN    NaN  \n",
       "14244         0.00           NaN        NaN    NaN  "
      ]
     },
     "execution_count": 5,
     "metadata": {},
     "output_type": "execute_result"
    }
   ],
   "source": [
    "# посмотрим на пропущеные значения\n",
    "data.query('name.isna()')"
   ]
  },
  {
   "cell_type": "markdown",
   "id": "664cd7aa",
   "metadata": {},
   "source": [
    "Пропущеные значения столбца `name` совпадают с пропусками в `genre`. Игра по индексу 659 имела продажи в северной америке (1.78 млн), в европе (530 тыс) и около 80 тыс. в остальных регионах. Вторая, индекс 14244 продавалась только в японии (30 тыс). Обе игры не имеют оценок критиков, пользователей, рейтинга и поэтому не представляют ценности для анализа. Мы их удаляем."
   ]
  },
  {
   "cell_type": "code",
   "execution_count": 6,
   "id": "6f02e1a5",
   "metadata": {},
   "outputs": [
    {
     "data": {
      "text/plain": [
       "0"
      ]
     },
     "execution_count": 6,
     "metadata": {},
     "output_type": "execute_result"
    }
   ],
   "source": [
    "data.dropna(subset = ['name'], inplace = True)\n",
    "data.name.isna().sum()"
   ]
  },
  {
   "cell_type": "code",
   "execution_count": 7,
   "id": "1b951e88",
   "metadata": {},
   "outputs": [
    {
     "name": "stdout",
     "output_type": "stream",
     "text": [
      "Число уникальных названий игр: 11559\n"
     ]
    }
   ],
   "source": [
    "print(f'Число уникальных названий игр: {len(data.name.unique())}')"
   ]
  },
  {
   "cell_type": "markdown",
   "id": "1856788f",
   "metadata": {},
   "source": [
    "Меньшее значение уникальных названий от общего размера таблицы объясняется выпуском игр с одним названием на разных платформах и в разные годы. \n",
    "\n",
    "**Вывод. Данные столбца `name` корректны.**"
   ]
  },
  {
   "cell_type": "markdown",
   "id": "e993c823",
   "metadata": {},
   "source": [
    "### Столбец `platform`"
   ]
  },
  {
   "cell_type": "markdown",
   "id": "5a13eb7d",
   "metadata": {},
   "source": [
    "Пропуски в этом столбце отсутствуют, посмотрим на уникальные значения."
   ]
  },
  {
   "cell_type": "code",
   "execution_count": 8,
   "id": "1fd0609e",
   "metadata": {},
   "outputs": [
    {
     "name": "stdout",
     "output_type": "stream",
     "text": [
      "Число уникальных названий платформ: 31\n"
     ]
    },
    {
     "data": {
      "text/plain": [
       "PS2     2161\n",
       "DS      2151\n",
       "PS3     1331\n",
       "Wii     1320\n",
       "X360    1262\n",
       "PSP     1209\n",
       "PS      1197\n",
       "PC       974\n",
       "XB       824\n",
       "GBA      822\n",
       "GC       556\n",
       "3DS      520\n",
       "PSV      430\n",
       "PS4      392\n",
       "N64      319\n",
       "XOne     247\n",
       "SNES     239\n",
       "SAT      173\n",
       "WiiU     147\n",
       "2600     133\n",
       "NES       98\n",
       "GB        98\n",
       "DC        52\n",
       "GEN       27\n",
       "NG        12\n",
       "WS         6\n",
       "SCD        6\n",
       "3DO        3\n",
       "TG16       2\n",
       "GG         1\n",
       "PCFX       1\n",
       "Name: platform, dtype: int64"
      ]
     },
     "execution_count": 8,
     "metadata": {},
     "output_type": "execute_result"
    }
   ],
   "source": [
    "print(f'Число уникальных названий платформ: {len(data.platform.unique())}')\n",
    "data.platform.value_counts()"
   ]
  },
  {
   "cell_type": "markdown",
   "id": "c3902f7d",
   "metadata": {},
   "source": [
    "Ничего необычного не наблюдаем.\n",
    "\n",
    "**Вывод. Данные столбца `platform` корректны.**"
   ]
  },
  {
   "cell_type": "markdown",
   "id": "26d5ca7a",
   "metadata": {},
   "source": [
    "### Столбец `year_of_release`"
   ]
  },
  {
   "cell_type": "code",
   "execution_count": 9,
   "id": "c0e78ac8",
   "metadata": {},
   "outputs": [
    {
     "data": {
      "text/plain": [
       "269"
      ]
     },
     "execution_count": 9,
     "metadata": {},
     "output_type": "execute_result"
    }
   ],
   "source": [
    "# Число пропусков столбца year_of_release:\n",
    "data['year_of_release'].isna().sum()"
   ]
  },
  {
   "cell_type": "markdown",
   "id": "9f6cced8",
   "metadata": {},
   "source": [
    "Для заполнения пропусков воспользуемся средним значением релизов для каждой платформы. Составим словарь где ключом будет название платформы, а значением среднее значение периода выпуска для платформы."
   ]
  },
  {
   "cell_type": "code",
   "execution_count": 10,
   "id": "fc2e8a94",
   "metadata": {},
   "outputs": [
    {
     "data": {
      "text/plain": [
       "{'2600': 1982.0,\n",
       " '3DO': 1995.0,\n",
       " '3DS': 2013.0,\n",
       " 'DC': 2000.0,\n",
       " 'DS': 2008.0,\n",
       " 'GB': 1997.0,\n",
       " 'GBA': 2003.0,\n",
       " 'GC': 2003.0,\n",
       " 'GEN': 1993.0,\n",
       " 'GG': 1992.0,\n",
       " 'N64': 1999.0,\n",
       " 'NES': 1986.0,\n",
       " 'NG': 1994.0,\n",
       " 'PC': 2010.0,\n",
       " 'PCFX': 1996.0,\n",
       " 'PS': 1998.0,\n",
       " 'PS2': 2005.0,\n",
       " 'PS3': 2011.0,\n",
       " 'PS4': 2015.0,\n",
       " 'PSP': 2009.0,\n",
       " 'PSV': 2014.0,\n",
       " 'SAT': 1996.0,\n",
       " 'SCD': 1994.0,\n",
       " 'SNES': 1994.0,\n",
       " 'TG16': 1995.0,\n",
       " 'WS': 2000.0,\n",
       " 'Wii': 2009.0,\n",
       " 'WiiU': 2013.0,\n",
       " 'X360': 2010.0,\n",
       " 'XB': 2004.0,\n",
       " 'XOne': 2015.0}"
      ]
     },
     "execution_count": 10,
     "metadata": {},
     "output_type": "execute_result"
    }
   ],
   "source": [
    "platform_year_dic = data.groupby('platform').year_of_release.median().round().to_dict()\n",
    "platform_year_dic"
   ]
  },
  {
   "cell_type": "code",
   "execution_count": 11,
   "id": "e6634c5e",
   "metadata": {},
   "outputs": [
    {
     "data": {
      "text/plain": [
       "0"
      ]
     },
     "execution_count": 11,
     "metadata": {},
     "output_type": "execute_result"
    }
   ],
   "source": [
    "# Заполняем пропуски\n",
    "for platform, mean_year in platform_year_dic.items():\n",
    "    data.loc[(data['year_of_release'].isnull()) & (data['platform'] == platform), 'year_of_release'] = mean_year\n",
    "    \n",
    "# проверим, все ли заполнилось\n",
    "data['year_of_release'].isna().sum()"
   ]
  },
  {
   "cell_type": "markdown",
   "id": "fecaa7cc",
   "metadata": {},
   "source": [
    "Приведем значения столбца к типу *int*"
   ]
  },
  {
   "cell_type": "code",
   "execution_count": 12,
   "id": "21738719",
   "metadata": {
    "scrolled": true
   },
   "outputs": [
    {
     "data": {
      "text/html": [
       "<div>\n",
       "<style scoped>\n",
       "    .dataframe tbody tr th:only-of-type {\n",
       "        vertical-align: middle;\n",
       "    }\n",
       "\n",
       "    .dataframe tbody tr th {\n",
       "        vertical-align: top;\n",
       "    }\n",
       "\n",
       "    .dataframe thead th {\n",
       "        text-align: right;\n",
       "    }\n",
       "</style>\n",
       "<table border=\"1\" class=\"dataframe\">\n",
       "  <thead>\n",
       "    <tr style=\"text-align: right;\">\n",
       "      <th></th>\n",
       "      <th>name</th>\n",
       "      <th>platform</th>\n",
       "      <th>year_of_release</th>\n",
       "      <th>genre</th>\n",
       "      <th>na_sales</th>\n",
       "      <th>eu_sales</th>\n",
       "      <th>jp_sales</th>\n",
       "      <th>other_sales</th>\n",
       "      <th>critic_score</th>\n",
       "      <th>user_score</th>\n",
       "      <th>rating</th>\n",
       "    </tr>\n",
       "  </thead>\n",
       "  <tbody>\n",
       "    <tr>\n",
       "      <th>0</th>\n",
       "      <td>Wii Sports</td>\n",
       "      <td>Wii</td>\n",
       "      <td>2006</td>\n",
       "      <td>Sports</td>\n",
       "      <td>41.36</td>\n",
       "      <td>28.96</td>\n",
       "      <td>3.77</td>\n",
       "      <td>8.45</td>\n",
       "      <td>76.0</td>\n",
       "      <td>8</td>\n",
       "      <td>E</td>\n",
       "    </tr>\n",
       "    <tr>\n",
       "      <th>1</th>\n",
       "      <td>Super Mario Bros.</td>\n",
       "      <td>NES</td>\n",
       "      <td>1985</td>\n",
       "      <td>Platform</td>\n",
       "      <td>29.08</td>\n",
       "      <td>3.58</td>\n",
       "      <td>6.81</td>\n",
       "      <td>0.77</td>\n",
       "      <td>NaN</td>\n",
       "      <td>NaN</td>\n",
       "      <td>NaN</td>\n",
       "    </tr>\n",
       "    <tr>\n",
       "      <th>2</th>\n",
       "      <td>Mario Kart Wii</td>\n",
       "      <td>Wii</td>\n",
       "      <td>2008</td>\n",
       "      <td>Racing</td>\n",
       "      <td>15.68</td>\n",
       "      <td>12.76</td>\n",
       "      <td>3.79</td>\n",
       "      <td>3.29</td>\n",
       "      <td>82.0</td>\n",
       "      <td>8.3</td>\n",
       "      <td>E</td>\n",
       "    </tr>\n",
       "    <tr>\n",
       "      <th>3</th>\n",
       "      <td>Wii Sports Resort</td>\n",
       "      <td>Wii</td>\n",
       "      <td>2009</td>\n",
       "      <td>Sports</td>\n",
       "      <td>15.61</td>\n",
       "      <td>10.93</td>\n",
       "      <td>3.28</td>\n",
       "      <td>2.95</td>\n",
       "      <td>80.0</td>\n",
       "      <td>8</td>\n",
       "      <td>E</td>\n",
       "    </tr>\n",
       "    <tr>\n",
       "      <th>4</th>\n",
       "      <td>Pokemon Red/Pokemon Blue</td>\n",
       "      <td>GB</td>\n",
       "      <td>1996</td>\n",
       "      <td>Role-Playing</td>\n",
       "      <td>11.27</td>\n",
       "      <td>8.89</td>\n",
       "      <td>10.22</td>\n",
       "      <td>1.00</td>\n",
       "      <td>NaN</td>\n",
       "      <td>NaN</td>\n",
       "      <td>NaN</td>\n",
       "    </tr>\n",
       "  </tbody>\n",
       "</table>\n",
       "</div>"
      ],
      "text/plain": [
       "                       name platform  year_of_release         genre  na_sales  \\\n",
       "0                Wii Sports      Wii             2006        Sports     41.36   \n",
       "1         Super Mario Bros.      NES             1985      Platform     29.08   \n",
       "2            Mario Kart Wii      Wii             2008        Racing     15.68   \n",
       "3         Wii Sports Resort      Wii             2009        Sports     15.61   \n",
       "4  Pokemon Red/Pokemon Blue       GB             1996  Role-Playing     11.27   \n",
       "\n",
       "   eu_sales  jp_sales  other_sales  critic_score user_score rating  \n",
       "0     28.96      3.77         8.45          76.0          8      E  \n",
       "1      3.58      6.81         0.77           NaN        NaN    NaN  \n",
       "2     12.76      3.79         3.29          82.0        8.3      E  \n",
       "3     10.93      3.28         2.95          80.0          8      E  \n",
       "4      8.89     10.22         1.00           NaN        NaN    NaN  "
      ]
     },
     "execution_count": 12,
     "metadata": {},
     "output_type": "execute_result"
    }
   ],
   "source": [
    "data['year_of_release'] = data['year_of_release'].astype('int')\n",
    "data.head()"
   ]
  },
  {
   "cell_type": "code",
   "execution_count": 13,
   "id": "4306cf25",
   "metadata": {},
   "outputs": [
    {
     "data": {
      "text/plain": [
       "dtype('int64')"
      ]
     },
     "execution_count": 13,
     "metadata": {},
     "output_type": "execute_result"
    }
   ],
   "source": [
    "data.year_of_release.dtype"
   ]
  },
  {
   "cell_type": "markdown",
   "id": "2e543eb0",
   "metadata": {},
   "source": [
    "**Вывод. Данные столбца `year_of_release` корректны.**"
   ]
  },
  {
   "cell_type": "markdown",
   "id": "6f24964c",
   "metadata": {},
   "source": [
    "### Столбец `genre`"
   ]
  },
  {
   "cell_type": "code",
   "execution_count": 14,
   "id": "842f672a",
   "metadata": {},
   "outputs": [
    {
     "name": "stdout",
     "output_type": "stream",
     "text": [
      "Число уникальных названий жанров: 12\n"
     ]
    },
    {
     "data": {
      "text/plain": [
       "array(['Sports', 'Platform', 'Racing', 'Role-Playing', 'Puzzle', 'Misc',\n",
       "       'Shooter', 'Simulation', 'Action', 'Fighting', 'Adventure',\n",
       "       'Strategy'], dtype=object)"
      ]
     },
     "execution_count": 14,
     "metadata": {},
     "output_type": "execute_result"
    }
   ],
   "source": [
    "print(f'Число уникальных названий жанров: {len(data.genre.unique())}')\n",
    "data.genre.unique()"
   ]
  },
  {
   "cell_type": "markdown",
   "id": "84be297c",
   "metadata": {},
   "source": [
    "**Вывод. Данные столбца `genre` корректны.**"
   ]
  },
  {
   "cell_type": "markdown",
   "id": "613c6986",
   "metadata": {},
   "source": [
    "### Столбец `na_sales`"
   ]
  },
  {
   "cell_type": "code",
   "execution_count": 15,
   "id": "33dcf2d8",
   "metadata": {},
   "outputs": [
    {
     "data": {
      "text/plain": [
       "count    16713.000000\n",
       "mean         0.263302\n",
       "std          0.813565\n",
       "min          0.000000\n",
       "25%          0.000000\n",
       "50%          0.080000\n",
       "75%          0.240000\n",
       "max         41.360000\n",
       "Name: na_sales, dtype: float64"
      ]
     },
     "execution_count": 15,
     "metadata": {},
     "output_type": "execute_result"
    }
   ],
   "source": [
    "data.na_sales.describe()"
   ]
  },
  {
   "cell_type": "markdown",
   "id": "2b697308",
   "metadata": {},
   "source": [
    "Данные не показывают аномальных значений.\n",
    "\n",
    "**Вывод. Данные столбца `na_sales` корректны.**"
   ]
  },
  {
   "cell_type": "markdown",
   "id": "d4bdc4d1",
   "metadata": {},
   "source": [
    "### Столбец `eu_sales`"
   ]
  },
  {
   "cell_type": "code",
   "execution_count": 16,
   "id": "d928b432",
   "metadata": {},
   "outputs": [
    {
     "data": {
      "text/plain": [
       "count    16713.000000\n",
       "mean         0.145045\n",
       "std          0.503359\n",
       "min          0.000000\n",
       "25%          0.000000\n",
       "50%          0.020000\n",
       "75%          0.110000\n",
       "max         28.960000\n",
       "Name: eu_sales, dtype: float64"
      ]
     },
     "execution_count": 16,
     "metadata": {},
     "output_type": "execute_result"
    }
   ],
   "source": [
    "data.eu_sales.describe()"
   ]
  },
  {
   "cell_type": "markdown",
   "id": "9e4ee5b3",
   "metadata": {},
   "source": [
    "Данные не показывают аномальных значений.\n",
    "\n",
    "**Вывод. Данные столбца `eu_sales` корректны.**"
   ]
  },
  {
   "cell_type": "markdown",
   "id": "c28c3514",
   "metadata": {},
   "source": [
    "### Столбец `other_sales`"
   ]
  },
  {
   "cell_type": "code",
   "execution_count": 17,
   "id": "e46aeb1f",
   "metadata": {},
   "outputs": [
    {
     "data": {
      "text/plain": [
       "count    16713.000000\n",
       "mean         0.047343\n",
       "std          0.186742\n",
       "min          0.000000\n",
       "25%          0.000000\n",
       "50%          0.010000\n",
       "75%          0.030000\n",
       "max         10.570000\n",
       "Name: other_sales, dtype: float64"
      ]
     },
     "execution_count": 17,
     "metadata": {},
     "output_type": "execute_result"
    }
   ],
   "source": [
    "data.other_sales.describe()"
   ]
  },
  {
   "cell_type": "markdown",
   "id": "8936d02a",
   "metadata": {},
   "source": [
    "Данные не показывают аномальных значений.\n",
    "\n",
    "**Вывод. Данные столбца `other_sales` корректны**"
   ]
  },
  {
   "cell_type": "markdown",
   "id": "2a3975af",
   "metadata": {},
   "source": [
    "### Столбец `critic_score`"
   ]
  },
  {
   "cell_type": "code",
   "execution_count": 18,
   "id": "6defaab2",
   "metadata": {},
   "outputs": [
    {
     "data": {
      "text/plain": [
       "count    8137.000000\n",
       "mean       68.967679\n",
       "std        13.938165\n",
       "min        13.000000\n",
       "25%        60.000000\n",
       "50%        71.000000\n",
       "75%        79.000000\n",
       "max        98.000000\n",
       "Name: critic_score, dtype: float64"
      ]
     },
     "execution_count": 18,
     "metadata": {},
     "output_type": "execute_result"
    }
   ],
   "source": [
    "data.critic_score.describe()"
   ]
  },
  {
   "cell_type": "code",
   "execution_count": 19,
   "id": "2c47e1ab",
   "metadata": {},
   "outputs": [
    {
     "data": {
      "text/plain": [
       "70.0    256\n",
       "71.0    254\n",
       "75.0    245\n",
       "78.0    240\n",
       "73.0    238\n",
       "       ... \n",
       "29.0      3\n",
       "13.0      1\n",
       "22.0      1\n",
       "17.0      1\n",
       "21.0      1\n",
       "Name: critic_score, Length: 82, dtype: int64"
      ]
     },
     "execution_count": 19,
     "metadata": {},
     "output_type": "execute_result"
    }
   ],
   "source": [
    "# значения и их кол-во\n",
    "data.critic_score.value_counts()"
   ]
  },
  {
   "cell_type": "code",
   "execution_count": 20,
   "id": "768ebb39",
   "metadata": {},
   "outputs": [
    {
     "data": {
      "text/plain": [
       "0.5131334889008556"
      ]
     },
     "execution_count": 20,
     "metadata": {},
     "output_type": "execute_result"
    }
   ],
   "source": [
    "# относительное количество пропусков\n",
    "data.critic_score.isna().sum()/len(data)"
   ]
  },
  {
   "cell_type": "markdown",
   "id": "77378170",
   "metadata": {},
   "source": [
    "Пропусков много 51%, попробуем выявить корреляцию между остальными данными. Возможно есть зависимость, с помощью которой, можно будет заполнить пропуски."
   ]
  },
  {
   "cell_type": "code",
   "execution_count": 21,
   "id": "c8ac28d0",
   "metadata": {},
   "outputs": [
    {
     "data": {
      "text/html": [
       "<div>\n",
       "<style scoped>\n",
       "    .dataframe tbody tr th:only-of-type {\n",
       "        vertical-align: middle;\n",
       "    }\n",
       "\n",
       "    .dataframe tbody tr th {\n",
       "        vertical-align: top;\n",
       "    }\n",
       "\n",
       "    .dataframe thead th {\n",
       "        text-align: right;\n",
       "    }\n",
       "</style>\n",
       "<table border=\"1\" class=\"dataframe\">\n",
       "  <thead>\n",
       "    <tr style=\"text-align: right;\">\n",
       "      <th></th>\n",
       "      <th>year_of_release</th>\n",
       "      <th>na_sales</th>\n",
       "      <th>eu_sales</th>\n",
       "      <th>jp_sales</th>\n",
       "      <th>other_sales</th>\n",
       "      <th>critic_score</th>\n",
       "    </tr>\n",
       "  </thead>\n",
       "  <tbody>\n",
       "    <tr>\n",
       "      <th>year_of_release</th>\n",
       "      <td>1.000000</td>\n",
       "      <td>-0.093252</td>\n",
       "      <td>0.004533</td>\n",
       "      <td>-0.165872</td>\n",
       "      <td>0.038140</td>\n",
       "      <td>0.010937</td>\n",
       "    </tr>\n",
       "    <tr>\n",
       "      <th>na_sales</th>\n",
       "      <td>-0.093252</td>\n",
       "      <td>1.000000</td>\n",
       "      <td>0.765341</td>\n",
       "      <td>0.449668</td>\n",
       "      <td>0.638695</td>\n",
       "      <td>0.240755</td>\n",
       "    </tr>\n",
       "    <tr>\n",
       "      <th>eu_sales</th>\n",
       "      <td>0.004533</td>\n",
       "      <td>0.765341</td>\n",
       "      <td>1.000000</td>\n",
       "      <td>0.435079</td>\n",
       "      <td>0.722796</td>\n",
       "      <td>0.220752</td>\n",
       "    </tr>\n",
       "    <tr>\n",
       "      <th>jp_sales</th>\n",
       "      <td>-0.165872</td>\n",
       "      <td>0.449668</td>\n",
       "      <td>0.435079</td>\n",
       "      <td>1.000000</td>\n",
       "      <td>0.291090</td>\n",
       "      <td>0.152593</td>\n",
       "    </tr>\n",
       "    <tr>\n",
       "      <th>other_sales</th>\n",
       "      <td>0.038140</td>\n",
       "      <td>0.638695</td>\n",
       "      <td>0.722796</td>\n",
       "      <td>0.291090</td>\n",
       "      <td>1.000000</td>\n",
       "      <td>0.198554</td>\n",
       "    </tr>\n",
       "    <tr>\n",
       "      <th>critic_score</th>\n",
       "      <td>0.010937</td>\n",
       "      <td>0.240755</td>\n",
       "      <td>0.220752</td>\n",
       "      <td>0.152593</td>\n",
       "      <td>0.198554</td>\n",
       "      <td>1.000000</td>\n",
       "    </tr>\n",
       "  </tbody>\n",
       "</table>\n",
       "</div>"
      ],
      "text/plain": [
       "                 year_of_release  na_sales  eu_sales  jp_sales  other_sales  \\\n",
       "year_of_release         1.000000 -0.093252  0.004533 -0.165872     0.038140   \n",
       "na_sales               -0.093252  1.000000  0.765341  0.449668     0.638695   \n",
       "eu_sales                0.004533  0.765341  1.000000  0.435079     0.722796   \n",
       "jp_sales               -0.165872  0.449668  0.435079  1.000000     0.291090   \n",
       "other_sales             0.038140  0.638695  0.722796  0.291090     1.000000   \n",
       "critic_score            0.010937  0.240755  0.220752  0.152593     0.198554   \n",
       "\n",
       "                 critic_score  \n",
       "year_of_release      0.010937  \n",
       "na_sales             0.240755  \n",
       "eu_sales             0.220752  \n",
       "jp_sales             0.152593  \n",
       "other_sales          0.198554  \n",
       "critic_score         1.000000  "
      ]
     },
     "execution_count": 21,
     "metadata": {},
     "output_type": "execute_result"
    }
   ],
   "source": [
    "data.corr()"
   ]
  },
  {
   "cell_type": "markdown",
   "id": "e7307292",
   "metadata": {},
   "source": [
    "Как видим ни один критерий не имеет, хотя бы связь средней силы. По оценке Чеддока максимальная корреляция к na_sales равна 0.24, что является *слабой корреляцией*. [Шкала Чеддока](https://math.semestr.ru/corel/cheddok.php)\n",
    "\n",
    "**Вывод. Пропущеных даных довольно много, удалить, без искажения результата исследования нельзя. Заполнить пропуски, используя сильные зависимости с другими колонками, то же нельзя. Оставляем, как есть.**"
   ]
  },
  {
   "cell_type": "markdown",
   "id": "93b2d95f",
   "metadata": {},
   "source": [
    "### Столбец `user_score`"
   ]
  },
  {
   "cell_type": "code",
   "execution_count": 22,
   "id": "6dbe0029",
   "metadata": {},
   "outputs": [
    {
     "data": {
      "text/plain": [
       "count     10014\n",
       "unique       96\n",
       "top         tbd\n",
       "freq       2424\n",
       "Name: user_score, dtype: object"
      ]
     },
     "execution_count": 22,
     "metadata": {},
     "output_type": "execute_result"
    }
   ],
   "source": [
    "data.user_score.describe()"
   ]
  },
  {
   "cell_type": "code",
   "execution_count": 23,
   "id": "efea16cc",
   "metadata": {},
   "outputs": [
    {
     "data": {
      "text/plain": [
       "tbd    2424\n",
       "7.8     324\n",
       "8       290\n",
       "8.2     282\n",
       "8.3     254\n",
       "       ... \n",
       "0.2       2\n",
       "0.6       2\n",
       "2.3       2\n",
       "9.7       1\n",
       "0         1\n",
       "Name: user_score, Length: 96, dtype: int64"
      ]
     },
     "execution_count": 23,
     "metadata": {},
     "output_type": "execute_result"
    }
   ],
   "source": [
    "# значения и их кол-во\n",
    "data.user_score.value_counts()"
   ]
  },
  {
   "cell_type": "markdown",
   "id": "4e0c893d",
   "metadata": {},
   "source": [
    "В списке количества лидирует непонятная абревиатура *tbd*. Воспользовавшись поиском выясняем, что *tbd* - аббревиатура от английского To Be Determined (будет определено) или To Be Decided (будет решено). [TBD](https://mobilradio.ru/information/vocabulary/tbd.htm)\n",
    "\n",
    "То есть, оценка еще не определена, она еще не существует, поэтому заменим \"tbd\" на \"Nan\"."
   ]
  },
  {
   "cell_type": "code",
   "execution_count": 24,
   "id": "4e15bee9",
   "metadata": {},
   "outputs": [],
   "source": [
    "data['user_score'] = pd.to_numeric(data['user_score'], errors='coerce')"
   ]
  },
  {
   "cell_type": "code",
   "execution_count": 25,
   "id": "ed991713",
   "metadata": {},
   "outputs": [
    {
     "data": {
      "text/plain": [
       "0.5458625022437623"
      ]
     },
     "execution_count": 25,
     "metadata": {},
     "output_type": "execute_result"
    }
   ],
   "source": [
    "# относительное количество пропусков\n",
    "data.user_score.isna().sum()/len(data)"
   ]
  },
  {
   "cell_type": "markdown",
   "id": "0c49ae79",
   "metadata": {},
   "source": [
    "Пропусков также много 54%, попробуем выявить корреляцию между остальными данными."
   ]
  },
  {
   "cell_type": "code",
   "execution_count": 26,
   "id": "baffd8c6",
   "metadata": {},
   "outputs": [
    {
     "data": {
      "text/html": [
       "<div>\n",
       "<style scoped>\n",
       "    .dataframe tbody tr th:only-of-type {\n",
       "        vertical-align: middle;\n",
       "    }\n",
       "\n",
       "    .dataframe tbody tr th {\n",
       "        vertical-align: top;\n",
       "    }\n",
       "\n",
       "    .dataframe thead th {\n",
       "        text-align: right;\n",
       "    }\n",
       "</style>\n",
       "<table border=\"1\" class=\"dataframe\">\n",
       "  <thead>\n",
       "    <tr style=\"text-align: right;\">\n",
       "      <th></th>\n",
       "      <th>year_of_release</th>\n",
       "      <th>na_sales</th>\n",
       "      <th>eu_sales</th>\n",
       "      <th>jp_sales</th>\n",
       "      <th>other_sales</th>\n",
       "      <th>critic_score</th>\n",
       "      <th>user_score</th>\n",
       "    </tr>\n",
       "  </thead>\n",
       "  <tbody>\n",
       "    <tr>\n",
       "      <th>year_of_release</th>\n",
       "      <td>1.000000</td>\n",
       "      <td>-0.093252</td>\n",
       "      <td>0.004533</td>\n",
       "      <td>-0.165872</td>\n",
       "      <td>0.038140</td>\n",
       "      <td>0.010937</td>\n",
       "      <td>-0.266069</td>\n",
       "    </tr>\n",
       "    <tr>\n",
       "      <th>na_sales</th>\n",
       "      <td>-0.093252</td>\n",
       "      <td>1.000000</td>\n",
       "      <td>0.765341</td>\n",
       "      <td>0.449668</td>\n",
       "      <td>0.638695</td>\n",
       "      <td>0.240755</td>\n",
       "      <td>0.086200</td>\n",
       "    </tr>\n",
       "    <tr>\n",
       "      <th>eu_sales</th>\n",
       "      <td>0.004533</td>\n",
       "      <td>0.765341</td>\n",
       "      <td>1.000000</td>\n",
       "      <td>0.435079</td>\n",
       "      <td>0.722796</td>\n",
       "      <td>0.220752</td>\n",
       "      <td>0.055337</td>\n",
       "    </tr>\n",
       "    <tr>\n",
       "      <th>jp_sales</th>\n",
       "      <td>-0.165872</td>\n",
       "      <td>0.449668</td>\n",
       "      <td>0.435079</td>\n",
       "      <td>1.000000</td>\n",
       "      <td>0.291090</td>\n",
       "      <td>0.152593</td>\n",
       "      <td>0.125598</td>\n",
       "    </tr>\n",
       "    <tr>\n",
       "      <th>other_sales</th>\n",
       "      <td>0.038140</td>\n",
       "      <td>0.638695</td>\n",
       "      <td>0.722796</td>\n",
       "      <td>0.291090</td>\n",
       "      <td>1.000000</td>\n",
       "      <td>0.198554</td>\n",
       "      <td>0.057119</td>\n",
       "    </tr>\n",
       "    <tr>\n",
       "      <th>critic_score</th>\n",
       "      <td>0.010937</td>\n",
       "      <td>0.240755</td>\n",
       "      <td>0.220752</td>\n",
       "      <td>0.152593</td>\n",
       "      <td>0.198554</td>\n",
       "      <td>1.000000</td>\n",
       "      <td>0.580878</td>\n",
       "    </tr>\n",
       "    <tr>\n",
       "      <th>user_score</th>\n",
       "      <td>-0.266069</td>\n",
       "      <td>0.086200</td>\n",
       "      <td>0.055337</td>\n",
       "      <td>0.125598</td>\n",
       "      <td>0.057119</td>\n",
       "      <td>0.580878</td>\n",
       "      <td>1.000000</td>\n",
       "    </tr>\n",
       "  </tbody>\n",
       "</table>\n",
       "</div>"
      ],
      "text/plain": [
       "                 year_of_release  na_sales  eu_sales  jp_sales  other_sales  \\\n",
       "year_of_release         1.000000 -0.093252  0.004533 -0.165872     0.038140   \n",
       "na_sales               -0.093252  1.000000  0.765341  0.449668     0.638695   \n",
       "eu_sales                0.004533  0.765341  1.000000  0.435079     0.722796   \n",
       "jp_sales               -0.165872  0.449668  0.435079  1.000000     0.291090   \n",
       "other_sales             0.038140  0.638695  0.722796  0.291090     1.000000   \n",
       "critic_score            0.010937  0.240755  0.220752  0.152593     0.198554   \n",
       "user_score             -0.266069  0.086200  0.055337  0.125598     0.057119   \n",
       "\n",
       "                 critic_score  user_score  \n",
       "year_of_release      0.010937   -0.266069  \n",
       "na_sales             0.240755    0.086200  \n",
       "eu_sales             0.220752    0.055337  \n",
       "jp_sales             0.152593    0.125598  \n",
       "other_sales          0.198554    0.057119  \n",
       "critic_score         1.000000    0.580878  \n",
       "user_score           0.580878    1.000000  "
      ]
     },
     "execution_count": 26,
     "metadata": {},
     "output_type": "execute_result"
    }
   ],
   "source": [
    "data.corr()"
   ]
  },
  {
   "cell_type": "markdown",
   "id": "d459bab6",
   "metadata": {},
   "source": [
    "Заметная корреляция (0.58) наблюдается у столбцов `critic_score` и `user_score`, что, в общем то, логично: чем больше отзывов напишут игроки, тем интересней критикам сделать свою оценку, и  наоборот."
   ]
  },
  {
   "cell_type": "markdown",
   "id": "fe406d39",
   "metadata": {},
   "source": [
    "**Вывод. Пропущеных даных довольно много, удалить, без искажения результата исследования нельзя. Заполнить пропуски, используя используя заметную корреляцию,не получится потому, что в коррелируемой колонке так же много пропусков. Оставляем, как есть.**"
   ]
  },
  {
   "cell_type": "markdown",
   "id": "4e50db87",
   "metadata": {},
   "source": [
    "### Столбец `rating`"
   ]
  },
  {
   "cell_type": "code",
   "execution_count": 27,
   "id": "9d3ef3ed",
   "metadata": {},
   "outputs": [
    {
     "data": {
      "text/plain": [
       "0.40471489259857596"
      ]
     },
     "execution_count": 27,
     "metadata": {},
     "output_type": "execute_result"
    }
   ],
   "source": [
    "# относительное количество пропусков\n",
    "data.rating.isna().sum()/len(data)"
   ]
  },
  {
   "cell_type": "markdown",
   "id": "51bfcc6a",
   "metadata": {},
   "source": [
    "Пропусков также много 40%. Взглянем на пропуски."
   ]
  },
  {
   "cell_type": "code",
   "execution_count": 28,
   "id": "83115140",
   "metadata": {},
   "outputs": [
    {
     "data": {
      "text/html": [
       "<div>\n",
       "<style scoped>\n",
       "    .dataframe tbody tr th:only-of-type {\n",
       "        vertical-align: middle;\n",
       "    }\n",
       "\n",
       "    .dataframe tbody tr th {\n",
       "        vertical-align: top;\n",
       "    }\n",
       "\n",
       "    .dataframe thead th {\n",
       "        text-align: right;\n",
       "    }\n",
       "</style>\n",
       "<table border=\"1\" class=\"dataframe\">\n",
       "  <thead>\n",
       "    <tr style=\"text-align: right;\">\n",
       "      <th></th>\n",
       "      <th>name</th>\n",
       "      <th>platform</th>\n",
       "      <th>year_of_release</th>\n",
       "      <th>genre</th>\n",
       "      <th>na_sales</th>\n",
       "      <th>eu_sales</th>\n",
       "      <th>jp_sales</th>\n",
       "      <th>other_sales</th>\n",
       "      <th>critic_score</th>\n",
       "      <th>user_score</th>\n",
       "      <th>rating</th>\n",
       "    </tr>\n",
       "  </thead>\n",
       "  <tbody>\n",
       "    <tr>\n",
       "      <th>1</th>\n",
       "      <td>Super Mario Bros.</td>\n",
       "      <td>NES</td>\n",
       "      <td>1985</td>\n",
       "      <td>Platform</td>\n",
       "      <td>29.08</td>\n",
       "      <td>3.58</td>\n",
       "      <td>6.81</td>\n",
       "      <td>0.77</td>\n",
       "      <td>NaN</td>\n",
       "      <td>NaN</td>\n",
       "      <td>NaN</td>\n",
       "    </tr>\n",
       "    <tr>\n",
       "      <th>4</th>\n",
       "      <td>Pokemon Red/Pokemon Blue</td>\n",
       "      <td>GB</td>\n",
       "      <td>1996</td>\n",
       "      <td>Role-Playing</td>\n",
       "      <td>11.27</td>\n",
       "      <td>8.89</td>\n",
       "      <td>10.22</td>\n",
       "      <td>1.00</td>\n",
       "      <td>NaN</td>\n",
       "      <td>NaN</td>\n",
       "      <td>NaN</td>\n",
       "    </tr>\n",
       "    <tr>\n",
       "      <th>5</th>\n",
       "      <td>Tetris</td>\n",
       "      <td>GB</td>\n",
       "      <td>1989</td>\n",
       "      <td>Puzzle</td>\n",
       "      <td>23.20</td>\n",
       "      <td>2.26</td>\n",
       "      <td>4.22</td>\n",
       "      <td>0.58</td>\n",
       "      <td>NaN</td>\n",
       "      <td>NaN</td>\n",
       "      <td>NaN</td>\n",
       "    </tr>\n",
       "    <tr>\n",
       "      <th>9</th>\n",
       "      <td>Duck Hunt</td>\n",
       "      <td>NES</td>\n",
       "      <td>1984</td>\n",
       "      <td>Shooter</td>\n",
       "      <td>26.93</td>\n",
       "      <td>0.63</td>\n",
       "      <td>0.28</td>\n",
       "      <td>0.47</td>\n",
       "      <td>NaN</td>\n",
       "      <td>NaN</td>\n",
       "      <td>NaN</td>\n",
       "    </tr>\n",
       "    <tr>\n",
       "      <th>10</th>\n",
       "      <td>Nintendogs</td>\n",
       "      <td>DS</td>\n",
       "      <td>2005</td>\n",
       "      <td>Simulation</td>\n",
       "      <td>9.05</td>\n",
       "      <td>10.95</td>\n",
       "      <td>1.93</td>\n",
       "      <td>2.74</td>\n",
       "      <td>NaN</td>\n",
       "      <td>NaN</td>\n",
       "      <td>NaN</td>\n",
       "    </tr>\n",
       "    <tr>\n",
       "      <th>...</th>\n",
       "      <td>...</td>\n",
       "      <td>...</td>\n",
       "      <td>...</td>\n",
       "      <td>...</td>\n",
       "      <td>...</td>\n",
       "      <td>...</td>\n",
       "      <td>...</td>\n",
       "      <td>...</td>\n",
       "      <td>...</td>\n",
       "      <td>...</td>\n",
       "      <td>...</td>\n",
       "    </tr>\n",
       "    <tr>\n",
       "      <th>16710</th>\n",
       "      <td>Samurai Warriors: Sanada Maru</td>\n",
       "      <td>PS3</td>\n",
       "      <td>2016</td>\n",
       "      <td>Action</td>\n",
       "      <td>0.00</td>\n",
       "      <td>0.00</td>\n",
       "      <td>0.01</td>\n",
       "      <td>0.00</td>\n",
       "      <td>NaN</td>\n",
       "      <td>NaN</td>\n",
       "      <td>NaN</td>\n",
       "    </tr>\n",
       "    <tr>\n",
       "      <th>16711</th>\n",
       "      <td>LMA Manager 2007</td>\n",
       "      <td>X360</td>\n",
       "      <td>2006</td>\n",
       "      <td>Sports</td>\n",
       "      <td>0.00</td>\n",
       "      <td>0.01</td>\n",
       "      <td>0.00</td>\n",
       "      <td>0.00</td>\n",
       "      <td>NaN</td>\n",
       "      <td>NaN</td>\n",
       "      <td>NaN</td>\n",
       "    </tr>\n",
       "    <tr>\n",
       "      <th>16712</th>\n",
       "      <td>Haitaka no Psychedelica</td>\n",
       "      <td>PSV</td>\n",
       "      <td>2016</td>\n",
       "      <td>Adventure</td>\n",
       "      <td>0.00</td>\n",
       "      <td>0.00</td>\n",
       "      <td>0.01</td>\n",
       "      <td>0.00</td>\n",
       "      <td>NaN</td>\n",
       "      <td>NaN</td>\n",
       "      <td>NaN</td>\n",
       "    </tr>\n",
       "    <tr>\n",
       "      <th>16713</th>\n",
       "      <td>Spirits &amp; Spells</td>\n",
       "      <td>GBA</td>\n",
       "      <td>2003</td>\n",
       "      <td>Platform</td>\n",
       "      <td>0.01</td>\n",
       "      <td>0.00</td>\n",
       "      <td>0.00</td>\n",
       "      <td>0.00</td>\n",
       "      <td>NaN</td>\n",
       "      <td>NaN</td>\n",
       "      <td>NaN</td>\n",
       "    </tr>\n",
       "    <tr>\n",
       "      <th>16714</th>\n",
       "      <td>Winning Post 8 2016</td>\n",
       "      <td>PSV</td>\n",
       "      <td>2016</td>\n",
       "      <td>Simulation</td>\n",
       "      <td>0.00</td>\n",
       "      <td>0.00</td>\n",
       "      <td>0.01</td>\n",
       "      <td>0.00</td>\n",
       "      <td>NaN</td>\n",
       "      <td>NaN</td>\n",
       "      <td>NaN</td>\n",
       "    </tr>\n",
       "  </tbody>\n",
       "</table>\n",
       "<p>6764 rows × 11 columns</p>\n",
       "</div>"
      ],
      "text/plain": [
       "                                name platform  year_of_release         genre  \\\n",
       "1                  Super Mario Bros.      NES             1985      Platform   \n",
       "4           Pokemon Red/Pokemon Blue       GB             1996  Role-Playing   \n",
       "5                             Tetris       GB             1989        Puzzle   \n",
       "9                          Duck Hunt      NES             1984       Shooter   \n",
       "10                        Nintendogs       DS             2005    Simulation   \n",
       "...                              ...      ...              ...           ...   \n",
       "16710  Samurai Warriors: Sanada Maru      PS3             2016        Action   \n",
       "16711               LMA Manager 2007     X360             2006        Sports   \n",
       "16712        Haitaka no Psychedelica      PSV             2016     Adventure   \n",
       "16713               Spirits & Spells      GBA             2003      Platform   \n",
       "16714            Winning Post 8 2016      PSV             2016    Simulation   \n",
       "\n",
       "       na_sales  eu_sales  jp_sales  other_sales  critic_score  user_score  \\\n",
       "1         29.08      3.58      6.81         0.77           NaN         NaN   \n",
       "4         11.27      8.89     10.22         1.00           NaN         NaN   \n",
       "5         23.20      2.26      4.22         0.58           NaN         NaN   \n",
       "9         26.93      0.63      0.28         0.47           NaN         NaN   \n",
       "10         9.05     10.95      1.93         2.74           NaN         NaN   \n",
       "...         ...       ...       ...          ...           ...         ...   \n",
       "16710      0.00      0.00      0.01         0.00           NaN         NaN   \n",
       "16711      0.00      0.01      0.00         0.00           NaN         NaN   \n",
       "16712      0.00      0.00      0.01         0.00           NaN         NaN   \n",
       "16713      0.01      0.00      0.00         0.00           NaN         NaN   \n",
       "16714      0.00      0.00      0.01         0.00           NaN         NaN   \n",
       "\n",
       "      rating  \n",
       "1        NaN  \n",
       "4        NaN  \n",
       "5        NaN  \n",
       "9        NaN  \n",
       "10       NaN  \n",
       "...      ...  \n",
       "16710    NaN  \n",
       "16711    NaN  \n",
       "16712    NaN  \n",
       "16713    NaN  \n",
       "16714    NaN  \n",
       "\n",
       "[6764 rows x 11 columns]"
      ]
     },
     "execution_count": 28,
     "metadata": {},
     "output_type": "execute_result"
    }
   ],
   "source": [
    "data.query('rating.isna()')"
   ]
  },
  {
   "cell_type": "code",
   "execution_count": 29,
   "id": "b3b9af87",
   "metadata": {},
   "outputs": [
    {
     "data": {
      "text/plain": [
       "E       3990\n",
       "T       2961\n",
       "M       1563\n",
       "E10+    1420\n",
       "EC         8\n",
       "K-A        3\n",
       "RP         3\n",
       "AO         1\n",
       "Name: rating, dtype: int64"
      ]
     },
     "execution_count": 29,
     "metadata": {},
     "output_type": "execute_result"
    }
   ],
   "source": [
    "data.rating.value_counts()"
   ]
  },
  {
   "cell_type": "markdown",
   "id": "00bc361e",
   "metadata": {},
   "source": [
    "Выясним, что обозначают эти рейтинги. [ESRB](http://psxplanet.ru/ESRB) и [Wiki](https://ru.wikipedia.org/wiki/Entertainment_Software_Rating_Board)\n",
    "\n",
    "- «E» («Everyone») — «Для всех»: Содержание вполне подходит для возрастной категории старше 6 лет;\n",
    "- «T» («Teen») — «Подросткам 13—16 лет»: Игра подходит для подростков старше 13 лет;\n",
    "- «M» («Mature») — «От 17 лет»: Материалы игры не подходят для возрастной категории младше 17 лет;\n",
    "- «E10+» («Everyone 10 and older») — «Для всех старше 10 лет»: Возрастная категория — от 10 лет;\n",
    "- «EC» («Early childhood») — «Для детей младшего возраста»: Игра подходит для детей от 3 лет и не содержит материалов, которые родители могли бы счесть неподходящими;\n",
    "- «K-A» («Kids to Adults»)— «Для детей и взрослых»: Содержание игры подходит для категории старше 6 лет;\n",
    "- «RP» («Rating Pending»\") — «Рейтинг ожидается»: Продукт был отправлен в ESRB и ожидает присвоения рейтинга;\n",
    "- «AO» («Adults Only 18+») — «Только для взрослых»: Содержание игры только для взрослых."
   ]
  },
  {
   "cell_type": "markdown",
   "id": "6dd00266",
   "metadata": {},
   "source": [
    "Изучение материала прояснило некоторые моменты:\n",
    "- организация, составляющая рейтинг игр, бала основана в 1994, соответственно, рейтинг для игр? которые были выпущены до этого момента, не составлялся. Поэтому пропуски, для игр до 1994 года, можно заполнить используя категории `genre`.\n",
    "- рейтинг «RP» - \"рейтинг ожидается\", т.е. можно приравнять значению Nan, а затем произвести замену по категориям `genre`.\n",
    "- рейтинг «K-A» был заменен в 1998 году на «E», поэтому эти категории разумно будет объединить в категорию «E»."
   ]
  },
  {
   "cell_type": "code",
   "execution_count": 30,
   "id": "a64a6653",
   "metadata": {},
   "outputs": [
    {
     "name": "stdout",
     "output_type": "stream",
     "text": [
      "Количество \"E\" до объединения:  3990\n",
      "Количество \"E\" после объединения:  3993\n"
     ]
    }
   ],
   "source": [
    "# объединяем рейтинги \"K-A\" и \"E\" в категорию \"E\"\n",
    "print(f'Количество \"E\" до объединения: ',data.query('rating == \"E\"')['rating'].count())\n",
    "data.loc[data['rating'] == \"K-A\", 'rating'] = \"E\"\n",
    "print(f'Количество \"E\" после объединения: ', data.query('rating == \"E\"')['rating'].count())"
   ]
  },
  {
   "cell_type": "code",
   "execution_count": 31,
   "id": "5d60d309",
   "metadata": {},
   "outputs": [
    {
     "name": "stdout",
     "output_type": "stream",
     "text": [
      "Количество \"Nan\" до замены:  6764\n",
      "Количество \"Nan\" после замены:  6767\n"
     ]
    }
   ],
   "source": [
    "# замена рейтинга \"RP\" на \"Nan\" \n",
    "print(f'Количество \"Nan\" до замены: ',data.rating.isna().sum())\n",
    "data.loc[data['rating'] == \"RP\", 'rating'] = np.nan\n",
    "print(f'Количество \"Nan\" после замены: ',data.rating.isna().sum())\n"
   ]
  },
  {
   "cell_type": "markdown",
   "id": "787ede34",
   "metadata": {},
   "source": [
    "Для заполнения *Nan* составим словарь - genre: rating. Сперва сгруппируем по жанрам непустые значения рейтинга, подсчитаем самые частые рейтинги в жанре, заполним словарь.\n"
   ]
  },
  {
   "cell_type": "code",
   "execution_count": 32,
   "id": "c20364bb",
   "metadata": {},
   "outputs": [
    {
     "data": {
      "text/plain": [
       "genre         rating\n",
       "Action        T          681\n",
       "              M          608\n",
       "              E10+       481\n",
       "              E          416\n",
       "              AO           1\n",
       "              EC           1\n",
       "Adventure     E          162\n",
       "              T          115\n",
       "              M           99\n",
       "              E10+        68\n",
       "              EC           2\n",
       "Fighting      T          362\n",
       "              M           49\n",
       "              E10+        19\n",
       "              E            8\n",
       "Misc          E          458\n",
       "              T          239\n",
       "              E10+       167\n",
       "              M           13\n",
       "              EC           5\n",
       "Platform      E          358\n",
       "              E10+       144\n",
       "              T           64\n",
       "              M            3\n",
       "Puzzle        E          289\n",
       "              E10+        43\n",
       "              T           10\n",
       "Racing        E          585\n",
       "              T          172\n",
       "              E10+        96\n",
       "              M           18\n",
       "Role-Playing  T          420\n",
       "              M          162\n",
       "              E10+       111\n",
       "              E           84\n",
       "Shooter       M          565\n",
       "              T          348\n",
       "              E10+        58\n",
       "              E           48\n",
       "Simulation    E          325\n",
       "              T          190\n",
       "              E10+        48\n",
       "              M            5\n",
       "Sports        E         1188\n",
       "              T          198\n",
       "              E10+       107\n",
       "              M           16\n",
       "Strategy      T          162\n",
       "              E10+        78\n",
       "              E           72\n",
       "              M           25\n",
       "Name: rating, dtype: int64"
      ]
     },
     "execution_count": 32,
     "metadata": {},
     "output_type": "execute_result"
    }
   ],
   "source": [
    "genre_rating = data.query('rating.notna()').groupby('genre')['rating'].value_counts()\n",
    "genre_rating"
   ]
  },
  {
   "cell_type": "code",
   "execution_count": 33,
   "id": "856d023a",
   "metadata": {},
   "outputs": [
    {
     "data": {
      "text/plain": [
       "{'Action': 'T',\n",
       " 'Adventure': 'E',\n",
       " 'Fighting': 'T',\n",
       " 'Misc': 'E',\n",
       " 'Platform': 'E',\n",
       " 'Puzzle': 'E',\n",
       " 'Racing': 'E',\n",
       " 'Role-Playing': 'T',\n",
       " 'Shooter': 'M',\n",
       " 'Simulation': 'E',\n",
       " 'Sports': 'E',\n",
       " 'Strategy': 'T'}"
      ]
     },
     "execution_count": 33,
     "metadata": {},
     "output_type": "execute_result"
    }
   ],
   "source": [
    "# отсортированый список жанров\n",
    "genre = sorted(data.genre.unique())\n",
    "\n",
    "# рейтинги с максимальной частотой в жанре, отсортированы по жанрам\n",
    "rating_max_frequence = ['T', 'E', 'T', 'E', 'E', 'E', 'E','T','M','E', 'E', 'T']\n",
    "\n",
    "# составляем словарь\n",
    "genre_rating_dic = dict(zip(genre,rating_max_frequence))\n",
    "genre_rating_dic"
   ]
  },
  {
   "cell_type": "code",
   "execution_count": 34,
   "id": "575e8a91",
   "metadata": {},
   "outputs": [
    {
     "data": {
      "text/plain": [
       "E       3993\n",
       "T       2961\n",
       "M       1563\n",
       "E10+    1420\n",
       "EC         8\n",
       "AO         1\n",
       "Name: rating, dtype: int64"
      ]
     },
     "execution_count": 34,
     "metadata": {},
     "output_type": "execute_result"
    }
   ],
   "source": [
    "data.rating.value_counts()"
   ]
  },
  {
   "cell_type": "code",
   "execution_count": 35,
   "id": "d93f3364",
   "metadata": {},
   "outputs": [
    {
     "name": "stdout",
     "output_type": "stream",
     "text": [
      "Количество \"Nan\" после замены:  0\n"
     ]
    }
   ],
   "source": [
    "# заполняем пропуски rating \n",
    "for genre, rating in genre_rating_dic.items():\n",
    "    data.loc[ (data['rating'].isna()) & (data['genre'] == genre), \"rating\"] = rating\n",
    "print(f'Количество \"Nan\" после замены: ', data.rating.isna().sum())"
   ]
  },
  {
   "cell_type": "code",
   "execution_count": 36,
   "id": "382367f9",
   "metadata": {},
   "outputs": [
    {
     "data": {
      "text/plain": [
       "E       7797\n",
       "T       5620\n",
       "M       1867\n",
       "E10+    1420\n",
       "EC         8\n",
       "AO         1\n",
       "Name: rating, dtype: int64"
      ]
     },
     "execution_count": 36,
     "metadata": {},
     "output_type": "execute_result"
    }
   ],
   "source": [
    "data.rating.value_counts()"
   ]
  },
  {
   "cell_type": "markdown",
   "id": "6bcf442a",
   "metadata": {},
   "source": [
    "Слишком редкие значения рейтинга \"EC\" и \"AO\" объединим с самым частым значением \"E\"."
   ]
  },
  {
   "cell_type": "code",
   "execution_count": 37,
   "id": "d9e8ed31",
   "metadata": {},
   "outputs": [
    {
     "data": {
      "text/plain": [
       "E       7806\n",
       "T       5620\n",
       "M       1867\n",
       "E10+    1420\n",
       "Name: rating, dtype: int64"
      ]
     },
     "execution_count": 37,
     "metadata": {},
     "output_type": "execute_result"
    }
   ],
   "source": [
    "data.loc[data['rating'] == \"EC\", 'rating'] = \"E\"\n",
    "data.loc[data['rating'] == \"AO\", 'rating'] = \"E\"\n",
    "data.rating.value_counts()"
   ]
  },
  {
   "cell_type": "markdown",
   "id": "1f4b99fd",
   "metadata": {},
   "source": [
    "**Вывод. Пропуски в столбце заполнили,значения объединили, столбец корректен.**"
   ]
  },
  {
   "cell_type": "markdown",
   "id": "fab765aa",
   "metadata": {},
   "source": [
    "### Проверка на дубликаты"
   ]
  },
  {
   "cell_type": "code",
   "execution_count": 38,
   "id": "038b478d",
   "metadata": {},
   "outputs": [
    {
     "data": {
      "text/plain": [
       "0"
      ]
     },
     "execution_count": 38,
     "metadata": {},
     "output_type": "execute_result"
    }
   ],
   "source": [
    "data.duplicated().sum()"
   ]
  },
  {
   "cell_type": "markdown",
   "id": "7629a1f1",
   "metadata": {},
   "source": [
    "**Вывод. Дубликаты отсутствуют.**"
   ]
  },
  {
   "cell_type": "markdown",
   "id": "0ec3fac0",
   "metadata": {},
   "source": [
    "### Расчет суммарной продажи по регионам"
   ]
  },
  {
   "cell_type": "code",
   "execution_count": 39,
   "id": "cdd79d78",
   "metadata": {},
   "outputs": [
    {
     "data": {
      "text/html": [
       "<div>\n",
       "<style scoped>\n",
       "    .dataframe tbody tr th:only-of-type {\n",
       "        vertical-align: middle;\n",
       "    }\n",
       "\n",
       "    .dataframe tbody tr th {\n",
       "        vertical-align: top;\n",
       "    }\n",
       "\n",
       "    .dataframe thead th {\n",
       "        text-align: right;\n",
       "    }\n",
       "</style>\n",
       "<table border=\"1\" class=\"dataframe\">\n",
       "  <thead>\n",
       "    <tr style=\"text-align: right;\">\n",
       "      <th></th>\n",
       "      <th>name</th>\n",
       "      <th>platform</th>\n",
       "      <th>year_of_release</th>\n",
       "      <th>genre</th>\n",
       "      <th>na_sales</th>\n",
       "      <th>eu_sales</th>\n",
       "      <th>jp_sales</th>\n",
       "      <th>other_sales</th>\n",
       "      <th>critic_score</th>\n",
       "      <th>user_score</th>\n",
       "      <th>rating</th>\n",
       "      <th>total_sales</th>\n",
       "    </tr>\n",
       "  </thead>\n",
       "  <tbody>\n",
       "    <tr>\n",
       "      <th>0</th>\n",
       "      <td>Wii Sports</td>\n",
       "      <td>Wii</td>\n",
       "      <td>2006</td>\n",
       "      <td>Sports</td>\n",
       "      <td>41.36</td>\n",
       "      <td>28.96</td>\n",
       "      <td>3.77</td>\n",
       "      <td>8.45</td>\n",
       "      <td>76.0</td>\n",
       "      <td>8.0</td>\n",
       "      <td>E</td>\n",
       "      <td>82.54</td>\n",
       "    </tr>\n",
       "    <tr>\n",
       "      <th>1</th>\n",
       "      <td>Super Mario Bros.</td>\n",
       "      <td>NES</td>\n",
       "      <td>1985</td>\n",
       "      <td>Platform</td>\n",
       "      <td>29.08</td>\n",
       "      <td>3.58</td>\n",
       "      <td>6.81</td>\n",
       "      <td>0.77</td>\n",
       "      <td>NaN</td>\n",
       "      <td>NaN</td>\n",
       "      <td>E</td>\n",
       "      <td>40.24</td>\n",
       "    </tr>\n",
       "    <tr>\n",
       "      <th>2</th>\n",
       "      <td>Mario Kart Wii</td>\n",
       "      <td>Wii</td>\n",
       "      <td>2008</td>\n",
       "      <td>Racing</td>\n",
       "      <td>15.68</td>\n",
       "      <td>12.76</td>\n",
       "      <td>3.79</td>\n",
       "      <td>3.29</td>\n",
       "      <td>82.0</td>\n",
       "      <td>8.3</td>\n",
       "      <td>E</td>\n",
       "      <td>35.52</td>\n",
       "    </tr>\n",
       "    <tr>\n",
       "      <th>3</th>\n",
       "      <td>Wii Sports Resort</td>\n",
       "      <td>Wii</td>\n",
       "      <td>2009</td>\n",
       "      <td>Sports</td>\n",
       "      <td>15.61</td>\n",
       "      <td>10.93</td>\n",
       "      <td>3.28</td>\n",
       "      <td>2.95</td>\n",
       "      <td>80.0</td>\n",
       "      <td>8.0</td>\n",
       "      <td>E</td>\n",
       "      <td>32.77</td>\n",
       "    </tr>\n",
       "    <tr>\n",
       "      <th>4</th>\n",
       "      <td>Pokemon Red/Pokemon Blue</td>\n",
       "      <td>GB</td>\n",
       "      <td>1996</td>\n",
       "      <td>Role-Playing</td>\n",
       "      <td>11.27</td>\n",
       "      <td>8.89</td>\n",
       "      <td>10.22</td>\n",
       "      <td>1.00</td>\n",
       "      <td>NaN</td>\n",
       "      <td>NaN</td>\n",
       "      <td>T</td>\n",
       "      <td>31.38</td>\n",
       "    </tr>\n",
       "  </tbody>\n",
       "</table>\n",
       "</div>"
      ],
      "text/plain": [
       "                       name platform  year_of_release         genre  na_sales  \\\n",
       "0                Wii Sports      Wii             2006        Sports     41.36   \n",
       "1         Super Mario Bros.      NES             1985      Platform     29.08   \n",
       "2            Mario Kart Wii      Wii             2008        Racing     15.68   \n",
       "3         Wii Sports Resort      Wii             2009        Sports     15.61   \n",
       "4  Pokemon Red/Pokemon Blue       GB             1996  Role-Playing     11.27   \n",
       "\n",
       "   eu_sales  jp_sales  other_sales  critic_score  user_score rating  \\\n",
       "0     28.96      3.77         8.45          76.0         8.0      E   \n",
       "1      3.58      6.81         0.77           NaN         NaN      E   \n",
       "2     12.76      3.79         3.29          82.0         8.3      E   \n",
       "3     10.93      3.28         2.95          80.0         8.0      E   \n",
       "4      8.89     10.22         1.00           NaN         NaN      T   \n",
       "\n",
       "   total_sales  \n",
       "0        82.54  \n",
       "1        40.24  \n",
       "2        35.52  \n",
       "3        32.77  \n",
       "4        31.38  "
      ]
     },
     "execution_count": 39,
     "metadata": {},
     "output_type": "execute_result"
    }
   ],
   "source": [
    "# просуммируем столбцы с выручкой по четырем регионам\n",
    "data['total_sales'] = data[['na_sales','eu_sales','jp_sales','other_sales']].sum(axis=1)\n",
    "data.head()"
   ]
  },
  {
   "cell_type": "markdown",
   "id": "072925d0",
   "metadata": {},
   "source": [
    "**Вывод. Сложение столбцов с выручкой прошло успешно.**"
   ]
  },
  {
   "cell_type": "markdown",
   "id": "b1b4cc4c",
   "metadata": {},
   "source": [
    "## Исследовательский анализ данных"
   ]
  },
  {
   "cell_type": "markdown",
   "id": "68407498",
   "metadata": {},
   "source": [
    "Проведем исследование данных, рассмотрим следующие вопросы:\n",
    "- сколько игр выпускалось в разные годы;\n",
    "- как менялись продажи по платформам;\n",
    "- выберем платформы с наибольшими суммарными продажами и построим распределение по годам;\n",
    "- определим актуальный период для составления прогноза на 2017 год;\n",
    "- выясним какие платформы лидируют по продажам, растут или падают?\n",
    "- выберем несколько потенциально прибыльных платформ;\n",
    "- построем график «ящик с усами» по глобальным продажам игр в разбивке по платформам;\n",
    "- посмотрим, как влияют на продажи внутри одной популярной платформы отзывы пользователей и критиков;\n",
    "- построим диаграмму рассеяния и посчитайте корреляцию между отзывами и продажами;\n",
    "- посмотрим на общее распределение игр по жанрам."
   ]
  },
  {
   "cell_type": "markdown",
   "id": "57a5a51c",
   "metadata": {},
   "source": [
    "### Количество игр по годам"
   ]
  },
  {
   "cell_type": "code",
   "execution_count": 40,
   "id": "9a6b1028",
   "metadata": {},
   "outputs": [
    {
     "data": {
      "image/png": "[encoded data removed]",
      "text/plain": [
       "<Figure size 1152x432 with 1 Axes>"
      ]
     },
     "metadata": {
      "needs_background": "light"
     },
     "output_type": "display_data"
    }
   ],
   "source": [
    "game_of_year = data.groupby('year_of_release')['year_of_release'].count()\n",
    "(game_of_year.plot(kind='bar',\n",
    "                   figsize=(16,6),\n",
    "                   grid=True,\n",
    "                   title='Количество выпущеных игр по годам',\n",
    "                   ylabel='Частота',\n",
    "                   xlabel='Год выпуска',\n",
    "                   rot=45)\n",
    ")\n",
    "plt.show()"
   ]
  },
  {
   "cell_type": "markdown",
   "id": "31c6fc83",
   "metadata": {},
   "source": [
    "**Вывод. Начиная с 1993 наблюдается увеличение количества выпускаумых игр с *проседаниями* в годы, следующие за   мировыми экономическим кризисам(1998, 2002-2003, 2008-2009). На финансовый кризис 2007-2009 приходится максимальное количество выпускаемых игр, видимо пришлось интенсивно заканчивать и продавать начатые проекты.\n",
    "Что и наблюдается после 2009,инерция выпуска начатых до кризиса проектов, и отсутствие новых. Возможно падение обусловлено и другими факторами, например бурное развитие мобильных приложений. После 2011 происходит резкий, двухкратный спад до уровня ниже начала 2000-х.**"
   ]
  },
  {
   "cell_type": "markdown",
   "id": "30126b19",
   "metadata": {},
   "source": [
    "### Продажи игр на разных платформах"
   ]
  },
  {
   "cell_type": "code",
   "execution_count": 41,
   "id": "d13831ae",
   "metadata": {
    "scrolled": false
   },
   "outputs": [
    {
     "data": {
      "image/png": "[encoded data removed]",
      "text/plain": [
       "<Figure size 1152x432 with 1 Axes>"
      ]
     },
     "metadata": {
      "needs_background": "light"
     },
     "output_type": "display_data"
    }
   ],
   "source": [
    "game_of_platform = data.groupby('platform')['total_sales'].sum().sort_values(ascending=False)\n",
    "(game_of_platform.plot(kind='bar',\n",
    "                   figsize=(16,6),\n",
    "                   grid=True,\n",
    "                   title='Суммарная выручка от игр по платформам',\n",
    "                   ylabel='$ млн.',\n",
    "                   xlabel='Платформа',\n",
    "                   rot=45)\n",
    ")\n",
    "plt.show()"
   ]
  },
  {
   "cell_type": "markdown",
   "id": "b3d24ac8",
   "metadata": {},
   "source": [
    "Выберем топ-6 платформ по суммарным продажам и построим распределение по годам."
   ]
  },
  {
   "cell_type": "code",
   "execution_count": 42,
   "id": "8f9eab68",
   "metadata": {},
   "outputs": [
    {
     "data": {
      "text/plain": [
       "['PS2', 'X360', 'PS3', 'Wii', 'DS', 'PS']"
      ]
     },
     "execution_count": 42,
     "metadata": {},
     "output_type": "execute_result"
    }
   ],
   "source": [
    "# список топ-6 платформ по продажам\n",
    "top_6_platforms = data.groupby('platform')['total_sales'].sum()\\\n",
    "    .sort_values(ascending=False).head(6).index.to_list()\n",
    "top_6_platforms"
   ]
  },
  {
   "cell_type": "code",
   "execution_count": 43,
   "id": "a788503a",
   "metadata": {
    "scrolled": false
   },
   "outputs": [
    {
     "data": {
      "image/png": "[encoded data removed]",
      "text/plain": [
       "<Figure size 432x288 with 1 Axes>"
      ]
     },
     "metadata": {
      "needs_background": "light"
     },
     "output_type": "display_data"
    },
    {
     "data": {
      "image/png": "[encoded data removed]",
      "text/plain": [
       "<Figure size 432x288 with 1 Axes>"
      ]
     },
     "metadata": {
      "needs_background": "light"
     },
     "output_type": "display_data"
    },
    {
     "data": {
      "image/png": "[encoded data removed]",
      "text/plain": [
       "<Figure size 432x288 with 1 Axes>"
      ]
     },
     "metadata": {
      "needs_background": "light"
     },
     "output_type": "display_data"
    },
    {
     "data": {
      "image/png": "[encoded data removed]",
      "text/plain": [
       "<Figure size 432x288 with 1 Axes>"
      ]
     },
     "metadata": {
      "needs_background": "light"
     },
     "output_type": "display_data"
    },
    {
     "data": {
      "image/png": "[encoded data removed]",
      "text/plain": [
       "<Figure size 432x288 with 1 Axes>"
      ]
     },
     "metadata": {
      "needs_background": "light"
     },
     "output_type": "display_data"
    },
    {
     "data": {
      "image/png": "[encoded data removed]",
      "text/plain": [
       "<Figure size 432x288 with 1 Axes>"
      ]
     },
     "metadata": {
      "needs_background": "light"
     },
     "output_type": "display_data"
    }
   ],
   "source": [
    "# список лет\n",
    "year_list = [i for i in range(1980,2017)]\n",
    "\n",
    "for platform in top_6_platforms:\n",
    "    data[data['platform']==platform].plot(kind='hist', bins=year_list, legend=False, grid=True)\n",
    "    plt.title(label=platform, fontsize=14, fontweight=\"bold\")\n",
    "    plt.xlabel(\"Год релиза игры\")\n",
    "    plt.ylabel(\"Частота\")"
   ]
  },
  {
   "cell_type": "markdown",
   "id": "3034f232",
   "metadata": {},
   "source": [
    "**Вывод. Лидером по суммарной выручке за все время является платформа PS2 с суммой продаж более 1.2 млрд. долл.  В топ-6 с суммой продаж 0.75...1.0 млрд.долл. вошли еще 5 платформ: X360, PS3, Wii, DS, PS. Десяток следующих платформ отстают от лидеров в 2.5..3 раза и держатся примерно на уровне 200...300 млн.долл. Можно заметить, что релиз достигает максимум продаж в течении 5-6 лет после появления на рынке, затем в течении 5-6 лет происходит снижение продаж до 0. Т.е. в среднем \"период жизни\" платформы составляет около 10 лет.**"
   ]
  },
  {
   "cell_type": "markdown",
   "id": "1129b550",
   "metadata": {},
   "source": [
    "### Определение актуального периода для прогноза"
   ]
  },
  {
   "cell_type": "markdown",
   "id": "b7562963",
   "metadata": {},
   "source": [
    "Чтобы определить актуальный период для прогноза, необходимо уточнить средний \"период жизни\" платформы. Для этого построим таблицу со значениями начала и завершения продаж в каждой платформе, вычислим среднюю продолжительность периода между этими значениями."
   ]
  },
  {
   "cell_type": "markdown",
   "id": "bdf1cf6f",
   "metadata": {},
   "source": [
    "<font color='Blue'><b>Исправление</b></font><br>Рассчитаем среднюю продолжительность жизни платформы с учетом того, что период ее \"жизни\" закончился до 2016 года."
   ]
  },
  {
   "cell_type": "code",
   "execution_count": 44,
   "id": "b89f93cd",
   "metadata": {},
   "outputs": [
    {
     "data": {
      "text/html": [
       "<div>\n",
       "<style scoped>\n",
       "    .dataframe tbody tr th:only-of-type {\n",
       "        vertical-align: middle;\n",
       "    }\n",
       "\n",
       "    .dataframe tbody tr th {\n",
       "        vertical-align: top;\n",
       "    }\n",
       "\n",
       "    .dataframe thead th {\n",
       "        text-align: right;\n",
       "    }\n",
       "</style>\n",
       "<table border=\"1\" class=\"dataframe\">\n",
       "  <thead>\n",
       "    <tr style=\"text-align: right;\">\n",
       "      <th></th>\n",
       "      <th>start</th>\n",
       "      <th>end</th>\n",
       "      <th>life</th>\n",
       "    </tr>\n",
       "    <tr>\n",
       "      <th>platform</th>\n",
       "      <th></th>\n",
       "      <th></th>\n",
       "      <th></th>\n",
       "    </tr>\n",
       "  </thead>\n",
       "  <tbody>\n",
       "    <tr>\n",
       "      <th>2600</th>\n",
       "      <td>1980</td>\n",
       "      <td>1989</td>\n",
       "      <td>9</td>\n",
       "    </tr>\n",
       "    <tr>\n",
       "      <th>3DO</th>\n",
       "      <td>1994</td>\n",
       "      <td>1995</td>\n",
       "      <td>1</td>\n",
       "    </tr>\n",
       "    <tr>\n",
       "      <th>DC</th>\n",
       "      <td>1998</td>\n",
       "      <td>2008</td>\n",
       "      <td>10</td>\n",
       "    </tr>\n",
       "    <tr>\n",
       "      <th>DS</th>\n",
       "      <td>1985</td>\n",
       "      <td>2013</td>\n",
       "      <td>28</td>\n",
       "    </tr>\n",
       "    <tr>\n",
       "      <th>GB</th>\n",
       "      <td>1988</td>\n",
       "      <td>2001</td>\n",
       "      <td>13</td>\n",
       "    </tr>\n",
       "  </tbody>\n",
       "</table>\n",
       "</div>"
      ],
      "text/plain": [
       "          start   end  life\n",
       "platform                   \n",
       "2600       1980  1989     9\n",
       "3DO        1994  1995     1\n",
       "DC         1998  2008    10\n",
       "DS         1985  2013    28\n",
       "GB         1988  2001    13"
      ]
     },
     "execution_count": 44,
     "metadata": {},
     "output_type": "execute_result"
    }
   ],
   "source": [
    "life_time = data[['platform', 'year_of_release']].groupby('platform').agg(['min', 'max'])\n",
    "life_time.columns = ['start', 'end']\n",
    "\n",
    "# актуализируем данные\n",
    "life_time = life_time.query('end < 2016')\n",
    "# продолжительность жизни платформы\n",
    "life_time['life'] = life_time['end'] - life_time['start']\n",
    "life_time.head()\n"
   ]
  },
  {
   "cell_type": "code",
   "execution_count": 45,
   "id": "8bf6ff50",
   "metadata": {},
   "outputs": [
    {
     "name": "stdout",
     "output_type": "stream",
     "text": [
      "Средняя продолжительность жизни платформы:  7.0 лет.\n"
     ]
    }
   ],
   "source": [
    "# средняя продолжительность жизни платформы\n",
    "print(\"Средняя продолжительность жизни платформы: \", life_time.life.mean().round(1), \"лет.\")\n"
   ]
  },
  {
   "cell_type": "markdown",
   "id": "be3c1820",
   "metadata": {},
   "source": [
    "**Вывод. Принимаем актуальный период для прогноза 7 лет.**"
   ]
  },
  {
   "cell_type": "markdown",
   "id": "dfd8a0dd",
   "metadata": {},
   "source": [
    "### Прогноз продаж на 2017 год"
   ]
  },
  {
   "cell_type": "markdown",
   "id": "0c320799",
   "metadata": {},
   "source": [
    "<font color='Blue'><b>Исправление</b></font><br>\n",
    "Для прогноза берем данные по продажам за актуальный период, т.е. за предыдущие 7 лет (2010..2016). "
   ]
  },
  {
   "cell_type": "code",
   "execution_count": 46,
   "id": "48be2263",
   "metadata": {
    "scrolled": true
   },
   "outputs": [
    {
     "data": {
      "text/html": [
       "<div>\n",
       "<style scoped>\n",
       "    .dataframe tbody tr th:only-of-type {\n",
       "        vertical-align: middle;\n",
       "    }\n",
       "\n",
       "    .dataframe tbody tr th {\n",
       "        vertical-align: top;\n",
       "    }\n",
       "\n",
       "    .dataframe thead th {\n",
       "        text-align: right;\n",
       "    }\n",
       "</style>\n",
       "<table border=\"1\" class=\"dataframe\">\n",
       "  <thead>\n",
       "    <tr style=\"text-align: right;\">\n",
       "      <th>platform</th>\n",
       "      <th>year_of_release</th>\n",
       "      <th>3DS</th>\n",
       "      <th>DS</th>\n",
       "      <th>PC</th>\n",
       "      <th>PS2</th>\n",
       "      <th>PS3</th>\n",
       "      <th>PS4</th>\n",
       "      <th>PSP</th>\n",
       "      <th>PSV</th>\n",
       "      <th>Wii</th>\n",
       "      <th>WiiU</th>\n",
       "      <th>X360</th>\n",
       "      <th>XOne</th>\n",
       "    </tr>\n",
       "  </thead>\n",
       "  <tbody>\n",
       "    <tr>\n",
       "      <th>0</th>\n",
       "      <td>2010</td>\n",
       "      <td>0.00</td>\n",
       "      <td>85.02</td>\n",
       "      <td>28.04</td>\n",
       "      <td>5.64</td>\n",
       "      <td>142.17</td>\n",
       "      <td>0.00</td>\n",
       "      <td>35.04</td>\n",
       "      <td>0.00</td>\n",
       "      <td>127.95</td>\n",
       "      <td>0.00</td>\n",
       "      <td>180.21</td>\n",
       "      <td>0.00</td>\n",
       "    </tr>\n",
       "    <tr>\n",
       "      <th>1</th>\n",
       "      <td>2011</td>\n",
       "      <td>63.20</td>\n",
       "      <td>26.18</td>\n",
       "      <td>35.03</td>\n",
       "      <td>0.45</td>\n",
       "      <td>165.09</td>\n",
       "      <td>0.00</td>\n",
       "      <td>17.82</td>\n",
       "      <td>4.63</td>\n",
       "      <td>59.65</td>\n",
       "      <td>0.00</td>\n",
       "      <td>143.84</td>\n",
       "      <td>0.00</td>\n",
       "    </tr>\n",
       "    <tr>\n",
       "      <th>2</th>\n",
       "      <td>2012</td>\n",
       "      <td>51.36</td>\n",
       "      <td>11.01</td>\n",
       "      <td>23.22</td>\n",
       "      <td>0.00</td>\n",
       "      <td>107.36</td>\n",
       "      <td>0.00</td>\n",
       "      <td>7.69</td>\n",
       "      <td>16.19</td>\n",
       "      <td>21.71</td>\n",
       "      <td>17.56</td>\n",
       "      <td>99.74</td>\n",
       "      <td>0.00</td>\n",
       "    </tr>\n",
       "    <tr>\n",
       "      <th>3</th>\n",
       "      <td>2013</td>\n",
       "      <td>57.76</td>\n",
       "      <td>1.54</td>\n",
       "      <td>12.38</td>\n",
       "      <td>0.00</td>\n",
       "      <td>113.25</td>\n",
       "      <td>25.99</td>\n",
       "      <td>3.14</td>\n",
       "      <td>10.59</td>\n",
       "      <td>8.59</td>\n",
       "      <td>21.65</td>\n",
       "      <td>88.58</td>\n",
       "      <td>18.96</td>\n",
       "    </tr>\n",
       "    <tr>\n",
       "      <th>4</th>\n",
       "      <td>2014</td>\n",
       "      <td>43.76</td>\n",
       "      <td>0.00</td>\n",
       "      <td>13.28</td>\n",
       "      <td>0.00</td>\n",
       "      <td>47.76</td>\n",
       "      <td>100.00</td>\n",
       "      <td>0.24</td>\n",
       "      <td>12.16</td>\n",
       "      <td>3.75</td>\n",
       "      <td>22.03</td>\n",
       "      <td>34.74</td>\n",
       "      <td>54.07</td>\n",
       "    </tr>\n",
       "    <tr>\n",
       "      <th>5</th>\n",
       "      <td>2015</td>\n",
       "      <td>27.78</td>\n",
       "      <td>0.00</td>\n",
       "      <td>8.52</td>\n",
       "      <td>0.00</td>\n",
       "      <td>16.82</td>\n",
       "      <td>118.90</td>\n",
       "      <td>0.12</td>\n",
       "      <td>6.25</td>\n",
       "      <td>1.14</td>\n",
       "      <td>16.35</td>\n",
       "      <td>11.96</td>\n",
       "      <td>60.14</td>\n",
       "    </tr>\n",
       "    <tr>\n",
       "      <th>6</th>\n",
       "      <td>2016</td>\n",
       "      <td>15.14</td>\n",
       "      <td>0.00</td>\n",
       "      <td>5.25</td>\n",
       "      <td>0.00</td>\n",
       "      <td>3.60</td>\n",
       "      <td>69.25</td>\n",
       "      <td>0.00</td>\n",
       "      <td>4.25</td>\n",
       "      <td>0.18</td>\n",
       "      <td>4.60</td>\n",
       "      <td>1.52</td>\n",
       "      <td>26.15</td>\n",
       "    </tr>\n",
       "  </tbody>\n",
       "</table>\n",
       "</div>"
      ],
      "text/plain": [
       "platform  year_of_release    3DS     DS     PC   PS2     PS3     PS4    PSP  \\\n",
       "0                    2010   0.00  85.02  28.04  5.64  142.17    0.00  35.04   \n",
       "1                    2011  63.20  26.18  35.03  0.45  165.09    0.00  17.82   \n",
       "2                    2012  51.36  11.01  23.22  0.00  107.36    0.00   7.69   \n",
       "3                    2013  57.76   1.54  12.38  0.00  113.25   25.99   3.14   \n",
       "4                    2014  43.76   0.00  13.28  0.00   47.76  100.00   0.24   \n",
       "5                    2015  27.78   0.00   8.52  0.00   16.82  118.90   0.12   \n",
       "6                    2016  15.14   0.00   5.25  0.00    3.60   69.25   0.00   \n",
       "\n",
       "platform    PSV     Wii   WiiU    X360   XOne  \n",
       "0          0.00  127.95   0.00  180.21   0.00  \n",
       "1          4.63   59.65   0.00  143.84   0.00  \n",
       "2         16.19   21.71  17.56   99.74   0.00  \n",
       "3         10.59    8.59  21.65   88.58  18.96  \n",
       "4         12.16    3.75  22.03   34.74  54.07  \n",
       "5          6.25    1.14  16.35   11.96  60.14  \n",
       "6          4.25    0.18   4.60    1.52  26.15  "
      ]
     },
     "execution_count": 46,
     "metadata": {},
     "output_type": "execute_result"
    }
   ],
   "source": [
    "# отфильтруем список платформ выпускаемых после 2009 года\n",
    "life_time_predict_list = list(data.query('year_of_release > 2009')['platform'].unique())\n",
    "# life_time_predict_list\n",
    "# data.head()\n",
    "# создаем таблицу для предсказания и заполним пропуски нулями\n",
    "predict_2017 = data.query('platform in @life_time_predict_list')\\\n",
    ".pivot_table(index='year_of_release', columns='platform', values='total_sales', aggfunc='sum')\\\n",
    "    .query('year_of_release > 2009').fillna(0).reset_index()\n",
    "\n",
    "predict_2017"
   ]
  },
  {
   "cell_type": "markdown",
   "id": "9727e34f",
   "metadata": {},
   "source": [
    "Представим для наглядности продажи графически"
   ]
  },
  {
   "cell_type": "code",
   "execution_count": 47,
   "id": "861d00f4",
   "metadata": {
    "scrolled": false
   },
   "outputs": [
    {
     "data": {
      "image/png": "[encoded data removed]",
      "text/plain": [
       "<Figure size 1152x576 with 1 Axes>"
      ]
     },
     "metadata": {
      "needs_background": "light"
     },
     "output_type": "display_data"
    }
   ],
   "source": [
    "plt.figure(figsize=(16,8))\n",
    "plt.grid()\n",
    "plt.title('Объёмы продаж на разных платформах по годам\\n', fontsize=14)\n",
    "\n",
    "\n",
    "for column in life_time_predict_list:\n",
    "    x = predict_2017.year_of_release.to_list()\n",
    "    y = predict_2017[column].to_list()\n",
    "    g = sns.lineplot(data=predict_2017, x=x, y=y)\n",
    "\n",
    "g.set_xticks(predict_2017.year_of_release.to_list())\n",
    "plt.xlabel('\\nРасчетный год')    \n",
    "plt.ylabel('Объём продаж за год, млн.$')\n",
    "plt.legend(labels=life_time_predict_list)\n",
    "\n",
    "plt.show()"
   ]
  },
  {
   "cell_type": "markdown",
   "id": "1d6c7981",
   "metadata": {},
   "source": [
    "Из графика видно, что многие платформы к 2016 году либо закончили жизненый цикл (PSP,DS,DC,GBA,XB,PS2б Wii), либо находится на фазе завершения цикла (PSV, PS3, X360, WiiU). Исключение составляют такие платформы как: PS4, XOne, стартовавшие в 2012 году, и к 2016 только подбираются к пику. Учитывая, что данные за 2016 год не полные, и мы, поэтому, наблюдаем снижение продаж у платформ PS4, XOne, можно предположить, что эти две платформы к 2017 году достигнут пика своего развития и затем будет снижения продаж. Платформы, которые на излете (PSV, PS3, X360, WiiU), продолжат снижение, и в течении 2-3 лет приблизятся к 0. Новых игровых платформ за несколько предшествующих 2016 году не образовалось, поэтому:\n",
    "\n",
    "**Вывод. Прогноз на 2017 год предполагает постепенное снижение продаж по всем платформам, за исключением PS4, XOne. У них предполагается рост продаж в течении 1-2 лет, с последующим снижением. Кроме этих двух платформ потенциальную прибыль могут принести платформы на завершающей фазе своего развития (PSV, PS3, X360, WiiU)**"
   ]
  },
  {
   "cell_type": "markdown",
   "id": "248b6b63",
   "metadata": {},
   "source": [
    "### Построение графиков по глобальным продажам"
   ]
  },
  {
   "cell_type": "markdown",
   "id": "55f2bb7b",
   "metadata": {},
   "source": [
    "Построим диаграммы размаха - *boxplot* по глобальным продажам, для топ-10 платформ."
   ]
  },
  {
   "cell_type": "code",
   "execution_count": 48,
   "id": "2f0b07da",
   "metadata": {},
   "outputs": [
    {
     "data": {
      "text/html": [
       "<div>\n",
       "<style scoped>\n",
       "    .dataframe tbody tr th:only-of-type {\n",
       "        vertical-align: middle;\n",
       "    }\n",
       "\n",
       "    .dataframe tbody tr th {\n",
       "        vertical-align: top;\n",
       "    }\n",
       "\n",
       "    .dataframe thead th {\n",
       "        text-align: right;\n",
       "    }\n",
       "</style>\n",
       "<table border=\"1\" class=\"dataframe\">\n",
       "  <thead>\n",
       "    <tr style=\"text-align: right;\">\n",
       "      <th></th>\n",
       "      <th>name</th>\n",
       "      <th>platform</th>\n",
       "      <th>year_of_release</th>\n",
       "      <th>genre</th>\n",
       "      <th>na_sales</th>\n",
       "      <th>eu_sales</th>\n",
       "      <th>jp_sales</th>\n",
       "      <th>other_sales</th>\n",
       "      <th>critic_score</th>\n",
       "      <th>user_score</th>\n",
       "      <th>rating</th>\n",
       "      <th>total_sales</th>\n",
       "    </tr>\n",
       "  </thead>\n",
       "  <tbody>\n",
       "    <tr>\n",
       "      <th>0</th>\n",
       "      <td>Wii Sports</td>\n",
       "      <td>Wii</td>\n",
       "      <td>2006</td>\n",
       "      <td>Sports</td>\n",
       "      <td>41.36</td>\n",
       "      <td>28.96</td>\n",
       "      <td>3.77</td>\n",
       "      <td>8.45</td>\n",
       "      <td>76.0</td>\n",
       "      <td>8.0</td>\n",
       "      <td>E</td>\n",
       "      <td>82.54</td>\n",
       "    </tr>\n",
       "    <tr>\n",
       "      <th>2</th>\n",
       "      <td>Mario Kart Wii</td>\n",
       "      <td>Wii</td>\n",
       "      <td>2008</td>\n",
       "      <td>Racing</td>\n",
       "      <td>15.68</td>\n",
       "      <td>12.76</td>\n",
       "      <td>3.79</td>\n",
       "      <td>3.29</td>\n",
       "      <td>82.0</td>\n",
       "      <td>8.3</td>\n",
       "      <td>E</td>\n",
       "      <td>35.52</td>\n",
       "    </tr>\n",
       "    <tr>\n",
       "      <th>3</th>\n",
       "      <td>Wii Sports Resort</td>\n",
       "      <td>Wii</td>\n",
       "      <td>2009</td>\n",
       "      <td>Sports</td>\n",
       "      <td>15.61</td>\n",
       "      <td>10.93</td>\n",
       "      <td>3.28</td>\n",
       "      <td>2.95</td>\n",
       "      <td>80.0</td>\n",
       "      <td>8.0</td>\n",
       "      <td>E</td>\n",
       "      <td>32.77</td>\n",
       "    </tr>\n",
       "    <tr>\n",
       "      <th>6</th>\n",
       "      <td>New Super Mario Bros.</td>\n",
       "      <td>DS</td>\n",
       "      <td>2006</td>\n",
       "      <td>Platform</td>\n",
       "      <td>11.28</td>\n",
       "      <td>9.14</td>\n",
       "      <td>6.50</td>\n",
       "      <td>2.88</td>\n",
       "      <td>89.0</td>\n",
       "      <td>8.5</td>\n",
       "      <td>E</td>\n",
       "      <td>29.80</td>\n",
       "    </tr>\n",
       "    <tr>\n",
       "      <th>7</th>\n",
       "      <td>Wii Play</td>\n",
       "      <td>Wii</td>\n",
       "      <td>2006</td>\n",
       "      <td>Misc</td>\n",
       "      <td>13.96</td>\n",
       "      <td>9.18</td>\n",
       "      <td>2.93</td>\n",
       "      <td>2.84</td>\n",
       "      <td>58.0</td>\n",
       "      <td>6.6</td>\n",
       "      <td>E</td>\n",
       "      <td>28.91</td>\n",
       "    </tr>\n",
       "  </tbody>\n",
       "</table>\n",
       "</div>"
      ],
      "text/plain": [
       "                    name platform  year_of_release     genre  na_sales  \\\n",
       "0             Wii Sports      Wii             2006    Sports     41.36   \n",
       "2         Mario Kart Wii      Wii             2008    Racing     15.68   \n",
       "3      Wii Sports Resort      Wii             2009    Sports     15.61   \n",
       "6  New Super Mario Bros.       DS             2006  Platform     11.28   \n",
       "7               Wii Play      Wii             2006      Misc     13.96   \n",
       "\n",
       "   eu_sales  jp_sales  other_sales  critic_score  user_score rating  \\\n",
       "0     28.96      3.77         8.45          76.0         8.0      E   \n",
       "2     12.76      3.79         3.29          82.0         8.3      E   \n",
       "3     10.93      3.28         2.95          80.0         8.0      E   \n",
       "6      9.14      6.50         2.88          89.0         8.5      E   \n",
       "7      9.18      2.93         2.84          58.0         6.6      E   \n",
       "\n",
       "   total_sales  \n",
       "0        82.54  \n",
       "2        35.52  \n",
       "3        32.77  \n",
       "6        29.80  \n",
       "7        28.91  "
      ]
     },
     "execution_count": 48,
     "metadata": {},
     "output_type": "execute_result"
    }
   ],
   "source": [
    "platform_top_10 = data.groupby('platform')['total_sales'].sum().sort_values().tail(10).index\n",
    "data_platform_top_10 = data.query('platform in @platform_top_10')\n",
    "data_platform_top_10.head()"
   ]
  },
  {
   "cell_type": "code",
   "execution_count": 49,
   "id": "a0875938",
   "metadata": {
    "scrolled": false
   },
   "outputs": [
    {
     "data": {
      "text/plain": [
       "(-0.1, 2.0)"
      ]
     },
     "execution_count": 49,
     "metadata": {},
     "output_type": "execute_result"
    },
    {
     "data": {
      "image/png": "[encoded data removed]",
      "text/plain": [
       "<Figure size 1080x720 with 1 Axes>"
      ]
     },
     "metadata": {
      "needs_background": "light"
     },
     "output_type": "display_data"
    }
   ],
   "source": [
    "plt.figure(figsize=(15,10))\n",
    "sns.boxplot(data=data_platform_top_10, x='total_sales', y='platform')\n",
    "\n",
    "plt.title(label='Диаграмма размаха по глобальным продажам игр в разбивке по платформам\\n', fontsize=14)\n",
    "plt.xlabel(\"\\nСуммарные продажи, млн.$\")\n",
    "plt.ylabel(\"Платформы\")\n",
    "plt.grid()\n",
    "plt.xlim(-0.10, 2)"
   ]
  },
  {
   "cell_type": "markdown",
   "id": "8ecf97dd",
   "metadata": {},
   "source": [
    "**Вывод. Самые продаваемые платформы имеют широкий межквартильный интервал (PS3, PS4, X360) и длинный 4-й квартиль, по сравнению с менее продаваемыми (PC, PSP, DS). Соответственно и средние и медианные значения успешно продаваемых платформ выше, чем у менее успешных**"
   ]
  },
  {
   "cell_type": "markdown",
   "id": "eb696cf4",
   "metadata": {},
   "source": [
    "### Оценка корреляции между отзывами и продажами"
   ]
  },
  {
   "cell_type": "markdown",
   "id": "d577aca8",
   "metadata": {},
   "source": [
    "Для оценки влияния критиков и отзывов пользователей внутри платформы возьмем топ-6 самых продаваемых платформ. "
   ]
  },
  {
   "cell_type": "code",
   "execution_count": 50,
   "id": "77f686da",
   "metadata": {},
   "outputs": [],
   "source": [
    "# отфильтруем данные для топ-6 платформ по глобальным продажам\n",
    "score_platform_top_6 = data.query('platform in @top_6_platforms').reset_index()"
   ]
  },
  {
   "cell_type": "code",
   "execution_count": 51,
   "id": "5f0e8cf0",
   "metadata": {
    "scrolled": false
   },
   "outputs": [
    {
     "data": {
      "text/html": [
       "<div>\n",
       "<style scoped>\n",
       "    .dataframe tbody tr th:only-of-type {\n",
       "        vertical-align: middle;\n",
       "    }\n",
       "\n",
       "    .dataframe tbody tr th {\n",
       "        vertical-align: top;\n",
       "    }\n",
       "\n",
       "    .dataframe thead th {\n",
       "        text-align: right;\n",
       "    }\n",
       "</style>\n",
       "<table border=\"1\" class=\"dataframe\">\n",
       "  <thead>\n",
       "    <tr style=\"text-align: right;\">\n",
       "      <th></th>\n",
       "      <th></th>\n",
       "      <th>critic_score</th>\n",
       "      <th>user_score</th>\n",
       "      <th>total_sales</th>\n",
       "    </tr>\n",
       "    <tr>\n",
       "      <th>platform</th>\n",
       "      <th></th>\n",
       "      <th></th>\n",
       "      <th></th>\n",
       "      <th></th>\n",
       "    </tr>\n",
       "  </thead>\n",
       "  <tbody>\n",
       "    <tr>\n",
       "      <th rowspan=\"3\" valign=\"top\">PS2</th>\n",
       "      <th>critic_score</th>\n",
       "      <td>1.000000</td>\n",
       "      <td>0.563254</td>\n",
       "      <td>0.395435</td>\n",
       "    </tr>\n",
       "    <tr>\n",
       "      <th>user_score</th>\n",
       "      <td>0.563254</td>\n",
       "      <td>1.000000</td>\n",
       "      <td>0.172866</td>\n",
       "    </tr>\n",
       "    <tr>\n",
       "      <th>total_sales</th>\n",
       "      <td>0.395435</td>\n",
       "      <td>0.172866</td>\n",
       "      <td>1.000000</td>\n",
       "    </tr>\n",
       "  </tbody>\n",
       "</table>\n",
       "</div>"
      ],
      "text/plain": [
       "                       critic_score  user_score  total_sales\n",
       "platform                                                    \n",
       "PS2      critic_score      1.000000    0.563254     0.395435\n",
       "         user_score        0.563254    1.000000     0.172866\n",
       "         total_sales       0.395435    0.172866     1.000000"
      ]
     },
     "metadata": {},
     "output_type": "display_data"
    },
    {
     "name": "stdout",
     "output_type": "stream",
     "text": [
      "=============================================\n"
     ]
    },
    {
     "data": {
      "text/html": [
       "<div>\n",
       "<style scoped>\n",
       "    .dataframe tbody tr th:only-of-type {\n",
       "        vertical-align: middle;\n",
       "    }\n",
       "\n",
       "    .dataframe tbody tr th {\n",
       "        vertical-align: top;\n",
       "    }\n",
       "\n",
       "    .dataframe thead th {\n",
       "        text-align: right;\n",
       "    }\n",
       "</style>\n",
       "<table border=\"1\" class=\"dataframe\">\n",
       "  <thead>\n",
       "    <tr style=\"text-align: right;\">\n",
       "      <th></th>\n",
       "      <th></th>\n",
       "      <th>critic_score</th>\n",
       "      <th>user_score</th>\n",
       "      <th>total_sales</th>\n",
       "    </tr>\n",
       "    <tr>\n",
       "      <th>platform</th>\n",
       "      <th></th>\n",
       "      <th></th>\n",
       "      <th></th>\n",
       "      <th></th>\n",
       "    </tr>\n",
       "  </thead>\n",
       "  <tbody>\n",
       "    <tr>\n",
       "      <th rowspan=\"3\" valign=\"top\">X360</th>\n",
       "      <th>critic_score</th>\n",
       "      <td>1.000000</td>\n",
       "      <td>0.618101</td>\n",
       "      <td>0.393736</td>\n",
       "    </tr>\n",
       "    <tr>\n",
       "      <th>user_score</th>\n",
       "      <td>0.618101</td>\n",
       "      <td>1.000000</td>\n",
       "      <td>0.114459</td>\n",
       "    </tr>\n",
       "    <tr>\n",
       "      <th>total_sales</th>\n",
       "      <td>0.393736</td>\n",
       "      <td>0.114459</td>\n",
       "      <td>1.000000</td>\n",
       "    </tr>\n",
       "  </tbody>\n",
       "</table>\n",
       "</div>"
      ],
      "text/plain": [
       "                       critic_score  user_score  total_sales\n",
       "platform                                                    \n",
       "X360     critic_score      1.000000    0.618101     0.393736\n",
       "         user_score        0.618101    1.000000     0.114459\n",
       "         total_sales       0.393736    0.114459     1.000000"
      ]
     },
     "metadata": {},
     "output_type": "display_data"
    },
    {
     "name": "stdout",
     "output_type": "stream",
     "text": [
      "=============================================\n"
     ]
    },
    {
     "data": {
      "text/html": [
       "<div>\n",
       "<style scoped>\n",
       "    .dataframe tbody tr th:only-of-type {\n",
       "        vertical-align: middle;\n",
       "    }\n",
       "\n",
       "    .dataframe tbody tr th {\n",
       "        vertical-align: top;\n",
       "    }\n",
       "\n",
       "    .dataframe thead th {\n",
       "        text-align: right;\n",
       "    }\n",
       "</style>\n",
       "<table border=\"1\" class=\"dataframe\">\n",
       "  <thead>\n",
       "    <tr style=\"text-align: right;\">\n",
       "      <th></th>\n",
       "      <th></th>\n",
       "      <th>critic_score</th>\n",
       "      <th>user_score</th>\n",
       "      <th>total_sales</th>\n",
       "    </tr>\n",
       "    <tr>\n",
       "      <th>platform</th>\n",
       "      <th></th>\n",
       "      <th></th>\n",
       "      <th></th>\n",
       "      <th></th>\n",
       "    </tr>\n",
       "  </thead>\n",
       "  <tbody>\n",
       "    <tr>\n",
       "      <th rowspan=\"3\" valign=\"top\">PS3</th>\n",
       "      <th>critic_score</th>\n",
       "      <td>1.000000</td>\n",
       "      <td>0.629005</td>\n",
       "      <td>0.432432</td>\n",
       "    </tr>\n",
       "    <tr>\n",
       "      <th>user_score</th>\n",
       "      <td>0.629005</td>\n",
       "      <td>1.000000</td>\n",
       "      <td>0.126691</td>\n",
       "    </tr>\n",
       "    <tr>\n",
       "      <th>total_sales</th>\n",
       "      <td>0.432432</td>\n",
       "      <td>0.126691</td>\n",
       "      <td>1.000000</td>\n",
       "    </tr>\n",
       "  </tbody>\n",
       "</table>\n",
       "</div>"
      ],
      "text/plain": [
       "                       critic_score  user_score  total_sales\n",
       "platform                                                    \n",
       "PS3      critic_score      1.000000    0.629005     0.432432\n",
       "         user_score        0.629005    1.000000     0.126691\n",
       "         total_sales       0.432432    0.126691     1.000000"
      ]
     },
     "metadata": {},
     "output_type": "display_data"
    },
    {
     "name": "stdout",
     "output_type": "stream",
     "text": [
      "=============================================\n"
     ]
    },
    {
     "data": {
      "text/html": [
       "<div>\n",
       "<style scoped>\n",
       "    .dataframe tbody tr th:only-of-type {\n",
       "        vertical-align: middle;\n",
       "    }\n",
       "\n",
       "    .dataframe tbody tr th {\n",
       "        vertical-align: top;\n",
       "    }\n",
       "\n",
       "    .dataframe thead th {\n",
       "        text-align: right;\n",
       "    }\n",
       "</style>\n",
       "<table border=\"1\" class=\"dataframe\">\n",
       "  <thead>\n",
       "    <tr style=\"text-align: right;\">\n",
       "      <th></th>\n",
       "      <th></th>\n",
       "      <th>critic_score</th>\n",
       "      <th>user_score</th>\n",
       "      <th>total_sales</th>\n",
       "    </tr>\n",
       "    <tr>\n",
       "      <th>platform</th>\n",
       "      <th></th>\n",
       "      <th></th>\n",
       "      <th></th>\n",
       "      <th></th>\n",
       "    </tr>\n",
       "  </thead>\n",
       "  <tbody>\n",
       "    <tr>\n",
       "      <th rowspan=\"3\" valign=\"top\">Wii</th>\n",
       "      <th>critic_score</th>\n",
       "      <td>1.000000</td>\n",
       "      <td>0.681846</td>\n",
       "      <td>0.177560</td>\n",
       "    </tr>\n",
       "    <tr>\n",
       "      <th>user_score</th>\n",
       "      <td>0.681846</td>\n",
       "      <td>1.000000</td>\n",
       "      <td>0.112414</td>\n",
       "    </tr>\n",
       "    <tr>\n",
       "      <th>total_sales</th>\n",
       "      <td>0.177560</td>\n",
       "      <td>0.112414</td>\n",
       "      <td>1.000000</td>\n",
       "    </tr>\n",
       "  </tbody>\n",
       "</table>\n",
       "</div>"
      ],
      "text/plain": [
       "                       critic_score  user_score  total_sales\n",
       "platform                                                    \n",
       "Wii      critic_score      1.000000    0.681846     0.177560\n",
       "         user_score        0.681846    1.000000     0.112414\n",
       "         total_sales       0.177560    0.112414     1.000000"
      ]
     },
     "metadata": {},
     "output_type": "display_data"
    },
    {
     "name": "stdout",
     "output_type": "stream",
     "text": [
      "=============================================\n"
     ]
    },
    {
     "data": {
      "text/html": [
       "<div>\n",
       "<style scoped>\n",
       "    .dataframe tbody tr th:only-of-type {\n",
       "        vertical-align: middle;\n",
       "    }\n",
       "\n",
       "    .dataframe tbody tr th {\n",
       "        vertical-align: top;\n",
       "    }\n",
       "\n",
       "    .dataframe thead th {\n",
       "        text-align: right;\n",
       "    }\n",
       "</style>\n",
       "<table border=\"1\" class=\"dataframe\">\n",
       "  <thead>\n",
       "    <tr style=\"text-align: right;\">\n",
       "      <th></th>\n",
       "      <th></th>\n",
       "      <th>critic_score</th>\n",
       "      <th>user_score</th>\n",
       "      <th>total_sales</th>\n",
       "    </tr>\n",
       "    <tr>\n",
       "      <th>platform</th>\n",
       "      <th></th>\n",
       "      <th></th>\n",
       "      <th></th>\n",
       "      <th></th>\n",
       "    </tr>\n",
       "  </thead>\n",
       "  <tbody>\n",
       "    <tr>\n",
       "      <th rowspan=\"3\" valign=\"top\">DS</th>\n",
       "      <th>critic_score</th>\n",
       "      <td>1.000000</td>\n",
       "      <td>0.655516</td>\n",
       "      <td>0.236379</td>\n",
       "    </tr>\n",
       "    <tr>\n",
       "      <th>user_score</th>\n",
       "      <td>0.655516</td>\n",
       "      <td>1.000000</td>\n",
       "      <td>0.130436</td>\n",
       "    </tr>\n",
       "    <tr>\n",
       "      <th>total_sales</th>\n",
       "      <td>0.236379</td>\n",
       "      <td>0.130436</td>\n",
       "      <td>1.000000</td>\n",
       "    </tr>\n",
       "  </tbody>\n",
       "</table>\n",
       "</div>"
      ],
      "text/plain": [
       "                       critic_score  user_score  total_sales\n",
       "platform                                                    \n",
       "DS       critic_score      1.000000    0.655516     0.236379\n",
       "         user_score        0.655516    1.000000     0.130436\n",
       "         total_sales       0.236379    0.130436     1.000000"
      ]
     },
     "metadata": {},
     "output_type": "display_data"
    },
    {
     "name": "stdout",
     "output_type": "stream",
     "text": [
      "=============================================\n"
     ]
    },
    {
     "data": {
      "text/html": [
       "<div>\n",
       "<style scoped>\n",
       "    .dataframe tbody tr th:only-of-type {\n",
       "        vertical-align: middle;\n",
       "    }\n",
       "\n",
       "    .dataframe tbody tr th {\n",
       "        vertical-align: top;\n",
       "    }\n",
       "\n",
       "    .dataframe thead th {\n",
       "        text-align: right;\n",
       "    }\n",
       "</style>\n",
       "<table border=\"1\" class=\"dataframe\">\n",
       "  <thead>\n",
       "    <tr style=\"text-align: right;\">\n",
       "      <th></th>\n",
       "      <th></th>\n",
       "      <th>critic_score</th>\n",
       "      <th>user_score</th>\n",
       "      <th>total_sales</th>\n",
       "    </tr>\n",
       "    <tr>\n",
       "      <th>platform</th>\n",
       "      <th></th>\n",
       "      <th></th>\n",
       "      <th></th>\n",
       "      <th></th>\n",
       "    </tr>\n",
       "  </thead>\n",
       "  <tbody>\n",
       "    <tr>\n",
       "      <th rowspan=\"3\" valign=\"top\">PS</th>\n",
       "      <th>critic_score</th>\n",
       "      <td>1.000000</td>\n",
       "      <td>0.692248</td>\n",
       "      <td>0.445640</td>\n",
       "    </tr>\n",
       "    <tr>\n",
       "      <th>user_score</th>\n",
       "      <td>0.692248</td>\n",
       "      <td>1.000000</td>\n",
       "      <td>0.297978</td>\n",
       "    </tr>\n",
       "    <tr>\n",
       "      <th>total_sales</th>\n",
       "      <td>0.445640</td>\n",
       "      <td>0.297978</td>\n",
       "      <td>1.000000</td>\n",
       "    </tr>\n",
       "  </tbody>\n",
       "</table>\n",
       "</div>"
      ],
      "text/plain": [
       "                       critic_score  user_score  total_sales\n",
       "platform                                                    \n",
       "PS       critic_score      1.000000    0.692248     0.445640\n",
       "         user_score        0.692248    1.000000     0.297978\n",
       "         total_sales       0.445640    0.297978     1.000000"
      ]
     },
     "metadata": {},
     "output_type": "display_data"
    },
    {
     "name": "stdout",
     "output_type": "stream",
     "text": [
      "=============================================\n"
     ]
    }
   ],
   "source": [
    "# оценим корреляцию для каждой платформы\n",
    "score_platform_top_6 = score_platform_top_6[['platform','critic_score', 'user_score', 'total_sales']]\n",
    "for platforme in top_6_platforms:\n",
    "    display(score_platform_top_6[score_platform_top_6['platform'] == platforme].groupby('platform').corr())\n",
    "    print(\"=\"*45)\n"
   ]
  },
  {
   "cell_type": "markdown",
   "id": "16ee510c",
   "metadata": {},
   "source": [
    "Сколь-нибудь значимой связи между объемом продаж и оценкой критиков или пользователей не видно. Максимальное значение 0.43 у платформы PS3 между оценкой критиков и объемом продаж. Зделаем графическое представление."
   ]
  },
  {
   "cell_type": "code",
   "execution_count": 52,
   "id": "4864fa1e",
   "metadata": {
    "scrolled": true
   },
   "outputs": [
    {
     "data": {
      "image/png": "[encoded data removed]",
      "text/plain": [
       "<Figure size 972x324 with 2 Axes>"
      ]
     },
     "metadata": {
      "needs_background": "light"
     },
     "output_type": "display_data"
    },
    {
     "data": {
      "image/png": "[encoded data removed]",
      "text/plain": [
       "<Figure size 972x324 with 2 Axes>"
      ]
     },
     "metadata": {
      "needs_background": "light"
     },
     "output_type": "display_data"
    },
    {
     "data": {
      "image/png": "[encoded data removed]",
      "text/plain": [
       "<Figure size 972x324 with 2 Axes>"
      ]
     },
     "metadata": {
      "needs_background": "light"
     },
     "output_type": "display_data"
    },
    {
     "data": {
      "image/png": "[encoded data removed]",
      "text/plain": [
       "<Figure size 972x324 with 2 Axes>"
      ]
     },
     "metadata": {
      "needs_background": "light"
     },
     "output_type": "display_data"
    },
    {
     "data": {
      "image/png": "[encoded data removed]",
      "text/plain": [
       "<Figure size 972x324 with 2 Axes>"
      ]
     },
     "metadata": {
      "needs_background": "light"
     },
     "output_type": "display_data"
    },
    {
     "data": {
      "image/png": "[encoded data removed]",
      "text/plain": [
       "<Figure size 972x324 with 2 Axes>"
      ]
     },
     "metadata": {
      "needs_background": "light"
     },
     "output_type": "display_data"
    }
   ],
   "source": [
    "for platforme in top_6_platforms:\n",
    "    df = score_platform_top_6[score_platform_top_6['platform'] == platforme]\n",
    "    x_critic = df['critic_score']\n",
    "    y_critic = df['total_sales']\n",
    "    \n",
    "    x_user = df['user_score']\n",
    "    y_user = df['total_sales']\n",
    "    \n",
    "    fig = plt.figure(figsize=(13.5, 4.5))\n",
    "    \n",
    "    ax1 = fig.add_subplot(121)\n",
    "    ax1.scatter(x_critic, y_critic, alpha=0.3)\n",
    "    ax1.set_title('Зависимость продаж от оценок критиков\\n на платформе '+platforme, fontsize=14)\n",
    "    ax1.set_xlabel('Оценки критиков\\n')\n",
    "    ax1.set_ylabel('Продажи')\n",
    "    plt.grid()\n",
    "    \n",
    "    ax2 = fig.add_subplot(122)\n",
    "    ax2.scatter(x_user, y_user, alpha=0.3)\n",
    "    ax2.set_title('Зависимость продаж от оценок пользователей\\n на платформе '+platforme, fontsize=14)\n",
    "    ax2.set_xlabel('Оценки пользователей\\n')\n",
    "    ax2.set_ylabel('Продажи')\n",
    "    \n",
    "    plt.grid()\n",
    "    plt.tight_layout(w_pad=2)"
   ]
  },
  {
   "cell_type": "markdown",
   "id": "483719e7",
   "metadata": {},
   "source": [
    "**Вывод. Становится понятно, почему корреляция по всем значениям для платформы показывает \"среднюю температуру по больнице\". Зависимость продаж от оценки критиков не наблюдается до значения 60 и значимо начинается только после этого значения. Для оценки пользователей, соответственно, это значение равно 6.**"
   ]
  },
  {
   "cell_type": "markdown",
   "id": "c3946021",
   "metadata": {},
   "source": [
    "### Оценка распределения игр по жанрам"
   ]
  },
  {
   "cell_type": "markdown",
   "id": "e18c9023",
   "metadata": {},
   "source": [
    "Для визуальной оценки распределения количества игр по жанрам, а также выручки по жанрам, построим  диаграммы."
   ]
  },
  {
   "cell_type": "code",
   "execution_count": 53,
   "id": "0f64b347",
   "metadata": {},
   "outputs": [],
   "source": [
    "# жанры по количеству игр\n",
    "genres = data.groupby('genre')['name'].count().sort_values(ascending=False)\n",
    "\n",
    "# жанры по суммарной выручке\n",
    "genre_sales = data.groupby('genre')['total_sales'].sum().sort_values(ascending=False)"
   ]
  },
  {
   "cell_type": "code",
   "execution_count": 54,
   "id": "c01ee52f",
   "metadata": {
    "scrolled": false
   },
   "outputs": [
    {
     "data": {
      "image/png": "[encoded data removed]",
      "text/plain": [
       "<Figure size 1080x504 with 2 Axes>"
      ]
     },
     "metadata": {
      "needs_background": "light"
     },
     "output_type": "display_data"
    }
   ],
   "source": [
    "# строим диаграммы\n",
    "fig, (ax1, ax2) = plt.subplots(nrows=1, ncols=2, figsize=(15, 7))\n",
    "\n",
    "labels1 = genres.index\n",
    "sizes1 = genres.values\n",
    "\n",
    "labels2 = genre_sales.index\n",
    "sizes2 = genre_sales.values\n",
    "\n",
    "ax1.set_title('Кол-во проданых игр по Жанрам\\n', fontsize=14) \n",
    "ax1.bar(labels1, sizes1, alpha=0.5)\n",
    "\n",
    "ax1.xaxis.set_ticks(labels1)\n",
    "ax1.xaxis.set_ticklabels(labels1, rotation=45)\n",
    "ax1.set_xlabel('Жанры')\n",
    "ax1.set_ylabel('Частота')\n",
    "\n",
    "for i, perf in enumerate(sizes1):\n",
    "    ax1.text(i, perf, str(int(perf)), color='black', \n",
    "            ha='center', fontweight='bold')\n",
    "\n",
    "ax2.set_title('Сумма продаж по Жанрам\\n', fontsize=14)\n",
    "ax2.bar(labels2, sizes2, alpha=0.5)\n",
    "\n",
    "ax2.xaxis.set_ticks(labels2)\n",
    "ax2.xaxis.set_ticklabels(labels2, rotation=45)\n",
    "ax2.set_xlabel('Жанры')\n",
    "ax2.set_ylabel('МЛН. $')\n",
    "for j, perf in enumerate(sizes2):\n",
    "    ax2.text(j, perf, str(int(perf)), color='black', \n",
    "            ha='center', fontweight='bold')\n",
    "\n",
    "\n",
    "plt.show()\n"
   ]
  },
  {
   "cell_type": "markdown",
   "id": "9b088344",
   "metadata": {},
   "source": [
    "**Вывод. Из диаграмм видна тройка лидеров по числу продаж, это: Action - 3369, Sports - 2348 и Misc - 1750;\n",
    "аутсайдеры здесь Puzzle(580), Strategy(683) и Fighting(849).\n",
    "Тройка лидеров по выручке следующая:  Action - 1744, Sports - 1331 и Shooter - 1052;\n",
    "здесь аутсайдеры Strategy(174), Adventure(237) и Puzzle(242). На троику лидеров приходится более 45% и количества и суммы продаж.**"
   ]
  },
  {
   "cell_type": "markdown",
   "id": "b627026f",
   "metadata": {},
   "source": [
    "### Составим портрет пользователя каждого региона"
   ]
  },
  {
   "cell_type": "markdown",
   "id": "69ca0b7d",
   "metadata": {},
   "source": [
    "Определим для пользователя каждого региона (NA, EU, JP):\n",
    "\n",
    "- Самые популярные платформы (топ-5). Опишем различия в долях продаж.\n",
    "- Самые популярные жанры (топ-5). Есть ли разница?\n",
    "- Влияет ли рейтинг ESRB на продажи в отдельном регионе?"
   ]
  },
  {
   "cell_type": "markdown",
   "id": "bc8b9fe8",
   "metadata": {},
   "source": [
    "Построим круговые диаграммы для топ-5 продаваемых платформ для каждого региона"
   ]
  },
  {
   "cell_type": "code",
   "execution_count": 55,
   "id": "94a897c4",
   "metadata": {},
   "outputs": [],
   "source": [
    "def draw_pie_top_5(data, criteria, head=5, explode=(0.15,0,0,0,0.1)):\n",
    "    \"\"\"\n",
    "    Отображает круговую диаграмму распределения топ-5 признаков criteria\n",
    "    \n",
    "    \"\"\"\n",
    "    \n",
    "    fig, (ax1, ax2, ax3) = plt.subplots(nrows=1, ncols=3, figsize=(16, 7))\n",
    "\n",
    "    df1 =  data.groupby(criteria)['na_sales'].sum().sort_values(ascending=False).head(head)\n",
    "    labels1 = df1.index\n",
    "    sizes1 = df1.values\n",
    "\n",
    "    df2 = data.groupby(criteria)['eu_sales'].sum().sort_values(ascending=False).head(head)\n",
    "    labels2 = df2.index\n",
    "    sizes2 = df2.values\n",
    "\n",
    "    df3 = data.groupby(criteria)['jp_sales'].sum().sort_values(ascending=False).head(head)\n",
    "    labels3 = df3.index\n",
    "    sizes3 = df3.values\n",
    "\n",
    "    ax1.set_title(f'Топ-5 {criteria} регион NA\\n', fontsize=14)\n",
    "    ax1.pie(sizes1, labels=labels1, autopct='%1.1f%%',\n",
    "            shadow=True, startangle=45, explode=explode)  \n",
    "\n",
    "    ax2.set_title(f'Топ-5 {criteria} регион EU\\n', fontsize=14)\n",
    "    ax2.pie(sizes2, labels=labels2, autopct='%1.1f%%',\n",
    "            shadow=True, startangle=45, explode=explode) \n",
    "\n",
    "    ax3.set_title(f'Топ-5 {criteria} регион JP\\n', fontsize=14)\n",
    "    ax3.pie(sizes3, labels=labels3, autopct='%1.1f%%',\n",
    "            shadow=True, startangle=45, explode=explode)\n",
    "\n",
    "    plt.show()"
   ]
  },
  {
   "cell_type": "code",
   "execution_count": 56,
   "id": "7f8b5efe",
   "metadata": {},
   "outputs": [
    {
     "data": {
      "image/png": "[encoded data removed]",
      "text/plain": [
       "<Figure size 1152x504 with 3 Axes>"
      ]
     },
     "metadata": {},
     "output_type": "display_data"
    }
   ],
   "source": [
    "# выберем данные по актуальному периоду\n",
    "data_actual = data.query('year_of_release > 2009')  \n",
    "\n",
    "# и построим круговые диаграммы\n",
    "draw_pie_top_5(data_actual, 'platform')"
   ]
  },
  {
   "cell_type": "markdown",
   "id": "b55dcfaa",
   "metadata": {},
   "source": [
    "Вывод. Как видим платформы-лидеры для разных регионов отличаются: : для NA это x360(38%),\n",
    "для EU - PS3(32.8%), для JP - 3DS(39.8%). Отличаются и аутсайдеры топ-5: в Северной Америке это XOne(10.4%), в Европе - Wii(10%), в Японии - PSV(8.7%)"
   ]
  },
  {
   "cell_type": "markdown",
   "id": "75fceb10",
   "metadata": {},
   "source": [
    "Построим круговые диаграммы для топ-5 продаваемых жанров для каждого региона."
   ]
  },
  {
   "cell_type": "code",
   "execution_count": 57,
   "id": "67ef57eb",
   "metadata": {},
   "outputs": [
    {
     "data": {
      "image/png": "[encoded data removed]",
      "text/plain": [
       "<Figure size 1152x504 with 3 Axes>"
      ]
     },
     "metadata": {},
     "output_type": "display_data"
    }
   ],
   "source": [
    "draw_pie_top_5(data_actual, 'genre')"
   ]
  },
  {
   "cell_type": "markdown",
   "id": "9f0cad1f",
   "metadata": {},
   "source": [
    "Распределение по жанрам довольно интересное. Для Европы(35.3%) и Америки(31.6%) самый популярный жанр - Action, а вот для Японии Role-Playing(44.6%). Аутсайдеры во всех регионах разные: для Америки Role-Playing(12.1%), Misc(10.0%) для Европы, и Adventure(6.8%) для Японии, причем второй, по распространенности жанр в Японии - Action(31.4%) занимает, почти такую же долю, как и первый жанр для Америки. Все таки восточный менталитет здорово отличается от западного."
   ]
  },
  {
   "cell_type": "markdown",
   "id": "61059beb",
   "metadata": {},
   "source": [
    "Оценим, влияет ли рейтинг ESRB на продажи в отдельном регионе?"
   ]
  },
  {
   "cell_type": "code",
   "execution_count": 58,
   "id": "708983f3",
   "metadata": {
    "scrolled": true
   },
   "outputs": [
    {
     "data": {
      "image/png": "[encoded data removed]",
      "text/plain": [
       "<Figure size 1152x504 with 3 Axes>"
      ]
     },
     "metadata": {},
     "output_type": "display_data"
    }
   ],
   "source": [
    "draw_pie_top_5(data_actual, 'rating', head=4, explode = (0.15,0,0,0.1))"
   ]
  },
  {
   "cell_type": "markdown",
   "id": "caad9105",
   "metadata": {},
   "source": [
    "**Вывод. Самых популярных рейтинги входят в четверку: \"E\" - игры для всех, \"T\" - игры для тинейжеров, \"M\" - игры для взрослых и \"E10\" - для детей 10+. Порядок убывания популярности игр по рейтингу одинаков для Америки и Европы, и доли почти одинаковы. Лидируют игры категории\"М\" около 35.7 и 37%, аутсайдер - \"Е10+\" - 14,1% и 11.9%. В средине расположились \"Т\" и \"М\". В японии подавляющее большинство игры для тинейджеров \"T\" - 53.7% и \"E\" 31.3%, значительно отстает почти в 5 раз \"М\" - 10.7%, и замыкает рейтинг \"Е10+\" - чуть более 4.3%. То есть наиболее частый портрет среднего американца: играет на платформе X360 и PS3 в жанре Action  или Sport в категории \"M\"; портрет европейца, практически повторяет Американца: играет на PS3 или X360, в жанре Action  или Shooter, в категории \"M\"; японец играет на 3DS или DS, в жанре Role-Playing, в категории \"Т\".**"
   ]
  },
  {
   "cell_type": "markdown",
   "id": "11a1fb61",
   "metadata": {},
   "source": [
    "## Проверка гипотез"
   ]
  },
  {
   "cell_type": "markdown",
   "id": "fb71ea70",
   "metadata": {},
   "source": [
    "В этом разделе нам предстоит проверить две гипотезы. \n",
    "- Средние пользовательские рейтинги платформ Xbox One и PC одинаковые;\n",
    "- Средние пользовательские рейтинги жанров Action (англ. «действие», экшен-игры) и Sports (англ. «спортивные соревнования») разные."
   ]
  },
  {
   "cell_type": "markdown",
   "id": "96834323",
   "metadata": {},
   "source": [
    "### Гипотеза 1. \n",
    "\n",
    "Сформулируем нулевую и альтернативные гипотезы:\n",
    "\n",
    "- $H_0$: средние пользовательские рейтинги платформ `Xbox One` и `PC` равны;\n",
    "- $H_1$: средние пользовательские рейтинги платформ `Xbox One` и `PC` не равны;\n",
    "\n",
    "Составим множества со значениями пользовательских рейтинго для платформ `Xbox One` и `PC`."
   ]
  },
  {
   "cell_type": "code",
   "execution_count": 59,
   "id": "5745d07a",
   "metadata": {},
   "outputs": [],
   "source": [
    "# заполним нулями пропуски значений user_score\n",
    "\n",
    "user_score_xbox = data.query('platform ==\"XOne\" and user_score.notna()')['user_score'].values\n",
    "user_score_ps = data.query('platform ==\"PS\" and user_score.notna()')['user_score'].values"
   ]
  },
  {
   "cell_type": "markdown",
   "id": "cf73274b",
   "metadata": {},
   "source": [
    "Сравним дисперсии массивов."
   ]
  },
  {
   "cell_type": "code",
   "execution_count": 60,
   "id": "5f8155d0",
   "metadata": {},
   "outputs": [
    {
     "name": "stdout",
     "output_type": "stream",
     "text": [
      "Дисперсия для XOne: 1.8965188383045526\n",
      "Дисперсия для PS: 1.7631260478585584\n"
     ]
    }
   ],
   "source": [
    "# ddof = 0, т.к. у нас не выборка, а генеральная савокупность\n",
    "print(f'Дисперсия для XOne: {np.var(user_score_xbox, ddof=0)}')\n",
    "print(f'Дисперсия для PS: {np.var(user_score_ps, ddof=0)}')"
   ]
  },
  {
   "cell_type": "code",
   "execution_count": 61,
   "id": "f39f25e0",
   "metadata": {},
   "outputs": [
    {
     "name": "stdout",
     "output_type": "stream",
     "text": [
      "p-значение: 4.8107256198405024e-18\n",
      "Отвергаем нулевую гипотезу\n"
     ]
    }
   ],
   "source": [
    "# критический уровень статистической значимости\n",
    "alpha = 0.05 \n",
    "\n",
    "# дисперсии практически равны принимаем поправку в формуле equal_var=True\n",
    "results = st.ttest_ind(user_score_xbox, user_score_ps, equal_var=True)\n",
    "\n",
    "print('p-значение:', results.pvalue)\n",
    "\n",
    "if (results.pvalue < alpha):\n",
    "    print(\"Отвергаем нулевую гипотезу\")\n",
    "else:\n",
    "    print(\"Не получилось отвергнуть нулевую гипотезу\")"
   ]
  },
  {
   "cell_type": "code",
   "execution_count": 62,
   "id": "f1d7622e",
   "metadata": {},
   "outputs": [
    {
     "name": "stdout",
     "output_type": "stream",
     "text": [
      "Среднее значение оценки пользователей для XOne: 6.521428571428572\n",
      "Среднее значение оценки пользователей для PS: 7.865432098765431\n"
     ]
    }
   ],
   "source": [
    "# для наглядности\n",
    "print(f'Среднее значение оценки пользователей для XOne: {np.mean(user_score_xbox)}')\n",
    "print(f'Среднее значение оценки пользователей для PS: {np.mean(user_score_ps)}')"
   ]
  },
  {
   "cell_type": "markdown",
   "id": "0679d563",
   "metadata": {},
   "source": [
    "Нулевую гипотезу отвергаем, т.е. вероятность получить среднее значение оценки пользователей для XOne в допустимй близости от среднего значение оценки пользователей для PS, ничтожно мала. Значит делаем вывод: **Гипотеза 1 отвергнута: средняя оценка пользователей  для XOne и для PS различается.**"
   ]
  },
  {
   "cell_type": "markdown",
   "id": "23f6c218",
   "metadata": {},
   "source": [
    "### Гипотеза 2. \n",
    "\n",
    "Сформулируем нулевую и альтернативные гипотезы:\n",
    "\n",
    "- $H_0$: Средние пользовательские рейтинги жанров Action  и Sports равны;\n",
    "- $H_1$: Средние пользовательские рейтинги жанров Action и Sports  не равны;\n",
    "\n",
    "Составим множества со значениями пользовательских рейтинго для платформ `Action` и `Sports`."
   ]
  },
  {
   "cell_type": "code",
   "execution_count": 63,
   "id": "cf433798",
   "metadata": {},
   "outputs": [],
   "source": [
    "# берем данные за актуальный период\n",
    "user_score_action = data_actual.query('genre ==\"Action\" and user_score.notna()')['user_score'].values\n",
    "user_score_sports = data_actual.query('genre ==\"Sports\" and user_score.notna()')['user_score'].values"
   ]
  },
  {
   "cell_type": "markdown",
   "id": "bf98b1c5",
   "metadata": {},
   "source": [
    "Сравним дисперсии массивов."
   ]
  },
  {
   "cell_type": "code",
   "execution_count": 64,
   "id": "e25eed97",
   "metadata": {},
   "outputs": [
    {
     "name": "stdout",
     "output_type": "stream",
     "text": [
      "Дисперсия для Action: 1.841371528024999\n",
      "Дисперсия для Sports: 2.8160810133548213\n"
     ]
    }
   ],
   "source": [
    "# ddof = 0, т.к. у нас не выборка, а генеральная савокупность\n",
    "print(f'Дисперсия для Action: {np.var(user_score_action, ddof=0)}')\n",
    "print(f'Дисперсия для Sports: {np.var(user_score_sports, ddof=0)}')"
   ]
  },
  {
   "cell_type": "code",
   "execution_count": 65,
   "id": "dba95b52",
   "metadata": {},
   "outputs": [
    {
     "name": "stdout",
     "output_type": "stream",
     "text": [
      "p-значение: 1.0897195231230711e-15\n",
      "Отвергаем нулевую гипотезу\n"
     ]
    }
   ],
   "source": [
    "# критический уровень статистической значимости\n",
    "alpha = 0.05 \n",
    "\n",
    "# дисперсии отличаются на 35% ((2.82-1.84)/2.82), принимаем поправку в формуле equal_var=False\n",
    "results = st.ttest_ind(user_score_action, user_score_sports, equal_var=False)\n",
    "\n",
    "print('p-значение:', results.pvalue)\n",
    "\n",
    "if (results.pvalue < alpha):\n",
    "    print(\"Отвергаем нулевую гипотезу\")\n",
    "else:\n",
    "    print(\"Не получилось отвергнуть нулевую гипотезу\")"
   ]
  },
  {
   "cell_type": "code",
   "execution_count": 66,
   "id": "79eccc50",
   "metadata": {},
   "outputs": [
    {
     "name": "stdout",
     "output_type": "stream",
     "text": [
      "Среднее значение оценки пользователей Action: 6.788805031446541\n",
      "Среднее значение оценки пользователей Sports: 5.912539184952978\n"
     ]
    }
   ],
   "source": [
    "# для наглядности\n",
    "print(f'Среднее значение оценки пользователей Action: {np.mean(user_score_action)}')\n",
    "print(f'Среднее значение оценки пользователей Sports: {np.mean(user_score_sports)}')"
   ]
  },
  {
   "cell_type": "markdown",
   "id": "e57426ff",
   "metadata": {},
   "source": [
    "Нулевую гипотезу отвергаем. Значит делаем вывод: **Гипотеза 2 не подтвердилась: средняя оценка пользователей  для жанров Acnion и Sports разные.**"
   ]
  },
  {
   "cell_type": "markdown",
   "id": "202e3242",
   "metadata": {},
   "source": [
    "##  Общий вывод"
   ]
  },
  {
   "cell_type": "markdown",
   "id": "b4134059",
   "metadata": {},
   "source": [
    "В ходе проведенного исследования были получены и проанализированы исходные данные. Были обнаружены пропуски значений, в столбцах `Critic_Score` почти половина, и в столбцах `Rating` и `User_Score` довольно значительные, до 40%. Заполнение этих пропусков не представляется возможным, т.к. отсутсвуют, необходимые для этого данные. 269 пропусков в `Year_of_Release` были заполнены, средними значениями годов, в которые выпускались определенные игровые платформы. Удалены незначащие данные (две строки), изменены типы данных в столбцах `Year_of_Release` и `User_Score`. В столбце `User_Score` были обнаружены значения «tbd», т.е. «неопределены», их заменили на «Nan». Дубликаты не обнаружены. Получили суммарные значения выручки по регионам.\n",
    "\n",
    "В процессе анализа было установлено:\n",
    "- резкий рост количества игр начинается в 1993 году(менее 100) и с небольшими спадами продолжается до 2009, преодолев значение в 1400. Затем к 2012 году наблюдается двукратный спад до 600. Это может быть связано с последствиями экономического кризиса 2008-2009 годов, или с оттоком пользователей в бурно развивающийся в это время, сектор мобильных приложений.\n",
    "- выявлен лидер среди платформ по суммарным продажам — PS2(более 1.2 млрд. долл.). В топ-6 с суммой продаж 0.75...1.0 млрд. долл. вошли еще 5 платформ: X360, PS3, Wii, DS, PS;\n",
    "- проанализировав время существования платформ было определено среднее значение жизни платформы равное 10 лет. Это значение было взято за актуальный период для прогноза продаж на 2017 год;\n",
    "- прогноз на 2017 год будет следующий: намечается рост продаж на платформах PS4 и Xone в течении 1-2 лет, с последующим снижением, еще на 4-х платформах (PSV, PS3, X360, WiiU) ожидается получить незначительную прибыль, поскольку они находятся на фазе завершения жизненного цикла;\n",
    "- анализ графиков глобальных продаж по платформам показал, самые продаваемые платформы имеют широкий межквартильный размах, и соответственно,  более высокие медианные значения;\n",
    "- оценка значений корреляции между продажами и отзывами пользователей и критиков выявил следующее: до критического значения в 60% по шкале оценки отзывы не имеют значимого влияния на продажи, и только после этого значения прослеживается прямая зависимость;\n",
    "- по числу продаж лидируют жанры: Action - 3369, Sports - 2348 и Misc - 1750; аутсайдеры здесь Puzzle(580), Strategy(683) и Fighting(849); по выручке картина следующая, (млн.долл.): Action - 1744, Sports - 1331 и Shooter - 1052; здесь аутсайдеры Strategy(174), Adventure(237) и Puzzle(242). Самые перспективные жанры: Action и Shooter, а Puzzle и Adventure наоборот;\n",
    "- составлен примерный портрет пользователя. Американец : играет на платформе X360 и PS3 в жанре Action или Shooter в категории \"M\"; Европеец: играет на PS3 или X360, в жанре Action или Shooter, в категории \"M\"; японец играет на DS3, в жанре Role-Playing, в категории \"Т\";\n",
    "- проверка гипотез дала следующие ответы:\n",
    "  - Гипотеза 1 отвергнута: средняя оценка пользователей для XOne и для PS различается;\n",
    "  - Гипотеза 2 отвергнута: средняя оценка пользователей для жанров Acnion и Sports различаются;\n",
    "\n",
    "\n",
    "По изложенным выше пунктам, становится очевидным, что для рынков Америки и Европы, с одной стороны, и Японии с другой, необходимо делать акцент на разный платформы, жанры и рейтинги ESRB. \n",
    "\n",
    "Для Америки больше прибыли в 2017 году принесет развитие платформ X360, жанры Action, Shooter в категории «M»; \n",
    "В Европе надо развивать платформы X360, PS3,жанры Action, Sports в категории «E»; \n",
    "В Японии платформы на 3DS, PS3, в жанре Role-Playing, в категории \"T\".\n",
    "Следует учесть, что в регионах Америки и Европы возможен переход с платформ X360, PS3 на более перспективную PS4."
   ]
  }
 ],
 "metadata": {
  "ExecuteTimeLog": [
   {
    "duration": 1835,
    "start_time": "2022-04-16T08:24:58.150Z"
   },
   {
    "duration": 58,
    "start_time": "2022-04-16T08:24:59.989Z"
   },
   {
    "duration": 83,
    "start_time": "2022-04-16T08:25:00.049Z"
   },
   {
    "duration": 22,
    "start_time": "2022-04-16T08:25:00.137Z"
   },
   {
    "duration": 33,
    "start_time": "2022-04-16T08:25:00.161Z"
   },
   {
    "duration": 41,
    "start_time": "2022-04-16T08:25:00.197Z"
   },
   {
    "duration": 9,
    "start_time": "2022-04-16T08:25:00.240Z"
   },
   {
    "duration": 14,
    "start_time": "2022-04-16T08:25:00.252Z"
   },
   {
    "duration": 13,
    "start_time": "2022-04-16T08:25:00.269Z"
   },
   {
    "duration": 12,
    "start_time": "2022-04-16T08:25:00.328Z"
   },
   {
    "duration": 110,
    "start_time": "2022-04-16T08:25:00.343Z"
   },
   {
    "duration": 25,
    "start_time": "2022-04-16T08:25:00.456Z"
   },
   {
    "duration": 9,
    "start_time": "2022-04-16T08:25:00.484Z"
   },
   {
    "duration": 38,
    "start_time": "2022-04-16T08:25:00.495Z"
   },
   {
    "duration": 26,
    "start_time": "2022-04-16T08:25:00.535Z"
   },
   {
    "duration": 20,
    "start_time": "2022-04-16T08:25:00.563Z"
   },
   {
    "duration": 54,
    "start_time": "2022-04-16T08:25:00.585Z"
   },
   {
    "duration": 15,
    "start_time": "2022-04-16T08:25:00.641Z"
   },
   {
    "duration": 31,
    "start_time": "2022-04-16T08:25:00.658Z"
   },
   {
    "duration": 17,
    "start_time": "2022-04-16T08:25:00.691Z"
   },
   {
    "duration": 35,
    "start_time": "2022-04-16T08:25:00.710Z"
   },
   {
    "duration": 25,
    "start_time": "2022-04-16T08:25:00.748Z"
   },
   {
    "duration": 25,
    "start_time": "2022-04-16T08:25:00.776Z"
   },
   {
    "duration": 21,
    "start_time": "2022-04-16T08:25:00.804Z"
   },
   {
    "duration": 19,
    "start_time": "2022-04-16T08:25:00.828Z"
   },
   {
    "duration": 31,
    "start_time": "2022-04-16T08:25:00.850Z"
   },
   {
    "duration": 10,
    "start_time": "2022-04-16T08:25:00.883Z"
   },
   {
    "duration": 55,
    "start_time": "2022-04-16T08:25:00.901Z"
   },
   {
    "duration": 9,
    "start_time": "2022-04-16T08:25:00.958Z"
   },
   {
    "duration": 27,
    "start_time": "2022-04-16T08:25:00.970Z"
   },
   {
    "duration": 33,
    "start_time": "2022-04-16T08:25:00.999Z"
   },
   {
    "duration": 39,
    "start_time": "2022-04-16T08:25:01.034Z"
   },
   {
    "duration": 26,
    "start_time": "2022-04-16T08:25:01.076Z"
   },
   {
    "duration": 42,
    "start_time": "2022-04-16T08:25:01.104Z"
   },
   {
    "duration": 58,
    "start_time": "2022-04-16T08:25:01.148Z"
   },
   {
    "duration": 9,
    "start_time": "2022-04-16T08:25:01.208Z"
   },
   {
    "duration": 25,
    "start_time": "2022-04-16T08:25:01.219Z"
   },
   {
    "duration": 27,
    "start_time": "2022-04-16T08:25:01.246Z"
   },
   {
    "duration": 25,
    "start_time": "2022-04-16T08:25:01.275Z"
   },
   {
    "duration": 591,
    "start_time": "2022-04-16T08:25:01.303Z"
   },
   {
    "duration": 503,
    "start_time": "2022-04-16T08:25:01.897Z"
   },
   {
    "duration": 24,
    "start_time": "2022-04-16T08:25:02.402Z"
   },
   {
    "duration": 4881,
    "start_time": "2022-04-16T08:25:02.428Z"
   },
   {
    "duration": 26,
    "start_time": "2022-04-16T08:25:07.312Z"
   },
   {
    "duration": 5,
    "start_time": "2022-04-16T08:25:07.341Z"
   },
   {
    "duration": 29,
    "start_time": "2022-04-16T08:25:07.348Z"
   },
   {
    "duration": 5,
    "start_time": "2022-04-16T08:25:07.379Z"
   },
   {
    "duration": 104,
    "start_time": "2022-04-16T08:25:07.386Z"
   },
   {
    "duration": 889,
    "start_time": "2022-04-16T08:25:07.492Z"
   },
   {
    "duration": 30,
    "start_time": "2022-04-16T08:25:08.383Z"
   },
   {
    "duration": 530,
    "start_time": "2022-04-16T08:25:08.416Z"
   },
   {
    "duration": 11,
    "start_time": "2022-04-16T08:25:08.948Z"
   },
   {
    "duration": 125,
    "start_time": "2022-04-16T08:25:08.961Z"
   },
   {
    "duration": 4053,
    "start_time": "2022-04-16T08:25:09.088Z"
   },
   {
    "duration": 15,
    "start_time": "2022-04-16T08:25:13.144Z"
   },
   {
    "duration": 701,
    "start_time": "2022-04-16T08:25:13.162Z"
   },
   {
    "duration": 526,
    "start_time": "2022-04-16T08:25:13.866Z"
   },
   {
    "duration": 551,
    "start_time": "2022-04-16T08:25:14.394Z"
   },
   {
    "duration": 636,
    "start_time": "2022-04-16T08:25:14.948Z"
   },
   {
    "duration": 40,
    "start_time": "2022-04-16T08:25:15.587Z"
   },
   {
    "duration": 22,
    "start_time": "2022-04-16T08:25:15.629Z"
   },
   {
    "duration": 12,
    "start_time": "2022-04-16T08:25:15.654Z"
   },
   {
    "duration": 14,
    "start_time": "2022-04-16T08:25:15.668Z"
   },
   {
    "duration": 26,
    "start_time": "2022-04-16T08:25:15.685Z"
   },
   {
    "duration": 12,
    "start_time": "2022-04-16T08:25:15.713Z"
   },
   {
    "duration": 12,
    "start_time": "2022-04-16T08:25:15.728Z"
   },
   {
    "duration": 15,
    "start_time": "2022-04-16T08:25:15.742Z"
   },
   {
    "duration": 2456,
    "start_time": "2022-04-25T11:48:05.161Z"
   },
   {
    "duration": 84,
    "start_time": "2022-04-25T11:48:07.621Z"
   },
   {
    "duration": 103,
    "start_time": "2022-04-25T11:48:07.707Z"
   },
   {
    "duration": 22,
    "start_time": "2022-04-25T11:48:07.813Z"
   },
   {
    "duration": 69,
    "start_time": "2022-04-25T11:48:07.838Z"
   },
   {
    "duration": 19,
    "start_time": "2022-04-25T11:48:07.909Z"
   },
   {
    "duration": 9,
    "start_time": "2022-04-25T11:48:07.931Z"
   },
   {
    "duration": 58,
    "start_time": "2022-04-25T11:48:07.943Z"
   },
   {
    "duration": 19,
    "start_time": "2022-04-25T11:48:08.003Z"
   },
   {
    "duration": 18,
    "start_time": "2022-04-25T11:48:08.026Z"
   },
   {
    "duration": 107,
    "start_time": "2022-04-25T11:48:08.047Z"
   },
   {
    "duration": 23,
    "start_time": "2022-04-25T11:48:08.156Z"
   },
   {
    "duration": 5,
    "start_time": "2022-04-25T11:48:08.194Z"
   },
   {
    "duration": 27,
    "start_time": "2022-04-25T11:48:08.202Z"
   },
   {
    "duration": 15,
    "start_time": "2022-04-25T11:48:08.231Z"
   },
   {
    "duration": 49,
    "start_time": "2022-04-25T11:48:08.248Z"
   },
   {
    "duration": 14,
    "start_time": "2022-04-25T11:48:08.299Z"
   },
   {
    "duration": 22,
    "start_time": "2022-04-25T11:48:08.315Z"
   },
   {
    "duration": 12,
    "start_time": "2022-04-25T11:48:08.339Z"
   },
   {
    "duration": 48,
    "start_time": "2022-04-25T11:48:08.353Z"
   },
   {
    "duration": 20,
    "start_time": "2022-04-25T11:48:08.403Z"
   },
   {
    "duration": 12,
    "start_time": "2022-04-25T11:48:08.425Z"
   },
   {
    "duration": 59,
    "start_time": "2022-04-25T11:48:08.440Z"
   },
   {
    "duration": 19,
    "start_time": "2022-04-25T11:48:08.501Z"
   },
   {
    "duration": 8,
    "start_time": "2022-04-25T11:48:08.523Z"
   },
   {
    "duration": 30,
    "start_time": "2022-04-25T11:48:08.534Z"
   },
   {
    "duration": 9,
    "start_time": "2022-04-25T11:48:08.594Z"
   },
   {
    "duration": 39,
    "start_time": "2022-04-25T11:48:08.609Z"
   },
   {
    "duration": 9,
    "start_time": "2022-04-25T11:48:08.651Z"
   },
   {
    "duration": 21,
    "start_time": "2022-04-25T11:48:08.694Z"
   },
   {
    "duration": 13,
    "start_time": "2022-04-25T11:48:08.718Z"
   },
   {
    "duration": 65,
    "start_time": "2022-04-25T11:48:08.734Z"
   },
   {
    "duration": 11,
    "start_time": "2022-04-25T11:48:08.802Z"
   },
   {
    "duration": 11,
    "start_time": "2022-04-25T11:48:08.815Z"
   },
   {
    "duration": 82,
    "start_time": "2022-04-25T11:48:08.829Z"
   },
   {
    "duration": 9,
    "start_time": "2022-04-25T11:48:08.913Z"
   },
   {
    "duration": 16,
    "start_time": "2022-04-25T11:48:08.924Z"
   },
   {
    "duration": 58,
    "start_time": "2022-04-25T11:48:08.942Z"
   },
   {
    "duration": 26,
    "start_time": "2022-04-25T11:48:09.002Z"
   },
   {
    "duration": 581,
    "start_time": "2022-04-25T11:48:09.031Z"
   },
   {
    "duration": 487,
    "start_time": "2022-04-25T11:48:09.615Z"
   },
   {
    "duration": 10,
    "start_time": "2022-04-25T11:48:10.104Z"
   },
   {
    "duration": 4746,
    "start_time": "2022-04-25T11:48:10.117Z"
   },
   {
    "duration": 40,
    "start_time": "2022-04-25T11:48:14.866Z"
   },
   {
    "duration": 6,
    "start_time": "2022-04-25T11:48:14.909Z"
   },
   {
    "duration": 25,
    "start_time": "2022-04-25T11:48:14.917Z"
   },
   {
    "duration": 6,
    "start_time": "2022-04-25T11:48:14.944Z"
   },
   {
    "duration": 101,
    "start_time": "2022-04-25T11:48:14.952Z"
   },
   {
    "duration": 849,
    "start_time": "2022-04-25T11:48:15.055Z"
   },
   {
    "duration": 30,
    "start_time": "2022-04-25T11:48:15.906Z"
   },
   {
    "duration": 526,
    "start_time": "2022-04-25T11:48:15.938Z"
   },
   {
    "duration": 27,
    "start_time": "2022-04-25T11:48:16.466Z"
   },
   {
    "duration": 127,
    "start_time": "2022-04-25T11:48:16.496Z"
   },
   {
    "duration": 3737,
    "start_time": "2022-04-25T11:48:16.626Z"
   },
   {
    "duration": 29,
    "start_time": "2022-04-25T11:48:20.366Z"
   },
   {
    "duration": 664,
    "start_time": "2022-04-25T11:48:20.397Z"
   },
   {
    "duration": 516,
    "start_time": "2022-04-25T11:48:21.064Z"
   },
   {
    "duration": 541,
    "start_time": "2022-04-25T11:48:21.582Z"
   },
   {
    "duration": 480,
    "start_time": "2022-04-25T11:48:22.125Z"
   },
   {
    "duration": 16,
    "start_time": "2022-04-25T11:48:22.607Z"
   },
   {
    "duration": 9,
    "start_time": "2022-04-25T11:48:22.625Z"
   },
   {
    "duration": 8,
    "start_time": "2022-04-25T11:48:22.636Z"
   },
   {
    "duration": 47,
    "start_time": "2022-04-25T11:48:22.646Z"
   },
   {
    "duration": 20,
    "start_time": "2022-04-25T11:48:22.696Z"
   },
   {
    "duration": 5,
    "start_time": "2022-04-25T11:48:22.719Z"
   },
   {
    "duration": 10,
    "start_time": "2022-04-25T11:48:22.726Z"
   },
   {
    "duration": 5,
    "start_time": "2022-04-25T11:48:22.792Z"
   },
   {
    "duration": 13,
    "start_time": "2022-04-25T11:59:56.115Z"
   },
   {
    "duration": 48,
    "start_time": "2022-04-25T12:04:29.514Z"
   },
   {
    "duration": 88,
    "start_time": "2022-04-25T14:23:59.133Z"
   },
   {
    "duration": 1549,
    "start_time": "2022-04-25T14:24:14.882Z"
   },
   {
    "duration": 38,
    "start_time": "2022-04-25T14:24:16.433Z"
   },
   {
    "duration": 57,
    "start_time": "2022-04-25T14:24:16.475Z"
   },
   {
    "duration": 41,
    "start_time": "2022-04-25T14:24:16.534Z"
   },
   {
    "duration": 20,
    "start_time": "2022-04-25T14:24:16.578Z"
   },
   {
    "duration": 11,
    "start_time": "2022-04-25T14:24:16.600Z"
   },
   {
    "duration": 6,
    "start_time": "2022-04-25T14:24:16.613Z"
   },
   {
    "duration": 9,
    "start_time": "2022-04-25T14:24:16.624Z"
   },
   {
    "duration": 8,
    "start_time": "2022-04-25T14:24:16.635Z"
   },
   {
    "duration": 9,
    "start_time": "2022-04-25T14:24:16.646Z"
   },
   {
    "duration": 79,
    "start_time": "2022-04-25T14:24:16.656Z"
   },
   {
    "duration": 17,
    "start_time": "2022-04-25T14:24:16.737Z"
   },
   {
    "duration": 5,
    "start_time": "2022-04-25T14:24:16.755Z"
   },
   {
    "duration": 8,
    "start_time": "2022-04-25T14:24:16.762Z"
   },
   {
    "duration": 10,
    "start_time": "2022-04-25T14:24:16.772Z"
   },
   {
    "duration": 45,
    "start_time": "2022-04-25T14:24:16.784Z"
   },
   {
    "duration": 9,
    "start_time": "2022-04-25T14:24:16.831Z"
   },
   {
    "duration": 13,
    "start_time": "2022-04-25T14:24:16.842Z"
   },
   {
    "duration": 11,
    "start_time": "2022-04-25T14:24:16.857Z"
   },
   {
    "duration": 12,
    "start_time": "2022-04-25T14:24:16.870Z"
   },
   {
    "duration": 40,
    "start_time": "2022-04-25T14:24:16.884Z"
   },
   {
    "duration": 9,
    "start_time": "2022-04-25T14:24:16.926Z"
   },
   {
    "duration": 25,
    "start_time": "2022-04-25T14:24:16.937Z"
   },
   {
    "duration": 13,
    "start_time": "2022-04-25T14:24:16.965Z"
   },
   {
    "duration": 11,
    "start_time": "2022-04-25T14:24:16.980Z"
   },
   {
    "duration": 18,
    "start_time": "2022-04-25T14:24:16.994Z"
   },
   {
    "duration": 12,
    "start_time": "2022-04-25T14:24:17.014Z"
   },
   {
    "duration": 25,
    "start_time": "2022-04-25T14:24:17.031Z"
   },
   {
    "duration": 7,
    "start_time": "2022-04-25T14:24:17.059Z"
   },
   {
    "duration": 19,
    "start_time": "2022-04-25T14:24:17.068Z"
   },
   {
    "duration": 39,
    "start_time": "2022-04-25T14:24:17.089Z"
   },
   {
    "duration": 15,
    "start_time": "2022-04-25T14:24:17.130Z"
   },
   {
    "duration": 7,
    "start_time": "2022-04-25T14:24:17.147Z"
   },
   {
    "duration": 7,
    "start_time": "2022-04-25T14:24:17.156Z"
   },
   {
    "duration": 60,
    "start_time": "2022-04-25T14:24:17.165Z"
   },
   {
    "duration": 6,
    "start_time": "2022-04-25T14:24:17.227Z"
   },
   {
    "duration": 15,
    "start_time": "2022-04-25T14:24:17.234Z"
   },
   {
    "duration": 17,
    "start_time": "2022-04-25T14:24:17.251Z"
   },
   {
    "duration": 18,
    "start_time": "2022-04-25T14:24:17.270Z"
   },
   {
    "duration": 554,
    "start_time": "2022-04-25T14:24:17.323Z"
   },
   {
    "duration": 504,
    "start_time": "2022-04-25T14:24:17.880Z"
   },
   {
    "duration": 11,
    "start_time": "2022-04-25T14:24:18.386Z"
   },
   {
    "duration": 4510,
    "start_time": "2022-04-25T14:24:18.399Z"
   },
   {
    "duration": 24,
    "start_time": "2022-04-25T14:24:22.911Z"
   },
   {
    "duration": 4,
    "start_time": "2022-04-25T14:24:22.937Z"
   },
   {
    "duration": 24,
    "start_time": "2022-04-25T14:24:22.943Z"
   },
   {
    "duration": 4,
    "start_time": "2022-04-25T14:24:22.970Z"
   },
   {
    "duration": 18,
    "start_time": "2022-04-25T14:24:26.388Z"
   },
   {
    "duration": 15,
    "start_time": "2022-04-25T14:24:58.621Z"
   },
   {
    "duration": 51,
    "start_time": "2022-04-25T14:32:32.920Z"
   },
   {
    "duration": 5,
    "start_time": "2022-04-25T14:32:36.063Z"
   },
   {
    "duration": 31,
    "start_time": "2022-04-25T14:34:43.965Z"
   },
   {
    "duration": 378,
    "start_time": "2022-04-25T14:34:57.663Z"
   },
   {
    "duration": 8,
    "start_time": "2022-04-25T14:39:50.369Z"
   },
   {
    "duration": 6,
    "start_time": "2022-04-25T14:42:49.662Z"
   },
   {
    "duration": 8,
    "start_time": "2022-04-25T14:45:10.338Z"
   },
   {
    "duration": 10,
    "start_time": "2022-04-25T14:45:20.857Z"
   },
   {
    "duration": 9,
    "start_time": "2022-04-25T14:45:29.782Z"
   },
   {
    "duration": 7,
    "start_time": "2022-04-25T14:45:34.408Z"
   },
   {
    "duration": 5,
    "start_time": "2022-04-25T14:46:02.870Z"
   },
   {
    "duration": 1628,
    "start_time": "2022-04-25T14:46:31.911Z"
   },
   {
    "duration": 55,
    "start_time": "2022-04-25T14:46:33.542Z"
   },
   {
    "duration": 68,
    "start_time": "2022-04-25T14:46:33.600Z"
   },
   {
    "duration": 22,
    "start_time": "2022-04-25T14:46:33.671Z"
   },
   {
    "duration": 52,
    "start_time": "2022-04-25T14:46:33.695Z"
   },
   {
    "duration": 15,
    "start_time": "2022-04-25T14:46:33.749Z"
   },
   {
    "duration": 8,
    "start_time": "2022-04-25T14:46:33.766Z"
   },
   {
    "duration": 11,
    "start_time": "2022-04-25T14:46:33.777Z"
   },
   {
    "duration": 39,
    "start_time": "2022-04-25T14:46:33.790Z"
   },
   {
    "duration": 9,
    "start_time": "2022-04-25T14:46:33.833Z"
   },
   {
    "duration": 54,
    "start_time": "2022-04-25T14:46:33.844Z"
   },
   {
    "duration": 16,
    "start_time": "2022-04-25T14:46:33.924Z"
   },
   {
    "duration": 8,
    "start_time": "2022-04-25T14:46:33.941Z"
   },
   {
    "duration": 12,
    "start_time": "2022-04-25T14:46:33.950Z"
   },
   {
    "duration": 8,
    "start_time": "2022-04-25T14:46:33.964Z"
   },
   {
    "duration": 8,
    "start_time": "2022-04-25T14:46:33.973Z"
   },
   {
    "duration": 48,
    "start_time": "2022-04-25T14:46:33.983Z"
   },
   {
    "duration": 9,
    "start_time": "2022-04-25T14:46:34.033Z"
   },
   {
    "duration": 7,
    "start_time": "2022-04-25T14:46:34.044Z"
   },
   {
    "duration": 8,
    "start_time": "2022-04-25T14:46:34.053Z"
   },
   {
    "duration": 13,
    "start_time": "2022-04-25T14:46:34.062Z"
   },
   {
    "duration": 49,
    "start_time": "2022-04-25T14:46:34.077Z"
   },
   {
    "duration": 9,
    "start_time": "2022-04-25T14:46:34.129Z"
   },
   {
    "duration": 10,
    "start_time": "2022-04-25T14:46:34.140Z"
   },
   {
    "duration": 11,
    "start_time": "2022-04-25T14:46:34.152Z"
   },
   {
    "duration": 20,
    "start_time": "2022-04-25T14:46:34.165Z"
   },
   {
    "duration": 6,
    "start_time": "2022-04-25T14:46:34.186Z"
   },
   {
    "duration": 39,
    "start_time": "2022-04-25T14:46:34.225Z"
   },
   {
    "duration": 9,
    "start_time": "2022-04-25T14:46:34.267Z"
   },
   {
    "duration": 15,
    "start_time": "2022-04-25T14:46:34.278Z"
   },
   {
    "duration": 31,
    "start_time": "2022-04-25T14:46:34.295Z"
   },
   {
    "duration": 20,
    "start_time": "2022-04-25T14:46:34.328Z"
   },
   {
    "duration": 6,
    "start_time": "2022-04-25T14:46:34.351Z"
   },
   {
    "duration": 13,
    "start_time": "2022-04-25T14:46:34.359Z"
   },
   {
    "duration": 52,
    "start_time": "2022-04-25T14:46:34.373Z"
   },
   {
    "duration": 8,
    "start_time": "2022-04-25T14:46:34.427Z"
   },
   {
    "duration": 15,
    "start_time": "2022-04-25T14:46:34.437Z"
   },
   {
    "duration": 18,
    "start_time": "2022-04-25T14:46:34.454Z"
   },
   {
    "duration": 17,
    "start_time": "2022-04-25T14:46:34.474Z"
   },
   {
    "duration": 367,
    "start_time": "2022-04-25T14:46:34.493Z"
   },
   {
    "duration": 299,
    "start_time": "2022-04-25T14:46:34.862Z"
   },
   {
    "duration": 12,
    "start_time": "2022-04-25T14:46:35.163Z"
   },
   {
    "duration": 4829,
    "start_time": "2022-04-25T14:46:35.177Z"
   },
   {
    "duration": 34,
    "start_time": "2022-04-25T14:46:40.008Z"
   },
   {
    "duration": 5,
    "start_time": "2022-04-25T14:46:40.044Z"
   },
   {
    "duration": 5,
    "start_time": "2022-04-25T14:46:40.993Z"
   },
   {
    "duration": 7,
    "start_time": "2022-04-25T14:47:17.758Z"
   },
   {
    "duration": 122,
    "start_time": "2022-04-25T14:49:04.846Z"
   },
   {
    "duration": 29,
    "start_time": "2022-04-25T14:49:38.288Z"
   },
   {
    "duration": 29,
    "start_time": "2022-04-25T14:50:46.288Z"
   },
   {
    "duration": 23,
    "start_time": "2022-04-25T14:51:26.275Z"
   },
   {
    "duration": 9,
    "start_time": "2022-04-25T14:52:58.277Z"
   },
   {
    "duration": 4,
    "start_time": "2022-04-25T14:53:46.232Z"
   },
   {
    "duration": 12,
    "start_time": "2022-04-25T14:54:37.062Z"
   },
   {
    "duration": 14,
    "start_time": "2022-04-25T14:55:04.505Z"
   },
   {
    "duration": 16,
    "start_time": "2022-04-25T14:55:26.341Z"
   },
   {
    "duration": 10,
    "start_time": "2022-04-25T14:55:30.352Z"
   },
   {
    "duration": 15,
    "start_time": "2022-04-25T14:55:38.298Z"
   },
   {
    "duration": 19,
    "start_time": "2022-04-25T14:55:43.641Z"
   },
   {
    "duration": 20,
    "start_time": "2022-04-25T14:55:52.049Z"
   },
   {
    "duration": 20,
    "start_time": "2022-04-25T14:55:55.500Z"
   },
   {
    "duration": 11,
    "start_time": "2022-04-25T14:56:05.875Z"
   },
   {
    "duration": 18,
    "start_time": "2022-04-25T14:56:25.987Z"
   },
   {
    "duration": 21,
    "start_time": "2022-04-25T14:56:37.220Z"
   },
   {
    "duration": 27,
    "start_time": "2022-04-25T14:56:52.688Z"
   },
   {
    "duration": 14,
    "start_time": "2022-04-25T14:58:18.517Z"
   },
   {
    "duration": 9,
    "start_time": "2022-04-25T14:58:24.873Z"
   },
   {
    "duration": 9,
    "start_time": "2022-04-25T14:58:54.990Z"
   },
   {
    "duration": 36,
    "start_time": "2022-04-25T14:59:06.457Z"
   },
   {
    "duration": 446,
    "start_time": "2022-04-25T14:59:19.419Z"
   },
   {
    "duration": 26,
    "start_time": "2022-04-25T15:00:48.706Z"
   },
   {
    "duration": 298,
    "start_time": "2022-04-25T15:00:53.907Z"
   },
   {
    "duration": 11,
    "start_time": "2022-04-25T15:32:54.632Z"
   },
   {
    "duration": 107,
    "start_time": "2022-04-25T15:32:55.087Z"
   },
   {
    "duration": 3575,
    "start_time": "2022-04-25T15:33:01.953Z"
   },
   {
    "duration": 13,
    "start_time": "2022-04-25T15:33:51.350Z"
   },
   {
    "duration": 409,
    "start_time": "2022-04-25T15:33:52.000Z"
   },
   {
    "duration": 306,
    "start_time": "2022-04-25T15:35:09.973Z"
   },
   {
    "duration": 352,
    "start_time": "2022-04-25T15:44:53.772Z"
   },
   {
    "duration": 319,
    "start_time": "2022-04-25T15:45:12.724Z"
   },
   {
    "duration": 278,
    "start_time": "2022-04-25T15:45:31.210Z"
   },
   {
    "duration": 157,
    "start_time": "2022-04-25T15:48:15.748Z"
   },
   {
    "duration": 143,
    "start_time": "2022-04-25T15:48:31.083Z"
   },
   {
    "duration": 147,
    "start_time": "2022-04-25T15:48:43.417Z"
   },
   {
    "duration": 225,
    "start_time": "2022-04-25T15:48:59.030Z"
   },
   {
    "duration": 157,
    "start_time": "2022-04-25T15:49:12.259Z"
   },
   {
    "duration": 150,
    "start_time": "2022-04-25T15:49:45.331Z"
   },
   {
    "duration": 154,
    "start_time": "2022-04-25T15:59:22.766Z"
   },
   {
    "duration": 274,
    "start_time": "2022-04-25T16:01:22.736Z"
   },
   {
    "duration": 427,
    "start_time": "2022-04-25T16:02:01.249Z"
   },
   {
    "duration": 614,
    "start_time": "2022-04-25T16:02:09.319Z"
   },
   {
    "duration": 363,
    "start_time": "2022-04-25T16:03:06.752Z"
   },
   {
    "duration": 365,
    "start_time": "2022-04-25T16:04:45.425Z"
   },
   {
    "duration": 278,
    "start_time": "2022-04-25T16:05:04.311Z"
   },
   {
    "duration": 284,
    "start_time": "2022-04-25T16:05:12.419Z"
   },
   {
    "duration": 243,
    "start_time": "2022-04-25T16:05:54.670Z"
   },
   {
    "duration": 293,
    "start_time": "2022-04-25T16:06:02.625Z"
   },
   {
    "duration": 279,
    "start_time": "2022-04-25T16:06:57.497Z"
   },
   {
    "duration": 340,
    "start_time": "2022-04-25T16:07:07.617Z"
   },
   {
    "duration": 374,
    "start_time": "2022-04-25T16:07:43.086Z"
   },
   {
    "duration": 278,
    "start_time": "2022-04-25T16:09:32.245Z"
   },
   {
    "duration": 287,
    "start_time": "2022-04-25T16:09:44.177Z"
   },
   {
    "duration": 281,
    "start_time": "2022-04-25T16:10:26.610Z"
   },
   {
    "duration": 276,
    "start_time": "2022-04-25T16:10:40.063Z"
   },
   {
    "duration": 432,
    "start_time": "2022-04-25T16:10:54.939Z"
   },
   {
    "duration": 546,
    "start_time": "2022-04-25T16:11:00.316Z"
   },
   {
    "duration": 394,
    "start_time": "2022-04-25T16:13:22.027Z"
   },
   {
    "duration": 386,
    "start_time": "2022-04-25T16:13:28.977Z"
   },
   {
    "duration": 778,
    "start_time": "2022-04-25T16:15:23.822Z"
   },
   {
    "duration": 472,
    "start_time": "2022-04-25T16:15:59.942Z"
   },
   {
    "duration": 1405,
    "start_time": "2022-04-25T17:19:46.579Z"
   },
   {
    "duration": 50,
    "start_time": "2022-04-25T17:19:47.986Z"
   },
   {
    "duration": 49,
    "start_time": "2022-04-25T17:19:48.038Z"
   },
   {
    "duration": 38,
    "start_time": "2022-04-25T17:19:48.091Z"
   },
   {
    "duration": 24,
    "start_time": "2022-04-25T17:19:48.131Z"
   },
   {
    "duration": 16,
    "start_time": "2022-04-25T17:19:48.157Z"
   },
   {
    "duration": 7,
    "start_time": "2022-04-25T17:19:48.175Z"
   },
   {
    "duration": 48,
    "start_time": "2022-04-25T17:19:48.184Z"
   },
   {
    "duration": 6,
    "start_time": "2022-04-25T17:19:48.235Z"
   },
   {
    "duration": 16,
    "start_time": "2022-04-25T17:19:48.243Z"
   },
   {
    "duration": 115,
    "start_time": "2022-04-25T17:19:48.261Z"
   },
   {
    "duration": 15,
    "start_time": "2022-04-25T17:19:48.378Z"
   },
   {
    "duration": 6,
    "start_time": "2022-04-25T17:19:48.396Z"
   },
   {
    "duration": 28,
    "start_time": "2022-04-25T17:19:48.404Z"
   },
   {
    "duration": 17,
    "start_time": "2022-04-25T17:19:48.434Z"
   },
   {
    "duration": 9,
    "start_time": "2022-04-25T17:19:48.453Z"
   },
   {
    "duration": 8,
    "start_time": "2022-04-25T17:19:48.464Z"
   },
   {
    "duration": 9,
    "start_time": "2022-04-25T17:19:48.474Z"
   },
   {
    "duration": 5,
    "start_time": "2022-04-25T17:19:48.485Z"
   },
   {
    "duration": 38,
    "start_time": "2022-04-25T17:19:48.492Z"
   },
   {
    "duration": 31,
    "start_time": "2022-04-25T17:19:48.533Z"
   },
   {
    "duration": 8,
    "start_time": "2022-04-25T17:19:48.566Z"
   },
   {
    "duration": 10,
    "start_time": "2022-04-25T17:19:48.576Z"
   },
   {
    "duration": 9,
    "start_time": "2022-04-25T17:19:48.588Z"
   },
   {
    "duration": 6,
    "start_time": "2022-04-25T17:19:48.599Z"
   },
   {
    "duration": 44,
    "start_time": "2022-04-25T17:19:48.607Z"
   },
   {
    "duration": 7,
    "start_time": "2022-04-25T17:19:48.654Z"
   },
   {
    "duration": 43,
    "start_time": "2022-04-25T17:19:48.663Z"
   },
   {
    "duration": 8,
    "start_time": "2022-04-25T17:19:48.709Z"
   },
   {
    "duration": 37,
    "start_time": "2022-04-25T17:19:48.719Z"
   },
   {
    "duration": 7,
    "start_time": "2022-04-25T17:19:48.758Z"
   },
   {
    "duration": 15,
    "start_time": "2022-04-25T17:19:48.767Z"
   },
   {
    "duration": 5,
    "start_time": "2022-04-25T17:19:48.784Z"
   },
   {
    "duration": 13,
    "start_time": "2022-04-25T17:19:48.791Z"
   },
   {
    "duration": 68,
    "start_time": "2022-04-25T17:19:48.806Z"
   },
   {
    "duration": 6,
    "start_time": "2022-04-25T17:19:48.876Z"
   },
   {
    "duration": 12,
    "start_time": "2022-04-25T17:19:48.884Z"
   },
   {
    "duration": 47,
    "start_time": "2022-04-25T17:19:48.898Z"
   },
   {
    "duration": 18,
    "start_time": "2022-04-25T17:19:48.947Z"
   },
   {
    "duration": 417,
    "start_time": "2022-04-25T17:19:48.969Z"
   },
   {
    "duration": 454,
    "start_time": "2022-04-25T17:19:49.388Z"
   },
   {
    "duration": 16,
    "start_time": "2022-04-25T17:19:49.844Z"
   },
   {
    "duration": 4814,
    "start_time": "2022-04-25T17:19:49.862Z"
   },
   {
    "duration": 32,
    "start_time": "2022-04-25T17:20:01.228Z"
   },
   {
    "duration": 154,
    "start_time": "2022-04-25T17:20:03.836Z"
   },
   {
    "duration": 5,
    "start_time": "2022-04-25T17:20:18.818Z"
   },
   {
    "duration": 40,
    "start_time": "2022-04-25T17:20:36.245Z"
   },
   {
    "duration": 722,
    "start_time": "2022-04-25T17:21:09.567Z"
   },
   {
    "duration": 448,
    "start_time": "2022-04-25T17:21:36.188Z"
   },
   {
    "duration": 21,
    "start_time": "2022-04-25T17:22:25.180Z"
   },
   {
    "duration": 774,
    "start_time": "2022-04-25T17:22:28.763Z"
   },
   {
    "duration": 12,
    "start_time": "2022-04-25T17:24:03.604Z"
   },
   {
    "duration": 101,
    "start_time": "2022-04-25T17:24:04.547Z"
   },
   {
    "duration": 3431,
    "start_time": "2022-04-25T17:24:09.472Z"
   },
   {
    "duration": 9,
    "start_time": "2022-04-25T17:25:12.581Z"
   },
   {
    "duration": 299,
    "start_time": "2022-04-25T17:25:17.558Z"
   },
   {
    "duration": 304,
    "start_time": "2022-04-25T17:25:59.752Z"
   },
   {
    "duration": 434,
    "start_time": "2022-04-25T17:26:50.239Z"
   },
   {
    "duration": 519,
    "start_time": "2022-04-25T17:27:14.210Z"
   },
   {
    "duration": 473,
    "start_time": "2022-04-25T17:27:59.034Z"
   },
   {
    "duration": 6,
    "start_time": "2022-04-25T17:28:52.911Z"
   },
   {
    "duration": 9,
    "start_time": "2022-04-25T17:29:25.478Z"
   },
   {
    "duration": 19,
    "start_time": "2022-04-25T17:29:42.023Z"
   },
   {
    "duration": 7,
    "start_time": "2022-04-25T17:29:56.788Z"
   },
   {
    "duration": 5,
    "start_time": "2022-04-25T17:30:01.491Z"
   },
   {
    "duration": 754,
    "start_time": "2022-04-25T17:31:56.411Z"
   },
   {
    "duration": 338,
    "start_time": "2022-04-25T17:32:04.944Z"
   },
   {
    "duration": 631,
    "start_time": "2022-04-25T17:36:19.529Z"
   },
   {
    "duration": 357,
    "start_time": "2022-04-25T17:37:55.574Z"
   },
   {
    "duration": 536,
    "start_time": "2022-04-25T17:38:01.043Z"
   },
   {
    "duration": 486,
    "start_time": "2022-04-25T17:38:16.437Z"
   },
   {
    "duration": 473,
    "start_time": "2022-04-25T17:38:26.145Z"
   },
   {
    "duration": 615,
    "start_time": "2022-04-25T17:38:51.960Z"
   },
   {
    "duration": 465,
    "start_time": "2022-04-25T17:39:10.393Z"
   },
   {
    "duration": 439,
    "start_time": "2022-04-25T17:39:27.171Z"
   },
   {
    "duration": 625,
    "start_time": "2022-04-25T17:39:41.391Z"
   },
   {
    "duration": 160,
    "start_time": "2022-04-25T17:43:48.349Z"
   },
   {
    "duration": 519,
    "start_time": "2022-04-25T17:44:02.649Z"
   },
   {
    "duration": 477,
    "start_time": "2022-04-25T17:44:49.717Z"
   },
   {
    "duration": 15,
    "start_time": "2022-04-25T17:47:24.114Z"
   },
   {
    "duration": 12,
    "start_time": "2022-04-25T17:47:29.283Z"
   },
   {
    "duration": 11,
    "start_time": "2022-04-25T17:50:18.933Z"
   },
   {
    "duration": 450,
    "start_time": "2022-04-25T17:50:22.695Z"
   },
   {
    "duration": 331,
    "start_time": "2022-04-25T18:07:48.761Z"
   },
   {
    "duration": 393,
    "start_time": "2022-04-25T18:13:42.210Z"
   },
   {
    "duration": 12,
    "start_time": "2022-04-25T18:28:00.299Z"
   },
   {
    "duration": 9,
    "start_time": "2022-04-25T18:28:02.648Z"
   },
   {
    "duration": 8,
    "start_time": "2022-04-25T18:28:11.754Z"
   },
   {
    "duration": 4,
    "start_time": "2022-04-25T18:28:19.077Z"
   },
   {
    "duration": 12,
    "start_time": "2022-04-25T18:28:40.483Z"
   },
   {
    "duration": 14,
    "start_time": "2022-04-25T18:30:04.183Z"
   },
   {
    "duration": 20,
    "start_time": "2022-04-25T18:30:12.125Z"
   },
   {
    "duration": 12,
    "start_time": "2022-04-25T18:30:35.467Z"
   },
   {
    "duration": 4,
    "start_time": "2022-04-25T18:30:39.245Z"
   },
   {
    "duration": 5,
    "start_time": "2022-04-25T18:31:59.499Z"
   },
   {
    "duration": 6,
    "start_time": "2022-04-25T18:32:42.077Z"
   },
   {
    "duration": 5,
    "start_time": "2022-04-25T18:33:15.035Z"
   },
   {
    "duration": 6,
    "start_time": "2022-04-25T18:36:16.246Z"
   },
   {
    "duration": 5,
    "start_time": "2022-04-25T18:36:25.169Z"
   },
   {
    "duration": 473,
    "start_time": "2022-04-25T18:51:04.723Z"
   },
   {
    "duration": 471,
    "start_time": "2022-04-25T18:51:26.154Z"
   },
   {
    "duration": 1312,
    "start_time": "2022-04-25T18:55:24.957Z"
   },
   {
    "duration": 39,
    "start_time": "2022-04-25T18:55:26.270Z"
   },
   {
    "duration": 50,
    "start_time": "2022-04-25T18:55:26.311Z"
   },
   {
    "duration": 15,
    "start_time": "2022-04-25T18:55:26.364Z"
   },
   {
    "duration": 19,
    "start_time": "2022-04-25T18:55:26.381Z"
   },
   {
    "duration": 27,
    "start_time": "2022-04-25T18:55:26.402Z"
   },
   {
    "duration": 7,
    "start_time": "2022-04-25T18:55:26.433Z"
   },
   {
    "duration": 28,
    "start_time": "2022-04-25T18:55:26.442Z"
   },
   {
    "duration": 4,
    "start_time": "2022-04-25T18:55:26.472Z"
   },
   {
    "duration": 7,
    "start_time": "2022-04-25T18:55:26.479Z"
   },
   {
    "duration": 61,
    "start_time": "2022-04-25T18:55:26.487Z"
   },
   {
    "duration": 15,
    "start_time": "2022-04-25T18:55:26.550Z"
   },
   {
    "duration": 14,
    "start_time": "2022-04-25T18:55:26.567Z"
   },
   {
    "duration": 18,
    "start_time": "2022-04-25T18:55:26.582Z"
   },
   {
    "duration": 14,
    "start_time": "2022-04-25T18:55:26.601Z"
   },
   {
    "duration": 23,
    "start_time": "2022-04-25T18:55:26.617Z"
   },
   {
    "duration": 31,
    "start_time": "2022-04-25T18:55:26.641Z"
   },
   {
    "duration": 9,
    "start_time": "2022-04-25T18:55:26.673Z"
   },
   {
    "duration": 14,
    "start_time": "2022-04-25T18:55:26.683Z"
   },
   {
    "duration": 8,
    "start_time": "2022-04-25T18:55:26.699Z"
   },
   {
    "duration": 12,
    "start_time": "2022-04-25T18:55:26.709Z"
   },
   {
    "duration": 13,
    "start_time": "2022-04-25T18:55:26.723Z"
   },
   {
    "duration": 9,
    "start_time": "2022-04-25T18:55:26.737Z"
   },
   {
    "duration": 22,
    "start_time": "2022-04-25T18:55:26.748Z"
   },
   {
    "duration": 7,
    "start_time": "2022-04-25T18:55:26.771Z"
   },
   {
    "duration": 20,
    "start_time": "2022-04-25T18:55:26.780Z"
   },
   {
    "duration": 5,
    "start_time": "2022-04-25T18:55:26.802Z"
   },
   {
    "duration": 38,
    "start_time": "2022-04-25T18:55:26.811Z"
   },
   {
    "duration": 7,
    "start_time": "2022-04-25T18:55:26.851Z"
   },
   {
    "duration": 19,
    "start_time": "2022-04-25T18:55:26.859Z"
   },
   {
    "duration": 8,
    "start_time": "2022-04-25T18:55:26.880Z"
   },
   {
    "duration": 19,
    "start_time": "2022-04-25T18:55:26.890Z"
   },
   {
    "duration": 18,
    "start_time": "2022-04-25T18:55:26.911Z"
   },
   {
    "duration": 16,
    "start_time": "2022-04-25T18:55:26.933Z"
   },
   {
    "duration": 39,
    "start_time": "2022-04-25T18:55:26.953Z"
   },
   {
    "duration": 7,
    "start_time": "2022-04-25T18:55:26.993Z"
   },
   {
    "duration": 11,
    "start_time": "2022-04-25T18:55:27.002Z"
   },
   {
    "duration": 23,
    "start_time": "2022-04-25T18:55:27.015Z"
   },
   {
    "duration": 22,
    "start_time": "2022-04-25T18:55:27.040Z"
   },
   {
    "duration": 343,
    "start_time": "2022-04-25T18:55:27.065Z"
   },
   {
    "duration": 302,
    "start_time": "2022-04-25T18:55:27.409Z"
   },
   {
    "duration": 7,
    "start_time": "2022-04-25T18:55:27.712Z"
   },
   {
    "duration": 3257,
    "start_time": "2022-04-25T18:55:27.720Z"
   },
   {
    "duration": 23,
    "start_time": "2022-04-25T18:55:30.979Z"
   },
   {
    "duration": 4,
    "start_time": "2022-04-25T18:55:31.004Z"
   },
   {
    "duration": 85,
    "start_time": "2022-04-25T18:55:31.028Z"
   },
   {
    "duration": 524,
    "start_time": "2022-04-25T18:55:31.114Z"
   },
   {
    "duration": 30,
    "start_time": "2022-04-25T18:55:31.639Z"
   },
   {
    "duration": 348,
    "start_time": "2022-04-25T18:55:31.672Z"
   },
   {
    "duration": 11,
    "start_time": "2022-04-25T18:55:32.023Z"
   },
   {
    "duration": 97,
    "start_time": "2022-04-25T18:55:32.036Z"
   },
   {
    "duration": 2743,
    "start_time": "2022-04-25T18:55:32.135Z"
   },
   {
    "duration": 9,
    "start_time": "2022-04-25T18:55:34.880Z"
   },
   {
    "duration": 521,
    "start_time": "2022-04-25T18:55:34.891Z"
   },
   {
    "duration": 9,
    "start_time": "2022-04-25T18:55:35.414Z"
   },
   {
    "duration": 470,
    "start_time": "2022-04-25T18:55:35.425Z"
   },
   {
    "duration": 447,
    "start_time": "2022-04-25T18:55:35.897Z"
   },
   {
    "duration": 388,
    "start_time": "2022-04-25T18:55:36.347Z"
   },
   {
    "duration": 18,
    "start_time": "2022-04-25T18:55:36.739Z"
   },
   {
    "duration": 14,
    "start_time": "2022-04-25T18:55:36.758Z"
   },
   {
    "duration": 8,
    "start_time": "2022-04-25T18:55:36.774Z"
   },
   {
    "duration": 7,
    "start_time": "2022-04-25T18:55:36.784Z"
   },
   {
    "duration": 13,
    "start_time": "2022-04-25T18:55:36.793Z"
   },
   {
    "duration": 18,
    "start_time": "2022-04-25T18:55:36.807Z"
   },
   {
    "duration": 7,
    "start_time": "2022-04-25T18:55:36.834Z"
   },
   {
    "duration": 25,
    "start_time": "2022-04-25T18:55:36.843Z"
   },
   {
    "duration": 19,
    "start_time": "2022-04-25T19:09:14.658Z"
   },
   {
    "duration": 2471,
    "start_time": "2022-04-25T19:12:03.088Z"
   },
   {
    "duration": 5,
    "start_time": "2022-04-25T19:13:36.265Z"
   },
   {
    "duration": 18,
    "start_time": "2022-04-25T19:13:41.711Z"
   },
   {
    "duration": 16,
    "start_time": "2022-04-25T19:13:57.663Z"
   },
   {
    "duration": 1186,
    "start_time": "2022-04-25T19:14:31.433Z"
   },
   {
    "duration": 58,
    "start_time": "2022-04-25T19:14:32.621Z"
   },
   {
    "duration": 34,
    "start_time": "2022-04-25T19:14:32.681Z"
   },
   {
    "duration": 19,
    "start_time": "2022-04-25T19:14:32.717Z"
   },
   {
    "duration": 26,
    "start_time": "2022-04-25T19:14:32.740Z"
   },
   {
    "duration": 10,
    "start_time": "2022-04-25T19:14:32.768Z"
   },
   {
    "duration": 5,
    "start_time": "2022-04-25T19:14:32.779Z"
   },
   {
    "duration": 8,
    "start_time": "2022-04-25T19:14:32.786Z"
   },
   {
    "duration": 4,
    "start_time": "2022-04-25T19:14:32.795Z"
   },
   {
    "duration": 25,
    "start_time": "2022-04-25T19:14:32.801Z"
   },
   {
    "duration": 62,
    "start_time": "2022-04-25T19:14:32.827Z"
   },
   {
    "duration": 12,
    "start_time": "2022-04-25T19:14:32.891Z"
   },
   {
    "duration": 4,
    "start_time": "2022-04-25T19:14:32.904Z"
   },
   {
    "duration": 19,
    "start_time": "2022-04-25T19:14:32.924Z"
   },
   {
    "duration": 16,
    "start_time": "2022-04-25T19:14:32.945Z"
   },
   {
    "duration": 8,
    "start_time": "2022-04-25T19:14:32.963Z"
   },
   {
    "duration": 9,
    "start_time": "2022-04-25T19:14:32.973Z"
   },
   {
    "duration": 8,
    "start_time": "2022-04-25T19:14:32.984Z"
   },
   {
    "duration": 5,
    "start_time": "2022-04-25T19:14:32.994Z"
   },
   {
    "duration": 12,
    "start_time": "2022-04-25T19:14:33.024Z"
   },
   {
    "duration": 30,
    "start_time": "2022-04-25T19:14:33.038Z"
   },
   {
    "duration": 8,
    "start_time": "2022-04-25T19:14:33.069Z"
   },
   {
    "duration": 8,
    "start_time": "2022-04-25T19:14:33.079Z"
   },
   {
    "duration": 9,
    "start_time": "2022-04-25T19:14:33.089Z"
   },
   {
    "duration": 5,
    "start_time": "2022-04-25T19:14:33.100Z"
   },
   {
    "duration": 21,
    "start_time": "2022-04-25T19:14:33.107Z"
   },
   {
    "duration": 8,
    "start_time": "2022-04-25T19:14:33.130Z"
   },
   {
    "duration": 37,
    "start_time": "2022-04-25T19:14:33.142Z"
   },
   {
    "duration": 6,
    "start_time": "2022-04-25T19:14:33.181Z"
   },
   {
    "duration": 13,
    "start_time": "2022-04-25T19:14:33.189Z"
   },
   {
    "duration": 29,
    "start_time": "2022-04-25T19:14:33.203Z"
   },
   {
    "duration": 19,
    "start_time": "2022-04-25T19:14:33.236Z"
   },
   {
    "duration": 5,
    "start_time": "2022-04-25T19:14:33.257Z"
   },
   {
    "duration": 8,
    "start_time": "2022-04-25T19:14:33.264Z"
   },
   {
    "duration": 29,
    "start_time": "2022-04-25T19:14:33.273Z"
   },
   {
    "duration": 25,
    "start_time": "2022-04-25T19:14:33.304Z"
   },
   {
    "duration": 19,
    "start_time": "2022-04-25T19:14:33.333Z"
   },
   {
    "duration": 19,
    "start_time": "2022-04-25T19:14:33.353Z"
   },
   {
    "duration": 16,
    "start_time": "2022-04-25T19:14:33.373Z"
   },
   {
    "duration": 366,
    "start_time": "2022-04-25T19:14:33.391Z"
   },
   {
    "duration": 305,
    "start_time": "2022-04-25T19:14:33.758Z"
   },
   {
    "duration": 8,
    "start_time": "2022-04-25T19:14:34.064Z"
   },
   {
    "duration": 3099,
    "start_time": "2022-04-25T19:14:34.073Z"
   },
   {
    "duration": 17,
    "start_time": "2022-04-25T19:14:39.369Z"
   },
   {
    "duration": 136,
    "start_time": "2022-04-25T19:20:15.684Z"
   },
   {
    "duration": 17,
    "start_time": "2022-04-25T19:20:22.087Z"
   },
   {
    "duration": 15,
    "start_time": "2022-04-25T19:20:58.089Z"
   },
   {
    "duration": 24,
    "start_time": "2022-04-25T19:22:34.823Z"
   },
   {
    "duration": 28,
    "start_time": "2022-04-25T19:23:16.919Z"
   },
   {
    "duration": 1163,
    "start_time": "2022-04-25T19:23:38.054Z"
   },
   {
    "duration": 65,
    "start_time": "2022-04-25T19:23:39.219Z"
   },
   {
    "duration": 32,
    "start_time": "2022-04-25T19:23:39.285Z"
   },
   {
    "duration": 18,
    "start_time": "2022-04-25T19:23:39.319Z"
   },
   {
    "duration": 30,
    "start_time": "2022-04-25T19:23:39.339Z"
   },
   {
    "duration": 10,
    "start_time": "2022-04-25T19:23:39.371Z"
   },
   {
    "duration": 8,
    "start_time": "2022-04-25T19:23:39.382Z"
   },
   {
    "duration": 8,
    "start_time": "2022-04-25T19:23:39.391Z"
   },
   {
    "duration": 4,
    "start_time": "2022-04-25T19:23:39.400Z"
   },
   {
    "duration": 12,
    "start_time": "2022-04-25T19:23:39.431Z"
   },
   {
    "duration": 50,
    "start_time": "2022-04-25T19:23:39.448Z"
   },
   {
    "duration": 13,
    "start_time": "2022-04-25T19:23:39.500Z"
   },
   {
    "duration": 29,
    "start_time": "2022-04-25T19:23:39.523Z"
   },
   {
    "duration": 9,
    "start_time": "2022-04-25T19:23:39.554Z"
   },
   {
    "duration": 8,
    "start_time": "2022-04-25T19:23:39.565Z"
   },
   {
    "duration": 7,
    "start_time": "2022-04-25T19:23:39.575Z"
   },
   {
    "duration": 7,
    "start_time": "2022-04-25T19:23:39.583Z"
   },
   {
    "duration": 6,
    "start_time": "2022-04-25T19:23:39.592Z"
   },
   {
    "duration": 26,
    "start_time": "2022-04-25T19:23:39.600Z"
   },
   {
    "duration": 6,
    "start_time": "2022-04-25T19:23:39.627Z"
   },
   {
    "duration": 32,
    "start_time": "2022-04-25T19:23:39.634Z"
   },
   {
    "duration": 8,
    "start_time": "2022-04-25T19:23:39.667Z"
   },
   {
    "duration": 11,
    "start_time": "2022-04-25T19:23:39.677Z"
   },
   {
    "duration": 10,
    "start_time": "2022-04-25T19:23:39.689Z"
   },
   {
    "duration": 6,
    "start_time": "2022-04-25T19:23:39.701Z"
   },
   {
    "duration": 30,
    "start_time": "2022-04-25T19:23:39.708Z"
   },
   {
    "duration": 9,
    "start_time": "2022-04-25T19:23:39.740Z"
   },
   {
    "duration": 25,
    "start_time": "2022-04-25T19:23:39.753Z"
   },
   {
    "duration": 6,
    "start_time": "2022-04-25T19:23:39.779Z"
   },
   {
    "duration": 14,
    "start_time": "2022-04-25T19:23:39.786Z"
   },
   {
    "duration": 29,
    "start_time": "2022-04-25T19:23:39.801Z"
   },
   {
    "duration": 21,
    "start_time": "2022-04-25T19:23:39.834Z"
   },
   {
    "duration": 7,
    "start_time": "2022-04-25T19:23:39.857Z"
   },
   {
    "duration": 10,
    "start_time": "2022-04-25T19:23:39.866Z"
   },
   {
    "duration": 28,
    "start_time": "2022-04-25T19:23:39.878Z"
   },
   {
    "duration": 8,
    "start_time": "2022-04-25T19:23:39.925Z"
   },
   {
    "duration": 29,
    "start_time": "2022-04-25T19:23:39.934Z"
   },
   {
    "duration": 15,
    "start_time": "2022-04-25T19:23:39.965Z"
   },
   {
    "duration": 15,
    "start_time": "2022-04-25T19:23:39.981Z"
   },
   {
    "duration": 349,
    "start_time": "2022-04-25T19:23:39.998Z"
   },
   {
    "duration": 301,
    "start_time": "2022-04-25T19:23:40.349Z"
   },
   {
    "duration": 6,
    "start_time": "2022-04-25T19:23:40.652Z"
   },
   {
    "duration": 3020,
    "start_time": "2022-04-25T19:23:40.660Z"
   },
   {
    "duration": 19,
    "start_time": "2022-04-25T19:23:47.140Z"
   },
   {
    "duration": 26,
    "start_time": "2022-04-25T19:26:51.881Z"
   },
   {
    "duration": 6,
    "start_time": "2022-04-25T19:27:01.545Z"
   },
   {
    "duration": 1363,
    "start_time": "2022-04-25T19:27:30.311Z"
   },
   {
    "duration": 38,
    "start_time": "2022-04-25T19:27:31.677Z"
   },
   {
    "duration": 69,
    "start_time": "2022-04-25T19:27:31.717Z"
   },
   {
    "duration": 22,
    "start_time": "2022-04-25T19:27:31.790Z"
   },
   {
    "duration": 58,
    "start_time": "2022-04-25T19:27:31.813Z"
   },
   {
    "duration": 10,
    "start_time": "2022-04-25T19:27:31.874Z"
   },
   {
    "duration": 6,
    "start_time": "2022-04-25T19:27:31.885Z"
   },
   {
    "duration": 9,
    "start_time": "2022-04-25T19:27:31.893Z"
   },
   {
    "duration": 4,
    "start_time": "2022-04-25T19:27:31.903Z"
   },
   {
    "duration": 18,
    "start_time": "2022-04-25T19:27:31.910Z"
   },
   {
    "duration": 86,
    "start_time": "2022-04-25T19:27:31.936Z"
   },
   {
    "duration": 35,
    "start_time": "2022-04-25T19:27:32.024Z"
   },
   {
    "duration": 8,
    "start_time": "2022-04-25T19:27:32.065Z"
   },
   {
    "duration": 9,
    "start_time": "2022-04-25T19:27:32.075Z"
   },
   {
    "duration": 12,
    "start_time": "2022-04-25T19:27:32.086Z"
   },
   {
    "duration": 28,
    "start_time": "2022-04-25T19:27:32.101Z"
   },
   {
    "duration": 23,
    "start_time": "2022-04-25T19:27:32.135Z"
   },
   {
    "duration": 14,
    "start_time": "2022-04-25T19:27:32.160Z"
   },
   {
    "duration": 7,
    "start_time": "2022-04-25T19:27:32.176Z"
   },
   {
    "duration": 8,
    "start_time": "2022-04-25T19:27:32.185Z"
   },
   {
    "duration": 23,
    "start_time": "2022-04-25T19:27:32.194Z"
   },
   {
    "duration": 23,
    "start_time": "2022-04-25T19:27:32.219Z"
   },
   {
    "duration": 30,
    "start_time": "2022-04-25T19:27:32.246Z"
   },
   {
    "duration": 19,
    "start_time": "2022-04-25T19:27:32.279Z"
   },
   {
    "duration": 11,
    "start_time": "2022-04-25T19:27:32.301Z"
   },
   {
    "duration": 21,
    "start_time": "2022-04-25T19:27:32.314Z"
   },
   {
    "duration": 7,
    "start_time": "2022-04-25T19:27:32.337Z"
   },
   {
    "duration": 42,
    "start_time": "2022-04-25T19:27:32.351Z"
   },
   {
    "duration": 7,
    "start_time": "2022-04-25T19:27:32.394Z"
   },
   {
    "duration": 15,
    "start_time": "2022-04-25T19:27:32.403Z"
   },
   {
    "duration": 27,
    "start_time": "2022-04-25T19:27:32.420Z"
   },
   {
    "duration": 33,
    "start_time": "2022-04-25T19:27:32.448Z"
   },
   {
    "duration": 7,
    "start_time": "2022-04-25T19:27:32.483Z"
   },
   {
    "duration": 8,
    "start_time": "2022-04-25T19:27:32.492Z"
   },
   {
    "duration": 38,
    "start_time": "2022-04-25T19:27:32.501Z"
   },
   {
    "duration": 13,
    "start_time": "2022-04-25T19:27:32.543Z"
   },
   {
    "duration": 26,
    "start_time": "2022-04-25T19:27:32.557Z"
   },
   {
    "duration": 15,
    "start_time": "2022-04-25T19:27:32.585Z"
   },
   {
    "duration": 18,
    "start_time": "2022-04-25T19:27:32.602Z"
   },
   {
    "duration": 359,
    "start_time": "2022-04-25T19:27:32.624Z"
   },
   {
    "duration": 325,
    "start_time": "2022-04-25T19:27:32.984Z"
   },
   {
    "duration": 19,
    "start_time": "2022-04-25T19:27:33.310Z"
   },
   {
    "duration": 2989,
    "start_time": "2022-04-25T19:27:33.332Z"
   },
   {
    "duration": 23,
    "start_time": "2022-04-25T19:27:36.324Z"
   },
   {
    "duration": 19,
    "start_time": "2022-04-25T19:27:36.349Z"
   },
   {
    "duration": 37,
    "start_time": "2022-04-25T19:27:36.370Z"
   },
   {
    "duration": 480,
    "start_time": "2022-04-25T19:27:36.408Z"
   },
   {
    "duration": 22,
    "start_time": "2022-04-25T19:27:36.890Z"
   },
   {
    "duration": 304,
    "start_time": "2022-04-25T19:27:36.914Z"
   },
   {
    "duration": 12,
    "start_time": "2022-04-25T19:27:37.224Z"
   },
   {
    "duration": 119,
    "start_time": "2022-04-25T19:27:37.238Z"
   },
   {
    "duration": 2966,
    "start_time": "2022-04-25T19:27:37.359Z"
   },
   {
    "duration": 11,
    "start_time": "2022-04-25T19:27:40.328Z"
   },
   {
    "duration": 475,
    "start_time": "2022-04-25T19:27:40.340Z"
   },
   {
    "duration": 14,
    "start_time": "2022-04-25T19:27:40.817Z"
   },
   {
    "duration": 343,
    "start_time": "2022-04-25T19:27:40.833Z"
   },
   {
    "duration": 350,
    "start_time": "2022-04-25T19:27:41.178Z"
   },
   {
    "duration": 395,
    "start_time": "2022-04-25T19:27:41.530Z"
   },
   {
    "duration": 16,
    "start_time": "2022-04-25T19:27:41.927Z"
   },
   {
    "duration": 17,
    "start_time": "2022-04-25T19:27:41.947Z"
   },
   {
    "duration": 9,
    "start_time": "2022-04-25T19:27:41.966Z"
   },
   {
    "duration": 5,
    "start_time": "2022-04-25T19:27:41.976Z"
   },
   {
    "duration": 17,
    "start_time": "2022-04-25T19:27:41.983Z"
   },
   {
    "duration": 4,
    "start_time": "2022-04-25T19:27:42.002Z"
   },
   {
    "duration": 7,
    "start_time": "2022-04-25T19:27:42.027Z"
   },
   {
    "duration": 27,
    "start_time": "2022-04-25T19:27:42.039Z"
   }
  ],
  "kernelspec": {
   "display_name": "Python 3.10.0 64-bit",
   "language": "python",
   "name": "python3"
  },
  "language_info": {
   "codemirror_mode": {
    "name": "ipython",
    "version": 3
   },
   "file_extension": ".py",
   "mimetype": "text/x-python",
   "name": "python",
   "nbconvert_exporter": "python",
   "pygments_lexer": "ipython3",
   "version": "3.10.0"
  },
  "toc": {
   "base_numbering": 1,
   "nav_menu": {},
   "number_sections": true,
   "sideBar": true,
   "skip_h1_title": true,
   "title_cell": "Содержание",
   "title_sidebar": "Contents",
   "toc_cell": true,
   "toc_position": {},
   "toc_section_display": true,
   "toc_window_display": true
  },
  "vscode": {
   "interpreter": {
    "hash": "b63e4dcd76b53c155ef467f71992817cbdca13e9b8ec3f87f3eed17c9b18e69f"
   }
  }
 },
 "nbformat": 4,
 "nbformat_minor": 5
}
